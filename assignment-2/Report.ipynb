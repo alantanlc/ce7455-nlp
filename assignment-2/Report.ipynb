{
  "nbformat": 4,
  "nbformat_minor": 0,
  "metadata": {
    "kernelspec": {
      "name": "python3",
      "display_name": "Python 3"
    },
    "language_info": {
      "codemirror_mode": {
        "name": "ipython",
        "version": 3
      },
      "file_extension": ".py",
      "mimetype": "text/x-python",
      "name": "python",
      "nbconvert_exporter": "python",
      "pygments_lexer": "ipython3",
      "version": "3.6.4"
    },
    "colab": {
      "name": "Report.ipynb",
      "provenance": [],
      "toc_visible": true,
      "include_colab_link": true
    },
    "accelerator": "GPU"
  },
  "cells": [
    {
      "cell_type": "markdown",
      "metadata": {
        "id": "view-in-github",
        "colab_type": "text"
      },
      "source": [
        "<a href=\"https://colab.research.google.com/github/alanwuha/ce7455-nlp/blob/master/assignment-2/Report.ipynb\" target=\"_parent\"><img src=\"https://colab.research.google.com/assets/colab-badge.svg\" alt=\"Open In Colab\"/></a>"
      ]
    },
    {
      "cell_type": "markdown",
      "metadata": {
        "id": "OXqQafCODRci",
        "colab_type": "text"
      },
      "source": [
        "# End-to-end Sequence Labeling via Bi-directional LSTM-CNNs-CRF"
      ]
    },
    {
      "cell_type": "markdown",
      "metadata": {
        "id": "MjTvcdvk2Z8B",
        "colab_type": "text"
      },
      "source": [
        "# SETUP"
      ]
    },
    {
      "cell_type": "markdown",
      "metadata": {
        "id": "Idveurx8wSYr",
        "colab_type": "text"
      },
      "source": [
        "#### Preprocessing"
      ]
    },
    {
      "cell_type": "markdown",
      "metadata": {
        "id": "KIwb3dguDZdj",
        "colab_type": "text"
      },
      "source": [
        "##### Download the dataset"
      ]
    },
    {
      "cell_type": "code",
      "metadata": {
        "id": "ENtmd7XpDb9M",
        "colab_type": "code",
        "colab": {
          "base_uri": "https://localhost:8080/",
          "height": 1000
        },
        "outputId": "394e6965-fab0-408c-fe8d-94db959b2bfc"
      },
      "source": [
        "!rm -rf data\n",
        "!mkdir data\n",
        "!wget -P ./data https://raw.githubusercontent.com/TheAnig/NER-LSTM-CNN-Pytorch/master/data/eng.testa\n",
        "!wget -P ./data https://raw.githubusercontent.com/TheAnig/NER-LSTM-CNN-Pytorch/master/data/eng.testb\n",
        "!wget -P ./data https://raw.githubusercontent.com/TheAnig/NER-LSTM-CNN-Pytorch/master/data/eng.train\n",
        "!wget -P ./data https://raw.githubusercontent.com/TheAnig/NER-LSTM-CNN-Pytorch/master/data/eng.train54019\n",
        "!wget -P ./data https://raw.githubusercontent.com/TheAnig/NER-LSTM-CNN-Pytorch/master/data/mapping.pkl\n",
        "!wget -P ./data http://nlp.stanford.edu/data/glove.6B.zip\n",
        "!unzip ./data/glove.6B.zip -d ./data"
      ],
      "execution_count": 1,
      "outputs": [
        {
          "output_type": "stream",
          "text": [
            "--2020-03-05 12:24:35--  https://raw.githubusercontent.com/TheAnig/NER-LSTM-CNN-Pytorch/master/data/eng.testa\n",
            "Resolving raw.githubusercontent.com (raw.githubusercontent.com)... 151.101.0.133, 151.101.64.133, 151.101.128.133, ...\n",
            "Connecting to raw.githubusercontent.com (raw.githubusercontent.com)|151.101.0.133|:443... connected.\n",
            "HTTP request sent, awaiting response... 200 OK\n",
            "Length: 827009 (808K) [text/plain]\n",
            "Saving to: ‘./data/eng.testa’\n",
            "\n",
            "\reng.testa             0%[                    ]       0  --.-KB/s               \reng.testa           100%[===================>] 807.63K  --.-KB/s    in 0.01s   \n",
            "\n",
            "2020-03-05 12:24:35 (79.4 MB/s) - ‘./data/eng.testa’ saved [827009/827009]\n",
            "\n",
            "--2020-03-05 12:24:40--  https://raw.githubusercontent.com/TheAnig/NER-LSTM-CNN-Pytorch/master/data/eng.testb\n",
            "Resolving raw.githubusercontent.com (raw.githubusercontent.com)... 151.101.0.133, 151.101.64.133, 151.101.128.133, ...\n",
            "Connecting to raw.githubusercontent.com (raw.githubusercontent.com)|151.101.0.133|:443... connected.\n",
            "HTTP request sent, awaiting response... 200 OK\n",
            "Length: 748094 (731K) [text/plain]\n",
            "Saving to: ‘./data/eng.testb’\n",
            "\n",
            "eng.testb           100%[===================>] 730.56K  --.-KB/s    in 0.006s  \n",
            "\n",
            "2020-03-05 12:24:41 (128 MB/s) - ‘./data/eng.testb’ saved [748094/748094]\n",
            "\n",
            "--2020-03-05 12:24:46--  https://raw.githubusercontent.com/TheAnig/NER-LSTM-CNN-Pytorch/master/data/eng.train\n",
            "Resolving raw.githubusercontent.com (raw.githubusercontent.com)... 151.101.0.133, 151.101.64.133, 151.101.128.133, ...\n",
            "Connecting to raw.githubusercontent.com (raw.githubusercontent.com)|151.101.0.133|:443... connected.\n",
            "HTTP request sent, awaiting response... 200 OK\n",
            "Length: 3281527 (3.1M) [text/plain]\n",
            "Saving to: ‘./data/eng.train’\n",
            "\n",
            "eng.train           100%[===================>]   3.13M  --.-KB/s    in 0.02s   \n",
            "\n",
            "2020-03-05 12:24:47 (145 MB/s) - ‘./data/eng.train’ saved [3281527/3281527]\n",
            "\n",
            "--2020-03-05 12:24:50--  https://raw.githubusercontent.com/TheAnig/NER-LSTM-CNN-Pytorch/master/data/eng.train54019\n",
            "Resolving raw.githubusercontent.com (raw.githubusercontent.com)... 151.101.0.133, 151.101.64.133, 151.101.128.133, ...\n",
            "Connecting to raw.githubusercontent.com (raw.githubusercontent.com)|151.101.0.133|:443... connected.\n",
            "HTTP request sent, awaiting response... 200 OK\n",
            "Length: 811103 (792K) [text/plain]\n",
            "Saving to: ‘./data/eng.train54019’\n",
            "\n",
            "eng.train54019      100%[===================>] 792.09K  --.-KB/s    in 0.005s  \n",
            "\n",
            "2020-03-05 12:24:50 (156 MB/s) - ‘./data/eng.train54019’ saved [811103/811103]\n",
            "\n",
            "--2020-03-05 12:24:56--  https://raw.githubusercontent.com/TheAnig/NER-LSTM-CNN-Pytorch/master/data/mapping.pkl\n",
            "Resolving raw.githubusercontent.com (raw.githubusercontent.com)... 151.101.0.133, 151.101.64.133, 151.101.128.133, ...\n",
            "Connecting to raw.githubusercontent.com (raw.githubusercontent.com)|151.101.0.133|:443... connected.\n",
            "HTTP request sent, awaiting response... 200 OK\n",
            "Length: 14350005 (14M) [application/octet-stream]\n",
            "Saving to: ‘./data/mapping.pkl’\n",
            "\n",
            "mapping.pkl         100%[===================>]  13.68M  --.-KB/s    in 0.05s   \n",
            "\n",
            "2020-03-05 12:24:57 (263 MB/s) - ‘./data/mapping.pkl’ saved [14350005/14350005]\n",
            "\n",
            "--2020-03-05 12:25:01--  http://nlp.stanford.edu/data/glove.6B.zip\n",
            "Resolving nlp.stanford.edu (nlp.stanford.edu)... 171.64.67.140\n",
            "Connecting to nlp.stanford.edu (nlp.stanford.edu)|171.64.67.140|:80... connected.\n",
            "HTTP request sent, awaiting response... 302 Found\n",
            "Location: https://nlp.stanford.edu/data/glove.6B.zip [following]\n",
            "--2020-03-05 12:25:01--  https://nlp.stanford.edu/data/glove.6B.zip\n",
            "Connecting to nlp.stanford.edu (nlp.stanford.edu)|171.64.67.140|:443... connected.\n",
            "HTTP request sent, awaiting response... 301 Moved Permanently\n",
            "Location: http://downloads.cs.stanford.edu/nlp/data/glove.6B.zip [following]\n",
            "--2020-03-05 12:25:01--  http://downloads.cs.stanford.edu/nlp/data/glove.6B.zip\n",
            "Resolving downloads.cs.stanford.edu (downloads.cs.stanford.edu)... 171.64.64.22\n",
            "Connecting to downloads.cs.stanford.edu (downloads.cs.stanford.edu)|171.64.64.22|:80... connected.\n",
            "HTTP request sent, awaiting response... 200 OK\n",
            "Length: 862182613 (822M) [application/zip]\n",
            "Saving to: ‘./data/glove.6B.zip’\n",
            "\n",
            "glove.6B.zip        100%[===================>] 822.24M  2.12MB/s    in 6m 26s  \n",
            "\n",
            "2020-03-05 12:31:27 (2.13 MB/s) - ‘./data/glove.6B.zip’ saved [862182613/862182613]\n",
            "\n",
            "Archive:  ./data/glove.6B.zip\n",
            "  inflating: ./data/glove.6B.50d.txt  \n",
            "  inflating: ./data/glove.6B.100d.txt  \n",
            "  inflating: ./data/glove.6B.200d.txt  \n",
            "  inflating: ./data/glove.6B.300d.txt  \n"
          ],
          "name": "stdout"
        }
      ]
    },
    {
      "cell_type": "markdown",
      "metadata": {
        "id": "-FAzYkTeDRcp",
        "colab_type": "text"
      },
      "source": [
        "##### Import libraries"
      ]
    },
    {
      "cell_type": "code",
      "metadata": {
        "id": "DvsjnCUXDRcq",
        "colab_type": "code",
        "colab": {}
      },
      "source": [
        "from __future__ import print_function\n",
        "from collections import OrderedDict\n",
        "\n",
        "import torch\n",
        "import torch.nn as nn\n",
        "from torch.nn import init\n",
        "from torch.autograd import Variable\n",
        "from torch import autograd\n",
        "\n",
        "import time\n",
        "import _pickle as cPickle\n",
        "\n",
        "import urllib\n",
        "import matplotlib.pyplot as plt\n",
        "plt.rcParams['figure.dpi'] = 80\n",
        "plt.style.use('seaborn-pastel')\n",
        "\n",
        "import os\n",
        "import sys\n",
        "import codecs\n",
        "import re\n",
        "import numpy as np"
      ],
      "execution_count": 0,
      "outputs": []
    },
    {
      "cell_type": "markdown",
      "metadata": {
        "id": "_ShM70qSDRcw",
        "colab_type": "text"
      },
      "source": [
        "##### Define constants and paramaters"
      ]
    },
    {
      "cell_type": "code",
      "metadata": {
        "id": "jX3Lzj52DRcz",
        "colab_type": "code",
        "colab": {}
      },
      "source": [
        "#parameters for the Model\n",
        "parameters = OrderedDict()\n",
        "parameters['train'] = \"./data/eng.train\" #Path to train file\n",
        "parameters['dev'] = \"./data/eng.testa\" #Path to test file\n",
        "parameters['test'] = \"./data/eng.testb\" #Path to dev file\n",
        "parameters['tag_scheme'] = \"BIOES\" #BIO or BIOES\n",
        "parameters['lower'] = True # Boolean variable to control lowercasing of words\n",
        "parameters['zeros'] =  True # Boolean variable to control replacement of  all digits by 0 \n",
        "parameters['char_dim'] = 30 #Char embedding dimension\n",
        "parameters['word_dim'] = 100 #Token embedding dimension\n",
        "parameters['word_lstm_dim'] = 200 #Token LSTM hidden layer size\n",
        "parameters['word_bidirect'] = True #Use a bidirectional LSTM for words\n",
        "parameters['embedding_path'] = \"./data/glove.6B.100d.txt\" #Location of pretrained embeddings\n",
        "parameters['all_emb'] = 1 #Load all embeddings\n",
        "parameters['crf'] =1 #Use CRF (0 to disable)\n",
        "parameters['dropout'] = 0.5 #Droupout on the input (0 = no dropout)\n",
        "parameters['epoch'] =  50 #Number of epochs to run\"\n",
        "parameters['weights'] = \"\" #path to Pretrained for from a previous run\n",
        "parameters['name'] = \"self-trained-model\" # Model name\n",
        "parameters['gradient_clip']=5.0\n",
        "parameters['char_mode']=\"CNN\"\n",
        "parameters['encoder_mode']=\"LSTM\"\n",
        "models_path = \"./models/\" #path to saved models\n",
        "\n",
        "#GPU\n",
        "parameters['use_gpu'] = torch.cuda.is_available() #GPU Check\n",
        "use_gpu = parameters['use_gpu']\n",
        "\n",
        "parameters['reload'] = \"./models/self-trained-model\"\n",
        "\n",
        "#Constants\n",
        "START_TAG = '<START>'\n",
        "STOP_TAG = '<STOP>'"
      ],
      "execution_count": 0,
      "outputs": []
    },
    {
      "cell_type": "code",
      "metadata": {
        "id": "xjXbeVgUDRc3",
        "colab_type": "code",
        "colab": {}
      },
      "source": [
        "#paths to files \n",
        "#To stored mapping file\n",
        "mapping_file = './data/mapping.pkl'\n",
        "\n",
        "#To stored model\n",
        "name = parameters['name']\n",
        "model_name = models_path + name #get_name(parameters)\n",
        "\n",
        "if not os.path.exists(models_path):\n",
        "    os.makedirs(models_path)"
      ],
      "execution_count": 0,
      "outputs": []
    },
    {
      "cell_type": "markdown",
      "metadata": {
        "id": "pmzPHax8DRc9",
        "colab_type": "text"
      },
      "source": [
        "##### Load data and preprocess"
      ]
    },
    {
      "cell_type": "code",
      "metadata": {
        "id": "2QHIsqGHDRdA",
        "colab_type": "code",
        "colab": {}
      },
      "source": [
        "def zero_digits(s):\n",
        "    \"\"\"\n",
        "    Replace every digit in a string by a zero.\n",
        "    \"\"\"\n",
        "    return re.sub('\\d', '0', s)\n",
        "\n",
        "def load_sentences(path, zeros):\n",
        "    \"\"\"\n",
        "    Load sentences. A line must contain at least a word and its tag.\n",
        "    Sentences are separated by empty lines.\n",
        "    \"\"\"\n",
        "    sentences = []\n",
        "    sentence = []\n",
        "    for line in codecs.open(path, 'r', 'utf8'):\n",
        "        line = zero_digits(line.rstrip()) if zeros else line.rstrip()\n",
        "        if not line:\n",
        "            if len(sentence) > 0:\n",
        "                if 'DOCSTART' not in sentence[0][0]:\n",
        "                    sentences.append(sentence)\n",
        "                sentence = []\n",
        "        else:\n",
        "            word = line.split()\n",
        "            assert len(word) >= 2\n",
        "            sentence.append(word)\n",
        "    if len(sentence) > 0:\n",
        "        if 'DOCSTART' not in sentence[0][0]:\n",
        "            sentences.append(sentence)\n",
        "    return sentences"
      ],
      "execution_count": 0,
      "outputs": []
    },
    {
      "cell_type": "code",
      "metadata": {
        "id": "iX_xQP2gDRdG",
        "colab_type": "code",
        "colab": {}
      },
      "source": [
        "train_sentences = load_sentences(parameters['train'], parameters['zeros'])\n",
        "test_sentences = load_sentences(parameters['test'], parameters['zeros'])\n",
        "dev_sentences = load_sentences(parameters['dev'], parameters['zeros'])"
      ],
      "execution_count": 0,
      "outputs": []
    },
    {
      "cell_type": "markdown",
      "metadata": {
        "id": "rt8ePV81DRdL",
        "colab_type": "text"
      },
      "source": [
        "##### Update tagging scheme"
      ]
    },
    {
      "cell_type": "code",
      "metadata": {
        "id": "JlyGxnArDRdN",
        "colab_type": "code",
        "colab": {}
      },
      "source": [
        "def iob2(tags):\n",
        "    \"\"\"\n",
        "    Check that tags have a valid BIO format.\n",
        "    Tags in BIO1 format are converted to BIO2.\n",
        "    \"\"\"\n",
        "    for i, tag in enumerate(tags):\n",
        "        if tag == 'O':\n",
        "            continue\n",
        "        split = tag.split('-')\n",
        "        if len(split) != 2 or split[0] not in ['I', 'B']:\n",
        "            return False\n",
        "        if split[0] == 'B':\n",
        "            continue\n",
        "        elif i == 0 or tags[i - 1] == 'O':  # conversion IOB1 to IOB2\n",
        "            tags[i] = 'B' + tag[1:]\n",
        "        elif tags[i - 1][1:] == tag[1:]:\n",
        "            continue\n",
        "        else:  # conversion IOB1 to IOB2\n",
        "            tags[i] = 'B' + tag[1:]\n",
        "    return True\n",
        "\n",
        "def iob_iobes(tags):\n",
        "    \"\"\"\n",
        "    the function is used to convert\n",
        "    BIO -> BIOES tagging\n",
        "    \"\"\"\n",
        "    new_tags = []\n",
        "    for i, tag in enumerate(tags):\n",
        "        if tag == 'O':\n",
        "            new_tags.append(tag)\n",
        "        elif tag.split('-')[0] == 'B':\n",
        "            if i + 1 != len(tags) and \\\n",
        "               tags[i + 1].split('-')[0] == 'I':\n",
        "                new_tags.append(tag)\n",
        "            else:\n",
        "                new_tags.append(tag.replace('B-', 'S-'))\n",
        "        elif tag.split('-')[0] == 'I':\n",
        "            if i + 1 < len(tags) and \\\n",
        "                    tags[i + 1].split('-')[0] == 'I':\n",
        "                new_tags.append(tag)\n",
        "            else:\n",
        "                new_tags.append(tag.replace('I-', 'E-'))\n",
        "        else:\n",
        "            raise Exception('Invalid IOB format!')\n",
        "    return new_tags\n",
        "\n",
        "def update_tag_scheme(sentences, tag_scheme):\n",
        "    \"\"\"\n",
        "    Check and update sentences tagging scheme to BIO2\n",
        "    Only BIO1 and BIO2 schemes are accepted for input data.\n",
        "    \"\"\"\n",
        "    for i, s in enumerate(sentences):\n",
        "        tags = [w[-1] for w in s]\n",
        "        # Check that tags are given in the BIO format\n",
        "        if not iob2(tags):\n",
        "            s_str = '\\n'.join(' '.join(w) for w in s)\n",
        "            raise Exception('Sentences should be given in BIO format! ' +\n",
        "                            'Please check sentence %i:\\n%s' % (i, s_str))\n",
        "        if tag_scheme == 'BIOES':\n",
        "            new_tags = iob_iobes(tags)\n",
        "            for word, new_tag in zip(s, new_tags):\n",
        "                word[-1] = new_tag\n",
        "        else:\n",
        "            raise Exception('Wrong tagging scheme!')"
      ],
      "execution_count": 0,
      "outputs": []
    },
    {
      "cell_type": "code",
      "metadata": {
        "id": "Q43y6fdpDRdS",
        "colab_type": "code",
        "colab": {}
      },
      "source": [
        "update_tag_scheme(train_sentences, parameters['tag_scheme'])\n",
        "update_tag_scheme(dev_sentences, parameters['tag_scheme'])\n",
        "update_tag_scheme(test_sentences, parameters['tag_scheme'])"
      ],
      "execution_count": 0,
      "outputs": []
    },
    {
      "cell_type": "code",
      "metadata": {
        "id": "TKTR1SdDG7OS",
        "colab_type": "code",
        "colab": {
          "base_uri": "https://localhost:8080/",
          "height": 88
        },
        "outputId": "7ee3b6a1-114d-432f-d37e-e8691c04cc4a"
      },
      "source": [
        "print(train_sentences[0])\n",
        "print(dev_sentences[0])\n",
        "print(test_sentences[0])"
      ],
      "execution_count": 9,
      "outputs": [
        {
          "output_type": "stream",
          "text": [
            "[['EU', 'NNP', 'I-NP', 'S-ORG'], ['rejects', 'VBZ', 'I-VP', 'O'], ['German', 'JJ', 'I-NP', 'S-MISC'], ['call', 'NN', 'I-NP', 'O'], ['to', 'TO', 'I-VP', 'O'], ['boycott', 'VB', 'I-VP', 'O'], ['British', 'JJ', 'I-NP', 'S-MISC'], ['lamb', 'NN', 'I-NP', 'O'], ['.', '.', 'O', 'O']]\n",
            "[['CRICKET', 'NNP', 'I-NP', 'O'], ['-', ':', 'O', 'O'], ['LEICESTERSHIRE', 'NNP', 'I-NP', 'S-ORG'], ['TAKE', 'NNP', 'I-NP', 'O'], ['OVER', 'IN', 'I-PP', 'O'], ['AT', 'NNP', 'I-NP', 'O'], ['TOP', 'NNP', 'I-NP', 'O'], ['AFTER', 'NNP', 'I-NP', 'O'], ['INNINGS', 'NNP', 'I-NP', 'O'], ['VICTORY', 'NN', 'I-NP', 'O'], ['.', '.', 'O', 'O']]\n",
            "[['SOCCER', 'NN', 'I-NP', 'O'], ['-', ':', 'O', 'O'], ['JAPAN', 'NNP', 'I-NP', 'S-LOC'], ['GET', 'VB', 'I-VP', 'O'], ['LUCKY', 'NNP', 'I-NP', 'O'], ['WIN', 'NNP', 'I-NP', 'O'], [',', ',', 'O', 'O'], ['CHINA', 'NNP', 'I-NP', 'S-PER'], ['IN', 'IN', 'I-PP', 'O'], ['SURPRISE', 'DT', 'I-NP', 'O'], ['DEFEAT', 'NN', 'I-NP', 'O'], ['.', '.', 'O', 'O']]\n"
          ],
          "name": "stdout"
        }
      ]
    },
    {
      "cell_type": "markdown",
      "metadata": {
        "id": "NLiFG-_EDRdX",
        "colab_type": "text"
      },
      "source": [
        "##### Create Mappings for Words, Characters and Tags"
      ]
    },
    {
      "cell_type": "code",
      "metadata": {
        "id": "EBY_kDTEDRdd",
        "colab_type": "code",
        "colab": {}
      },
      "source": [
        "def create_dico(item_list):\n",
        "    \"\"\"\n",
        "    Create a dictionary of items from a list of list of items.\n",
        "    \"\"\"\n",
        "    assert type(item_list) is list\n",
        "    dico = {}\n",
        "    for items in item_list:\n",
        "        for item in items:\n",
        "            if item not in dico:\n",
        "                dico[item] = 1\n",
        "            else:\n",
        "                dico[item] += 1\n",
        "    return dico\n",
        "\n",
        "def create_mapping(dico):\n",
        "    \"\"\"\n",
        "    Create a mapping (item to ID / ID to item) from a dictionary.\n",
        "    Items are ordered by decreasing frequency.\n",
        "    \"\"\"\n",
        "    sorted_items = sorted(dico.items(), key=lambda x: (-x[1], x[0]))\n",
        "    id_to_item = {i: v[0] for i, v in enumerate(sorted_items)}\n",
        "    item_to_id = {v: k for k, v in id_to_item.items()}\n",
        "    return item_to_id, id_to_item\n",
        "\n",
        "def word_mapping(sentences, lower):\n",
        "    \"\"\"\n",
        "    Create a dictionary and a mapping of words, sorted by frequency.\n",
        "    \"\"\"\n",
        "    words = [[x[0].lower() if lower else x[0] for x in s] for s in sentences]\n",
        "    dico = create_dico(words)\n",
        "    dico['<UNK>'] = 10000000 #UNK tag for unknown words\n",
        "    word_to_id, id_to_word = create_mapping(dico)\n",
        "    print(\"Found %i unique words (%i in total)\" % (\n",
        "        len(dico), sum(len(x) for x in words)\n",
        "    ))\n",
        "    return dico, word_to_id, id_to_word\n",
        "\n",
        "def char_mapping(sentences):\n",
        "    \"\"\"\n",
        "    Create a dictionary and mapping of characters, sorted by frequency.\n",
        "    \"\"\"\n",
        "    chars = [\"\".join([w[0] for w in s]) for s in sentences]\n",
        "    dico = create_dico(chars)\n",
        "    char_to_id, id_to_char = create_mapping(dico)\n",
        "    print(\"Found %i unique characters\" % len(dico))\n",
        "    return dico, char_to_id, id_to_char\n",
        "\n",
        "def tag_mapping(sentences):\n",
        "    \"\"\"\n",
        "    Create a dictionary and a mapping of tags, sorted by frequency.\n",
        "    \"\"\"\n",
        "    tags = [[word[-1] for word in s] for s in sentences]\n",
        "    dico = create_dico(tags)\n",
        "    dico[START_TAG] = -1\n",
        "    dico[STOP_TAG] = -2\n",
        "    tag_to_id, id_to_tag = create_mapping(dico)\n",
        "    print(\"Found %i unique named entity tags\" % len(dico))\n",
        "    return dico, tag_to_id, id_to_tag"
      ],
      "execution_count": 0,
      "outputs": []
    },
    {
      "cell_type": "code",
      "metadata": {
        "id": "TMNTkYIGDRdi",
        "colab_type": "code",
        "colab": {
          "base_uri": "https://localhost:8080/",
          "height": 68
        },
        "outputId": "4f1d55e6-83bb-4f4f-b142-829845e9154a"
      },
      "source": [
        "dico_words,word_to_id,id_to_word = word_mapping(train_sentences, parameters['lower'])\n",
        "dico_chars, char_to_id, id_to_char = char_mapping(train_sentences)\n",
        "dico_tags, tag_to_id, id_to_tag = tag_mapping(train_sentences)"
      ],
      "execution_count": 11,
      "outputs": [
        {
          "output_type": "stream",
          "text": [
            "Found 17493 unique words (203621 in total)\n",
            "Found 75 unique characters\n",
            "Found 19 unique named entity tags\n"
          ],
          "name": "stdout"
        }
      ]
    },
    {
      "cell_type": "markdown",
      "metadata": {
        "id": "KFVosnodDRdn",
        "colab_type": "text"
      },
      "source": [
        "##### Preparing final dataset"
      ]
    },
    {
      "cell_type": "code",
      "metadata": {
        "id": "I7XP7rKxDRdq",
        "colab_type": "code",
        "colab": {}
      },
      "source": [
        "def lower_case(x,lower=False):\n",
        "    if lower:\n",
        "        return x.lower()  \n",
        "    else:\n",
        "        return x"
      ],
      "execution_count": 0,
      "outputs": []
    },
    {
      "cell_type": "code",
      "metadata": {
        "id": "5y_-X34WDRdw",
        "colab_type": "code",
        "colab": {
          "base_uri": "https://localhost:8080/",
          "height": 34
        },
        "outputId": "1c1fac1e-41f1-4370-d990-3e7725dd86c7"
      },
      "source": [
        "def prepare_dataset(sentences, word_to_id, char_to_id, tag_to_id, lower=False):\n",
        "    \"\"\"\n",
        "    Prepare the dataset. Return a list of lists of dictionaries containing:\n",
        "        - word indexes\n",
        "        - word char indexes\n",
        "        - tag indexes\n",
        "    \"\"\"\n",
        "    data = []\n",
        "    for s in sentences:\n",
        "        str_words = [w[0] for w in s]\n",
        "        words = [word_to_id[lower_case(w,lower) if lower_case(w,lower) in word_to_id else '<UNK>']\n",
        "                 for w in str_words]\n",
        "        # Skip characters that are not in the training set\n",
        "        chars = [[char_to_id[c] for c in w if c in char_to_id]\n",
        "                 for w in str_words]\n",
        "        tags = [tag_to_id[w[-1]] for w in s]\n",
        "        data.append({\n",
        "            'str_words': str_words,\n",
        "            'words': words,\n",
        "            'chars': chars,\n",
        "            'tags': tags,\n",
        "        })\n",
        "    return data\n",
        "\n",
        "train_data = prepare_dataset(\n",
        "    train_sentences, word_to_id, char_to_id, tag_to_id, parameters['lower']\n",
        ")\n",
        "dev_data = prepare_dataset(\n",
        "    dev_sentences, word_to_id, char_to_id, tag_to_id, parameters['lower']\n",
        ")\n",
        "test_data = prepare_dataset(\n",
        "    test_sentences, word_to_id, char_to_id, tag_to_id, parameters['lower']\n",
        ")\n",
        "print(\"{} / {} / {} sentences in train / dev / test.\".format(len(train_data), len(dev_data), len(test_data)))"
      ],
      "execution_count": 13,
      "outputs": [
        {
          "output_type": "stream",
          "text": [
            "14041 / 3250 / 3453 sentences in train / dev / test.\n"
          ],
          "name": "stdout"
        }
      ]
    },
    {
      "cell_type": "markdown",
      "metadata": {
        "id": "ymk-ayfODRd2",
        "colab_type": "text"
      },
      "source": [
        "##### Load Word Embeddings"
      ]
    },
    {
      "cell_type": "code",
      "metadata": {
        "id": "6D-TehyPDRd3",
        "colab_type": "code",
        "colab": {
          "base_uri": "https://localhost:8080/",
          "height": 34
        },
        "outputId": "a804034d-26f4-431d-ad02-dc0834e98788"
      },
      "source": [
        "all_word_embeds = {}\n",
        "for i, line in enumerate(codecs.open(parameters['embedding_path'], 'r', 'utf-8')):\n",
        "    s = line.strip().split()\n",
        "    if len(s) == parameters['word_dim'] + 1:\n",
        "        all_word_embeds[s[0]] = np.array([float(i) for i in s[1:]])\n",
        "\n",
        "#Intializing Word Embedding Matrix\n",
        "word_embeds = np.random.uniform(-np.sqrt(0.06), np.sqrt(0.06), (len(word_to_id), parameters['word_dim']))\n",
        "\n",
        "for w in word_to_id:\n",
        "    if w in all_word_embeds:\n",
        "        word_embeds[word_to_id[w]] = all_word_embeds[w]\n",
        "    elif w.lower() in all_word_embeds:\n",
        "        word_embeds[word_to_id[w]] = all_word_embeds[w.lower()]\n",
        "\n",
        "print('Loaded %i pretrained embeddings.' % len(all_word_embeds))"
      ],
      "execution_count": 15,
      "outputs": [
        {
          "output_type": "stream",
          "text": [
            "Loaded 400000 pretrained embeddings.\n"
          ],
          "name": "stdout"
        }
      ]
    },
    {
      "cell_type": "markdown",
      "metadata": {
        "id": "QyN4vKHqDRd7",
        "colab_type": "text"
      },
      "source": [
        "##### Storing Processed Data for Reuse"
      ]
    },
    {
      "cell_type": "code",
      "metadata": {
        "id": "Tu1KZNDJDRd8",
        "colab_type": "code",
        "colab": {
          "base_uri": "https://localhost:8080/",
          "height": 34
        },
        "outputId": "12159d53-87f8-4403-9463-42a8a2cae9ef"
      },
      "source": [
        "with open(mapping_file, 'wb') as f:\n",
        "    mappings = {\n",
        "        'word_to_id': word_to_id,\n",
        "        'tag_to_id': tag_to_id,\n",
        "        'char_to_id': char_to_id,\n",
        "        'parameters': parameters,\n",
        "        'word_embeds': word_embeds\n",
        "    }\n",
        "    cPickle.dump(mappings, f)\n",
        "\n",
        "print('word_to_id: ', len(word_to_id))"
      ],
      "execution_count": 16,
      "outputs": [
        {
          "output_type": "stream",
          "text": [
            "word_to_id:  17493\n"
          ],
          "name": "stdout"
        }
      ]
    },
    {
      "cell_type": "markdown",
      "metadata": {
        "id": "KYMTOKy4DReB",
        "colab_type": "text"
      },
      "source": [
        "### Model\n"
      ]
    },
    {
      "cell_type": "markdown",
      "metadata": {
        "id": "XBWW2hHIDReE",
        "colab_type": "text"
      },
      "source": [
        "##### Initialization of weights"
      ]
    },
    {
      "cell_type": "code",
      "metadata": {
        "id": "Sn0awQcdDReG",
        "colab_type": "code",
        "colab": {}
      },
      "source": [
        "def init_embedding(input_embedding):\n",
        "    \"\"\"\n",
        "    Initialize embedding\n",
        "    \"\"\"\n",
        "    bias = np.sqrt(3.0 / input_embedding.size(1))\n",
        "    nn.init.uniform(input_embedding, -bias, bias)"
      ],
      "execution_count": 0,
      "outputs": []
    },
    {
      "cell_type": "markdown",
      "metadata": {
        "id": "7Pjd14HwDReM",
        "colab_type": "text"
      },
      "source": [
        "##### Initialization of linear layer"
      ]
    },
    {
      "cell_type": "code",
      "metadata": {
        "id": "NZkBys-uDReN",
        "colab_type": "code",
        "colab": {}
      },
      "source": [
        "def init_linear(input_linear):\n",
        "    \"\"\"\n",
        "    Initialize linear transformation\n",
        "    \"\"\"\n",
        "    bias = np.sqrt(6.0 / (input_linear.weight.size(0) + input_linear.weight.size(1)))\n",
        "    nn.init.uniform(input_linear.weight, -bias, bias)\n",
        "    if input_linear.bias is not None:\n",
        "        input_linear.bias.data.zero_()"
      ],
      "execution_count": 0,
      "outputs": []
    },
    {
      "cell_type": "markdown",
      "metadata": {
        "id": "0DcK7dHRDReR",
        "colab_type": "text"
      },
      "source": [
        "Initialization LSTM layer"
      ]
    },
    {
      "cell_type": "code",
      "metadata": {
        "id": "AMHwC9mcDReS",
        "colab_type": "code",
        "colab": {}
      },
      "source": [
        "def init_lstm(input_lstm):\n",
        "    \"\"\"\n",
        "    Initialize lstm\n",
        "    \n",
        "    PyTorch weights parameters:\n",
        "    \n",
        "        weight_ih_l[k]: the learnable input-hidden weights of the k-th layer,\n",
        "            of shape `(hidden_size * input_size)` for `k = 0`. Otherwise, the shape is\n",
        "            `(hidden_size * hidden_size)`\n",
        "            \n",
        "        weight_hh_l[k]: the learnable hidden-hidden weights of the k-th layer,\n",
        "            of shape `(hidden_size * hidden_size)`            \n",
        "    \"\"\"\n",
        "    \n",
        "    # Weights init for forward layer\n",
        "    for ind in range(0, input_lstm.num_layers):\n",
        "        \n",
        "        ## Gets the weights Tensor from our model, for the input-hidden weights in our current layer\n",
        "        weight = eval('input_lstm.weight_ih_l' + str(ind))\n",
        "        \n",
        "        # Initialize the sampling range\n",
        "        sampling_range = np.sqrt(6.0 / (weight.size(0) / 4 + weight.size(1)))\n",
        "        \n",
        "        # Randomly sample from our samping range using uniform distribution and apply it to our current layer\n",
        "        nn.init.uniform(weight, -sampling_range, sampling_range)\n",
        "        \n",
        "        # Similar to above but for the hidden-hidden weights of the current layer\n",
        "        weight = eval('input_lstm.weight_hh_l' + str(ind))\n",
        "        sampling_range = np.sqrt(6.0 / (weight.size(0) / 4 + weight.size(1)))\n",
        "        nn.init.uniform(weight, -sampling_range, sampling_range)\n",
        "        \n",
        "        \n",
        "    # We do the above again, for the backward layer if we are using a bi-directional LSTM (our final model uses this)\n",
        "    if input_lstm.bidirectional:\n",
        "        for ind in range(0, input_lstm.num_layers):\n",
        "            weight = eval('input_lstm.weight_ih_l' + str(ind) + '_reverse')\n",
        "            sampling_range = np.sqrt(6.0 / (weight.size(0) / 4 + weight.size(1)))\n",
        "            nn.init.uniform(weight, -sampling_range, sampling_range)\n",
        "            weight = eval('input_lstm.weight_hh_l' + str(ind) + '_reverse')\n",
        "            sampling_range = np.sqrt(6.0 / (weight.size(0) / 4 + weight.size(1)))\n",
        "            nn.init.uniform(weight, -sampling_range, sampling_range)\n",
        "\n",
        "    # Bias initialization steps\n",
        "    \n",
        "    # We initialize them to zero except for the forget gate bias, which is initialized to 1\n",
        "    if input_lstm.bias:\n",
        "        for ind in range(0, input_lstm.num_layers):\n",
        "            bias = eval('input_lstm.bias_ih_l' + str(ind))\n",
        "            \n",
        "            # Initializing to zero\n",
        "            bias.data.zero_()\n",
        "            \n",
        "            # This is the range of indices for our forget gates for each LSTM cell\n",
        "            bias.data[input_lstm.hidden_size: 2 * input_lstm.hidden_size] = 1\n",
        "            \n",
        "            #Similar for the hidden-hidden layer\n",
        "            bias = eval('input_lstm.bias_hh_l' + str(ind))\n",
        "            bias.data.zero_()\n",
        "            bias.data[input_lstm.hidden_size: 2 * input_lstm.hidden_size] = 1\n",
        "            \n",
        "        # Similar to above, we do for backward layer if we are using a bi-directional LSTM \n",
        "        if input_lstm.bidirectional:\n",
        "            for ind in range(0, input_lstm.num_layers):\n",
        "                bias = eval('input_lstm.bias_ih_l' + str(ind) + '_reverse')\n",
        "                bias.data.zero_()\n",
        "                bias.data[input_lstm.hidden_size: 2 * input_lstm.hidden_size] = 1\n",
        "                bias = eval('input_lstm.bias_hh_l' + str(ind) + '_reverse')\n",
        "                bias.data.zero_()\n",
        "                bias.data[input_lstm.hidden_size: 2 * input_lstm.hidden_size] = 1"
      ],
      "execution_count": 0,
      "outputs": []
    },
    {
      "cell_type": "markdown",
      "metadata": {
        "id": "Ct6diQrcDReX",
        "colab_type": "text"
      },
      "source": [
        "#### Evaluation schemes: Forward pass and Viterbi algorithm"
      ]
    },
    {
      "cell_type": "markdown",
      "metadata": {
        "id": "SwjQC04GDReZ",
        "colab_type": "text"
      },
      "source": [
        "##### Helper Functions"
      ]
    },
    {
      "cell_type": "code",
      "metadata": {
        "id": "XwnipPNaDRec",
        "colab_type": "code",
        "colab": {}
      },
      "source": [
        "def log_sum_exp(vec):\n",
        "    '''\n",
        "    This function calculates the score explained above for the forward algorithm\n",
        "    vec 2D: 1 * tagset_size\n",
        "    '''\n",
        "    max_score = vec[0, argmax(vec)]\n",
        "    max_score_broadcast = max_score.view(1, -1).expand(1, vec.size()[1])\n",
        "    return max_score + torch.log(torch.sum(torch.exp(vec - max_score_broadcast)))\n",
        "    \n",
        "def argmax(vec):\n",
        "    '''\n",
        "    This function returns the max index in a vector\n",
        "    '''\n",
        "    _, idx = torch.max(vec, 1)\n",
        "    return to_scalar(idx)\n",
        "\n",
        "def to_scalar(var):\n",
        "    '''\n",
        "    Function to convert pytorch tensor to a scalar\n",
        "    '''\n",
        "    return var.view(-1).data.tolist()[0]"
      ],
      "execution_count": 0,
      "outputs": []
    },
    {
      "cell_type": "code",
      "metadata": {
        "id": "_dtEKT16DReh",
        "colab_type": "code",
        "colab": {}
      },
      "source": [
        "def score_sentences(self, feats, tags):\n",
        "    # tags is ground_truth, a list of ints, length is len(sentence)\n",
        "    # feats is a 2D tensor, len(sentence) * tagset_size\n",
        "    r = torch.LongTensor(range(feats.size()[0]))\n",
        "    if self.use_gpu:\n",
        "        r = r.cuda()\n",
        "        pad_start_tags = torch.cat([torch.cuda.LongTensor([self.tag_to_ix[START_TAG]]), tags])\n",
        "        pad_stop_tags = torch.cat([tags, torch.cuda.LongTensor([self.tag_to_ix[STOP_TAG]])])\n",
        "    else:\n",
        "        pad_start_tags = torch.cat([torch.LongTensor([self.tag_to_ix[START_TAG]]), tags])\n",
        "        pad_stop_tags = torch.cat([tags, torch.LongTensor([self.tag_to_ix[STOP_TAG]])])\n",
        "\n",
        "    score = torch.sum(self.transitions[pad_stop_tags, pad_start_tags]) + torch.sum(feats[r, tags])\n",
        "\n",
        "    return score"
      ],
      "execution_count": 0,
      "outputs": []
    },
    {
      "cell_type": "markdown",
      "metadata": {
        "id": "DCuvfrkaDRek",
        "colab_type": "text"
      },
      "source": [
        "##### Implementation of Forward Algorithm"
      ]
    },
    {
      "cell_type": "code",
      "metadata": {
        "id": "TILnefMkDRel",
        "colab_type": "code",
        "colab": {}
      },
      "source": [
        "def forward_alg(self, feats):\n",
        "    '''\n",
        "    This function performs the forward algorithm explained above\n",
        "    '''\n",
        "    # calculate in log domain\n",
        "    # feats is len(sentence) * tagset_size\n",
        "    # initialize alpha with a Tensor with values all equal to -10000.\n",
        "    \n",
        "    # Do the forward algorithm to compute the partition function\n",
        "    init_alphas = torch.Tensor(1, self.tagset_size).fill_(-10000.)\n",
        "    \n",
        "    # START_TAG has all of the score.\n",
        "    init_alphas[0][self.tag_to_ix[START_TAG]] = 0.\n",
        "    \n",
        "    # Wrap in a variable so that we will get automatic backprop\n",
        "    forward_var = autograd.Variable(init_alphas)\n",
        "    if self.use_gpu:\n",
        "        forward_var = forward_var.cuda()\n",
        "        \n",
        "    # Iterate through the sentence\n",
        "    for feat in feats:\n",
        "        # broadcast the emission score: it is the same regardless of\n",
        "        # the previous tag\n",
        "        emit_score = feat.view(-1, 1)\n",
        "        \n",
        "        # the ith entry of trans_score is the score of transitioning to\n",
        "        # next_tag from i\n",
        "        tag_var = forward_var + self.transitions + emit_score\n",
        "        \n",
        "        # The ith entry of next_tag_var is the value for the\n",
        "        # edge (i -> next_tag) before we do log-sum-exp\n",
        "        max_tag_var, _ = torch.max(tag_var, dim=1)\n",
        "        \n",
        "        # The forward variable for this tag is log-sum-exp of all the\n",
        "        # scores.\n",
        "        tag_var = tag_var - max_tag_var.view(-1, 1)\n",
        "        \n",
        "        # Compute log sum exp in a numerically stable way for the forward algorithm\n",
        "        forward_var = max_tag_var + torch.log(torch.sum(torch.exp(tag_var), dim=1)).view(1, -1) # ).view(1, -1)\n",
        "    terminal_var = (forward_var + self.transitions[self.tag_to_ix[STOP_TAG]]).view(1, -1)\n",
        "    alpha = log_sum_exp(terminal_var)\n",
        "    # Z(x)\n",
        "    return alpha"
      ],
      "execution_count": 0,
      "outputs": []
    },
    {
      "cell_type": "markdown",
      "metadata": {
        "id": "aJX5dF38DRer",
        "colab_type": "text"
      },
      "source": [
        "##### Implementation of Viterbi Algorithm"
      ]
    },
    {
      "cell_type": "code",
      "metadata": {
        "id": "pj_3Cx5vDRet",
        "colab_type": "code",
        "colab": {}
      },
      "source": [
        "def viterbi_algo(self, feats):\n",
        "    '''\n",
        "    In this function, we implement the viterbi algorithm explained above.\n",
        "    A Dynamic programming based approach to find the best tag sequence\n",
        "    '''\n",
        "    backpointers = []\n",
        "    # analogous to forward\n",
        "    \n",
        "    # Initialize the viterbi variables in log space\n",
        "    init_vvars = torch.Tensor(1, self.tagset_size).fill_(-10000.)\n",
        "    init_vvars[0][self.tag_to_ix[START_TAG]] = 0\n",
        "    \n",
        "    # forward_var at step i holds the viterbi variables for step i-1\n",
        "    forward_var = Variable(init_vvars)\n",
        "    if self.use_gpu:\n",
        "        forward_var = forward_var.cuda()\n",
        "    for feat in feats:\n",
        "        next_tag_var = forward_var.view(1, -1).expand(self.tagset_size, self.tagset_size) + self.transitions\n",
        "        _, bptrs_t = torch.max(next_tag_var, dim=1)\n",
        "        bptrs_t = bptrs_t.squeeze().data.cpu().numpy() # holds the backpointers for this step\n",
        "        next_tag_var = next_tag_var.data.cpu().numpy() \n",
        "        viterbivars_t = next_tag_var[range(len(bptrs_t)), bptrs_t] # holds the viterbi variables for this step\n",
        "        viterbivars_t = Variable(torch.FloatTensor(viterbivars_t))\n",
        "        if self.use_gpu:\n",
        "            viterbivars_t = viterbivars_t.cuda()\n",
        "            \n",
        "        # Now add in the emission scores, and assign forward_var to the set\n",
        "        # of viterbi variables we just computed\n",
        "        forward_var = viterbivars_t + feat\n",
        "        backpointers.append(bptrs_t)\n",
        "\n",
        "    # Transition to STOP_TAG\n",
        "    terminal_var = forward_var + self.transitions[self.tag_to_ix[STOP_TAG]]\n",
        "    terminal_var.data[self.tag_to_ix[STOP_TAG]] = -10000.\n",
        "    terminal_var.data[self.tag_to_ix[START_TAG]] = -10000.\n",
        "    best_tag_id = argmax(terminal_var.unsqueeze(0))\n",
        "    path_score = terminal_var[best_tag_id]\n",
        "    \n",
        "    # Follow the back pointers to decode the best path.\n",
        "    best_path = [best_tag_id]\n",
        "    for bptrs_t in reversed(backpointers):\n",
        "        best_tag_id = bptrs_t[best_tag_id]\n",
        "        best_path.append(best_tag_id)\n",
        "        \n",
        "    # Pop off the start tag (we dont want to return that to the caller)\n",
        "    start = best_path.pop()\n",
        "    assert start == self.tag_to_ix[START_TAG] # Sanity check\n",
        "    best_path.reverse()\n",
        "    return path_score, best_path"
      ],
      "execution_count": 0,
      "outputs": []
    },
    {
      "cell_type": "code",
      "metadata": {
        "id": "OGAhOlDyDRey",
        "colab_type": "code",
        "colab": {}
      },
      "source": [
        "def forward_calc(self, sentence, chars, chars2_length, d):\n",
        "    \n",
        "    '''\n",
        "    The function calls viterbi decode and generates the \n",
        "    most probable sequence of tags for the sentence\n",
        "    '''\n",
        "    \n",
        "    # Get the emission scores from the BiLSTM\n",
        "    if self.encoder_mode == 'LSTM':\n",
        "      feats = self._get_lstm_features(sentence, chars, chars2_length, d)\n",
        "    if self.encoder_mode == 'CNN':\n",
        "      feats = self._get_cnn_features(sentence, chars, chars2_length, d)\n",
        "    # viterbi to get tag_seq\n",
        "    \n",
        "    # Find the best path, given the features.\n",
        "    if self.use_crf:\n",
        "        score, tag_seq = self.viterbi_decode(feats)\n",
        "    else:\n",
        "        score, tag_seq = torch.max(feats, 1)\n",
        "        tag_seq = list(tag_seq.cpu().data)\n",
        "\n",
        "    return score, tag_seq"
      ],
      "execution_count": 0,
      "outputs": []
    },
    {
      "cell_type": "markdown",
      "metadata": {
        "id": "5R6LD3X8DRe3",
        "colab_type": "text"
      },
      "source": [
        "### Details of the Model"
      ]
    },
    {
      "cell_type": "markdown",
      "metadata": {
        "id": "VDTTs9e9DRe5",
        "colab_type": "text"
      },
      "source": [
        "##### Main Model Implementation"
      ]
    },
    {
      "cell_type": "markdown",
      "metadata": {
        "colab_type": "text",
        "id": "OGMmZY7LxK1m"
      },
      "source": [
        "The get_lstm_features function returns the LSTM's tag vectors. The function performs all the steps mentioned above for the model.\n",
        "\n",
        "Steps:\n",
        "1. It takes in characters, converts them to embeddings using our character CNN.\n",
        "2. We concat Character Embeeding with glove vectors, use this as features that we feed to Bidirectional-LSTM. \n",
        "3. The Bidirectional-LSTM generates outputs based on these set of features.\n",
        "4. The output are passed through a linear layer to convert to tag space."
      ]
    },
    {
      "cell_type": "code",
      "metadata": {
        "id": "dD0qnAEvDRe8",
        "colab_type": "code",
        "colab": {}
      },
      "source": [
        "def get_lstm_features(self, sentence, chars2, chars2_length, d):\n",
        "    \n",
        "    if self.char_mode == 'LSTM':\n",
        "        \n",
        "            chars_embeds = self.char_embeds(chars2).transpose(0, 1)\n",
        "            \n",
        "            packed = torch.nn.utils.rnn.pack_padded_sequence(chars_embeds, chars2_length)\n",
        "            \n",
        "            lstm_out, _ = self.char_lstm(packed)\n",
        "            \n",
        "            outputs, output_lengths = torch.nn.utils.rnn.pad_packed_sequence(lstm_out)\n",
        "            \n",
        "            outputs = outputs.transpose(0, 1)\n",
        "            \n",
        "            chars_embeds_temp = Variable(torch.FloatTensor(torch.zeros((outputs.size(0), outputs.size(2)))))\n",
        "            \n",
        "            if self.use_gpu:\n",
        "                chars_embeds_temp = chars_embeds_temp.cuda()\n",
        "            \n",
        "            for i, index in enumerate(output_lengths):\n",
        "                chars_embeds_temp[i] = torch.cat((outputs[i, index-1, :self.char_lstm_dim], outputs[i, 0, self.char_lstm_dim:]))\n",
        "            \n",
        "            chars_embeds = chars_embeds_temp.clone()\n",
        "            \n",
        "            for i in range(chars_embeds.size(0)):\n",
        "                chars_embeds[d[i]] = chars_embeds_temp[i]\n",
        "    \n",
        "    \n",
        "    if self.char_mode == 'CNN':\n",
        "        chars_embeds = self.char_embeds(chars2).unsqueeze(1)\n",
        "\n",
        "        ## Creating Character level representation using Convolutional Neural Netowrk\n",
        "        ## followed by a Maxpooling Layer\n",
        "        chars_cnn_out3 = self.char_cnn3(chars_embeds)\n",
        "        chars_embeds = nn.functional.max_pool2d(chars_cnn_out3,\n",
        "                                             kernel_size=(chars_cnn_out3.size(2), 1)).view(chars_cnn_out3.size(0), self.out_channels)\n",
        "\n",
        "        ## Loading word embeddings\n",
        "    embeds = self.word_embeds(sentence)\n",
        "\n",
        "    ## We concatenate the word embeddings and the character level representation\n",
        "    ## to create unified representation for each word\n",
        "    embeds = torch.cat((embeds, chars_embeds), 1)\n",
        "\n",
        "    embeds = embeds.unsqueeze(1)\n",
        "\n",
        "    ## Dropout on the unified embeddings\n",
        "    embeds = self.dropout(embeds)\n",
        "\n",
        "    ## Word lstm\n",
        "    ## Takes words as input and generates a output at each step\n",
        "    lstm_out, _ = self.lstm(embeds)\n",
        "\n",
        "    ## Reshaping the outputs from the lstm layer\n",
        "    lstm_out = lstm_out.view(len(sentence), self.hidden_dim*2)\n",
        "\n",
        "    ## Dropout on the lstm output\n",
        "    lstm_out = self.dropout(lstm_out)\n",
        "\n",
        "    ## Linear layer converts the ouput vectors to tag space\n",
        "    lstm_feats = self.hidden2tag(lstm_out)\n",
        "\n",
        "    print(f'lstm_feats size: {lstm_feats.size()}')\n",
        "    \n",
        "    return lstm_feats"
      ],
      "execution_count": 0,
      "outputs": []
    },
    {
      "cell_type": "markdown",
      "metadata": {
        "id": "ICCGegrUDRfC",
        "colab_type": "text"
      },
      "source": [
        "##### Function for Negative log likelihood calculation"
      ]
    },
    {
      "cell_type": "code",
      "metadata": {
        "id": "Ybq70SbPDRfG",
        "colab_type": "code",
        "colab": {}
      },
      "source": [
        "def get_neg_log_likelihood(self, sentence, tags, chars2, chars2_length, d):\n",
        "    # sentence, tags is a list of ints\n",
        "    # features is a 2D tensor, len(sentence) * self.tagset_size\n",
        "    # print(f'sentence: {sentence}')\n",
        "    # print(f'tags: {tags}')\n",
        "\n",
        "    if self.encoder_mode == 'LSTM':\n",
        "      feats = self._get_lstm_features(sentence, chars2, chars2_length, d)\n",
        "    elif self.encoder_mode == 'CNN':\n",
        "      feats = self._get_cnn_features(sentence, chars2, chars2_length, d)\n",
        "\n",
        "    if self.use_crf:\n",
        "        forward_score = self._forward_alg(feats)\n",
        "        gold_score = self._score_sentence(feats, tags)\n",
        "        return forward_score - gold_score\n",
        "    else:\n",
        "        tags = Variable(tags)\n",
        "        scores = nn.functional.cross_entropy(feats, tags)\n",
        "        return scores"
      ],
      "execution_count": 0,
      "outputs": []
    },
    {
      "cell_type": "markdown",
      "metadata": {
        "id": "4Vb2Z3oSDRfj",
        "colab_type": "text"
      },
      "source": [
        "### Evaluation"
      ]
    },
    {
      "cell_type": "markdown",
      "metadata": {
        "id": "wKyC8LA8DRfk",
        "colab_type": "text"
      },
      "source": [
        "##### Helper functions for evaluation"
      ]
    },
    {
      "cell_type": "code",
      "metadata": {
        "id": "NCTUB7LkDRfm",
        "colab_type": "code",
        "colab": {}
      },
      "source": [
        "def get_chunk_type(tok, idx_to_tag):\n",
        "    \"\"\"\n",
        "    The function takes in a chunk (\"B-PER\") and then splits it into the tag (PER) and its class (B)\n",
        "    as defined in BIOES\n",
        "    \n",
        "    Args:\n",
        "        tok: id of token, ex 4\n",
        "        idx_to_tag: dictionary {4: \"B-PER\", ...}\n",
        "\n",
        "    Returns:\n",
        "        tuple: \"B\", \"PER\"\n",
        "\n",
        "    \"\"\"\n",
        "    \n",
        "    tag_name = idx_to_tag[tok]\n",
        "    tag_class = tag_name.split('-')[0]\n",
        "    tag_type = tag_name.split('-')[-1]\n",
        "    return tag_class, tag_type"
      ],
      "execution_count": 0,
      "outputs": []
    },
    {
      "cell_type": "code",
      "metadata": {
        "id": "C5kE_nCoDRfu",
        "colab_type": "code",
        "colab": {}
      },
      "source": [
        "def get_chunks(seq, tags):\n",
        "    \"\"\"Given a sequence of tags, group entities and their position\n",
        "\n",
        "    Args:\n",
        "        seq: [4, 4, 0, 0, ...] sequence of labels\n",
        "        tags: dict[\"O\"] = 4\n",
        "\n",
        "    Returns:\n",
        "        list of (chunk_type, chunk_start, chunk_end)\n",
        "\n",
        "    Example:\n",
        "        seq = [4, 5, 0, 3]\n",
        "        tags = {\"B-PER\": 4, \"I-PER\": 5, \"B-LOC\": 3}\n",
        "        result = [(\"PER\", 0, 2), (\"LOC\", 3, 4)]\n",
        "\n",
        "    \"\"\"\n",
        "    \n",
        "    # We assume by default the tags lie outside a named entity\n",
        "    default = tags[\"O\"]\n",
        "    \n",
        "    idx_to_tag = {idx: tag for tag, idx in tags.items()}\n",
        "    \n",
        "    chunks = []\n",
        "    \n",
        "    chunk_type, chunk_start = None, None\n",
        "    for i, tok in enumerate(seq):\n",
        "        # End of a chunk 1\n",
        "        if tok == default and chunk_type is not None:\n",
        "            # Add a chunk.\n",
        "            chunk = (chunk_type, chunk_start, i)\n",
        "            chunks.append(chunk)\n",
        "            chunk_type, chunk_start = None, None\n",
        "\n",
        "        # End of a chunk + start of a chunk!\n",
        "        elif tok != default:\n",
        "            tok_chunk_class, tok_chunk_type = get_chunk_type(tok, idx_to_tag)\n",
        "            if chunk_type is None:\n",
        "                # Initialize chunk for each entity\n",
        "                chunk_type, chunk_start = tok_chunk_type, i\n",
        "            elif tok_chunk_type != chunk_type or tok_chunk_class == \"B\":\n",
        "                # If chunk class is B, i.e., its a beginning of a new named entity\n",
        "                # or, if the chunk type is different from the previous one, then we\n",
        "                # start labelling it as a new entity\n",
        "                chunk = (chunk_type, chunk_start, i)\n",
        "                chunks.append(chunk)\n",
        "                chunk_type, chunk_start = tok_chunk_type, i\n",
        "        else:\n",
        "            pass\n",
        "\n",
        "    # end condition\n",
        "    if chunk_type is not None:\n",
        "        chunk = (chunk_type, chunk_start, len(seq))\n",
        "        chunks.append(chunk)\n",
        "\n",
        "    return chunks"
      ],
      "execution_count": 0,
      "outputs": []
    },
    {
      "cell_type": "code",
      "metadata": {
        "id": "GYMcyWqnDRfz",
        "colab_type": "code",
        "colab": {}
      },
      "source": [
        "def evaluating(model, datas, best_F,dataset=\"Train\"):\n",
        "    '''\n",
        "    The function takes as input the model, data and calcuates F-1 Score\n",
        "    It performs conditional updates \n",
        "     1) Flag to save the model \n",
        "     2) Best F-1 score\n",
        "    ,if the F-1 score calculated improves on the previous F-1 score\n",
        "    '''\n",
        "    # Initializations\n",
        "    prediction = [] # A list that stores predicted tags\n",
        "    save = False # Flag that tells us if the model needs to be saved\n",
        "    new_F = 0.0 # Variable to store the current F1-Score (may not be the best)\n",
        "    correct_preds, total_correct, total_preds = 0., 0., 0. # Count variables\n",
        "\n",
        "    for data in datas:\n",
        "        ground_truth_id = data['tags']\n",
        "        words = data['str_words']\n",
        "        chars2 = data['chars']\n",
        "        \n",
        "        if parameters['char_mode'] == 'LSTM':\n",
        "            chars2_sorted = sorted(chars2, key=lambda p: len(p), reverse=True)\n",
        "            d = {}\n",
        "            for i, ci in enumerate(chars2):\n",
        "                for j, cj in enumerate(chars2_sorted):\n",
        "                    if ci == cj and not j in d and not i in d.values():\n",
        "                        d[j] = i\n",
        "                        continue\n",
        "            chars2_length = [len(c) for c in chars2_sorted]\n",
        "            char_maxl = max(chars2_length)\n",
        "            chars2_mask = np.zeros((len(chars2_sorted), char_maxl), dtype='int')\n",
        "            for i, c in enumerate(chars2_sorted):\n",
        "                chars2_mask[i, :chars2_length[i]] = c\n",
        "            chars2_mask = Variable(torch.LongTensor(chars2_mask))\n",
        "        \n",
        "        \n",
        "        if parameters['char_mode'] == 'CNN':\n",
        "            d = {} \n",
        "\n",
        "            # Padding the each word to max word size of that sentence\n",
        "            chars2_length = [len(c) for c in chars2]\n",
        "            char_maxl = max(chars2_length)\n",
        "            chars2_mask = np.zeros((len(chars2_length), char_maxl), dtype='int')\n",
        "            for i, c in enumerate(chars2):\n",
        "                chars2_mask[i, :chars2_length[i]] = c\n",
        "            chars2_mask = Variable(torch.LongTensor(chars2_mask))\n",
        "\n",
        "        dwords = Variable(torch.LongTensor(data['words']))\n",
        "        \n",
        "        # We are getting the predicted output from our model\n",
        "        if use_gpu:\n",
        "            val,out = model(dwords.cuda(), chars2_mask.cuda(), chars2_length, d)\n",
        "        else:\n",
        "            val,out = model(dwords, chars2_mask, chars2_length, d)\n",
        "        predicted_id = out  \n",
        "        \n",
        "        # We use the get chunks function defined above to get the true chunks\n",
        "        # and the predicted chunks from true labels and predicted labels respectively\n",
        "        lab_chunks      = set(get_chunks(ground_truth_id,tag_to_id))\n",
        "        lab_pred_chunks = set(get_chunks(predicted_id,\n",
        "                                         tag_to_id))\n",
        "\n",
        "        # Updating the count variables\n",
        "        correct_preds += len(lab_chunks & lab_pred_chunks)\n",
        "        total_preds   += len(lab_pred_chunks)\n",
        "        total_correct += len(lab_chunks)\n",
        "    \n",
        "    # Calculating the F1-Score\n",
        "    p   = correct_preds / total_preds if correct_preds > 0 else 0\n",
        "    r   = correct_preds / total_correct if correct_preds > 0 else 0\n",
        "    new_F  = 2 * p * r / (p + r) if correct_preds > 0 else 0\n",
        "    new_acc = p\n",
        "\n",
        "    print(\"{}: new_F: {} best_F: {} new_acc:{} \".format(dataset,new_F,best_F,p))\n",
        "    \n",
        "    # If our current F1-Score is better than the previous best, we update the best\n",
        "    # to current F1 and we set the flag to indicate that we need to checkpoint this model\n",
        "    \n",
        "    if new_F>best_F:\n",
        "        best_F=new_F\n",
        "        save=True\n",
        "\n",
        "    return best_F, new_F, new_acc, save"
      ],
      "execution_count": 0,
      "outputs": []
    },
    {
      "cell_type": "markdown",
      "metadata": {
        "id": "37W7Vz_tDRf5",
        "colab_type": "text"
      },
      "source": [
        "##### Helper function for performing Learning rate decay"
      ]
    },
    {
      "cell_type": "code",
      "metadata": {
        "id": "jucZiuL3DRf6",
        "colab_type": "code",
        "colab": {}
      },
      "source": [
        "def adjust_learning_rate(optimizer, lr):\n",
        "    \"\"\"\n",
        "    shrink learning rate\n",
        "    \"\"\"\n",
        "    for param_group in optimizer.param_groups:\n",
        "        param_group['lr'] = lr"
      ],
      "execution_count": 0,
      "outputs": []
    },
    {
      "cell_type": "markdown",
      "metadata": {
        "id": "NlDMmG-JJFtt",
        "colab_type": "text"
      },
      "source": [
        "##### Helper function for performing early stopping"
      ]
    },
    {
      "cell_type": "code",
      "metadata": {
        "id": "FjW30hnYJLGl",
        "colab_type": "code",
        "colab": {}
      },
      "source": [
        "class EarlyStopping(object):\n",
        "    def __init__(self, mode='min', min_delta=0, patience=10, percentage=False):\n",
        "        self.mode = mode\n",
        "        self.min_delta = min_delta\n",
        "        self.patience = patience\n",
        "        self.best = None\n",
        "        self.num_bad_epochs = 0\n",
        "        self.is_better = None\n",
        "        self._init_is_better(mode, min_delta, percentage)\n",
        "\n",
        "        if patience == 0:\n",
        "            self.is_better = lambda a, b: True\n",
        "            self.step = lambda a: False\n",
        "\n",
        "    def step(self, metrics):\n",
        "        if self.best is None:\n",
        "            self.best = metrics\n",
        "            return False\n",
        "\n",
        "        # if torch.isnan(metrics):\n",
        "        if metrics is None:\n",
        "            return True\n",
        "\n",
        "        if self.is_better(metrics, self.best):\n",
        "            self.num_bad_epochs = 0\n",
        "            self.best = metrics\n",
        "        else:\n",
        "            self.num_bad_epochs += 1\n",
        "\n",
        "        if self.num_bad_epochs >= self.patience:\n",
        "            return True\n",
        "\n",
        "        return False\n",
        "\n",
        "    def _init_is_better(self, mode, min_delta, percentage):\n",
        "        if mode not in {'min', 'max'}:\n",
        "            raise ValueError('mode ' + mode + ' is unknown!')\n",
        "        if not percentage:\n",
        "            if mode == 'min':\n",
        "                self.is_better = lambda a, best: a < best - min_delta\n",
        "            if mode == 'max':\n",
        "                self.is_better = lambda a, best: a > best + min_delta\n",
        "        else:\n",
        "            if mode == 'min':\n",
        "                self.is_better = lambda a, best: a < best - (\n",
        "                            best * min_delta / 100)\n",
        "            if mode == 'max':\n",
        "                self.is_better = lambda a, best: a > best + (\n",
        "                            best * min_delta / 100)"
      ],
      "execution_count": 0,
      "outputs": []
    },
    {
      "cell_type": "markdown",
      "metadata": {
        "id": "9hXfvqHPIs69",
        "colab_type": "text"
      },
      "source": [
        "### Create and Train Model Function"
      ]
    },
    {
      "cell_type": "code",
      "metadata": {
        "id": "0MpCwUUIDRfX",
        "colab_type": "code",
        "colab": {}
      },
      "source": [
        "def create_and_train_model():  \n",
        "  # Create model\n",
        "  model = BiLSTM_CRF(vocab_size=len(word_to_id),\n",
        "                    tag_to_ix=tag_to_id,\n",
        "                    embedding_dim=parameters['word_dim'],\n",
        "                    hidden_dim=parameters['word_lstm_dim'],\n",
        "                    use_gpu=use_gpu,\n",
        "                    char_to_ix=char_to_id,\n",
        "                    pre_word_embeds=word_embeds,\n",
        "                    use_crf=parameters['crf'],\n",
        "                    char_mode=parameters['char_mode'],\n",
        "                    encoder_mode=parameters['encoder_mode'])\n",
        "  \n",
        "  # Enable GPU\n",
        "  if use_gpu:\n",
        "      model.cuda()\n",
        "\n",
        "  print(f\"\\nChar mode: {parameters['char_mode']}, Encoder mode: {parameters['encoder_mode']}\")\n",
        "\n",
        "  # Training parameters\n",
        "  learning_rate = 0.015\n",
        "  momentum = 0.9\n",
        "  number_of_epochs = parameters['epoch'] \n",
        "  decay_rate = 0.05\n",
        "  gradient_clip = parameters['gradient_clip']\n",
        "  optimizer = torch.optim.SGD(model.parameters(), lr=learning_rate, momentum=momentum)\n",
        "\n",
        "  # Variables which will used in training process\n",
        "  losses = [] #list to store all losses\n",
        "  loss = 0.0 #Loss Initializatoin\n",
        "  best_dev_F = -1.0 # Current best F-1 Score on Dev Set\n",
        "  best_test_F = -1.0 # Current best F-1 Score on Test Set\n",
        "  best_train_F = -1.0 # Current best F-1 Score on Train Set\n",
        "  all_F = [[0, 0, 0]] # List storing all the F-1 Scores\n",
        "  all_acc = [[0, 0, 0]] # List storing all the Accuracy Scores\n",
        "  eval_every = len(train_data) # Calculate F-1 Score after this many iterations\n",
        "  plot_every = 2000 # Store loss after this many iterations\n",
        "  count = 0 #Counts the number of iterations\n",
        "\n",
        "  # Define early stopping\n",
        "  es = EarlyStopping(patience=10)\n",
        "\n",
        "  # eval_every = 1\n",
        "\n",
        "  tr = time.time()\n",
        "  model.train(True)\n",
        "  for epoch in range(1,number_of_epochs):\n",
        "      print(f'Epoch {epoch}:')\n",
        "      for i, index in enumerate(np.random.permutation(len(train_data))):\n",
        "      # for i, index in enumerate(np.random.permutation(eval_every)):\n",
        "          count += 1\n",
        "          data = train_data[index]\n",
        "\n",
        "          ##gradient updates for each data entry\n",
        "          model.zero_grad()\n",
        "\n",
        "          sentence_in = data['words']\n",
        "          sentence_in = Variable(torch.LongTensor(sentence_in))\n",
        "          tags = data['tags']\n",
        "          chars2 = data['chars']\n",
        "          \n",
        "          if parameters['char_mode'] == 'LSTM':\n",
        "              chars2_sorted = sorted(chars2, key=lambda p: len(p), reverse=True)\n",
        "              d = {}\n",
        "              for i, ci in enumerate(chars2):\n",
        "                  for j, cj in enumerate(chars2_sorted):\n",
        "                      if ci == cj and not j in d and not i in d.values():\n",
        "                          d[j] = i\n",
        "                          continue\n",
        "              chars2_length = [len(c) for c in chars2_sorted]\n",
        "              char_maxl = max(chars2_length)\n",
        "              chars2_mask = np.zeros((len(chars2_sorted), char_maxl), dtype='int')\n",
        "              for i, c in enumerate(chars2_sorted):\n",
        "                  chars2_mask[i, :chars2_length[i]] = c\n",
        "              chars2_mask = Variable(torch.LongTensor(chars2_mask))\n",
        "          \n",
        "          if parameters['char_mode'] == 'CNN':\n",
        "\n",
        "              d = {}\n",
        "\n",
        "              ## Padding the each word to max word size of that sentence\n",
        "              chars2_length = [len(c) for c in chars2]\n",
        "              char_maxl = max(chars2_length)\n",
        "              chars2_mask = np.zeros((len(chars2_length), char_maxl), dtype='int')\n",
        "              for i, c in enumerate(chars2):\n",
        "                  chars2_mask[i, :chars2_length[i]] = c\n",
        "              chars2_mask = Variable(torch.LongTensor(chars2_mask))\n",
        "\n",
        "\n",
        "          targets = torch.LongTensor(tags)\n",
        "\n",
        "          #we calculate the negative log-likelihood for the predicted tags using the predefined function\n",
        "          if use_gpu:\n",
        "              neg_log_likelihood = model.neg_log_likelihood(sentence_in.cuda(), targets.cuda(), chars2_mask.cuda(), chars2_length, d)\n",
        "          else:\n",
        "              neg_log_likelihood = model.neg_log_likelihood(sentence_in, targets, chars2_mask, chars2_length, d)\n",
        "\n",
        "          loss += neg_log_likelihood.item() / len(data['words'])\n",
        "          neg_log_likelihood.backward()\n",
        "\n",
        "          #we use gradient clipping to avoid exploding gradients\n",
        "          torch.nn.utils.clip_grad_norm(model.parameters(), gradient_clip)\n",
        "          optimizer.step()\n",
        "\n",
        "          #Storing loss\n",
        "          if count % plot_every == 0:\n",
        "              loss /= plot_every\n",
        "              print(count, ': ', loss)\n",
        "              if losses == []:\n",
        "                  losses.append(loss)\n",
        "              losses.append(loss)\n",
        "              loss = 0.0\n",
        "\n",
        "          #Evaluating on Train, Test, Dev Sets\n",
        "          if count % (eval_every) == 0 and count > (eval_every * 20) or count % (eval_every*4) == 0 and count < (eval_every * 20):\n",
        "              print(f'Evaluating on Train, Test, Dev Sets at count={count}')\n",
        "              model.train(False)\n",
        "              best_train_F, new_train_F, new_train_acc, _ = evaluating(model, train_data, best_train_F,\"Train\")\n",
        "              best_dev_F, new_dev_F, new_dev_acc, save = evaluating(model, dev_data, best_dev_F,\"Dev\")\n",
        "              if save:\n",
        "                  print(\"Saving Model to \", model_name)\n",
        "                  torch.save(model.state_dict(), model_name)\n",
        "              best_test_F, new_test_F, new_test_acc, _ = evaluating(model, test_data, best_test_F,\"Test\")\n",
        "\n",
        "              all_F.append([new_train_F, new_dev_F, new_test_F])\n",
        "              all_acc.append([new_train_acc, new_dev_acc, new_test_acc])\n",
        "\n",
        "              model.train(True)\n",
        "\n",
        "          #Performing decay on the learning rate\n",
        "          if count % len(train_data) == 0:\n",
        "              adjust_learning_rate(optimizer, lr=learning_rate/(1+decay_rate*count/len(train_data)))\n",
        "\n",
        "      if es.step(all_acc[-1][1]):\n",
        "        print(f'Early stopping: epoch={epoch}, count={count}, new_acc_F={all_acc[-1][1]}')\n",
        "        break # early stopping criterion is met, we can stop now\n",
        "\n",
        "  print(f'{(time.time() - tr) / 60} minutes')\n",
        "  plt.plot(losses)\n",
        "  plt.show()\n",
        "\n",
        "  return all_F"
      ],
      "execution_count": 0,
      "outputs": []
    },
    {
      "cell_type": "markdown",
      "metadata": {
        "id": "T-yg7sH0DRgA",
        "colab_type": "text"
      },
      "source": [
        "# REPORT"
      ]
    },
    {
      "cell_type": "markdown",
      "metadata": {
        "id": "L2vw1ZZk2kX2",
        "colab_type": "text"
      },
      "source": [
        "### (iv) Replace the LSTM-based word-level encoder with a CNN layer (convolutional layer followed by an optional max pooling layer). The CNN layer should have the same output dimensions (out_channels) as the LSTM."
      ]
    },
    {
      "cell_type": "code",
      "metadata": {
        "id": "wfTxygLeDRfR",
        "colab_type": "code",
        "colab": {}
      },
      "source": [
        "class BiLSTM_CRF(nn.Module):\n",
        "\n",
        "    def __init__(self, vocab_size, tag_to_ix, embedding_dim, hidden_dim,\n",
        "                 char_to_ix=None, pre_word_embeds=None, char_out_dimension=25,char_embedding_dim=25, use_gpu=False\n",
        "                 , use_crf=True, char_mode='CNN', encoder_mode='LSTM'):\n",
        "        '''\n",
        "        Input parameters:\n",
        "                \n",
        "                vocab_size= Size of vocabulary (int)\n",
        "                tag_to_ix = Dictionary that maps NER tags to indices\n",
        "                embedding_dim = Dimension of word embeddings (int)\n",
        "                hidden_dim = The hidden dimension of the LSTM layer (int)\n",
        "                char_to_ix = Dictionary that maps characters to indices\n",
        "                pre_word_embeds = Numpy array which provides mapping from word embeddings to word indices\n",
        "                char_out_dimension = Output dimension from the CNN encoder for character\n",
        "                char_embedding_dim = Dimension of the character embeddings\n",
        "                use_gpu = defines availability of GPU, \n",
        "                    when True: CUDA function calls are made\n",
        "                    else: Normal CPU function calls are made\n",
        "                use_crf = parameter which decides if you want to use the CRF layer for output decoding\n",
        "        '''\n",
        "        \n",
        "        super(BiLSTM_CRF, self).__init__()\n",
        "        \n",
        "        #parameter initialization for the model\n",
        "        self.use_gpu = use_gpu\n",
        "        self.embedding_dim = embedding_dim\n",
        "        self.hidden_dim = hidden_dim\n",
        "        self.vocab_size = vocab_size\n",
        "        self.tag_to_ix = tag_to_ix\n",
        "        self.use_crf = use_crf\n",
        "        self.tagset_size = len(tag_to_ix)\n",
        "        self.out_channels = char_out_dimension\n",
        "        self.char_mode = char_mode\n",
        "        self.encoder_mode = encoder_mode\n",
        "        self.char_lstm = None\n",
        "\n",
        "        if char_embedding_dim is not None:\n",
        "            self.char_embedding_dim = char_embedding_dim\n",
        "            \n",
        "            #Initializing the character embedding layer\n",
        "            self.char_embeds = nn.Embedding(len(char_to_ix), char_embedding_dim)\n",
        "            init_embedding(self.char_embeds.weight)\n",
        "            \n",
        "            #Performing LSTM encoding on the character embeddings\n",
        "            if self.char_mode == 'LSTM':\n",
        "                self.char_lstm = nn.LSTM(char_embedding_dim, self.char_lstm_dim, num_layers=1, bidirectional=True)\n",
        "                init_lstm(self.char_lstm)\n",
        "                \n",
        "            #Performing CNN encoding on the character embeddings\n",
        "            if self.char_mode == 'CNN':\n",
        "                self.char_cnn3 = nn.Conv2d(in_channels=1, out_channels=self.out_channels, kernel_size=(3, char_embedding_dim), padding=(2,0))\n",
        "\n",
        "        #Creating Embedding layer with dimension of ( number of words * dimension of each word)\n",
        "        self.word_embeds = nn.Embedding(vocab_size, embedding_dim)\n",
        "        if pre_word_embeds is not None:\n",
        "            #Initializes the word embeddings with pretrained word embeddings\n",
        "            self.pre_word_embeds = True\n",
        "            self.word_embeds.weight = nn.Parameter(torch.FloatTensor(pre_word_embeds))\n",
        "        else:\n",
        "            self.pre_word_embeds = False\n",
        "    \n",
        "        #Initializing the dropout layer, with dropout specificed in parameters\n",
        "        self.dropout = nn.Dropout(parameters['dropout'])\n",
        "        \n",
        "        # Lstm Layer:\n",
        "        if self.encoder_mode == 'LSTM':\n",
        "          if self.char_mode == 'LSTM':\n",
        "              self.lstm = nn.LSTM(embedding_dim+self.char_lstm_dim*2, hidden_dim, bidirectional=True)\n",
        "          if self.char_mode == 'CNN':\n",
        "              self.lstm = nn.LSTM(embedding_dim+self.out_channels, hidden_dim, bidirectional=True)\n",
        "          \n",
        "          #Initializing the lstm layer using predefined function for initialization\n",
        "          init_lstm(self.lstm)\n",
        "\n",
        "          # Linear layer which maps the output of the bidirectional LSTM into tag space.\n",
        "          self.hidden2tag = nn.Linear(hidden_dim*2, self.tagset_size)\n",
        "\n",
        "        # CNN (Single layer):\n",
        "        if self.encoder_mode == 'CNN':\n",
        "          # Conv layer\n",
        "          self.cnn = nn.Conv2d(in_channels=1, out_channels=hidden_dim*2, kernel_size=(1,1), padding=(0,0), dilation=1)\n",
        "\n",
        "          # Initializing the conv layers\n",
        "          nn.init.xavier_uniform(self.cnn.weight)\n",
        "\n",
        "          if self.char_mode == 'LSTM':\n",
        "              print(f'embedding_dim={embedding_dim}, char_lstm_dim={self.char_lstm_dim*2}, in={embedding_dim+self.char_lstm_dim*2}')\n",
        "              self.maxpool = nn.MaxPool2d((1, embedding_dim+self.char_lstm_dim*2))\n",
        "          if self.char_mode == 'CNN':\n",
        "              print(f'embedding_dim={embedding_dim}, self.out_channels={self.out_channels}, in={embedding_dim+self.out_channels}')\n",
        "              self.maxpool = nn.MaxPool2d((1, embedding_dim+self.out_channels))\n",
        "\n",
        "        # CNN (Multiple layers):\n",
        "        if self.encoder_mode == 'CNN_MULTIPLE':\n",
        "          # Conv layers\n",
        "\n",
        "        # Linear layer which maps the output of the bidirectional LSTM into tag space.\n",
        "        self.hidden2tag = nn.Linear(hidden_dim*2, self.tagset_size)\n",
        "        \n",
        "        #Initializing the linear layer using predefined function for initialization\n",
        "        init_linear(self.hidden2tag)\n",
        "\n",
        "        if self.use_crf:\n",
        "            # Matrix of transition parameters.  Entry i,j is the score of transitioning *to* i *from* j.\n",
        "            # Matrix has a dimension of (total number of tags * total number of tags)\n",
        "            self.transitions = nn.Parameter(\n",
        "                torch.zeros(self.tagset_size, self.tagset_size))\n",
        "            \n",
        "            # These two statements enforce the constraint that we never transfer\n",
        "            # to the start tag and we never transfer from the stop tag\n",
        "            self.transitions.data[tag_to_ix[START_TAG], :] = -10000\n",
        "            self.transitions.data[:, tag_to_ix[STOP_TAG]] = -10000\n",
        "\n",
        "    #assigning the functions, which we have defined earlier\n",
        "    _score_sentence = score_sentences\n",
        "    _get_lstm_features = get_lstm_features\n",
        "    _get_cnn_features = get_cnn_features\n",
        "    _forward_alg = forward_alg\n",
        "    viterbi_decode = viterbi_algo\n",
        "    neg_log_likelihood = get_neg_log_likelihood\n",
        "    forward = forward_calc"
      ],
      "execution_count": 0,
      "outputs": []
    },
    {
      "cell_type": "markdown",
      "metadata": {
        "id": "UceGM0YTigs7",
        "colab_type": "text"
      },
      "source": [
        "The get_cnn_features function returns the CNN's tag vectors. The function performs all the steps mentioned above for the model.\n",
        "\n",
        "Steps:\n",
        "1. It takes in characters, converts them to embeddings using our character CNN.\n",
        "2. We concat Character Embedding with glove vectors, use this as features that we feed to CNN. \n",
        "3. The CNN generates outputs based on these set of features.\n",
        "4. The output are passed through a linear layer to convert to tag space."
      ]
    },
    {
      "cell_type": "code",
      "metadata": {
        "id": "RQsA-5DgcA2S",
        "colab_type": "code",
        "colab": {}
      },
      "source": [
        "def get_cnn_features(self, sentence, chars2, chars2_length, d):\n",
        "    \n",
        "    if self.char_mode == 'LSTM':\n",
        "        \n",
        "            chars_embeds = self.char_embeds(chars2).transpose(0, 1)\n",
        "            \n",
        "            packed = torch.nn.utils.rnn.pack_padded_sequence(chars_embeds, chars2_length)\n",
        "            \n",
        "            lstm_out, _ = self.char_lstm(packed)\n",
        "            \n",
        "            outputs, output_lengths = torch.nn.utils.rnn.pad_packed_sequence(lstm_out)\n",
        "            \n",
        "            outputs = outputs.transpose(0, 1)\n",
        "            \n",
        "            chars_embeds_temp = Variable(torch.FloatTensor(torch.zeros((outputs.size(0), outputs.size(2)))))\n",
        "            \n",
        "            if self.use_gpu:\n",
        "                chars_embeds_temp = chars_embeds_temp.cuda()\n",
        "            \n",
        "            for i, index in enumerate(output_lengths):\n",
        "                chars_embeds_temp[i] = torch.cat((outputs[i, index-1, :self.char_lstm_dim], outputs[i, 0, self.char_lstm_dim:]))\n",
        "            \n",
        "            chars_embeds = chars_embeds_temp.clone()\n",
        "            \n",
        "            for i in range(chars_embeds.size(0)):\n",
        "                chars_embeds[d[i]] = chars_embeds_temp[i]\n",
        "    \n",
        "    \n",
        "    if self.char_mode == 'CNN':\n",
        "        chars_embeds = self.char_embeds(chars2).unsqueeze(1)\n",
        "\n",
        "        ## Creating Character level representation using Convolutional Neural Netowrk\n",
        "        ## followed by a Maxpooling Layer\n",
        "        chars_cnn_out3 = self.char_cnn3(chars_embeds)\n",
        "        chars_embeds = nn.functional.max_pool2d(chars_cnn_out3,\n",
        "                                             kernel_size=(chars_cnn_out3.size(2), 1)).view(chars_cnn_out3.size(0), self.out_channels)\n",
        "\n",
        "    ## Loading word embeddings\n",
        "    embeds = self.word_embeds(sentence)\n",
        "\n",
        "    ## We concatenate the word embeddings and the character level representation\n",
        "    ## to create unified representation for each word\n",
        "    embeds = torch.cat((embeds, chars_embeds), 1)\n",
        "\n",
        "    embeds = embeds.unsqueeze(1).unsqueeze(1)\n",
        "\n",
        "    # print(f'embeds size: {embeds.size()}')\n",
        "\n",
        "    ## Word lstm\n",
        "    ## Takes words as input and generates an output\n",
        "    cnn_out = self.cnn(embeds)\n",
        "\n",
        "    ## Maxpool on the lstm output\n",
        "    cnn_out = self.maxpool(cnn_out)\n",
        "\n",
        "    ## Reshaping the outputs from the cnn layer\n",
        "    cnn_out = cnn_out.squeeze(-1).squeeze(-1)\n",
        "\n",
        "    # print(f'cnn_out: {cnn_out.size()}')\n",
        "\n",
        "    ## Linear layer converts the ouput vectors to tag space\n",
        "    cnn_feats = self.hidden2tag(cnn_out)\n",
        "    \n",
        "    return cnn_feats"
      ],
      "execution_count": 0,
      "outputs": []
    },
    {
      "cell_type": "markdown",
      "metadata": {
        "id": "Rv0yW9FF24Ha",
        "colab_type": "text"
      },
      "source": [
        "### (v-1) Single-layer CNN word-level encoder + CNN for char-level encoder"
      ]
    },
    {
      "cell_type": "code",
      "metadata": {
        "id": "mccH21ymDRgE",
        "colab_type": "code",
        "colab": {
          "base_uri": "https://localhost:8080/",
          "height": 1000
        },
        "outputId": "7e316a20-8d7d-4a65-b45d-ca68f30d9626"
      },
      "source": [
        "parameters['char_mode'] = \"CNN\"\n",
        "parameters['encoder_mode'] = \"CNN\"\n",
        "parameters['crf'] = 1\n",
        "\n",
        "# 1-layer CNN word + CNN char\n",
        "all_F = create_and_train_model()"
      ],
      "execution_count": 48,
      "outputs": [
        {
          "output_type": "stream",
          "text": [
            "/usr/local/lib/python3.6/dist-packages/ipykernel_launcher.py:6: UserWarning: nn.init.uniform is now deprecated in favor of nn.init.uniform_.\n",
            "  \n",
            "/usr/local/lib/python3.6/dist-packages/ipykernel_launcher.py:88: UserWarning: nn.init.xavier_uniform is now deprecated in favor of nn.init.xavier_uniform_.\n",
            "/usr/local/lib/python3.6/dist-packages/ipykernel_launcher.py:102: UserWarning: torch.nn.utils.clip_grad_norm is now deprecated in favor of torch.nn.utils.clip_grad_norm_.\n"
          ],
          "name": "stderr"
        },
        {
          "output_type": "stream",
          "text": [
            "embedding_dim=100, self.out_channels=25, in=125\n",
            "\n",
            "Char mode: CNN, Encoder mode: CNN, Cuda: True\n",
            "Epoch 1:\n",
            "2000 :  0.6999656876290284\n",
            "4000 :  0.36054672385670405\n",
            "6000 :  0.3425540267903432\n",
            "8000 :  0.25085086119829664\n",
            "10000 :  0.2631720641085934\n",
            "12000 :  0.24948533430994435\n",
            "14000 :  0.268004925583308\n",
            "Epoch 2:\n",
            "16000 :  0.21739385083065013\n",
            "18000 :  0.2257457010007625\n",
            "20000 :  0.21804287553725438\n",
            "22000 :  0.19705344414308779\n",
            "24000 :  0.1909080000798356\n",
            "26000 :  0.18354038541399215\n",
            "28000 :  0.19718571271392138\n",
            "Epoch 3:\n",
            "30000 :  0.17829566045886566\n",
            "32000 :  0.17786070183358643\n",
            "34000 :  0.16118069171600422\n",
            "36000 :  0.18577580128912677\n",
            "38000 :  0.16463692108112984\n",
            "40000 :  0.15390493698070087\n",
            "42000 :  0.16319423478293896\n",
            "Epoch 4:\n",
            "44000 :  0.1708928261640671\n",
            "46000 :  0.15898663676010397\n",
            "48000 :  0.14564457203240802\n",
            "50000 :  0.14755385631157508\n",
            "52000 :  0.13740185881051412\n",
            "54000 :  0.1511636443664413\n",
            "56000 :  0.1625764738364729\n",
            "Evaluating on Train, Test, Dev Sets at count=56164\n",
            "Train: new_F: 0.8856769626227298 best_F: -1.0 new_acc:0.8753487984673691 \n",
            "Dev: new_F: 0.7874170557876629 best_F: -1.0 new_acc:0.7667517549457562 \n",
            "Saving Model to  ./models/self-trained-model\n",
            "Test: new_F: 0.696319018404908 best_F: -1.0 new_acc:0.6696165191740413 \n",
            "Epoch 5:\n",
            "58000 :  0.12431853173197344\n",
            "60000 :  0.14251662006256763\n",
            "62000 :  0.12583327517978454\n",
            "64000 :  0.15579515907626443\n",
            "66000 :  0.14134497309605512\n",
            "68000 :  0.14381241600894742\n",
            "70000 :  0.1362555314872859\n",
            "Epoch 6:\n",
            "72000 :  0.11603114698330869\n",
            "74000 :  0.1366910529173171\n",
            "76000 :  0.12124816956585845\n",
            "78000 :  0.11901367630105368\n",
            "80000 :  0.12124701898561233\n",
            "82000 :  0.13729568004462772\n",
            "84000 :  0.14369014608371405\n",
            "Epoch 7:\n",
            "86000 :  0.10526811073123193\n",
            "88000 :  0.11059653968063062\n",
            "90000 :  0.14072841884525783\n",
            "92000 :  0.10416299728294524\n",
            "94000 :  0.12028376627786114\n",
            "96000 :  0.12350966714597932\n",
            "98000 :  0.11909005769071303\n",
            "Epoch 8:\n",
            "100000 :  0.10718652159691441\n",
            "102000 :  0.10141823796496192\n",
            "104000 :  0.1235339810344661\n",
            "106000 :  0.1135614968280124\n",
            "108000 :  0.11805092362990069\n",
            "110000 :  0.11140380155700298\n",
            "112000 :  0.11902526355833767\n",
            "Evaluating on Train, Test, Dev Sets at count=112328\n",
            "Train: new_F: 0.9009412819363515 best_F: 0.8856769626227298 new_acc:0.9019230769230769 \n",
            "Dev: new_F: 0.7930977268956363 best_F: 0.7874170557876629 new_acc:0.7816843826655765 \n",
            "Saving Model to  ./models/self-trained-model\n",
            "Test: new_F: 0.713768740306738 best_F: 0.696319018404908 new_acc:0.6935699933020764 \n",
            "Epoch 9:\n",
            "114000 :  0.09149141452261772\n",
            "116000 :  0.11509898368615867\n",
            "118000 :  0.10555229565879203\n",
            "120000 :  0.10653134914747225\n",
            "122000 :  0.0904586320232466\n",
            "124000 :  0.10970660149018999\n",
            "126000 :  0.10152037542834855\n",
            "Epoch 10:\n",
            "128000 :  0.10311500638128795\n",
            "130000 :  0.09853698591619821\n",
            "132000 :  0.11624204875391964\n",
            "134000 :  0.09069366725814455\n",
            "136000 :  0.10066969718115304\n",
            "138000 :  0.10002559508114531\n",
            "140000 :  0.08982171416066827\n",
            "Epoch 11:\n",
            "142000 :  0.09874075964406688\n",
            "144000 :  0.09249736690695998\n",
            "146000 :  0.10491316574841196\n",
            "148000 :  0.11987766884689428\n",
            "150000 :  0.10107362710703553\n",
            "152000 :  0.10029254605655412\n",
            "154000 :  0.09119010870857776\n",
            "Early stopping: epoch=11, count=154451, new_acc_F=0.7816843826655765\n",
            "1590.6750254631042\n"
          ],
          "name": "stdout"
        },
        {
          "output_type": "display_data",
          "data": {
            "image/png": "[encoded data removed]",
            "text/plain": [
              "<Figure size 480x320 with 1 Axes>"
            ]
          },
          "metadata": {
            "tags": []
          }
        }
      ]
    },
    {
      "cell_type": "markdown",
      "metadata": {
        "id": "o4YJkT-f3A2w",
        "colab_type": "text"
      },
      "source": [
        "### (v-2) Single-layer CNN word-level encoder + LSTM char-level encoder"
      ]
    },
    {
      "cell_type": "code",
      "metadata": {
        "id": "VFlfig9W3lgG",
        "colab_type": "code",
        "colab": {}
      },
      "source": [
        "parameters['char_mode'] = \"LSTM\"\n",
        "parameters['encoder_mode'] = \"CNN\"\n",
        "parameters['crf'] = 1\n",
        "\n",
        "# 1-layer CNN word + LSTM char\n",
        "all_F_1 = create_and_train_model()"
      ],
      "execution_count": 0,
      "outputs": []
    },
    {
      "cell_type": "markdown",
      "metadata": {
        "id": "UcEisCTl3lws",
        "colab_type": "text"
      },
      "source": [
        "### (vi-1) Multi-layer CNN word-level encoder + CNN char-level encoder"
      ]
    },
    {
      "cell_type": "code",
      "metadata": {
        "id": "pldyXlb53xTF",
        "colab_type": "code",
        "colab": {}
      },
      "source": [
        "parameters['char_mode'] = \"CNN\"\n",
        "parameters['encoder_mode'] = \"CNN_MULTIPLE\"\n",
        "parameters['crf'] = 1\n",
        "\n",
        "# 2-layer CNN\n",
        "parameters['num_of_cnn_layers'] = 2\n",
        "all_F_2 = create_and_train_model()\n",
        "\n",
        "# 3-layer CNN\n",
        "parameters['num_of_cnn_layers'] = 3\n",
        "all_F_3 = create_and_train_model()\n",
        "\n",
        "# 4-layer CNN\n",
        "parameters['num_of_cnn_layers'] = 4\n",
        "all_F_4 = create_and_train_model()"
      ],
      "execution_count": 0,
      "outputs": []
    },
    {
      "cell_type": "markdown",
      "metadata": {
        "id": "RAK8EYh-3yMZ",
        "colab_type": "text"
      },
      "source": [
        "### (vii) Replace the simple convolution layers in steps (iv-v) by dialated convolution layers. In particular, define a CNN with `3` dialated layers, where dialated factor varies from `1` (first layer) to `3` (third layer). Report the NER results with the newly implemented dialated layers (you do not need to change anything in the network)."
      ]
    },
    {
      "cell_type": "code",
      "metadata": {
        "id": "Hht4SYgA4_q1",
        "colab_type": "code",
        "colab": {}
      },
      "source": [
        "parameters['char_mode'] = \"CNN\"\n",
        "parameters['encoder_mode'] = \"CNN_DILATED\"\n",
        "parameters['crf'] = 1\n",
        "\n",
        "all_F_DILATED = create_and_train_model()"
      ],
      "execution_count": 0,
      "outputs": []
    },
    {
      "cell_type": "markdown",
      "metadata": {
        "id": "waL8uJED5AYp",
        "colab_type": "text"
      },
      "source": [
        "### (viii) Now, instead of using a CRF output layer, simply use a softmax output and report the results."
      ]
    },
    {
      "cell_type": "code",
      "metadata": {
        "id": "dqcSo5Ul5GRR",
        "colab_type": "code",
        "colab": {}
      },
      "source": [
        "parameters['char_mode'] = \"CNN\"\n",
        "parameters['encoder_mode'] = \"CNN_DILATED\"\n",
        "parameters['crf'] = 0\n",
        "\n",
        "all_F_DILATED = create_and_train_model()"
      ],
      "execution_count": 0,
      "outputs": []
    },
    {
      "cell_type": "markdown",
      "metadata": {
        "id": "xr42qAcW5GfX",
        "colab_type": "text"
      },
      "source": [
        "### (ix) Please summarize your observations."
      ]
    },
    {
      "cell_type": "code",
      "metadata": {
        "id": "oYnj-J2Z5KSD",
        "colab_type": "code",
        "colab": {}
      },
      "source": [
        ""
      ],
      "execution_count": 0,
      "outputs": []
    }
  ]
}