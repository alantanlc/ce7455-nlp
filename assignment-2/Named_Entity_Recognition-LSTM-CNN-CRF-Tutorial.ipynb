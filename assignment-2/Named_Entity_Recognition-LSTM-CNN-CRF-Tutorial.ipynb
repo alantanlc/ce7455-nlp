{
  "nbformat": 4,
  "nbformat_minor": 0,
  "metadata": {
    "kernelspec": {
      "name": "python3",
      "display_name": "Python 3"
    },
    "language_info": {
      "codemirror_mode": {
        "name": "ipython",
        "version": 3
      },
      "file_extension": ".py",
      "mimetype": "text/x-python",
      "name": "python",
      "nbconvert_exporter": "python",
      "pygments_lexer": "ipython3",
      "version": "3.7.4"
    },
    "colab": {
      "name": "Named_Entity_Recognition-LSTM-CNN-CRF-Tutorial.ipynb",
      "provenance": [],
      "include_colab_link": true
    },
    "accelerator": "GPU"
  },
  "cells": [
    {
      "cell_type": "markdown",
      "metadata": {
        "id": "view-in-github",
        "colab_type": "text"
      },
      "source": [
        "<a href=\"https://colab.research.google.com/github/alanwuha/ce7455-nlp/blob/master/assignment-2/Named_Entity_Recognition-LSTM-CNN-CRF-Tutorial.ipynb\" target=\"_parent\"><img src=\"https://colab.research.google.com/assets/colab-badge.svg\" alt=\"Open In Colab\"/></a>"
      ]
    },
    {
      "cell_type": "markdown",
      "metadata": {
        "id": "P6vuxyFFZR-6",
        "colab_type": "text"
      },
      "source": [
        "### End-to-end Sequence Labeling via Bi-Directional LSTM-CNNs-CRF\n",
        "\n",
        "In this tutorial we will demonstrate how to implement a state of the art Bi-Directional LSTM-CNN-CRF architecture (Published at ACL'16. [Link To Paper](https://www.aclweb.org/anthology/P16-1101/)) for Named Entity Recognition using Pytorch.\n",
        "\n",
        "The main aim of the tutorial is to make the audience comfortable with pytorch using this tutorial and give a step-by-by-step walk through of the Bi-LSTM-CNN-CRF architecture for NER. Some familiarity with pytorch (or any other deep learning framework) would definitely be a plus.\n",
        "\n",
        "The agenda of this tutorial is as follows:\n",
        "1. Getting Ready with the data\n",
        "2. Network Definition. This includes\n",
        "  - CNN Encoder for Character Level representation.\n",
        "  - Bi-Directional LSTM for Word-Level Encoding.\n",
        "  - Conditional Random Fields (CRF) for output decoding\n",
        "3. Training\n",
        "4. Model testing"
      ]
    },
    {
      "cell_type": "markdown",
      "metadata": {
        "id": "6KwnCFnUS4YC",
        "colab_type": "text"
      },
      "source": [
        "#### Download the dataset"
      ]
    },
    {
      "cell_type": "code",
      "metadata": {
        "id": "A1ITBcvPLWNG",
        "colab_type": "code",
        "outputId": "36964f57-57f8-48c8-dd27-5bd571adad8b",
        "colab": {
          "base_uri": "https://localhost:8080/",
          "height": 1000
        }
      },
      "source": [
        "!rm -rf data\n",
        "!mkdir data\n",
        "!wget -P ./data https://raw.githubusercontent.com/TheAnig/NER-LSTM-CNN-Pytorch/master/data/eng.testa\n",
        "!wget -P ./data https://raw.githubusercontent.com/TheAnig/NER-LSTM-CNN-Pytorch/master/data/eng.testb\n",
        "!wget -P ./data https://raw.githubusercontent.com/TheAnig/NER-LSTM-CNN-Pytorch/master/data/eng.train\n",
        "!wget -P ./data https://raw.githubusercontent.com/TheAnig/NER-LSTM-CNN-Pytorch/master/data/eng.train54019\n",
        "!wget -P ./data https://raw.githubusercontent.com/TheAnig/NER-LSTM-CNN-Pytorch/master/data/mapping.pkl\n",
        "!wget -P ./data http://nlp.stanford.edu/data/glove.6B.zip\n",
        "!unzip ./data/glove.6B.zip -d ./data"
      ],
      "execution_count": 4,
      "outputs": [
        {
          "output_type": "stream",
          "text": [
            "--2020-03-04 06:21:51--  https://raw.githubusercontent.com/TheAnig/NER-LSTM-CNN-Pytorch/master/data/eng.testa\n",
            "Resolving raw.githubusercontent.com (raw.githubusercontent.com)... 151.101.0.133, 151.101.64.133, 151.101.128.133, ...\n",
            "Connecting to raw.githubusercontent.com (raw.githubusercontent.com)|151.101.0.133|:443... connected.\n",
            "HTTP request sent, awaiting response... 200 OK\n",
            "Length: 827009 (808K) [text/plain]\n",
            "Saving to: ‘./data/eng.testa’\n",
            "\n",
            "\reng.testa             0%[                    ]       0  --.-KB/s               \reng.testa           100%[===================>] 807.63K  --.-KB/s    in 0.01s   \n",
            "\n",
            "2020-03-04 06:21:52 (57.0 MB/s) - ‘./data/eng.testa’ saved [827009/827009]\n",
            "\n",
            "--2020-03-04 06:21:57--  https://raw.githubusercontent.com/TheAnig/NER-LSTM-CNN-Pytorch/master/data/eng.testb\n",
            "Resolving raw.githubusercontent.com (raw.githubusercontent.com)... 151.101.0.133, 151.101.64.133, 151.101.128.133, ...\n",
            "Connecting to raw.githubusercontent.com (raw.githubusercontent.com)|151.101.0.133|:443... connected.\n",
            "HTTP request sent, awaiting response... 200 OK\n",
            "Length: 748094 (731K) [text/plain]\n",
            "Saving to: ‘./data/eng.testb’\n",
            "\n",
            "eng.testb           100%[===================>] 730.56K  --.-KB/s    in 0.02s   \n",
            "\n",
            "2020-03-04 06:22:00 (39.9 MB/s) - ‘./data/eng.testb’ saved [748094/748094]\n",
            "\n",
            "--2020-03-04 06:22:05--  https://raw.githubusercontent.com/TheAnig/NER-LSTM-CNN-Pytorch/master/data/eng.train\n",
            "Resolving raw.githubusercontent.com (raw.githubusercontent.com)... 151.101.0.133, 151.101.64.133, 151.101.128.133, ...\n",
            "Connecting to raw.githubusercontent.com (raw.githubusercontent.com)|151.101.0.133|:443... connected.\n",
            "HTTP request sent, awaiting response... 200 OK\n",
            "Length: 3281527 (3.1M) [text/plain]\n",
            "Saving to: ‘./data/eng.train’\n",
            "\n",
            "eng.train           100%[===================>]   3.13M  --.-KB/s    in 0.03s   \n",
            "\n",
            "2020-03-04 06:22:06 (105 MB/s) - ‘./data/eng.train’ saved [3281527/3281527]\n",
            "\n",
            "--2020-03-04 06:22:10--  https://raw.githubusercontent.com/TheAnig/NER-LSTM-CNN-Pytorch/master/data/eng.train54019\n",
            "Resolving raw.githubusercontent.com (raw.githubusercontent.com)... 151.101.0.133, 151.101.64.133, 151.101.128.133, ...\n",
            "Connecting to raw.githubusercontent.com (raw.githubusercontent.com)|151.101.0.133|:443... connected.\n",
            "HTTP request sent, awaiting response... 200 OK\n",
            "Length: 811103 (792K) [text/plain]\n",
            "Saving to: ‘./data/eng.train54019’\n",
            "\n",
            "eng.train54019      100%[===================>] 792.09K  --.-KB/s    in 0.01s   \n",
            "\n",
            "2020-03-04 06:22:10 (81.3 MB/s) - ‘./data/eng.train54019’ saved [811103/811103]\n",
            "\n",
            "--2020-03-04 06:22:14--  https://raw.githubusercontent.com/TheAnig/NER-LSTM-CNN-Pytorch/master/data/mapping.pkl\n",
            "Resolving raw.githubusercontent.com (raw.githubusercontent.com)... 151.101.0.133, 151.101.64.133, 151.101.128.133, ...\n",
            "Connecting to raw.githubusercontent.com (raw.githubusercontent.com)|151.101.0.133|:443... connected.\n",
            "HTTP request sent, awaiting response... 200 OK\n",
            "Length: 14350005 (14M) [application/octet-stream]\n",
            "Saving to: ‘./data/mapping.pkl’\n",
            "\n",
            "mapping.pkl         100%[===================>]  13.68M  --.-KB/s    in 0.1s    \n",
            "\n",
            "2020-03-04 06:22:16 (139 MB/s) - ‘./data/mapping.pkl’ saved [14350005/14350005]\n",
            "\n",
            "--2020-03-04 06:22:18--  http://nlp.stanford.edu/data/glove.6B.zip\n",
            "Resolving nlp.stanford.edu (nlp.stanford.edu)... 171.64.67.140\n",
            "Connecting to nlp.stanford.edu (nlp.stanford.edu)|171.64.67.140|:80... connected.\n",
            "HTTP request sent, awaiting response... 302 Found\n",
            "Location: https://nlp.stanford.edu/data/glove.6B.zip [following]\n",
            "--2020-03-04 06:22:18--  https://nlp.stanford.edu/data/glove.6B.zip\n",
            "Connecting to nlp.stanford.edu (nlp.stanford.edu)|171.64.67.140|:443... connected.\n",
            "HTTP request sent, awaiting response... 301 Moved Permanently\n",
            "Location: http://downloads.cs.stanford.edu/nlp/data/glove.6B.zip [following]\n",
            "--2020-03-04 06:22:19--  http://downloads.cs.stanford.edu/nlp/data/glove.6B.zip\n",
            "Resolving downloads.cs.stanford.edu (downloads.cs.stanford.edu)... 171.64.64.22\n",
            "Connecting to downloads.cs.stanford.edu (downloads.cs.stanford.edu)|171.64.64.22|:80... connected.\n",
            "HTTP request sent, awaiting response... 200 OK\n",
            "Length: 862182613 (822M) [application/zip]\n",
            "Saving to: ‘./data/glove.6B.zip’\n",
            "\n",
            "glove.6B.zip        100%[===================>] 822.24M  2.16MB/s    in 6m 31s  \n",
            "\n",
            "2020-03-04 06:28:50 (2.10 MB/s) - ‘./data/glove.6B.zip’ saved [862182613/862182613]\n",
            "\n",
            "Archive:  ./data/glove.6B.zip\n",
            "  inflating: ./data/glove.6B.50d.txt  \n",
            "  inflating: ./data/glove.6B.100d.txt  \n",
            "  inflating: ./data/glove.6B.200d.txt  \n",
            "  inflating: ./data/glove.6B.300d.txt  \n"
          ],
          "name": "stdout"
        }
      ]
    },
    {
      "cell_type": "markdown",
      "metadata": {
        "id": "eRJXANpsaowC",
        "colab_type": "text"
      },
      "source": [
        "#### Data Preparation\n",
        "\n",
        "The paper uses the English data from CoNLL 2003 shared task [1]. We will later apply more preprocessing steps to generate tag mapping, word mapping and character mapping. The data set contains four different types of named entities: PERSON, LOCATION, ORGANIZATION, and MISC and uses the BIO tagging scheme.\n",
        "\n",
        "BIO tagging scheme:\n",
        "```\n",
        "  I - Word is inside a phrase of type TYPE\n",
        "  B - If two phrases of the same type immediately follow each other, the first word of the second phrase will have a B-TYPE\n",
        "  O - Word is not part of a phrase\n",
        "```\n",
        "\n",
        "Example of English-NER sentence available in the data:\n",
        "```\n",
        "  U.N.         NNP   I-NP   I-ORG\n",
        "  official     NN    I-NP   O\n",
        "  Ekeus        NNP   I-NP   I-PER\n",
        "  heads        VBZ   I-VP   O\n",
        "  for          IN    I-PP   O\n",
        "  Baghdad      NNP   I-NP   I-LOC\n",
        "  .            .     O      O\n",
        "```\n",
        "\n",
        "Data Split (We use the same split as mentioned in paper):\n",
        "```\n",
        "  Training Data - eng.train\n",
        "  Validation Data - eng.testa\n",
        "  Testing Data - eng.testb\n",
        "```\n",
        "\n",
        "To get started we first import the necessary libraries."
      ]
    },
    {
      "cell_type": "code",
      "metadata": {
        "id": "UaTzhP7UcXND",
        "colab_type": "code",
        "colab": {}
      },
      "source": [
        "from __future__ import print_function\n",
        "from collections import OrderedDict\n",
        "\n",
        "import torch\n",
        "import torch.nn as nn\n",
        "from torch.nn import init\n",
        "from torch.autograd import Variable\n",
        "from torch import autograd\n",
        "\n",
        "import time\n",
        "import _pickle as cPickle\n",
        "\n",
        "import urllib\n",
        "import matplotlib.pyplot as plt\n",
        "plt.rcParams['figure.dpi'] = 80\n",
        "plt.style.use('seaborn-pastel')\n",
        "\n",
        "import os\n",
        "import sys\n",
        "import codecs\n",
        "import re\n",
        "import numpy as np"
      ],
      "execution_count": 0,
      "outputs": []
    },
    {
      "cell_type": "markdown",
      "metadata": {
        "id": "pohkEQA-dFnI",
        "colab_type": "text"
      },
      "source": [
        "#### Define constants and parameters\n",
        "\n",
        "We now define some constants and parameters that we will be using later."
      ]
    },
    {
      "cell_type": "code",
      "metadata": {
        "id": "rA8mTT_3dU_-",
        "colab_type": "code",
        "colab": {}
      },
      "source": [
        "# parameters for the Model\n",
        "parameters = OrderedDict()\n",
        "parameters['train'] = \"./data/eng.train\"  # Path to train file\n",
        "parameters['dev'] = \"./data/eng.testa\"  # Path to dev file\n",
        "parameters['test'] = \"./data/eng.testb\" # Path to test file\n",
        "parameters['tag_scheme'] = \"BIOES\"  # BIO or BIOES\n",
        "parameters['lower'] = True  # Boolean variable to control lowercasing of words\n",
        "parameters['zeros'] = True # Boolean variable to control replacement of all digits by 0\n",
        "parameters['char_dim'] = 30 # Char embedding dimension\n",
        "parameters['word_dim'] = 100  # Token embedding dimension\n",
        "parameters['word_lstm_dim'] = 200 # Token LSTM hidden layer size\n",
        "parameters['word_bidirect'] = True # Use a bidirectional LSTM for words\n",
        "parameters['embedding_path'] = \"./data/glove.6B.100d.txt\" # Location of pretrained embeddings\n",
        "parameters['all_emb'] = 1 # Load all embeddings\n",
        "parameters['crf'] = 1 # Use CRF (0 to disable)\n",
        "parameters['dropout'] = 0.5 # Dropout on the input (0 = no dropout)\n",
        "parameters['epoch'] = 50  # Number of epochs to run\n",
        "parameters['weights'] = \"\"  # Path to pretrained for from a previous run\n",
        "parameters['name'] = \"self-trained-model\" # Model name\n",
        "parameters['gradient_clip'] = 5.0\n",
        "parameters['char_mode'] = \"CNN\"\n",
        "models_path = \"./models/\" # Path to saved models\n",
        "\n",
        "# GPU\n",
        "parameters['use_gpu'] = torch.cuda.is_available() # GPU check\n",
        "use_gpu = parameters['use_gpu']\n",
        "\n",
        "parameters['reload'] = \"./models/pre-trained-model\"\n",
        "\n",
        "# Constants\n",
        "START_TAG = '<START>'\n",
        "STOP_TAG = '<STOP>'"
      ],
      "execution_count": 0,
      "outputs": []
    },
    {
      "cell_type": "code",
      "metadata": {
        "id": "UuOcOPVFfBnW",
        "colab_type": "code",
        "colab": {}
      },
      "source": [
        "# paths to files\n",
        "# to stored mapping file\n",
        "mapping_file = './data/mapping.pkl'\n",
        "\n",
        "# to stored model\n",
        "name = parameters['name']\n",
        "model_name = models_path + name # get_name(parameters)\n",
        "\n",
        "if not os.path.exists(models_path):\n",
        "  os.makedirs(models_path)"
      ],
      "execution_count": 0,
      "outputs": []
    },
    {
      "cell_type": "markdown",
      "metadata": {
        "id": "lL8Xys02feVO",
        "colab_type": "text"
      },
      "source": [
        "#### Load data and preprocess\n",
        "\n",
        "Firstly, the data is loaded from the train, dev and test files into a list of sentences.\n",
        "\n",
        "Preprocessing:\n",
        "```\n",
        "  * All the digits in the words are replaced by 0\n",
        "```\n",
        "\n",
        "Why this preprocessing step?\n",
        "```\n",
        "  * For the Named Entity Recognition task, the information present in numerical digits does not help in predcting the entity. So, we replace all the digits by 0. So, now the model can concentrate on more important alphabets.\n",
        "```"
      ]
    },
    {
      "cell_type": "code",
      "metadata": {
        "id": "7mhvR271gEU1",
        "colab_type": "code",
        "colab": {}
      },
      "source": [
        "def zero_digits(s):\n",
        "  \"\"\"\n",
        "  Replace every digit in a string by a zero.\n",
        "  \"\"\"\n",
        "  return re.sub('\\d', '0', s)\n",
        "\n",
        "def load_sentences(path, zeros):\n",
        "  \"\"\"\n",
        "  Load sentences. A line must contain at least a word and its tag.\n",
        "  Sentences are separated by empty lines.\n",
        "  \"\"\"\n",
        "  sentences = []\n",
        "  sentence = []\n",
        "  for line in codecs.open(path, 'r', 'utf8'): # codecs.open - open an encoded file using the given mode and return a wrapped version providing transparent encoding/decoding.\n",
        "    line = zero_digits(line.rstrip()) if zeros else line.rstrip() # rstrip: return a copy of the string with trailing whitespace removed. If chars is given and not None, remove characters in chars instead.\n",
        "    if not line:\n",
        "      if len(sentence) > 0:\n",
        "        if 'DOCSTART' not in sentence[0][0]:\n",
        "          sentences.append(sentence)\n",
        "        sentence = []\n",
        "    else:\n",
        "      word = line.split()\n",
        "      assert len(word) >= 2\n",
        "      sentence.append(word)\n",
        "  if len(sentence) > 0:\n",
        "    if 'DOCTSTART' not in sentence[0][0]:\n",
        "      sentences.append(sentence)\n",
        "  return sentences"
      ],
      "execution_count": 0,
      "outputs": []
    },
    {
      "cell_type": "code",
      "metadata": {
        "id": "zEQEjjckLE8x",
        "colab_type": "code",
        "colab": {}
      },
      "source": [
        "train_sentences = load_sentences(parameters['train'], parameters['zeros'])  # eng.train\n",
        "test_sentences = load_sentences(parameters['test'], parameters['zeros'])    # eng.testb\n",
        "dev_sentences = load_sentences(parameters['dev'], parameters['zeros'])      # eng.testa"
      ],
      "execution_count": 0,
      "outputs": []
    },
    {
      "cell_type": "markdown",
      "metadata": {
        "id": "49V4nBFMPVT5",
        "colab_type": "text"
      },
      "source": [
        "### Update tagging scheme\n",
        "\n",
        "Different types of tagging schemes can be used for NER. We update the tags for train, test and dev data (depending on the parameters [tag_scheme]).\n",
        "\n",
        "In the paper, the authors use the tagging scheme ( BIOES ) rather than BIO (which is used by the dataset). So, we need to first update the data to convert tag scheme from BIO to BIOES.\n",
        "\n",
        "BIOES tagging scheme:\n",
        "```\n",
        "  I - Word is inside a phrase of type TYPE\n",
        "  B - If two phrases of the same type immediately follow each other, the first word of the second phrase will have tag B-TYPE\n",
        "  O - Word i not part of a phrase\n",
        "  E - End ( E will not appear in a prefix-only partial match )\n",
        "  S - Single\n",
        "```"
      ]
    },
    {
      "cell_type": "code",
      "metadata": {
        "id": "1a2aLXErQg1i",
        "colab_type": "code",
        "colab": {}
      },
      "source": [
        "def iob2(tags):\n",
        "  \"\"\"\n",
        "  Check that tags have a valid BIO format.\n",
        "  Tags in BIO1 format are converted to BIO2.\n",
        "  \"\"\"\n",
        "  for i, tag in enumerate(tags):\n",
        "    if tag == 'O':\n",
        "      continue\n",
        "    split = tag.split('-')\n",
        "    if len(split) != 2 or split[0] not in ['I', 'B']:\n",
        "      return False\n",
        "    if split[0] == 'B':\n",
        "      continue\n",
        "    elif i == 0 or tags[i - 1] == 'O':  # conversion IOB1 to IOB2\n",
        "      tags[i] = 'B' + tag[1:]\n",
        "    elif tags[i-1][1:] == tag[1:]:\n",
        "      continue\n",
        "    else: # conversion IOB1 to IOB2\n",
        "      tags[i] = 'B' + tag[1:]\n",
        "  return True\n",
        "\n",
        "def iob_iobes(tags):\n",
        "  \"\"\"\n",
        "  the function is used to convert\n",
        "  BIO -> BIOES tagging\n",
        "  \"\"\"\n",
        "  new_tags = []\n",
        "  for i, tag in enumerate(tags):\n",
        "    if tag == 'O':\n",
        "      new_tags.append(tag)\n",
        "    elif tag.split('-')[0] == 'B':\n",
        "      if i + 1 != len(tags) and \\\n",
        "        tags[i + 1].split('-')[0] == 'I':\n",
        "        new_tags.append(tag)\n",
        "      else:\n",
        "        new_tags.append(tag.replace('B-', 'S-'))\n",
        "    elif tag.split('-')[0] == 'I':\n",
        "      if i + 1 < len(tags) and \\\n",
        "        tags[i + 1].split('-')[0] == 'I':\n",
        "        new_tags.append(tag)\n",
        "      else:\n",
        "        new_tags.append(tag.replace('I-', 'E-'))\n",
        "    else:\n",
        "      raise Exception('Invalid IOB format!')\n",
        "  return new_tags\n",
        "\n",
        "def update_tag_scheme(sentences, tag_scheme):\n",
        "  \"\"\"\n",
        "  Check and update sentences tagging scheme to BIO2\n",
        "  Only BIO1 and BIO2 schemes are accepted for input data.\n",
        "  \"\"\"\n",
        "  for i, s in enumerate(sentences):\n",
        "    tags = [w[-1] for w in s]\n",
        "    # Check that tags are given in the BIO format\n",
        "    if not iob2(tags):\n",
        "      s_str = '\\n'.join(' '.join(w) for w in s)\n",
        "      raise Exception('Sentences should be given in BIO format! ' +\n",
        "                      ' Please check sentence %i:\\n%s' % (i, s_str))\n",
        "    if tag_scheme == 'BIOES':\n",
        "      new_tags = iob_iobes(tags)\n",
        "      for word, new_tag in zip(s, new_tags):\n",
        "        word[-1] = new_tag\n",
        "    else:\n",
        "      raise Exception('Wrong tagging scheme!')"
      ],
      "execution_count": 0,
      "outputs": []
    },
    {
      "cell_type": "code",
      "metadata": {
        "id": "pAMpYQohTi4i",
        "colab_type": "code",
        "outputId": "db57e869-f620-4f2b-f931-63541fb2813d",
        "colab": {
          "base_uri": "https://localhost:8080/",
          "height": 88
        }
      },
      "source": [
        "print(train_sentences[0])\n",
        "print(dev_sentences[0])\n",
        "print(test_sentences[0])"
      ],
      "execution_count": 36,
      "outputs": [
        {
          "output_type": "stream",
          "text": [
            "[['EU', 'NNP', 'I-NP', 'I-ORG'], ['rejects', 'VBZ', 'I-VP', 'O'], ['German', 'JJ', 'I-NP', 'I-MISC'], ['call', 'NN', 'I-NP', 'O'], ['to', 'TO', 'I-VP', 'O'], ['boycott', 'VB', 'I-VP', 'O'], ['British', 'JJ', 'I-NP', 'I-MISC'], ['lamb', 'NN', 'I-NP', 'O'], ['.', '.', 'O', 'O']]\n",
            "[['CRICKET', 'NNP', 'I-NP', 'O'], ['-', ':', 'O', 'O'], ['LEICESTERSHIRE', 'NNP', 'I-NP', 'I-ORG'], ['TAKE', 'NNP', 'I-NP', 'O'], ['OVER', 'IN', 'I-PP', 'O'], ['AT', 'NNP', 'I-NP', 'O'], ['TOP', 'NNP', 'I-NP', 'O'], ['AFTER', 'NNP', 'I-NP', 'O'], ['INNINGS', 'NNP', 'I-NP', 'O'], ['VICTORY', 'NN', 'I-NP', 'O'], ['.', '.', 'O', 'O']]\n",
            "[['SOCCER', 'NN', 'I-NP', 'O'], ['-', ':', 'O', 'O'], ['JAPAN', 'NNP', 'I-NP', 'I-LOC'], ['GET', 'VB', 'I-VP', 'O'], ['LUCKY', 'NNP', 'I-NP', 'O'], ['WIN', 'NNP', 'I-NP', 'O'], [',', ',', 'O', 'O'], ['CHINA', 'NNP', 'I-NP', 'I-PER'], ['IN', 'IN', 'I-PP', 'O'], ['SURPRISE', 'DT', 'I-NP', 'O'], ['DEFEAT', 'NN', 'I-NP', 'O'], ['.', '.', 'O', 'O']]\n"
          ],
          "name": "stdout"
        }
      ]
    },
    {
      "cell_type": "code",
      "metadata": {
        "id": "1G20qAZvT7ez",
        "colab_type": "code",
        "colab": {}
      },
      "source": [
        "update_tag_scheme(train_sentences, parameters['tag_scheme'])\n",
        "update_tag_scheme(dev_sentences, parameters['tag_scheme'])\n",
        "update_tag_scheme(test_sentences, parameters['tag_scheme'])"
      ],
      "execution_count": 0,
      "outputs": []
    },
    {
      "cell_type": "code",
      "metadata": {
        "id": "Lgmp9kFHVKb5",
        "colab_type": "code",
        "outputId": "3e7885b3-e067-4326-d942-d4275338a9d1",
        "colab": {
          "base_uri": "https://localhost:8080/",
          "height": 88
        }
      },
      "source": [
        "print(train_sentences[0])\n",
        "print(dev_sentences[0])\n",
        "print(test_sentences[0])"
      ],
      "execution_count": 38,
      "outputs": [
        {
          "output_type": "stream",
          "text": [
            "[['EU', 'NNP', 'I-NP', 'S-ORG'], ['rejects', 'VBZ', 'I-VP', 'O'], ['German', 'JJ', 'I-NP', 'S-MISC'], ['call', 'NN', 'I-NP', 'O'], ['to', 'TO', 'I-VP', 'O'], ['boycott', 'VB', 'I-VP', 'O'], ['British', 'JJ', 'I-NP', 'S-MISC'], ['lamb', 'NN', 'I-NP', 'O'], ['.', '.', 'O', 'O']]\n",
            "[['CRICKET', 'NNP', 'I-NP', 'O'], ['-', ':', 'O', 'O'], ['LEICESTERSHIRE', 'NNP', 'I-NP', 'S-ORG'], ['TAKE', 'NNP', 'I-NP', 'O'], ['OVER', 'IN', 'I-PP', 'O'], ['AT', 'NNP', 'I-NP', 'O'], ['TOP', 'NNP', 'I-NP', 'O'], ['AFTER', 'NNP', 'I-NP', 'O'], ['INNINGS', 'NNP', 'I-NP', 'O'], ['VICTORY', 'NN', 'I-NP', 'O'], ['.', '.', 'O', 'O']]\n",
            "[['SOCCER', 'NN', 'I-NP', 'O'], ['-', ':', 'O', 'O'], ['JAPAN', 'NNP', 'I-NP', 'S-LOC'], ['GET', 'VB', 'I-VP', 'O'], ['LUCKY', 'NNP', 'I-NP', 'O'], ['WIN', 'NNP', 'I-NP', 'O'], [',', ',', 'O', 'O'], ['CHINA', 'NNP', 'I-NP', 'S-PER'], ['IN', 'IN', 'I-PP', 'O'], ['SURPRISE', 'DT', 'I-NP', 'O'], ['DEFEAT', 'NN', 'I-NP', 'O'], ['.', '.', 'O', 'O']]\n"
          ],
          "name": "stdout"
        }
      ]
    },
    {
      "cell_type": "markdown",
      "metadata": {
        "id": "TXqDEd53VM9V",
        "colab_type": "text"
      },
      "source": [
        "#### Create Mappings for Words, Characters and Tags\n",
        "\n",
        "After we have updated the tag scheme, we now have a list of sentences which are words along with their modified tags. Now, we want to map these individual words, tags and characters in each word, to unique numerical IDs so that each unique word, character and tag in the vocabulary is represented by a particular integer ID. To do this, we first create a function that does this mapping for us.\n",
        "\n",
        "#### Why mapping is important?\n",
        "\n",
        "These indices for words, tags and characters help us employ matrix (tensor) operations inside the neural network architecture, which are considerably faster."
      ]
    },
    {
      "cell_type": "code",
      "metadata": {
        "id": "MQvpgxqCW28O",
        "colab_type": "code",
        "colab": {}
      },
      "source": [
        "def create_dico(item_list):\n",
        "  \"\"\"\n",
        "  Create a dictionary of items from a list of list of items.\n",
        "  \"\"\"\n",
        "  assert type(item_list) is list\n",
        "  dico = {}\n",
        "  for items in item_list:\n",
        "    for item in items:\n",
        "      if item not in dico:\n",
        "        dico[item] = 1\n",
        "      else:\n",
        "        dico[item] += 1\n",
        "  return dico\n",
        "\n",
        "def create_mapping(dico):\n",
        "  \"\"\"\n",
        "  Create a mapping (item to ID / ID to item) from a dictionary.\n",
        "  Items are ordered by decreasing frequency.\n",
        "  \"\"\"\n",
        "  sorted_items = sorted(dico.items(), key=lambda x: (-x[1], x[0]))\n",
        "  id_to_item = {i: v[0] for i, v in enumerate(sorted_items)}\n",
        "  item_to_id = {v: k for k, v in id_to_item.items()}\n",
        "  return item_to_id, id_to_item\n",
        "\n",
        "def word_mapping(sentences, lower):\n",
        "  \"\"\"\n",
        "  Create a dictionary and a mapping of words, sorted by frequency.\n",
        "  \"\"\"\n",
        "  words = [ [x[0].lower() if lower else x[0] for x in s] for s in sentences ] # list of list of words in lower case, x[0] is the word of each sentence\n",
        "  dico = create_dico(words)\n",
        "  dico['<UNK>'] = 10000000 # UNK tag for unknown words\n",
        "  word_to_id, id_to_word = create_mapping(dico)\n",
        "  print(\"Found %i unique words (%i in total)\" % (len(dico), sum(len(x) for x in words)))\n",
        "  return dico, word_to_id, id_to_word\n",
        "\n",
        "def char_mapping(sentences):\n",
        "  \"\"\"\n",
        "  Create a dictionary and mapping of characters, sorted by frequency.\n",
        "  \"\"\"\n",
        "  chars = [\"\".join([w[0] for w in s]) for s in sentences]\n",
        "  dico = create_dico(chars)\n",
        "  char_to_id, id_to_char = create_mapping(dico)\n",
        "  print(\"Found %i unique characters\" % len(dico))\n",
        "  return dico, char_to_id, id_to_char\n",
        "\n",
        "def tag_mapping(sentences):\n",
        "  \"\"\"\n",
        "  Create a dictionary and a mapping of tags, sorted by frequency.\n",
        "  \"\"\"\n",
        "  tags = [[word[-1] for word in s] for s in sentences]\n",
        "  dico = create_dico(tags)\n",
        "  dico[START_TAG] = -1\n",
        "  dico[STOP_TAG] = -2\n",
        "  tag_to_id, id_to_tag = create_mapping(dico)\n",
        "  print(\"Found %i unique named entity tags\" % len(dico))\n",
        "  return dico, tag_to_id, id_to_tag"
      ],
      "execution_count": 0,
      "outputs": []
    },
    {
      "cell_type": "code",
      "metadata": {
        "id": "4kAArDRFgR5L",
        "colab_type": "code",
        "outputId": "8a2c0c1f-04cd-4d1f-c683-a9b8c1a6dec1",
        "colab": {
          "base_uri": "https://localhost:8080/",
          "height": 68
        }
      },
      "source": [
        "dico_words, word_to_id, id_to_word = word_mapping(train_sentences, parameters['lower'])\n",
        "dico_chars, char_to_id, id_to_char = char_mapping(train_sentences)\n",
        "dico_tags, tag_to_id, id_to_tag = tag_mapping(train_sentences)"
      ],
      "execution_count": 39,
      "outputs": [
        {
          "output_type": "stream",
          "text": [
            "Found 17494 unique words (203622 in total)\n",
            "Found 75 unique characters\n",
            "Found 19 unique named entity tags\n"
          ],
          "name": "stdout"
        }
      ]
    },
    {
      "cell_type": "code",
      "metadata": {
        "id": "qHSHAbTZ6UlB",
        "colab_type": "code",
        "outputId": "6f84a8e2-bc00-4ea0-be31-ff90f9bc8d61",
        "colab": {
          "base_uri": "https://localhost:8080/",
          "height": 88
        }
      },
      "source": [
        "print(dico_words)\n",
        "print(dico_chars)\n",
        "print(dico_tags)"
      ],
      "execution_count": 46,
      "outputs": [
        {
          "output_type": "stream",
          "text": [
            "{'eu': 24, 'rejects': 1, 'german': 101, 'call': 38, 'to': 3424, 'boycott': 5, 'british': 96, 'lamb': 3, '.': 7374, 'peter': 31, 'blackburn': 12, 'brussels': 33, '0000-00-00': 919, 'the': 8390, 'european': 94, 'commission': 67, 'said': 1849, 'on': 2092, 'thursday': 292, 'it': 762, 'disagreed': 2, 'with': 867, 'advice': 5, 'consumers': 9, 'shun': 1, 'until': 56, 'scientists': 6, 'determine': 11, 'whether': 45, 'mad': 13, 'cow': 12, 'disease': 37, 'can': 72, 'be': 525, 'transmitted': 2, 'sheep': 14, 'germany': 144, \"'s\": 1566, 'representative': 7, 'union': 74, 'veterinary': 8, 'committee': 30, 'werner': 2, 'zwingmann': 2, 'wednesday': 268, 'should': 79, 'buy': 26, 'sheepmeat': 2, 'from': 768, 'countries': 44, 'other': 142, 'than': 144, 'britain': 134, 'scientific': 9, 'was': 1095, 'clearer': 1, '\"': 2178, 'we': 300, 'do': 108, \"n't\": 98, 'support': 63, 'any': 94, 'such': 42, 'recommendation': 3, 'because': 117, 'see': 28, 'grounds': 6, 'for': 1465, ',': 7290, 'chief': 55, 'spokesman': 107, 'nikolaus': 1, 'van': 40, 'der': 11, 'pas': 1, 'told': 199, 'a': 3199, 'news': 107, 'briefing': 6, 'he': 792, 'further': 35, 'study': 10, 'required': 8, 'and': 2872, 'if': 131, 'found': 62, 'that': 797, 'action': 31, 'needed': 24, 'taken': 41, 'by': 726, 'proposal': 10, 'last': 305, 'month': 90, 'farm': 21, 'commissioner': 9, 'franz': 4, 'fischler': 6, 'ban': 40, 'brains': 2, 'spleens': 2, 'spinal': 5, 'cords': 2, 'human': 41, 'animal': 8, 'food': 23, 'chains': 6, 'highly': 6, 'specific': 7, 'precautionary': 1, 'move': 18, 'protect': 4, 'health': 38, 'proposed': 15, 'eu-wide': 1, 'measures': 16, 'after': 509, 'reports': 32, 'france': 128, 'under': 171, 'laboratory': 3, 'conditions': 28, 'could': 143, 'contract': 32, 'bovine': 4, 'spongiform': 4, 'encephalopathy': 4, '(': 2861, 'bse': 11, ')': 2861, '--': 356, 'but': 545, 'agreed': 53, 'review': 7, 'his': 559, 'standing': 9, 'mational': 1, 'officials': 134, 'questioned': 12, 'justified': 4, 'as': 630, 'there': 178, 'only': 130, 'slight': 14, 'risk': 19, 'spanish': 15, 'minister': 176, 'loyola': 1, 'de': 61, 'palacio': 1, 'had': 561, 'earlier': 90, 'accused': 38, 'at': 1146, 'an': 542, 'ministers': 15, \"'\": 146, 'meeting': 88, 'of': 3815, 'causing': 4, 'unjustified': 1, 'alarm': 4, 'through': 106, 'dangerous': 13, 'generalisation': 1, 'backed': 7, 'multidisciplinary': 1, 'committees': 2, 'are': 347, 'due': 77, 're-examine': 2, 'issue': 60, 'early': 77, 'next': 112, 'make': 58, 'recommendations': 2, 'senior': 30, 'have': 502, 'long': 40, 'been': 368, 'known': 31, 'scrapie': 2, 'brain-wasting': 3, 'similar': 24, 'which': 330, 'is': 694, 'believed': 28, 'transferred': 3, 'cattle': 12, 'feed': 18, 'containing': 5, 'waste': 7, 'farmers': 21, 'denied': 24, 'danger': 10, 'their': 356, 'expressed': 11, 'concern': 19, 'government': 271, 'avoid': 15, 'might': 36, 'influence': 4, 'across': 35, 'europe': 39, 'what': 71, 'extremely': 8, 'careful': 1, 'how': 30, 'going': 52, 'take': 82, 'lead': 81, 'welsh': 2, 'national': 129, 'nfu': 1, 'chairman': 32, 'john': 50, 'lloyd': 21, 'jones': 17, 'bbc': 2, 'radio': 30, 'bonn': 28, 'has': 559, 'led': 37, 'efforts': 15, 'public': 41, 'consumer': 17, 'confidence': 10, 'collapsed': 3, 'in': 3621, 'march': 40, 'report': 54, 'suggested': 4, 'humans': 3, 'illness': 9, 'eating': 8, 'contaminated': 2, 'beef': 10, 'imported': 5, '00,000': 215, 'year': 309, 'nearly': 32, 'half': 84, 'total': 70, 'imports': 15, 'brought': 31, '0,000': 236, 'tonnes': 82, 'mutton': 3, 'some': 179, '00': 3606, 'percent': 303, 'overall': 23, 'rare': 9, 'hendrix': 5, 'song': 2, 'draft': 11, 'sells': 5, 'almost': 17, '$': 362, 'london': 179, 'handwritten': 1, 'u.s.': 377, 'guitar': 2, 'legend': 1, 'jimi': 1, 'sold': 28, 'auction': 15, 'late': 55, 'musician': 1, 'favourite': 4, 'possessions': 1, 'florida': 35, 'restaurant': 7, 'paid': 18, 'pounds': 23, 'ai': 4, 'no': 204, 'telling': 6, 'penned': 1, 'piece': 5, 'hotel': 11, 'stationery': 2, '0000': 782, 'end': 80, 'january': 20, 'concert': 3, 'english': 61, 'city': 122, 'nottingham': 6, 'threw': 10, 'sheet': 7, 'paper': 24, 'into': 161, 'audience': 5, 'where': 100, 'retrieved': 1, 'fan': 3, 'buyers': 7, 'also': 220, 'snapped': 14, 'up': 325, 'items': 7, 'were': 531, 'put': 63, 'former': 126, 'girlfriend': 3, 'kathy': 2, 'etchingham': 1, 'who': 440, 'lived': 8, 'him': 111, 'they': 392, 'included': 20, 'black': 34, 'lacquer': 1, 'mother': 34, 'pearl': 1, 'inlaid': 1, 'box': 6, 'used': 32, 'store': 7, 'drugs': 21, 'anonymous': 3, 'australian': 55, 'purchaser': 1, 'bought': 19, 'guitarist': 1, 'died': 37, 'overdose': 1, 'aged': 8, 'china': 98, 'says': 66, 'taiwan': 31, 'spoils': 1, 'atmosphere': 6, 'talks': 85, 'beijing': 24, 'taipei': 8, 'spoiling': 2, 'resumption': 2, 'strait': 3, 'visit': 68, 'ukraine': 39, 'taiwanese': 3, 'vice': 13, 'president': 205, 'lien': 2, 'chan': 2, 'this': 328, 'week': 148, 'infuriated': 3, 'speaking': 8, 'hours': 45, 'chinese': 25, 'state': 161, 'media': 20, 'time': 146, 'right': 38, 'engage': 2, 'political': 74, 'foreign': 121, 'ministry': 75, 'shen': 2, 'guofang': 1, 'reuters': 79, ':': 691, 'necessary': 10, 'opening': 31, 'disrupted': 4, 'authorities': 49, 'quoted': 49, 'top': 59, 'negotiator': 5, 'tang': 5, 'shubei': 2, 'visiting': 9, 'group': 149, 'rivals': 8, 'hold': 38, 'now': 89, 'two': 388, 'sides': 19, '...': 44, 'hostility': 3, 'overseas': 9, 'edition': 5, 'people': 193, 'daily': 39, 'saying': 75, 'television': 50, 'interview': 13, 'read': 10, 'comments': 8, 'gave': 56, 'details': 30, 'why': 10, 'considered': 11, 'considers': 1, 'renegade': 6, 'province': 24, 'opposed': 11, 'all': 147, 'gain': 6, 'greater': 5, 'international': 102, 'recognition': 3, 'rival': 18, 'island': 35, 'practical': 3, 'steps': 4, 'towards': 16, 'goal': 25, 'consultations': 2, 'held': 81, 'set': 83, 'format': 1, 'official': 115, 'xinhua': 4, 'agency': 60, 'executive': 24, 'association': 30, 'relations': 23, 'straits': 3, 'july': 101, 'car': 19, 'registrations': 9, '00.0': 233, 'pct': 93, 'yr': 33, '/': 235, 'frankfurt': 14, 'first-time': 1, 'motor': 15, 'vehicles': 10, 'jumped': 3, 'year-earlier': 2, 'period': 37, 'federal': 31, 'office': 57, '000,000': 131, 'new': 466, 'cars': 10, 'registered': 9, 'passenger': 16, 'trucks': 4, 'figures': 32, 'represent': 4, 'increase': 22, '0.0': 238, 'decline': 6, 'motor-bike': 1, 'registration': 11, 'rose': 45, 'growth': 40, 'partly': 6, 'increased': 19, 'number': 75, 'germans': 2, 'buying': 13, 'abroad': 14, 'while': 104, 'manufacturers': 6, 'domestic': 22, 'demand': 50, 'weak': 9, 'posted': 11, 'gains': 18, 'numbers': 13, 'volkswagen': 4, 'ag': 14, 'won': 163, 'slightly': 15, 'more': 171, 'quarter': 45, 'opel': 1, 'together': 10, 'general': 67, 'motors': 3, 'came': 45, 'second': 242, 'place': 51, 'figure': 15, 'third': 124, 'ford': 12, 'or': 188, 'seat': 8, 'porsche': 4, 'fewer': 5, 'compared': 24, 'fell': 46, '000': 1025, 'greek': 14, 'socialists': 7, 'give': 37, 'green': 7, 'light': 16, 'pm': 7, 'elections': 81, 'athens': 22, 'socialist': 16, 'party': 127, 'bureau': 12, 'prime': 91, 'costas': 9, 'simitis': 8, 'snap': 8, 'its': 313, 'secretary': 32, 'skandalidis': 4, 'reporters': 45, 'announcement': 18, 'cabinet': 22, 'later': 49, 'dimitris': 6, 'kontogiannis': 5, 'newsroom': 131, '+000': 20, '0000000-0': 7, 'bayervb': 1, 'sets': 19, 'c$': 21, 'million': 281, 'six-year': 2, 'bond': 29, 'following': 56, 'announced': 45, 'manager': 39, 'toronto': 46, 'dominion': 2, 'borrower': 3, 'bayerische': 2, 'vereinsbank': 2, 'amt': 4, 'mln': 15, 'coupon': 8, '0.000': 38, 'maturity': 7, '00.sep.00': 2, 'type': 7, 'straight': 30, 'iss': 19, 'price': 66, '000.00': 107, 'pay': 38, 'date': 51, 'full': 30, 'fees': 3, 'reoffer': 2, '00.00': 386, 'spread': 4, '+00': 54, 'bp': 6, 'moody': 15, 'aa0': 6, 'listing': 5, 'lux': 1, 'freq': 1, '=': 11, 's&p': 8, 'denoms': 2, 'k': 2, '0-00-000': 2, 'sale': 31, 'limits': 8, 'us': 41, 'uk': 11, 'ca': 8, 'neg': 2, 'plg': 2, 'crs': 2, 'deflt': 2, 'force': 32, 'maj': 2, 'gov': 10, 'law': 39, 'home': 124, 'ctry': 2, 'tax': 28, 'provs': 2, 'standard': 9, 'mgt': 2, 'und': 2, 'sell': 27, 'conc': 3, '0.00': 385, 'praecip': 2, 'underlying': 4, 'govt': 3, 'sept': 20, 'notes': 11, 'joint': 10, 'venantius': 2, 'frn': 2, 'floating-rate': 1, 'lehman': 7, 'brothers': 6, 'ab': 4, 'swedish': 7, 'mortgage': 6, '-': 1243, '00.jan.00': 1, 'base': 11, '0m': 1, 'libor': 2, 's00.sep.00': 1, '00.000': 49, 'aa+': 2, 's': 4, 'short': 35, 'first': 469, 'jp': 1, 'fr': 1, 'yes': 3, 'ipma': 1, '0': 6168, 'sweden': 82, 'issued': 14, 'off': 122, 'emtn': 1, 'programme': 17, 'port': 28, 'update': 2, 'syria': 14, 'lloyds': 2, 'shipping': 3, 'intelligence': 8, 'service': 52, 'lattakia': 2, 'aug': 42, 'waiting': 10, 'tartous': 1, 'presently': 2, 'israel': 67, 'plays': 8, 'down': 119, 'fears': 11, 'war': 80, 'colleen': 1, 'siegel': 1, 'jerusalem': 45, 'outgoing': 2, 'peace': 94, 'current': 46, 'tensions': 2, 'between': 138, 'appeared': 18, 'storm': 10, 'teacup': 2, 'itamar': 2, 'rabinovich': 3, 'ambassador': 19, 'washington': 61, 'conducted': 8, 'unfruitful': 1, 'negotiations': 21, 'looked': 17, 'like': 44, 'damascus': 5, 'wanted': 19, 'talk': 25, 'rather': 12, 'fight': 15, 'appears': 6, 'me': 35, 'syrian': 4, 'priority': 3, 'still': 88, 'negotiate': 2, 'syrians': 2, 'confused': 2, 'definitely': 8, 'tense': 5, 'assessment': 7, 'here': 27, 'essentially': 1, 'winding': 2, 'term': 32, 'will': 419, 'replaced': 5, 'eliahu': 1, 'ben-elissar': 1, 'israeli': 50, 'envoy': 9, 'egypt': 29, 'right-wing': 9, 'likud': 3, 'politician': 6, 'sent': 36, 'message': 27, 'via': 7, 'committed': 10, 'open': 120, 'without': 38, 'preconditions': 2, 'slammed': 2, 'creating': 3, 'called': 61, 'launching': 4, 'hysterical': 1, 'campaign': 40, 'against': 244, 'reported': 91, 'recently': 16, 'test': 60, 'fired': 13, 'missile': 2, 'arms': 19, 'purchases': 3, 'defensive': 3, 'purposes': 3, 'hafez': 1, 'al-': 1, 'assad': 1, 'ready': 9, 'enter': 9, 'david': 50, 'levy': 12, 'tension': 10, 'mounted': 4, 'since': 138, 'benjamin': 10, 'netanyahu': 25, 'took': 76, 'june': 90, 'vowing': 1, 'retain': 6, 'golan': 3, 'heights': 1, 'captured': 9, 'middle': 17, 'east': 52, 'israeli-syrian': 1, 'deadlocked': 2, 'over': 281, 'despite': 36, 'previous': 42, 'willingness': 1, 'concessions': 2, 'february': 20, 'voices': 3, 'coming': 28, 'out': 302, 'bad': 19, 'not': 541, 'good': 55, 'expressions': 1, 'declarations': 1, 'must': 32, 'worrying': 2, 'artificial': 1, 'very': 64, 'those': 52, 'become': 20, 'prisoners': 6, 'expect': 20, 'face': 31, 'answer': 8, 'our': 79, 'want': 51, 'god': 5, 'forbid': 1, 'one': 291, 'benefits': 3, 'wars': 4, 'channel': 2, 'calming': 1, 'signal': 6, 'source': 25, 'spokesmen': 2, 'confirm': 7, 'messages': 3, 'reassure': 1, 'cairo': 12, 'united': 118, 'states': 76, 'moscow': 75, 'polish': 26, 'diplomat': 18, 'denies': 2, 'nurses': 5, 'stranded': 4, 'libya': 5, 'tunis': 3, 'tabloid': 3, 'refusing': 4, 'exit': 4, 'visas': 3, 'trying': 32, 'return': 46, 'working': 39, 'north': 72, 'african': 55, 'country': 70, 'true': 7, 'today': 32, 'knowledge': 3, 'nurse': 4, 'kept': 25, 'her': 177, 'received': 31, 'complaint': 4, 'embassy': 36, 'charge': 19, \"d'affaires\": 1, 'tripoli': 4, 'tadeusz': 1, 'awdankiewicz': 2, 'telephone': 17, 'poland': 32, 'labour': 16, 'would': 330, 'send': 11, 'team': 94, 'investigate': 3, 'probe': 6, 'prompted': 9, 'complaining': 3, 'about': 189, 'work': 46, 'non-payment': 1, 'salaries': 2, 'estimated': 31, 'iranian': 23, 'opposition': 60, 'leaders': 56, 'meet': 60, 'baghdad': 27, 'hassan': 5, 'hafidh': 1, 'exile': 6, 'based': 26, 'iraq': 70, 'vowed': 6, 'extend': 3, 'iran': 29, 'kurdish': 34, 'rebels': 55, 'attacked': 7, 'troops': 45, 'deep': 2, 'inside': 12, 'mujahideen': 3, 'khalq': 3, 'statement': 108, 'leader': 63, 'massoud': 3, 'rajavi': 2, 'met': 26, 'secretary-general': 8, 'kurdistan': 18, 'democratic': 57, 'kdpi': 2, 'rastegar': 1, 'voiced': 3, 'rebel': 26, 'kurds': 7, 'emphasised': 1, 'resistance': 5, 'continue': 26, 'stand': 6, 'side': 40, 'compatriots': 1, 'movement': 25, 'signals': 2, 'level': 29, 'cooperation': 22, 'oppositions': 1, 'heavily': 5, 'bombarded': 2, 'targets': 6, 'northern': 61, 'pursuit': 6, 'guerrillas': 31, 'iraqi': 54, 'areas': 25, 'outside': 25, 'control': 39, 'bordering': 2, 'patriotic': 7, 'puk': 25, 'kdp': 17, 'main': 42, 'factions': 14, 'forces': 48, 'ousted': 8, 'kuwait': 6, 'gulf': 17, 'clashes': 12, 'parties': 25, 'broke': 23, 'weekend': 54, 'most': 78, 'serious': 16, 'fighting': 41, 'u.s.-sponsored': 1, 'ceasefire': 36, 'shelling': 6, 'positions': 19, 'qasri': 1, 'region': 39, 'suleimaniya': 1, 'near': 55, 'border': 27, 'days': 76, 'killed': 82, 'wounded': 15, 'attack': 38, 'both': 71, 'turkey': 30, 'mount': 4, 'air': 29, 'land': 26, 'strikes': 5, 'own': 38, 'u.s.-led': 6, 'southern': 53, 'protects': 2, 'possible': 32, 'attacks': 25, 'saudi': 26, 'riyal': 5, 'rates': 33, 'steady': 21, 'quiet': 20, 'summer': 20, 'trade': 66, 'manama': 2, 'spot': 29, 'dollar': 55, 'interbank': 7, 'deposit': 7, 'mainly': 9, 'dealers': 32, 'kingdom': 12, 'changes': 8, 'market': 149, 'holidays': 3, 'dealer': 18, '0.0000': 28, 'one-month': 2, 'deposits': 1, '0-0/0': 20, '0/0': 104, 'three': 214, 'months': 60, 'six': 127, 'one-year': 1, 'funds': 13, 'approves': 3, 'arafat': 47, 'flight': 26, 'west': 85, 'bank': 135, 'palestinian': 49, 'yasser': 12, 'permission': 9, 'fly': 10, 'territory': 18, 'ending': 14, 'brief': 10, 'israeli-plo': 4, 'crisis': 12, 'adviser': 4, 'problem': 25, 'aircraft': 19, 'pass': 5, 'airspace': 2, 'expected': 110, 'travel': 15, 'before': 153, 'monday': 197, 'nabil': 1, 'abu': 7, 'rdainah': 2, 'scheduled': 27, 'shimon': 6, 'peres': 15, 'town': 66, 'ramallah': 10, 'venue': 5, 'changed': 13, 'gaza': 17, 'clearance': 2, 'helicopters': 4, 'stop': 18, 'keeping': 8, 'grounded': 1, 'subsequently': 3, 'cancelled': 10, 'plo': 8, 'civilian': 5, 'affairs': 16, 'allenby': 5, 'bridge': 11, 'crossing': 5, 'jordan': 34, 'decided': 23, 'flying': 7, 'lifted': 10, 'busy': 4, 'schedule': 24, 'free': 37, 'palestinians': 20, 'barred': 5, 'erez': 1, 'checkpoint': 1, 'planned': 34, 'overflying': 1, 'helicopter': 7, 'attempt': 17, 'bar': 4, 'defeated': 13, 'may': 106, 'undermine': 2, 'authority': 14, 'conduct': 4, 'afghan': 14, 'uae': 5, 'taleban': 9, 'guards': 9, 'hilary': 1, 'gush': 1, 'dubai': 6, 'arab': 21, 'emirates': 1, 'russian': 100, 'hostages': 6, 'escaped': 5, 'militia': 8, 'afghanistan': 13, 'few': 42, 'dhabi': 3, 'touch': 4, 'issuing': 4, 'them': 102, 'documents': 10, 'homeland': 4, 'objection': 1, 'added': 85, 'islamic': 20, 'overpowered': 2, 'seven': 74, 'aircrew': 1, 'sharjah': 2, 'friday': 185, 'board': 28, 'captivity': 2, 'kandahar': 5, 'hand': 19, 'red': 30, 'crescent': 2, 'possibly': 7, 'tuesday': 217, 'silent': 1, 'when': 242, 'asked': 48, 'back': 100, 'capital': 83, 'kabul': 11, 'headquarters': 10, 'controlled': 7, 'burhanuddin': 3, 'rabbani': 6, 'overthrow': 4, 'men': 104, '00s': 3, 'currently': 16, 'did': 115, 'elaborate': 4, 'russians': 8, 'aerostan': 1, 'firm': 24, 'republic': 73, 'tatarstan': 1, 'hostage': 11, 'mig-00': 1, 'fighter': 4, 'forced': 32, 'cargo': 13, 'plane': 38, 'august': 119, 'shipment': 10, 'ammunition': 4, 'albania': 10, 'evidence': 12, 'military': 60, 'crew': 14, 'nationality': 2, 'coincidental': 1, 'numerous': 5, 'diplomatic': 16, 'attempts': 8, 'failed': 36, 'armed': 29, 'kalashnikov': 3, 'automatic': 2, 'rifles': 4, 'doing': 18, 'regular': 7, 'maintenance': 3, 'ilyushin': 1, 'left': 67, 'sunday': 160, 'saddam': 10, 'meets': 5, 'russia': 89, 'zhirinovsky': 6, 'hussein': 9, 'ultra-nationalist': 1, 'vladimir': 6, 'maintain': 8, 'friendship': 4, 'newspapers': 16, 'stressed': 2, 'during': 84, 'keenness': 2, 'papers': 4, 'liberal': 8, 'duma': 1, 'parliament': 49, 'calling': 8, 'immediate': 13, 'lifting': 7, 'embargo': 7, 'imposed': 13, 'invasion': 1, 'press': 64, 'help': 36, 'u.n.': 40, 'sanctions': 13, 'blamed': 17, 'delaying': 3, 'establishment': 8, 'ties': 12, 'namely': 1, 'economic': 54, 'resume': 12, 'visited': 17, 'twice': 17, 'october': 35, 'invited': 15, 'attend': 11, 'referendum': 5, 'presidency': 9, 'extended': 6, 'years': 134, 'digest': 24, 'these': 59, 'leading': 83, 'stories': 34, 'verified': 19, 'does': 36, 'vouch': 16, 'accuracy': 16, 'thawra': 1, 'turkish': 25, 'part': 78, 'fair': 11, 'november': 19, 'shipload': 1, 'rice': 10, 'arrives': 8, 'umm': 1, 'qasr': 1, 'lebanon': 14, 'beirut': 10, 'an-nahar': 2, 'confrontation': 2, 'escalating': 1, 'hizbollah': 1, 'hariri': 3, 'threats': 7, 'serve': 10, 'as-safir': 2, 'speaker': 20, 'berri': 2, 'preparing': 9, 'parliamentary': 17, 'battle': 22, '..': 10, 'lists': 2, 'prepared': 9, 'al-anwar': 2, 'continued': 24, 'criticism': 3, 'violation': 5, 'incidents': 6, 'occurred': 7, 'ad-diyar': 2, 'financial': 43, 'pakistan': 107, 'step': 25, 'election': 52, 'incomplete': 3, 'list': 17, \"nida'a\": 2, 'al-watan': 2, 'maronite': 2, 'patriarch': 2, 'sfeir': 2, 'sorrow': 1, 'violations': 11, 'cme': 4, 'live': 14, 'feeder': 2, 'calls': 12, 'range': 18, 'mixed': 12, 'chicago': 104, 'futures': 16, 'ranged': 2, 'cent': 7, 'higher': 46, 'lower': 59, 'livestock': 6, 'analysts': 34, 'strong': 34, 'tone': 1, 'cash': 48, 'markets': 39, 'prompt': 8, 'outlook': 10, 'bullish': 7, 'cattle-on-feed': 1, 'lend': 1, 'bull': 1, 'spreading': 4, 'however': 24, 'likely': 30, 'prices': 63, 'drift': 2, 'evening': 18, 'ahead': 46, 'record': 62, 'amount': 16, 'feedlot': 2, 'traded': 19, 'kindercare': 2, 'debt': 18, 'hit': 48, 'q0': 12, 'results': 257, 'montgomery': 1, 'ala': 2, 'learning': 1, 'centers': 4, 'inc': 61, 'buyback': 2, 'mean': 7, 'extraordinary': 4, 'loss': 46, 'fiscal': 16, 'company': 136, 'began': 43, 'par': 17, 'value': 22, 'outstanding': 9, '00-0/0': 6, 'philip': 12, 'maslowe': 1, 'officer': 18, 'preschool': 1, 'child': 19, 'care': 11, 'offered': 20, 'opportunity': 9, 'reduce': 9, 'weighted': 3, 'average': 37, 'interest': 37, 'costs': 20, 'improve': 11, 'future': 39, 'flows': 4, 'earnings': 30, 'research': 20, 'alert': 8, 'starts': 15, 'snet': 1, 'analyst': 20, 'blake': 1, 'bath': 1, 'started': 35, 'england': 148, 'telecommunciations': 1, 'corp': 49, 'outperform': 6, 'rating': 20, '00-month': 9, 'target': 13, 'estimate': 6, 'per': 74, 'share': 45, 'immediately': 30, 'available': 38, 'closed': 45, 'e.': 2, 'auchard': 1, 'wall': 22, 'street': 26, '000-000-0000': 24, 'gateway': 2, 'data': 27, 'sciences': 2, 'net': 81, 'rises': 9, 'phoenix': 1, 'summary': 22, 'consolidated': 3, 'thousands': 21, 'except': 6, 'ended': 57, 'jul': 14, 'income': 18, 'revenue': 20, 'software': 15, 'services': 30, 'operating': 17, 'jan': 17, 'balance': 17, 'equivalents': 1, 'assets': 12, 'shareholders': 16, 'equity': 6, 'backing': 8, 'chooses': 1, 'le': 20, 'monde': 6, 'paris': 66, 'afternoon': 12, 'dated': 7, 'front': 21, 'page': 3, 'africans': 4, 'seeking': 14, 'renew': 2, 'obtain': 2, 'residence': 10, 'rights': 47, 'say': 61, 'alain': 5, 'juppe': 8, 'proposals': 8, 'insufficient': 1, 'hunger': 2, 'strike': 40, 'enters': 3, '00th': 273, 'day': 120, 'church': 21, 'rally': 29, 'attracts': 2, 'sympathisers': 1, 'flnc': 1, 'corsican': 1, 'nationalist': 8, 'announces': 3, 'truce': 14, 'night': 44, 'business': 51, 'pages': 4, 'shutdown': 6, 'bally': 1, 'french': 84, 'factories': 1, 'points': 138, 'shoe': 1, 'industry': 37, 'undercut': 1, 'low-wage': 1, 'competition': 20, 'failure': 9, 'keep': 27, 'abreast': 1, 'trends': 7, 'sud-ptt': 1, 'telecom': 3, 'elements': 4, 'social': 15, 'unrest': 14, 'weeks': 46, 'well': 71, 'repairs': 4, 'lift': 8, 'heidrun': 3, 'oil': 44, 'output': 17, 'statoil': 2, 'oslo': 5, 'plugged': 2, 'water': 18, 'injection': 3, 'wells': 11, 'oilfield': 1, 'mid-norway': 1, 'reopened': 6, 'operator': 6, 'den': 5, 'norske': 1, 'stats': 1, 'oljeselskap': 1, 'accounted': 3, 'dip': 2, 'barrels': 10, 'bpd': 6, 'roughly': 3, 'according': 33, 'status': 12, 'weekly': 13, 'newsletter': 1, 'reperforated': 1, 'gravel': 1, 'pumped': 2, 'reservoir': 1, 'plugging': 1, 'problems': 22, 'finnish': 4, 'april': 34, 'surplus': 11, 'billion': 91, 'markka': 9, 'ncb': 4, 'helsinki': 9, 'finland': 45, 'customs': 15, 'exports': 31, 'year-on-year': 4, 'jan-april': 4, '+0,000': 3, '+00,000': 3, 'january-april': 1, 'import': 6, 'revised': 17, 'export': 19, 'projected': 2, 'monthly': 10, 'statistics': 8, 'lagging': 2, 'behind': 56, 'procedures': 2, 'joined': 15, 'start': 54, 'dutch': 68, 'raises': 4, 'tap': 4, 'amsterdam': 58, 'finance': 20, 'raised': 13, 'sales': 65, 'september': 99, 'being': 86, 'gmt': 50, 'notice': 4, 'guilders': 22, 'close': 69, 'tells': 3, 'agriculture': 8, 'meat': 3, 'animals': 6, 'cleared': 9, 'panels': 1, 'done': 14, 'quickly': 12, 'preference': 2, 'zdf': 2, 'i': 308, 'concrete': 6, 'too': 24, 'many': 53, 'holes': 7, 'know': 26, 'filled': 5, 'ensure': 7, 'protection': 11, 'tops': 4, 'priorities': 1, 'dealing': 6, 'erupted': 6, 'acknowledged': 3, 'rethink': 1, 'use': 30, 'suspect': 11, 'tissue': 3, 'experts': 7, 'banning': 4, 'members': 37, 'given': 34, 'question': 20, 'studied': 1, 'separately': 2, 'perfectly': 3, 'safe': 4, 'eat': 3, 'admitted': 16, 'link': 8, 'fatal': 6, 'equivalent': 6, 'worldwide': 7, 'summit': 3, 'progressive': 1, 'takes': 12, 'parallel': 2, 'eradicate': 1, 'golf': 32, 'scores': 43, 'world': 178, 'series': 56, 'akron': 12, 'ohio': 17, 'nec': 13, 'round': 135, 'yard': 3, 'firestone': 3, 'c.c': 3, 'course': 26, 'players': 55, 'unless': 29, 'stated': 18, 'paul': 51, 'goydos': 4, 'billy': 7, 'mayfair': 10, 'hidemichi': 4, 'tanaka': 3, 'japan': 92, 'steve': 23, 'stricker': 4, 'justin': 6, 'leonard': 4, 'mark': 78, 'brooks': 5, 'tim': 15, 'herron': 3, 'duffy': 4, 'waldorf': 4, 'davis': 19, 'love': 10, 'anders': 6, 'forsbrand': 3, 'nick': 8, 'faldo': 3, 'cook': 3, 'phil': 6, 'mickelson': 15, 'greg': 14, 'norman': 10, 'australia': 140, 'ernie': 3, 'els': 5, 'south': 153, 'africa': 69, 'scott': 19, 'hoch': 3, 'clarence': 4, 'loren': 3, 'roberts': 3, 'fred': 9, 'funk': 3, 'sven': 8, 'struver': 3, 'alexander': 23, 'cejka': 3, 'hal': 4, 'sutton': 3, 'tom': 16, 'd.a.': 3, 'weibring': 3, 'brad': 6, 'bryant': 3, 'craig': 14, 'parry': 3, 'stewart': 16, 'ginn': 3, 'corey': 4, 'pavin': 3, 'stadler': 5, \"o'meara\": 3, 'couples': 3, 'stankowski': 3, 'costantino': 6, 'rocca': 6, 'italy': 98, 'jim': 21, 'furyk': 3, 'satoshi': 3, 'higashi': 3, 'willie': 4, 'wood': 5, 'shigeki': 2, 'maruyama': 3, 'mccarron': 3, 'wayne': 17, 'westner': 3, 'schneiter': 3, 'watson': 3, 'seiki': 3, 'okuda': 3, 'soccer': 214, 'gloria': 10, 'bistrita': 11, 'beat': 352, '0-0': 1089, 'f.c.': 14, 'valletta': 9, 'romania': 34, 'halftime': 54, 'malta': 14, 'cup': 122, 'winners': 22, 'match': 138, 'leg': 24, 'preliminary': 17, 'scorers': 26, 'ilie': 2, 'lazar': 2, '00nd': 18, 'eugen': 2, 'voica': 2, 'la': 14, 'gilbert': 8, 'agius': 2, 'attendance': 52, 'aggregate': 31, 'qualified': 6, 'reuter': 6, 'horse': 4, 'racing': 14, 'pivotal': 5, 'ends': 13, '00-year': 13, 'wait': 10, 'trainer': 4, 'prescott': 5, 'york': 168, 'sir': 5, 'landed': 17, 'victory': 72, 'sprinter': 4, '000-00': 6, 'chance': 22, 'nunthorpe': 3, 'stakes': 5, 'three-year-old': 2, 'partnered': 1, 'veteran': 15, 'george': 18, 'duffield': 2, 'snatched': 1, 'head': 44, 'verdict': 3, 'stride': 1, 'deny': 5, 'eveningperformance': 2, '00-0': 132, 'trained': 5, 'henry': 5, 'candy': 2, 'ridden': 2, 'chris': 19, 'rutter': 2, 'hever': 2, 'prix': 29, 'l': 30, 'abbaye': 2, 'winner': 27, 'longchamp': 1, 'finished': 16, 'lengths': 3, 'away': 43, 'mind': 10, 'games': 134, 'fourth': 41, 'royal': 13, 'ascot': 1, 'aimed': 14, 'season': 84, 'sprint': 12, 'race': 58, 'reluctant': 5, 'go': 62, 'enclosure': 1, 'result': 68, 'photo-finish': 1, 'twenty-five': 1, 'never': 23, 'so': 76, 'thought': 17, 'better': 29, 'bit': 12, 'longer': 10, 'sad': 5, 'am': 16, 'godfather': 1, 'daughter': 12, 'jack': 7, 'berry': 2, 'gone': 9, 'search': 8, 'success': 9, 'around': 81, 'profession': 1, 'i`m': 1, 'disappointed': 7, 'feel': 16, 'suicidal': 1, 'furlongs': 2, 'metres': 87, 'just': 114, 'quicken': 1, 'two-year-olds': 1, 'upwards': 1, 'run': 66, 'five': 122, 'km': 48, '0.': 618, 'jason': 14, 'weaver': 8, 'eight': 67, 'ran': 10, '0th': 17, 'distances': 2, 'owned': 15, 'cheveley': 1, 'park': 18, 'stud': 1, 'newmarket': 1, 'sterling': 10, 'tennis': 80, 'toshiba': 10, 'classic': 12, 'carlsbad': 5, 'california': 48, 'tournament': 54, 'prefix': 25, 'denotes': 24, 'seeding': 28, 'arantxa': 11, 'sanchez': 19, 'vicario': 11, 'spain': 111, 'naoko': 5, 'kijimuta': 3, 'kimiko': 6, 'yone': 3, 'kamio': 3, 'sandrine': 4, 'testud': 4, 'sugiyama': 3, 'nathalie': 8, 'tauziat': 5, 'shi-ting': 3, 'wang': 5, 'hamlet': 9, 'commack': 4, 'waldbaum': 3, 'michael': 55, 'chang': 17, 'sergi': 7, 'bruguera': 6, 'joyce': 5, 'richey': 4, 'reneberg': 4, 'martin': 47, 'damm': 6, 'czech': 69, 'younes': 2, 'el': 15, 'aynaoui': 3, 'morocco': 22, 'retired': 12, 'karol': 5, 'kucera': 5, 'slovakia': 33, 'hicham': 4, 'arazi': 3, 'dalglish': 5, 'parting': 2, 'kenny': 6, 'spoke': 11, 'sadness': 1, 'leaving': 17, 'club': 47, 'premier': 34, 'league': 185, 'title': 33, '0000-00': 12, 'parted': 2, 'mutual': 5, 'consent': 2, 'ex-manager': 1, 'confessed': 7, 'taking': 50, 'division': 204, 'local': 67, 'newspaper': 58, 'holiday': 28, 'same': 62, 'opinion': 13, 'albeit': 1, 'little': 41, 'opened': 25, 'my': 55, 'mouth': 3, 'stayed': 8, 'way': 45, 'let': 9, 'get': 53, 'job': 16, 'conclusion': 4, 'then': 63, 'past': 42, 'director': 26, 'football': 12, 'cricket': 75, 'county': 35, 'championship': 72, 'play': 70, 'four-day': 13, 'matches': 93, 'weston-super-mare': 3, 'durham': 8, 'd.': 22, 'cox': 3, 's.': 27, 'campbell': 9, ';': 52, 'g.': 23, '0-00': 83, 'somerset': 7, '000-0': 69, 'm.': 46, 'lathwell': 3, 'firsy': 1, 'colchester': 9, 'gloucestershire': 11, 'j.': 17, 'russell': 17, 'a.': 32, 'symonds': 3, 'cowan': 3, 'essex': 18, 'cardiff': 9, 'kent': 8, 'walker': 7, 'fulton': 4, 'v': 105, 'glamorgan': 10, 'leicester': 10, 'leicestershire': 9, 'p.': 18, 'simmons': 3, 'nixon': 4, 'hampshire': 13, 'northampton': 12, 'sussex': 8, 'n.': 20, 'lenham': 2, 'v.': 5, 'drakes': 2, 'northamptonshire': 8, 'trent': 6, 'nottinghamshire': 9, 'archer': 3, 'dowman': 3, 'surrey': 13, 'worcester': 4, 'warwickshire': 13, 'giles': 6, 'w.': 9, 'khan': 26, 'worcestershire': 9, 'headingley': 6, 'yorkshire': 13, 'c.': 16, 'white': 51, 'moxon': 5, 'vaughan': 4, 'lancashire': 13, 'final': 87, 'scoreboard': 17, 'oval': 19, 'innings': 76, 'atherton': 11, 'b': 84, 'waqar': 28, 'younis': 28, 'mushtaq': 28, 'ahmed': 49, 'hussain': 7, 'c': 54, 'saeed': 18, 'anwar': 17, 'thorpe': 13, 'lbw': 7, 'mohammad': 14, 'akram': 38, 'crawley': 13, 'knight': 8, 'lewis': 23, 'wasim': 35, 'i.': 4, 'salisbury': 9, 'extras': 16, 'lb-00': 2, 'w-0': 9, 'nb-0': 9, 'wickets': 38, 'fall': 40, '0-000': 58, 'bat': 18, 'r.': 19, 'croft': 29, 'cork': 17, 'mullally': 26, 'bowling': 20, '00-0-00-0': 32, 'aamir': 19, 'sohail': 22, '0-0-00-0': 30, 'ijaz': 15, 'inzamam-ul-haq': 12, 'salim': 13, 'malik': 13, 'asif': 12, 'mujtaba': 10, 'moin': 13, 'akam': 6, 'ferguson': 7, 'scottish': 16, 'squad': 45, 'glasgow': 5, 'everton': 8, 'duncan': 3, 'scored': 40, 'manchester': 33, 'picked': 13, 'rangers': 18, 'striker': 24, 'ally': 2, 'mccoist': 2, 'another': 56, 'man': 62, 'form': 17, 'hat-tricks': 1, 'four': 125, 'named': 31, 'qualifier': 28, 'austria': 44, 'vienna': 14, 'served': 9, 'jail': 20, 'head-butting': 1, 'opponent': 4, 'scotland': 22, 'caps': 13, 'december': 20, 'brown': 14, \"'ve\": 19, 'watched': 3, 'bang': 2, 'great': 26, 'scoring': 12, 'moment': 15, 'celtic': 4, 'jackie': 3, 'mcnamara': 3, 'successful': 9, 'under-00': 5, 'earns': 3, 'call-up': 1, 'lunch': 10, 'keane': 5, 'signs': 9, 'four-year': 5, 'ireland': 37, 'midfielder': 21, 'roy': 3, 'signed': 40, 'f.a.': 2, 'champions': 41, 'deal': 58, 'game': 78, 'delighted': 2, 'alex': 22, 'canadian': 26, 'daniel': 14, 'nestor': 6, 'canada': 40, 'thomas': 34, 'muster': 15, 'mikael': 6, 'tillstrom': 9, 'goran': 5, 'ivanisevic': 7, 'croatia': 17, 'ferreira': 11, 'jiri': 4, 'novak': 3, 'marcelo': 16, 'rios': 9, 'chile': 17, 'kenneth': 9, 'carlsen': 4, 'denmark': 18, 'malivai': 8, 'corretja': 3, 'todd': 21, 'renzo': 3, 'furlan': 3, 'philippoussis': 17, 'marc': 13, 'rosset': 7, 'switzerland': 26, 'cedric': 7, 'pioline': 7, 'gregory': 2, 'carraz': 1, 'patrick': 12, 'rafter': 10, 'alberto': 7, 'berasategui': 4, 'petr': 8, 'korda': 6, 'francisco': 42, 'clavet': 3, 'vacek': 5, 'stoltenberg': 7, '00-00': 126, 'woodbridge': 9, 'sebastien': 3, 'lareau': 1, \"o'brien\": 10, 'byron': 3, 'zimbabwe': 23, 'bohdan': 5, 'ulihrach': 5, 'andrea': 14, 'gaudenzi': 3, 'henman': 5, 'woodruff': 3, 'walkover': 6, 'millns': 5, 'boland': 3, 'cape': 5, 'provincial': 10, 'fast': 11, 'bowler': 2, 'toured': 1, '0000/00': 27, 'replaces': 3, 'all-rounder': 3, 'phillip': 1, 'defreitas': 1, 'professional': 7, 'tirana': 11, 'qualifying': 14, 'flamurtari': 1, 'vlore': 1, 'chemlon': 5, 'humenne': 5, 'lubarskij': 1, 'minute': 67, 'valkucak': 1, 'win': 122, 'chorzow': 6, 'ruch': 7, 'llansantffraid': 1, 'wales': 8, 'arkadiusz': 1, 'bak': 2, '0st': 5, 'arwel': 1, 'miroslav': 1, '00rd': 26, 'larnaca': 8, 'aek': 3, 'cyprus': 20, 'kotaik': 1, 'abovyan': 1, 'armenia': 3, 'zoran': 1, 'kundic': 1, 'klimis': 2, 'alexandrou': 2, '00st': 18, 'milenko': 1, 'kovasevic': 1, 'penalty': 24, 'koprinovic': 1, 'pavlos': 1, 'markou': 1, 'siauliai': 2, 'kareda': 1, 'lithuania': 5, 'sion': 11, 'agrregate': 1, 'vinnytsya': 3, 'nyva': 5, 'tallinna': 1, 'sadam': 1, 'estonia': 10, 'score': 14, 'goals': 58, 'rule': 27, 'bergen': 3, 'brann': 6, 'norway': 16, 'shelbourne': 2, 'mons': 1, 'ivar': 1, 'mjelde': 1, 'ove': 3, 'pedersen': 1, 'rutherford': 1, 'sofia': 13, 'levski': 1, 'bulgaria': 13, 'olimpija': 2, 'slovenia': 10, 'scorer': 7, 'ilian': 1, 'simeonov': 1, 'penalties': 10, 'vaduz': 5, 'liechtenstein': 2, 'raf': 2, 'riga': 2, 'latvia': 6, 'daniele': 1, 'polverino': 1, 'agrins': 1, 'zarins': 1, 'luxembourg': 6, 'varteks': 2, 'varazdin': 2, 'drazen': 1, 'beser': 1, 'miljenko': 1, 'mumler': 1, 'jamir': 1, 'cvetko': 1, 'torshavn': 1, 'havnar': 1, 'boltfelag': 1, 'faroe': 2, 'islands': 6, 'dynamo': 6, 'batumi': 2, 'georgia': 6, 'prague': 11, 'sparta': 12, 'glentoran': 1, 'gunda': 1, 'lumir': 1, 'mistr': 1, 'horst': 2, 'siegl': 1, 'zdenek': 1, 'svoboda': 1, 'gabriel': 4, 'edinburgh': 1, 'hearts': 7, 'star': 20, 'belgrade': 15, 'yugoslavia': 17, 'dave': 4, 'mcpherson': 1, 'vinko': 1, 'marinovic': 1, 'rishon-lezion': 1, 'hapoel': 14, 'ironi': 3, 'constructorul': 3, 'chisinau': 2, 'moldova': 6, 'anjalonkoski': 1, 'mypa-00': 2, 'karabach': 1, 'agdam': 1, 'azerbaijan': 4, 'skopje': 4, 'sloga': 1, 'jugomagnat': 1, 'macedonia': 3, 'kispest': 4, 'honved': 2, 'hungary': 23, 'add': 16, 'rishon': 2, 'moshe': 1, 'sabag': 1, 'nissan': 1, 'kapeta': 1, 'tomas': 4, 'cibola': 1, 'constructorol': 1, 'sergei': 4, 'rogachev': 1, 'gennadi': 2, 'skidan': 1, 'gothenburg': 4, 'ferencvaros': 5, 'euro': 10, 'budapest': 11, 'ifk': 2, 'drew': 23, 'tie': 25, 'played': 151, 'ferenc': 1, 'horvath': 2, 'andreas': 5, 'andersson': 4, 'brazilian': 23, 'rio': 9, 'janeiro': 6, 'midweek': 3, 'bahia': 4, 'atletico': 17, 'paranaense': 3, 'corinthians': 3, 'guarani': 3, 'coritiba': 3, 'mineiro': 3, 'cruzeiro': 3, 'vitoria': 3, 'flamengo': 3, 'juventude': 4, 'goias': 3, 'sport': 8, 'recife': 3, 'gremio': 3, 'bragantino': 3, 'palmeiras': 3, 'vasco': 3, 'da': 3, 'gama': 3, 'portuguesa': 3, 'parana': 3, 'newcombe': 8, 'ponders': 2, 'sydney': 52, 'captain': 35, 'signalled': 3, 'resignation': 17, 'loses': 3, 'wimbledon': 30, 'champion': 68, 'coach': 34, 'tony': 11, 'roche': 2, 'determined': 10, 'events': 6, 'split': 7, 'lose': 10, 'look': 14, 'giving': 15, 'someone': 9, 'else': 7, 'telegraph': 1, 'clay': 1, 'leadership': 12, 'relegated': 4, 'elite': 3, '00-time': 1, 'slipped': 8, 'rank': 1, 'neale': 1, 'fraser': 3, 'tandem': 1, 'doubles': 9, 'partner': 9, 'wins': 23, 'losses': 16, 'selected': 6, 'semifinalist': 5, 'olympic': 43, 'woodforde': 4, 'croatians': 1, 'boasts': 1, 'conceded': 4, 'hard-pressed': 1, 'croatian': 8, 'breath': 1, 'absolute': 3, 'best': 44, 'described': 16, 'toughest': 3, 'faced': 7, 'beaten': 10, 'finalists': 2, 'ago': 59, 'guidance': 3, 'badminton': 7, 'malaysian': 7, 'kuala': 4, 'lumpur': 4, 'singles': 59, '0/00': 13, 'luo': 2, 'yigang': 2, 'hwang': 1, 'sun-ho': 1, 'korea': 16, 'wong': 3, 'malaysia': 14, 'abdul': 6, 'samad': 1, 'ismail': 3, 'kantharoopan': 2, 'jeroen': 3, 'dijk': 1, 'netherlands': 74, 'wijaya': 2, 'indra': 3, 'indonesia': 23, 'pang': 1, 'chen': 4, 'hu': 2, 'zhilan': 2, 'nunung': 1, 'subandoro': 1, 'hermawan': 2, 'susanto': 2, 'fung': 1, 'permadi': 1, 'women': 106, '0nd': 5, 'cindana': 1, '0ama': 1, 'margit': 1, 'borg': 1, 'sun': 7, 'jian': 1, 'marina': 3, 'andrievskaqya': 1, 'meluawati': 1, 'chia': 1, 'fong': 1, 'gong': 1, 'zhichao': 1, 'liu': 6, 'lufung': 1, 'zeng': 1, 'yaqiong': 1, 'li': 2, 'feng': 1, 'zealand': 48, 'christine': 3, 'magnusson': 1, 'ishwari': 1, 'boopathy': 1, 'zhang': 2, 'ning': 2, 'olivia': 1, 'draw': 45, 'championships': 20, 'beginning': 15, 'u.s': 6, 'centre': 36, 'pete': 8, 'sampras': 16, 'vs.': 64, 'adrian': 11, 'voinea': 4, 'magnus': 5, 'larsson': 3, 'volkov': 2, 'vs': 45, 'andrei': 12, 'olhovskiy': 2, 'roberto': 6, 'carretero': 2, 'jordi': 3, 'burillo': 2, '------------------------': 7, 'jonas': 3, 'bjorkman': 2, 'christian': 12, 'rudd': 1, 'rikl': 3, 'sjeng': 2, 'schalken': 2, 'schaller': 2, 'grant': 9, 'stafford': 2, 'guy': 5, 'forget': 4, 'fernando': 8, 'meligeni': 2, 'brazil': 48, 'yevgeny': 4, 'kafelnikov': 5, 'chesnokov': 1, 'draper': 2, 'galo': 2, 'blanco': 2, 'johansson': 6, 'hendrik': 1, 'dreekman': 1, 'rusedski': 1, 'medvedev': 21, 'jean-philippe': 3, 'fleurian': 6, 'kroslak': 2, 'costa': 35, 'younnes': 1, 'shuzo': 2, 'matsuoka': 2, 'doug': 3, 'flach': 2, 'mats': 4, 'wilander': 2, 'haarhuis': 2, 'tebbutt': 2, 'jonathan': 11, 'stark': 3, 'bernd': 5, 'karbacher': 2, 'stefan': 9, 'edberg': 9, 'richard': 21, 'krajicek': 5, 'andre': 11, 'agassi': 9, 'mauricio': 1, 'hadad': 1, 'colombia': 22, 'marcos': 3, 'ondruska': 2, 'felix': 3, 'mantilla': 3, 'carlos': 17, 'moya': 3, 'humphries': 2, 'siemerink': 3, 'carl-uwe': 2, 'steeb': 2, 'wheaton': 2, 'kevin': 6, 'kim': 6, 'nicolas': 6, 'lapentti': 3, 'ecuador': 9, 'karim': 4, 'alami': 5, 'enqvist': 9, 'stephane': 6, 'simian': 2, 'guillaume': 3, 'raoux': 3, 'filip': 2, 'dewulf': 2, 'belgium': 71, 'knowles': 3, 'bahamas': 6, 'filippini': 2, 'uruguay': 2, 'kris': 3, 'goossens': 3, 'stich': 18, 'chuck': 3, 'adams': 5, 'javier': 8, 'frana': 3, 'argentina': 30, 'courier': 3, 'grabb': 3, 'sandon': 2, 'stolle': 2, 'stefano': 5, 'pescosolido': 2, 'arnaud': 3, 'boetsch': 3, 'pereira': 2, 'venezuela': 18, 'gustafsson': 4, 'jeff': 14, 'tarango': 4, 'radulescu': 3, 'jared': 3, 'palmer': 4, 'hernan': 2, 'gumy': 3, 'nicklas': 2, 'kulti': 2, 'jakob': 2, 'hlasek': 3, 'cecil': 2, 'mamiit': 2, 'vince': 2, 'spadea': 1, 'prinosil': 2, 'carbonell': 2, 'baseball': 50, 'orioles': 17, 'davey': 3, 'johnson': 28, 'hospitalized': 3, 'baltimore': 44, 'miss': 17, 'seattle': 40, 'mariners': 10, 'hospital': 45, 'irregular': 3, 'heartbeat': 2, '00-year-old': 67, 'experiencing': 1, 'dizziness': 1, 'treated': 8, 'observed': 4, 'physician': 1, 'dr.': 4, 'william': 17, 'goldiner': 1, 'adding': 17, 'released': 36, 'bench': 3, 'andy': 8, 'etchebarren': 2, 'manage': 8, 'absence': 8, 'angels': 10, 'skipper': 2, 'columbia': 6, 'presbyterian': 1, 'blood': 13, 'clot': 3, 'calf': 2, 'seasons': 5, 'off-season': 1, 'replacing': 3, 'regan': 1, 'cincinnati': 29, 'reds': 11, 'guided': 3, 'mets': 4, 'pull': 9, 'within': 27, 'slumping': 2, 'yankees': 15, 'american': 75, 'major': 75, 'standings': 111, 'tabulate': 32, 'lost': 102, 'winning': 39, 'percentage': 25, 'eastern': 41, 'w': 23, 'gb': 20, '.000': 261, 'boston': 39, 'detroit': 32, 'central': 90, 'cleveland': 30, 'minnesota': 34, 'milwaukee': 28, 'kansas': 34, 'western': 62, 'texas': 37, 'oakland': 32, 'atlanta': 50, 'montreal': 29, 'philadelphia': 29, 'houston': 33, 'st': 82, 'louis': 36, 'pittsburgh': 26, 'san': 83, 'diego': 34, 'los': 42, 'angeles': 41, 'colorado': 40, 'greer': 5, 'homer': 27, 'lifts': 2, 'indians': 12, 'rusty': 3, 'two-run': 9, 'inning': 26, 'rallied': 8, 'rubber': 5, 'three-game': 9, 'pitch': 10, 'julian': 4, 'tavarez': 3, 'right-field': 4, 'fence': 4, 'off-speed': 1, 'tried': 26, 'swing': 3, 'big': 24, 'crowd': 13, 'intense': 2, 'shot': 33, 'ivan': 3, 'rodriguez': 6, 'double': 23, 'catcher': 2, 'mickey': 1, 'cochrane': 1, 'johnny': 6, 'terry': 8, 'kennedy': 5, 'catchers': 1, 'nine': 41, 'meetings': 9, 'jacobs': 2, 'field': 14, 'joining': 4, 'teams': 23, 'a.l.': 2, 'extra': 10, 'ninth': 24, 'lofton': 1, 'single': 23, 'ed': 2, 'vosberg': 1, 'blew': 4, 'save': 5, 'got': 29, 'allowing': 19, 'hits': 42, 'walks': 5, 'strikeouts': 7, 'scoreless': 5, 'dean': 6, 'cal': 4, 'ripken': 7, 'fifth-inning': 2, 'solo': 7, 'bobby': 5, 'bonilla': 5, 'three-run': 10, 'seventh': 16, 'power': 53, 'surging': 3, 'runs': 60, 'fifth': 33, 'bottom': 11, 'starter': 6, 'hitchcock': 1, 'blast': 8, 'randy': 2, 'cy': 1, 'young': 28, 'allowed': 49, 'relief': 10, 'appearances': 3, 'disabled': 2, 'rbi': 15, 'cut': 35, 'erickson': 1, 'laboured': 1, 'homers': 8, 'dropped': 20, 'row': 10, 'became': 8, 'shortstop': 2, 'major-league': 8, 'history': 12, 'hoiles': 1, 'dickson': 2, 'scattered': 10, 'debut': 13, 'chili': 3, 'belted': 3, 'each': 32, 'plate': 3, 'derek': 8, 'jeter': 1, 'settled': 7, 'pitcher': 2, 'tying': 4, 'jimmy': 5, 'key': 23, 'baserunners': 1, 'interim': 14, 'mike': 15, 'stanley': 4, 'bases-loaded': 4, 'eighth-inning': 3, 'sox': 14, 'athletics': 21, 'owns': 10, 'career': 23, 'batting': 6, 'bases': 5, 'loaded': 6, '00-for-00': 1, 'mo': 4, 'vaughn': 2, 'went': 43, '0-for-0': 4, 'walk': 14, 'stole': 5, 'collected': 2, '000th': 4, 'brosius': 1, 'homered': 9, 'drove': 17, 'ausmus': 1, 'capped': 9, 'four-run': 2, 'eighth': 17, 'tigers': 16, 'reeling': 3, 'consecutive': 12, 'dropping': 2, 'juan': 17, 'guzman': 5, 'tossed': 2, 'complete-game': 1, 'six-hitter': 2, 'league-best': 1, 'era': 5, 'blue': 8, 'jays': 4, 'royals': 4, 'span': 5, 'earned': 9, 'lowered': 3, 'jaha': 3, 'five-run': 5, 'brewers': 5, 'twins': 5, 'jose': 27, 'valentin': 2, 'cocu': 6, 'psv': 28, 'spur': 1, 'eindhoven': 14, 'nijmegen': 10, 'bicycle': 1, 'kick': 8, 'minutes': 75, 'arthur': 6, 'numan': 3, 'luc': 2, 'nilis': 5, 'marksmen': 1, 'ajax': 37, 'defence': 28, 'nac': 10, 'breda': 10, 'eykeren': 1, 'sharpshooter': 1, 'knup': 5, 'swiss': 28, 'geneva': 13, 'galatasaray': 3, 'internationals': 4, 'recalled': 5, 'baku': 1, 'overlooked': 3, 'artur': 2, 'jorge': 6, 'finals': 10, 'rolf': 4, 'fringer': 1, 'clearly': 10, '00-man': 6, 'progress': 12, 'beyond': 6, 'phase': 6, 'goalkeepers': 4, 'marco': 8, 'pascolo': 1, 'cagliari': 3, 'pascal': 2, 'zuberbuehler': 1, 'grasshoppers': 5, 'defenders': 9, 'henchoz': 1, 'hamburg': 17, 'hottiger': 1, 'yvan': 1, 'quentin': 1, 'ramon': 3, 'vega': 3, 'raphael': 4, 'wicky': 1, 'midfielders': 4, 'alexandre': 3, 'comisetti': 1, 'antonio': 8, 'esposito': 1, 'fournier': 1, 'stuttgart': 15, 'christophe': 4, 'ohrel': 1, 'lausanne': 2, 'sylvestre': 1, 'sesa': 1, 'servette': 3, 'ciriaco': 1, 'sforza': 1, 'inter': 4, 'milan': 19, 'murat': 1, 'yakin': 1, 'strikers': 9, 'kubilay': 1, 'turkyilmaz': 1, 'bonvin': 1, 'chapuisat': 1, 'borussia': 18, 'dortmund': 11, 'beers': 1, 'house': 48, 'spectators': 4, 'grand': 50, 'incentive': 1, 'cheer': 1, 'athletes': 6, 'performances': 4, 'glass': 6, 'beer': 3, 'belgian': 35, 'brewery': 1, 'drinks': 3, 'goes': 4, 'organisers': 15, 'expensive': 3, 'rounds': 18, 'ever': 11, 'already': 48, 'records': 8, 'broken': 13, 'broadhurst': 5, 'raymond': 10, 'ian': 22, 'woosnam': 7, 'bernhard': 2, 'langer': 2, 'ronan': 2, 'rafferty': 2, 'lanner': 2, 'riley': 4, 'eamonn': 3, 'darcy': 3, 'nyman': 1, 'claydon': 2, 'roe': 7, 'retief': 4, 'goosen': 4, 'carl': 9, 'suneson': 3, 'stephen': 12, 'lawrie': 6, 'pyman': 4, 'max': 11, 'anglert': 1, 'miles': 54, 'tunnicliff': 1, 'cevaer': 2, 'des': 5, 'smyth': 3, 'carter': 5, 'lee': 10, 'westwood': 3, 'chalmers': 1, 'miguel': 10, 'angel': 9, 'bjorn': 3, 'roca': 3, 'derrick': 3, 'cooper': 1, 'hawksworth': 2, 'padraig': 3, 'harrington': 3, 'welch': 1, 'gogele': 3, 'mcginley': 2, 'gary': 13, 'orr': 2, 'jose-maria': 1, 'canizares': 2, 'jonzon': 4, 'eales': 5, 'williams': 24, 'andrew': 10, 'coltart': 3, 'lomas': 4, 'rivero': 1, 'robert': 31, 'karlsson': 3, 'marcus': 6, 'wills': 1, 'pedro': 12, 'linhart': 6, 'jamie': 3, 'spence': 1, 'pinero': 1, 'mouland': 1, 'uefa': 9, 'rewards': 1, 'rewarded': 3, 'additional': 10, 'headed': 8, 'rankings': 5, 'formula': 9, 'account': 14, 'factors': 7, 'including': 50, 'yellow': 19, 'cards': 1, 'coaching': 5, 'behaviour': 2, 'clubs': 2, 'allocated': 7, 'places': 8, 'belarus': 10, 'iceland': 2, '00.': 112, 'portugal': 9, 'greece': 15, 'police': 268, 'commandos': 4, 'australians': 4, 'colombo': 24, 'patrolled': 2, 'ground': 25, 'tour': 56, 'sri': 56, 'lanka': 43, 'youth': 5, 'limited': 14, 'overs': 36, 'includes': 11, 'india': 82, 'promised': 11, 'presence': 15, 'sniffer': 2, 'dogs': 4, 'plainclothes': 2, 'policemen': 10, 'trouble-free': 2, 'making': 27, 'boycotting': 2, 'fixture': 3, 'ethnic': 20, 'violence': 28, 'warm-up': 2, 'ricky': 3, 'ponting': 4, 'balls': 7, 'sixes': 4, 'fours': 5, 'retiring': 4, 'replied': 4, 'geoff': 1, 'marsh': 2, 'impressed': 1, 'competitiveness': 1, 'made': 106, 'sweat': 2, 'romanian': 8, 'dies': 3, 'bus': 17, 'crash': 12, 'others': 17, 'injured': 31, 'romanian-registered': 1, 'collided': 9, 'bulgarian': 5, 'buses': 4, \"o'clock\": 3, 'morning': 43, 'road': 31, 'towns': 11, 'rousse': 1, 'veliko': 1, 'tarnovo': 1, 'woman': 31, 'maria': 13, 'accident': 13, 'investigated': 3, '000-0-00000': 2, 'journal': 14, 'contents': 9, 'oj': 6, '*': 30, 'note': 30, 'displayed': 6, 'reverse': 4, 'order': 38, 'printed': 5, 'corrigendum': 2, 'regulation': 11, 'ec': 4, 'relating': 1, 'invitation': 7, 'tender': 21, 'levies': 1, 'refunds': 7, 'sugar': 4, '00.0.0000': 2, '000/00': 10, 'certain': 10, 'granting': 1, 'compensatory': 1, 'payments': 6, 'system': 27, 'producers': 7, 'arable': 4, 'crops': 1, 'establishing': 2, 'values': 9, 'determining': 2, 'entry': 5, 'fruit': 1, 'vegetables': 2, 'document': 13, 'appeal': 22, 'payment': 3, 'denial': 2, 'minnetonka': 1, 'minn': 1, 'district': 15, 'court': 70, 'minneapolis': 4, 'decision': 43, 'financing': 5, 'administration': 19, 'hcfa': 2, 'reimbursement': 5, 'medicaid': 2, 'administrator': 5, 'reversed': 2, 'previously': 11, 'favorable': 4, 'regarding': 7, 'related': 6, 'community': 23, 'liaison': 3, 'personnel': 7, 'continues': 11, 'believe': 18, 'majority': 16, 'coverable': 1, 'terms': 18, 'medicare': 6, 'program': 9, 'optimistic': 4, 'ultimate': 2, 'resolution': 9, 'gildea': 2, 'recorded': 5, 'reserve': 17, 'equal': 9, 'ruled': 15, 'favor': 2, 'expenses': 3, 'disputed': 3, 'distrct': 1, 'dispute': 5, 'pleased': 6, 'recognize': 1, 'significant': 12, 'toward': 6, 'disputes': 3, 'newsdesk': 12, 'oppenheimer': 2, 'oct.': 3, 'div': 13, 'lp': 2, 'distribution': 11, 'rate': 60, 'quarterly': 10, 'assuming': 1, 'improved': 11, 'declared': 34, 'partnership': 6, 'unit': 23, 'sees': 12, 'richmond': 5, 'va': 3, 'products': 22, 'co': 40, 'second-quarter': 4, 'retailer': 6, 'annual': 16, 'even': 28, 'bankruptcy': 4, 'consideration': 1, 'emerged': 8, 'chapter': 1, 'always': 20, 'particularly': 5, 'you': 84, 'something': 13, 'striving': 1, 'richmond-based': 1, 'second-largest': 1, 'stores': 9, 'closing': 11, 'lease': 1, 'agreements': 1, 'plan': 53, 'operates': 2, '000.0': 69, 'measles': 5, 'exposure': 4, 'bowel': 3, 'pregnant': 3, 'babies': 3, 'crohn': 4, 'debilitating': 1, 'disorder': 2, 'researchers': 10, 'born': 12, 'mothers': 2, 'caught': 19, 'developed': 6, 'cases': 14, 'dr': 2, 'wakefield': 3, 'school': 28, 'medicine': 6, 'colleagues': 4, 'screened': 1, 'delivered': 9, 'university': 28, 'uppsala': 1, 'children': 35, 'wrote': 10, 'lancet': 1, 'medical': 29, 'inflammation': 2, 'sometimes': 8, 'require': 5, 'surgery': 15, 'causes': 2, 'diarrhoea': 1, 'abdominal': 1, 'pain': 7, 'weight': 7, 'involved': 20, 'especially': 9, 'severe': 4, 'viruses': 2, 'often': 15, 'cause': 12, 'birth': 4, 'defects': 1, 'notably': 2, 'rubella': 1, 'high': 43, 'stillborn': 1, 'baby': 6, 'cbi': 3, 'industrial': 18, 'survey': 19, 'manufacturing': 3, 'confederation': 3, 'enquiry': 1, 'book': 17, 'stocks': 25, 'goods': 17, 'expectations': 11, '+0': 32, 'replying': 2, 'above': 11, 'normal': 7, 'below': 11, 'companies': 32, 'representing': 5, 'industries': 3, 'accounting': 4, 'manufactured': 1, 'employees': 12, 'rosemary': 1, 'bennett': 1, 'shipsales': 1, 'secondhand': 1, 'tonnage': 2, 'brokers': 9, 'vessels': 2, 'iron': 6, 'gippsland': 1, 'built': 10, 'dwt': 3, 'sairyu': 1, 'maru': 2, 'stainless': 1, 'subject': 11, 'inspection': 3, 'garlic': 8, 'pills': 5, 'cholesterol': 7, 'finds': 5, 'studies': 6, 'show': 12, 'flawed': 1, 'doctors': 16, 'oxford': 9, 'benefit': 7, 'significantly': 1, 'tablets': 3, 'levels': 27, 'milligrams': 1, 'dried': 2, 'powder': 1, 'placebo': 2, 'differences': 3, 'groups': 29, 'receiving': 9, 'college': 13, 'physicians': 2, 'low-fat': 1, 'diet': 3, 'measured': 1, 'six-week': 1, 'findings': 4, 'accurate': 1, 'several': 56, 'pressure': 14, 'either': 15, 'trials': 3, 'interpreted': 1, 'incorrectly': 1, 'special': 19, 'diets': 1, 'beforehand': 1, 'duration': 1, 'six-month': 3, 'trial': 24, 'funded': 3, 'heart': 17, 'foundation': 1, 'lichtwer': 1, 'pharma': 1, 'gmbh': 3, 'makes': 9, 'kwai': 1, 'brand': 2, 'address': 13, 'whole': 16, 'affect': 6, 'gives': 6, 'aid': 10, 'volcano-hit': 1, 'caribbean': 5, 'development': 21, 'montserrat': 2, 'much': 40, 'population': 9, 'living': 11, 'fled': 7, 'volcano': 3, 'soufriere': 1, 'hills': 1, 'times': 39, 'plymouth': 7, 'evacuated': 3, 'shelters': 1, 'schools': 4, 'assistance': 1, 'provide': 16, 'track': 18, 'designated': 2, 'area': 43, 'dependent': 2, 'territories': 3, 'active': 7, 'lynda': 1, 'chalker': 1, 'recent': 39, 'census': 2, 'shown': 9, 'montserratians': 1, 'remain': 15, 'she': 139, 'looms': 1, 'bill': 40, 'berkrot': 3, 'slam': 19, 'seed': 32, 'steffi': 4, 'graf': 17, 'aiming': 5, 'able': 25, 'ease': 4, 'begins': 8, 'opens': 12, 'crown': 6, 'top-ranked': 2, 'yayuk': 3, 'basuki': 6, 'ceremony': 8, 'revealed': 3, 'holders': 7, 'looming': 2, 'third-round': 2, 'nemesis': 1, 'rising': 13, 'avenged': 2, 'defeat': 23, 'hitter': 1, 'first-week': 1, 'fireworks': 1, 'stunning': 3, 'upset': 4, 'sailing': 2, 'predictable': 1, 'semifinal': 5, 'showdown': 3, 'tested': 5, 'probably': 19, '00th-ranked': 11, 'natasha': 3, 'zvereva': 4, 'repeat': 6, 'eighth-ranked': 1, 'landing': 9, 'bumping': 1, 'sixth': 19, 'avoided': 7, 'possibility': 8, 'quarter-finals': 12, 'lock': 3, 'horns': 1, 'semis': 1, 'surprise': 8, 'ranked': 6, 'monica': 8, 'seles': 13, 'anne': 7, 'miller': 6, 'victim': 10, 'second-ranked': 1, 'austrian': 14, 'seeded': 23, 'luck': 3, 'faces': 11, 'playing': 34, 'survives': 1, 'fifth-seeded': 3, '00th-seeded': 2, 'perhaps': 7, 'yet': 33, 'unfortunate': 6, 'first-round': 9, 'matchup': 1, 'pits': 3, 'popular': 10, 'swede': 4, 'two-time': 4, 'farewell': 2, 'one-match': 2, 'affair': 6, 'exception': 4, 'looks': 4, 'comfortable': 3, 'likes': 1, 'frenchman': 6, 'ailing': 2, 'nursing': 4, 'rib': 2, 'injury': 21, 'path': 4, 'runner-up': 8, 'fifth-ranked': 1, 'anke': 6, 'huber': 13, 'conchita': 6, 'martinez': 17, 'eighth-seeded': 3, 'lindsay': 7, 'davenport': 8, 'looking': 17, 'opponents': 9, 'encounter': 1, 'amanda': 5, 'coetzer': 8, 'talent': 1, 'martina': 4, 'hingis': 9, 'probable': 2, 'quarter-final': 2, 'clash': 10, 'seventh-seeded': 1, 'jana': 6, 'novotna': 5, 'ruxandra': 3, 'dragomir': 3, '0000-0000': 14, 'rtrs': 12, 'top-seeded': 2, '000rd-ranked': 1, 'lefthander': 1, 'rallies': 4, 'constantly': 1, 'attacking': 1, 'tactic': 1, 'worked': 11, 'second-round': 3, 'bye': 1, 'along': 19, 'seeds': 5, 'second-seeded': 1, '0-0(0-0': 1, 'unseeded': 6, 'advancing': 3, 'seeed': 1, 'eliminated': 2, 'hour': 15, 'saved': 2, 'point': 32, 'third-set': 3, 'break': 24, 'compatriot': 6, 'fortunate': 1, 'marathon': 3, 'knew': 9, 'ranks': 4, 'breaks': 6, 'lanky': 1, 'strokes': 4, 'joking': 1, 'chipping': 2, 'charging': 1, 'serving': 8, 'volleying': 1, 'really': 21, 'timing': 3, 'baseline': 2, 'chances': 6, 'every': 16, 'come': 32, 'lights': 1, 'maybe': 15, 'difference': 6, 'deficit': 25, 'erratically': 2, 'famous': 4, 'aces': 2, 'outplayed': 1, 'sixth-ranked': 1, 'indianapolis': 1, 'quick': 5, 'getaway': 1, 'arrived': 25, 'feeling': 4, 'soon': 30, 'unfocused': 1, 'calm': 1, 'nervy': 1, \"'m\": 25, 'fought': 9, 'tiebreak': 1, 'serves': 3, 'hoped': 6, 'tight': 15, 'shanked': 1, 'forehand': 2, '0-all': 1, 'helped': 13, 'korean': 21, 'pro-soccer': 6, 'seoul': 16, 'anyang': 5, 'chonnam': 4, 'puchon': 5, 'suwon': 5, 'drawn': 52, 'd': 9, 'g': 6, 'f': 10, 'p': 5, 'chonan': 5, 'pohang': 4, 'pusan': 4, 'ulsan': 4, 'chonbuk': 4, 'senegal': 4, 'cholera': 4, 'outbreak': 6, 'kills': 9, 'dakar': 3, 'kaolack': 1, 'doctor': 10, 'masserigne': 1, 'ndiaye': 1, 'staff': 22, 'overwhelmed': 1, 'rushing': 1, 'symptoms': 2, 'appear': 11, 'deaths': 3, 'southeast': 9, 'senegalese': 2, 'nigerian': 8, 'liberia': 11, 'ecomog': 3, 'monrovia': 4, 'sam': 4, 'victor': 2, 'malu': 2, 'commander': 20, 'peacekeeping': 1, 'latest': 41, 'civil': 33, 'inienger': 1, 'officers': 18, 'handover': 3, 'dozen': 9, 'accords': 6, 'difficult': 17, 'challenging': 2, 'painful': 5, 'peacekeepers': 1, 'harassed': 2, 'assure': 2, 'sight': 2, 'nations': 42, 'observers': 8, 'travelling': 9, 'tubmanburg': 1, 'monitor': 2, 'delayed': 15, 'shooting': 15, 'highway': 6, 'anthony': 7, 'nyakyi': 1, 'finally': 14, 'escort': 6, 'ulimo-j': 1, 'faction': 13, 'abuja': 4, 'saturday': 130, 'breaking': 5, 'foresees': 1, 'disarmament': 9, 'combatants': 2, 'height': 1, 'guinea': 9, 'prayer': 5, 'conakry': 3, 'broadcast': 3, 'repeatedly': 8, 'dead': 23, 'prosperity': 1, 'precise': 3, 'reason': 10, 'clear': 31, 'lansana': 2, 'conte': 4, 'vice-president': 3, 'organisation': 14, 'conference': 44, 'prepare': 2, 'oic': 1, 'koranic': 1, 'reading': 10, 'sessions': 3, 'prayers': 8, 'farming': 3, 'badi-tondon': 1, 'army': 48, 'survived': 3, 'revolt': 4, 'veiled': 1, 'topple': 2, 'ordered': 21, 'crackdown': 5, 'corruption': 4, 'seized': 21, 'death': 35, 'marxist': 1, 'sekou': 1, 'toure': 4, 'answers': 2, 'bottle': 5, 'johannesburg': 17, 'boy': 16, 'writing': 3, 'girl': 19, 'whose': 23, 'washed': 4, 'nelson': 5, 'mandela': 2, 'old': 43, 'prison': 28, 'carlo': 3, 'hoffmann': 1, 'jailer': 1, 'son': 10, 'beach': 6, 'robben': 1, 'winter': 9, 'storms': 1, 'letter': 26, 'ordinary': 5, 'mail': 1, 'post': 30, 'danielle': 1, 'murray': 3, 'sandusky': 1, 'age': 7, 'penfriend': 1, 'reply': 6, 'whoever': 3, 'flung': 1, 'journey': 4, 'atlantic': 10, 'ocean': 6, 'rottweiler': 2, 'toddler': 1, 'dog': 4, 'belonging': 5, 'elderly': 4, 'couple': 20, 'savaged': 1, 'two-year-old': 1, 'grandson': 4, 'booy': 1, 'garden': 5, 'grandparents': 2, 'vanderbijlpark': 1, 'bloody': 3, 'body': 15, 'lying': 1, 'parents': 5, 'pick': 4, 'unclear': 5, 'fierce': 3, 'enough': 14, 'scare': 2, 'burglars': 1, 'becoming': 6, 'increasingly': 2, 'crime-infested': 1, 'indicators': 5, 'updated': 3, 'cpi': 6, '+0.0m': 1, 'm': 7, '00.0yr': 1, '+0.0;+00.0': 2, 'ppi': 1, '+0.0': 20, 'm;+00.0yr': 1, 'm;-0.0yr': 1, '+0.0;-0.0': 1, 'jan-may': 3, 'nbh': 5, 'mit': 2, 'jan-june': 2, 'bln': 18, 'gross': 16, '00,000.0': 12, 'unemployment': 3, 'budget': 42, 'huf': 1, 'jan-july': 1, 't-bill': 3, 'yields': 2, '%': 23, '0mo': 3, '0yr': 1, '0-yr': 1, 'j': 2, '00.00,(0-yr': 1, 'bbb-minus': 1, 'duff': 2, '&': 23, 'phelps': 2, 'ibca': 1, 'thomson': 9, 'bankwatch': 1, 'bb-plus': 1, 'ba0': 1, 'investors': 30, 'bbb+': 1, 'credit': 10, 'flow': 7, '0)000': 1, 'fifty': 1, 'die': 6, 'rebels-interfax': 1, 'least': 35, 'servicemen': 3, 'separatist': 18, 'chechen': 20, 'grozny': 26, 'interfax': 18, 'command': 8, 'chechnya': 34, 'interior': 18, 'reconaisance': 1, 'mission': 24, 'clashed': 2, 'minutka': 1, 'square': 5, 'independently': 3, 'confirmed': 33, 'peacemaker': 2, 'lebed': 42, 'chief-of-staff': 7, 'aslan': 8, 'maskhadov': 10, 'agreement': 45, 'cease': 3, 'hostilities': 2, 'noon': 6, 'detachment': 1, 'raged': 2, 'outnumbered': 1, 'schoolgirl': 4, 'blackmailer': 1, 'textbooks': 2, 'gdansk': 2, 'blackmailed': 1, 'letters': 5, 'threatening': 11, 'explained': 6, 'money': 45, 'extract': 1, 'zlotys': 2, 'residents': 11, 'sierakowice': 2, 'lives': 8, 'nearby': 9, 'blackmail': 1, 'railway': 7, 'station': 9, 'interviewed': 3, 'psychologist': 1, 'books': 18, 'clothes': 3, 'kazimierz': 1, 'socha': 1, 'case': 36, 'poor': 25, 'family': 16, 'trouble': 7, 'underage': 2, 'offenders': 4, 'cnb-000': 2, 'index': 50, 'pts': 10, 'broad': 3, 'measure': 3, 'equities': 2, 'cnb': 1, 'ten': 7, 'sectoral': 1, 'indices': 4, 'banking': 5, '0,000.0': 25, '00-0-0000-0000': 2, 'sign': 22, 'novye': 6, 'atagi': 6, 'boris': 14, 'yeltsin': 47, 'security': 80, 'supremo': 1, 'renewed': 6, 'negotiated': 5, 'village': 25, 'officially': 4, 'disclosed': 2, 'itar-tass': 6, 'provided': 5, 'disengagement': 1, 'aide': 5, 'russian-chechen': 3, 'detailed': 3, 'barkhatov': 1, 'rebel-held': 3, 'progressing': 3, 'briskly': 1, 'mood': 3, 'completed': 26, 'signature': 2, 'day-by-day': 1, 'showed': 30, 'clip': 1, 'laughing': 1, 'smiling': 2, 'nominee': 5, 'tatyana': 4, 'dmitrieva': 1, 'inaugurated': 1, 'returned': 24, 'kremlin': 11, 'two-day': 7, 'lakelands': 1, 'northwestern': 4, 'bosnia': 33, 'sarajevo': 10, 'oslobodjenje': 1, 'bosnian': 33, 'federation': 16, 'launches': 2, 'common': 16, 'taxes': 6, 'dinar': 1, 'kuna': 6, 'deutsche': 4, 'currency': 20, 'introduced': 14, 'refugees': 54, 'displaced': 4, 'persons': 4, 'mirhunisa': 2, 'komarica': 3, 'survivors': 4, 'massacre': 3, 'srebrenica': 2, 'languishing': 1, 'laborers': 1, 'serbian': 10, 'mines': 7, 'male': 3, 'trepca': 1, 'mine': 9, 'aleksandrovac': 1, 'dnevni': 1, 'avaz': 3, 'slovenian': 3, 'briefly': 6, 'detain': 1, 'ljubljana': 3, 'cancel': 2, 'maribor': 1, '+000-00-000-000': 1, 'overnight': 21, 'raids': 4, 'alkhan-yurt': 2, 'pounded': 1, 'planes': 5, 'artillery': 5, 'calmed': 1, 'although': 29, 'sporadic': 2, 'explosions': 1, 'heard': 11, 'correspondent': 1, 'lawrence': 1, 'sheets': 2, 'arrival': 3, 'flew': 11, 'firing': 7, 'anything': 14, 'clinched': 2, 'separatists': 10, 'halt': 6, 'threatened': 14, 'bombing': 6, 'assault': 12, 'boat': 15, 'passengers': 32, 'rescued': 8, 'colombian': 7, 'coast': 25, 'bogota': 8, 'guard': 4, 'pacific': 8, 'missing': 14, 'tiny': 4, 'gorgona': 1, 'southwest': 4, 'sightseers': 1, 'trip': 29, 'narino': 1, 'fuel': 11, 'navy': 3, 'lt.': 1, 'italo': 1, 'pineda': 1, 'boatman': 2, 'coconuts': 1, 'rainwater': 1, 'sea': 15, 'towed': 2, 'buenaventura': 1, 'argentine': 16, 'raw': 2, 'steel': 6, 'buenos': 13, 'aires': 13, 'center': 4, 'primary': 5, 'hot': 8, 'laminate': 1, 'production': 37, 'cold': 5, 'laminates': 1, 'webb': 1, '000-0000': 23, 'peru': 6, 'kill': 10, 'jungle': 4, 'lima': 4, 'peruvian': 1, 'northeastern': 3, 'anti-': 1, 'terrorist': 6, 'sources': 18, 'maoist': 7, 'shining': 2, 'alomella': 1, 'robles': 1, 'small': 31, 'northeast': 6, 'villagers': 2, 'listen': 1, 'propaganda': 7, 'speeches': 3, 'passing': 4, 'motorists': 1, 'daubed': 1, 'slogans': 3, 'whereabouts': 1, 'severely': 3, 'weakened': 4, 'capture': 4, 'abimael': 1, 'stepping': 2, 'activities': 8, 'guerrilla': 14, 'conflicts': 4, 'cost': 22, 'damage': 18, 'infrastructure': 4, 'surinam': 3, 'paramaribo': 2, 'flamboyant': 2, 'surinamese': 1, 'ronny': 1, 'brunswijk': 9, 'custody': 9, 'charged': 26, 'attempted': 6, 'murder': 18, 'turned': 22, 'himself': 24, 'freddy': 1, 'pinas': 5, 'surinamese-born': 1, 'visitor': 3, 'bar-room': 1, 'brawl': 4, 'mining': 9, 'moengo': 1, 'ro': 1, 'gajadhar': 1, 'showing': 8, 'cuts': 13, 'bruises': 2, 'feared': 4, 'shoot': 3, 'objected': 1, 'advances': 3, 'wife': 26, 'bodyguards': 1, 'charges': 31, 'merely': 5, 'defended': 1, 'less': 24, 'thief': 1, 'buttocks': 1, 'uprising': 2, 'regime': 7, 'strongman': 1, 'desi': 1, 'bouterse': 1, 'conflict': 13, 'caused': 16, 'flee': 4, 'neighbouring': 11, 'guiana': 1, '0000s': 17, 'eventually': 5, 'paved': 1, 'businessman': 5, 'logging': 3, 'interests': 11, 'manages': 3, 'occasionally': 1, 'noisy': 3, 'saw': 19, 'leads': 10, 'thai': 22, 'heroin': 10, 'hideaway': 1, 'bangkok': 12, 'hong': 73, 'kong': 70, 'carpenter': 1, 'arrested': 50, 'seaside': 1, 'pattaya': 1, 'kg': 10, 'complaints': 4, 'cheung': 2, 'siu': 1, 'searched': 5, 'bags': 2, 'hidden': 3, 'hollow': 1, 'spaces': 1, 'wooden': 3, 'planks': 2, 'hired': 3, 'hide': 4, 'sawing': 1, 'escaping': 1, 'door': 2, 'baht': 8, 'hunting': 4, 'collaborators': 2, 'detained': 9, 'pending': 5, 'formal': 8, 'downer': 3, 'follows': 6, 'friction': 1, 'qian': 1, 'qichen': 1, 'consulate': 6, 'sovereignty': 2, 'colony': 6, 'mid-0000': 3, 'strained': 3, 'uranium': 1, 'issues': 19, 'affecting': 2, 'include': 13, 'plans': 43, 'pact': 15, 'canberra': 8, 'tibet': 5, 'exiled': 6, 'spiritual': 3, 'dalai': 1, 'lama': 1, 'conservative': 11, 'accuse': 1, 'pa': 3, 'nablus': 1, 'bookseller': 2, 'information': 28, 'undertaking': 4, 'distribute': 2, 'written': 11, 'critics': 7, 'self-rule': 7, 'deals': 17, 'anyone': 8, 'legal': 23, 'destroy': 1, 'amman': 19, 'daoud': 3, 'makkawi': 1, 'owner': 7, 'nablus-based': 1, 'al-risala': 1, 'bookshop': 1, 'copies': 7, 'edward': 3, 'prominent': 4, 'scholar': 2, 'citizen': 6, 'origin': 3, 'outspoken': 3, 'critic': 3, 'accord': 9, 'confiscated': 6, 'israel-plo': 4, 'director-general': 1, 'mutawakel': 1, 'taha': 3, 'insisted': 5, 'censor': 1, 'strategy': 5, 'suppress': 1, 'freedom': 8, 'expression': 1, 'whatsoever': 2, 'relevent': 1, 'legislations': 1, 'resulted': 6, 'mistakes': 5, 'explain': 6, 'journalists': 7, 'writers': 3, 'authors': 1, 'journalist': 3, 'seale': 1, 'banned': 15, 'shop': 2, 'sure': 6, 'selling': 7, 'think': 39, 'afraid': 1, '?': 13, 'strip': 4, 'jewish': 15, 'handed': 13, 'parts': 8, 'blames': 3, 'istanbul': 7, 'tower': 4, 'carrier': 3, 'egyptair': 4, 'airport': 38, 'twenty': 1, 'boeing': 2, 'overshot': 1, 'runway': 2, 'fire': 22, 'taxi': 5, 'skipped': 1, 'onto': 9, 'line': 24, 'mohamed': 7, 'fahim': 1, 'rayyan': 1, 'instead': 10, 'yards': 6, 'steep': 2, 'aviation': 9, 'noted': 14, 'pilot': 6, 'misleading': 1, 'rainstorm': 1, 'wet': 4, 'brake': 1, 'medium': 3, 'wrong': 2, 'private': 30, 'ihlas': 1, 'wants': 13, 'nothing': 16, 'sudanese': 23, 'rulers': 2, 'egyptian': 7, 'shelter': 2, 'militants': 11, 'hosni': 2, 'mubarak': 6, 'speech': 13, 'moslem': 32, 'addis': 4, 'ababa': 4, 'sponsored': 1, 'council': 35, 'flights': 10, 'khartoum': 13, 'incident': 12, 'effect': 14, 'sudan': 23, 'fails': 6, 'extradite': 3, 'cannot': 11, 'ethiopia': 11, 'eager': 2, 'turabi': 1, 'whatever': 3, 'academics': 2, 'al-turabi': 1, 'bitter': 2, 'terrorists': 4, 'sheltering': 1, 'passorts': 1, 'far': 23, 'ostensibly': 1, 'shares': 109, 'shed': 5, 'profit-taking': 6, 'shedding': 1, 'amid': 6, 'imkb-000': 1, '00,000.00': 11, 'totalled': 4, 'volume': 26, 'trillion': 9, 'lira': 5, 'actually': 5, 'reaction': 3, 'rise': 28, 'tomorrow': 6, 'burcin': 1, 'mavituna': 1, 'profit': 68, 'approached': 3, 'cheap': 1, 'attracted': 2, 'pierced': 1, 'session': 13, 'isbank': 1, 'gained': 11, 'utility': 2, 'cukurova': 1, '00-share': 5, 'gainers': 2, 'outdid': 1, 'losers': 1, 'stable': 9, '+00-000-000': 1, 'sa': 3, 'universe': 6, 'hides': 1, 'veil': 1, 'silence': 3, 'kieran': 1, 'las': 3, 'cruces': 2, 'n.m.': 1, 'alicia': 2, 'machado': 10, 'mexico': 31, 'questions': 6, 'claims': 7, 'slipping': 2, 'desert': 1, 'attended': 7, 'teen': 3, 'usa': 5, 'pageant': 3, 'contestant': 1, 'scrutiny': 1, 'ultimatum': 3, 'angeles-based': 1, 'inc.': 12, 'drop': 13, 'losing': 17, 'swollen': 1, 'wisdom': 1, 'teeth': 1, 'extracted': 1, 'marta': 1, 'fajardo': 1, 'weighed': 2, 'vegas': 1, 'habits': 1, 'everybody': 4, 'addiction': 2, 'eats': 1, 'cakes': 1, 'crazy': 2, 'flatly': 1, 'wraps': 1, 'blocked': 5, 'access': 4, 'dressed': 4, 'strapless': 1, 'gown': 1, 'heavier': 3, 'contestants': 1, 'rave': 1, 'reviews': 2, 'appearance': 5, 'stage': 29, 'kidding': 1, 'fantastic': 1, 'nikki': 1, 'sexy': 1, 'publicists': 1, 'stay': 20, 'promotional': 1, 'sponsors': 4, 'returning': 5, 'beauty': 2, 'queens': 7, 'high-profile': 2, 'personalities': 1, 'alleged': 11, 'eased': 3, 'indulged': 1, 'passion': 1, 'pasta': 1, 'cake': 1, 'fat': 2, 'putting': 7, 'fine': 13, 'wished': 2, 'happened': 8, 'spiritually': 1, 'mentally': 1, 'terrific': 1, 'lifestyle': 1, 'associated': 6, 'routine': 5, 'exercise': 6, 'ability': 3, 'regimented': 1, 'workout': 1, 'exist': 1, 'dont': 1, 'talked': 1, 'kevorkian': 8, 'attends': 1, 'suicide': 9, 'pontiac': 2, 'mich': 1, 'bringing': 6, 'missouri': 1, 'suffering': 10, 'multiple': 6, 'sclerosis': 4, 'emergency': 14, 'room': 9, 'aranosian': 1, 'osteopathic': 1, 'patricia': 5, 'smith': 8, 'lees': 1, 'midday': 7, 'paralysed': 2, 'assisted-suicide': 1, 'attending': 7, 'starting': 15, 'crusade': 1, 'assisted': 1, 'lawyer': 12, 'geoffrey': 1, 'fieger': 1, 'husband': 17, 'father': 14, 'james': 11, 'patients': 3, 'location': 3, 'rapidly': 3, 'multple': 1, 'louise': 2, 'siebens': 1, 'amyotrophic': 1, 'lateral': 1, 'lou': 1, 'gehrig': 1, 'judith': 7, 'curren': 1, 'massachusetts': 10, 'suffered': 18, 'chronic': 5, 'fatigue': 1, 'syndrome': 1, 'non-terminal': 1, 'life': 22, 'fairview': 2, 'baa0': 2, '00/00/00': 12, 'issuer': 5, 'tx': 1, '0,000,000': 20, 'municipal': 27, 'desk': 14, 'defiant': 1, 'neo-nazi': 3, 'jailed': 11, 'gray': 2, 'sentenced': 10, 'lauck': 13, 'pumping': 1, 'extremist': 3, 'lincoln': 9, 'nebraska': 1, 'yelled': 1, 'tirade': 2, 'abuse': 7, 'conviction': 3, 'inciting': 1, 'racial': 3, 'hatred': 1, 'struggle': 8, 'shouted': 3, 'escorted': 2, 'arguing': 2, 'client': 2, 'offence': 3, 'hailed': 3, 'neo-nazism': 2, 'network': 8, 'anti-semitic': 1, 'material': 12, 'flowing': 3, 'possessed': 1, 'well-oiled': 1, 'machine': 3, 'honed': 1, 'presiding': 1, 'judge': 15, 'guenter': 1, 'bertram': 4, 'cannon': 2, 'extracts': 1, 'praising': 2, 'hitler': 3, 'greatest': 8, 'describing': 1, 'nazi': 5, 'slaughter': 6, 'millions': 12, 'jews': 3, 'myth': 2, 'bars': 3, 'complex': 5, 'prosecutor': 8, 'mauruschat': 1, 'offences': 3, 'demanded': 9, 'five-year': 10, 'satisfied': 6, 'sentence': 7, 'publishing': 5, 'distributing': 2, 'illegal': 26, 'argued': 2, 'laws': 5, 'meant': 4, 'produce': 8, 'swastika-covered': 1, 'magazines': 8, 'videos': 3, 'flags': 2, 'manfred': 1, 'kanther': 1, 'welcomed': 4, 'prosecution': 1, 'ringleaders': 1, 'biggest': 16, 'distributers': 1, 'vicious': 3, 'racist': 2, 'publications': 2, 'democrats': 18, 'sober': 1, 'suit': 10, 'sporting': 9, 'trademark': 1, 'hitleresque': 1, 'moustache': 1, 'emotion': 1, 'spent': 11, 'explaining': 2, 'blurted': 1, 'virtually': 4, 'incomprehensible': 2, 'quick-fire': 1, 'diatribe': 1, 'neither': 10, 'nazis': 1, 'nor': 10, 'communists': 4, 'dared': 1, 'kidnap': 2, 'oblique': 1, 'reference': 6, 'extradition': 9, 'truth': 10, 'attorney': 5, 'hans-otto': 1, 'sieg': 2, 'courtroom': 1, 'judges': 4, 'actions': 7, 'carried': 9, 'obsessed': 2, 'nazism': 1, 'devoted': 2, 'workers': 38, 'nsdap-ao': 2, 'derives': 1, 'name': 23, 'three-month': 2, 'dealt': 3, 'ns': 1, 'kampfruf': 1, 'cry': 2, 'magazine': 8, 'references': 1, 'aryan': 1, 'supremacy': 1, 'defamatory': 1, 'statements': 3, 'rejected': 2, 'argument': 4, 'request': 12, 'convicted': 13, 'disseminating': 1, 'symbols': 1, 'anti-constitutional': 1, 'organisations': 8, 'arrest': 17, 'subtracted': 1, 'un': 4, 'occur': 2, 'arrangements': 5, 'implement': 2, 'oil-for-food': 3, 'quite': 11, 'speculate': 1, 'preparations': 1, 'anxious': 1, 'undersecretary-general': 2, 'yasushi': 2, 'akashi': 3, 'sooner': 1, 'monitors': 11, 'carry': 10, 'department': 30, 'humanitarian': 9, 'deputy': 27, 'speculated': 4, 'suspected': 16, 'killers': 4, 'bishop': 4, 'algeria': 16, 'tv': 10, 'algerian': 12, 'killing': 22, 'state-run': 4, 'sought': 15, 'slain': 2, 'assassination': 4, 'roman': 9, 'catholic': 13, 'pierre': 3, 'claverie': 2, 'bomb': 24, 'oran': 1, 'herve': 3, 'charette': 1, 'algiers': 7, 'algerians': 2, 'foreigners': 7, 'pitting': 4, 'radical': 8, 'islamists': 9, 'commanding': 9, 'flown': 7, 'january-july': 2, 'table': 12, 'shows': 8, 'volumes': 4, 'handled': 1, 'airports': 11, 'exclude': 4, 'trucked': 2, 'airfreight': 1, 'adv': 1, 'berlin': 21, 'tegel': 1, 'tempelhof': 1, 'schoenefeld': 1, 'bremen': 10, 'dresden': 2, 'duessseldorf': 1, 'hannover': 1, 'koeln': 1, 'cologne': 11, 'leipzig': 1, 'halle': 1, 'munich': 19, 'muenster': 1, 'osnabrueck': 1, 'nuremberg': 2, 'saarbruecken': 1, 'tel+00': 3, 'fax+00': 3, 'paribas': 4, 'repeats': 1, 'aegon': 3, 'company-------------price---broker----------------': 1, 'comment': 27, 'forecast': 37, 'performance': 14, 'reiterates': 3, 'estimates': 12, 'dfl': 1, 'eps': 14, 'e': 2, 'dividend': 11, 'fax': 5, 'clinton': 94, 'ballybunion': 5, 'fans': 13, 'dublin': 10, 'resort': 6, 'whirlwind': 1, 'irish': 17, 'america': 19, 'dick': 5, 'spring': 15, 'convention': 34, 'bring': 8, 'placards': 2, 'waved': 2, 'addressed': 7, 'packed': 6, 'backs': 2, 'requested': 3, 'guests': 1, 'kennedys': 1, 'frank': 11, 'quilter': 1, 'triumphant': 1, 'process': 29, 'observe': 2, 'assurances': 1, 'erdmann': 2, 'wolfgang': 3, 'ischinger': 6, 'assured': 2, 'valid': 3, 'primakov': 2, 'pledge': 3, 'seek': 18, 'solution': 9, 'aegis': 1, 'osce': 25, 'quoting': 3, 'klaus': 2, 'kinkel': 2, 'personal': 6, 'urge': 4, 'breakaway': 4, 'threat': 9, 'unauthorised': 2, 'initiative': 3, 'intention': 2, 'positive': 18, 'goldiman': 1, 'responsible': 13, 'delhi': 13, 'global': 7, 'nuclear': 27, 'treaty': 32, 'intended': 6, 'i.k.': 1, 'gujral': 6, 'block': 9, 'adoption': 1, 'entering': 13, 'signing': 7, 'kind': 4, 'weapons': 20, 'assemble': 1, 'veto': 1, 'comprehensive': 4, 'ctbt': 3, 'bilateral': 11, 'visualise': 1, 'straining': 1, 'text': 3, 'position': 26, 'clause': 5, 'providing': 4, 'modified': 1, 'forwarded': 3, 'assembly': 17, 'cross': 11, 'reiterated': 3, 'objections': 3, 'negotiation': 2, 'fact': 16, 'weapon': 6, 'hegemony': 1, 'concerns': 8, 'impossible': 9, 'oblige': 2, 'option': 6, 'exercised': 1, 'restraint': 1, 'carrying': 23, 'tests': 12, 'lone': 3, 'accept': 13, 'constraints': 1, 'rely': 1, 'arsenals': 1, 'sour': 1, 'dhaka': 17, 'disquiet': 1, 'bangladeshi': 2, 'bangladesh': 13, 'goverment': 2, 'attached': 1, 'importance': 5, 'tragic': 1, 'siraj': 2, 'mia': 5, 'under-secretary': 2, 'commonwealth': 16, 'liam': 7, 'fox': 12, 'interogation': 1, 'arriving': 6, 'bore': 1, 'injuries': 13, 'relatives': 4, 'complained': 6, 'murdered': 4, 'post-mortem': 1, 'tortured': 1, 'drunk': 1, 'wrist': 8, 'act': 16, 'seriously': 6, 'reasons': 11, 'important': 22, 'relationship': 3, 'leave': 25, 'nepal': 19, 'governments': 6, 'commons': 1, 'matter': 5, 'thorough': 1, 'investigation': 12, 'outcome': 5, 'harassment': 1, 'nationals': 4, 'criminal': 8, 'immigration': 5, 'connection': 8, 'suburb': 4, 'disrupt': 3, 'kashmir': 10, 'polls': 17, 'srinagar': 2, 'planning': 12, 'troubled': 7, 'jammu': 2, 'seems': 5, 'inderjit': 1, 'gupta': 3, 'clamped': 1, 'direct': 13, 'abetting': 1, 'militancy': 1, 'valley': 4, 'islamabad': 7, 'infiltrating': 1, 'create': 10, 'disturbance': 1, 'noticed': 1, 'among': 22, 'growing': 10, 'mercenaries': 1, 'independence': 28, 'h.d.': 1, 'deve': 1, 'gowda': 1, 'centre-left': 1, 'hopes': 9, 'restore': 3, 'normality': 1, 'insurgency-related': 1, 'militant': 4, 'engineering': 7, 'banks': 23, 'edged': 8, 'sharply': 6, 'institutional': 2, 'stock': 51, 'exchange': 46, 'dse': 1, 'all-share': 1, '0,000.00': 31, 'turnover': 16, 'taka': 5, 'remained': 19, 'unchanged': 15, 'cables': 2, 'apex': 1, 'tannery': 1, 'recovered': 8, 'edge': 8, 'short-covering': 1, 'ratio': 6, 'governor': 20, 'rangarajan': 5, 'crr': 3, 'maintained': 5, 'reduced': 10, 'addressing': 2, 'industrialists': 1, 'having': 25, 'theoretical': 1, 'supply': 17, 'instrument': 1, 'regulate': 2, 'reducing': 1, 'increasing': 6, 'context': 1, 'stood': 8, 'commitment': 5, 'response': 9, '+00-00-0000000': 1, 'viable': 1, 'bombay': 9, 'chakravarty': 1, 'product': 15, 'gdp': 10, 'sustainable': 2, 'currrent': 1, 'real': 13, 'non-debt': 1, 'reduction': 4, 'debt-service': 1, '+00-00-000': 4, 'teresa': 21, 'calcutta': 14, 'saint': 3, 'gutters': 1, 'nobel': 7, 'prize': 9, 'hope': 24, 'dignity': 2, 'unwanted': 2, 'simple': 3, 'heaps': 1, 'honours': 3, 'regards': 1, 'nun': 6, 'albanian': 16, 'descent': 1, 'maintains': 2, 'joy': 2, 'fulfilment': 1, 'neglected': 2, 'need': 24, 'sympathy': 2, 'pity': 2, 'compassion': 2, 'diminutive': 1, 'missionary': 8, 'respiratory': 1, 'intensive': 5, 'indian': 26, 'turns': 3, 'conscious': 3, 'condition': 20, 'task': 8, 'alone': 6, 'slums': 1, 'densely-populated': 1, 'grew': 5, 'characteristically': 1, 'unworthy': 2, 'showering': 2, 'bharat': 1, 'ratna': 1, 'jewel': 2, 'highest': 6, 'award': 6, 'deteriorate': 1, 'fitted': 2, 'pacemaker': 1, 'vatican': 5, 'superior': 2, 'missionaries': 14, 'charity': 7, 'delegates': 10, 'elect': 14, 'successor': 3, 'agree': 4, 'bacterial': 2, 'pneumonia': 2, 'rome': 12, 'ribs': 1, 'receive': 6, 'malaria': 4, 'complicated': 1, 'lung': 4, 'fractured': 2, 'collar': 2, 'bone': 4, 'frailty': 1, 'arthritis': 2, 'failing': 7, 'eyesight': 1, 'stopped': 9, 'travels': 1, 'mingle': 1, 'desperate': 2, 'agnes': 1, 'goinxha': 1, 'bejaxhiu': 1, 'serbia': 10, 'deeply': 1, 'religious': 13, 'loretto': 2, 'hoping': 3, 'abbey': 4, 'begin': 13, 'novitiate': 1, 'teach': 1, 'geography': 1, 'convent': 2, 'divine': 1, 'interviewer': 1, 'belonged': 1, 'approved': 14, 'training': 12, 'slum': 1, 'therese': 1, 'jesus': 3, 'simply': 3, 'dying': 3, 'hindu': 1, 'rest': 19, 'penniless': 1, 'nirmal': 2, 'hriday': 2, 'chain': 3, 'homes': 14, 'destitute': 5, 'admitting': 1, 'founded': 7, 'documentary': 1, 'mixture': 1, 'hyperbole': 1, 'credulity': 1, 'catholics': 2, 'focus-news': 1, 'forecasts': 7, 'alien-led': 1, 'boost': 12, 'bernard': 7, 'hickey': 1, 'baron': 1, 'rupert': 3, 'murdoch': 2, 'ltd': 32, 'profits': 21, 'film': 10, 'perspective': 3, 'begun': 10, 'promise': 4, 'motion': 6, 'picture': 6, 'announcing': 4, 'moderating': 1, 'solid': 4, 'orders': 20, 'advertising': 11, 'broadcasting': 2, 'budgeted': 3, 'attainable': 1, 'soothed': 1, 'pre-abnormals': 2, 'a$': 19, 'us$': 8, 'cents': 57, 'disappointing': 10, 'lachlan': 1, 'drummond': 3, 'offset': 6, 'divisions': 1, 'hefty': 1, 'asian': 4, 'operations': 10, 'newsprint': 2, 'hard': 16, 'throughout': 10, 'cover': 6, 'revenues': 7, 'surprises': 1, 'inserts': 1, 'guide': 4, 'dramatically': 1, 'arm': 5, 'harper-collins': 2, 'healthy': 4, 'operation': 18, 'demise': 1, 'hurt': 10, 'minimum': 6, 'setting': 5, 'expired': 3, 'publishers': 1, 'pulled': 14, 'spotlight': 1, 'understatement': 1, \"'re\": 36, 'internal': 8, 'declined': 19, 'p.m.': 3, 'soft': 2, 'savings': 4, 'rba': 4, 'slash': 1, 'useful': 2, 'contribution': 3, 'realised': 5, 'raising': 5, 'consolidation': 2, 'unduly': 1, 'restrict': 2, 'ambiguous': 1, 'coalition': 22, 'pledged': 7, 'credible': 1, 'rein': 1, 'unsustainable': 1, 'favourable': 1, 'effects': 5, 'activity': 14, 'generally': 10, 'long-term': 12, 'saving': 3, 'tending': 1, 'promote': 2, 'investment': 21, 'lowering': 1, 'bnz': 2, 'nz': 5, 'fixed': 5, 'lending': 10, 'wellington': 15, 'cutting': 5, 'responding': 3, 'wholesale': 1, 'odv': 2, 'nz$': 2, 'optimised': 1, 'deprival': 1, 'valuation': 1, 'reflected': 3, 'extensions': 1, 'lifespan': 1, 'consistent': 4, 'approach': 5, 'followed': 15, 'preventative': 1, 'equipment': 8, 'upgrading': 1, 'revaluation': 1, 'undertaken': 1, 'disclosure': 2, 'requirements': 4, 'commerce': 2, 'thais': 1, 'hunt': 7, 'breaker': 2, 'thailand': 11, 'launched': 14, 'manhunt': 1, 'awaiting': 3, 'drug': 25, 'possession': 3, 'westlake': 2, 'victoria': 2, 'sucessful': 1, 'escape': 7, 'klongprem': 2, 'outskirts': 1, 'massive': 4, 'confident': 8, 'vivit': 2, 'chatuparisut': 1, 'correction': 2, 'trafficking': 5, 'sawed': 1, 'grill': 1, 'cell': 2, 'window': 5, 'climbed': 6, 'five-metre': 1, '00-foot': 1, 'rope': 1, 'bed': 8, 'corrections': 1, 'probing': 2, 'inmates': 2, 'chained': 1, 'prevent': 11, 'breakouts': 1, 'westerners': 1, 'tokyo': 23, 'soir': 2, 'parent': 9, 'billions': 11, 'yen': 30, 'specified': 6, 'actual': 6, 'year-ago': 8, 'ord': 2, 'specialised': 1, 'manufacturer': 4, 'wear': 2, 'ka': 2, 'wah': 3, 'hk$': 8, 'frcd': 1, 'floating': 2, 'certificate': 1, 'privately': 3, 'placed': 5, 'sole': 1, 'arranger': 1, 'hsbc': 1, 'facility': 3, 'tenor': 1, 'pays': 2, 'basis': 16, 'clearing': 4, 'moneymarkets': 1, 'bans': 5, 'nitrofuran': 2, 'usage': 1, 'chicken': 2, 'antibiotic': 1, 'applications': 5, 'believes': 6, 'cancer': 2, 'breeders': 2, 'feedmillers': 1, 'abide': 1, 'respect': 6, 'safety': 8, 'chua': 2, 'jui': 1, 'meng': 1, 'bernama': 1, 'two-year': 4, 'maximum': 6, 'ringgit': 1, 'indonesian': 11, 'watch': 4, 'jakarta': 18, '**': 7, 'involving': 12, 'megawati': 3, 'sukarnoputri': 2, 'stationed': 2, 'demonstrators': 5, 'dow': 6, 'three-session': 1, 'streak': 19, 'tobacco': 5, 'beating': 6, 'composite': 1, 'bargain-hunting': 1, 'big-capitalised': 1, 'secondliners': 1, 'rupiah': 14, 'trading': 46, 'packaging': 3, 'super': 15, 'indah': 1, 'makmur': 1, 'offer': 23, 'pt': 2, 'vdh': 1, 'teguh': 1, 'sakti': 1, 'wholly-owned': 2, 'subsidiary': 5, 'singapore-listed': 1, 'privately-owned': 1, 'duta': 1, 'obtaining': 2, 'fresh': 4, 'syndicated': 1, 'loans': 5, 'management': 21, 'reshuffle': 2, 'ciputra': 1, 'build': 10, 'property': 17, 'projects': 5, 'worth': 19, 'surabaya': 6, 'movements': 3, 'indices*': 1, 'exchanges': 3, 'change': 27, 'highs': 6, 'lows': 7, 'dates': 4, 'japanese': 30, 'pound': 28, 'gold': 41, 'bullion': 2, 'closes': 7, 'brackets': 1, 'low': 24, '+00.0': 3, 'jun': 3, 'mar': 2, '+0.00': 5, 'apr': 3, 'feb': 3, '....': 6, 'ounce': 4, '*indices': 1, 'all-time': 3, '00/00': 20, 'ftse-000': 1, 'nikkei': 6, 'dec': 6, 'dax-0o': 1, 'cac-00': 6, 'all-ordinaries': 1, 'hang': 3, 'seng': 1, 'hails': 1, 'marks': 11, 'rostislav': 1, 'khotin': 1, 'kiev': 7, 'celebrates': 1, 'hailing': 1, 'inter-ethnic': 2, 'post-soviet': 5, 'achievement': 2, 'declaration': 3, 'nine-to-one': 1, 'effectively': 5, 'blow': 8, 'soviet': 13, 'empire': 5, 'centuries': 2, 'largest': 17, 'republics': 1, 'tajikistan': 1, 'achievements': 1, 'preservation': 1, 'harmony': 1, 'leonid': 1, 'kuchma': 4, 'televised': 2, 'unlike': 3, 'situations': 2, 'peaceful': 3, 'civilised': 1, 'initially': 8, 'accompanied': 8, 'hyper-inflation': 1, 'collapse': 4, 'turnaround': 1, 'inflation': 12, 'hyper-inflationary': 1, 'respectable': 1, 'economy': 26, 'grow': 4, 'solemn': 1, 'ukraina': 1, 'palace': 13, 'turning': 2, 'reforms': 7, 'doubt': 8, 'adelbert': 1, 'knobl': 1, 'monetary': 7, 'fund': 9, 'proud': 3, 'much-postponed': 1, 'hryvna': 2, 'replace': 9, 'karbovanets': 3, 'rouble': 2, 'trades': 5, 'introduce': 2, 'postpone': 7, 'promptly': 2, 'nato': 22, 'policy': 29, 'wrangle': 2, 'offending': 1, 'unofficial': 3, 'top-level': 2, 'delegation': 2, 'protest': 22, 'hennady': 1, 'udovenko': 1, 'overreacting': 1, 'seeing': 5, 'itself': 6, 'westernising': 1, 'strategic': 14, 'aim': 3, 'integration': 1, 'economically': 1, 'oriented': 1, 'though': 14, 'circles': 2, 'push': 5, 'membership': 5, 'associate': 4, 'grouping': 2, 'closer': 4, 'congratulated': 1, 'anniversary': 5, 'promising': 5, 'stabilising': 1, 'factor': 6, 'oldest': 1, 'disappears': 2, '00th-century': 1, 'earliest': 2, 'complete': 23, 'example': 9, 'disappeared': 2, 'archives': 3, 'gazeta': 5, 'shqiptare': 2, 'mass': 7, 'gjon': 1, 'buzuku': 2, 'dating': 3, 'discovered': 3, 'seminary': 1, 'published': 15, 'language': 7, 'albanians': 2, 'sons': 3, 'lamented': 3, 'musa': 1, 'hamiti': 1, 'library': 3, 'grateful': 2, 'civilisation': 1, 'inventing': 1, 'photocopies': 1, 'clamp': 1, 'barter': 14, 'keen': 2, 'adopt': 2, 'concerned': 8, 'viewing': 1, 'disguised': 3, 'volkova': 7, 'exported': 4, 'unimported': 2, 'understated': 1, 'decree': 9, 'substantially': 1, 'situation': 16, 'traders': 31, 'obliged': 3, 'fines': 1, 'understating': 1, 'loophole': 1, 'tackling': 3, 'technicalities': 1, 'feature': 6, 'decrees': 2, 'liberalising': 1, 'impetus': 1, 'popped': 1, 'preferred': 5, 'reliable': 1, 'transfer': 3, 'systems': 14, 'various': 7, 'sorts': 2, 'tranfers': 1, 'incompetent': 3, 'experienced': 4, 'ones': 3, 'dmitry': 2, 'solovyov': 1, '+0000': 7, 'viacom': 2, 'sequel': 3, 'paramount': 4, 'pictures': 4, 'cruise': 3, 'blockbuster': 1, 'release': 19, 'variety': 4, 'big-screen': 1, 'version': 9, 'spy': 3, 'grossed': 1, 'domestically': 1, 'inc-owned': 1, 'forrest': 1, 'gump': 1, 'plot': 3, 'reprise': 1, 'roles': 1, 'co-producer': 1, 'academy': 2, 'award-winning': 1, 'screenwriter': 1, 'goldman': 8, 'write': 3, 'script': 2, 'brian': 8, 'palma': 1, 'crack': 1, 'oscars': 1, 'butch': 3, 'cassidy': 1, 'sundance': 1, 'kid': 1, 'criticised': 5, 'blockbusters': 1, 'singled': 4, 'entertaining': 3, 'movie': 2, 'sit': 2, 'batsman': 5, 'endure': 1, 'frustrating': 1, 'delay': 10, 'resuming': 4, 'quest': 2, 'maiden': 1, 'century': 8, 'heavy': 18, 'rain': 23, 'drizzle': 1, 'improvement': 7, 'weather': 18, 'umpires': 3, 'announce': 10, 'event': 16, 'unbeaten': 6, 'spotted': 3, 'strumming': 1, 'dressing-room': 1, 'damp': 2, 'patches': 1, 'outfield': 1, 'raining': 1, 'brighter': 2, 'bowled': 5, 'practice': 5, 'spa-francorchamps': 4, 'gerhard': 5, 'berger': 6, 'benetton': 12, 'seconds': 92, 'coulthard': 4, 'mclaren': 13, '0:00.000': 83, 'jacques': 8, 'villeneuve': 5, 'mika': 8, 'hakkinen': 5, 'heinz-harald': 4, 'frentzen': 4, 'jean': 7, 'alesi': 5, 'damon': 6, 'hill': 12, 'schumacher': 10, 'brundle': 4, 'rubens': 4, 'barrichello': 4, 'herbert': 5, 'sauber': 6, 'olivier': 5, 'panis': 4, 'ligier': 6, '[': 5, 'corrected': 5, '00:00': 7, ']': 5, 'gabriela': 3, 'sabatini': 3, 'asa': 3, 'carlsson': 3, 'katarina': 3, 'studenikova': 3, 'karina': 6, 'habsudova': 7, 'corrects': 4, 'portsmouth': 12, 'tranmere': 7, 'grimsby': 7, 'stirling': 5, 'albion': 3, 'harden': 3, 'gooch': 8, 'robinson': 4, 'hooper': 3, 'penberthy': 1, 'k.': 7, 'curran': 3, 't.': 3, 'munton': 2, 'illingworth': 2, 'lampitt': 2, 'blakey': 4, 'fairbrother': 6, 'pollock': 9, 'shaun': 3, 'ankle': 4, 'returns': 6, 'swap': 3, 'counties': 1, 'premature': 3, 'departure': 3, 'unavoidable': 1, 'nb-00': 4, '00.0-0-00-0': 4, 'lb-0': 10, 'wicket': 15, 'ravanelli': 4, 'shirt': 3, 'dance': 1, 'middlesbrough': 5, 'italian': 41, 'fabrizio': 1, 'sponsor': 1, 'seen': 37, 'grey-haired': 1, 'forward': 16, 'pulls': 1, 'shirtfront': 1, 'salute': 1, 'spectacle': 1, 'celebrate': 3, 'fun': 8, 'besides': 2, 'chest': 4, 'aggravated': 1, 'foot': 13, 'chelsea': 12, 'forest': 11, 'bryan': 1, 'robson': 4, 'advance': 7, 'aussies': 1, 'reached': 26, 'straight-set': 1, 'victories': 3, 'noteworthy': 1, 'sixth-seeded': 2, 'advanced': 16, 'third-seeded': 1, 'three-hour': 2, 'eliminating': 2, 'americans': 8, 'overcame': 2, 'getting': 6, 'handle': 2, 'pretty': 7, 'easily': 3, 'things': 17, 'missed': 7, 'felt': 16, '0:00': 21, 'midnight': 9, 'wake': 1, 'routines': 1, 'happier': 1, 'person': 8, 'aggressive': 6, 'wind': 3, 'affected': 7, 'atp': 4, 'haven': 2, 'hitting': 9, 'ball': 22, 'mental': 5, 'letdowns': 1, 'competing': 3, 'lot': 25, 'shots': 7, 'marvelling': 1, 'exciting': 1, '00-stroke': 1, 'joked': 3, 'mostly': 15, 'rugby': 35, 'mulder': 4, 'japie': 1, 'pretoria': 6, 'durban': 1, 'spasms': 1, 'fitness': 2, 'check': 7, 'springbok': 1, 'teichmann': 1, 'bruised': 2, 'thigh': 2, 'markgraaff': 2, 'means': 11, 'transvaal': 1, 'snyman': 2, 'cap': 4, 'alongside': 3, 'colleague': 3, 'danie': 1, 'schalkwyk': 1, 'wing': 6, 'pieter': 1, 'hendriks': 1, 'speculation': 12, 'line-up': 1, 'shortly': 16, 'denote': 2, 'seedings': 8, 'ong': 2, 'ewe': 2, 'hock': 3, 'ijaya': 1, 'gang': 3, 'chanda': 2, 'rubin': 19, 'tendinitis': 2, 'sidelined': 3, 'misfortune': 2, 'lucky': 2, 'assignments': 1, 'highest-ranked': 1, 'non-seeded': 1, 'player': 23, 'moved': 12, 'slot': 1, 'notable': 1, 'withdrawal': 3, 'mary': 5, 'pierce': 1, 'meredith': 1, 'mcgrath': 7, 'becker': 1, 'doubleheader': 1, 'sorrento': 4, 'routs': 1, 'oriole': 1, 'moyer': 4, 'tiring': 1, 'routed': 2, 'tagged': 3, 'pair': 17, 'devereaux': 2, 'brady': 22, 'anderson': 6, 'walked': 16, 'none': 11, 'struck': 26, 'norm': 1, 'charlton': 8, 'batters': 4, 'seal': 1, 'ken': 5, 'griffey': 1, 'jr': 3, 'edgar': 6, 'stroked': 1, 'back-to-back': 2, 'rocky': 2, 'coppinger': 2, 'jay': 3, 'buhner': 3, 'advantage': 11, 'fielder': 4, 'touched': 1, 'slams': 3, 'wild-card': 4, 'heading': 5, 'pitches': 3, 'dwell': 1, 'troy': 4, \"o'leary\": 2, 'foul': 3, 'pole': 5, 'roger': 9, 'clemens': 2, 'shutout': 4, 'pinch-hitter': 5, 'matt': 3, 'stairs': 1, 'tripled': 1, 'tinsley': 1, 'steinbach': 1, 'dunked': 1, 'broken-bat': 1, '00-inning': 1, 'longest': 1, 'majors': 6, 'pitched': 6, 'reliever': 7, 'acre': 3, 'garret': 1, 'disarcina': 1, 'apiece': 5, 'edmonds': 1, 'highlighted': 2, 'six-run': 2, 'coasted': 1, 'battered': 3, 'rogers': 1, 'outscored': 2, 'finley': 3, 'four-game': 2, 'travis': 1, 'fryman': 1, 'doubled': 4, 'go-ahead': 4, 'melvin': 1, 'nieves': 1, 'damion': 1, 'easley': 1, 'claimed': 13, 'handing': 2, 'halted': 2, 'seven-game': 1, 'thompson': 8, 'belcher': 1, 'en': 3, 'route': 8, 'red-hot': 1, 'contests': 2, 'yielded': 2, 'covering': 2, 'erik': 6, 'hanson': 4, 'outdueled': 2, 'fernandez': 5, 'jacob': 2, 'brumfield': 1, 'otis': 1, 'blanked': 3, 'shortened': 1, 'lisbon': 8, 'luis': 7, 'predrosa': 2, 'cruised': 3, 'sc': 2, 'espinho': 3, 'drilled': 2, 'right-foot': 1, 'nail': 1, 'besirovic': 1, 'restored': 5, 'vidigal': 1, 'mustapha': 2, 'hadji': 1, 'reigning': 6, 'porto': 9, 'benfica': 6, 'portuguese': 8, 'pauli': 14, 'fightback': 2, 'tipped': 1, 'candidates': 8, 'relegation': 2, 'produced': 8, 'second-half': 3, 'bundesliga': 10, 'schalke': 13, 'raced': 2, 'trulsen': 2, 'two-goal': 3, 'cushion': 2, 'afterwards': 3, 'springer': 3, 'thanks': 5, 'sabotzik': 1, 'hansa': 11, 'rostock': 11, 'karsten': 2, 'baeron': 2, 'dazzling': 1, 'build-up': 1, 'in-form': 2, 'harald': 1, 'spoerl': 1, 'salah': 3, 'hissou': 3, 'clocked': 10, '00:00.00': 15, 'haile': 1, 'gebreselassie': 1, 'hengelo': 1, 'summaries': 14, 'min': 4, 'driller': 1, 'sobotzik': 1, 'thon': 2, 'wilmots': 1, 'nancy': 9, 'germain': 7, 'masterkova': 10, 'warner': 4, 'svetlana': 8, 'smashed': 2, 'bettered': 1, 'mile': 3, 'zurich': 14, 'ate': 2, 'swift': 5, 'lap': 16, 'shave': 1, '0:00.00': 58, 'mozambique': 6, 'mutola': 6, 'stadium': 10, 'pushed': 6, 'finishing': 4, 'bonus': 4, 'historic': 5, 'capacity': 9, 'dominated': 4, 'middle-distance': 1, 'races': 3, 'three-year': 4, 'maternity': 1, 'richest': 1, 'slashed': 2, 'plus': 10, 'kilo': 1, 'fortnight': 1, 'laid': 1, 'comparable': 1, 'surface': 3, 'softer': 4, 'enjoyed': 2, 'gear': 3, 'strides': 1, 'pointing': 2, 'clock': 2, 'delight': 2, 'crossed': 2, 'evolution': 2, 'tabulated': 22, 'wachtel': 1, '00.0.00': 3, 'adjusted': 4, 'borrego': 2, 'willison': 1, 'ames': 4, 'trinidad': 7, 'tobago': 2, 'coles': 1, 'chapman': 4, 'cea': 5, 'mason': 1, 'barry': 6, 'lane': 4, 'webster': 1, 'mitchell': 8, 'upstages': 1, 'trio': 5, 'dennis': 6, 'upstaged': 4, 'present': 9, 'storming': 2, 'customary': 1, 'bright': 6, 'outfit': 3, 'scalp': 1, 'donovan': 5, 'bailey': 11, 'linford': 6, 'christie': 21, 'lucrative': 1, 'blocks': 1, 'burst': 4, 'celebration': 3, 'bronze': 6, 'medallist': 6, 'ato': 3, 'boldon': 3, 'limp': 1, 'hurdles': 13, 'allen': 5, 'defied': 2, 'brilliant': 4, 'colin': 10, 'jackson': 4, 'fastest': 9, 'hurdler': 1, 'seemed': 6, 'relish': 1, 'dominating': 1, 'finish': 10, 'faster': 7, 'speed': 8, 'pelting': 1, 'hurdlers': 1, 'stepped': 9, 'ludmila': 4, 'engquist': 3, 'crashed': 10, 'hurdle': 2, 'footing': 1, 'silver': 6, 'brigita': 2, 'bukovec': 2, 'jamaican': 2, 'michelle': 6, 'freeman': 5, 'cuban': 6, 'aliuska': 2, 'lopez': 5, 'jackpot': 2, 'one-kg': 1, 'clinch': 3, 'golden': 4, 'penultimate': 2, 'adkins': 2, 'alive': 4, 'gail': 2, 'devers': 3, 'merlene': 2, 'ottey': 3, 'medal': 8, 'photo': 1, 'settle': 6, 'gwen': 2, 'torrence': 2, 'costly': 2, 'discus': 2, 'ilke': 1, 'wyludda': 1, 'ellina': 1, 'franka': 1, 'dietzsch': 1, 'natalya': 5, 'sadova': 1, 'mette': 1, 'bergmann': 1, 'nicoleta': 1, 'grasu': 1, 'olga': 2, 'chernyavskaya': 1, 'irina': 5, 'yatchenko': 1, 'jamaica': 11, 'cuba': 18, 'dionne': 2, 'yulia': 1, 'graudin': 1, 'julie': 8, 'baumann': 1, 'girard-leno': 1, 'dawn': 3, 'bowles': 1, 'emilio': 2, 'valle': 2, 'pieters': 2, 'asselman': 1, 'hubert': 1, 'grossard': 1, \"n'senga\": 1, 'johan': 10, 'lisabeth': 1, 'roberta': 1, 'brunet': 1, 'fernanda': 1, 'ribeiro': 1, 'sally': 2, 'barsosio': 1, 'kenya': 31, 'paula': 1, 'radcliffe': 1, 'julia': 3, 'vaquero': 1, 'catherine': 1, 'mckiernan': 1, 'annette': 1, 'peters': 1, 'pauline': 2, 'konga': 1, 'davidson': 2, 'ezinwa': 4, 'nigeria': 31, 'jon': 7, 'bruny': 1, 'surin': 1, 'samuel': 2, 'matete': 1, 'zambia': 3, 'rohan': 1, 'torrance': 1, 'zellner': 1, 'jean-paul': 4, 'bruwier': 1, 'dusan': 1, 'kovacs': 1, 'calvin': 1, 'laurent': 4, 'ottoz': 2, 'dollendorf': 1, 'onyali': 2, 'chryste': 1, 'gaines': 1, 'zhanna': 1, 'pintusevich': 1, 'privalova': 2, 'natalia': 4, 'voronova': 3, 'juliet': 2, 'cuthbert': 2, 'regina': 1, 'djate': 1, 'carla': 1, 'sacramento': 1, 'yekaterina': 1, 'podkopayeva': 1, 'margret': 1, 'crowley': 2, 'leah': 1, 'pells': 1, 'sarah': 9, 'thorsett': 1, 'sinead': 1, 'delahunty': 1, 'steeplechase': 1, 'joseph': 5, 'keter': 1, 'sang': 1, 'moses': 1, 'kiptanui': 1, 'gideon': 1, 'chirchir': 1, 'kosgei': 2, 'larbi': 1, 'khattabi': 1, 'eliud': 1, 'barngetuny': 1, 'barmasai': 1, 'mills': 7, 'anthuan': 1, 'maybank': 1, 'kamoga': 2, 'uganda': 7, 'baulch': 1, 'bada': 1, 'samson': 2, 'kitur': 1, 'richardson': 3, 'rouser': 1, 'frankie': 5, 'fredericks': 6, 'namibia': 5, 'stevens': 1, 'garcia': 3, 'eric': 4, 'wymeersch': 1, 'lamont': 1, 'malgorzata': 1, 'rydz': 1, 'anja': 1, 'smolders': 1, 'veerle': 1, 'jaeghere': 1, 'eleonora': 1, 'berlanda': 1, 'anneke': 1, 'matthijs': 1, 'jacqueline': 2, 'inger': 1, 'trandenkova': 1, 'chandra': 3, 'sturrup': 2, 'zundra': 1, 'feagin': 1, 'galina': 2, 'malchugina': 1, 'cathy': 2, 'marie-jose': 1, 'perec': 1, 'falilat': 2, 'ogunkoya': 2, 'fatima': 2, 'yussuf': 1, 'maicel': 1, 'malone': 2, 'hana': 1, 'benesova': 1, 'ann': 4, 'mercken': 1, 'komen': 1, 'khalid': 1, 'boulami': 1, 'bob': 18, 'hassane': 1, 'lahssini': 1, 'nyariki': 1, 'noureddine': 1, 'morceli': 1, 'fita': 1, 'bayesa': 1, 'keino': 1, 'lars': 1, 'riedel': 1, 'dubrovshchik': 1, 'virgilius': 1, 'alekna': 1, 'juergen': 4, 'schult': 1, 'vassiliy': 1, 'kaptyukh': 1, 'vaclavas': 1, 'kidikas': 1, 'mollenbeck': 1, 'triple': 4, 'jump': 9, 'edwards': 6, 'yoelvis': 1, 'quesada': 1, 'wellman': 8, 'bermuda': 1, 'harrison': 2, 'markov': 4, 'francis': 4, 'agyepong': 1, 'rogel': 1, 'nachum': 1, 'sigurd': 1, 'njerve': 1, 'guerrouj': 1, 'isaac': 2, 'viciosa': 1, 'tanui': 2, 'elijah': 1, \"o'sullivan\": 1, 'mayock': 2, 'laban': 1, 'rotich': 1, 'impens': 1, 'stefka': 1, 'kostadinova': 1, 'inga': 1, 'babakova': 1, 'alina': 1, 'astafei': 1, 'motkova': 1, 'zalevskaya': 1, 'kazakhstan': 2, 'yelena': 2, 'gulyayeva': 1, 'hanna': 1, 'haugland': 1, 'boshova': 1, 'nele': 1, 'zilinskiene': 1, 'tergat': 1, 'koech': 2, 'kiptum': 1, 'aloys': 1, 'nizigama': 1, 'burundi': 16, 'mathias': 1, 'ntawulikura': 1, 'rwanda': 10, 'abel': 1, 'anton': 5, 'kamiel': 1, 'maase': 1, '00.00.00': 2, 'worku': 1, 'bekila': 1, 'stefko': 1, 'paulo': 23, 'sousa': 1, 'juventus': 8, 'member': 19, 'oliveira': 3, 'coaches': 2, 'vitor': 1, 'baia': 1, 'rui': 4, 'correia': 1, 'paulinho': 1, 'santos': 10, 'helder': 2, 'cristovao': 1, 'secretario': 1, 'dimas': 1, 'teixeira': 1, 'couto': 1, 'barroso': 1, 'figo': 1, 'barros': 2, 'oceano': 1, 'cruz': 3, 'ricardo': 3, 'pinto': 3, 'forwards': 2, 'domingos': 3, 'joao': 3, 'vieira': 1, 'cadete': 1, 'folha': 1, 'vogts': 4, 'keeps': 5, 'faith': 2, 'berti': 1, 'entire': 7, 'friendly': 16, 'zabrze': 5, 'nominated': 5, 'veterans': 2, 'jens': 5, 'todt': 2, 'dispensation': 1, 'libero': 1, 'matthias': 2, 'sammer': 2, 'steffen': 2, 'freund': 2, 'defender': 19, 'rene': 4, 'schneider': 2, 'formally': 7, \"'ll\": 19, 'themselves': 6, 'oliver': 5, 'kahn': 1, 'koepke': 2, 'reck': 1, 'markus': 2, 'babbel': 1, 'helmer': 4, 'kohler': 1, 'mario': 4, 'basler': 1, 'bode': 1, 'dieter': 2, 'eilts': 1, 'haessler': 2, 'moeller': 2, 'mehmet': 1, 'scholl': 1, 'strunz': 1, 'ziege': 1, 'bierhoff': 2, 'fredi': 1, 'bobic': 3, 'klinsmann': 5, 'kuntz': 1, 'draws': 6, 'olympiakos': 6, 'pao': 3, 'x-aek': 1, 'x-olympiakos': 1, 'x-pao': 1, 'legia': 5, 'warsaw': 18, 'x': 9, 'indicates': 3, 'competitions': 1, 'lyngby': 1, 'x-club': 1, 'brugge': 7, 'casino': 4, 'graz': 4, 'ekeren': 4, 'besiktas': 1, 'molenbeek': 4, 'alania': 1, 'vladikavkaz': 3, 'x-anderlecht': 1, 'x-cercle': 1, 'healed': 2, 'lankans': 4, 'acrimonious': 1, 'guilty': 10, 'tampering': 2, 'off-spinner': 2, 'muttiah': 1, 'muralitharan': 4, 'throwing': 3, 'controversial': 6, 'three-test': 4, 'proper': 1, 'arjuna': 3, 'ranatunga': 4, 'eve': 5, 'warmup': 2, 'xi': 4, 'cam': 1, 'battersby': 2, 'excellent': 5, 'batterby': 1, 'lankan': 9, 'wicketkeeper': 1, 'healy': 5, 'angola': 8, 'luanda': 2, 'angolan': 5, 'jornal': 2, 'proposing': 2, 'definite': 1, 'unita': 6, 'generals': 2, 'formation': 3, 'unity': 4, 'reconciliation': 6, 'circulation': 2, 'peoples': 2, 'guaranteed': 4, 'installed': 7, 'deputies': 1, 'occupy': 2, 'delays': 4, 'occupation': 3, 'demilitarised': 1, 'substituted': 3, 'so-called': 3, 'dos': 2, 'proposes': 3, 'definitive': 2, 'timetable': 7, 'tasks': 3, 'obligations': 2, 'lusaka': 2, 'sending': 5, 'supervise': 2, 'execution': 2, 's.african': 2, 'consensus': 7, 'day--company----period--consensus----range-------pvs': 1, 'mon': 6, 'gencor': 13, '00.0-00.0': 8, 'primedia': 2, 'n': 8, 'distillers': 2, 'tue': 4, 'iscor': 2, 'mccarthy': 5, '000.0-000.0': 4, 'wed': 2, 'imphold': 2, 'thu': 4, 'm&r': 2, 'jd': 2, 'oooooo': 1, 'ulster': 1, 'petroleums': 2, 'falls': 6, 'calgary': 1, 'shr': 11, 'revs': 3, '000s': 3, 'jeopardize': 1, 'trip-canada': 1, 'ottawa': 6, 'restrictions': 2, 'axworthy': 3, 'circumstances': 4, 'discuss': 21, 'mid-tier': 1, 'golds': 1, 'fever': 8, 'handful': 4, 'toronto-based': 2, 'tvx': 2, 'kinross': 2, 'scorpion': 2, 'minerals': 5, 'junior': 10, 'exploration': 4, 'properties': 2, 'changing': 5, 'hands': 14, 'eyebrows': 2, 'aware': 4, 'developments': 5, 'formed': 6, 'unitog': 2, 'upgraded': 2, 'barrington': 1, 'associates': 1, 'near-term': 2, 'buffett': 4, 'stake': 14, 'omaha': 1, 'billionaire': 1, 'warren': 1, 'trust': 7, 'filing': 2, 'securities': 21, 'exchnage': 1, 'boston-based': 1, 'estate': 2, 'ranging': 3, 'holding': 12, 'purchased': 2, 'well-known': 2, 'investor': 2, 'berkshire': 2, 'hathaway': 1, 'holds': 5, 'investments': 6, 'large': 14, 'reach': 6, 'miami': 9, 'allow': 6, 'amr': 6, 'airlines': 7, 'operate': 6, 'round-trip': 2, 'transportation': 7, 'shift': 5, 'designate': 1, 'all-cargo': 1, 'permitted': 1, 'category': 1, 'conditional': 2, 'routes': 1, 'resolved': 3, 'arose': 3, 'colombians': 1, 'propose': 2, 'avianca': 1, 'clean': 7, 'tanker': 1, 'fixtures': 5, 'enquiries': 2, 'mideast': 8, 'konpolis': 1, 'w000.0': 2, 'kpc': 1, 'tbn': 2, 'w.c.': 1, 'w000': 9, 'e.c.india': 1, 'ioc': 6, 'asia': 4, 'petrobulk': 1, 'rainbow': 1, '00/0': 4, 'okinawa': 1, 'inchon': 1, 'honam': 1, 'med': 2, 'constanza': 1, 'inia': 1, 'cont': 1, '00,0': 1, 'pembroke': 3, 'stentex': 1, 'hemisphere': 1, 'kpaitan': 1, 'stankov': 1, 'croix': 1, 'usac': 1, 'hess': 1, 'ap': 1, 'moller': 1, 'caribs': 2, 'tiber': 1, 'options': 22, 'stinnes': 1, '------------------------------------------------------------': 1, 'tenacity': 1, 'samsung': 9, 'sks': 1, 'tana': 1, 'cnr': 3, 'northsea': 1, 'chaser': 1, 'jomo': 1, 'sibonina': 1, 'marubeni': 1, 'neptune': 1, 'crux': 1, 'singapore': 19, 'sietco': 1, 'rnr': 1, 'fulmar': 1, 'yosu': 1, 'lg': 12, 'caltex': 2, 'hemina': 1, 'eleusis': 1, 'ukcm': 1, 'sacks': 1, 'golfer': 1, 'sacked': 2, 'harmon': 1, 'ways': 4, 'long-time': 3, 'mentor': 2, 'drawing': 1, 'blank': 4, 'tournaments': 3, 'blonde': 1, 'adrift': 1, 'tanaki': 1, 'worst': 10, 'circuit': 4, 'application': 4, 'strange': 1, 'keyed': 1, 'your': 18, 'perform': 3, 'ori': 1, 'taibe': 10, 'fields': 5, 'arabs': 7, 'loyal': 1, 'unfriendly': 1, 'crowds': 6, 'taunt': 1, 'thing': 12, 'promoted': 5, 'betar': 3, 'supporter': 2, 'karem': 2, 'haj': 5, 'yihye': 5, 'coached': 4, 'wojtek': 1, 'lazarek': 1, 'closely': 4, 'chants': 1, 'bottle-throwing': 1, 'marred': 3, 'goalless': 4, 'treatment': 8, 'stone': 2, 'driving': 9, 'hearing': 7, 'taunts': 1, 'sameh': 2, 'resident': 2, 'hebrew': 1, 'words': 1, 'nobody': 2, 'vehemently': 1, 'dusty': 1, 'lacks': 1, 'amenities': 1, 'communities': 2, 'discrimination': 3, 'parks': 1, 'empty': 3, 'load': 5, 'tel': 4, 'aviv': 3, 'ramshackle': 1, '0,000-seat': 1, 'accessible': 1, 'dirt': 2, 'tracks': 4, '00,000-seat': 2, 'situated': 1, 'elsewhere': 7, 'rahman': 2, 'mayor': 7, 'hopefully': 4, 'refurbished': 1, 'meantime': 2, 'policed': 1, 'coastal': 4, 'netanya': 1, 'israelis': 3, 'waiter': 1, 'represents': 1, 'phelan': 2, 'withdrawn': 1, 'liechenstein': 2, 'f.a.i.': 1, 'liverpool': 9, 'replacements': 3, 'damien': 1, 'lynch': 9, '0000000': 6, 'pitted': 2, 'hopefuls': 3, 'runners-up': 1, 'rapid': 10, 'fenerbahce': 1, 'turin': 1, 'trafford': 7, 'consistently': 3, 'crashing': 3, 'barcelona': 20, 'trophy': 5, 'triumph': 3, 'wembley': 1, 'conquering': 1, 'ill-fated': 2, 'heysel': 1, 'robbery': 4, 'suspects': 10, 'lagos': 4, 'sokoto': 1, 'nan': 1, 'umar': 1, 'stealing': 2, 'naira': 1, 'merchant': 2, 'rwandan': 11, 'expulsion': 2, 'imminent': 2, 'nairobi': 7, 'repatriation': 1, 'hutu': 6, 'zaire': 12, 'lobby': 4, 'innocent': 3, 'butare': 1, 'democracy': 21, 'rdr': 1, 'hutus': 3, 'appealed': 2, 'deter': 3, 'termed': 2, 'inhuman': 2, 'orthodox': 3, 'blown': 5, 'zagreb': 5, 'saboteurs': 1, 'serb': 28, 'damaged': 4, 'hina': 3, 'karin': 3, 'gornji': 1, 'zadar': 3, 'destroyed': 4, 'casualties': 8, 'find': 20, 'perpetrators': 4, 'hinterland': 2, 'serbs': 18, 'yugoslav': 14, 'self-styled': 1, 'krajina': 2, 'proclaimed': 1, 'minority': 12, 'recaptured': 1, 'vacant': 1, 'depopulated': 1, 'reserves': 8, 'tighten': 3, 'crime': 13, 'organised': 8, 'pap': 1, 'zbigniew': 1, 'siemiatkowski': 1, 'schmidbauer': 1, 'co-ordinator': 1, 'helmut': 3, 'kohl': 5, 'chancellery': 1, 'sealed': 5, 'links': 5, 'ryszard': 2, 'hincza': 1, 'mafia-style': 1, 'smuggling': 2, 'radioactive': 1, 'materials': 8, 'chechens': 8, 'observing': 1, 'fighters': 6, 'soldiers': 19, 'effective': 10, 'gunfire': 2, 'echoed': 1, 'withdraw': 3, 'rebel-dominated': 1, 'mountains': 5, 'relatively': 6, 'shabazov': 1, 'bearded': 1, 'wearing': 2, 't-shirt': 1, 'camoflage': 1, 'trousers': 1, 'rocked': 1, 'courtyard': 1, 't-00': 1, 'tank': 1, 'roared': 1, 'swept': 4, 'checkpoints': 1, 'roads': 5, 'soldier': 12, 'goncharova': 2, 'dark': 8, 'hair': 3, 'poking': 2, 'peaked': 1, 'camouflage': 2, 'overhead': 1, 'flares': 1, 'patrols': 4, 'sceptical': 1, 'try': 8, 'cis': 3, 'closures': 2, 'independent': 10, 'granic': 2, 'croatia-yugoslavia': 1, 'poised': 4, 'landmark': 2, 'normalisation': 3, 'paving': 1, 'stabilisation': 1, 'balkans': 3, 'mate': 7, 'aboard': 5, 'jet': 12, 'counterparts': 2, 'endorsed': 2, 'normalising': 1, 'tanjug': 2, 'assessed': 3, 'crucial': 4, 'resolving': 2, 'ensuring': 3, 'restoration': 1, 'last-minute': 1, 'print': 3, 'internationally': 1, 'recognised': 2, 'borders': 4, 'diplomats': 16, 'secession': 3, 'powers': 10, 'regard': 2, 'twin': 1, 'pillars': 1, 'multinational': 1, 'lasting': 2, 'quito': 1, 'abdala': 1, 'bucaram': 3, 'lunches': 4, 'presidential': 20, 'different': 14, 'blacks': 9, 'mixed-bloods': 1, 'exclusively': 1, 'potentates': 1, 'ambassadors': 1, 'protocol': 2, 'mixed-race': 1, 'peasant': 1, 'sectors': 5, 'elected': 8, 'populist': 3, 'platform': 5, 'cultures': 2, 'andean': 1, 'nation': 23, 'indigenous': 2, 'hovercrafts': 3, 'amazon': 4, 'brasilia': 9, 'plying': 1, 'waters': 4, 'bid': 26, 'difficulties': 8, 'vast': 4, 'waterway': 1, 'russian-built': 1, 'capable': 2, 'tons': 2, 'ferrying': 3, 'huge': 12, 'river': 11, 'belem': 1, 'riverways': 1, 'high-speed': 2, 'hovercraft': 1, 'hk': 3, 'tsang': 12, 'donald': 3, 'suharto': 1, \"mar'ie\": 1, 'muhammad': 3, 'ali': 8, 'alatas': 1, 'tungky': 1, 'ariwibowo': 1, 'bolger': 2, 'don': 3, 'mckinnon': 1, 'birch': 2, 'expels': 3, 'bread': 8, 'riots': 11, 'rana': 1, 'sabbagh': 1, 'passed': 12, 'peacefully': 2, 'demonstrations': 2, 'adel': 3, 'ibrahim': 6, 'attache': 2, 'duties': 4, 'incompatible': 4, 'norms': 3, 'implying': 1, 'spying': 5, 'notified': 2, 'explusion': 1, 'assistant': 7, 'khalaf': 1, 'expelled': 3, 'king': 26, 'defections': 1, 'retaliated': 1, 'expelling': 1, 'jordanian': 11, 'secure': 6, 'pro-baghdad': 2, 'karak': 4, 'flared': 3, 'hundred': 3, 'lingered': 1, 'omari': 1, 'mosque': 4, 'shouting': 1, 'disperse': 2, 'abstain': 1, 'forming': 1, 'enforced': 1, 'loose': 4, 'curfew': 1, 'loudspeakers': 1, 'allahu': 1, 'akbar': 1, 'islamist': 12, 'kafawin': 1, 'pulpit': 1, 'detainees': 1, 'houses': 15, 'cancelling': 1, 'armoured': 5, 'streets': 11, 'traditional': 3, 'bastion': 1, 'communist': 10, 'ideology': 1, 'baath': 3, 'socialism': 1, 'guarded': 2, 'entrances': 1, 'hill-top': 1, 'famed': 2, 'crusader': 1, 'castle': 2, 'crowded': 3, 'smaller': 7, 'quietly': 1, 'riot': 4, '00-seat': 1, 'involvement': 4, 'policies': 7, 'hardship': 2, 'rioting': 1, 'derision': 1, 'blame': 6, 'protests': 15, 'hardships': 1, 'kurd': 7, 'ankara': 11, 'anatolian': 2, 'state-paid': 1, 'pkk': 12, 'sirnak': 2, 'hakkari': 2, 'autonomy': 8, 'southeastern': 4, 'planted': 3, 'exploded': 4, 'fights': 1, 'diyarbakir': 2, 'u.s.-mediated': 2, 'glyn': 4, 'davies': 9, 'contacts': 5, 'barzani': 2, 'jalal': 3, 'talabani': 4, 'implementation': 4, 'pelletreau': 3, 'solidify': 2, 'cease-fire': 1, 'pursue': 5, 'repelled': 1, 'wounding': 3, 'capturing': 2, 'opposing': 2, 'unite': 4, 'mountainous': 3, 'slumber': 2, 'chesapeake': 2, 'knife-wielding': 1, 'neighbour': 4, 'apparently': 9, 'intent': 6, 'sexual': 6, 'invaded': 2, 'teenage': 1, 'a.m.': 16, 'edt': 4, 'teenaged': 2, 'girls': 20, 'camelot': 1, 'subdivision': 1, 'virginia': 7, 'entered': 16, 'wielding': 1, 'knife': 1, 'sexually': 5, 'detective': 7, 'curtis': 3, 'ii': 11, 'adults': 1, 'sketchy': 1, 'teenagers': 4, 'reportedly': 3, 'downstairs': 2, 'watching': 4, 'allegedly': 9, 'teenager': 4, 'sleeping': 2, 'upstairs': 2, 'commotion': 1, 'confronted': 3, 'stabbed': 7, 'once': 19, 'assailant': 1, 'fatally': 1, 'molested': 1, 'life-threatening': 1, 'identified': 7, 'harper': 1, 'glickman': 3, 'usda': 12, 'monitoring': 6, 'aflatoxin': 3, 'dan': 7, 'corn': 6, 'usda-sponsored': 1, 'perennial': 1, 'problematic': 1, 'vomitoxin': 1, 'purchase': 13, 'wheat': 34, 'republican': 33, 'weld': 7, 'senate': 17, 'franny': 2, 'incumbent': 6, 'sen': 4, 'kerry': 1, 'vote': 37, 'wbur-fm': 1, 'facing': 8, 'cambridge': 5, 'friend': 9, 'tracy': 2, 'roosevelt': 5, 'politics': 7, 'great-granddaughter': 1, 'franklin': 2, 'roosevelts': 1, 'friends': 6, 'susan': 3, 'descendant': 1, 'theodore': 1, 'lufthansa': 3, 'in-house': 1, 'lufthanseat': 1, 'freight-tonne': 2, 'kilometres': 4, 'freight': 6, 'transport': 10, 'dm': 5, 'flight-related': 1, 'wsc-india': 1, 'summary-': 1, 'showers': 7, '0.00-0.00': 11, 'inch': 6, 'mm': 6, 'locally': 3, 'coverage': 3, 'isolated': 6, '00-00f': 3, '00-00c': 3, 'crop': 7, 'impact-': 1, 'forecast-': 1, 'tonight': 3, 'variable': 3, 'clouds': 1, 'cloudy': 1, 'thunderstorms': 3, 'temperatures': 4, 'corporation': 9, 'curb': 2, 'tamil': 16, 'stamp': 1, 'soil': 4, 'directed': 6, 'sympathised': 1, 'predicament': 1, 'prevailing': 2, 'framework': 4, 'perpetrate': 1, 'coordinator': 4, 'counter': 1, 'terrorism': 6, 'wilcox': 1, 'extorted': 1, 'expatriate': 1, 'liberation': 6, 'eelam': 4, 'leaves': 4, 'week-long': 2, 'kathmandu': 7, 'birendra': 3, 'ascending': 1, 'throne': 2, 'constitutional': 4, 'monarch': 3, 'jiang': 3, 'zemin': 2, 'peng': 1, 'prakash': 1, 'lohani': 1, 'himalayan': 3, 'sandwiched': 1, 'traditionally': 3, 'giant': 5, 'neighbours': 8, 'distance': 6, 'queen': 13, 'aishwarya': 1, 'tibetan': 4, 'lhasa': 1, 'chongqing': 1, 'servant': 4, 'nepali': 6, 'bound': 4, 'employer': 4, 'madhusudan': 1, 'munakarmi': 2, 'informed': 4, 'plight': 2, 'dhiraj': 1, 'k.c.': 1, 'locks': 1, 'concealed': 3, 'dheeraj': 1, 'employed': 3, 'limping': 1, 'steal': 2, 'belongings': 1, 'vols': 2, 'regrouping': 1, 'implied': 1, 'volatility': 10, 'stabilise': 3, 'falling': 8, 'german-led': 1, 'euromark': 4, 'trader': 13, 'welter': 1, 'sell-off': 3, 'overdone': 1, 'floors': 2, 'size': 6, 'bundesbank': 1, 'repo': 1, 'longer-dated': 1, 'short-dated': 1, 'vol': 3, 'historically': 1, 'vol.': 1, 'reassess': 1, 'otc': 1, 'specialist': 3, 'coughlan': 3, 'over-the-counter': 1, 'bunds': 2, 'makers': 6, 'high-yielding': 2, 'downside': 1, 'upside': 2, 'potential': 10, 'recommend': 1, 'strangles': 1, 'particular': 3, 'vulnerable': 1, 'fronts': 1, 'enhance': 2, 'yield': 7, 'nisbet': 1, 'bonds': 43, 'sachs': 5, 'warrants': 8, 'continental': 4, 'wertpapier': 1, 'american-style': 2, 'warrant': 1, 'controls': 7, 'dem': 9, 'premium': 14, 'gearing': 2, '00.sep.00-00.nov.00': 1, 'paydate': 2, '00.aug.00': 2, 'ddf': 2, 'fft': 2, 'stg': 5, 'exer': 2, 'challenge': 13, 'diana': 15, 'photographer': 2, 'branded': 3, 'stalker': 2, 'princess': 11, 'approaching': 2, 'stenning': 7, '00-week': 3, 'contest': 5, 'injunction': 4, 'obtained': 3, 'affidavit': 2, 'affadavit': 1, 'benedict': 1, 'birnberg': 2, 'everything': 7, 'ice': 4, 'brick': 1, 'driver': 15, 'motorcycle': 5, 'dispatch': 1, 'rider': 6, 'convictions': 2, 'magistrates': 2, 'compensation': 6, 'freelance': 1, 'divorce': 3, 'heir-to-the-throne': 1, 'prince': 12, 'charles': 8, 'persistently': 1, 'trailing': 3, 'chasing': 1, 'remove': 8, 'camera': 4, 'scapegoat': 1, 'photographers': 2, 'mr.': 3, 'shook': 3, 'dohuk': 2, 'tentative': 2, '...for': 1, 'sake': 3, 'asking': 5, 'riza': 1, 'altun': 1, 'accompany': 2, 'frequent': 4, 'cross-border': 3, 'drives': 2, 'writer': 2, 'nacar': 2, 'wider': 3, 'effort': 10, 'necmettin': 5, 'erbakan': 6, 'encouraged': 1, 'uses': 4, 'solidere': 4, 'privately-operated': 1, 'secondary': 3, 'bsm': 2, 'distributed': 4, 'rebuilding': 2, '000.000': 20, '000-million': 1, 'subscription': 1, 'ciments': 2, 'libanais': 1, 'listed': 5, 'blancs': 1, 'eternit': 1, 'uniceramic': 1, 'blom': 1, 'covers': 2, 'lispi': 1, 'editorial': 9, '000000': 11, 'zenith': 10, 'lands': 5, 'plant': 22, 'nadeau': 1, 'consortium': 4, 'walt': 1, 'disney': 2, 'digital': 5, 'televison': 1, 'set-top': 5, 'boxes': 9, 'entertainment': 3, 'struggled': 2, 'luehrs': 4, 'glenview': 1, 'ill.-based': 1, 'networks': 5, 'anytime': 1, 'somebody': 4, 'gets': 10, 'soared': 2, 'americast': 4, 'develop': 6, 'generation': 4, 'addition': 9, 'partners': 9, 'phone': 1, 'ameritech': 1, 'corp.': 10, 'bellsouth': 1, 'gte': 2, 'sbc': 7, 'communications': 9, 'telecommunications': 4, 'join': 15, 'cable': 1, 'woodridge': 1, 'ill': 4, 'tubes': 2, '00-': 3, '00-inch': 1, 'screen': 2, 'buys': 2, 'competitors': 3, 'jobs': 10, 'roll': 4, 'build-to-order': 1, 'convert': 1, 'chihuahua': 1, 'analogue': 1, 'manufacture': 4, 'profitable': 5, 'subscribers': 3, 'technology': 5, 'retail': 5, 'electronics': 3, 'devices': 3, 'dividends': 1, 'plagued': 2, 'colour': 1, 'reporting': 4, 'full-year': 3, 'korea-based': 1, 'gutenstein': 1, 'kalf': 1, 'voorhis': 1, 'unique': 1, 'happy': 5, 'natural': 4, 'meditate': 1, 'hundreds': 9, 'yogic': 2, 'fliers': 1, 'defy': 1, 'nature': 4, 'levitating': 1, 'comes': 9, 'minor': 4, 'candidate': 12, 'transcendental': 1, 'meditation': 2, 'tm': 4, 'physicist': 1, 'hagelin': 1, 'nov.': 3, 'running': 16, 'claiming': 1, 'ward': 1, 'techniques': 1, 'stress': 2, 'automatically': 3, 'decrease': 2, 'practitioners': 1, 'involves': 6, 'meditating': 1, 'repeated': 3, 'word': 7, 'phrase': 1, 'mantra': 1, 'followers': 2, 'contend': 1, 'mediate': 1, 'demonstration': 3, 'bouncing': 1, 'sitting': 4, 'windows': 18, 'fail': 5, 'wolk': 2, 'massively': 1, 'publicized': 1, 'introduction': 3, 'microsoft': 8, 'computer': 13, 'fallen': 7, 'fastest-selling': 1, 'unprecedented': 3, 'hype': 1, 'aug.': 1, 'launch': 7, 'greet': 1, 'lines': 13, 'customers': 10, 'redmond': 1, 'wash.-based': 1, 'tens': 2, 'dollars': 9, 'promoting': 2, 'stunts': 1, 'lighting': 1, 'building': 21, 'color': 1, 'scheme': 2, 'rob': 2, 'enderle': 2, 'giga': 1, 'hardware': 2, 'spike': 1, 'materialized': 1, 'expecting': 3, 'coat-tails': 1, 'somewhat': 2, 'winkler': 3, 'gartner': 1, 'impact': 14, 'earth-shattering': 1, 'symantec': 1, 'posting': 3, 'projections': 1, 'touchstone': 1, 'lawsuit': 9, 'tied': 7, 'developers': 2, 'suffer': 2, 'shelves': 1, 'jammed': 2, 'blue-and-white': 1, 'resulting': 2, 'shortage': 1, 'space': 6, 'seasonal': 3, 'stephens': 2, 'pc': 1, 'accompanying': 1, 'upgrade': 2, 'cemented': 1, 'dominant': 3, 'executives': 1, 'thrilled': 1, 'sometime': 1, 'surpass': 1, 'older': 2, 'computers': 4, 'handling': 8, 'technical': 6, 'frustrated': 2, 'install': 2, 'corporate': 11, 'adopted': 5, 'go-slow': 1, 'high-end': 1, 'nt': 3, 'downplayed': 1, 'proportion': 3, 'users': 2, 'mistake': 1, 'thinking': 4, 'sweeping': 5, 'slow': 9, 'migration': 4, 'pacts': 1, 'repatriate': 1, 'intercepted': 5, 'migrants': 2, 'illegally': 4, 'jeopardising': 1, 'cubans': 1, 'guantanamo': 3, 'naval': 4, 'enforcement': 2, 'alien': 1, 'hijackings': 3, 'remind': 1, 'everyone': 7, 'abiding': 1, 'avoiding': 1, 'havana': 1, 'centred': 4, 'boatload': 1, 'emigrants': 1, 'capsized': 1, 'sixteen': 1, 'bay': 3, 'emigrated': 1, 'hijacking': 8, 'hijackers': 21, 'hijacked': 15, 'commercial': 13, 'aylum': 1, 'wis': 1, 'apply': 3, 'welfare': 13, 'pioneering': 1, 'image': 3, 'wisconsin': 9, 'submit': 3, 'administrative': 6, 'tommy': 5, 'submitted': 4, 'reform': 17, 'curve': 1, 'dubbed': 3, 'waivers': 2, 'acquire': 5, '00-day': 10, 'residency': 1, 'requirement': 2, 'participation': 4, 'collections': 2, 'directly': 5, 'custodial': 1, 'eligibility': 1, 'karen': 4, 'pierog': 1, 'snoozing': 1, 'vietnamese': 2, 'train': 30, 'alaska': 7, 'anchorage': 1, 'snooze': 1, 'boxcar': 5, 'locked': 4, 'whittier': 3, 'tuan': 1, 'quac': 1, 'phan': 5, 'dehydrated': 1, 'famished': 1, 'terrified': 1, 'barge': 2, 'sgt': 1, 'jewell': 3, 'cooperative': 4, 'uniform': 1, 'accidental': 2, 'searching': 3, 'fishing': 4, 'sleep': 3, 'coupled': 1, 'transporting': 1, 'lumber': 4, 'sound': 7, 'fed': 5, 'soup': 1, 'breakfast': 3, 'agents': 9, 'arkansas': 8, 'fires': 4, 'barnes': 1, 'rock': 5, 'ark': 2, 'sifted': 1, 'rubble': 1, 'predominantly': 3, 'churches': 7, 'burned': 4, 'mississippi': 1, 'delta': 1, 'kms': 6, 'located': 6, 'investigating': 10, 'idea': 8, 'arson': 3, 'conclusively': 1, 'established': 9, 'f.b.i.': 1, 'alcohol': 1, 'firearms': 2, 'scene': 8, 'zion': 2, 'baptist': 3, 'st.': 12, 'matthews': 2, 'frame': 2, 'structures': 1, 'turner': 7, 'surrounded': 5, 'cotton': 8, 'soybean': 4, 'rural': 9, 'surprised': 3, 'fannie': 1, 'matthew': 4, 'connected': 2, 'shared': 6, 'suspicion': 7, 'motive': 3, 'spite': 4, 'rev.': 1, 'jerome': 2, 'pastor': 1, 'spared': 2, 'wave': 4, 'worship': 1, 'camden': 1, 'oak': 4, 'initiated': 4, 'everen': 2, 'simulated': 1, 'models': 2, 'discount': 3, 'averages': 4, 'short-term': 5, 'objective': 3, '0-00/00': 1, 'sungard': 4, 'checkfree': 2, 'mateo': 1, 'calif.': 7, 'shareholder': 5, 'finalized': 1, 'o': 5, 'alpha': 2, 'techs': 1, 'lockhart': 4, 'technologies': 4, 'post-closing': 1, 'adjustments': 1, 'designer': 2, 'sophisticated': 2, 'thermal': 2, 'ptt': 6, 'telecoms': 2, 'koninklijke': 2, 'nederland': 2, 'nv': 3, 'marginally': 3, 'scant': 2, 'adjust': 1, 'breadth': 1, '0.000-0.000': 1, 'largely': 10, 'view': 11, 'overwhelmingly': 3, 'surprising': 1, 'ing': 7, 'steven': 3, 'vrolijk': 1, 'continuing': 8, 'performer': 1, 'sticking': 1, 'guilder': 2, 'weaker': 13, 'bourse': 14, 'keiron': 1, 'henderson': 2, 'boskalis': 3, 'upgrades': 1, 'papendrecht': 1, 'dredging': 1, 'westminster': 1, 'utilisation': 1, 'dredger': 1, 'uncertain': 1, 'prospects': 8, 'first-half': 11, 'dissolves': 1, 'costis': 2, 'stephnopoulos': 1, 'ordering': 5, 'dissolution': 3, '000-seat': 2, 'stephanopoulos': 1, 'poll': 24, 'citing': 5, 'convergence': 2, 'originally': 4, 'libyan': 3, 'amer': 1, 'hishem': 1, 'mohammed': 4, 'pool': 6, 'sliema': 1, 'stab': 1, 'wounds': 7, 'grech': 2, 'fervant': 1, 'investigations': 5, 'bahn': 2, 'h0': 12, 'pre-tax': 3, 'state-owned': 2, 'earmarked': 3, 'eventual': 2, 'privatisatio': 1, 'fat0000': 1, 'long-distance': 1, 'traffic': 19, 'commuter': 1, 'workforce': 3, 'oct': 9, 'compare': 1, 'compares': 2, 'lion': 2, 'paparazzi': 1, 'tabs': 1, 'whales': 5, 'marine': 2, 'biologists': 1, 'lions': 7, 'tag': 4, 'photograph': 3, 'elusive': 2, 'depths': 1, 'scientist': 7, 'harvey': 3, 'jennifer': 3, 'hurley': 1, 'moss': 3, 'laboratories': 2, 'companions': 1, 'species': 1, 'whale': 4, 'diver': 1, 'knows': 4, 'beaver': 2, 'nine-year-old': 1, 'undergone': 3, 'amusement': 2, 'accurately': 1, 'transmitter': 2, 'swim': 1, 'mammals': 1, 'filming': 2, 'video': 3, 'assignment': 1, 'documenting': 1, 'humpback': 1, 'monterey': 1, 'article': 6, 'spell': 4, 'exactly': 4, 'taught': 2, 'stick': 4, 'plastic': 3, 'model': 5, 'using': 11, 'suction': 1, 'cups': 1, 'jeopardises': 1, 'howard': 5, 'jeopardised': 1, 'upper': 3, 'scrutinise': 1, 'hacks': 1, 'hack': 2, 'environment': 5, 'function': 4, 'warned': 11, 'fiscally-tight': 1, 'hampered': 2, 'contained': 4, 'sharp': 7, 'spending': 12, 'partially': 2, 'telstra': 1, 'greens': 7, 'labor': 5, 'toyota': 14, 'melbourne': 17, 'striking': 8, 'voted': 8, 'two-week': 3, 'stoppage': 3, 'niugini': 7, 'surge': 6, 'miner': 2, 'surged': 4, 'confirmation': 3, 'mountain': 11, 'considering': 10, 'acquiring': 3, 'minorities': 1, 'broker': 4, 'copper': 24, 'papua': 1, 'lihir': 1, 'project': 11, 'students': 17, 'throw': 2, 'irreplaceable': 2, 'rocks': 4, 'yonsei': 1, 'samples': 1, 'geology': 2, 'collect': 2, 'prefessors': 1, 'collection': 1, 'gathered': 5, 'panes': 1, 'desks': 1, 'forever': 2, 'professor': 3, 'staged': 7, 'violent': 8, 'nine-day': 1, 'unification': 1, 'campus': 3, 'unwinding': 2, 'unwound': 1, 'belief': 2, 'strengthen': 3, 'overbought': 1, 'insistent': 1, 'intervention': 10, 'convinced': 3, 'supporting': 6, 'orii': 4, 'prft': 1, 'nil': 14, 'automation': 2, 'diluted': 2, 'lynne': 1, \"o'donnell\": 1, 'shanghai': 17, 'bonded': 3, 'warehouses': 4, 'confounding': 1, 'fate': 4, 'belongs': 3, 'yingkou': 3, 'stockpile': 5, 'stored': 3, 'guessing': 1, 'metal': 6, 'channelled': 1, 'nonferrous': 1, 'metals': 6, 'cniec': 7, 'indication': 4, 'administered': 2, 'value-added': 1, 'prohibitively': 1, 'otherwise': 6, 'spend': 9, 'moving': 7, 'mystery': 1, 'unsure': 3, 'exact': 7, 'cost-effective': 1, 'depleted': 1, 'purpose': 2, 'backwardation': 2, 'lme': 6, 'occurs': 2, 'lent': 2, 'behalf': 6, 'tonne': 20, 'somewhere': 3, 'storage': 4, 'secret': 14, 'unnerved': 1, 'jittery': 1, 'bloomsbury': 1, 'economics': 2, 'bme': 2, 'motivation': 1, 'owners': 5, 'fundamental': 3, 'rumours': 2, 'sumitomo': 2, 'helping': 4, 'unload': 3, 'decade': 3, 'arrangement': 3, 'unaware': 1, 'arrivals': 4, 'irrelevant': 1, 'commodities': 8, 'desire': 2, 'companion': 4, 'marble': 4, 'posts': 6, 'h.k.': 4, 'exceptional': 2, 'holdings': 9, 'payable': 2, 'granite': 1, 'distributor': 1, 'spinoff': 2, 'construction': 9, 'softbank': 4, 'procure': 2, 'forex': 1, 'acquisition': 8, 'kingston': 3, 'transactions': 2, 'maker': 6, 'memory': 2, 'boards': 3, 'acquisitions': 1, 'telecomm': 1, 'half-year': 2, 'yuan': 9, 'asset': 2, 'comparative': 3, 'unaudited': 2, 'promodes': 6, 'decide': 10, 'spar': 1, 'les': 4, 'echos': 1, 'rothschild': 1, 'cie': 1, 'intermediary': 1, 'unlisted': 4, 'retailers': 1, 'metro': 6, 'rewe': 1, 'lidl': 1, 'discussions': 7, 'promo': 1, 'hypermarket': 1, 'continent': 2, 'superstores': 2, 'generated': 3, 'outline': 2, 'specia': 1, 'dia': 1, 'aldi': 1, 'highlights': 6, 'lender': 1, 'permanent': 5, 'stalemate': 2, 'claim': 3, 'owed': 2, 'taylor': 7, 'trawler': 1, 'corps': 4, 'cat': 1, 'mouse': 1, 'enterprise': 2, 'employment': 2, 'widened': 2, 'managers': 2, 'ivernia': 1, 'minorco': 1, 'zinc': 5, 'lisheen': 1, 'tipperary': 1, 'crh': 1, 'refused': 3, 'stering': 1, 'tilcon': 1, 'societies': 1, 'antrim': 1, 'protestant': 1, 'driven': 1, 'loyalist': 1, 'paramilitaries': 1, 'yesterday': 7, 'defiance': 2, 'hanging': 4, 'dunnes': 1, 'bankers': 1, 'merrill': 5, 'transferring': 1, 'plastics': 2, 'incineration': 1, 'suitable': 4, 'recycling': 1, 'jv': 2, 'truck': 18, 'post-tax': 1, 'jiangling': 2, 'vehicle': 9, 'engine': 5, 'jiangxi': 1, 'semifinals': 7, 'rallying': 9, 'kankkunen': 8, 'mcrae': 3, 'rolls': 3, 'jyvaskyla': 6, 'juha': 6, 'impressive': 2, 'stages': 13, 'lakes': 13, 'overshadowed': 1, 'kankunnen': 1, 'prospect': 5, 'gronholm': 4, 'tommi': 6, 'makinen': 11, 'mitsubishi': 10, 'fined': 5, 'sports': 5, 'governing': 1, 'rolled': 2, 'subaru': 6, 'co-driver': 1, 'ringer': 1, 'unhurt': 2, 'boss': 6, 'richards': 2, 'furious': 1, 'astonishing': 1, 'pace': 6, '!': 2, 'spaniard': 6, 'sainz': 4, 'turbo': 1, 'bruno': 4, 'thiry': 1, 'transmission': 3, 'shaft': 1, 'grid': 3, 'kph': 14, 'ferrari': 8, 'eddie': 5, 'irvine': 4, 'salo': 3, 'tyrrell': 5, 'diniz': 3, 'jos': 3, 'verstappen': 3, 'arrows': 4, 'ukyo': 2, 'katayama': 2, 'lamy': 2, 'minardi': 3, 'qualify': 3, 'giovanni': 4, 'lavaggi': 1, 'spectator': 1, 'unnamed': 6, 'danish': 4, 'richardt': 2, 'ploughed': 2, 'two-kilometre': 1, 'host': 4, 'skidded': 1, 'cordoned-off': 1, 'suspended': 12, 'resumed': 3, 'practising': 1, 'quarterfinals': 3, 'suspension': 7, 'interrupted': 2, 'schedeled': 1, 'sigeki': 1, 'bradford': 11, 'wigan': 10, 'workington': 4, 'helens': 11, 'warrington': 6, 'sheffield': 18, 'halifax': 4, 'castleford': 4, 'oldham': 9, 'leeds': 17, 'new-ball': 1, 'neil': 4, 'ilott': 3, 'deliveries': 3, 'left-armer': 1, 'slumped': 2, 'derbyshire': 3, 'favour': 8, 'thrust': 2, 'dispatching': 1, 'removed': 8, 'dominic': 2, 'hewson': 1, 'hancock': 1, 'visitors': 5, 'optimistically': 1, 'graham': 14, 'declaring': 4, 'prichard': 3, 'plundered': 1, 'second-placed': 2, 'prevented': 2, 'third-placed': 1, 'uphill': 2, 'notts': 5, 'alistair': 2, '00-ball': 1, 'half-century': 1, 'rain-curtailed': 1, 'fourth-placed': 1, 'ropes': 1, 'intervened': 1, 'gordon': 2, 'parsons': 2, 'rekindled': 1, 'successive': 7, 'defeats': 1, 'arch-rivals': 2, 'follow': 5, 'paceman': 1, 'darren': 8, 'gough': 11, 'polishing': 1, 'b-0': 6, 'abandoned': 12, 'irani': 11, 'alleyne': 2, 'renshaw': 1, 'bovill': 1, 'ambrose': 1, 'ripley': 1, 'b.': 4, 'spiring': 2, 'watkinson': 2, 'speak': 15, 'hibernian': 2, 'dunfermline': 2, 'kilmarnock': 2, 'raith': 6, 'motherwell': 3, 'dundee': 7, 'aberdeen': 9, 'airdrieonians': 2, 'fife': 2, 'clydebank': 2, 'greenock': 2, 'morton': 3, 'falkirk': 1, 'partick': 2, 'mirren': 2, 'johnstone': 3, 'berwick': 2, 'stenhousemuir': 2, 'brechin': 2, 'ayr': 2, 'hamilton': 5, 'clyde': 2, 'dumbarton': 2, 'stranraer': 2, 'livingston': 2, 'alloa': 2, 'arbroath': 2, 'cowdenbeath': 2, 'monstrose': 1, 'forfar': 2, 'inverness': 3, 'ross': 8, 'out-of-sorts': 1, 'newcastle': 11, 'teething': 1, 'pacesetters': 1, 'alan': 14, 'shearer': 1, 'keegan': 1, 'talent-laden': 1, 'dejan': 3, 'stefanovic': 1, 'faustino': 1, 'asprilla': 1, 'equalised': 4, 'pembridge': 1, 'glancing': 1, 'header': 6, 'whittingham': 1, 'misery': 1, 'ferdinand': 2, 'stretchered': 1, 'newly-promoted': 1, 'sunderland': 4, 'tottenham': 5, 'hotspur': 1, 'goaless': 1, 'leboeuf': 1, 'gianluca': 5, 'vialli': 1, 'coventry': 4, 'managerless': 1, 'arsenal': 5, 'scoreline': 2, 'aston': 4, 'villa': 8, 'derby': 3, 'ham': 4, 'southampton': 5, 'bolton': 5, 'norwich': 6, 'bromwich': 6, 'crystal': 7, 'ipswich': 6, 'southend': 6, 'birmingham': 9, 'stoke': 7, 'swindon': 6, 'vale': 9, 'wolverhampton': 6, 'barnsley': 7, 'huddersfield': 7, 'brentford': 4, 'luton': 4, 'bristol': 10, 'blackpool': 5, 'kickoff': 2, 'burnley': 4, 'walsall': 4, 'chesterfield': 5, 'bury': 4, 'peterborough': 4, 'crewe': 4, 'preston': 11, 'rovers': 7, 'rotherham': 4, 'shrewsbury': 4, 'stockport': 4, 'watford': 4, 'millwall': 4, 'wrexham': 4, 'wycombe': 4, 'gillingham': 4, 'bournemouth': 4, 'barnet': 4, 'brighton': 4, 'carlisle': 4, 'hull': 4, 'chester': 4, 'darlington': 4, 'swansea': 5, 'exeter': 4, 'scarborough': 4, 'hartlepool': 4, 'fulham': 4, 'hereford': 4, 'doncaster': 5, 'leyton': 4, 'orient': 4, 'mansfield': 4, 'rochdale': 4, 'scunthorpe': 4, 'torquay': 4, 'unbeatable': 2, 'tries': 9, 'springboks': 3, 'enemies': 2, 'wilson': 11, 'flanker': 1, 'ruben': 3, 'kruger': 3, 'scrum-half': 1, 'joost': 2, 'westhuizen': 2, 'narrowed': 1, 'gap': 4, 'fly-half': 3, 'joel': 3, 'stransky': 1, 'conversion': 6, 'upright': 1, 'scrambled': 1, 'replacement': 6, 'zinzan': 5, 'brooke': 7, 'hannes': 1, 'strydom': 1, 'stranksy': 2, 'simon': 11, 'culhane': 3, 'conversions': 1, 'cukaricki': 2, 'hajduk': 2, 'becej': 2, 'borac': 2, 'mladost': 4, 'zemun': 2, 'rad': 2, 'buducnost': 4, 'partizan': 6, 'vojvodina': 2, 'proleter': 2, 'sutjeska': 2, 'sloboda': 2, 'loznica': 2, 'obilic': 2, 'ofk': 4, 'kikinda': 2, 'radnicki': 2, 'spartak': 6, 'beograd': 2, 'bj': 2, 'zeleznik': 1, 'rudar': 2, 'amica': 4, 'wronki': 4, 'hutnik': 4, 'krakow': 7, 'sokol': 4, 'tychy': 4, 'lech': 4, 'poznan': 4, 'rakow': 3, 'czestochowa': 3, 'stomil': 3, 'olsztyn': 3, 'wisla': 3, 'gornik': 3, 'slask': 4, 'wroclaw': 5, 'odra': 5, 'wodzislaw': 4, 'gks': 8, 'katowice': 4, 'polonia': 5, 'zaglebie': 3, 'lubin': 3, 'lks': 3, 'lodz': 6, 'belchatow': 5, 'basketball': 11, 'philippine': 6, 'pro-league': 2, 'manila': 5, 'semi-final': 2, 'milk': 4, 'purefoods': 1, 'hotdogs': 1, 'half-time': 3, 'ginebra': 2, 'shell': 5, '000-000': 6, 'pro-baseball': 8, 'hyundai': 8, 'haitai': 8, 'hanwha': 10, 'ob': 12, 'lotte': 10, 'ssangbangwool': 10, 'gm': 2, 'belenenses': 1, 'boavista': 1, 'slump': 1, 'heerenveen': 14, 'faltered': 1, 'dismal': 4, 'pre-season': 3, 'deadlock': 1, 'interval': 2, 'romeo': 1, 'wouden': 4, 'veldman': 5, 'curled': 1, 'goalkeeper': 8, 'edwin': 2, 'sar': 3, 'marcio': 1, 'winston': 1, 'bogarde': 1, 'jari': 1, 'litmanen': 1, 'overmars': 1, 'equalise': 1, 'gaps': 1, 'dahl': 2, 'tomasson': 2, 'rushed': 2, 'lobbed': 1, 'contenders': 2, 'curtain-raiser': 1, 'groningen': 12, 'liege': 4, 'anderlecht': 3, 'lokeren': 3, 'cercle': 3, 'mouscron': 3, 'antwerp': 5, 'lommel': 3, 'ghent': 3, 'aalst': 3, 'lierse': 3, 'charleroi': 7, 'sint': 3, 'truiden': 3, 'goalscorers': 3, 'anto': 1, 'drobnjak': 3, 'bastia': 8, 'xavier': 2, 'gravelaine': 3, 'marseille': 17, 'miladin': 2, 'becanovic': 3, 'lille': 8, 'enzo': 2, 'scifo': 3, 'monaco': 12, 'smicer': 10, 'lens': 17, 'christopher': 5, 'wreh': 3, 'guingamp': 9, 'nantes': 11, 'nice': 15, 'debbah': 2, 'boutoille': 1, 'pen': 2, 'rennes': 8, \"guivarc'h\": 1, 'bordeaux': 8, 'auxerre': 12, 'metz': 9, 'traore': 1, 'bombarda': 1, 'strasbourg': 7, 'zitelli': 1, 'havre': 7, 'caen': 6, 'bancarel': 1, 'lyon': 7, 'caveglia': 3, 'montpellier': 10, 'cannes': 6, 'charvet': 1, 'saint-germain': 2, 'graafschap': 9, 'doetinchem': 13, 'rkc': 8, 'waalwijk': 7, 'willem': 8, 'tilburg': 8, 'fortuna': 18, 'sittard': 10, 'rotterdam': 17, 'twente': 7, 'enschede': 7, 'vitesse': 10, 'arnhem': 9, 'utrecht': 8, 'feyenoord': 15, 'roda': 7, 'jc': 7, 'kerkrade': 6, 'volendam': 10, 'az': 8, 'alkmaar': 8, 'bochum': 8, 'arminia': 8, 'bielefeld': 8, 'molata': 1, 'moenchengladbach': 8, 'karlsruhe': 9, 'keller': 2, 'balakow': 1, 'werder': 8, 'votava': 1, 'schwabl': 1, 'zorc': 1, '00th-pen': 1, 'heinrich': 2, 'bayer': 9, 'leverkusen': 11, 'duesseldorf': 8, 'seeliger': 1, 'freiburg': 9, 'zeyer': 1, 'gaissmayer': 1, 'polster': 1, 'vfb': 6, 'vfl': 4, 'bayern': 13, 'msv': 6, 'duisburg': 7, 'fc': 20, 'linz': 9, 'gak': 3, 'admira': 3, 'wacker': 3, 'sturm': 3, 'linzer': 3, 'ask': 11, 'tirol': 3, 'innsbruck': 3, 'sv': 7, 'salzburg': 3, 'wien': 2, 'ried': 3, 'brings': 4, 'one-day': 22, 'waugh': 12, 'tendulkar': 11, 'describes': 1, 'ordeal': 3, 'worker': 2, 'cocked': 2, 'penrose': 4, 'physical': 3, 'manhandling': 1, 'kalashnikovs': 1, 'throat': 1, 'gunmen': 5, 'swerford': 1, 'frederic': 5, 'malardeau': 1, 'assailants': 1, 'ransom': 13, 'regularly': 3, 'bombardment': 1, 'conventional': 1, 'tanks': 5, 'grenade': 1, 'launchers': 1, 'provides': 4, 'civilians': 6, 'depending': 4, 'whom': 12, 'prize-winning': 1, 'spokeswoman': 17, 'albanian-born': 1, 'fulfilled': 3, 'dearest': 2, 'wish': 4, 'carved': 1, 'role': 15, 'herself': 1, 'helper': 1, 'sick': 2, 'needy': 1, 'marriage': 4, 'crumbled': 1, 'heir': 2, 'praying': 3, 'caring': 1, 'respirator': 3, 'nijmeh': 2, 'nasr': 2, 'arabia': 13, 'issa': 1, 'alloush': 1, 'adventurers': 2, 'wilderness': 4, 'pemberton': 2, 'climb': 5, 'raft': 2, 'bike': 2, '000-mile': 2, '000-km': 3, 'endurance': 3, 'eco-challenge': 4, 'adventure': 1, 'perilous': 1, 'physically': 2, 'diverse': 1, 'terrain': 1, 'stroud': 1, 'participant': 1, 'utah': 1, 'maine': 1, 'modelled': 1, 'trek': 1, 'glaciers': 1, 'whitewater': 1, 'horseback': 1, 'ride': 5, 'canoe': 1, 'grueling': 1, 'vancouver': 3, 'treacherous': 1, 'peaks': 2, 'frigid': 1, 'two-thirds': 3, 'participants': 4, 'disqualified': 1, 'hardy': 1, 'first-place': 3, 'finishers': 1, 'racers': 1, 'bones': 3, 'sunstroke': 1, 'dehydration': 1, 'exhaustion': 3, 'ubimini': 1, 'oil-rich': 1, 'damian': 1, 'ejiohuo': 1, 'quell': 3, 'safer': 1, 'drinking': 3, 'outbreaks': 1, 'epidemics': 1, 'piped': 1, 'usually': 2, 'malawi': 4, 'ex-president': 2, 'banda': 3, 'blantyre': 1, 'frail': 1, 'kamuzu': 1, 'vegetarian': 1, 'teetotaller': 1, 'unaided': 1, 'walking': 5, 'clutched': 1, 'whisk': 1, 'symbolised': 1, 'obsession': 1, 'undisputed': 1, 'ruler': 1, 'decades': 3, 'all-party': 1, 'acquitted': 1, 'servants': 11, 'emelia': 1, 'sithole': 1, 'harare': 3, 'zimbabwean': 1, 'defying': 1, 'crippled': 2, 'essential': 2, 'psc': 1, 'mortuary': 1, 'attendants': 1, 'firefighters': 1, 'workplaces': 1, 'summarily': 1, 'dismissed': 12, 'psa': 2, 'unavailable': 1, 'florence': 5, 'chitauro': 1, 'recruiting': 1, 'sub-contracting': 1, 'firms': 8, 'ignored': 1, 'demands': 5, 'wage': 7, 'stretched': 1, 'hospitals': 1, 'tourists': 3, 'mugabe': 1, 'civic': 1, 'private-sector': 1, 'unions': 9, 'denounced': 4, 'earn': 4, 'z$': 1, 'kigali': 3, 'trouble-makers': 1, 'camps': 5, 'firmin': 1, 'gatera': 4, 'tutsi-dominated': 2, 'zairean': 2, 'goma': 1, 'tutsi': 2, 'kengo': 1, 'wa': 4, 'dondo': 1, 'expell': 1, 'timeframe': 1, 'genocide': 5, 'tutsis': 3, 'refuse': 2, 'fear': 11, 'reprisal': 1, 'kivu': 3, 'counterpart': 9, 'gisenyi': 3, 'prefect': 1, 'revered': 2, 'skull': 8, 'limelight-loving': 1, 'disgrace': 1, 'prized': 1, 'sacred': 1, 'tribal': 2, 'ancestor': 1, 'middle-aged': 2, 'forensic': 2, 'examined': 2, 'supposed': 4, 'hintsa': 3, 'xhosa': 2, 'tribe': 1, 'cranium': 1, 'nicholas': 2, 'gcaleka': 3, 'skins': 1, 'regalia': 1, 'journeyed': 1, 'wintry': 1, 'hugely': 1, 'publicised': 1, 'witchdoctor': 1, 'ancestors': 2, 'dream': 4, 'colonial': 2, 'beheaded': 1, 'cottage': 1, 'lonely': 1, 'highland': 1, 'spirit': 1, 'hurricane': 7, 'branding': 1, 'charlatan': 1, 'shape': 1, 'hole': 4, 'bullet': 2, 'reasonable': 4, 'arrests': 6, 'sewing': 2, 'smugglers': 3, 'smuggle': 2, 'machines': 4, 'clothing': 1, 'eritrea': 7, 'government-owned': 1, 'al-ingaz': 1, 'al-watani': 1, 'banat': 1, 'kassala': 2, 'alliance': 14, 'subversive': 1, 'laying': 2, 'landmines': 1, 'accuses': 6, 'eritrean': 2, 'accusing': 6, 'umbrella': 2, 'asmara': 1, 'congress': 22, 'jettisoning': 1, 'stalinist': 1, 'dictatorship': 4, 'balkan': 4, 'approve': 4, 'concepts': 1, 'turn': 11, 'social-democratic': 1, 'electoral': 19, 'class': 8, 'ideological': 1, 'zeri': 1, 'popullit': 1, 'fatos': 1, 'nano': 1, 'sali': 1, 'berisha': 1, 'reformed': 2, 'heirs': 2, 'sham': 1, 'acting': 7, 'servet': 1, 'pellumbi': 1, 'scrap': 4, 'ideas': 3, 'karl': 2, 'marx': 1, 'pro-reform': 1, 'stance': 7, 'triggered': 3, 'gramoz': 1, 'ruci': 1, 'commentators': 2, 'rift': 1, 'unlikely': 4, 'nicaraguan': 13, 'managua': 4, 'nicaragua': 8, 'violeta': 2, 'chamorro': 6, 'check-up': 1, 'column': 7, 'examination': 3, 'suffers': 3, 'osteoporosis': 2, 'weakens': 2, 'longtime': 1, 'wo': 6, 'tool': 2, 'one-week': 2, 'nepalese': 1, 'vigilance': 2, 'intentions': 2, 'restive': 1, 'four-decade': 1, 'widespread': 6, 'activists': 8, 'birenda': 1, 'gyaicain': 2, 'norbu': 1, 'tourism': 2, 'hangs': 1, 'tehran': 8, 'hanged': 4, 'traffickers': 1, 'shiraz': 2, 'resalat': 2, 'kilograms': 1, 'lbs': 2, 'opium': 3, 'pedestrain': 1, 'executions': 1, 'revolutionary': 6, 'pedestrian': 2, 'site': 12, 'executed': 9, 'grammes': 2, 'lb': 8, 'punishable': 1, 'drug-related': 1, 'addicts': 1, 'transit': 3, 'smuggled': 1, 'tunisian': 2, 'hq': 1, 'tunisia': 3, 'rent': 2, 'khalfallah': 3, 'mds': 8, 'bailiff': 1, 'accompagnied': 1, 'enable': 2, 'represented': 3, 'owing': 3, 'sentences': 5, 'moada': 4, 'khemais': 1, 'chammari': 1, 'disclosing': 1, 'secrets': 4, 'judicial': 8, 'proceedings': 2, 'boulahya': 1, 'founding': 3, 'politically': 2, 'mestiri': 1, 'withdrew': 5, 'succeeding': 1, 'liberals': 1, 'ben': 4, 'jaafar': 1, 'nicosia': 2, 'irna': 4, 'affiliated': 1, 'shelled': 2, 'kanie': 1, 'karzhala': 1, 'camp': 7, 'arbil': 1, 'puk-run': 1, 'pounding': 1, 'kurdish-controlled': 1, 'iranian-backed': 1, 'brokered': 3, 'persuaded': 2, 'shattering': 1, 'patrolling': 1, 'skies': 4, 'shield': 1, 'violating': 2, 'majid': 1, 'takht': 1, 'ravanchi': 1, 'allegations': 12, 'boutros': 4, 'boutros-ghali': 3, 'constructing': 1, 'observation': 2, 'installing': 1, 'mortars': 1, 'anti-aircraft': 1, 'cannons': 2, 'tents': 2, 'penetrating': 1, 'rifle': 4, 'grenades': 7, 'eight-year': 1, 'u.n.-sponsored': 1, 'jumhouriya': 1, 'chamber': 4, 'urges': 1, 'offers': 10, 'ships': 1, 'iraq-bound': 1, 'aqaba': 1, 'flare-up': 1, 'booms': 1, 'shadow': 1, 'supermarkets': 2, 'completes': 1, 'qadissiya': 1, 'denounces': 1, 'warplanes': 1, 'lambasts': 1, 'liaising': 1, 'babel': 1, 'blaming': 2, 'dirty': 3, 'laurence': 4, 'mcquillan': 1, 'intends': 5, 'gathering': 8, 'nominate': 1, 'parade': 1, 'designed': 4, 'highlight': 2, 'dim': 1, 'glow': 1, 'just-concluded': 1, 'conclave': 1, 'dole': 46, 'carefully': 3, 'orchestrated': 1, 'bills': 5, 'republican-controlled': 1, 'proudly': 1, 'sixty': 1, 'registry': 3, 'sex': 15, 'criminals': 2, 'wherever': 1, 'creation': 2, 'underway': 2, 'finger': 1, 'janet': 1, 'reno': 1, 'footnotes': 1, 'fbi': 3, 'again': 38, 'heads': 7, 'stretch': 3, 'drive': 10, 'happen': 7, 'chess': 1, 'minimium': 1, 'easier': 3, 'pre-existing': 1, 'overhauling': 1, 'remarkable': 5, 'offering': 5, 'demanding': 17, 'responsibility': 4, 'stronger': 12, 'sense': 3, 'families': 6, 'theme': 2, 'departs': 1, 'kentucky': 2, 'michigan': 2, 'indiana': 3, 'fellow': 9, 'attention': 6, 'focus': 5, 'correspondents': 1, 'programmes': 4, 'showcased': 1, 'lead-in': 1, 'concentrating': 2, 'mccurry': 4, 'delivers': 1, 'acceptance': 3, 'map': 1, 'guides': 1, 'veer': 1, 'edouard': 7, 'swirled': 1, 'forecasters': 1, 'winds': 5, 'mph': 4, 'forecaster': 1, 'lixion': 1, 'avila': 1, 'indicate': 3, 'west-northwest': 1, 'lesser': 2, 'antilles': 1, 'latitude': 1, 'longitude': 1, 'eta': 6, 'basque': 9, 'ignacio': 1, 'olascoaga': 1, 'mugica': 1, '0000--ruehe': 1, 'volker': 1, 'ruehe': 3, 'nato-led': 2, 'ifor': 1, 'bild': 1, 'sonntag': 1, 'mandate': 8, 'expires': 3, 'completely': 2, 'excerpts': 1, 'publication': 3, 'impression': 2, 'deployment': 1, 'perceived': 1, 'massacres': 3, 'comics': 4, 'independence-joke': 1, 'bossi': 5, 'orvieto': 5, 'joke': 1, 'umberto': 1, 'ancient': 6, 'etruscan': 2, 'mock': 1, 'cimicchi': 3, 'actor': 5, 'benigni': 1, 'declare': 4, 'etruria': 2, 'proceed': 2, 'annexation': 1, 'sardinia': 1, 'corsica': 6, 'ironically': 2, 'proclamation': 2, 'padania': 1, 'umbria': 1, 'pop': 1, 'balloon': 2, 'rhetoric': 2, 'talking': 9, 'intensified': 1, 'nationally': 1, 'federalism': 1, 'wasteful': 2, 'centralised': 1, 'bureaucracy': 1, 'northerners': 1, 'farmer': 4, 'mutilated': 2, 'verona': 4, 'homocide': 1, 'mutilating': 1, 'bodies': 13, 'ansa': 3, 'gianfranco': 1, 'stevanin': 6, 'magistrate': 1, 'unable': 13, 'recall': 3, 'remembering': 3, 'lifeless': 1, 'sadmasochistic': 1, 'assaulting': 1, 'prostitute': 4, 'murdering': 4, 'corpses': 1, 'headless': 1, 'decomposed': 1, 'sack': 2, 'canal': 2, 'cesare': 1, 'dal': 2, 'maso': 2, 'beheading': 1, 'dumping': 1, 'adige': 1, 'interrogations': 1, 'investigators': 16, 'suffocated': 1, 'digging': 2, 'passer-by': 2, 'asks': 4, 'paedophile': 5, 'eluded': 1, 'jeremy': 2, 'lovell': 2, 'child-sex': 1, 'scandal': 12, 'kidnapping': 7, 'pornography': 3, 'shockwave': 1, 'revulsion': 1, 'recriminations': 1, 'rapist': 3, 'dutroux': 36, 'managed': 12, 'prey': 1, 'unhindered': 1, 'starvation': 3, 'freed': 13, 'dungeon-like': 1, 'compartment': 2, 'ransart': 1, 'mont-sur-marchienne': 1, 'suburbs': 5, 'abduction': 6, 'imprisonment': 5, 'molest': 1, 'youngsters': 1, 'proof': 1, 'michel': 4, 'bourlet': 8, 'chase': 2, 'porn': 1, 'tapes': 1, 'featured': 1, 'dungeon': 1, 'basement': 3, 'euphoria': 1, 'rescue': 1, 'disgust': 1, 'eight-year-old': 2, 'lejeune': 3, 'melissa': 6, 'russo': 3, 'kidnapped': 15, 'starved': 2, 'marchal': 4, 'eefje': 6, 'lambrecks': 4, 'unknown': 10, 'prostitution': 2, 'bratislava': 9, 'accomplice': 2, 'dutchman': 3, 'disappearance': 2, 'high-level': 1, 'accomplices': 3, 'leaked': 1, 'cataloguing': 1, 'degree': 2, 'bungling': 1, 'incompetence': 2, 'indifference': 3, 'revelations': 1, 'gendarmerie': 2, 'surveillance': 3, 'codenamed': 1, 'othello': 1, 'gendarmes': 1, 'cells': 2, 'theft': 7, 'accepted': 8, 'cries': 1, 'hear': 7, 'justice': 11, 'stefaan': 1, 'clerck': 1, 'inquiry': 6, 'stressing': 1, 'indications': 2, 'cover-up': 1, 'disbelief': 1, 'unemployed': 3, 'visible': 2, 'toll': 3, 'seven-newspaper': 1, 'home-made': 3, 'bou': 1, 'haroun': 1, 'explosive': 4, 'device': 3, 'prematurely': 1, 'el-watan': 1, 'boys': 7, 'five-year-old': 2, 'explosion': 2, 'four-year-old': 1, 'strife': 1, 'government-appointed': 1, 'watchdog': 2, 'observatory': 2, 'seize': 4, 'cannabis': 5, 'chilli': 3, 'sauce': 3, 'container': 5, 'freeport': 2, 'haul': 2, 'flames': 2, 'motorway': 3, 'injuring': 3, 'steinberg': 1, 'spaniards': 3, 'rebels--poll': 1, 'madrid': 17, 'renounced': 1, 'permanently': 1, 'mundo': 3, 'supported': 5, 'state-controlled': 1, 'sociological': 1, 'achieving': 4, 'ortega': 1, 'lara': 1, 'worsened': 3, 'pp': 1, 'margin': 7, 'error': 2, 'minus': 1, 'thirty': 1, 'floods': 1, 'plunge': 1, 'lahore': 4, 'chaos': 4, 'flood-hit': 1, 'pakistani': 12, 'inches': 8, 'drenched': 1, 'punjab': 3, 'rivers': 2, 'knocking': 1, 'disrupting': 1, 'rail': 9, 'witnesses': 14, 'jamaat-i-islami': 1, 'drowned': 2, 'homeless': 1, 'breach': 1, 'inundating': 1, 'residential': 1, 'evacuate': 2, 'low-lying': 2, 'ravi': 1, 'chenab': 1, 'flood': 1, 'internet': 9, 'startup': 7, 'java': 9, 'engineers': 3, 'microsystems': 3, 'javasoft': 5, 'fledgling': 1, 'ground-floor': 1, 'venture': 8, 'bessemer': 3, 'menlo': 1, 'calif': 1, 'founder': 2, 'bidzos': 1, 'rsa': 1, 'dynamics': 2, 'verisign': 2, 'doors': 2, 'initial': 4, 'combines': 3, 'experience': 6, 'apple': 2, 'oracle': 1, 'portends': 1, 'dramatic': 1, 'bui': 1, 'engineer': 2, 'programming': 1, 'manner': 2, 'silicon': 1, 'kleiner': 2, 'perkins': 2, 'caufield': 1, 'byers': 1, 'startups': 1, 'developing': 3, 'licensed': 2, 'prasad': 4, 'wagle': 1, 'aims': 5, 'networked': 1, 'ubiquitious': 1, 'applets': 1, 'downloaded': 1, 'server': 1, 'individual': 11, 'zuleeg': 1, 'marketing': 8, 'web': 1, 'www.internetstartup.com': 1, 'pioneers': 1, 'psi': 1, 'birdied': 2, 'even-par': 1, 'mayfiar': 1, 'accomplish': 1, 'three-stroke': 2, 'exemption': 1, 'pga': 2, 'style': 6, 'easy': 6, 'three-putted': 1, 'feet': 11, 'tee': 1, 'bogeys': 1, 'parred': 1, 'birdie': 3, 'no.0': 5, 'wedge': 1, '0-iron': 1, 'bogeyed': 2, 'putt': 1, 'runner': 1, 'sudden': 2, 'defending': 13, 'contention': 2, 'luke': 2, 'jensen': 3, 'murphy': 1, 'handrik': 1, 'dreekmann': 1, 'jyvasklya': 2, 'lancer': 4, 'celica': 9, 'jarmo': 4, 'kytolehto': 4, 'eriksson': 7, 'impreza': 4, 'motocross': 4, '000cc': 6, 'landskrona': 1, 'smets': 3, 'husaberg': 1, 'husqvarna': 3, 'gert': 1, 'doorn': 3, 'honda': 20, 'jacky': 1, 'martens': 3, 'dirkx': 1, 'ktm': 3, 'danny': 4, 'theybers': 3, 'shayne': 3, 'boonen': 1, 'dietmar': 1, 'lalcher': 1, 'claus': 2, 'manne': 1, 'nielsen': 1, 'lacher': 1, 'darryll': 1, 'holzgerlingen': 1, 'tortelli': 4, 'kawasaki': 9, 'moore': 4, 'yamaha': 12, 'luigi': 1, 'seguy': 3, 'andi': 1, 'kanstinger': 1, 'charlier': 1, 'camerlengo': 3, 'belometti': 2, 'vialle': 3, 'collin': 2, 'dugmore': 2, 'malin': 1, 'michele': 4, 'fanton': 1, 'placings': 7, 'pokka': 2, 'suzuka': 1, 'gt': 1, 'ray': 3, 'belim': 2, 'j.j.lehto': 1, 'fi': 2, 'gtr': 5, 'laps': 5, 'olofsson': 2, 'luciano': 2, 'della': 2, 'noce': 2, 'ennea': 2, 'f00': 2, 'ballace': 1, 'grouillard': 1, 'harrods': 1, 'bscher': 2, 'kox': 1, 'f0': 2, 'fabien': 2, 'giroix': 1, 'jean-denis': 1, 'deletraz': 1, 'muller': 2, 'owen-jones': 2, 'pierre-henri': 1, 'raphanel': 2, 'brabham': 1, 'jean-marc': 1, 'gounon': 3, 'belmondo': 2, 'eichmann': 2, 'gerd': 1, 'ralf': 1, 'kelleners': 1, 'gt0': 3, 'roock': 1, 'ortelli': 1, 'wollek': 1, 'konrad': 2, 'cor': 1, 'euser': 1, 'h.': 3, 'wada': 1, 'furuya': 1, 'lm000': 1, 'sarka': 1, 'kasparkova': 1, 'ashia': 1, 'hansen': 2, 'rodica': 1, 'matescu': 1, 'deon': 1, 'hemmings': 1, 'marken': 1, 'javelin': 4, 'isel': 1, 'mcpaul': 1, 'silke': 2, 'renk': 2, 'gillian': 1, 'charmaine': 1, 'crooks': 1, 'inez': 2, 'margaret': 2, 'vault': 3, 'trond': 1, 'bathel': 1, 'pat': 4, 'manson': 1, 'lobinger': 1, 'pukstys': 2, 'backley': 1, 'nieland': 1, 'marcel': 2, 'phylis': 1, 'regis': 1, 'austin': 1, 'forsyth': 1, 'patrik': 1, 'sjoberg': 1, 'verbjorn': 1, 'rodal': 1, 'benson': 1, 'vincent': 3, 'malakwen': 2, 'whiteman': 1, 'osmond': 2, 'mackie': 1, 'netherland': 1, 'spa-francochamps': 1, 'drivers': 5, 'constructors': 1, 'footwork': 1, 'radstrom': 2, 'motorcycling': 4, 'superbike': 4, 'sugo': 2, 'yuuchi': 1, 'takeda': 9, 'noriyuki': 3, 'haga': 9, '00:00.000': 29, 'wataru': 3, 'yoshikawa': 7, 'corser': 10, 'ducati': 8, 'kocinski': 9, 'aaron': 2, 'norihiko': 1, 'fujiwara': 3, 'fogarty': 5, 'akira': 1, 'ryo': 3, 'shiya': 1, 'takeishi': 3, 'takuma': 3, 'aoki': 8, 'pier': 2, 'francesco': 4, 'crafar': 2, 'gobert': 2, 'hodgson': 2, 'disqualification': 3, 'carburettor': 1, 'keiichi': 1, 'kitigawa': 1, 'suzuki': 2, 'yuuichi': 1, 'outclassed': 1, 'names': 18, 'poise': 1, 'overtake': 2, 'pursued': 1, 'duo': 1, 'chicane': 1, 'spurt': 1, 'flag': 3, 'consolation': 3, 'recording': 1, 'limped': 1, 'challenged': 3, 'strongly': 5, 'elder': 1, 'brother': 4, 'haruchika': 1, 'race-long': 1, 'duel': 1, 'chequered': 1, 'regained': 4, 'unlucky': 2, 'riders': 5, 'alter': 2, 'concludes': 1, 'flourish': 2, 'concluded': 3, 'interruption': 1, 'spare': 2, 'byas': 2, 'reaching': 8, 'sword': 1, 'collecting': 2, 'hinchcliffe': 3, 'glenn': 3, 'hoddle': 4, 'uncapped': 3, 'left-back': 1, 'anderton': 2, 'recurring': 1, 'groin': 2, 'cruyff': 2, 'solskjaer': 1, 'warhurst': 1, 'bohinen': 1, '00-0-000-0': 2, '00-00-000-0': 1, '0-0-0-0': 2, 'tea': 3, 'run-out': 1, 'slim': 2, 'satisfaction': 1, 'omission': 1, 'reasserting': 1, 'dominance': 1, 'fielding': 2, 'disciplinary': 4, 'touring': 1, 'batted': 2, 'solitary': 2, 'attempting': 3, 'lurking': 1, 'prove': 2, 'swooped': 1, 'alec': 4, 'whipped': 1, 'bails': 1, 'waves': 1, 'alarms': 1, 'rattled': 1, 'outscoring': 1, 'forcing': 6, 'ground-staff': 1, 'maynard': 3, 'ronnie': 3, 'adam': 2, 'hollioake': 1, 'headley': 5, 'togo': 6, 'congo': 5, 'lome': 2, 'salou': 3, 'bachirou': 2, 'crvena': 1, 'zvezda': 1, 'zelesnik': 1, 'bogdan': 1, 'prusek': 1, 'slawomir': 1, 'wojciechowski': 1, 'jacek': 2, 'dembinski': 1, 'widzew': 4, 'marcin': 2, 'mieciel': 2, 'wieczorek': 1, 'berensztain': 1, 'marek': 1, 'citko': 1, 'fedoruk': 1, 'dariusz': 2, 'jackiewicz': 1, 'bartlomiej': 1, 'jamroz': 1, 'tomasz': 1, 'moskal': 1, 'krzysztof': 3, 'piskula': 1, 'mariusz': 1, 'srutwa': 1, 'emmanuel': 2, 'tetteh': 1, 'warszawa': 1, 'zagorski': 1, 'bucharest': 21, 'a.s.': 3, 'bacau': 2, 'ceahlaul': 2, 'piatra': 2, 'neamt': 2, 'otelul': 2, 'galati': 2, 'arges': 2, 'dacia': 2, 'pitesti': 2, 'farul': 2, 'constanta': 2, 'chindia': 2, 'tirgoviste': 2, 'sportul': 2, 'studentesc': 2, 'universitatea': 4, 'craiova': 2, 'petrolul': 2, 'ploiesti': 2, 'politehnica': 2, 'timisoara': 2, 'brasov': 2, 'jiul': 4, 'petrosani': 4, 'dinamo': 6, 'cluj': 2, 'steaua': 2, 'alaniya': 2, 'zhemchuzhina': 2, 'sochi': 2, 'baltika': 2, 'kaliningrad': 2, 'zenit': 2, 'petersburg': 3, 'chernomorets': 2, 'novorossiisk': 2, 'rostselmash': 2, 'rostov': 2, 'lokomotiv': 4, 'torpedo': 4, 'rotor': 2, 'volgograd': 2, 'cska': 4, 'kamaz': 2, 'naberezhnye': 2, 'chelny': 2, 'lada': 2, 'togliatti': 2, 'tekstilshik': 1, 'kamyshin': 2, 'krylya': 2, 'sovetov': 2, 'samara': 2, 'nizhny': 2, 'novgorod': 2, 'uralmash': 2, 'yekaterinburg': 2, 'precedence': 2, 'tekstilshchik': 1, 'rules-afl': 1, 'rules': 20, 'adelaide': 4, 'collingwood': 4, 'fitzroy': 4, 'carlton': 4, 'footscray': 4, 'essendon': 4, 'kilda': 4, 'hawthorn': 4, 'brisbane': 10, 'fremantle': 4, 'geelong': 4, 'bulldogs': 4, 'queensland': 10, 'illawarra': 4, 'penrith': 4, 'manly': 4, 'parramatta': 4, 'auckland': 12, 'premiership': 3, 'cronulla': 2, 'marlene': 1, 'thomsen': 1, 'lisbet': 1, 'stuer-lauridsen': 1, 'qiang': 1, 'lu': 1, 'yap': 1, 'cheah': 1, 'kit': 1, 'wan': 1, 'chong': 4, 'tan': 1, 'fook': 1, '0*': 1, '*note': 1, 'sneak': 1, 'rafael': 3, 'palmeiro': 3, 'two-out': 3, 'alomar': 3, 'berth': 1, 'trailed': 2, 'kyle': 1, 'abbott': 2, 'sacrificed': 1, 'mariner': 1, 'bragg': 2, 'contact': 12, 'seitzer': 1, 'hulse': 1, 'extra-inning': 1, 'wickman': 2, 'acquired': 6, 'marty': 3, 'cordova': 1, 'lawton': 1, 'yeah': 1, 'ballpark': 1, 'wally': 2, 'whitehurst': 2, \"o'neill\": 6, 'sixth-inning': 4, 'triple-a': 1, 'columbus': 1, 'defeating': 3, 'cardinals': 8, 'padres': 6, 'rosado': 2, 'tucker': 1, 'six-game': 1, 'cellar-dwellers': 1, 'left-hander': 2, 'braves': 12, 'cubs': 8, 'mcgriff': 3, 'clontz': 1, 'eight-hitter': 1, 'ellis': 1, 'burks': 1, 'rockies': 4, 'pirates': 7, 'vinny': 2, 'castilla': 4, 'dante': 1, 'bichette': 1, 'kurt': 3, 'marlins': 8, 'tired': 2, 'candiotti': 2, 'piazza': 2, 'hollandsworth': 1, 'dodgers': 7, 'season-high': 1, 'joey': 1, 'rickey': 1, 'league-record': 1, 'leadoff': 1, 'phillies': 6, 'segui': 1, 'expos': 5, 'shut': 8, 'giants': 7, 'lasted': 1, 'eight-plus': 1, 'orlando': 2, 'stottlemyre': 1, 'astros': 6, 'virtual': 2, 'nl': 2, 'shane': 5, 'reynolds': 1, 'five-hitter': 2, 'kicked': 2, 'setubal': 3, 'squeeze': 1, 'equaliser': 7, 'jardel': 1, 'string': 3, 'opportunities': 2, 'redeemed': 1, 'netting': 1, 'skilful': 1, 'counter-attack': 1, 'unmarked': 1, 'chiquinho': 1, 'conde': 2, 'keeper': 1, 'andrejez': 1, 'wozniak': 1, 'braga': 3, 'rodrigo': 1, 'carneiro': 1, 'bookable': 1, 'lack': 11, 'first-class': 2, 'apparent': 4, 'valdo': 1, 'knee': 7, 'paulao': 1, 'baltasar': 1, 'tripped': 1, 'referee': 2, 'nose': 1, 'idalecio': 1, 'whistle': 1, 'guimaraes': 1, 'gil': 1, 'vicente': 4, 'fiorentina': 12, 'batistuta': 7, 'perfect': 2, 'birthday': 5, 'supercup': 5, 'serie': 8, 'marked': 4, 'schwarz': 1, 'lob': 1, 'franco': 1, 'baresi': 1, 'montenegrin': 1, 'savicevic': 2, 'weaving': 1, 'checking': 4, 'left-footed': 1, 'toldo': 1, 'desailly': 1, 'fouled': 1, 'boca': 2, 'juniors': 3, 'oscar': 4, 'tabarez': 2, 'rammed': 2, 'curling': 1, 'dipping': 1, 'batigol': 1, 'adoring': 1, 'reward': 3, 'weah': 1, 'baggio': 1, 'davids': 2, 'substitute': 4, 'supercoppa': 1, 'norwegian': 6, 'tromso': 2, 'kongsvinger': 2, 'valerenga': 2, 'skeid': 2, 'stabaek': 2, 'stromsgodset': 2, 'molde': 2, 'bodo': 2, 'glimt': 2, 'viking': 2, 'rosenborg': 2, 'lillestrom': 2, 'duisberg': 2, 'zieger': 1, 'witechek': 1, 'aarau': 2, 'grasshopper': 2, 'lucerne': 2, 'lugano': 2, 'basle': 2, 'neuchatel': 6, 'gallen': 4, 'montgomerie': 5, 'mcnulty': 1, 'nobilo': 1, 'payne': 1, 'cycling': 23, 'ferrigato': 6, 'bartoli': 3, 'museeuw': 4, 'lance': 8, 'armstrong': 10, 'casagrande': 1, 'alessandro': 3, 'baronti': 1, 'vandenbroucke': 1, 'fabio': 1, 'baldato': 2, 'maurizio': 1, 'fondriest': 1, 'jalabert': 1, 'zanini': 1, 'gontchenkov': 1, 'gabriele': 1, 'tchmil': 1, 'sciandri': 2, 'sprints': 1, 'sprinted': 1, 'weekends': 1, 'similarly': 1, 'narrow': 5, '000km': 1, 'pack': 1, 'oerlikon': 1, 'velodrome': 2, 'faded': 4, 'briton': 5, 'torrential': 2, 'heinz-peter': 1, 'thul': 1, 'emerson': 1, 'baker': 8, 'gorre': 3, 'ernest': 1, 'faber': 3, 'ronald': 9, 'waterreus': 1, 'amends': 1, 'corner': 3, 'romano': 2, 'dimissal': 1, 'zeljko': 1, 'petrovic': 2, 'dismissal': 2, 'atteveld': 1, 'erwin': 1, 'looi': 1, 'gaston': 2, 'taument': 3, 'newly': 4, 'pablo': 3, 'genk': 2, 'harelbeke': 2, 'mechelen': 2, 'wanrooy': 1, 'hoogma': 1, 'roelofsen': 1, 'godee': 1, 'arum': 2, 'hamming': 1, 'arnold': 5, 'haldtime': 1, 'blind': 10, 'endt': 3, 'anp': 1, 'selection': 4, 'devote': 1, 'sidhu': 5, 'opener': 4, 'navjot': 1, 'singh': 1, 'quitting': 3, 'right-handed': 1, 'forfeit': 1, 'mohali': 1, 'chandigarh': 1, 'azharuddin': 5, 'sachin': 3, 'four-nation': 2, 'singer': 15, 'sahara': 1, 'relive': 2, 'sean': 3, 'fitzpatrick': 3, 'revisited': 1, 'magic': 1, 'moments': 3, 'momentous': 1, 'nzpa': 1, 'first-ever': 1, 'loftus': 1, 'versfeld': 1, 'magnificent': 1, 'relived': 1, 'moves': 4, 'tackles': 1, 'emotions': 1, 'three-pointer': 1, 'maul': 1, 'halfback': 1, 'marshall': 3, 'openside': 1, 'emptied': 1, 'punching': 1, 'bucks': 1, 'spontaneous': 1, 'bunce': 3, 'exhausted': 2, 'gutted': 1, 'nowhere': 2, 'choice': 7, 'riding': 5, 'amazing': 1, 'two-try': 1, 'winger': 3, 'buggered': 1, 'zealander': 1, 'supporters': 6, 'partying': 1, 'goodwill': 4, 'hart': 1, 'rang': 1, 'congratulations': 1, 'thanked': 3, 'understand': 4, 'tremendous': 3, 'afl': 1, 'league-australian': 1, 'apartheid': 11, 'enforcers': 1, 'subpoenas': 3, 'dig': 1, 'beneath': 1, 'rationales': 1, 'sinister': 1, 'whites': 2, 'archbishop': 4, 'desmond': 2, 'tutu': 4, 'paint': 5, 'f.w.': 2, 'klerk': 3, 'thabo': 1, 'mbeki': 1, 'apologies': 1, 'currin': 3, 'hearings': 1, 'confessional': 1, 'personally': 1, 'crimes': 4, 'testify': 3, 'separate': 3, 'amnesty': 6, 'souls': 1, 'tell': 5, 'confess': 1, 'abuses': 7, 'testimony': 4, 'deeds': 1, 'self-confessed': 1, 'hit-squad': 2, 'dirk': 3, 'coetzee': 2, 'boraine': 2, 'voluntarily': 4, 'hardline': 3, 'p.w.': 2, 'botha': 3, 'advising': 2, 'regarded': 2, 'achieve': 5, 'totality': 1, 'cited': 4, 'confessing': 1, 'interviews': 3, 'tricks': 2, 'prosecutions': 1, 'submissions': 2, 'anc': 1, 'constand': 1, 'viljoen': 1, 'unsatisfied': 1, 'apartheid-era': 3, 'submission': 1, 'caller': 1, 'utterly': 1, 'useless': 1, 'jannie': 1, 'gagiano': 1, 'doubted': 2, 'implemented': 2, 'dismantling': 1, 'burden': 3, 'guilt': 1, 'exculpated': 1, 'therefore': 1, 'doubts': 4, 'reconciling': 1, 'yourself': 2, 'historical': 4, 'adversary': 1, 'lodge': 2, 'witwatersrand': 1, 'demurred': 1, 'irritation': 1, 'jokes': 1, 'anger': 3, 'express': 8, 'moral': 2, 'uneasiness': 1, 'percolating': 1, 'downwards': 2, 'serb-held': 3, 'samir': 1, 'arnaut': 1, 'matuzici': 2, 'farce': 3, 'incomers': 1, 'cementing': 1, 'partition': 4, 'post-war': 4, 'doboj': 12, 'banners': 2, 'moslem-led': 1, 'moslems': 7, 'angered': 3, 'provision': 5, 'western-organised': 1, 'billed': 1, 'reintegrate': 1, 'multi-ethnic': 2, 'shaping': 1, 'facto': 1, 'jure': 1, 'dayton': 7, 'truly': 1, 'edhem': 1, 'efendija': 1, 'camdzic': 1, 'imam-in-exile': 1, 'upon': 2, 'reuf': 1, 'mehemdagic': 1, 'municipality-in-exile': 1, 'eleven': 1, 'thousand': 2, 'reintegration': 2, 'refugee': 7, 'thrown': 5, 'warning': 5, 'ejup': 2, 'ganic': 1, 'fortune': 1, 'loud': 2, 'applause': 1, 'untie': 1, 'knot': 2, 'ensured': 1, 'croat': 3, 'mobs': 1, 'impassable': 1, 'serb-controlled': 3, 'beefed': 1, 'emotional': 3, 'inter-entity': 1, 'boundary': 3, 'dispersed': 1, 'scuffled': 1, 'blaze': 3, 'deliberately': 1, 'casinos': 1, 'communism': 2, 'wide-ranging': 1, 'engaged': 4, 'pullout': 5, 'shatoi': 2, 'anatoly': 1, 'shkirko': 2, 'disarmed': 2, 'cameraman': 1, 'liutauras': 1, 'stremaitis': 1, 'carriers': 1, 'lorries': 3, 'suspending': 1, 'movladi': 1, 'udugov': 1, 'maverick': 1, 'element': 2, 'leftist': 7, 'mexican': 7, 'epr': 6, 'operated': 3, 'assertions': 2, 'commanders': 4, 'jornada': 3, 'overthrowing': 1, 'guerrero': 6, 'irrational': 1, 'radicals': 1, 'erp': 1, 'fatigues': 1, 'brandishing': 1, 'southwestern': 1, '00,000-strong': 1, '00-page': 1, 'manual': 2, 'detailing': 2, 'tactics': 3, 'strategies': 1, 'basic': 6, 'apparatus': 1, 'bourgeoisie': 1, 'granted': 4, 'volatile': 1, 'protesters': 6, 'violently': 1, 'unrelated': 1, 'zapatista': 1, 'chiapas': 1, 'combat': 3, 'skirmishes': 1, 'gunned': 2, 'northwest': 6, 'unidentified': 5, 'dragged': 6, 'ot': 1, 'antioquia': 2, 'killings': 4, 'municipality': 2, 'anza': 2, 'medellin': 2, 'linking': 7, 'farc': 1, 'impunity': 2, 'unconfirmed': 2, 'bloodshed': 1, 'paramilitary': 1, 'tauranaga': 1, 'climbs': 1, 'burma': 3, 'mae': 2, 'sot': 2, 'burmese': 4, 'splinter': 3, 'ambushed': 2, 'patrol': 2, 'buddhist': 1, 'dkba': 4, 'col': 3, 'suvit': 2, 'maenmuan': 1, 'allied': 7, 'rangoon': 2, 'infiltration': 1, 'intrusions': 1, 'reinforcements': 2, 'porous': 1, 'frontier': 2, 'anti-rangoon': 1, 'knu': 2, 'intermittent': 1, 'inhabitants': 1, 'villages': 2, 'contol': 1, 'reject': 3, 'explanation': 3, 'supplies': 9, 'directs': 1, 'f-00': 2, 'catches': 2, 'tyre': 1, 'gurion': 2, 'wheel': 1, 'yehiel': 1, 'amitai': 1, 'pilots': 1, 'brigade': 3, 'jars': 4, 'reveal': 7, 'mummies': 2, 'archaeologists': 1, 'pots': 2, 'egyptians': 1, 'burial': 1, 'rites': 1, 'mummification': 2, 'saleh': 3, 'museum': 3, 'contain': 2, 'intestines': 2, 'tomb': 3, 'dahshour': 2, 'pyramid': 1, 'pharaoh': 1, 'seneferu': 1, 'metropolitan': 2, 'canopic': 1, 'unguent': 1, 'unidentifed': 1, 'dynasty': 1, 'bc': 1, 'finding': 7, 'contains': 1, 'substances': 2, 'conservation': 5, 'cavity': 1, 'analysis': 4, 'liquids': 2, 'executes': 1, 'robbers': 4, 'shabir': 1, 'ahmad': 2, 'jalil': 1, 'mecca': 1, 'beheads': 1, 'rapists': 1, 'murderers': 1, 'tamper': 2, 'stability': 4, 'tolerated': 1, 'marwan': 1, 'muasher': 1, 'disturbances': 1, 'bahrain': 2, 'al': 10, 'rai': 1, 'abdul-karim': 4, 'al-kabariti': 4, 'commited': 1, 'ceiling': 2, 'sultan': 2, 'telephones': 1, 'releases': 3, 'expresses': 2, 'traditions': 1, 'ad': 3, 'dustour': 1, 'kabariti': 7, 'reactivate': 1, 'legislative': 4, 'aswaq': 1, 'weizman': 15, 'consult': 2, 'ezer': 2, 'weighing': 1, 'consulted': 2, 'yedioth': 5, 'ahronoth': 4, 'aryeh': 1, 'shumer': 2, 'fitting': 1, 'proces': 1, 'cool': 5, 'bombers': 2, 'haaretz': 1, 'donated': 1, 'opposes': 4, 'maariv': 1, 'education': 10, 'columns': 1, 'erekat': 1, 'avraham': 1, 'tamir': 1, 'establish': 5, 'puts': 3, 'kahalani': 1, 'warns': 1, 'voting': 20, 'lebanese': 3, 'voters': 17, 'eligible': 1, 'choose': 4, '000-member': 5, 'thin': 7, 'trickle': 3, 'casting': 1, 'ballots': 3, 'polling': 3, 'stations': 5, 'invites': 1, 'caesarea': 1, 'ceremonial': 1, 'architect': 3, 'spoken': 1, 'frequently': 2, 'urging': 1, 'employee': 10, 'skilled': 5, 'nicely': 1, 'contribute': 6, 'consulting': 3, 'towers': 2, 'perrin': 2, 'performs': 1, 'accountant': 4, 'salary': 2, 'sandra': 6, \"o'neal\": 8, 'principal': 2, 'evaluated': 1, 'solely': 1, 'skill': 1, 'abilities': 2, 'skills': 2, 'creative': 1, 'sensitive': 3, 'customer': 7, 'needs': 2, 'productivity': 2, 'mid-to-large': 1, 'corporations': 2, 'surveyed': 4, 'restructuring': 4, 'agenda': 8, 'structure': 3, 'skills-based': 1, 'non-management': 1, 'fad': 1, 'inexorable': 1, 'hierarchical': 1, 'concept': 2, 'defined': 1, 'multi-layers': 1, 'competitive': 5, 'emphasis': 2, 'raise': 2, 'eliminate': 1, 'increases': 2, 'bonuses': 1, 'incentives': 2, 'culture': 3, 'rated': 5, 'high-performing': 1, 'decisions': 7, 'high-performance': 1, 'engaging': 1, 'geert': 1, 'clercq': 1, 'neufchateau': 1, 'inquiries': 2, 'georges': 2, 'zicot': 3, 'insurance': 14, 'fraud': 10, 'forgery': 1, 'searches': 2, 'sites': 4, 'thefts': 2, 'gerard': 3, 'pignon': 1, 'warehouse': 1, 'stolen': 2, 'insurer': 4, 'thierry': 2, 'dehaan': 1, 'ring': 1, 'weinstein': 4, 'shockwaves': 1, 'eight-year-olds': 2, 'detroux': 1, 'abducted': 4, 'disagreement': 2, 'thily': 1, 'bregancon': 1, 'funding': 3, 'pubished': 1, 'texts': 1, 'practically': 1, 'chirac': 1, 'riviera': 2, 'fortress': 1, 'widely': 4, 'muzaffarabad': 4, 'pakistan-ruled': 2, 'azad': 2, 'indian-ruled': 1, 'waged': 1, 'instantly': 2, 'kunar': 1, 'garhi': 2, 'habibullah': 2, 'reopening': 2, 'salang': 6, 'embattled': 2, 'kabul-salang': 1, 'supreme': 11, 'coordination': 2, 'jumbish-i-milli': 1, 'powerful': 4, 'warlord': 1, 'rashid': 4, 'dostum': 4, 'postponement': 5, 'precautions': 2, 'hezb-i-islami': 1, 'gulbuddin': 2, 'hekmatyar': 4, 'rejoined': 2, 'persuade': 4, 'jumbish': 1, 'burn': 1, 'hasina': 7, 'effigy': 2, 'anis': 1, 'battled': 1, 'sheikh': 4, 'bogra': 5, 'barricaded': 1, 'ruling': 13, 'awami': 3, 'battles': 1, 'alight': 3, 'janakantha': 1, 'alleging': 2, 'pro-government': 2, 'batons': 2, 'teargas': 1, 'stones': 1, 'bombs': 2, 'bnp': 4, 'denounce': 2, 'coincided': 1, 'policeman': 4, 'gunshots': 1, 'pro-opposition': 1, 'section': 2, 'grants': 1, 'urged': 3, 'legislators': 2, 'denouncing': 1, 'barbarity': 1, 'rafiqul': 1, 'islam': 2, 'raided': 2, 'arresting': 1, 'outsiders': 1, 'student': 4, 'dormitories': 1, 'seizing': 1, 'stormed': 2, 'halls': 2, 'flushed': 1, 'gunpoint': 2, 'baggage': 1, 'revolvers': 1, 'sawn-off': 1, 'shotguns': 1, 'knives': 1, 'swoop': 1, 'vice-chancellor': 1, 'emajuddin': 1, 'deteriorating': 1, '00,000-student': 1, 'wednedsay': 1, 'gunbattles': 1, 'begum': 2, 'khaleda': 2, 'zia': 2, 'blanket': 1, 'possessors': 1, 'irrespective': 1, 'identities': 2, 'crashes': 1, 'ravine': 1, 'fertile': 2, 'drought': 6, 'irene': 1, 'marushko': 1, 'batkivshchyna': 1, 'collective': 7, 'shiny': 1, 'green-and-yellow': 1, 'deere': 1, 'parked': 1, '0,000-hectare': 2, '0,000-acre': 2, 'grain-growing': 1, 'regions': 7, 'fill': 4, 'agronomist': 1, 'enthusiasm': 2, 'diesel': 5, 'odnosum': 4, 'breakdown': 3, 'machinery': 2, 'loaned': 1, 'ukrainian': 4, 'grain': 15, 'harvest': 5, 'harsh': 1, 'scoured': 1, 'steppes': 1, 'stunting': 1, 'sector': 21, 'transition': 7, 'rich': 4, 'boots': 1, 'reputation': 6, 'breadbasket': 1, 'brutal': 2, 'collectivisation': 2, 'dictator': 5, 'josef': 1, 'stalin': 1, 'quality': 7, 'hryhory': 1, 'borsuk': 3, 'mironivka': 2, 'institute': 6, 'agrarian': 1, 'temperature': 2, 'celsius': 8, 'fahrenheit': 1, 'unlit': 1, 'electricity': 4, 'unpaid': 4, 'dry': 3, 'rainfall': 6, 'harvesting': 1, 'strains': 1, 'resistant': 1, 'extreme': 3, 'climate': 1, 'agricultural': 5, 'farms': 5, 'nascent': 1, 'fertiliser': 3, 'herbicides': 2, 'pesticides': 1, 'repair': 2, 'worse': 2, 'priced': 2, 'cheaply': 1, 'pigs': 1, 'solutions': 1, 'horizon': 1, 'readying': 1, 'sowing': 2, 'hectare': 2, 'acres': 5, 'borrowing': 2, 'two-lane': 1, 'passes': 2, 'occasional': 1, 'horse-drawn': 1, 'buggy': 2, 'shevchenko': 1, 'neat': 1, 'tidy': 2, 'decay': 1, 'sypron': 1, 'strapped': 1, 'bartering': 1, 'rickety': 1, 'tractors': 1, 'badly': 5, 'soprun': 1, 'dedication': 1, 'harvested': 2, 'autumn': 5, 'item': 1, 'grows': 2, 'resources': 4, 'borkus': 1, 'subsidies': 2, 'pre-soviet': 1, 'hectares': 4, 'willing': 4, 'hurry': 2, 'privatising': 1, 'negative': 8, 'swells': 1, 'setbacks': 2, 'melanie': 2, 'cheary': 1, 'swelled': 1, 'attributable': 5, 'streamlined': 1, 'divisional': 2, 'gilbertson': 8, 'happily': 1, 'illusion': 1, 'arising': 2, 'weakness': 4, 'rand': 8, 'relative': 1, 'impala': 2, 'platinum': 3, 'substantial': 5, 'obvious': 1, 'furnace': 2, 'implats': 3, 'ingwe': 3, 'coal': 5, 'rains': 7, 'forfeited': 3, 'flooding': 2, 'mpumulanga': 1, 'gloom': 3, 'blocking': 2, 'merger': 8, 'lonrho': 1, 'plc': 11, 'disappointment': 1, 'challenges': 1, 'soundly': 1, 'structured': 2, 'prudently': 1, 'financed': 2, 'blessed': 1, 'portfolio': 5, 'world-class': 1, 'businesses': 2, 'disposal': 2, 'malbak': 2, 'disposals': 1, 'pruned': 1, 'concentrate': 3, 'core': 2, 'disposing': 1, 'non-core': 1, 'pruning': 1, 'commodity': 4, 'invested': 1, 'referring': 2, 'cheaper': 1, 'snapping': 2, 'liked': 1, 'downturn': 1, 'offshore': 2, 'ivac': 11, 'eli': 2, 'lilly': 2, 'intravenous': 3, 'infusion': 8, 'therapy': 7, 'wholly': 1, 'imed': 5, 'merge': 1, 'pumps': 2, 'fluid': 1, 'patient': 3, 'proprietary': 3, 'disposable': 2, 'combined': 3, 'diego-based': 1, 'provider': 1, 'health-care': 1, 'plants': 7, 'creedmoor': 1, 'n.c.': 1, 'tijuana': 1, 'distributes': 1, 'prodcuts': 1, 'dec.': 1, 'dlj': 1, 'expects': 6, 'unspecified': 3, 'one-time': 2, 'technology-based': 1, 'delivery': 17, 'iv': 1, 'pump': 2, 'regulated': 1, 'volumetric': 1, 'fully': 2, 'excluding': 1, 'mercer': 1, 'ceo': 2, 'mallinckrodt': 1, 'kuhn': 1, 'regulatory': 3, 'approval': 4, 'morris': 18, 'boosted': 6, 'mirroring': 1, 'nasdaq': 9, 'fractionally': 3, 'lagged': 2, 'declines': 3, '000/000': 2, 'treasury': 11, 'thrashed': 1, 'inaugural': 1, 'secured': 7, 'knowsley': 1, 'rain-soaked': 1, 'hunte': 1, 'grabbed': 1, 'hat-trick': 7, 'martyn': 1, 'sullivan': 2, 'newlove': 1, 'goalkicker': 1, 'bobbie': 1, 'goulding': 1, 'seven-year': 3, 'reign': 1, 'toast': 1, 'broncos': 1, 'scrape': 1, 'end-of-season': 2, 'play-offs': 1, 'sights': 1, 'treble': 1, 'sebastian': 1, 'lindholm': 1, 'lasse': 1, 'lampi': 1, 'madeira': 1, 'angelo': 1, 'medeghini': 1, 'finn': 3, '0,000-km': 1, 'doubling': 2, 'decisive': 5, 'gearbox': 2, 'maakinen': 1, 'strengthened': 1, 'retirement': 3, 'nearest': 1, 'sharpe': 6, 'superb': 4, 'hapless': 1, 'anchored': 1, 'repaid': 3, 'slice': 2, 'fee': 2, 'top-draw': 1, 'rush': 2, 'feeding': 1, 'galloped': 1, 'unfavoured': 1, 'arc': 7, 'right-hand': 1, 'under-fire': 1, 'wilkinson': 1, 'booed': 1, 'jeers': 1, 'cheers': 1, 'joins': 2, 'three-wicket': 1, 'becomes': 2, '000-club': 1, 'bowlers': 1, 'imran': 2, 'feat': 1, 'cricketers': 1, 'kapil': 1, 'dev': 1, 'hadlee': 1, 'botham': 8, 'malcolm': 3, 'indies': 3, 'lillee': 1, 'willis': 1, 'gibbs': 5, 'trueman': 1, 'courtney': 1, 'walsh': 1, 'middlesex': 5, 'llong': 1, 'cottey': 2, 'weston': 2, '00-00-00-0': 1, '0.0-0-0-0': 1, 'lord': 2, 'requiring': 4, '00-sept': 1, 'falkir': 1, 'montrose': 1, 'rica': 23, 'ronaldo': 4, 'gonzalez': 2, 'salas': 1, 'seychelles': 5, 'gleeson': 1, 'bowed': 3, 'islanders': 1, 'mauritius': 5, 'qualifiers': 3, 'fifa': 1, 'breakthrough': 1, 'mauritian': 1, 'caboche': 1, 'crude': 10, 'tackle': 1, 'responded': 2, 'setback': 1, 'ashley': 1, 'mocude': 1, '00th-minute': 1, 'seychellois': 1, 'favourites': 2, 'botswana': 3, 'windhoek': 1, 'cameroon': 2, 'gabon': 5, 'german-based': 1, 'tanzania': 2, 'shoot-out': 1, 'overcome': 4, 'legs': 5, 'decider': 1, 'elimination': 2, 'humiliating': 1, 'preliminaries': 1, 'mauritania': 2, 'benin': 4, 'nouakchott': 1, 'postponed': 10, 'collated': 2, 'aggregaete': 1, 'kremin': 2, 'kremenchuk': 1, 'vorskla': 2, 'poltava': 1, 'ternopil': 2, 'zaporizhya': 2, 'shakhtar': 2, 'donetsk': 1, 'kryvbas': 2, 'kryvy': 1, 'rig': 1, 'karpaty': 2, 'lviv': 1, 'prykarpattya': 2, 'ivano-frankivsk': 1, 'zirka-nibas': 2, 'kirovohrad': 1, 'chornomorets': 2, 'odessa': 1, 'metalurg': 2, 'dnipro': 2, 'dnipropetrovsk': 1, 'tavria': 1, 'swimming': 6, 'popov': 8, '`serious': 1, 'stabbing': 1, 'freestyle': 2, 'titles': 5, 'rimma': 1, 'maslova': 3, 'expert': 1, 'olympics': 10, 'abdomen': 1, 'roadside': 1, 'watermelon': 1, 'sellers': 2, 'south-west': 1, 'wound': 1, 'kidney': 3, 'ntv': 1, 'worry': 2, 'cheerfully': 1, 'attackers': 2, 'vitaly': 1, 'smirnov': 3, 'swimmer': 2, 'chosen': 3, 'slovak': 17, 'slovan': 4, 'tatran': 2, 'presov': 2, 'artmedia': 2, 'petrzalka': 2, 'jas': 2, 'bardejov': 2, 'dac': 2, 'dunajska': 2, 'streda': 2, 'trnava': 2, 'dukla': 2, 'banska': 2, 'bystrica': 2, 'nitra': 2, 'msk': 2, 'zilina': 2, 'kosice': 4, 'petrimex': 2, 'prievidza': 2, 'rimavska': 2, 'sobota': 2, 'lokomotiva': 2, 'kerametal': 2, 'dubnica': 2, 'hungarian': 9, 'haladas': 2, 'mtk': 2, 'bekescsaba': 2, 'bvsc': 2, 'csepel': 2, 'videoton(*': 1, 'zte': 2, 'debrecen': 2, 'siofok': 2, 'ujpest': 2, 'vac': 2, 'vasas': 2, 'pecs': 2, 'te': 1, 'ftc': 1, 'videoton': 2, 'gyor': 1, 'iii.ker.tve': 1, '*name': 1, 'parmalat': 1, 'fehervar': 1, 'petra': 7, 'drnovice': 2, 'liberec': 2, 'sk': 6, 'slavia': 2, 'praha': 7, 'ceske': 2, 'budejovice': 2, 'fk': 4, 'jablonec': 2, 'viktoria': 4, 'zizkov': 2, 'banik': 2, 'ostrava': 2, 'teplice': 2, 'boby': 2, 'brno': 2, 'sigma': 2, 'olomouc': 2, 'bohemians': 2, 'karvina': 2, 'hradec': 2, 'kralove': 2, 'kaucuk': 2, 'opava': 2, 'plzen': 3, 'ac': 4, 'atlante': 2, 'atlas': 2, 'azul': 2, 'leon': 5, 'guadalajara': 2, 'monterrey': 2, 'veracruz': 2, 'pachuca': 2, 'toluca': 2, 'puebla': 2, 'unam': 2, 'morelia': 2, 'uag': 2, 'neza': 2, 'necaxa': 1, 'celaya': 1, 'catch': 8, 'homewood': 1, 'sao': 22, 'narciso': 2, 'chartered': 1, 'cbf': 1, 'paulo-santos': 1, 'usual': 5, 'package': 4, 'internacional': 3, 'hectic': 1, 'arrive': 3, 'curitiba': 1, 'botafogo': 3, 'tulio': 2, 'zagalo': 1, 'features': 2, 'top-scorer': 1, 'struggling': 3, 'apertura': 2, 'estudiantes': 1, 'ferro': 1, 'carril': 1, 'oeste': 1, 'independiente': 1, 'gimnasia-jujuy': 1, 'platense': 1, 'huracan': 1, 'lanus': 1, 'huracan-corrientes': 1, 'newell': 2, 'velez': 1, 'sarsfield': 1, 'rosario': 1, 'gimnasia-la': 1, 'plata': 1, 'lorenzo': 2, 'banfield': 1, 'deportivo': 1, 'espanol': 1, 'colon': 3, 'honduras': 2, 'tegucigalpa': 1, 'castro': 1, '0rd': 3, 'enrique': 1, 'centeno': 1, 'pavon': 1, 'cricuma': 1, 'fluminense': 2, 'criciuma': 1, 'moroccan': 5, 'rabat': 2, 'widad': 2, 'fes': 1, 'oujda': 1, 'raja': 1, 'casablanca': 2, 'tetouan': 1, 'jeunesse': 1, 'massira': 1, 'meknes': 1, 'settat': 1, 'marrakesh': 1, 'khouribga': 1, 'mohammedia': 1, 'sidi': 1, 'kacem': 1, 'jadida': 1, 'hassania': 1, 'agadir': 1, 'quench': 1, 'thirst': 1, 'afford': 1, 'reads': 1, 'please': 2, 'shade': 1, 'drink': 2, 'plenty': 2, 'fluids': 2, 'advisory': 1, 'concluding': 2, '...and': 1, 'garishly-coloured': 1, 'sun-drenched': 1, 'litre': 1, 'life-sustaining': 1, 'incredulous': 1, 'noting': 2, 'notorious': 1, 'gouging': 1, 'insult': 1, 'offended': 1, 'baked': 1, 'lasagna': 2, 'yorker': 2, 'rebecca': 1, 'sandwich': 3, 'hungry': 1, 'forked': 1, 'pronounced': 3, 'carol': 2, 'perry': 8, 'chimed': 1, 'ridiculous': 1, 'wine': 2, 'indeed': 4, 'chardonnay': 1, 'zinfandel': 1, 'alcoholics': 1, 'hamburger': 1, 'fries': 1, 'snack': 1, 'thirsty': 1, 'cheese': 1, 'whopping': 1, 'tuscan': 1, 'tuscany': 1, 'maleeva': 9, 'up-and-comers': 1, 'larry': 5, 'youthful': 2, 'finalist': 1, 'magdalena': 5, 'sunny': 1, 'honoured': 1, 'straight-sets': 1, '000th-ranked': 2, 'montolio': 2, 'cheery': 1, 'worries': 4, 'overmatched': 1, 'engagement': 1, 'cement': 11, 'flushing': 2, 'meadows': 2, 'bowing': 2, 'floater': 1, 'momentum': 3, 'rhythm': 2, 'tough': 11, 'errors': 2, 'manhattan': 3, 'mourn': 1, 'non-': 1, 'rookie': 1, 'aleksandra': 4, 'olsza': 9, 'celebrated': 2, 'removing': 3, 'curtain-raising': 1, 'ringing': 2, 'endorsement': 2, 'newest': 1, 'proven': 1, 'mettle': 1, 'quarters': 4, 'conditioning': 1, 'kilos': 2, 'fast-moving': 1, 'scared': 2, 'undaunted': 1, 'pros': 1, 'big-serving': 1, 'brenda': 3, 'schultz-mccarthy': 3, 'nana': 2, 'miyaga': 1, 'helena': 3, 'sukova': 3, 'prevailed': 2, 'barbara': 8, 'paulus': 3, 'yi': 2, 'jing-qian': 2, 'glad': 3, 'fiasco': 2, 'sweating': 1, 'four-set': 1, 'haas': 4, 'embarrassing': 1, 'cried': 1, 'remaking': 1, 'kids': 1, 'enjoy': 2, 'tradition': 3, 'strict': 3, 'accordance': 2, 'favourtism': 1, 'yvegeny': 1, 'spots': 4, 'ranking': 6, 'approximately': 3, 'outrage': 1, 'tarnished': 1, 'damaging': 2, 'ought': 2, 'usta': 1, 'focused': 4, 'energies': 1, 'sun-baked': 1, 'grandstand': 1, 'lingers': 2, 'homegrown': 1, 'controversy': 3, 'engulfed': 1, 'original': 7, 'bumped': 2, 'unfairness': 1, 'exits': 1, 'benefitted': 1, 'fiddling': 1, 'deserves': 2, 'anne-gaelle': 2, 'sidot': 2, 'janette': 1, 'husarova': 1, 'miyagi': 1, 'vitoux': 2, 'delgado': 2, 'paraguay': 1, 'henrietta': 2, 'nagyova': 2, 'gala': 1, 'pizzichini': 1, 'schett': 2, 'sabine': 2, 'appelmans': 1, 'cristina': 3, 'torrens-valero': 2, 'spirlea': 2, 'begerow': 1, 'gaidano': 2, 'schnell': 1, 'heat': 4, 'dier': 2, 'tramacchi': 1, 'anna': 3, 'kournikova': 2, 'richterova': 1, 'debbie': 2, 'stephanie': 6, 'deville': 1, 'rittner': 2, 'kristina': 2, 'brandi': 2, 'ines': 2, 'gorrochategui': 2, 'grzybowska': 1, 'jaime': 2, 'oncins': 10, 'corina': 1, 'morariu': 1, 'linda': 2, 'wild': 4, 'sung-hee': 1, 'pitkowski': 2, 'meghann': 1, 'shaughnessy': 1, '0-': 18, 'dally': 2, 'randriantefy': 2, 'madagascar': 2, 'elena': 5, 'makarova': 1, 'courtois': 4, 'flora': 1, 'perfetti': 1, 'leander': 2, 'paes': 2, 'neville': 1, 'godwin': 1, 'alexandra': 2, 'fusai': 2, 'jill': 1, 'craybas': 1, 'jecmenica': 1, 'dechy': 2, 'christina': 1, 'jane': 4, 'chi': 2, 'callens': 2, 'nicole': 4, 'bradtke': 1, 'baudone': 2, 'jolene': 1, 'watanabe': 1, 'kandarr': 1, 'tyler': 1, 'sweep': 4, 'foster': 3, 'fastball': 1, 'rotate': 1, 'changeup': 1, 'outslugged': 1, 'wilkins': 1, 'ericks': 1, 'renteria': 1, 'fielded': 3, 'cleanly': 1, 'boles': 1, 'osvaldo': 1, 'fenandez': 1, 'seven-hitter': 1, 'trenidad': 1, 'hubbard': 1, 'gagne': 2, 'run-scoring': 3, 'chad': 3, 'pinch-hits': 1, 'pennants': 1, 'jody': 1, 'reed': 1, 'caminiti': 1, 'bagwell': 1, 'donne': 1, 'shoulder': 4, 'all-star': 1, 'appearing': 1, 'battling': 1, 'hamstring': 3, 'second-longest': 2, '0,000nd': 1, 'pinch-hitting': 1, 'mri': 1, 'mild': 3, 'strain': 2, 'lineup': 2, 'exiting': 1, 'last-place': 1, 'outfielder': 3, 'sammy': 2, 'sosa': 6, 'third-longest': 1, 'baseman': 3, 'jonk': 3, 'guus': 2, 'hiddink': 3, 'wim': 3, 'gastel': 4, 'boer': 5, 'bergkamp': 2, 'goey': 1, 'jaap': 1, 'stam': 1, 'reiziger': 1, 'kock': 3, 'witschge': 4, 'aron': 1, 'internazionale': 1, 'seedorf': 1, 'pizzi': 1, 'pena': 1, 'esnaider': 3, 'pantic': 4, 'scoreboard-australia': 1, 'slater': 2, 'strang': 5, 'whittall': 6, 'bevan': 2, 'brandes': 5, 'hogg': 5, 'reiffel': 5, 'flemming': 4, '0w': 6, '0nb': 6, 'flower': 5, 'decker': 1, 'shah': 4, 'wishart': 2, 'evans': 3, 'dekker': 4, 'w-00': 1, 'day-night': 4, 'toss': 7, 'opt': 1, 'stuart': 2, 'damein': 1, 'fleming': 2, 'eddo': 1, 'heath': 2, 'maputo': 3, 'story': 4, 'mozambican': 1, 'noticias': 2, 'nhamavila': 1, 'lamonts': 3, 'apparel': 3, 'files': 2, 'reorganization': 4, 'kirkland': 1, 'wash': 2, 'filed': 14, 'unsecured': 5, 'bondholders': 4, 'creditors': 4, 'non-trade': 3, 'existing': 10, 'capitalization': 2, 'reaches': 3, 'entitling': 1, 'dilution': 3, 'blazing': 1, 'ferry': 6, 'safely': 1, 'guernsey': 2, 'trident': 1, 'emeraud': 1, 'boats': 5, 'jersey': 4, 'cluster': 1, 'british-ruled': 1, 'north-west': 1, 'schork': 1, 'nationwide': 1, 'balloting': 3, 'irregularities': 6, 'assemblies': 4, 'provisional': 5, 'consider': 7, 'agota': 1, 'kuperman': 2, 'select': 2, 'cancell': 1, 'specify': 3, 'organise': 3, 'rule-making': 1, 'electorate': 1, 'pec': 2, 'citizens': 2, 'slated': 3, 'cantonal': 2, 'moslem-croat': 3, 'parliaments': 1, 'representatives': 13, 'three-man': 3, 'dnevi': 2, 'sda': 2, 'municipal-level': 1, 'frowick': 4, 'allege': 2, 'systematically': 2, 'discouraged': 1, 'registering': 4, 'cast': 6, 'ballot': 9, 'majorities': 2, 'underpopulated': 1, 'cleansing': 2, 'consolidating': 1, 'voter': 5, 'herald': 2, 'multi-ethnicity': 1, 'bosia-hercegovina': 1, 'soren': 4, 'jessen-petersen': 1, 'run-up': 2, 'nationalistic': 1, 'sectarian': 1, 'card': 3, 'drumming': 1, 'constituencies': 1, 'memories': 1, 'tougher': 1, 'alastair': 1, 'macdonald': 1, 'abandon': 2, 'sobering': 1, 'appointed': 10, 'heady': 1, 'wrap': 1, 'compromise': 5, 'settlement': 22, 'insistence': 5, 'chain-smoking': 1, 'paratroop': 1, 'deadpan': 1, 'putdowns': 1, 'knack': 1, 'arrange': 3, 'ambitious': 1, 'pledging': 1, 'conclude': 1, 'pro-war': 1, 'schemers': 1, 'empty-handed': 1, 'viktor': 2, 'chernomyrdin': 4, 'undisclosed': 2, 'meanwhile': 3, 'departments': 2, 'limb': 1, 'hardly': 2, 'reelection': 2, 'criticising': 2, 'pains': 1, 'insist': 1, 'suddenly': 1, 'profited': 1, 'inadequacy': 1, 'risked': 1, 'face-saving': 1, 'acceptable': 2, 'letting': 1, 'quit': 6, 'encourage': 1, 'tendencies': 1, 'caucasus': 1, 'yastrzhembsky': 2, 'yastrezhembsky': 2, 'offical': 1, 'recover': 5, 'receives': 2, 'packet': 1, 'yugo': 1, 'zastava': 6, 'factory': 5, 'wages': 6, 'revive': 3, 'stubborn': 2, 'strength': 2, 'persist': 1, 'dragutin': 1, 'stanojlovic': 2, 'revival': 1, 'consumed': 1, 'pre-war': 3, 'montenegro': 1, 'kragujevac': 2, 'bitterness': 1, 'stirring': 1, 'branch': 2, 'exaggerated': 1, 'passers': 1, 'gordana': 1, 'kukic': 1, 'lenders': 1, 'trim': 2, 'insurers': 1, 'five-00': 1, 'settlements': 5, 'shrank': 1, 'meagre': 1, 'calculated': 1, 'midrates': 1, 'kolumbina': 1, 'bencevic': 1, '000-0-0000000': 1, 'svcd': 1, 'controllers': 8, 'bulatka': 1, 'raichev': 5, 'technicians': 1, 'paralyse': 1, 'valkov': 2, 'charter': 1, 'carries': 3, 'resorts': 2, 'minimal': 1, 'servicing': 1, 'lock-out': 1, 'separation': 2, 'liliana': 1, 'semerdjieva': 1, 'naina': 2, 'satisfactory': 3, 'tass': 5, 'clinical': 2, 'treats': 1, 'mrs': 1, 'mironov': 1, 'daughters': 2, 'run-off': 1, 'eye': 5, 'mostostal': 6, 'z': 1, 'million-zloty': 1, 'convertible': 1, 'piotr': 1, 'grabowski': 2, '00-session': 1, 'grabowksi': 1, 'paying': 5, 'benchmark': 2, 'pbr': 1, 'exchanged': 3, 'book-building': 1, 'proceeds': 2, 'modernise': 1, 'kidnaps': 1, 'kidnappers': 7, 'humberto': 2, 'hueite': 2, 'zyrecha': 2, 'jetty': 2, 'kors': 2, 'misael': 2, 'valerio': 2, 'fleeing': 4, 'altamira': 1, 'wisinga': 3, 'aguas': 1, 'zarcas': 1, 'rica-nicaragua': 1, 'santa': 3, 'pocosol': 1, 'supposedly': 2, 'tourist': 6, 'regula': 1, 'susana': 1, 'siegfried': 1, 'nicola': 1, 'fleuchaus': 2, 'bizarre': 3, 'twist': 2, 'julio': 2, 'cesar': 3, 'rojas': 1, 'sentimental': 1, 'attachment': 1, 'photographs': 5, 'rican': 6, 'interacciones': 3, 'ups': 2, 'lowers': 2, 'peso': 10, 'brokerage': 4, 'projection': 2, 'economist': 5, 'alonso': 1, 'cervera': 1, 'revisions': 2, 'chiefly': 1, 'fueled': 2, 'year-end': 3, 'loosened': 1, 'boosting': 1, 'commitments': 3, 'schemes': 1, 'debtors': 1, 'bancomext': 2, 'appreciation': 2, 'drop-off': 1, 'moreno': 2, 'turrent': 1, 'promotion': 1, 'importers': 3, 'dlrs': 2, 'dollar-buying': 1, 'wire': 1, 'transfers': 1, 'accumulated': 2, 'contributing': 2, 'greenbacks': 1, 'shy': 2, 'typical': 3, 'month-end': 4, 'position-squaring': 1, 'helps': 3, 'limit': 6, 'intra-day': 1, 'guillermo': 1, 'londono': 1, 'hashimoto': 11, 'ryutaro': 4, 'latin': 3, 'underwent': 4, 'correct': 2, 'compression': 1, 'johns': 1, 'hopkins': 1, 'inflamation': 1, 'drown': 1, 'venezuelan': 3, 'boating': 1, 'maracaibo': 2, 'sank': 3, 'lake': 1, 'zarraga': 1, 'nighttime': 1, 'spin': 1, 'sinking': 1, 'stern': 1, 'lifejackets': 1, 'banco': 3, 'inject': 2, 'pesos': 4, 'auctions': 6, 'collides': 1, 'fifteen': 1, 'suburban': 1, 'street-level': 1, 'ambulance': 2, 'pylons': 1, 'a.m': 1, 'derailed': 4, 'rear': 1, 'overturned': 2, 'spilling': 1, 'careered': 1, 'bell': 3, 'remarkably': 1, 'nasty': 1, 'gunman': 8, 'hunted': 1, 'shore': 4, 'sergeant': 1, 'pearson': 1, 'fagan': 2, 'telephoned': 1, 'distraught': 1, 'cooperating': 3, 'northcote': 2, 'sheds': 2, 'onlookers': 2, 'disarm': 1, 'fugitive': 2, 'gun': 12, 'unsuccessful': 3, 'disturbed': 1, 'simex': 5, 'brent': 4, 'ipe': 3, 'u.k.': 2, 'petroleum': 6, 'contracts': 8, 'mutually': 1, 'slides': 1, 's$': 3, 'topped': 1, 'soaring': 1, 'takeover': 2, 'operators': 2, 'ample': 3, 'liquidity': 7, 'respectively': 4, 'deposed': 6, 'pdi': 2, 'sued': 2, 'ousting': 1, 'adjourned': 1, 'out-of-court': 1, 'lawyers': 3, 'discussing': 4, 'diminish': 1, 'arlen': 1, 'specter': 5, 'resign': 8, 'riyadh': 4, 'oman': 1, 'dhahran': 2, 'airmen': 1, 'abdullah': 1, 'jeddah': 1, 'shake-up': 1, 'pentagon': 1, 'pennsylvania': 4, 'freeh': 1, 'entirely': 2, 'airways': 8, 'refuelling': 1, 'airbus': 7, 'refuelled': 4, 'surrender': 6, 'asylum': 7, 'dozens': 6, 'u.s.-brokered': 3, 'cooperate': 4, 'offensive': 1, 'dividing': 1, 'warring': 2, 'salahuddin': 2, 'rawandouz': 1, 'indiscriminately': 1, 'dayana': 1, 'priest': 2, 'protected': 2, 'moussa': 2, 'consequences': 2, 'ransacks': 1, 'bedouin': 3, 'al-muntar': 1, 'ransacked': 1, 'encampment': 1, 'expel': 1, 'expansion': 6, 'necklace': 1, 'daughter-in-law': 1, 'rummaging': 1, 'luggage': 2, 'destroying': 1, 'shacks': 2, 'barns': 1, 'jeeps': 1, 'shack': 1, 'amina': 1, 'miracle': 2, 'bedouins': 1, 'encamped': 1, 'zone': 1, 'lerner': 1, 'pursuing': 3, 'desolate': 1, 'premiums': 4, 'comex': 4, 'works': 4, 'aluminum': 6, 'grade': 9, 'a0e': 1, 'a0': 3, 'nominal': 1, 'shg': 1, 'tin': 3, '0.0-0.0': 1, 'ppm': 1, '0.0-00.0': 2, 'nickel': 1, 'melting': 1, 'cathode': 1, '0.00-0.0': 1, 'alloy': 3, 'a000': 3, 'midwest': 8, 'turnings': 1, 'low-copper': 1, 'clips': 1, 'no0': 3, 'refined': 8, 'bare': 1, 'burnt': 2, 'batteries': 1, 'producer': 7, 'transaction': 1, 'alcan': 1, 'p0000': 1, 'ingot': 2, 'extrusion': 2, 'billet': 2, 'noranda': 1, 'date:august': 1, 'rsr': 1, 'pure': 3, 'doe': 1, 'asarco': 1, 'fort': 3, 'lauderdale': 2, 'fla.': 3, 'backyard': 1, 'nervous': 3, 'teasing': 1, 'parkway': 1, 'younger': 2, 'bedtime': 1, 'tree': 5, 'paramedics': 1, 'broward': 1, 'sheriff': 1, 'stool': 1, 'flashlight': 1, 'cbot': 4, 'bounce': 5, 'oversold': 2, 'remains': 4, 'cwt': 4, 'talbott': 4, 'strobe': 1, 'second-ranking': 1, 'georgy': 1, 'mamedov': 1, 'pattern': 3, 'calendar': 3, 'fairly': 5, 'haiti': 1, 'hog': 7, 'sparked': 6, 'packers': 3, 'iowa': 3, 'illinois': 3, 'matching': 1, 'hogs': 4, 'marketings': 1, 'ship': 4, 'prepares': 2, 'janis': 1, '000-000-0000--': 3, 'gore': 15, 'presents': 1, 'posner': 1, 'mild-mannered': 2, 'meek': 1, 'front-line': 1, 'newt': 2, 'gingrich': 7, 'renominate': 1, 'anxiously': 1, 'thrusting': 2, 'grip': 3, 'scream': 1, 'wishful': 1, 're-election': 5, '00-hour': 1, 'marshal': 1, 'pro-israel': 1, 'stiff': 4, 'transformed': 1, 'energetic': 2, 'gesturing': 1, 'pol': 6, 'ripped': 1, 'favorite': 1, 'foil': 3, 'roaring': 1, 'personifaction': 1, 'evil': 1, 'mentioning': 1, 'housing': 5, 'kemp': 3, 'ignorance': 1, 'audacity': 1, 'two-headed': 1, 'monster': 1, 'whoops': 1, 'downtown': 1, 'taste': 1, 'nominations': 3, 'painted': 6, 'horrors': 2, 'republicans': 6, 'liberties': 1, 'withering': 2, 'vine': 1, 'polluters': 1, 'productive': 3, 'vision': 1, 'builds': 3, 're-elect': 1, 'deja-voodoo': 1, 'warmed-over': 1, 'ditch': 1, 'ridiculed': 1, 'defense': 2, 'praised': 5, 'courage': 1, 'regulations': 1, 'dairy': 1, 'comparison': 2, 'tolerate': 1, 'aloft': 1, 'inflated': 1, 'vetoing': 1, 'repeal': 1, 'criticized': 2, 'slashing': 1, 'starker': 1, 'reeve': 7, 'mix': 1, 'adversity': 1, 'latter': 2, 'advocate': 1, 'politicians': 9, 'rep': 3, 'gephardt': 5, 'daschle': 4, 'thumbnail': 1, 'profiles': 1, 'speakers': 1, 'reagan': 9, 'passage': 3, 'handgun': 6, 'campaigned': 2, 'nonstop': 1, 'requires': 2, 'mandatory': 1, 'five-day': 1, 'handguns': 1, 'mandates': 1, 'background': 3, 'checks': 2, 'would-be': 2, 'purchasers': 2, 'hinckley': 2, 'brain': 3, 'congressmen': 2, 'comic': 1, 'hero': 2, 'superman': 3, 'movies': 2, 'heroics': 1, 'accomplished': 3, 'horses': 1, 'shattered': 3, 'neck': 2, 'vertebrae': 2, 'equestrian': 1, 'culpepper': 1, 'paralyzed': 1, 'extensive': 1, 'fuse': 1, 'spine': 1, 'semi-upright': 1, 'classically': 1, 'prototypical': 1, 'handsome': 1, 'performed': 2, 'soap': 1, 'operas': 1, 'plucked': 1, 'sequels': 1, 'mr': 4, 'ambitions': 3, 'milkman': 1, 'consummate': 1, 'congressional': 3, 'insider': 3, 'sufficiently': 2, 'legislature': 6, 'often-unruly': 1, 'republican-led': 1, 'republican-written': 1, 'advocated': 2, 'deficits': 2, 'abortion': 9, 'red-haired': 1, 'square-jawed': 1, 'fiery': 2, 'orator': 1, 'nomination': 9, 'recreated': 1, 'firebreathing': 1, 'reformer': 2, 'dakota': 3, 'surprisingly': 1, 'presented': 1, 'moderate': 2, 'steamrollered': 1, 'vastly': 1, 'dispelled': 1, 'outmaneuvering': 1, 'scrapping': 1, 'gas': 16, 'prairie': 5, 'legislation': 2, 'protecting': 1, 'compensating': 1, 'sickened': 1, 'agent': 3, 'orange': 1, 'defoliant': 1, 'spraying': 1, 'vietnam': 1, 'healthcare': 2, 'water-carrier': 1, 'republican-initiated': 1, 'adult': 2, 'adoptive': 2, 'dallas': 2, 'mccullough': 2, 'gunshot': 1, 'oklahoma': 7, 'shotgun': 3, 'arguments': 1, 'recomposed': 3, 'karachi': 11, 'kse': 2, 'kse-000': 1, 'capitalisation': 2, '0000-0000000': 2, 'nwe': 2, 'dulls': 1, 'becalmed': 1, 'repsol': 4, 'puertollano': 1, 'refinery': 2, 'functioning': 2, 'manuel': 2, 'prieto': 1, 'gasoline': 5, 'notionally': 2, 'sagging': 1, 'nymex': 2, 'arbitrage': 1, 'eurograde': 1, 'barges': 4, 'fob': 10, 'ara': 5, 'amsterdam-rotterdam': 1, 'sentiment': 7, 'outright': 1, 'heating': 1, 'bearish': 1, 'listless': 1, 'bids': 8, 'scarce': 2, 'shaxson': 1, 'prairies': 4, 'frost': 7, 'winnipeg': 2, 'anywhere': 2, 'grainbelt': 1, 'alberta': 3, 'meteorologist': 1, 'gerald': 1, 'machnee': 2, 'sprague': 1, 'manitoba': 1, 'windspeed': 1, 'sky': 3, 'moisture': 7, 'freezing': 1, 'battleford': 1, 'sask': 1, 'grande': 3, 'alta': 1, 'proponents': 1, 'moon': 1, 'gras': 2, 'brush': 7, 'beryllium': 4, 'lawsuits': 3, 'pro-active': 1, 'workplace': 1, 'ailment': 1, 'affects': 3, 'immune': 2, 'susceptible': 1, 'remaining': 3, 'suits': 5, 'liability': 1, 'typically': 2, 'covered': 4, 'timothy': 1, 'reid': 1, 'filings': 1, 'vigorously': 1, 'salomon': 5, 'refiner': 1, 'ting': 1, 'refiners': 1, 'refining': 3, 'margins': 8, 'third-quarter': 1, 'diamond': 2, 'shamrock': 1, 'versus': 7, 'tosco': 1, 'valero': 1, 'energy': 5, 'presale': 1, 'marion': 3, 'nyc': 1, 'cusip': 1, 'wv': 1, 'stat:exempt-ult': 1, 'sp': 1, 'na': 3, 'y': 4, 'enhancements': 1, 'qual': 1, 'dtd': 1, '0/0/00-00': 1, 'sr': 1, 'mgr': 2, 'cpn': 1, 'non-callable': 1, 'nic': 2, '0/00/00': 1, 'approx': 1, 'wesbanco': 1, 'fairmont': 2, 'l.o.': 1, 'steptoe': 1, 'clarksburg': 1, 'ferris': 2, 'watts': 3, 'charleston': 3, 'mbia': 1, '0/0/00': 2, '@': 1, '0.00000': 1, '0yrs': 1, '0mos': 1, 'avg': 1, 'bbi-0.00': 1, 'pre-sale': 1, 'contributed': 3, 'j.j.': 1, 'k-sheets': 1, 'refunding': 3, 're': 3, '00,000,000': 26, 'facilities': 6, 'repricing': 1, '0,000,000.00': 2, 'ocasek': 1, 'aa-': 4, 'fitch': 2, '00/00/0000': 3, '0000c': 1, '000m': 14, 'vern': 1, 'riffe': 1, '0000d': 1, 'a.g.': 2, 'banc': 1, 's.b.k-': 1, 'seasongood': 1, 'mayer': 1, 'chillicothe': 1, 'shielded': 1, 'whistlestop': 1, 'rode': 1, 'rails': 1, 'ropelines': 1, 'shaking': 2, 'excited': 3, 'hillary': 3, 'rodham': 3, 'huntington': 1, 'rigorous': 1, 'sidwell': 1, 'renominated': 1, 'lady': 5, 'interested': 3, 'drifted': 2, 'depressed': 2, 'aex': 2, 'topping': 1, 'ihc': 2, 'caland': 1, 'ex-dividend': 1, 'nutricia': 1, 'shrugged': 1, 'ex-div': 1, 'soar': 1, 'stork': 3, 'follow-through': 3, 'fokker': 1, 'short-lived': 1, 'tapie': 8, 'claude': 1, 'lelouche': 3, 'stars': 1, 'philippe': 1, 'seguin': 2, 'resigning': 1, 'eject': 1, 'bankrupt': 1, 'thus': 2, 'ineligible': 3, 'blizzard': 1, 'now-destroyed': 1, 'starring': 1, 'homme': 1, 'femmes': 1, 'mode': 1, \"d'emploi\": 1, 'instructions': 5, 'power-hungry': 1, 'cruel': 1, 'comedy': 1, 'dearly': 1, 'mixing': 1, 'careers': 1, 'artist': 1, 'toubon': 1, 'ejecting': 1, 'stripping': 1, 'procedure': 5, 'reconvene': 2, 'suspend': 1, 'judgement': 1, 'immunity': 1, 'courts': 2, 'rigging': 1, 'appealing': 1, 'drains': 1, 'ffr': 1, 'drained': 1, 'francs': 19, 'repurchase': 1, 'allocate': 1, 'bidders': 2, 'collateral': 2, 'satisfying': 2, 'allotted': 1, 'rabobank': 11, 'rabn.cn': 1, 'co-operative': 1, 'ba': 1, 'herman': 2, 'wijffels': 3, 'depend': 2, 'easing': 3, 'underwriting': 1, 'single-digits': 1, 'quantify': 1, 'garry': 2, 'ipsos': 1, 'sympathises': 1, 'permits': 3, 'cold-hearted': 1, 'sncf': 1, 'renegotiation': 1, 'bailout': 1, 'upturn': 1, 'atria': 4, 'foodstuffs': 1, 'oy': 2, 'year-half': 1, 'january-june': 4, 'appropriations': 1, 'bright-belgians': 1, 'speeding': 2, 'epidemic': 10, 'belga': 2, 'checked': 4, 'amd': 1, 'booked': 1, 'm.p.h.': 1, 'no-confidence': 4, 'debate': 13, 'banharn': 13, 'silpa-archa': 2, 'lacking': 1, 'ethical': 1, 'alleges': 1, 'corrupt': 1, 'accusations': 1, 'convenient': 1, 'accusation': 1, '00-month-old': 4, 'six-party': 2, 'seats': 3, 'infighting': 2, 'chart': 2, 'fix': 5, 'fontaine': 2, '0mth': 2, 'fashion': 1, 'wigs': 1, 'coconut': 3, 'associations': 1, 'philippines': 2, 'cif': 1, 'prev': 1, 'julaug': 1, 'unq': 13, 'augsep': 1, 'sepoct': 1, 'octnov': 1, 'novdec': 1, 'aronkasei': 2, 'nomura': 3, 'downgraded': 2, 'three-grade': 1, 'assigns': 1, 'direction': 4, '000-share': 1, 'presse': 1, 'langage': 1, 'temps': 1, 'beja': 1, 'ekeus': 5, 'unscom': 1, 'oficials': 1, 'tareq': 1, 'aziz': 1, 'inspectors': 3, 'shuttled': 1, 'detection': 1, 'disarming': 1, 'destruction': 2, 'prerequisite': 2, 'crippling': 1, 'invading': 3, 'ticket': 3, 'altogether': 1, 'weaken': 1, 'harb': 1, 'omar': 3, 'karame': 1, 'backwards': 1, 'redistribution': 1, 'locations': 2, 'occupied': 2, 'alimentary': 1, 'splitting': 1, 'syrian-lebanese': 1, 'maltese': 1, 'cheating': 1, 'complain': 1, 'over-charging': 1, 'in-nazzjon': 1, 'discipline': 1, 'congested': 1, 'l-orizzont': 1, 'alfred': 2, 'sant': 1, 'vat': 1, 'tamils': 5, 'demonstrate': 1, 'demonstrated': 2, 'nadarajah': 1, 'muralidaran': 1, 'swiss-based': 1, 'tiger': 3, 'extortion': 3, 'ltte': 5, 'eurobourses': 1, 'recovers': 1, 'santorelli': 1, 'bourses': 3, 'clawing': 1, 'unsteady': 1, 'uncertainty': 3, 'tankan': 9, 'three-day': 1, 'bargain-hunters': 1, 'ftse': 3, 'patchy': 2, 'culminating': 1, 'fuelled': 1, 'unsettled': 2, 'stronger-than-expected': 1, 'pulling': 1, 'treasuries': 2, 'relinquished': 2, 'doldrum': 1, 'ackerman': 1, 'strategist': 4, 'fahnestock': 1, 'consequently': 1, 'swings': 2, 'floor': 5, 'computerised': 1, 'ibis': 1, 'chemical': 4, 'fundamentals': 2, 'fantasy': 1, 'unease': 2, 'franc': 6, 'squeezed': 1, 'jitters': 3, 'malaise': 1, 'regain': 1, 'evaporate': 1, 'pressured': 1, 'currencies': 3, 'emu': 1, 'times-stock': 2, 'dax': 3, 'precious': 2, 'stansted': 18, 'iraqis': 8, 'diverted': 5, 'british-based': 4, 'sadiki': 3, 'trace': 1, 'contacted': 3, 'north-east': 1, 'explosives': 7, 'batches': 2, 'jordanians': 1, 'saudis': 2, 'eco': 1, 'builders': 2, 'edna': 1, 'fernandes': 1, 'ecological': 2, 'warfare': 2, 'corporates': 1, 'hurts': 2, 'eco-terrorism': 3, 'tarmac': 2, 'costain': 3, 'conglomerate': 3, 'targeted': 3, 'activist': 5, 'harmless': 1, 'ragbag': 1, 'hippies': 1, 'harding': 3, 'aggregates': 1, 'mobile': 2, 'phones': 1, 'communicate': 1, 'gather': 1, 'demos': 1, 'protestor': 1, 'codename': 1, 'full-scale': 1, 'emphasise': 1, 'terror': 3, 'newbury': 4, 'bypass': 4, 'intimidation': 1, 'picketing': 1, 'underground': 2, 'cryptic': 1, 'elves': 1, 'leaflets': 1, 'larger': 5, 'earth': 3, 'ours': 3, 'm0': 9, 'twyford': 2, 'campaigning': 1, 'broader': 2, 'stopping': 4, 'out-of-town': 1, 'pollution': 1, 'road-building': 1, 'primarily': 2, 'tendering': 1, 'realise': 1, 'environmental': 3, 'forms': 4, 'tangible': 1, 'intangible': 1, 'publicity': 1, 'protesting': 1, 'tales': 2, 'tenders': 1, 'contractors': 1, 'suppliers': 2, 'quarries': 1, 'supplier': 1, 'protestors': 1, 'invade': 1, 'knock-on': 1, 'investement': 1, 'ubs': 1, 'phenomenon': 1, 'evaluates': 1, 'methods': 3, 'involve': 3, 'wide': 3, 'razor-thin': 1, 'overcapacity': 1, 'stagnant': 1, 'tale': 1, 'woe': 1, 'carnival': 3, 'spirits': 3, 'notting': 1, 'revellers': 2, 'singing': 1, 'dancing': 1, 'stabbings': 1, 'ugly': 1, 'scenes': 2, 'scar': 1, 'festival': 7, 'festivities': 1, 'good-natured': 1, 'darker': 1, 'slowly': 4, 'recovering': 3, 'shopkeepers': 2, 'annex': 3, 'fake': 4, 'sudradjat': 1, 'djiwandono': 1, 'divided': 2, 'cart': 2, 'olazabal': 4, 'seve': 2, 'ballesteros': 3, 'motorised': 1, 'rheumatoid': 1, 'pairs': 3, 'decides': 1, 'ryder': 2, 'commitee': 1, 'unhelpful': 1, 'precedent': 1, 'olly': 1, 'dispensations': 1, 'feasible': 2, 'carts': 1, 'prohibited': 2, 'warzycha': 1, 'kostas': 1, 'malekos': 1, 'resigns': 3, 'kirkcaldy': 1, 'managerial': 1, 'casualty': 1, 'resigned': 4, 'directors': 4, 'relinquish': 1, 'regrettably': 1, 'accordingly': 1, 'pride': 2, 'intact': 1, 'agreeing': 1, 'griqualand': 4, 'kimberley': 1, 'maltch': 1, 'cloete': 1, 'wath': 1, 'boeta': 1, 'wessels': 2, 'mcleod': 1, 'glen': 3, 'osborne': 2, 'halford': 1, 'endeavours': 1, 'whilst': 1, 'divisionn': 1, 'three-match': 1, 'outs': 1, 'nasser': 1, '00no': 3, 'ealham': 2, 'caddick': 2, 'graeme': 2, 'hick': 2, 'maidens': 1, '000no': 1, 'latif': 1, 'shadab': 2, 'kabir': 2, 'ata-ur-rehman': 5, 'underlined': 1, 'consistency': 1, 'keith': 2, 'fletcher': 1, 'selector': 1, 'no-one': 1, 'argue': 2, 'appreciate': 2, 'headbutt': 1, 'miron': 1, 'cozma': 7, 'headbutting': 1, 'bosses': 1, 'miners': 2, 'lei': 11, 'danut': 1, 'lupu': 4, 'rioted': 1, 'reformist': 2, 'petre': 1, 'petrosan': 1, 'tunnel': 6, 'skirmish': 2, 'tall': 1, 'tallest': 1, 'towering': 1, 'cms': 1, 'squash': 4, 'jansher': 2, 'pakistnn': 1, 'brett': 3, 'cairns': 2, 'del': 2, 'harris': 2, 'chaloner': 1, 'frenz': 2, 'kneipp': 2, 'faizy': 1, 'mir': 2, 'zaman': 2, 'gul': 2, 'meads': 1, 'thoren': 1, 'extends': 1, 'topples': 1, 'champ': 1, 'vintage': 1, 'toppling': 1, 'illustrious': 1, 'serve-and-volley': 1, 'retire': 2, 'volleyed': 1, 'grace': 2, 'jimy': 2, 'szymanski': 2, 'sprained': 1, 'romp': 2, 'pavel': 3, 'fellow-american': 1, 'wiesner': 4, 'iva': 3, 'majoli': 4, 'fifth-': 1, 'sidelines': 2, 'rita': 2, 'alexia': 1, 'dechaume-balleret': 1, 'ellwood': 3, 'mariaan': 2, 'swardt': 2, 'dominique': 1, 'roost': 1, 'florencia': 2, 'labat': 2, 'rinaldi': 1, 'stunkel': 1, 'angelica': 1, 'gavaldon': 1, 'paola': 2, 'suarez': 2, 'marianne': 1, 'werdel': 1, 'witmeyer': 1, 'grossman': 2, 'silvia': 1, 'farina': 1, 'caldwell': 1, 'adriana': 1, 'serra-zanetti': 1, 'wagner': 2, 'gigi': 1, 'kristie': 2, 'boogert': 2, 'joannette': 1, 'laxmi': 1, 'poruri': 1, 'filippo': 1, 'veglio': 1, 'ruud': 1, 'jabali': 1, 'campana': 2, 'radka': 2, 'bobkova': 1, 'kschwendt': 2, 'kleinova': 1, 'annabel': 2, 'capriati': 1, 'arendt': 2, 'cacic': 1, 'likhovtseva': 2, 'kyoko': 1, 'nagatsuka': 1, 'pam': 1, 'shriver': 1, 'kimberly': 3, 'po': 4, 'ruano-pascual': 1, 'tina': 2, 'kirzan': 1, 'rika': 1, 'hiraki': 1, 'langrova': 2, 'tami': 2, 'whitlinger': 2, 'cecchini': 1, 'francesca': 1, 'lubiani': 1, 'tamer': 1, 'sawy': 1, 'amy': 2, 'frazier': 2, 'larisa': 1, 'neiland': 1, 'lisa': 2, 'lori': 1, 'mcneil': 1, 'dopfer': 2, 'zina': 1, 'garrison': 1, 'sawamatsu': 2, 'rennae': 1, 'stubbs': 1, 'miriam': 2, 'oremans': 2, 'zrubakova': 1, 'pozzi': 1, 'skoch': 1, 'vanlandingham': 3, 'glenallen': 1, 'first-inning': 1, 'concentrated': 2, 'andres': 1, 'galarraga': 1, 'extra-base': 1, 'rain-shortened': 1, 'seven-inning': 1, 'arthroscopic': 1, 'benes': 2, 'royce': 1, 'clayton': 4, 'one-half': 2, 'art': 1, 'howe': 1, 'intentionally': 1, 'lined': 1, 'elbow': 1, 'eldred': 2, 'miranda': 1, 'batter': 4, 'thome': 2, 'nagy': 1, 'three-hitter': 1, 'felipe': 1, 'left-field': 2, 'joe': 2, '00-game': 2, 'enjoying': 1, 'tiebreaker': 2, 'hottest': 1, 'hardcourts': 1, 'nerves': 1, 'talented': 1, 'hurried': 1, 'stomach': 3, 'week-old': 1, 'sushi': 1, 'combination': 2, 'undone': 1, 'revenge': 1, 'breezy': 1, 'erratic': 1, 'untidy': 1, 'unforced': 1, 'walloped': 1, 'woeful': 1, 'faults': 3, 'deflating': 1, 'fault': 1, 'confusion': 1, 'awarded': 5, 'umpire': 1, 'barely': 1, 'frittered': 1, 'risen': 2, 'stray': 1, 'spate': 2, 'withdrawals': 1, 'lacklustre': 1, 'trail': 4, 'recruits': 1, 'fluidity': 1, 'proved': 3, 'parries': 1, 'lie': 1, 'riedle': 1, 'tretschok': 1, 'decheiver': 1, 'balakov': 1, 'hagner': 1, 'schulz': 1, 'donkow': 1, 'jeffrey': 2, 'roest': 2, 'korneev': 2, 'hansma': 2, 'hockey': 4, 'ville': 1, 'peltonen': 1, 'ylonen': 1, 'teemu': 1, 'selanne': 1, 'jyrki': 1, 'lumme': 1, 'janne': 1, 'ojanen': 1, 'ruuttu': 1, 'radek': 1, 'bonk': 1, 'reichel': 1, 'dopita': 1, 'cyprien': 7, 'nine-month': 2, 'xamax': 1, 'jean-pierre': 2, 'post-match': 2, 'punches': 2, 'claudio': 1, 'moura': 6, 'intervene': 2, 'succeeded': 2, 'kneeing': 1, 'hegi': 1, 'elbowed': 1, 'facchinetti': 1, 'astonished': 1, 'gress': 2, 'shocking': 2, 'verbally': 1, 'provoked': 1, 'punished': 1, 'scuffle': 1, 'punch': 1, 'react': 1, 'bugno': 4, 'doping': 2, 'gianni': 2, 'testing': 5, 'testosterone': 2, 'hormone': 1, 'subsequent': 1, 'higher-than-average': 1, 'naturally': 1, 'giro': 1, \"d'italia\": 1, 'stimulant': 1, 'caffeine': 1, 'colonna': 8, 'haarlem': 5, 'kilometre': 6, 'gouda': 1, 'federico': 4, 'mapei': 6, 'mins': 2, 'secs': 1, 'robbie': 3, 'mcewen': 6, 'jans': 4, 'koerts': 7, 'palmans': 5, 'teutenberg': 7, 'postal': 5, 'steels': 1, 'endrio': 1, 'leoni': 1, 'aki': 7, 'capiot': 6, 'collstrop': 6, 'braber': 1, 'neths': 5, 'blijlevens': 2, 'tvm': 7, 'wolf': 5, 'foreldorado': 2, 'corini': 3, 'omloop': 1, 'motorola': 14, 'tristan': 1, 'hoffman': 1, 'hincapie': 3, 'talen': 1, 'cofinec': 11, 'slips': 3, 'emese': 1, 'bartha': 1, 's.a.': 1, 'rebound': 2, 'gabor': 1, 'sitanyi': 2, 'london-based': 1, 'barings': 1, 'french-registered': 1, 'floated': 1, 'hovered': 1, 'forints': 2, 'depositary': 1, 'receipts': 1, 'oversubscribed': 1, 'deadline': 1, 'one-third': 1, 'two-fifths': 1, 'tamas': 1, 'erdei': 3, 'budapest-based': 1, 'abn-amro': 1, 'hoare': 1, 'govett': 1, 'macroeconomic': 1, 'generates': 1, 'plunged': 3, 'understands': 2, 'capita': 1, 'consumption': 2, 'folding': 1, 'krpaco': 2, 'ownership': 2, 'pse': 1, 'czk': 3, 'agrotonz': 1, 'tlumacov': 1, '00000': 7, '00000.000': 6, 'avia': 1, 'barum': 1, '0000.000': 11, 'ceska': 1, 'sporitelna': 1, '000000.000': 1, 'ckd': 1, 'emkam': 1, 'kablo': 1, 'kladno': 1, 'komercni': 1, 'banka': 1, '0000.00': 15, 'leciva': 1, 'metrostav': 1, 'morav.chemic.': 1, 'zav': 1, 'okd': 1, 'pf': 1, 'iks': 1, 'kb': 1, 'rif': 1, 'seliko': 1, '00000.00': 1, 'sokolovska': 1, 'uhelna': 1, 'spif': 1, 'cesky': 1, 'spt': 1, 'skoda': 1, 'tabak': 1, 'trinecke': 1, 'zelezarny': 1, 'vodni': 1, 'stavby': 1, 'slows': 1, 'after-hours': 2, 'worldcom': 4, 'mfs': 9, '0-0/00': 1, '00-0/00': 1, 'cboe': 2, 'valued': 3, 'suggest': 1, 'unusual': 1, 'certainly': 8, 'steadily': 2, 'mid-august': 3, 'derivatives': 3, 'e-mail': 1, 'derivatives@reuters.com': 1, 'faulding': 8, 'patent': 3, 'elizabeth': 1, 'n.j.': 6, 'purdue': 1, 'frederick': 2, 'infringement': 2, 'purepac': 2, 'pharamceutical': 1, 'kadian': 4, 'sustained': 1, 'morphine': 1, 'merit': 1, 'zeneca': 1, 'f.h.': 1, 'mick': 1, 'first-team': 3, 'omitted': 2, 'kernaghan': 1, 'daish': 1, 'kelly': 9, 'elland': 1, 'experimental': 1, 'shay': 1, 'denis': 1, 'irwin': 1, 'babb': 1, 'kenna': 1, 'breen': 1, 'harte': 1, 'cunningham': 1, 'staunton': 1, 'townsend': 1, 'houghton': 1, 'gareth': 1, 'farrelly': 1, 'mcloughlin': 1, 'mcateer': 1, 'cascarino': 1, 'niall': 1, 'quinn': 1, '+0000000': 1, 'killer': 6, 'murders': 3, 'eugene': 2, 'colonel': 4, 'commanded': 1, 'wiped': 1, 'smerdon': 1, 'nuns': 3, 'garang': 4, 'spla': 8, 'urgently': 1, 'nuour': 2, 'marial': 2, 'mapourdit': 2, 'hindering': 1, 'recruitment': 1, 'interpretation': 1, 'compound': 3, 'sisters': 1, 'moira': 1, 'batchelor': 2, 'barton': 2, 'riel': 2, 'sister': 3, 'maureen': 2, 'carey': 1, 'raniero': 1, 'iacomella': 1, 'captives': 1, 'kenyan': 1, 'attributed': 2, 'detentions': 1, 'learned': 1, 'monsignor': 1, 'caesar': 1, 'mazzolari': 1, 'apostolic': 1, 'diocese': 1, 'rumbek': 1, 'isolation': 1, 'looted': 1, 'animist': 1, 'arabised': 1, 'postpones': 1, 'pressed': 3, 'register': 2, 'well-organised': 1, 'coerce': 1, 'inform': 2, 'districts': 3, 'conquered': 1, 'ethnically': 1, 'cleansed': 1, 'hinted': 2, 'flagrant': 1, 'fo': 1, 'administer': 1, 'waits': 1, 'kuznets': 1, 'finalising': 1, 'arranged': 2, 'vyacheslav': 4, 'tikhomirov': 3, 'materialise': 2, 'rebuffed': 1, 'suggestion': 1, 'band': 4, 'guldimann': 2, 'tikhomirov-maskhadov': 1, 'falter': 1, 'ria': 1, 'indicated': 3, 'agencies': 2, 'hinting': 1, 'protege': 1, 'lesson': 1, 'profile': 1, 'reelected': 1, 'prompting': 1, 'rumoured': 1, 'weakening': 5, 'aides': 6, 'insisting': 2, 'apart': 3, 'spelled': 1, 'intensify': 1, 'reinforced': 1, 'determination': 1, 'aleksander': 2, 'kwasniewski': 4, 'kucan': 2, 'strengthening': 1, 'bloc': 1, 'comprises': 1, 'janez': 1, 'drnovsek': 1, 'nationalists': 5, 'iliescu': 8, 'impeachment': 2, 'ion': 1, 'punr': 6, 'electioneering': 1, 'pdsr': 1, 'nastase': 2, 'unexpectedly': 4, 'admission': 1, 'vexed': 1, 'ministries': 1, 'gheorghe': 1, 'funar': 2, 'impeached': 1, 'treason': 1, 'compromising': 1, 'oust': 2, 'succeed': 1, 'oppose': 6, 'estonian': 2, 'mps': 6, 'electing': 1, 'belinda': 1, 'goldsmith': 1, 'tallinn': 4, 'lennart': 4, 'meri': 19, 'pushing': 1, 'oversaw': 1, 'statehood': 1, 'arch-rival': 1, 'ruutel': 11, 'votes': 20, 'garnered': 1, 'reconvened': 1, 'ceded': 1, 'favoured': 3, 'heiki': 1, 'kranich': 1, 'constitution': 3, 'smoothe': 1, 'periods': 1, 'parliamentarians': 1, 'leftist-led': 1, 'inched': 1, 'constant': 2, 'convene': 4, 'emerges': 1, 'garner': 1, 'enn': 2, 'markvart': 2, 'invalid': 2, 'abstentions': 2, 'convened': 1, 'abusing': 3, 'shameful': 1, 'acts': 5, 'adnan': 1, 'xhelili': 3, 'wiltshire': 1, 'adriatic': 1, 'durres': 1, 'divorced': 4, 'befriended': 1, 'reminded': 1, 'heterosexual': 1, 'homosexual': 1, 'begging': 1, 'impoverished': 1, 'popularity': 1, 'laca': 2, 'sensational': 1, 'difficulty': 3, 'filmed': 2, 'rudolf': 2, 'gajdos': 10, 'interpol': 5, 'eva': 3, 'boudova': 1, 'interrogated': 2, 'pornographic': 4, 'films': 5, 'suspicions': 1, 'rape': 1, 'detectives': 1, 'disappearances': 1, 'serial': 2, 'urals': 1, 'perm': 1, 'raped': 2, 'identify': 2, 'waited': 1, 'touches': 1, 'reminds': 1, 'commandments': 3, 'posters': 1, 'offices': 12, 'quarracino': 2, 'sermon': 1, 'cleric': 3, 'biblical': 1, 'commandment': 1, 'thou': 1, 'shalt': 1, 'free-market': 1, 'eletropaulo': 3, 'eduardo': 4, 'bernini': 2, 'sobral': 1, 'secretariat': 1, 'romina': 1, 'nicaretta': 1, 'victims': 14, 'alvarado': 2, 'hurte': 2, 'sierd': 2, 'zylstra': 2, 'jetsi': 2, 'hendrika': 2, 'coers': 2, 'teak': 2, 'plantation': 5, 'schutte': 3, 'aspect': 1, 'hand-written': 1, 'ebe': 2, 'huizinga': 2, 'abductors': 1, 'cvg': 8, 'privatization': 7, 'caracas': 6, 'swell': 1, 'corporacion': 1, 'venezolana': 1, 'guayana': 1, 'proceeding': 3, 'machuca': 1, 'sidor': 2, 'union-based': 1, 'steel-producing': 1, 'venalum': 1, 'alucasa': 1, 'layoffs': 2, 'unionized': 1, 'lugo': 1, 'drunks': 2, 'lovebite': 1, 'bandit': 1, 'drinkers': 2, 'lovebites': 2, 'drunken': 1, 'stupor': 1, 'dreaded': 1, 'chupabolos': 1, 'drunksucker': 1, 'preys': 1, 'matagalpa': 2, 'placing': 2, 'hickey-like': 1, 'nuevo': 1, 'diario': 3, 'enraged': 1, 'machismo': 1, 'so-far': 1, 'culprit': 1, 'surrounding': 2, 'vagrants': 1, 'slept': 2, 'gripping': 2, 'desserts': 1, 'bolos': 1, 'drunkards': 1, 'beautiful': 2, 'banespa': 6, 'prior': 7, 'globo': 6, 'liquidated': 2, 'temporary': 4, 'restructure': 2, 'privatized': 1, 'refinance': 1, 'covas': 1, 'reais': 1, 'delicate': 1, 'solved': 1, 'bamerindus': 5, 'tbc': 1, 'loan': 10, 'fourth-largest': 1, 'troubles': 1, '00-00-0000000': 2, 'havel': 3, 'vaclav': 1, 'henrique': 2, 'cardoso': 2, 'cities': 3, 'manaus': 1, 'chancellor': 3, 'benevolent': 2, 'alejandro': 2, 'lanusse': 8, 'domingo': 2, 'peron': 2, 'predecessors': 1, 'ongania': 1, 'levingston': 1, 'steered': 2, 'peronists': 1, 'hector': 1, 'campora': 1, 'solano': 1, 'adversories': 1, 'imprisoned': 2, 'coup': 5, 'menendez': 1, 'gradual': 2, 'left-wing': 1, 'activism': 1, 'culminated': 1, 'autobiography': 2, 'married': 4, 'ileana': 1, 'collision': 5, 'liner': 3, 'liaoning': 1, 'tiantan': 1, 'dalian': 3, 'tianjin': 1, 'matahari': 3, 'revises': 1, 'putra': 1, 'prima': 1, 'hanifah': 1, 'komala': 2, 'china-bound': 1, 'ki-choo': 1, 'jiaxuan': 1, 'atheist': 1, 'nominally': 1, 'teachers': 3, 'remote': 6, 'attract': 3, 'nabs': 2, 'immigrant': 3, 'sneaked': 1, 'jiangsu': 1, 'passerby': 1, 'apartment': 2, 'immigrants': 3, 'overstayed': 1, 'mainland': 5, 'reverts': 4, 'hasan': 3, 'muratovic': 2, 'bosnians': 4, 'suleyman': 2, 'demirel': 2, 'tansu': 3, 'ciller': 4, 'barkho': 1, 'organising': 4, 'secretary-': 1, 'gualtiero': 1, 'fulcheri': 3, 'zejjari': 1, 'ascertain': 1, 'equitable': 1, 'procured': 1, 'u.n': 1, 'employ': 1, 'iraq-u.n.': 1, 'memorandum': 2, 'understanding': 6, 'partial': 3, 'separating': 1, 'somalia': 1, 'dodge': 1, 'steers': 1, 'heifers': 1, 'contracted': 2, 'formulated': 1, '0000--': 1, 'anti-abortion': 2, 'praises': 2, 'democrat': 6, 'tolerance': 3, 'elsner': 1, 'pro-abortion': 1, 'views': 4, 'hall': 5, 'conscience': 1, 'recognizes': 1, 'welcomes': 2, 'divergent': 1, 'inclusiveness': 1, 'organizers': 1, 'casey': 3, 'vehement': 1, 'intolerance': 1, 'pro-woman': 1, 'pro-child': 1, 'pro-life': 1, 'deliver': 4, 'podium': 3, 'deaf': 1, 'ears': 2, 'abortions': 1, 'dilemma': 1, 'insert': 1, 'recognizing': 1, 'validity': 1, 'passionate': 1, 'kate': 1, 'michelman': 1, 'disdain': 1, 'punishment': 2, 'cynthia': 1, 'mckinney': 1, 'flooded': 3, 'montana': 3, 'bushel': 5, 'noteworty': 1, 'durum': 3, 'jumping': 1, '00-pct': 1, 'protein': 2, 'wheats': 1, 'chg': 6, '.00': 15, 'unc': 8, 'duluth': 1, '---': 37, 'hunter': 2, 'dn': 6, 'hrw': 5, '00pct': 1, 'billings': 1, 'mt': 4, 'rudyard': 1, 'portland': 3, 'pendleton': 2, 'coolee': 1, 'waterville': 1, 'wenatchee': 1, 'nc=acomparison': 1, 'na=not': 1, 'vmig-0': 2, 'rec': 1, 'bd': 1, 'ref': 1, 'ymca': 1, 'proj': 2, 'ser': 7, 'vmig': 2, 'lauds': 1, 'troop': 3, 'welcome': 2, 'dialogue': 3, 'mashadov': 1, 'single-a': 1, 'oh': 2, 'stallone': 4, 'fiancee': 2, 'sylvester': 1, 'flavin': 2, 'publicist': 2, '0-pound': 1, '0-ounce': 1, 'sophia': 1, 'bloch': 1, 'wonderful': 1, 'rambo': 1, 'copland': 1, 'jumps': 2, 'abc': 6, 'challenger': 3, 'stretching': 1, 'whistle-stop': 2, 'perot': 9, 'opting': 1, 'fulfil': 1, 'bulk': 5, 'millfeeds': 2, 'millfeed': 4, 'high-priced': 1, 'flour': 3, 'mixer': 1, 'ton': 3, 'barley': 13, 'mixers': 1, 'closely-watched': 1, 'puerto': 2, 'rico': 1, 'hairy': 3, 'surgical': 2, 'dark-brown': 1, 'patch': 1, 'skin': 3, 'abyss': 1, 'dejesus': 2, 'nevus': 1, 'journals': 1, 'ostracism': 1, 'gradually': 1, 'expanding': 3, 'transplanting': 1, 'afflicted': 1, 'norris': 2, 'balloons': 1, 'forehead': 1, 'shoulders': 1, 'filling': 1, 'saline': 2, 'inserted': 1, 'treatments': 1, 'eau': 2, 'claire': 2, 'wisc': 2, 'baird': 2, 'waterworks': 2, 'realtors': 1, 'single-family': 1, 'condominium': 1, 'condos': 1, 'nudged': 1, 'amtrak': 5, 'derails': 2, 'montpelier': 4, 'vt': 2, 'vermonter': 1, 'albans': 1, 'vermont': 6, 'd.c.': 2, 'roxbury': 2, 'garrity': 4, 'pudvah': 2, 'trauma': 1, 'understood': 1, 'conductor': 1, 'passangers': 1, 'reservations': 1, 'uninjured': 1, 'springfield': 1, 'northfield': 2, 'paralympics': 1, 'gloomy': 3, 'france-juppe': 1, 'handicapped': 1, 'paralympic': 1, 'gloom-stricken': 1, 'scepticism': 2, 'opposite': 1, 'july-august': 1, 'medals': 5, 'pessimistic': 1, 'stagnates': 2, 'unemployement': 1, 'near-record': 1, 'blue-chip': 1, 'foray': 1, 'sbf-000': 1, 'actively': 2, 'cfdt': 1, 'syndicale': 1, 'unitaire': 1, 'fsu': 1, 'austerity': 2, 'unveiled': 1, 'anxieties': 3, 'niggled': 1, 'centime': 1, 'heavyweights': 1, 'elf': 1, 'rhone': 1, 'poulenc': 1, 'eurotunnel': 1, 'morose': 1, 'post-holiday': 1, 'uic': 1, 'gan': 2, 'slid': 2, 'recapitalisation': 1, 'carrefour': 1, 'cheuvreux': 1, 'virieu': 1, 'reinsurance': 2, 'scor': 1, 'prudential': 1, 'mercantile': 1, 'bollore': 1, 'scac': 1, 'delmas': 1, 'vileujeux': 1, 'sdv': 1, 'alcatel': 1, 'alsthom': 1, 'opthalmic': 1, 'essilor': 2, 'oakley': 1, 'non-prescription': 1, 'gentext': 1, 'optics': 1, 'veerakesari': 1, 'telo': 1, 'trincomalee': 1, 'chavakachcheri': 1, 'jaffna': 1, 'sentries': 1, 'thinakaran': 1, 'tulf': 1, 'sivasiththamparam': 1, 'meaningless': 1, 'unp': 1, 'underpriviledged': 1, 'sections': 1, 'society': 3, 'excise': 1, 'w.n.f.': 1, 'chandraratne': 1, 'guidelines': 3, 'liquor': 2, 'licences': 2, 'licence': 1, 'lankadeepa': 1, 'female': 1, 'simultaneous': 1, 'chandrika': 1, 'kumaratunga': 1, 'motorcade': 1, 'divaina': 1, 'cultural': 3, 'sum': 1, 'worn': 1, 'dinamina': 1, 'ruhunu': 1, 'indefinitely': 3, 'hospitalised': 4, '000-000000': 1, 'rupam': 1, 'banerjee': 1, 'tributes': 1, 'legendary': 1, 'poured': 1, 'wean': 1, 'laureate': 1, 'aided': 1, 'breathing': 2, 'woodlands': 1, 'vomiting': 2, 'diagnosed': 1, 'abated': 2, 'irregularly': 1, 'breathes': 1, 'advise': 2, 'fingers': 1, 'familiar': 1, 'six-member': 1, 'treating': 2, 'greetings': 1, 'bouquets': 1, 'pope': 1, 'get-well': 1, 'placard': 1, 'shishu': 1, 'bhavan': 1, 'speedy': 1, 'recovery': 12, 'poorest': 1, 'prostitutes': 3, 'goddess': 2, 'raju': 1, 'statesman': 3, 'mangala': 1, 'das': 3, 'waist': 1, 'prem': 1, 'gift': 1, 'incessantly': 1, 'tarak': 1, 'footpath': 1, 'passers-by': 1, 'immaculate': 1, 'bless': 1, 'scribble': 1, 'prayed': 1, 'bengal': 2, 'religions': 1, 'pray': 3, 'solidarity': 1, 'downtrodden': 1, 'nanda': 1, 'gopal': 2, 'bhattacharya': 1, 'rifkind': 5, 'conferences': 2, 'obey': 1, 'normally': 5, 'interfere': 2, 'protested': 3, 'salvation': 3, 'fis': 3, 'hamas': 7, 'guest': 2, 'denying': 1, 'fundamentally': 1, 'mongolia': 1, 'congressman': 2, 'sayed': 1, 'masood': 4, 'briefed': 1, 'dana': 1, 'rohrabacher': 5, 'wartorn': 1, 'appoint': 3, 'transitional': 3, 'bagram': 1, 'airbase': 1, 'amrollah': 2, 'neutralise': 1, 'afghans': 1, 'hamid': 1, 'ibrahimi': 1, 'feels': 3, 'neutral': 1, 'jalalabad': 1, 'rupees': 19, 'auctioned': 1, 'three-': 1, 'five-': 1, 'insurgents': 4, 'sharma': 1, 'centre-right': 1, 'insurgency': 2, 'maoists': 1, 'multi-party': 3, 'negotiates': 1, 'khum': 1, 'bahadur': 1, 'khadga': 3, 'insurgent': 1, 'bhattarai': 1, 'guarantee': 2, 'centrist': 2, 'jointly': 2, 'marxist-leninist': 1, 'uml': 2, 'three-party': 2, 'soy': 1, 'indore': 2, '00,000-00,000': 23, 'soyoil': 10, 'solvent': 3, 'undertone': 1, 'soymeal': 4, 'rapeseed': 2, 'extraction': 2, 'availability': 1, 'bedibunder': 1, '0,000-0,000': 2, 'bhavnagar': 1, '---------------------': 1, 'dewas': 1, 'mandsaur': 1, 'neemuch': 1, 'n.a': 6, 'mhow': 1, 'ratlam': 1, 'ashta': 1, 'dhar': 1, 'ujjain': 1, 'jaora': 1, 'barnagar': 1, 'khandwa': 1, 'ashoknagar': 1, 'nalkhera': 1, '----------------------------------': 1, '--------------------------------': 1, 'rail-for': 1, 'bedi': 1, 'bunder': 1, '0=00.00': 1, 'humayun': 1, 'rasheed': 1, 'choudhury': 3, 'callers': 2, 'chaired': 3, 'bengali': 1, 'banglabazar': 1, 'patrika': 1, 'assemby': 1, 'partisan': 1, 'ineffective': 1, 'resorting': 1, 'instability': 1, 'desireable': 1, 'designs': 1, 'sternly': 1, 'helibor': 8, 'fixing': 3, '0-mth': 5, '00-mth': 1, 'barrick': 11, 'arequipa': 8, 'tendered': 1, 'ahave': 1, 'realize': 1, 'munk': 1, '00-a-share': 1, 'attractive': 1, 'pierina': 2, 'allocation': 3, 'swallow': 1, 'vancouver-based': 1, 'prospector': 1, 'sweetened': 1, 'batch': 1, 'drill': 1, 'ounces': 1, 'drilling': 1, 'pro-rated': 1, 'penn': 4, 'terminates': 1, 'allentown': 1, 'terminated': 1, 'non-binding': 1, 'merrion': 1, 'licensing': 1, 'license': 1, 'domiciled': 1, 'vnu': 3, 'publisher': 2, 'op': 2, 'info': 2, 'miscellaneous': 1, 'pro': 6, 'rata': 1, 'hmg': 1, 'vtm': 1, 'aol': 6, 'online': 5, 'hanover': 2, 'bertelsmann': 3, 'adon': 2, 'schiphorst': 1, 'cebit': 2, 'buettner': 1, 'managing': 2, 'thirds': 1, 'scandanavia': 1, 'benelux': 2, 'hijack': 2, 'eyewitnesses': 2, 'rona': 1, '+': 1, '00--00-000-000-0000': 1, 'dtb-bund-future': 2, 'tranches': 2, '00.sep.00-00.mar.00': 1, 'dbrs': 2, 'confirms': 2, 'ratings': 3, 'pfd-0': 3, 'debentures': 1, 'cumulative': 1, 'non-cumulative': 1, 'aa': 2, 'intercity': 1, 'roadblock': 2, 'provinces': 6, 'erzincan': 1, 'sivas': 1, 'ablaze': 1, 'confiscates': 1, 'cyprus-based': 1, 'arabic': 2, 'al-tadamun': 1, 'suggesting': 4, 'editor-in-chief': 1, 'liwaya': 1, 'censors': 1, 'expense': 2, 'front-page': 1, 'entitled': 1, 'compliant': 1, 'undergo': 1, 'compulsory': 1, 'psychiatrists': 1, 'capacities': 1, 'behave': 1, 'zionists': 1, 'censorship': 1, 'ipo': 2, 'transkaryotic': 2, 'therapies': 2, 'symbol': 1, 'tktx': 1, 'shrs': 3, 'underwriter': 1, 'morgan': 2, 'underwriters': 1, 'over-allotment': 1, 'hoechst': 1, 'roussel': 1, 'platforms': 1, 'gene': 6, 'activation': 1, 'preclinical': 1, 'derailment': 1, 'praise': 2, 'wheelchair': 3, 'mrs.': 3, 'controlling': 1, 'firearm': 2, 'bradys': 1, 'cane': 1, 'rousing': 1, 'reception': 1, 'sat': 1, 'vip': 1, 'felons': 2, 'saluting': 1, 'sportsman': 1, 'remington': 1, 'ak00': 1, 'uzi': 1, 'deserve': 1, 'thumbs': 1, 'deranged': 1, 'impress': 1, 'jodie': 1, 'actress': 2, 'tracking': 1, 'cdu': 11, 'csu': 6, 'spd': 6, 'fdp': 6, 'pds': 6, 'emnid': 6, 'res': 6, 'allensbach': 4, 'forsa': 2, 'forschungsgruppe': 1, 'wahlen': 1, 'grimwade': 1, 'requests': 1, 'negotiators': 1, 'suggestions': 1, 'mentmore': 4, 'resource': 1, 'archive': 1, 'housewares': 1, 'formerly': 1, 'platignum': 1, 'articles': 1, 'pence': 4, 'valuing': 2, '000.0p': 1, 'tnt': 1, 'glafcos': 1, 'xenos': 1, 'heathrow': 6, 'gatwick': 5, 'handles': 1, 'ruth': 4, 'third-busiest': 1, 'prefer': 2, 'implementing': 1, 'well-rehearsed': 1, 'contingency': 2, 'intend': 1, 'refuel': 2, 'identity': 1, 'parrot': 1, 'scam': 3, 'perth': 2, 'conman': 1, 'parrots': 5, 'dye': 2, 'birds': 6, 'denham': 1, 'peiris': 3, 'cinnamon': 1, 'ringneck': 1, 'impostor': 1, 'fooled': 1, 'pet': 1, 'unknowingly': 1, \"'d\": 3, 'photos': 4, 'authentication': 1, 'dyed': 2, 'feather': 1, 'bird': 2, 'enthusiast': 1, 'bogus': 1, 'informant': 1, 'colours': 1, 'moult': 1, 'motorist': 4, 'tonga': 3, 'unexpected': 2, 'tauranga': 1, 'pothole': 1, 'spun': 1, 'wheels': 1, 'tyres': 1, 'smoke': 4, 'pouring': 1, 'bonnet': 4, 'drink-driving': 1, 'iscovered': 1, 'overstayer': 1, \"nuku'alofa\": 1, 'sbpus': 3, 'seven-day': 1, 'cut-off-rate': 1, 'embassies': 1, 'missions': 2, 'macedonian': 2, 'korean-related': 1, 'outlawed': 1, 'reunification': 1, 'crushed': 2, 'urgent': 2, 'disarmament-china': 1, 'reaffirmed': 1, 'totally': 1, 'satisfy': 1, 'balanced': 2, 'commentary': 5, 'committing': 1, 'thwarting': 1, 'muted': 1, 'forwarding': 1, 'compromised': 1, 'discussed': 4, 'completion': 1, 'inspections': 2, 'drafts': 1, 'stubbornly': 1, 'uphold': 1, 'deterrence': 1, 'self-imposed': 1, 'moratorium': 1, 'declares': 3, 'poisoning': 4, 'receding': 2, 'mysterious': 1, 'germ': 1, 'sakai': 8, 'hardest': 2, 'o-000': 2, 'bacillus': 2, 'settling': 1, 'naoto': 1, 'kan': 5, 'regional': 2, 'osaka': 2, 'deadly': 2, 'bacteria': 4, 'schoolchildren': 1, 'complications': 1, 'indicating': 3, 'peak': 2, 'relieved': 2, 'infected': 3, 'pinpoint': 1, 'infection': 3, 'sanitary': 1, 'standards': 3, 'slaughterhouses': 1, 'meatpacking': 1, 'overhaul': 2, 'compile': 1, 'hygiene': 1, 'aluminium': 3, 'shipments': 10, 'mill': 2, 'beverage': 1, 'reflecting': 3, 'above-average': 2, 'cooler': 1, 'inventories': 6, 'downward': 1, 'upward': 2, 'pegged': 3, 'auto': 1, 'dipped': 3, 'publicly': 6, 'gratitude': 1, 'bongo': 2, 'thanking': 1, 'technological': 1, 'quashed': 1, 'expressing': 2, 'freedoms': 1, 'drafted': 1, 'censure': 1, 'forum': 1, 'code': 2, 'dissent': 1, 'doomed': 1, 'three-month-to-three-year': 1, 'sheu': 2, 'yuan-dong': 1, 'jumpstart': 1, 'sluggish': 3, 'half-percentage': 1, 'reductions': 1, 'demolition': 4, 'two-hour': 1, 'demolished': 2, 'metre': 2, 'crane': 1, 'bulldozer': 1, 'walls': 2, 'amidst': 1, 'alleys': 1, 'bystanders': 1, 'bulldozed': 1, 'plo-israel': 1, 'lawmaker': 1, 'hashem': 1, 'zighayer': 1, 'closure': 1, 'palestine': 1, 'annexed': 1, 'cede': 1, 'sec': 8, 'adopts': 1, 'specialists': 3, 'quotes': 3, 'electronic': 3, 'readily': 2, 'individuals': 2, 'orderly': 2, 'empower': 1, 'compete': 3, 'levitt': 1, 'lindsey': 1, 'improvements': 1, 'commonplace': 1, 'practices': 2, 'existed': 3, 'two-tiered': 1, 'quote': 2, 'robbing': 2, 'malpractices': 1, 'oversight': 1, 'shifts': 1, 'continuous': 3, 'quotations': 1, 'display': 1, 'berkeley': 1, 'reprieve': 2, 'mogul': 1, 'silvio': 2, 'berlusconi': 1, 'mediaset': 1, 'extending': 1, 'plugs': 1, 'void': 1, 'proprietor': 1, 'channels': 1, 'locomotive': 3, 'stationary': 1, 'steyr': 1, 'shunt': 1, 'wagons': 1, 'sidings': 1, 'trapped': 2, 'wreckage': 2, 'treat': 3, 'averted': 1, 'brakes': 1, 'railways': 1, 'apa': 1, 'saskatchewan': 5, 'eyes': 3, 'forge': 1, 'scope': 1, 'pork': 5, 'positioned': 1, 'loewen': 1, 'swp': 2, 'analyzing': 1, 'partnerships': 1, 'subsidy': 1, 'grains': 1, 'shipped': 1, 'integrated': 2, 'units': 6, 'contracting': 1, 'programs': 1, 'monopoly': 2, 'rovereto': 2, 'ninova': 1, 'heike': 1, 'drechsler': 1, 'fiona': 1, 'giaconi': 1, 'gabi': 1, 'rokmeier': 1, 'sergey': 1, 'makarov': 1, 'tilli': 1, 'vaccari': 1, 'ochieng': 1, 'mariacarla': 1, 'bresciani': 1, 'nastja': 1, 'rysich': 1, 'ana': 1, 'fidelia': 1, 'quirot': 1, 'letitia': 1, 'vriesde': 1, 'kreissig': 1, 'kostantin': 1, 'matusevitch': 1, 'buiatti': 1, 'kibet': 1, 'kibitok': 1, 'oksana': 2, 'ovchinnikova': 1, 'shikolenko': 1, 'virna': 1, 'angeli': 1, 'torshina': 1, 'knoroz': 1, 'lauren': 1, 'bronson': 1, 'ridgeon': 1, 'kipkosgei': 1, 'lambruschini': 1, 'masters': 6, 'rain-affected': 1, 'collingtree': 1, 'gavin': 4, 'levenson': 3, 'coceres': 3, 'gilford': 3, 'cage': 1, 'emanuele': 2, 'canonica': 2, 'howell': 2, 'hedblom': 3, 'bottomley': 1, 'sellberg': 2, 'joakim': 2, 'haeggman': 2, 'klas': 3, 'fulke': 1, 'gates': 2, 'haglund': 1, 'niclas': 1, 'fasth': 1, 'chistian': 1, 'mcfarlane': 1, 'harwood': 1, 'brenden': 1, 'pappas': 1, 'teravainen': 1, 'velde': 1, 'oyvind': 1, 'rojahn': 1, 'mcallister': 2, 'neal': 1, 'briggs': 1, 'retained': 3, 'one-kilometre': 1, 'averaged': 1, 'lausgberg': 1, 'eighteen': 1, 'hundredths': 1, 'eijden': 1, 'heeswijk': 7, 'almere': 5, 'zabel': 2, 'telekom': 5, 'zanoli': 2, 'mx': 2, 'onda': 2, '.giuseppe': 1, 'citterio': 2, '.robbie': 1, 'kaspars': 2, 'ozers': 4, '0:00:00': 2, 'giuseppe': 1, 'boardman': 13, 'gritson': 1, 'moreau': 4, 'heiko': 2, 'szonn': 2, 'collinelli': 8, 'sandstod': 2, 'alexei': 3, 'mariano': 3, 'friedick': 2, 'time-trial': 2, 'lausberg': 2, 'eiden': 1, 'thuet': 2, 'grzegorz': 1, 'krejner': 1, 'ainars': 1, 'kiksis': 1, 'dimitrios': 2, 'georgalis': 2, 'keiji': 1, 'kojima': 1, 'sharman': 1, 'escuredo': 1, 'maclean': 1, 'meidlinger': 1, 'mckenzie-potter': 1, 'masanaga': 1, 'shiohara': 1, 'zyl': 1, 'keirin': 1, 'nothstein': 1, 'neiwand': 2, 'magne': 1, 'buran': 1, 'hubner': 2, 'gane': 2, 'madison': 1, 'martinelli': 1, 'mcgrory': 1, 'pate': 1, 'kappes': 1, 'carsten': 1, 'betschart': 1, 'risi': 1, 'curuchet': 2, 'immi': 1, 'madsen': 1, 'veggerby': 1, 'galvez-lopez': 1, 'llaneras': 1, 'kotzmann': 1, 'stocher': 1, 'capelle': 1, 'jean-michel': 2, 'monin': 1, 'fulfils': 1, 'prediction': 3, 'ayres': 2, 'amazed': 1, 'proximity': 1, 'indoor': 1, 'perfected': 2, 'obree': 2, 'viral': 5, 'gritsoun': 1, 'l.': 2, 'chester-le-street': 2, 'fowler': 6, 'mcmanaman': 2, 'kishinev': 1, 'scans': 1, 'x-rays': 1, 'chat': 1, 'foolish': 1, 'howey': 1, 'naming': 1, 'gascoigne': 1, 'batty': 1, 'jockey': 2, 'irresponsible': 1, 'pontefract': 1, 'leger': 1, 'stayer': 1, 'trigger': 1, 'prominence': 1, 'guineas': 1, 'mister': 1, 'baileys': 1, 'rowing': 2, 'redgrave': 3, 'pinsent': 1, 'coxless': 1, 'thoughts': 1, 'athlete': 1, 'dismisses': 1, 'gatting': 2, 'half-volley': 1, 'square-leg': 1, 'learn': 1, 'stephenson': 1, 'dashed': 1, 'thrid': 1, 'dismissing': 1, 'chappell': 1, 'hop': 1, 'carling': 5, 'guscott': 1, 'rory': 1, 'underwood': 1, 'quartet': 3, 'possess': 1, 'qualities': 2, 'selectors': 2, 'hideo': 1, 'nomo': 2, 'half-game': 1, 'benito': 1, 'santiago': 2, 'amaro': 1, 'denny': 2, 'neagle': 4, 'smoltz': 2, 'devon': 2, 'hutton': 3, 'petkovsek': 1, 'valentine': 1, 'blair': 2, 'gwynn': 1, 'joyner': 1, 'eusebio': 1, 'sacrifice': 1, 'comeback': 2, 'benched': 1, 'arias': 1, 'smiley': 1, 'one-run': 1, 'armando': 1, 'reynoso': 1, 'bulge': 1, 'larkin': 1, 'one-out': 1, 'mehrtens': 4, 'series-clinching': 1, 'trinations': 1, 'tearing': 1, 'cartilage': 1, 'larsen': 1, 'standby': 1, 'jonah': 1, 'lomu': 1, 'cullen': 1, 'walter': 1, 'josh': 1, 'kronfeld': 1, 'robin': 1, 'olo': 1, 'dowd': 1, 'kwazulu-natal': 1, 'englishman': 1, 'featherstone': 2, 'herschelle': 3, 'quadrangular': 1, 'woolmer': 2, 'matured': 1, 'mcc': 1, 'kallis': 2, 'spin-bowling': 1, 'all-rounders': 1, 'nicky': 2, 'boje': 2, 'crookes': 2, 'hansie': 1, 'cronje': 1, 'vice-captain': 1, 'mcmillan': 1, 'kirsten': 1, 'hudson': 1, 'symcox': 1, 'jonty': 1, 'rhodes': 1, 'allan': 4, 'fanie': 1, 'villiers': 1, 'daryll': 1, 'cullinan': 1, 'gibs': 1, 'alba': 2, 'yuri': 1, 'nikiforov': 1, 'vladislav': 1, 'rodimov': 1, 'donizetti': 1, 'attendence': 1, 'rodney': 3, 'eyles': 2, 'zarak': 1, 'jahan': 3, 'nicol': 2, 'wellings': 1, 'ryan': 2, 'parke': 1, 'julien': 1, 'bonetat': 1, 'jonathon': 2, 'barada': 1, 'shabana': 2, 'zubair': 2, 'faheem': 1, 'r': 2, 'best-of-seven': 1, 'kfar': 1, 'sava': 1, 'zafririm': 1, 'holon': 1, 'maccabi': 4, 'haifa': 2, 'petah': 2, 'tikva': 2, 'lezion': 1, 'beit': 2, \"she'an\": 2, 'beersheva': 1, 'herzliya': 1, 'co-world': 1, 'wednesay': 1, 'four-and-a-half': 1, 'clown': 1, 'no-nonsense': 1, 'attitude': 1, 'routing': 2, 'abnout': 1, 'distracting': 1, 'confining': 1, 'tirades': 1, 'peripheral': 1, 'lounge': 2, 'rant': 1, 'entertain': 1, 'businesslike': 1, 'zero': 1, '00-minute': 3, 'slotted': 1, 'odds': 1, '000-to-0': 1, 'preparation': 3, 'destined': 2, 'nainkin': 1, 'rewritten': 1, 'superstar': 1, 'graf-like': 1, 'efficiency': 1, 'fourth-seeded': 2, 'second-day': 1, 'crushing': 2, 'medalist': 1, 'fifth-seed': 1, '00rd-ranked': 1, 'maggie': 1, 'loser': 2, 'grab': 1, 'semblance': 1, 'ponytail': 1, 'unleashed': 1, 'tie-break': 1, 'feisty': 1, 'tie-breaker': 1, 'point-by-point': 1, 'valuable': 1, 'playoff': 2, 'novelty': 1, 'roof': 2, '00-metre': 1, 'dull': 1, 'eijkelkamp': 1, 'jongsma': 2, 'shock': 1, 'henke': 1, 'fifth-placed': 1, 'weathered': 2, 'non-stop': 1, 'whisker': 1, 'away-goal': 1, 'squandered': 1, 'midway': 1, 'fullback': 1, 'albert': 5, 'ferrer': 1, 'julen': 1, 'lopetegui': 1, 'milinko': 2, 'hristo': 2, 'stoichkov': 2, 'barjuan': 1, 'set-piece': 1, 'free-kick': 1, 'athletic': 1, 'calderon': 1, 'bernabeu': 1, 'distinct': 1, 'gabrich': 3, 'iwan': 1, 'kluivert': 1, 'tijjani': 1, 'babangida': 1, 'dani': 1, 'parma': 7, 'roma': 4, 'udinese': 3, 'humble': 1, 'empoli': 2, 'wealthy': 1, 'ancelotti': 1, 'enrico': 1, 'chiesa': 1, 'pescara': 3, 'ottavio': 1, 'palladini': 1, 'giampaolo': 1, 'melli': 1, 'palermo': 1, 'bianchi': 1, 'arrigo': 1, 'sacchi': 1, 'cesena': 2, 'cremonese': 2, 'uruguayan': 1, 'nightmare': 1, 'replay': 2, 'cosenza': 2, 'fidelis': 2, 'andria': 2, 'piacenza': 2, 'atalanta': 1, 'lecce': 3, 'genoa': 7, 'sampdoria': 2, 'nocerina': 1, 'newcomers': 1, 'perugia': 1, 'powered': 1, 'sergio': 2, 'zickler': 2, 'acrobatic': 1, '00-times': 1, 'ruggiero': 1, 'rizzitelli': 2, 'feldhoff': 2, 'rhineside': 1, 'spal': 1, 'reggiana': 1, 'lucchese': 1, 'vicenza': 1, 'bologna': 1, 'torino': 1, 'avellino': 1, 'lazio': 1, 'bari': 1, 'monza': 1, 'napoli': 1, 'chievo': 1, 'ravenna': 1, 'akpoborie': 1, 'von': 1, 'heesen': 1, 'hirsch': 1, 'pires': 5, 'marc-vivien': 2, 'foe': 5, 'patrice': 2, 'loko': 4, 'psg': 5, 'guivarch': 2, 'last-gasp': 1, 'aime': 1, 'jacquet': 1, 'parc': 1, 'princes': 1, 'raid': 3, 'hard-won': 1, 'spurred': 1, 'leveller': 1, 'crossbar': 1, 'bounced': 1, 'kader': 1, 'ferhaoui': 2, 'blunder': 1, 'jean-claude': 1, 'nadon': 1, 'vairelles': 2, 'lefevre': 2, 'convincing': 2, 'benoit': 1, 'cauet': 1, 'one-two': 1, 'parisians': 1, 'concede': 1, 'leonardo': 1, 'panama': 1, 'dely': 1, 'valdes': 1, 'shocked': 2, 'canaries': 1, 'hintum': 1, 'waalijk': 1, 'schreuder': 1, 'vierklau': 2, 'nooijer': 1, 'vurens': 1, 'schultz': 1, 'etienne': 1, 'mendy': 1, 'giuly': 1, 'chaouch': 1, 'rouxel': 1, 'baret': 1, 'colleter': 1, 'sg': 1, 'owens': 11, 'tribute': 5, 'relay': 7, 'jesse': 4, 'promoter': 2, 'rudi': 2, 'thiel': 4, 'hopeful': 2, 'holder': 4, 'namibian': 2, '0x000': 2, 'widow': 2, 'squads': 2, 'jayasuriya': 9, 'dashing': 1, 'sanath': 3, 'nine-wicket': 1, 'comfortably': 1, 'modest': 3, 'devastating': 1, 'romesh': 2, 'kaluwitharana': 5, 'man-of-the-match': 2, 'aravinda': 2, 'silva': 5, 'ex-captain': 1, 'chipped': 1, 'stumped': 1, 'jadeja': 3, 'ganguly': 3, 'dharmasena': 4, 'kambli': 2, 'dravid': 2, 'srinath': 3, 'kumble': 3, 'mongia': 2, 'kapoor': 3, 'vass': 1, 'pushpakumara': 3, 'a.de': 1, 'asanka': 2, 'gurusinha': 2, 'hashan': 2, 'tillekeratne': 2, 'roshan': 2, 'mahanama': 2, 'kumara': 2, 'chaminda': 2, 'vaas': 2, 'muthiah': 2, 'ravindra': 2, '0.0-0-00-0': 2, 'anil': 1, 'ajay': 1, 'sourav': 1, 'vinod': 1, 'rahul': 1, 'nayan': 1, 'javagal': 1, 'venkatesh': 1, 'ashish': 1, 'princeton': 1, 'lyman': 2, 'bailundo': 1, 'savimbi': 1, 'participated': 1, 'joint-commission': 1, 'quartering': 1, 'reality': 1, 'summon': 1, 'subpoena': 3, 'heal': 1, 'confronting': 1, 'basie': 1, 'smit': 1, 'merwe': 1, 'co-operation': 1, 'compiling': 1, 'harrowing': 1, 'frankness': 1, 'subpoenaed': 2, 'human-rights': 1, 'airplane': 1, 'airliner': 6, 'fire-engines': 1, 'cypriot': 1, 'hijacker': 1, 'arch': 7, 'bbl': 1, 'exploratory': 1, 'morinville': 4, 'excess': 1, 'trax': 4, 'et': 4, 'logged': 3, 'leduc': 5, 'reef': 5, 'cometra': 1, '00ths-inch': 1, 'choke': 1, 'encountered': 1, 'nordegg': 1, 'apache': 2, 'saunders': 1, 'depth': 2, 'acreage': 2, 'earning': 2, 'butte': 1, 'garrington': 1, 'barrel': 4, 'brumm': 1, 'biogen': 9, 'berlex': 10, 'leslie': 1, 'gevirtz': 1, 'counsels': 1, 'schering': 1, 'tempest': 1, 'tube': 1, 'violated': 1, 'orphan': 1, 'avonex': 6, 'ms': 1, 'betaseron': 5, 'types': 1, 'interferon': 2, 'biovest': 1, 'hedaya': 1, 'marketplace': 2, 'chiron': 2, 'inventory': 1, 'fda': 2, 'ophran': 1, 'exclusivity': 1, 'diseases': 2, 'differs': 1, 'beta-0b': 1, 'counsel': 1, 'astrue': 1, 'chabora': 1, 'newark': 2, 'depositions': 1, 'bissell': 1, 'preside': 1, 'balances': 4, 'acct': 2, '0,000.000': 2, 'shrugged-off': 1, 'codelco': 1, 'salvador': 3, 'lots': 2, 'huw': 1, 'cbsa': 3, 'brass': 1, 'servicenter': 1, 'coil': 1, 'size-per-order': 1, 'harleysville': 2, 'qrtly': 1, 'enap': 3, 'oriente': 4, 'escravos': 4, 'empresa': 1, 'nacional': 1, 'petroleo': 1, 'ecuadorian': 1, 'vague': 1, 'supplied': 1, 'seller': 2, 'petroecuador': 1, '00-cent': 1, 'iii': 2, 'ghibellines': 1, 'retook': 1, 'florentine': 1, 'guelfs': 1, 'monte': 2, 'aperto': 1, 'francois-rene': 1, 'vicomte': 1, 'chateaubriand': 1, 'romantic': 3, 'seminal': 1, 'memoires': 1, \"d'outre\": 1, 'tombe': 1, 'settlers': 2, 'pueblo': 1, 'nuestra': 1, 'senora': 1, 'reina': 1, 'bruckner': 1, 'composer': 3, 'organist': 2, 'symphonies': 1, 'scale': 3, 'masses': 1, 'napoleon': 1, 'franco-prussian': 1, 'skeleton': 1, 'canyon': 1, 'arizona': 1, 'geronimo': 1, 'rebellion': 3, 'surrendered': 3, 'prolific': 2, 'modernist': 1, 'darius': 1, 'milhaud': 1, 'jazz': 1, 'ballet': 1, 'du': 1, 'madame': 1, 'bovary': 1, 'german-born': 1, 'biologist': 1, 'delbruck': 1, 'physiology': 1, 'genetic': 1, 'infect': 1, 'edvard': 1, 'grieg': 1, 'peer': 1, 'gynt': 1, 'suite': 1, 'piano': 1, 'concerto': 1, 'dmytryk': 1, 'crossfire': 1, 'hollywood': 2, 'lovely': 1, 'scout': 1, 'liberated': 1, 'wilhelmina': 1, 'abdicated': 1, 'juliana': 1, 'schuman': 1, 'forth': 1, 'measuring': 3, 'ft': 2, 'majesty': 2, 'schweitzer': 1, 'theologian': 1, 'philosopher': 1, 'acclaimed': 1, 'interpretations': 1, 'j.s.': 1, 'bach': 1, 'brotherhood': 1, 'spitz': 1, 'olympiad': 1, 'e.f.': 1, 'fritz': 1, 'guru': 1, 'author': 2, 'simenon': 1, 'character': 3, 'inspector': 2, 'maigret': 1, 'todor': 1, 'zhivkov': 1, 'embezzling': 1, '0,000th': 1, 'equality': 1, 'noise': 8, 'bigger': 1, 'detecting': 1, 'fining': 1, 'violators': 1, 'complying': 1, 'trimmed': 1, 'decibels': 2, 'loudness': 1, 'nevertheless': 5, 'worthwile': 1, 'goschen': 1, 'quieter': 1, 'consultation': 1, 'applied': 2, 'busiest': 1, 'repositioned': 1, 'detect': 1, 'beats': 1, 'team-mates': 1, 'redraw': 1, 'union-england': 1, 'exclusive': 5, 'kiernan': 1, 'one-dayers': 1, 'christchurch': 2, 'dunedin': 1, 'heels': 2, 'caf': 2, 'inability': 1, 'bangui': 1, 'internationally-sponsored': 1, 'sierra': 11, 'leone': 2, 'examining': 1, 'dossier': 1, 'burundi-central': 1, 'disqualify': 1, 'fast-tracks': 1, 'asylum-seekers': 1, 'fast-tracking': 1, 'dissidents': 6, 'fast-tracked': 1, 'processing': 1, 'referred': 1, 'garrett': 1, 'lambert': 2, 'disposition': 1, 'suppose': 1, 'guess': 1, 'preferential': 1, 'patten': 1, 'post-0000': 1, 'ivorian': 5, 'abidjan': 4, 'lapke': 1, 'populaire': 2, 'questioning': 1, 'confidential': 2, 'voie': 4, 'insulting': 1, 'henri': 2, 'konan': 3, 'bedie': 5, 'asec': 1, 'excessive': 2, 'pardoned': 3, 'incitement': 1, 'disturb': 1, 'freetown': 2, 'leonean': 1, 'foindu': 2, 'fallah': 1, 'sewa': 2, 'overran': 2, 'mano': 1, 'junction': 1, 'tongo': 1, 'ascribed': 1, 'uncontrolled': 1, 'bands': 1, 'ivory': 3, 'ruf': 1, 'chiluba': 2, 'shuffles': 1, 'vacancy': 2, 'zambian': 1, 'shuffled': 1, 'sacking': 1, 'remmy': 1, 'mushota': 2, 'tribunal': 2, 'coffers': 1, 'luminzu': 1, 'shimaponda': 2, 'machungwa': 1, 'fictitious': 2, 'rid': 2, 'payroll': 2, 'sidia': 1, 'ousmane': 1, 'kaba': 2, 'root': 1, 'guinean': 3, 'bribes': 4, 'expenditure': 1, 'whereas': 1, 'hydroelectric': 2, '=0,000': 1, 'uniting': 1, 'squabbling': 1, 'liberian': 1, 'inauguration': 1, 'vice-chairmen': 1, 'alhadji': 1, 'kromah': 1, 'orgy': 1, 'looting': 1, 'compliance': 4, 'slaves': 1, 'crp': 2, 'istafanus': 1, 'elisha': 1, 'shamay': 1, 'o.k.': 1, 'likkason': 1, 'egurugbe': 1, 'ongoing': 2, 'asuu': 2, 'academic': 2, 'universities': 1, 'tafawa': 1, 'balewa': 1, 'four-month': 1, 'detention': 3, 'colonies': 2, 'pleas': 2, 'clemency': 2, 'versions': 2, 'gypsy': 1, 'topolcany': 3, 'elaborating': 2, 'visits': 3, 'sketch': 1, 'murderer': 1, 'identical': 1, 'portrait': 1, 'father-of-three': 1, 'belgians': 1, 'knifeman': 1, 'knifed': 2, 'agnieszka': 2, 'kotlarska': 4, 'u.s.-based': 1, 'modelling': 1, 'versace': 1, 'vogue': 1, 'wyborcza': 3, 'twa': 4, 'booking': 1, 'attacker': 1, 'jerzy': 1, 'intending': 1, 'slip': 1, 'mokhoff': 4, 'alliance-menatep': 1, 'inactivity': 1, 'babayan': 1, 'centrinvest': 1, 'ues': 3, 'unified': 1, 'chips': 3, 'anybody': 2, 'adrs': 5, 'gazprom': 10, 'converted': 1, 'investing': 2, 'tightened': 3, 'restricting': 1, 'shareholers': 1, 'mosenergo': 1, 'rostelekom': 1, 'lukoil': 1, 'tolkacheva': 1, 'deportations': 1, 'deporting': 1, 'tritan': 1, 'shehu': 2, 'koha': 1, 'jone': 1, 'deported': 2, 'legalise': 1, 'long-standing': 1, 'stumbling': 1, 'bulgarians': 1, 'pre-communist': 1, 'restitution': 2, 'abolished': 1, 'soviet-style': 1, '++000-0': 1, 'vacation': 2, 'staying': 2, 'loudest': 1, 'confusing': 3, 'shiels': 1, 'nagyatad': 4, 'lajos': 1, 'semi-literate': 1, 'bosnian-croat': 1, 'republika': 3, 'srbska': 2, 'override': 1, 'reassert': 1, 'adem': 1, 'hodzic': 1, 'seals': 1, 'bosnia-hercegovina': 1, 'councils': 1, 'invalidated': 1, 'cancellation': 3, 'husein': 1, 'micijevic': 1, 'translators': 1, 'booth': 1, 'seventy': 1, 'mandolina': 1, 'zelic': 1, 'translator': 2, 'ringed': 1, 'szabo': 1, 'studying': 2, 'envelopes': 1, 'inconclusive': 1, 'baltic': 1, '000-strong': 2, 'rebuff': 1, 'toomas': 1, 'savi': 1, 'rosati': 6, 'best-selling': 1, 'marginalised': 1, 'tactical': 1, 'manoeuvre': 1, 'circle': 2, 'unwilling': 1, 'matters': 2, 'chosed': 1, 'harm': 1, 'eastward': 1, 'inevitable': 1, 'resembled': 1, 'soviet-era': 1, 'soars': 1, 'january-may': 1, 'expenditures': 2, 'end-may': 1, 'revise': 1, 'pension': 3, 'indexations': 1, '0.0-percent': 1, 'indexation': 1, 'quickened': 1, 'envisaged': 1, 'leu': 1, 'nicaraguans': 1, 'delinquency': 1, 'bernardo': 1, 'arce': 2, 'advised': 3, \"gov't\": 2, 'dodging': 1, 'ernesto': 1, 'samper': 4, 'seem': 1, 'prosecutor-general': 1, 'adolfo': 1, 'salamanca': 2, 'senators': 1, 'myles': 1, 'frechette': 1, 'applauded': 1, 'outcast': 1, 'counternarcotics': 1, 'year-old': 1, 'stemming': 1, 'enthusiastic': 1, 'endorsing': 1, 'lords': 2, 'u.s.-bound': 1, 'penalities': 1, 'prisons': 2, 'contributions': 2, 'quake': 6, 'shakes': 1, 'earthquake': 3, 'richter': 2, 'quepos': 1, 'volcanic': 1, 'seismologicial': 1, 'welcoming': 2, 'santamaria': 1, 'barrier': 1, 'cvrd': 2, 'shelve': 1, 'doce': 1, 'dutra': 2, 'annulled': 1, 'dedicate': 1, 'schomberg': 1, 'yates': 2, 'franked': 1, 'nov': 5, 'reg': 1, 'depreciation': 2, 'bartender': 1, 'bag': 1, 'hometown': 1, 'commuted': 1, 'halting': 1, 'mechanism': 1, 'uncompromising': 1, 'resolutions': 1, 'necessarily': 2, 'binding': 1, 'blasted': 1, 'amounted': 2, 'concerning': 4, 'korei': 1, 'confront': 1, 'confiscation': 1, 'agrees': 1, 'puk-kdp': 1, 'endorse': 5, 'massing': 3, 'centres': 2, 'penetrated': 1, 'reflects': 2, 'aggression': 2, 'safeguarded': 1, 'comfort': 1, 'noble': 2, 'contemplate': 1, 'ina': 4, 'morals': 1, 'abdulsamad': 1, 'hameed': 1, 'contrary': 3, 'blasts': 1, 'ignoring': 2, 'crosson': 1, 'ventura': 1, 'mention': 1, 'outdoor': 1, 'commented': 1, 'laughed': 1, 'anti-drug': 2, 'aggressively': 1, 'flashpoint': 2, 'likened': 2, 'stream': 1, 'missiles': 2, 'needle': 1, 'cigarette': 1, 'poison': 1, 'cocaine': 1, 'marijuana': 5, 'remarks': 4, 'cigarettes': 3, 'well-wishers': 1, 'specifically': 1, 'proposition': 1, 'cultivation': 1, 'medicinal': 1, 'headache': 2, 'ingrown': 1, 'toenail': 1, 'non-political': 1, 'year-olds': 1, 'flanked': 1, 'bush': 7, 'balance-water': 1, 'dist': 1, 'cty': 1, 'ks': 1, '0000a': 1, 'rfdg': 1, '0000b': 1, '-------------------------------------------------------------': 1, '00m': 8, 'weigh': 1, 'underpinned': 1, 'persisted': 1, 'declining': 1, 'firming': 1, 'cash-related': 1, 'random': 1, 'spruce': 1, 'tbf': 3, 'jerry': 3, 'bieszk': 1, 'wheat--rains': 1, 'planting': 4, 'above-normal': 1, 'plains': 2, 'near-ideal': 1, 'extension': 1, 'irony': 1, 'old-timers': 1, 'dust': 1, 'bowl': 1, 'turnabout': 1, 'hodges': 1, 'climatological': 1, 'climatologist': 1, 'mosier': 2, 'panhandle': 1, 'beneficial': 1, 'ideal': 2, 'mositure': 1, 'dolly': 1, 'topsoil': 4, 'adequate': 3, 'settles': 1, 'jacksonville': 1, 'portfolios': 1, 'thrifts': 1, 'discontinued': 1, 'installment': 1, 'amoco': 7, 'yemen': 8, 'sharing': 1, 'shabwa': 3, 'dietsch': 1, 'mees': 1, 'production-sharing': 1, 's-0': 1, 'exploring': 1, 'deferring': 1, 'yemeni': 1, 'amoco-yemen': 1, 'contractor': 1, 'potentially': 2, 'oilfields': 1, 'encyclopedia': 1, 'ludwig': 3, 'defends': 5, 'hostile': 1, 'evelyn': 2, 'leopold': 2, 'lashed': 1, 'windfall': 1, 'army-run': 1, 'lengthy': 2, 'nsanze': 1, 'terence': 4, 'tanzanian': 1, 'julius': 1, 'nyrere': 1, 'unsympathetic': 1, 'buyoya': 2, 'tutsi-run': 1, 'bind': 1, 'gratuitous': 1, 'immolation': 1, 'mothusi': 1, 'nkgowe': 1, 'coups': 3, 'dump': 1, 'heap': 1, 'justification': 1, 'legitimate': 2, 'discussion': 1, 'impose': 1, 'suggests': 1, 'impede': 1, 'chilean': 3, 'cautious': 2, 'defend': 1, 'exposed': 1, 'terroritsts': 1, 'somavia': 1, 'unarmed': 2, 'inaction': 1, 'indiscriminate': 1, 'inderfurth': 1, 'unconditional': 1, 'berne': 1, 'cantons': 1, 'eoe': 1, 'ahold': 1, 'bolswessanen': 1, 'abn': 1, 'amro': 1, 'sucks': 1, 'seven-year-old': 1, 'cheques': 2, 'ventilation': 2, 'pipe': 1, 'canard': 1, 'enchaine': 1, 'sucked': 1, 'confederate': 1, 'eksportfinans': 2, 'suedwest': 2, 'economists': 4, 'suisse': 1, 'flat': 4, 'conf': 1, 'comi': 1, 'medium-term': 1, 'anti-bhutto': 1, 'marched': 3, 'removal': 2, 'benazir': 3, 'bhutto': 7, 'zardari': 2, 'nawaz': 2, 'sharif': 6, 'muslim': 3, '00-party': 1, 'nepotism': 1, 'colourful': 1, 'chanting': 1, 'anti-government': 1, 'balochistan': 1, 'quetta': 1, 'extra-judicial': 1, 'youths': 1, 'mohajir': 1, 'mqm': 4, 'turn-out': 1, 'mobilised': 1, 'turbulent': 1, 'calmer': 1, 'speaks': 2, 'urdu-speaking': 1, 'migrated': 1, 'descendants': 1, 'disaster': 1, 'dislodge': 1, 'holy': 1, 'acc': 8, 'apr-jul': 1, 'april-july': 1, 'nani': 1, 'palkhivala': 5, 'april-march': 1, 'grinding': 1, 'inadequate': 1, 'infrastructural': 1, 'shortages': 1, 'achieved': 2, 'retaining': 1, 'wsrl': 4, 'kredietbank': 1, 'welspun': 2, 'stahl': 1, 'rohren': 1, 'part-finance': 1, 'submerged': 1, 'welded': 3, 'pipes': 5, 'maturing': 2, 'indusind': 1, 'uti': 1, 'gujarat': 1, 'annum': 2, 'longitudinal': 2, 'spiral': 1, 'yarn': 3, 'towels': 1, 'polyester': 1, 'fishermen': 12, 'p.v.': 1, 'krishnamoorthy': 1, 'rameswaram': 3, 'mid-sea': 1, 'accosts': 1, 'arulanandam': 2, 'nadu': 2, 'tamil-speaking': 1, 'karunanidhi': 1, 'influx': 2, 'officals': 1, 'impounded': 1, 'trawlers': 1, 'licenses': 1, 'bose': 2, 'assurance': 2, 'revoke': 1, 'coerced': 2, 'palk': 1, 'pesalai': 1, 'fish': 1, 'chinnathambi': 1, 'unfair': 2, 'penalise': 1, 'fisheries': 1, 'enforce': 1, 'pomfret-rich': 1, 'offerings': 1, 'bales': 3, 'vw': 4, 'carmaker': 3, 'adelt': 2, 'passat': 1, 'sedan': 1, 'gilardi': 2, 'miltiadis': 5, 'evert': 8, 'alexandroupolis': 3, 'nd': 7, 'businessmen': 1, 'depart': 2, 'unleashing': 1, 'seven-point': 1, 'merchants': 2, 'professionals': 1, 'pensions': 3, 'drachmas': 3, 'absorption': 1, 'evasion': 2, 'accelerate': 1, 'component': 1, 'pushes': 1, 'griffiths': 1, 'chip': 2, '0000.0': 1, 'rebounded': 1, 'jeopardise': 1, 'tie-up': 1, 'link-up': 1, 'better-than-expected': 1, 'non-eu': 1, 'nonetheless': 1, 'buoyed': 1, 'viannet': 1, 'communist-led': 1, 'cgt': 1, 'firmer': 3, 'gauge': 1, 'rock-bottom': 1, 'boj': 8, 'predictions': 3, 'improving': 1, 'backbone': 3, 'spectacular': 1, 'breakout': 1, 'baader': 1, 'slippage': 1, 'faltering': 1, '0=.0000': 1, 'aei': 2, 'iso': 2, 'twenty-second': 1, 'accreditation': 1, 'veritas': 1, 'accredited': 1, 'iberfreight': 1, 'alicante': 1, 'bilbao': 1, 'seville': 1, 'valencia': 1, 'wafa': 1, 'stupidity': 1, 'strongest': 2, 'expand': 3, 'kiryat': 1, 'sefer': 1, 'demolishing': 1, 'idiots': 1, 'stupid': 1, 'withdrawing': 1, 'hurting': 1, 'bethlehem': 1, 'cater': 1, 'labourers': 2, 'al-aqsa': 1, 'christians': 1, 'bombings': 2, 'halves': 1, 'abandoning': 1, 'diplomacy': 1, 'bells': 2, 'mahmoud': 1, 'abbas': 1, 'mazen': 1, 'dore': 1, 'promises': 4, 'pressing': 2, 'long-delayed': 1, 'hebron': 3, 'redeployment': 1, 'yitzhak': 1, 'mordechai': 1, 'omer': 2, 'akbel': 4, 'prodi': 2, 'tunceli': 1, 'fsa': 1, 'qualifies': 1, 'muni': 2, 'ansgar': 1, 'obligation': 5, 'avalon': 1, 'borough': 1, 'gos': 1, 'seaford': 1, 'n.y.': 1, 'colo': 2, 'taxable': 2, 'fac': 1, 'auth': 1, 'assoc': 1, 'lamm': 5, 'ticket-cnn': 1, 'cnn': 2, 'competed': 1, 'three-term': 1, 'vied': 1, 'disillusioned': 1, 'horizons': 2, 'donaldson': 1, 'lufkin': 1, 'jenrette': 1, 'payout': 1, 'mull': 1, 'vowinkel': 1, 'appeals': 3, 'reorganisation': 2, 'chiate': 4, 'reinsure': 1, 'liabilities': 3, 'equitas': 3, 'rowland': 1, 'litigation': 4, 'chairmen': 1, 'gale': 1, 'norton': 2, 'immunizes': 1, 'seeks': 1, 'rescision': 1, 'alternate': 1, 'remedy': 1, 'individually': 1, 'rejection': 2, 'forfeiting': 1, 'risking': 1, 'rejecting': 2, 'gestures': 5, 'bavarian': 1, 'detail': 2, 'nuremberg-based': 1, 'duty': 2, 'prosecutors': 9, 'adolf': 1, 'infamous': 1, 'prosecute': 1, 'gun-wielding': 1, 'pistol': 3, 'overtook': 1, 'photographed': 2, 'potsdam': 1, 'nerve': 1, 'coercion': 1, 'file': 2, 'degrading': 1, 'lets': 1, 'commit': 1, 'clerk': 1, 'u': 1, 'indecency': 1, 'performing': 1, 'sadistic': 2, 'torture': 1, 'oral': 1, 'fanfare': 1, 'alerted': 2, 'packages': 1, 'sep': 11, 'archaeological': 2, 'reppas': 3, 'theodoros': 1, 'pangalos': 1, 'coincide': 1, 'celebrations': 1, 'components': 2, 'refer': 2, 'cavorting': 2, 'ducruet': 4, 'bodyguard': 1, 'naked': 2, 'poolside': 1, 'tremila': 2, 'gente': 2, 'undressing': 1, 'embracing': 1, 'sunbed': 1, 'explicit': 2, 'fili': 1, 'houteman': 2, 'dancer': 1, 'cabaret': 1, 'principality': 1, 'rainier': 3, 'disapproved': 1, 'caroline': 1, 'villefranche': 1, 'cameras': 1, 'sound-track': 1, 'almeida': 1, 'saxony': 1, 'ip': 3, 'acucar': 1, 'auchan': 1, 'camat': 1, 'agf-iart': 1, 'clears': 1, 'billa': 1, 'rewe-handelsgruppe': 1, 'anita': 1, 'gradin': 1, 'exploitation': 1, 'stockholm': 4, 'eurostat': 1, 'march-may': 1, 'tomato': 2, 'warriors': 1, 'bunol': 3, 'pelted': 1, 'armfuls': 1, 'ripe': 1, 'tomatoes': 2, 'coated': 1, 'blood-red': 1, 'firework': 1, 'fruit-throwing': 1, 'frenzy': 1, 'hurl': 1, 'occasion': 1, 'historians': 1, 'disgruntled': 1, 'locals': 1, 'spontaneously': 1, 'bombard': 1, 'fiesta': 1, 'boo-nee-ol': 1, 'fame': 2, 'grown': 1, 'imerisia': 1, 'pre-election': 2, 'heats': 1, 'includind': 1, 'pasok': 1, 'scrambles': 1, 'slaps': 1, 'coupons': 1, 'upcoming': 2, 'kathimerini': 1, 'inflows': 2, 'post-election': 1, 'subway': 1, 'snags': 1, 'overshoot': 1, 'lighten': 1, 'kerdos': 1, 'vows': 2, 'mesures': 1, 'kicks': 1, 'yannos': 1, 'papandoniou': 1, 'drachma': 2, 'constantine': 1, 'mitsotakis': 1, 'shake': 1, 'naftemboriki': 1, 'annually': 1, 'georgiopoulos': 2, 'hoek': 2, 'loos': 2, 'gases': 1, 'stagecoach': 4, 'swebus': 4, 'principle': 2, 'stg-plus': 1, 'vendors': 1, 'see-saw': 2, 'ninety-day': 1, 'samurai': 1, 'eurokiwi': 1, 'issuance': 1, 'certainty': 1, 'guinness': 2, 'peat': 2, 'gpg': 5, 'profitability': 3, 'inevitably': 1, 'weiss': 3, 'pleasing': 1, 'stemmed': 1, 'consolidate': 1, 'tyndall': 1, 'mid-east': 1, 'newcrest': 4, 'abnormals': 1, 'telfer': 4, 'boddington': 1, 'grades': 1, 'evades': 1, 'dense': 2, 'bushland': 2, 'occured': 1, 'glenwood': 2, 'maryborough': 1, 'emergent': 1, 'quarantine': 1, 'sightings': 1, 'self-loading': 1, 'probability': 1, 'bushman': 1, 'fixed-wing': 1, 'cordon': 1, 'sq': 2, 'littered': 2, 'caves': 1, 'hideout': 1, 'enabled': 1, 'evade': 1, 'heated': 1, 'tasmania': 1, 'rampage': 1, 'penal': 1, 'ek': 2, 'chor': 4, 'motorcyle': 1, 'shanghai-ek': 2, 'sino-thai': 1, 'engines': 3, 'pudong': 1, 'automobile': 1, 'xingfu': 1, 'motorcycles': 1, 'khmer': 5, 'rouge': 4, 'ieng': 6, 'sary': 4, 'pot': 5, 'aranyaprathet': 1, 'dissident': 1, 'hardliners': 2, 'dnum': 1, 'cambodian': 1, 'ta': 1, 'mok': 1, 'dictatorial': 2, 'copy': 3, 'absentia': 1, 'cambodia': 4, 'overwork': 1, 'french-educated': 1, 'brother-in-law': 1, 'phnom': 3, 'penh': 3, 'russian-made': 1, 'mi-00': 1, 'mouly': 2, 'resupply': 1, 'stung': 1, 'treng': 1, 'mof': 1, 'kubo': 6, 'geared': 1, 'worsening': 1, 'supplementary': 2, 'contraction': 1, 'smoothly': 3, 'mid-september': 2, 'april-june': 1, 'acknowledge': 1, 'wartime': 3, 'tide': 1, 'resurgent': 1, 'militarism': 1, 'atrocities': 4, 'unrepentant': 1, 'militarists': 1, 'undecided': 1, 'indignant': 1, 'shrine': 1, 'dedicated': 1, 'whitewash': 1, 'genuinely': 1, 'apologised': 2, 'remorse': 1, 'sakigake': 7, 'masayoshi': 1, 'takemura': 6, 'smallest': 1, 'ldp': 2, 'destabilise': 1, 'splits': 1, 'reform-oriented': 1, 'yukio': 1, 'hatoyama': 5, 'snubbed': 1, 'pointedly': 1, 'allies': 2, 'resolve': 2, 'backers': 1, 'tainted': 1, 'ldp-dominated': 1, 'unpopular': 1, 'taxpayer': 1, 'ruined': 1, 'stalled': 3, 'defectors': 1, 'bolts': 1, 'lawmakers': 2, 'eight-month-old': 1, 'dissolve': 3, 'reconvenes': 1, 'hing': 3, 'engages': 1, 'warehousing': 1, 'hurled': 2, 'consulate-general': 1, 'stromme': 2, 'molotov': 2, 'cocktail': 2, 'parking': 1, 'novelist': 2, 'dai': 3, 'houying': 1, 'revolution': 2, 'intellectuals': 1, 'anhui': 1, 'teacher': 1, 'hawaii': 1, 'ren': 2, 'translated': 1, 'hwa': 2, 'kay': 2, 'plunges': 1, 'unloaded': 1, 'editorials': 1, 'straights': 1, 'beijing-funded': 1, 'wen': 1, 'wei': 1, 'stem': 1, 'ming': 1, 'newly-established': 1, 'lead-up': 1, 'judiciary': 2, 'subjected': 1, 'survival': 1, 'indecisive': 1, 'hesitancy': 1, 'frees': 1, 'dahman': 3, 'gaza-based': 1, 'addameer': 1, 'attorney-general': 1, 'khaled': 1, 'al-qidra': 1, 'qidra': 2, 'false': 1, 'nahed': 1, 'dahlan': 1, 'headlines': 2, 'pais': 2, 'juvenile': 1, 'aleix': 1, 'vidal-quadras': 1, 'catalan': 3, 'defenestration': 1, 'cinco': 2, 'dias': 2, 'santander': 1, 'conquest': 2, 'gaceta': 2, 'negocios': 2, 'caja': 1, 'banisadr': 6, 'abolhassan': 1, 'commandeered': 1, 'round-the-clock': 1, 'fearing': 2, 'gangland-style': 1, 'machinegun': 1, 'heed': 1, 'sworn': 1, 'enemy': 1, 'chiefs': 2, 'iberia': 1, 'installations': 1, 'consists': 1, 'joulwan': 1, 'sheehan': 1, 'copenhagen': 2, 'cleaning': 2, 'aaxis': 4, 'logo': 1, 'falsified': 1, 'accounts': 1, 'provisions': 2, 'necessitate': 1, '00000000': 1, 'balks': 1, 'balked': 1, 'stringent': 1, 'surpasses': 1, 'sewers': 1, 'interfering': 1, 'augment': 1, 'threaten': 1, 'dha': 2, 'coordinate': 2, 'monies': 1, 'reparations': 1, 'deducted': 1, 'overseeing': 1, 'anticipated': 1, 'supervision': 1, 'york-based': 1, 'overseers': 1, 'percentile': 1, 'emissions': 3, 'caep': 1, 'consultancy': 2, 'overland': 1, 'delegations': 1, 'nis': 2, 'tra': 1, 'iae-0': 1, 'microfiche': 1, 'di': 1, 'micromation': 1, 'gaseous': 1, 'tacis': 2, 'eec': 3, 'wines': 1, 'ecu': 1, 'cull': 2, 'obviously': 2, 'examine': 1, 'kiely': 2, 'methodology': 1, 'slaughtered': 2, 'eradication': 1, 'disappoint': 1, 'predicted': 3, 'infections': 1, 'naish': 3, 'reluctantly': 1, 'placate': 1, 're-examined': 1, 'considerably': 1, 'culled': 1, 'reopen': 1, 'slapped': 1, 'creutzfeldt-jakob': 2, 'cjd': 2, 'bse-infected': 1, 'blockades': 1, 'roadblocks': 1, 'importing': 2, 'radios': 1, 'blockaded': 1, 'motorways': 1, 'discovery': 2, 'chopra': 1, \"o'malley\": 2, 'walton': 2, 'iain': 1, 'romero': 1, 'jimenez': 2, 'antoine': 4, 'lebouc': 2, 'curry': 1, 'affleck': 1, 'sorensen': 5, 'ekimov': 2, 'giunluca': 1, 'gorini': 1, 'breukink': 2, 'wilfried': 1, 'peeters': 1, 'bart': 1, 'voskamp': 2, 'randolph': 1, '00.00:00': 2, 'lietti': 3, 'mg-technogym': 2, 'maarten': 2, 'bakker': 3, 'olaf': 2, 'fifth-stage': 1, 'zevenaar': 1, 'venray': 1, 'one-dayer': 1, 'overs-a-side': 2, 'darryn': 1, 'fiedler': 1, 'florian': 1, 'rousseau': 1, 'georgios': 1, 'chimonetos': 1, 'lampros': 1, 'vasilopoulos': 1, 'magali': 3, 'faure': 4, 'kathrin': 1, 'freitag': 1, 'felicia': 3, 'ballanger': 7, 'grichina': 1, 'tanya': 3, 'dubnicoff': 4, 'annett': 3, 'neumann': 4, 'enioukhina': 1, '00.000).': 1, 'restricts': 1, 'englishmen': 1, 'skying': 1, 'long-on': 2, 'off-side': 1, 'well-flighted': 1, 'pavilion': 1, 'inswinging': 1, 'saqlain': 3, 'edgbaston': 1, 'lombardi': 3, 'polti': 1, 'hans': 2, 'clerq': 1, 'jemison': 1, 'servais': 1, 'knaven': 1, 'fourth-stage': 1, 'doetinchem-doetinchem': 1, 'tunbridge': 1, 'hove': 1, 'athey': 1, 'saggers': 1, 'watkin': 1, 'solanki': 1, 'barnett': 1, 'pooley': 1, 'ramprakash': 1, 'fay': 1, 'mcgeechan': 1, 'grobbelaar': 6, 'england-based': 1, 'bruce': 1, 'zifa': 2, 'vice-chairman': 1, 'pamire': 1, 'five-nation': 1, 'duvillard': 1, 'argyle': 1, 'segers': 1, 'fashanu': 1, 'heng': 1, 'suan': 1, 'lim': 1, 'pleaded': 1, 'accepting': 2, 'jenson': 1, 'krizan': 1, 'lila': 1, 'osterloh': 1, 'nanne': 1, 'dahlman': 1, 'slide': 1, 'yankee': 1, 'mulholland': 1, 'bench-clearing': 1, 'kingdome': 1, 'ejected': 1, 'marzano': 1, 'brushed': 1, 'wengert': 2, 'nine-hitter': 1, 'herrera': 1, 'minors': 1, 'baldwin': 2, 'ozzie': 1, 'guillen': 1, 'nilsson': 1, 'offerman': 1, 'rick': 1, 'huisman': 1, 'hentgen': 2, 'tossing': 1, 'orel': 1, 'hershiser': 2, 'belle': 1, 'yorkers': 1, 'new-found': 1, 'aggressiveness': 1, 'adjusting': 1, 'louder': 1, 'messed': 1, 'adrenalin': 1, 'lanes': 1, 'pitching': 1, 'winningest': 1, 'ron': 1, 'wright': 1, 'double-a': 1, 'greenville': 1, 'pointer': 1, 'class-a': 1, 'mid-season': 1, 'minor-league': 1, 'phenom': 1, 'andruw': 1, 'post-season': 1, 'abdellaoui': 1, 'graef': 1, 'honour': 1, 'assembled': 1, 'quartets': 1, 'anchor': 1, 'autograph': 1, 'ornate': 1, 'dillard': 1, 'lindy': 1, 'remigino': 1, 'hines': 1, 'hasely': 1, 'crawford': 1, 'inspired': 2, 'grand-daughter': 1, 'gina': 1, 'tillman': 1, 'bachini': 1, 'emon': 3, 'bois': 1, 'bronckhorst': 1, 'ferdy': 1, 'romania-hungary': 1, 'much-delayed': 2, 'positively': 1, 'neighbourly': 1, 'consulates': 1, 'thessaloniki': 1, 'observance': 1, 'picks': 1, 'bold': 2, 'ogilvy': 2, 'mather': 2, 'communication': 1, 'linked': 3, 'divorces': 1, 'romantically': 1, 'petition': 1, 'presenter': 1, 'mocked': 1, 'gymnasium': 1, 'liffe': 1, 'apt': 3, 'automated': 1, 'pit': 1, 'tabular': 1, 'gilt': 1, 'eurolira': 1, 'euroswiss': 1, 'installs': 1, 'kinshasa': 2, 'cne': 1, 'deployed': 1, 'deadlines': 1, 'yoka': 1, 'lye': 1, 'mudaba': 1, 'progressively': 1, 'maniema': 1, 'shaba': 1, 'bandundu': 1, 'installation': 1, 'mobutu': 2, 'sese': 1, 'seko': 1, 'object': 2, 'insists': 1, 'ikimi': 3, 'fact-finding': 2, 'wanting': 1, 'ministerial': 1, 'continuation': 1, 'saro-wiwa': 1, 'restricted': 1, 'beatrix': 2, 'guns': 4, 'forbidden': 1, 'categories': 1, \"n'djamena\": 1, 'idriss': 1, 'deby': 3, 'nomads': 1, 'fraternite': 1, 'matin': 2, 'establishes': 1, 'decentralisation': 1, 'bauza': 1, 'donwahi': 1, 'douati': 1, 'alphonse': 1, 'illicit': 1, 'swine': 1, 'jour': 1, 'lakpe': 1, 'appoints': 1, 'severin': 1, 'kouame': 1, 'tanny': 1, 'mahala': 4, 'zvornik': 4, 'lieutenant': 1, 'marriner': 3, 'retaliation': 1, 'angry': 2, 'mob': 1, 'long-barreled': 1, 'ak-00': 1, 'lightning': 2, 'berovo': 1, 'cathedral': 1, 'thunderstorm': 1, 'kornblum': 6, 'milosevic': 4, 'greste': 1, 'slobodan': 1, 'defuse': 1, 'manipulation': 1, 'srpska': 1, 'bolster': 2, 'patron': 1, 'rectify': 1, 'expulsions': 1, 'blessing': 1, 'banja': 1, 'luka': 1, 'biljana': 1, 'plavsic': 1, 'oversee': 1, 'mini-state': 1, 'choosing': 1, 'three-member': 1, 'comprised': 1, 'rbls': 1, 'rao': 1, 'roubles': 5, 'ffk': 3, 'illiquid': 1, 'harder': 1, 'artyom': 1, 'danielyan': 1, 'kosovo': 4, 'boycotted': 1, 'institutions': 3, 'bajgora': 1, 'donje': 1, 'ljupce': 1, 'podujevo': 1, 'celopek': 1, 'revoked': 1, 'cracked': 1, 'moderates': 1, 'cradle': 1, 'meningitis': 4, 'emanuil': 1, 'ceausu': 1, 'babes': 1, 'infectious': 2, 'virus': 7, 'lasts': 1, 'gastro-intestinal': 1, 'tract': 1, 'vukasin': 1, 'filipovic': 3, 'supplying': 1, 'staging': 2, 'mismanagement': 1, 'finmin': 1, 'raul': 1, 'matos': 2, 'azocar': 1, 'imf-hosted': 1, 'seminar': 2, 'metric': 1, 'sail': 1, 'cartagena': 1, 'coffee': 2, 'non-oil': 1, 'non-traditional': 2, 'ocei': 2, 'imf-sponsored': 1, 'foods': 1, 'jpr': 1, 'cops': 1, 'racket': 3, 'thirteen': 1, 'lago': 1, 'nacion': 1, 'credibility': 1, 'undermined': 1, 'scandals': 1, 'indictment': 1, 'piotti': 2, 'dishonest': 3, 'purged': 1, 'brave': 1, 'kandir': 1, 'constitutionally': 1, 'same-day': 2, 'cetes': 2, 'nervousness': 4, 'co-ordinated': 1, 'acceptances': 1, 'pagares': 1, 'longer-term': 1, 'masked': 2, 'oaxaca': 1, 'assaults': 1, 'credits': 1, 'oversupply': 1, 'shortfall': 2, 'inflow': 1, 'lezama': 1, 'newroom': 1, 'chilpancingo': 1, 'pre-electoral': 1, 'bickering': 1, 'acatepec': 1, 'fanned': 1, 'intimidate': 1, 'stirred': 1, 'agir': 1, 'ensemble': 1, 'pour': 2, 'droits': 1, \"l'homme\": 1, 'exerted': 1, 'psychological': 1, 'grabs': 1, 'aguirre': 2, 'pessina': 3, 'restaurants': 3, 'travelled': 1, 'condemn': 1, 'day-to-day': 1, 'punish': 1, 'landless': 4, 'peasants': 4, 'countryside': 2, 'ecumenical': 1, 'endemic': 1, 'thirty-six': 1, 'massacred': 1, 'para': 1, 'lucas': 1, 'moreira': 1, 'neves': 1, 'bishops': 1, 'flees': 1, 'passport': 4, 'consular': 1, 'anti-corruption': 1, 'soliciting': 1, 'icac': 6, 'anti-graft': 1, 'bribe': 1, 'scams': 1, 'honduran': 1, 'passports': 1, 'thinks': 2, 'solve': 1, 'woes': 1, 'rajapat': 1, 'warnings': 2, 'pullouts': 1, 'chatichai': 1, 'choonhavan': 1, 'chavalit': 1, 'yongchaiyudh': 1, 'aspiration': 1, 'insincere': 1, 'slowdown': 1, 'switched': 1, 'monarchy': 1, 'yassin': 6, 'ramle': 1, 'fundamentalist': 2, 'wrecking': 1, 'confined': 1, 'freeing': 1, 'skhirat': 3, 'purely': 1, 'vital': 3, 'conlon': 1, 'triumphal': 2, 'abruptly': 1, '000-an-hour': 2, 'eavesdrop': 1, 'conversations': 1, 'campaigns': 1, 'invaluable': 1, 'captivated': 1, 'worried': 1, 'senator': 2, 'dianne': 1, 'feinstein': 2, 'bump': 1, 'dogged': 1, 'wrongdoing': 1, 'misconduct': 1, 'questionable': 1, 'judgment': 2, 'selecting': 1, 'advisers': 1, 'revert': 1, 're-elected': 2, 'revelled': 1, 'heartland': 1, 'hoarse': 1, 'voice': 1, 'resolute': 1, 'wit': 1, 'stilted': 1, 'glib': 1, 'piper': 2, 'jaffray': 2, 'tax-exempt': 1, 'compiled': 1, '-------------------------': 1, 'a-rated': 5, \"gen'l\": 4, '-----': 1, 'rev': 1, 'muscular': 4, 'dystrophy': 4, 'gene-therapy': 1, 'technique': 1, 'telethon': 1, 'method': 1, 'muscle': 5, 'degenerates': 1, 'adulthood': 1, 'non-working': 1, 'producing': 1, 'dystrophin': 4, 'altered': 3, 'common-cold': 1, 'minimise': 1, 'susceptibility': 1, 'injected': 1, 'mice': 2, 'bred': 1, 'genes': 1, 'experiment': 1, 'fibers': 1, 'diminishing': 1, 'test-tube': 1, 'immune-system': 1, 'oilseeds': 1, 'oilseed': 2, 'assn': 2, 'cargill': 4, 'mitsui': 1, 'dreyfus': 3, 'dns': 4, 'ww': 3, 'donation': 1, 'taichung': 1, 'procurement': 1, 'soybeans': 5, 'bunge': 1, 'pnw': 1, '.0000': 1, 'pl-000': 1, 'buyer': 2, 'upland': 1, 'sorghum': 1, 'pima': 1, 'poultry': 1, 'fruits': 1, 'gaining': 1, 'quota': 1, 'onic': 1, 'panel': 4, 'cutout': 1, 'offal': 2, 'moines': 1, 'steer': 1, 'help-wanted': 4, 'uneven': 2, 'goldstein': 2, 'want-ad': 1, 'hiring': 1, 'matched': 1, 'heist': 1, 'jewelry': 6, 'showboat': 1, 'capt': 1, 'andrews': 3, 'videotape': 2, 'suitcase': 1, 'resembling': 1, 'wholesaler': 1, 'schein': 2, 'suitcases': 2, 'closet': 1, 'jewellers': 1, 'mid-twenties': 1, 'distract': 1, 'mcgilley': 1, 'description': 1, 'o.j.': 2, 'simpson': 7, 'hints': 1, 'financially': 1, 'jury': 1, 'gag': 1, 'prohibits': 1, 'acquittal': 1, 'crying': 1, 'blues': 1, 'erroneous': 1, 'jam-packed': 1, 'distanced': 1, 'buffalo': 1, 'wildly': 1, 'supportive': 1, 'gifts': 1, 'year-long': 1, 'limelight': 1, 'supermarket': 1, 'reprinted': 1, 'editions': 1, 'vitriol': 1, 'journalism': 2, 'dignify': 1, 'surgeon': 5, 'discarding': 1, 's.c.': 1, 'amputated': 2, 'improperly': 1, 'disposed': 1, 'deformed': 1, 'infant': 1, 'prosthesis': 1, 'orthopedic': 1, 'educational': 1, 'freezer': 2, 'spoiled': 1, 'crab': 1, 'trap': 1, 'flesh': 1, 'cop': 1, 'shrub': 2, 'guys': 2, 'bagged': 1, 'checker': 1, 'pines': 2, 'drive-through': 1, 'toting': 1, 'earl': 1, 'feugill': 2, 'camouflaged': 1, 'shaggy': 1, 'freeze': 1, 'marines': 1, 'attaching': 1, 'strips': 1, 'burlap': 1, 'disguise': 1, 'staking': 1, 'robberies': 1, 'fast-food': 1, 'stakeout': 1, 'dla': 1, 'logistics': 1, 'nbc': 1, 'consultant': 1, 'reshaped': 1, 'ms-nbc': 1, 'ire': 1, 'repositioning': 1, 'gluten': 7, 'meal': 5, 'steady-higher': 1, 'pickup': 1, 'pellets': 2, 'decatur': 1, 'il': 1, 'cedar': 1, 'rapids': 1, 'ia': 1, 't': 1, 'cereals': 1, 'ecus': 2, 'provisionally': 1, 'optional-origin': 1, 'enjoys': 1, 'subtracting': 1, 'shipyard': 2, 'cherbourg': 2, 'yeard': 1, 'cutback': 1, 'indre': 1, 'managements': 1, 'curtail': 1, 'estates': 4, 'hub': 1, 'gadoon': 1, 'unearthed': 2, 'police-run': 1, 'cages': 1, 'tando': 1, 'allahyar': 1, 'hyderabad': 1, 'recorder': 1, 'sui': 2, 'technologists': 1, 'sugarcane': 1, 'pillaged': 1, 'gujar': 1, 'megawatt': 1, 'on-line': 2, 'mohib': 1, 'textile': 1, 'defaulted': 1, 'leasing': 1, 'modarabas': 1, 'multiply.q': 1, 'shahid': 1, 'privatisation': 2, 'sindh': 1, 'ad-interim': 1, 'restraining': 1, 'javedan': 1, 'dadabhoy': 1, 'pvt': 2, '0000-000000': 1, 'directions': 1, 'occupying': 1, 'rebelled': 1, 'wrecked': 1, 'heavily-mined': 1, 'halo': 1, 'roadsides': 1, 'qotbuddin': 1, 'hilal': 1, 'officiated': 1, 'sprinkling': 1, 'petrol': 1, 'andhra': 1, 'pradesh': 1, 'rarest': 1, 'beings': 1, 'roasted': 1, 'appellants': 1, 'plotted': 1, 'k.t.': 1, 'elephant': 4, 'tramples': 1, 'rampaging': 1, 'trampled': 2, 'hari': 1, 'maya': 1, 'poudels': 1, 'madhumalla': 1, 'asleep': 2, 'beast': 1, 'kingdoms': 1, 'elephants': 2, 'overrun': 2, 'kudapokuna': 1, 'welikanda': 1, 'army-controlled': 1, 'vavuniya': 2, 'undercover': 2, 'vicorp': 2, 'sabourin': 3, 'cfo': 1, 'denver': 1, 'bestop': 1, 'boulder': 1, 'socal': 2, 'edison': 3, 'kilovolt': 1, 'kv': 5, 'wildfire': 1, 'raging': 1, 'conroy': 3, 'crews': 1, 'fire-related': 1, 'residues': 1, 'megawatts': 1, 'mw': 2, 'containment': 1, 'arid': 1, 'windy': 1, 'leong': 1, 'munis': 1, 'municipals': 1, 'semiconductor': 3, 'expectation': 1, 'emerge': 1, 'modem': 4, 'modem-chip': 2, 'fast-growing': 1, 'networking': 2, 'elias': 1, 'moosa': 1, 'roberston': 1, 'pmc-sierra': 2, 'chipsets': 1, 'severance': 1, 'randall': 2, 'soundview': 1, 'focusing': 2, 'fastest-growing': 1, 'much-larger': 1, 'develops': 1, 'shrink': 1, 'hambrecht': 1, 'quist': 1, 'low-margin': 1, 'pmc': 1, 'slowing': 1, 'housecall': 4, 'sink': 1, 'underperform': 1, 'atlanta-based': 1, 'non-medicare': 1, 'hospice': 1, 'limitation': 1, 'subsidiaries': 2, 'forma': 5, 'oasis': 2, 'gallagher': 3, 'obscene': 1, 'swore': 1, 'hate': 1, 'f...': 1, 'supermodel': 1, 'noel': 2, 'laryngitis': 1, 'house-hunting': 1, 'patsy': 1, 'kensit': 1, 'tickets': 1, 'slough': 5, 'upbeat': 1, 'pretax': 1, '00p': 1, '0p': 3, '000p': 2, 'hammerson': 1, 'warburg': 6, 'stances': 1, 'maintaining': 1, 'rental': 1, 'incomes': 1, 'shaved': 1, 'nigel': 1, 'mobbs': 1, 'birt': 1, 'shrinks': 1, 'seasonally': 2, 'canadians': 1, 'burea': 1, 'palestinian-ruled': 1, 'shaken': 2, 'backdrop': 1, 'four-hour': 3, 'espionage': 1, 'rings': 2, 'jomhuri': 1, 'eslami': 1, 'photographing': 1, 'pan-turkism': 1, 'exiles': 1, 'fallahiyan': 1, 'distillates': 1, 'kerosene': 5, 'sort': 2, 'noticeable': 1, 'differential': 1, 'ports': 1, 'exceed': 1, 'cargoes': 6, 'lowest': 1, 'suspicious': 1, 'overhang': 1, 'sulphur': 2, 'manuscript': 3, 'thieves': 4, 'testament': 1, 'al-akhbar': 1, 'undated': 1, 'pretended': 1, 'wyche': 1, 'invoked': 1, 'recess': 1, 'confirming': 1, 'predecessor': 2, 'mabus': 1, 'shops': 2, 'shutters': 1, 'exporters': 1, 'purchasing': 1, '000,000-a': 1, '00,000-b': 2, 'a-': 1, 'b-': 1, 'destinations': 1, 'southland': 2, 'mainframe': 1, 'delivering': 1, 'real-time': 1, 'constitutes': 1, 'contends': 1, 'misappropriating': 1, 'nba': 2, 'continually': 1, 'baxter': 1, 'immuno': 1, 'miilion': 1, 'secures': 1, 'cos': 1, 'chipset': 1, 'hotels': 1, 'doubletree': 1, 'five-point': 1, 'toxic': 1, 'stock-trade': 1, 'h&r': 1, 'compuserve': 1, 'impasse': 1, 'authorised': 1, 'trashed': 1, 'nudge': 1, 'gop': 1, 'reporter': 1, 're-nomination': 2, 'state-by-state': 1, 'beachcomber': 1, 'highlands': 1, 'foot-long': 1, 'debris': 3, 'bearing': 1, 'markings': 1, 'conducting': 2, 'fireball': 1, 'wallets': 1, 'shoes': 2, 'mechanical': 1, 'leila': 1, 'corcoran': 1, 'writes': 1, 'still-enslaved': 1, 'pleads': 1, 'abraham': 1, 'maimed': 1, 'poses': 1, 'volunteers': 2, 'preserved': 2, 'microfilm': 2, 'stowed': 1, 'rarely': 2, 'enlistment': 1, 'discharge': 3, 'certificates': 1, 'unveiling': 1, 'memorial': 1, 'shall': 3, 'oportunity': 1, 'enjoyment': 1, 'sic': 2, 'slavery': 1, 'oppreses': 1, 'liberty': 1, 'outpouring': 1, 'coloured': 1, 'curse': 1, 'separated': 1, 'well-to-do': 1, 'matron': 1, 'plead': 1, 'dishonourable': 1, 'prisoner': 1, 'thoughtless': 1, 'folly': 1, 'notation': 1, 'regiment': 1, 'pardon': 1, 'anguish': 1, 'amputee': 1, 'terrible': 1, 'haunted': 1, 'posed': 1, 'bare-chested': 1, 'insight': 2, 'rhythms': 1, 'carbondale': 1, 'editor': 1, 'gen': 1, 'ulysses': 1, 'writings': 1, 'poetic': 1, 'linguistic': 1, 'treasure': 1, 'trove': 1, 'sociology': 1, 'seared': 1, 'consciousness': 1, 'confederacy': 1, 'retirees': 1, 'budge': 1, 'weidman': 1, 'shepherded': 1, 'predicts': 1, 'databases': 1, 'battlefields': 1, 'discharged': 1, 'incapacity': 1, 'inebetude': 1, 'arise': 1, 'masturbation': 1, 're-nominate': 1, 'vow': 1, 'sylvie': 1, 'ajaccio': 2, 'mediterranean': 1, 'defused': 1, 'get-tough': 1, 'jean-louis': 1, 'debre': 1, 'corse': 1, 'lax': 1, 'widely-reported': 1, 'powerless': 1, 'france-soir': 1, 'beauvau': 1, 'nightly': 1, 'figaro': 1, 'shaky': 1, 'seven-month': 1, 'racked': 1, 'low-level': 1, 'separatist-inspired': 1, 'principally': 1, 'backlash': 1, 'om': 12, 'gruppen': 4, 'omlx': 1, 'pulpex': 5, 'pulp': 5, 'timber': 1, 'recycled': 1, 'complements': 1, 'softs': 1, 'cocoa': 1, 'unpredictable': 1, 'risky': 1, 'hedge': 1, '+00-0-000': 1, 'amsterdam-rotterdam-antwerp': 2, 'tankage': 1, 'week-ago': 1, '00/0/00': 2, 'naphtha': 2, '00-000': 1, 'kero': 1, 'throughput': 1, 'straight-run': 1, 'bunkering': 1, 'blenkinsop': 1, 'anti-nuclear': 2, 'pantomime': 1, 're-enacting': 1, 'brandished': 1, 'theatre-prop': 1, 'gorleben': 1, 'depot': 1, 'mafia': 4, 'catania': 1, 'sicily': 1, 'slaying': 1, 'nephew': 1, 'puglisi': 3, 'salvatore': 1, 'botta': 2, 'cemetery': 1, 'sicilian': 1, 'hardened': 1, 'anti-mafia': 1, 'tip-off': 1, 'consciences': 1, 'nitto': 1, 'santapaola': 1, 'knelt': 1, 'ambush': 1, 'cemetary': 1, 'canteen': 4, 'limerick': 2, 'warders': 1, 'takings': 1, 'italians': 1, 'hiv-pensioner': 1, 'harassing': 1, 'hookers': 1, 'aids': 2, 'pensioner': 1, 'pietro': 1, 'hiv': 1, 'cruising': 1, 'red-light': 1, 'hurling': 1, 'blanks': 1, 'sighted': 1, 'arctic': 1, 'spitzbergen': 2, 'rune': 1, 'ntb': 1, 'vnukovo': 1, 'tupolev': 1, 'longyearbyen': 1, 'airstrip': 1, 'rescuers': 1, 'three-engine': 1, 'opera': 1, 'mountainside': 1, 'coal-mining': 1, 'barentsburg': 1, 'galeforce': 2, 'meteorological': 2, 'cellars': 1, 'trees': 2, 'uprooted': 1, 'roofs': 1, 'trains': 1, 'cm': 3, 'communes': 1, 'rmt': 2, 'turnhout': 1, 'scouts': 1, 'camping': 1, 'meadow': 1, 'hindered': 1, 'excavations': 1, 'jumet': 1, 'sex-and-murder': 1, 'lightly': 1, 'tides': 1, 'pesetas': 5, 'chemicals': 1, 'madness': 1, 'overreacted': 1, 'nahar': 1, 'liberte': 1, 'leveilly': 1, 'finns': 2, 'sex-abuse': 1, 'captive': 1, 'tampere': 1, 'luxury': 2, 'ilkka': 1, 'laasonen': 2, 'iltalehti': 1, 'audi': 3, 'ingolstadt': 1, 'demel': 4, 'hedged': 1, 'kekkila': 5, 'full-yr': 1, 'fertilisers': 1, 'saplings': 1, 'trend': 5, 'fluctuations': 3, 'end-year': 1, 'interview-t&n': 1, 'untroubled': 1, 't&n': 4, 'bumble': 1, 'predict': 1, 'echoing': 1, 'automotive': 1, 'equally': 1, 'predicting': 1, 'rationalised': 1, 'destocked': 1, 'destocking': 1, 'relaxed': 1, 'cycle': 1, 'fraction': 1, 'commenting': 1, 'piston': 1, 'kolbenschmidt': 1, 'obstacles': 1, 'huddart': 1, 'jolts': 1, 'zealands': 2, 'waiau': 1, 'spa': 1, 'hanmer': 1, 'prone': 1, 'earthquakes': 1, 'smooth': 1, 'trevelyan': 1, 'half-yearly': 1, 'absolutely': 1, 'predicated': 1, 'precepts': 1, 'trough': 1, 'draconian': 1, 'rentals': 1, 'reclamation': 1, 'narrowly': 1, 'downtrend': 1, 'hover': 1, 't$': 2, '0-0000000': 1, 'touching': 1, 'intraday': 1, 'technically': 1, 'doreen': 1, 'siow': 1, '00-0000000': 1, 'siam': 3, 'banker': 1, \"m'bishi\": 1, '0-year': 1, 'tokyo-mitsubishi': 1, 'sep.00': 2, 'int': 2, 'mar.00': 1, 'sub': 1, 'jul-00.jul': 1, 'jcr': 1, 'jbri': 1, 'daewoo': 10, 'dacom': 6, 'commem': 1, 'manufactures': 1, 'ski': 1, 'antara': 1, 'evident': 1, 'happening': 1, 'motivated': 1, 'major-general': 1, 'utomo': 2, 'indonesias': 1, 'extinguished': 1, 'injures': 1, 'exaggerate': 1, 'rents': 1, 'haneda': 1, 'itami': 1, 'beijing-backed': 1, 'post-handover': 1, 'contesting': 2, 'stymies': 1, 'dismantle': 1, 'fully-elected': 1, 'considerable': 1, 'directorate-grade': 1, 'bureaucrats': 1, 'tier': 1, 'mandarin': 1, 'secretaries': 1, 'src': 2, 'barrel-per-day': 1, 'distillation': 1, 'stuck': 1, 'x-ray': 1, 'varied': 1, 'exchanger': 1, 'co-owned': 1, 'petrolem': 1, 'joint-venture': 1, 'chevron': 1, 'texaco': 1, '+00-0000000': 1, 'loxley': 2, 'reviewed': 1, 'mth': 2, 'pvs': 3, 'yr-ago': 2, '000.0**': 3, '+0,0': 2, 'jobless': 3, 'inem': 1, '0.00m': 1, 'cur': 1, '+000.0': 4, 'prod': 1, '+0.0r': 2, 'adj': 1, 'trln': 3, 'govt.budget': 1, 'govt.fcast': 1, 'def': 1, 'qtr': 1, 'epa': 2, '+000,000': 2, 'yr-yr': 1, 'customs-cleared': 1, 'annualised': 1, 'ine': 1, 'variation': 1, 'total-': 1, 'corresponds': 1, 'relate': 1, 'finances': 1, '**general': 1, '000=0000': 2, 'obstructing': 2, 'lasa-zabala': 1, 'gal': 1, 'prescriptions': 1, 'gomez': 1, 'liano': 1, 'aznar': 1, 'bch': 1, 'hive': 1, 'coopers': 1, 'lybrand': 1, 'emigrates': 1, 'lenzing': 4, 'viscose': 2, 'fibre': 1, 'preview': 1, 'schillings': 1, 'fibres': 1, 'economies': 1, 'fundamentalists': 1, 'masterminds': 1, 'ideologists': 1, 'financers': 1, 'clarifications': 1, 'clarification': 1, 'amending': 1, 'donna': 1, 'topic': 1, 'pundits': 1, 'debated': 1, 'forgo': 1, 'unflagging': 1, 'sidestepped': 1, 'strong-dollar': 1, 'bentsen': 1, 'viewed': 1, 'distinctively': 1, 'widness': 3, 'timely': 1, 'instances': 1, 'post-second': 1, 'stands': 1, 'expertise': 1, 'co-chairman': 1, 'faust': 1, 'bailard': 1, 'biehl': 1, 'kaiser': 1, 'awfully': 1, 'bentsen-era': 1, 'greenspan': 1, 'reappointment': 1, 'perelstein': 2, 'mainstay': 1, 'amstetten': 1, 'ewald': 1, 'brenner': 1, 'stieglmair': 1, 'brunmayr': 1, 'marino': 4, 'hartson': 1, 'best-of-three': 1, 'ex-world': 1, '00-kms': 1, 'samokhalova': 3, 'spirited': 1, 'quigley': 3, 'numerical': 1, 'superiority': 1, 'goulnara': 2, 'fatkoullina': 2, 'snatching': 1, 'lapped': 1, 'ingrid': 2, 'haringa': 2, 'lancien': 2, '00-km': 1, 'tatiana': 1, 'stiajkina': 1, 'arndt': 1, 'vikstedt-nyman': 1, 'boyden': 1, 'godras': 1, 'kombouare': 4, 'abderdeen': 1, 'aitken': 1, 'affection': 1, 'ginola': 1, 'influential': 1, 'influenced': 1, 'imola': 1, 'doohan': 1, 'bayle': 1, 'norifumi': 1, 'abe': 1, 'luca': 1, 'cadalora': 1, 'criville': 1, 'tadayuki': 1, 'okada': 1, 'checa': 1, 'shinichi': 1, 'itoh': 1, 'swe': 1, 'bradley': 1, 'hughes': 1, '-docstart-': 1, '<UNK>': 10000000}\n",
            "{'E': 4116, 'U': 1889, 'r': 49730, 'e': 88436, 'j': 1034, 'c': 20946, 't': 60076, 's': 48210, 'G': 2376, 'm': 17231, 'a': 67421, 'n': 57199, 'l': 31189, 'o': 53823, 'b': 9931, 'y': 11575, 'B': 3256, 'i': 55541, 'h': 30705, '.': 12080, 'P': 2701, 'k': 6294, 'u': 20539, 'R': 3952, 'S': 7118, 'L': 3019, '0': 47908, '-': 8500, 'T': 5565, 'p': 14772, 'C': 4540, 'd': 31091, 'g': 14120, 'w': 11401, 'v': 7231, \"'\": 1969, 'W': 1954, 'Z': 308, 'f': 14905, '\"': 2178, ',': 8127, 'N': 4088, 'H': 2104, 'q': 869, 'F': 1963, 'z': 968, '(': 2864, ')': 2863, 'M': 3687, 'O': 3399, 'x': 1669, 'J': 1384, 'I': 4387, '$': 426, 'D': 2572, 'A': 6481, 'K': 1648, 'V': 825, ':': 912, 'X': 118, '/': 486, '+': 186, 'Y': 850, 'Q': 123, '=': 18, '&': 39, '`': 2, ';': 57, '*': 58, '%': 23, '?': 13, '[': 5, ']': 5, '!': 2, '@': 2}\n",
            "{'S-ORG': 3836, 'O': 169579, 'S-MISC': 2580, 'B-PER': 4284, 'E-PER': 4284, 'S-LOC': 6099, 'B-ORG': 2485, 'E-ORG': 2485, 'I-PER': 244, 'S-PER': 2316, 'B-MISC': 858, 'I-MISC': 297, 'E-MISC': 858, 'I-ORG': 1219, 'B-LOC': 1041, 'E-LOC': 1041, 'I-LOC': 116, '<START>': -1, '<STOP>': -2}\n"
          ],
          "name": "stdout"
        }
      ]
    },
    {
      "cell_type": "code",
      "metadata": {
        "id": "pRJ7o5xjeIXm",
        "colab_type": "code",
        "outputId": "de80ea17-b589-4706-f283-337b8c04cc9e",
        "colab": {
          "base_uri": "https://localhost:8080/",
          "height": 340
        }
      },
      "source": [
        "list(dico_tags.keys())"
      ],
      "execution_count": 47,
      "outputs": [
        {
          "output_type": "execute_result",
          "data": {
            "text/plain": [
              "['S-ORG',\n",
              " 'O',\n",
              " 'S-MISC',\n",
              " 'B-PER',\n",
              " 'E-PER',\n",
              " 'S-LOC',\n",
              " 'B-ORG',\n",
              " 'E-ORG',\n",
              " 'I-PER',\n",
              " 'S-PER',\n",
              " 'B-MISC',\n",
              " 'I-MISC',\n",
              " 'E-MISC',\n",
              " 'I-ORG',\n",
              " 'B-LOC',\n",
              " 'E-LOC',\n",
              " 'I-LOC',\n",
              " '<START>',\n",
              " '<STOP>']"
            ]
          },
          "metadata": {
            "tags": []
          },
          "execution_count": 47
        }
      ]
    },
    {
      "cell_type": "markdown",
      "metadata": {
        "id": "KiYUI2Kmf44h",
        "colab_type": "text"
      },
      "source": [
        "#### Preparing final dataset\n",
        "\n",
        "The function prepare dataset returns a list of dictionaries (one dictionary per each sentence)\n",
        "\n",
        "Each of the dictionary returned by the function contains\n",
        "1. list of all words in the sentence\n",
        "2. list of word index for all words in the sentence\n",
        "3. list of lists, containing character id of each character for words in the sentence\n",
        "4. list of tag for each word in the sentence."
      ]
    },
    {
      "cell_type": "code",
      "metadata": {
        "id": "D57r-HR7gTny",
        "colab_type": "code",
        "colab": {}
      },
      "source": [
        "def lower_case(x, lower=False):\n",
        "  if lower:\n",
        "    return x.lower()\n",
        "  else:\n",
        "    return x"
      ],
      "execution_count": 0,
      "outputs": []
    },
    {
      "cell_type": "code",
      "metadata": {
        "id": "XUEOilq_g4Bp",
        "colab_type": "code",
        "outputId": "1fca0c0c-3791-408a-9400-16c75a18a4ec",
        "colab": {
          "base_uri": "https://localhost:8080/",
          "height": 34
        }
      },
      "source": [
        "def prepare_dataset(sentences, word_to_id, char_to_id, tag_to_id, lower = False):\n",
        "  \"\"\"\n",
        "  Prepare the dataset. Return a list of lists of dictionaries containing:\n",
        "    - word indexes\n",
        "    - word char indexes\n",
        "    - tag indexes\n",
        "  \"\"\"\n",
        "  data = []\n",
        "  for s in sentences:\n",
        "    str_words = [w[0] for w in s]\n",
        "    words = [word_to_id[lower_case(w, lower) if lower_case(w, lower) in word_to_id else '<UNK>']\n",
        "             for w in str_words]\n",
        "    # Skip characters that are not in the training set\n",
        "    chars = [[char_to_id[c] for c in w if c in char_to_id] for w in str_words]\n",
        "    tags = [tag_to_id[w[-1]] for w in s]\n",
        "    data.append({\n",
        "        'str_words': str_words,\n",
        "        'words': words,\n",
        "        'chars': chars,\n",
        "        'tags': tags,\n",
        "    })\n",
        "  return data\n",
        "\n",
        "train_data = prepare_dataset(\n",
        "    train_sentences, word_to_id, char_to_id, tag_to_id, parameters['lower']\n",
        ")\n",
        "dev_data = prepare_dataset(\n",
        "    dev_sentences, word_to_id, char_to_id, tag_to_id, parameters['lower']\n",
        ")\n",
        "test_data = prepare_dataset(\n",
        "    test_sentences, word_to_id, char_to_id, tag_to_id, parameters['lower']\n",
        ")\n",
        "\n",
        "print(\"{} / {} / {} sentences in train / dev / test.\".format(len(train_data), len(dev_data), len(test_data)))"
      ],
      "execution_count": 48,
      "outputs": [
        {
          "output_type": "stream",
          "text": [
            "14042 / 3251 / 3454 sentences in train / dev / test.\n"
          ],
          "name": "stdout"
        }
      ]
    },
    {
      "cell_type": "markdown",
      "metadata": {
        "id": "QsjlSFMJjqUb",
        "colab_type": "text"
      },
      "source": [
        "We are done with the preprocessing step for input data. It is ready to be given as input to the model!!!"
      ]
    },
    {
      "cell_type": "markdown",
      "metadata": {
        "id": "XQxNEKJ9jwlO",
        "colab_type": "text"
      },
      "source": [
        "#### Load Word Embeddings\n",
        "\n",
        "Now, we move to the next step of loading the pre-trained word embeddings.\n",
        "\n",
        "The paper uses glove vectors __100 dimension vectors__ trained on the (Wikipedia 2014 + Gigaword 5) corpus containing __6 billion words__. The word embedding file (glove.6B.100d.txt) is placed in the data folder."
      ]
    },
    {
      "cell_type": "code",
      "metadata": {
        "id": "4HH70bxY2fE2",
        "colab_type": "code",
        "outputId": "f8eac146-24b0-4cac-a19f-0538dd1e8403",
        "colab": {
          "base_uri": "https://localhost:8080/",
          "height": 34
        }
      },
      "source": [
        "all_word_embeds = {}\n",
        "for i, line in enumerate(codecs.open(parameters['embedding_path'], 'r', 'utf-8')):\n",
        "  s = line.strip().split()\n",
        "  if len(s) == parameters['word_dim'] + 1:  # 1 word + 100-dimension vector = 101\n",
        "    all_word_embeds[s[0]] = np.array([float(i) for i in s[1:]]) # { 'the': np.array([-0.038194, ...]) }\n",
        "\n",
        "# Initializing word embedding matrix\n",
        "word_embeds = np.random.uniform(-np.sqrt(0.06), np.sqrt(0.06), (len(word_to_id), parameters['word_dim']))\n",
        "\n",
        "for w in word_to_id:\n",
        "  if w in all_word_embeds:\n",
        "    word_embeds[word_to_id[w]] = all_word_embeds[w]\n",
        "  elif w.lower() in all_word_embeds:\n",
        "    word_embeds[word_to_id[w]] = all_word_embeds[w.lower()]\n",
        "\n",
        "print('Loaded %i pretrained embeddings.' % len(all_word_embeds))"
      ],
      "execution_count": 49,
      "outputs": [
        {
          "output_type": "stream",
          "text": [
            "Loaded 400000 pretrained embeddings.\n"
          ],
          "name": "stdout"
        }
      ]
    },
    {
      "cell_type": "markdown",
      "metadata": {
        "id": "sobQYBbee0nH",
        "colab_type": "text"
      },
      "source": [
        "#### Storing Processed Data for Reuse\n",
        "\n",
        "We can store the preprocessed data and the embedding matrix for future reuse. This helps us avoid the time taken by the step of preprocessing, when we are trying to tune the hyper parameters for the model."
      ]
    },
    {
      "cell_type": "code",
      "metadata": {
        "id": "czGHs6TYif6U",
        "colab_type": "code",
        "outputId": "c39882da-0cd6-4b2d-b38a-96f68f76b01e",
        "colab": {
          "base_uri": "https://localhost:8080/",
          "height": 34
        }
      },
      "source": [
        "with open(mapping_file, 'wb') as f:\n",
        "  mappings = {\n",
        "      'word_to_id': word_to_id,\n",
        "      'tag_to_id': tag_to_id,\n",
        "      'char_to_id': char_to_id,\n",
        "      'parameters': parameters,\n",
        "      'word_embeds': word_embeds\n",
        "  }\n",
        "  cPickle.dump(mappings, f)\n",
        "\n",
        "print('word_to_id: ', len(word_to_id))"
      ],
      "execution_count": 50,
      "outputs": [
        {
          "output_type": "stream",
          "text": [
            "word_to_id:  17494\n"
          ],
          "name": "stdout"
        }
      ]
    },
    {
      "cell_type": "code",
      "metadata": {
        "id": "gAbEilfDXDiI",
        "colab_type": "code",
        "colab": {
          "base_uri": "https://localhost:8080/",
          "height": 34
        },
        "outputId": "7dfcb832-1068-44a8-faff-5124f41398ea"
      },
      "source": [
        "print('word_to_id: ', len(word_to_id))"
      ],
      "execution_count": 62,
      "outputs": [
        {
          "output_type": "stream",
          "text": [
            "word_to_id:  17494\n"
          ],
          "name": "stdout"
        }
      ]
    },
    {
      "cell_type": "code",
      "metadata": {
        "id": "DETKCUWYU-b6",
        "colab_type": "code",
        "colab": {
          "base_uri": "https://localhost:8080/",
          "height": 34
        },
        "outputId": "fee1791a-473b-446c-fa0e-1ac08dd2e08e"
      },
      "source": [
        "mapping_file"
      ],
      "execution_count": 61,
      "outputs": [
        {
          "output_type": "execute_result",
          "data": {
            "text/plain": [
              "'./data/mapping.pkl'"
            ]
          },
          "metadata": {
            "tags": []
          },
          "execution_count": 61
        }
      ]
    },
    {
      "cell_type": "markdown",
      "metadata": {
        "id": "JfCiEqj8i1Q2",
        "colab_type": "text"
      },
      "source": [
        "#### Model\n",
        "\n",
        "The model that we are presenting is a complicated one, since its a hybridized network using LSTMs and CNNs. So in order to break down the complexity, we have attempted to simplify the process by splitting up operations into individual functions that we can go over part by part. This hopefully makes the whole thing more easily digestable and gives a more intuitive understanding of the whole process.\n",
        "\n",
        "#### Initialization of weights\n",
        "\n",
        "We start with the init_embedding function, which just initializes the embedding layer by pooling from a random sample.\n",
        "\n",
        "The distribution is pooled from -sqrt(3/v) to +sqrt(3/v) where V is the embedding dimension size."
      ]
    },
    {
      "cell_type": "code",
      "metadata": {
        "id": "sL-M-LfnkndS",
        "colab_type": "code",
        "colab": {}
      },
      "source": [
        "def init_embedding(input_embedding):\n",
        "  \"\"\"\n",
        "  Initialize embedding\n",
        "  \"\"\"\n",
        "  bias = np.sqrt(3.0 / input_embedding.size(1))\n",
        "  nn.init.uniform(input_embedding, -bias, bias)"
      ],
      "execution_count": 0,
      "outputs": []
    },
    {
      "cell_type": "markdown",
      "metadata": {
        "id": "s772NN-8lNMP",
        "colab_type": "text"
      },
      "source": [
        "Similar to the initialization above, except this is for the linear layer."
      ]
    },
    {
      "cell_type": "code",
      "metadata": {
        "id": "wVuNBeRelt0S",
        "colab_type": "code",
        "colab": {}
      },
      "source": [
        "def init_linear(input_linear):\n",
        "  \"\"\"\n",
        "  Initialize linear transformation\n",
        "  \"\"\"\n",
        "  bias = np.sqrt(6.0 / (input_linear.weight.size(0) + input_linear.weight.size(1)))\n",
        "  nn.init.uniform(input_linear.weight, -bias, bias)\n",
        "  if input_linear.bias is not None:\n",
        "    input_linear.bias.data.zero_()"
      ],
      "execution_count": 0,
      "outputs": []
    },
    {
      "cell_type": "markdown",
      "metadata": {
        "id": "D1jWmhxJl_0F",
        "colab_type": "text"
      },
      "source": [
        "This is the initialization scheme for the LSTM layers.\n",
        "\n",
        "The LSTM layers are initialized by uniform sampling from -sqrt(6/(r+c)) to +sqrt(6/(r+c)). Where _r_ is the number of rows, _c_ is the number of columns (based on the shape of the weight matrix)."
      ]
    },
    {
      "cell_type": "code",
      "metadata": {
        "id": "Wq20zp3tmVtq",
        "colab_type": "code",
        "colab": {}
      },
      "source": [
        "def init_lstm(input_lstm):\n",
        "  \"\"\"\n",
        "  Initialize lstm\n",
        "\n",
        "  PyTorch weights parameters:\n",
        "\n",
        "    weight_ih_l[k]: the learnable input-hidden weights of the k-th layer of shape `(hidden_size * input_size)` for `k = 0`. Otherwise, the shape is `(hidden_size * hidden_size)`\n",
        "    weight_hh_l[k]: the learnable hidden-hidden weights of the k-th layer of shape `(hidden_size * hidden_size)`\n",
        "  \"\"\"\n",
        "\n",
        "  # Weights init for forward layer\n",
        "  for ind in range(0, input_lstm.num_layers):\n",
        "\n",
        "    ## Gets the weights Tensor from our model, for the input-hidden weights in our current layer\n",
        "    weight = eval('input_lstm.weight_ih_l' + str(ind))\n",
        "\n",
        "    # Initialize the sampling range\n",
        "    sampling_range = np.sqrt(6.0 / (weight.size(0) / 4 + weight.size(1)))\n",
        "\n",
        "    # Randomly sample from our sampling range using uniform distribution and apply it to our current layer\n",
        "    nn.init.uniform(weight, -sampling_range, sampling_range)\n",
        "\n",
        "    # Similar to above but for the hidden-hidden weights of the current layer\n",
        "    weight = eval('input_lstm.weight_hh_l' + str(ind))\n",
        "    sampling_range = np.sqrt(6.0 / (weight.size(0) / 4 + weight.size(1)))\n",
        "    nn.init.uniform(weight, -sampling_range, sampling_range)\n",
        "\n",
        "  # We do the above again, for the backward layer if we are using a bi-directional LSTM (our final model uses this)\n",
        "  if input_lstm.bidirectional:\n",
        "    for ind in range(0, input_lstm.num_layers):\n",
        "      weight = eval('input_lstm.weight_ih_l' + str(ind) + '_reverse')\n",
        "      sampling_range = np.sqrt(6.0 / (weight.size(0) / 4 + weight.size(1)))\n",
        "      nn.init.uniform(weight, -sampling_range, sampling_range)\n",
        "      weight = eval('input_lstm.weight_hh_l' + str(ind) + '_reverse')\n",
        "      sampling_range = np.sqrt(6.0 / (weight.size(0) / 4 + weight.size(1)))\n",
        "      nn.init.uniform(weight, -sampling_range, sampling_range)\n",
        "\n",
        "  # Bias initialization steps\n",
        "\n",
        "  # We initialize them to zero except for the forget gate bias, which is initialized to 1\n",
        "  if input_lstm.bias:\n",
        "    for ind in range(0, input_lstm.num_layers):\n",
        "      bias = eval('input_lstm.bias_ih_l' + str(ind))\n",
        "\n",
        "      # Initializing to zero\n",
        "      bias.data.zero_()\n",
        "\n",
        "      # This is the range of indices for our forget gates for each LSTM cell\n",
        "      bias.data[input_lstm.hidden_size: 2 * input_lstm.hidden_size] = 1\n",
        "\n",
        "      # Similar for the hidden-hidden layer\n",
        "      bias = eval('input_lstm.bias_hh_l' + str(ind))\n",
        "      bias.data.zero_()\n",
        "      bias.data[input_lstm.hidden_size: 2 * input_lstm.hidden_size] = 1\n",
        "\n",
        "    # Similar to above, we do for backward layer if we are using a bi-directional LSTM\n",
        "    if input_lstm.bidirectional:\n",
        "      for ind in range(0, input_lstm.num_layers):\n",
        "        bias = eval('input_lstm.bias_ih_l' + str(ind) + '_reverse')\n",
        "        bias.data.zero_()\n",
        "        bias.data[input_lstm.hidden_size: 2 * input_lstm.hidden_size] = 1\n",
        "        bias = eval('input_lstm.bias_hh_l' + str(ind) + '_reverse')\n",
        "        bias.data.zero_()\n",
        "        bias.data[input_lstm.hidden_size: 2 * input_lstm.hidden_size] = 1"
      ],
      "execution_count": 0,
      "outputs": []
    },
    {
      "cell_type": "markdown",
      "metadata": {
        "id": "ikRHt1zlq9ZE",
        "colab_type": "text"
      },
      "source": [
        "#### CRF Layer\n",
        "\n",
        "We have two options:\n",
        "\n",
        "- softmax: normalize the scores into a vector such that it can be interpreted as the probability that the word belongs to class. Eventually, the probability of a sequence tag of _y_ is the product of all tags.\n",
        "\n",
        "- linear-chain CRF: the first method makes local choices. In other words, even if we capture some information from the context thanks to the bi-LSTM, the tagging decision is still local. We don't make use of the neighbouring tagging decisions. Given a sequence of words w_1, ... w_m, a sequence of score vectors s_1, ... s_m and a sequence of tags y_1, ... y_m, a linear-chain CRF defines a global score C is a real number such that\n",
        "\n",
        "C(y_1, ... y_m) = b[y_1] = sum(t=1,m) s_t[y_t] + sum(t=1,m) T[y_t, y_t+1] + e[y_m] Unknown character]] >\n",
        "\n",
        "C(y_1, ... y_m) = begin + scores + transitions + end\n",
        "\n",
        "where T is a transition matrix in R and e, b are vectors of scores that capture the cost of beginning or ending with a given tag. The use of the matrix _T_ captures linear (one step) dependencies between tagging decisions.\n",
        "\n",
        "The motivation behind CRFs was to generate sentence level likelihoods for optimal tags. What that means is for each word we estimate maximum likelihood and then we use the Viterbi algorithm to decode the tag sequence optimally.\n",
        "\n",
        "#### Advantages of CRF over softmax:\n",
        "\n",
        "- Softmax doesn't value any dependencies, this is a problem since NER the context heavily influences the tag that is assigned. This is solved by applying CRF as it takes into account the full sequence to assign the tag.\n",
        "- _Example: I-ORG cannot directly follow I-PER._\n",
        "\n",
        "![crf_mode](https://raw.githubusercontent.com/TheAnig/NER-LSTM-CNN-Pytorch/master/images/crf_mode.png)\n",
        "\n",
        "The figure shows a simple CRF network, in our case we have the inputs feeding in from our BiLSTMs, but otherwise the structure largely remains the same.\n",
        "\n",
        "#### Evaluation schemes: Forward pass and Viterbi algorithm\n",
        "\n",
        "Recall that the CRF computes a conditional probability. Let _y_ be a tag sequence and _x_ an input sequence of words. Then we compute\n",
        "\n",
        "P(y|x) = exp(Score(x, y)) / sum[y'](exp(Score(x, y'))\n",
        "\n",
        "Where the score is determined by defining some log potentials log w_i(x, y) such that\n",
        "\n",
        "Score(x, y) = sum[i] log w_i(x, y)\n",
        "\n",
        "In our model, we define two kinds of potentials: emission and transition. The emission potential for the word at index i comes from the hidden state of the Bi-LSTM at timestep _i_. The transition scores are stored in a |T| x |T| matrix _P_, where _T_ is the tag set. In my implementation, P_j, k is the score of transitioning to tag _j_ from tag _k_. So:\n",
        "\n",
        "= sum[i] h_i[y_i] + P_yi, yi-1"
      ]
    },
    {
      "cell_type": "markdown",
      "metadata": {
        "id": "T9SrLqp3G5j9",
        "colab_type": "text"
      },
      "source": [
        "#### Helper Functions\n",
        "\n",
        "Now, we define some helper functions for numerical operations and score calculations."
      ]
    },
    {
      "cell_type": "code",
      "metadata": {
        "id": "vWVkZg8AG-uf",
        "colab_type": "code",
        "colab": {}
      },
      "source": [
        "def log_sum_exp(vec):\n",
        "  \"\"\"\n",
        "  This function calculates the score explained above for the forward algorithm vec 2D: 1 * target_size\n",
        "  \"\"\"\n",
        "  max_score = vec[0, argmax(vec)]\n",
        "  max_score_broadcast = max_score.view(1, -1).expand(1, vec.size()[1])\n",
        "  return max_score + torch.log(torch.sum(torch.exp(vec - max_score_broadcast)))\n",
        "\n",
        "def argmax(vec):\n",
        "  \"\"\"\n",
        "  This function returns the max index in a vector\n",
        "  \"\"\"\n",
        "  _, idx = torch.max(vec, 1)\n",
        "  return to_scalar(idx)\n",
        "\n",
        "def to_scalar(var):\n",
        "  \"\"\"\n",
        "  Function to convert pytorch tensor to a scalar\n",
        "  \"\"\"\n",
        "  return var.view(-1).data.tolist()[0]"
      ],
      "execution_count": 0,
      "outputs": []
    },
    {
      "cell_type": "markdown",
      "metadata": {
        "id": "xgsYr9j1Hdns",
        "colab_type": "text"
      },
      "source": [
        "#### Helper function to calculate score\n",
        "\n",
        "This is a score function for our sentences.\n",
        "\n",
        "This function takes two things, a list of ground truths that tell us what the corresponding tags are, the other are the features which contains the supposed tagged parts of the function. Which is then used to compute the score."
      ]
    },
    {
      "cell_type": "code",
      "metadata": {
        "id": "85vjfcoZH0PF",
        "colab_type": "code",
        "colab": {}
      },
      "source": [
        "def score_sentences(self, feats, tags):\n",
        "  # tags is ground truth, a list of ints, length is len(sentence)\n",
        "  # feats is a 2D tensor, len(sentence) * target_size\n",
        "  r = torch.LongTensor(range(feats.size()[0]))\n",
        "  if self.use_gpu:\n",
        "    r = r.cuda()\n",
        "    pad_start_tags = torch.cat([torch.cuda.LongTensor([self.tag_to_ix[START_TAG]]), tags])\n",
        "    pad_stop_tags = torch.cat([tags, torch.cuda.LongTensor([self.tag_to_ix[STOP_TAG]])])\n",
        "  else:\n",
        "    pad_start_tags = torch.cat([torch.LongTensor([self.tag_to_ix[START_TAG]]), tags])\n",
        "    pad_stop_tags = torch.cat([tags, torch.LongTensor([self.tag_to_ix[STOP_TAG]])])\n",
        "\n",
        "  score = torch.sum(self.transitions[pad_stop_tags, pad_start_tags]) + torch.sum(feats[r, tags])\n",
        "\n",
        "  return score"
      ],
      "execution_count": 0,
      "outputs": []
    },
    {
      "cell_type": "markdown",
      "metadata": {
        "id": "vrNxR4vxItA3",
        "colab_type": "text"
      },
      "source": [
        "#### Implementation of Forward Algorithm"
      ]
    },
    {
      "cell_type": "code",
      "metadata": {
        "id": "sD4qB0O0IwBf",
        "colab_type": "code",
        "colab": {}
      },
      "source": [
        "def forward_alg(self, feats):\n",
        "  \"\"\"\n",
        "  This function performs the forward algorithm explained above\n",
        "  \"\"\"\n",
        "  # calculate in log domain\n",
        "  # feats is len(sentence) * tagset_size\n",
        "  # initialize alpha with a Tensor with values all equal to -10000.\n",
        "\n",
        "  # Do the forward algorithm to compute the partition function\n",
        "  init_alphas = torch.Tensor(1, self.tagset_size).fill_(-10000.)\n",
        "\n",
        "  # START_TAG has all of the score.\n",
        "  init_alphas[0][self.tag_to_ix[START_TAG]] = 0.\n",
        "\n",
        "  # Wrap in a variable so that we will get automatic backprop\n",
        "  forward_var = autograd.Variable(init_alphas)\n",
        "  if self.use_gpu:\n",
        "    forward_var = forward_var.cuda()\n",
        "\n",
        "  # Iterate through the sentence\n",
        "  for feat in feats:\n",
        "    # broadcast the emission score: it is the same regardless of the previous tag\n",
        "    emit_score = feat.view(-1, 1)\n",
        "\n",
        "    # the i-th entry of trans_score is the score fo transitioning to next_tag from i\n",
        "    tag_var = forward_var + self.transitions + emit_score\n",
        "\n",
        "    # The i-th entry of next_tag_var is the value for the edge (i -> next_tag) before we do log-sum-exp\n",
        "    max_tag_var, _ = torch.max(tag_var, dim=1)\n",
        "\n",
        "    # The forward variable for this tag is log-sum-exp of al the scores.\n",
        "    tag_var = tag_var - max_tag_var.view(-1, 1)\n",
        "\n",
        "    # Computer log sum exp in a numerically stable way for the forward algorithm\n",
        "    forward_var = max_tag_var + torch.log(torch.sum(torch.exp(tag_var), dim=1)).view(1, -1) # _.view(1, -1)\n",
        "\n",
        "  terminal_var = (forward_var + self.transitions[self.tag_to_ix[STOP_TAG]]).view(1, -1)\n",
        "\n",
        "  alpha = log_sum_exp(terminal_var)\n",
        "\n",
        "  # Z(x)\n",
        "\n",
        "  return alpha"
      ],
      "execution_count": 0,
      "outputs": []
    },
    {
      "cell_type": "markdown",
      "metadata": {
        "id": "y4O3MrxyWYLt",
        "colab_type": "text"
      },
      "source": [
        "__Implementation of Viterbi Algorithm__"
      ]
    },
    {
      "cell_type": "code",
      "metadata": {
        "id": "A4XoVr7FWcBx",
        "colab_type": "code",
        "colab": {}
      },
      "source": [
        "def viterbi_algo(self, feats):\n",
        "  \"\"\"\n",
        "  In this function, we implement the viterbi algorithm explained above.\n",
        "  A dynamic programming based approach to find the best tag sequence.\n",
        "  \"\"\"\n",
        "  backpoints = []\n",
        "  # analogous to forward\n",
        "\n",
        "  # Initialize the viterbi variables in log space\n",
        "  init_vvars = torch.Tensor(1, self.tagset_size).fill_(-10000.)\n",
        "  init_vvars[0][self.tag_to_ix[START_TAG]] = 0\n",
        "\n",
        "  # forward_var at step i hold the viterbi variables for step i-1\n",
        "  forward_var = Variable(init_vvars)\n",
        "  if self.use_gpu:\n",
        "    forward_var = forward_var.cuda()\n",
        "  for feat in feats:\n",
        "    next_tag_var = forward_var.view(1, -1).expand(self.tagset_size, self.tagset_size) + self.transitions\n",
        "    _, bptrs_t = torch.max(next_tag_var, dim=1)\n",
        "    bptrs_t = bptrs_t.squeeze().data.cpu().numpy()  # hold the backpointers for this step\n",
        "    next_tag_var = next_tag_var.data.cpu().numpy()\n",
        "    viterbivars_t = next_tag_var[range(len(bptrs_t)), bptrs_t] # holds the viterbi variables for this step\n",
        "    viterbivars_t = Variable(torch.FloatTensor(viterbivars_t))\n",
        "    if self.use_gpu:\n",
        "      viterbivars_t = viterbivars_t.cuda()\n",
        "\n",
        "    # Now add in the emission scores, and assign forward_var to the set\n",
        "    # of viterbi variables we just computed\n",
        "    forward_var = vitervars_t + feat\n",
        "    backpointers.append(bptrs_t)\n",
        "\n",
        "  # Transition to STOP_TAG\n",
        "  terminal_var = forward_var + self.transitions[self.tag_to_ix[STOP_TAG]]\n",
        "  terminal_var.data[self.tag_to_ix[STOP_TAG]] = -10000.\n",
        "  terminal_var.data[self.tag_to_ix[START_TAG]] = -10000.\n",
        "  best_tag_id = argmax(terminal_var.unsqueeze(0))\n",
        "  path_score = terminal_var[best_tag_id]\n",
        "\n",
        "  # Follow the back pointers to decode the best path/\n",
        "  best_path = [best_tag_id]\n",
        "  for bptrs_t in reversed(backpointers):\n",
        "    best_tag_id = bptrs_t[best_tag_id]\n",
        "    best_path.append(best_tag_id)\n",
        "\n",
        "  # Pop off the start tag (we don't want to return that to the caller)\n",
        "  start = best_path.pop()\n",
        "  assert start == self.tag_to_ix[START_TAG] # Sanity check\n",
        "  best_path.reverse()\n",
        "  return path_score, best_path"
      ],
      "execution_count": 0,
      "outputs": []
    },
    {
      "cell_type": "code",
      "metadata": {
        "id": "tO6wFgBYYuV0",
        "colab_type": "code",
        "colab": {}
      },
      "source": [
        "def forward_calc(self, sentence, chars, chars2_length, d):\n",
        "  \"\"\"\n",
        "  The function calls viterbi decode and generates the\n",
        "  most probable sequence of tags for the sentence\n",
        "  \"\"\"\n",
        "\n",
        "  # Get the emission scores from the BiLSTM\n",
        "  feats = self._get_lstm_features(self, sentence, chars, chars2_length, d)\n",
        "  # viterbi to get tag_seq\n",
        "\n",
        "  # Find the best path, given the features.\n",
        "  if self.use_crf:\n",
        "    score, tag_seq = self.viterbi_decode(feats)\n",
        "  else:\n",
        "    score, tag_seq = torch.max(feats, 1)\n",
        "    tag_seq = list(tag_seq.cpu().data)\n",
        "\n",
        "  return score, tag_seq"
      ],
      "execution_count": 0,
      "outputs": []
    },
    {
      "cell_type": "markdown",
      "metadata": {
        "id": "GzlBi1NEZJJV",
        "colab_type": "text"
      },
      "source": [
        "### Detail of the model\n",
        "\n",
        "#### 1. CNN model for generating character embeddings\n",
        "\n",
        "Consider the word 'cat', we pad it on both ends to get our maximum word length (this is mainly an implementation quirk since we can't have variable length layers at run time, our algorithm will ignore the pads).\n",
        "\n",
        "We then apply a convolution layer on top that generates spatial coherence across characters, we use a maxpool to extract meaningful features out of our convolution layer. This now gives us a dense vector representation of each word. This representation will be concatenated with the pre-trained GloVe embeddings using a simple lookup.\n",
        "\n",
        "![cnn_model](https://raw.githubusercontent.com/TheAnig/NER-LSTM-CNN-Pytorch/master/images/cnn_model.png)\n",
        "\n",
        "This snippet shows us how the CNN is implemented in PyTorch.\n",
        "\n",
        "```\n",
        "self.char_cnn3 = nn.Conv2d(in_channels=1, out_channels=self.out_channels, kernel_size=(3, char_embedding_dim), padding=(2,0))\n",
        "```\n",
        "\n",
        "#### 2. Rest of the model (LSTM based) that generates tags for the given sequence\n",
        "\n",
        "The word-embeddings (glove+char embedding) that we generated above, we feed to a bi-directional LSTM model. The LSTM model has 2 layers,\n",
        "- The forward layer takes in a sequence of word vectors and generates a new vector based on what it has seen so far in the forward direction (starting from the start word up until current word) __this vector can be thought of as a summary of all the words it has seen__.\n",
        "- The backwards layer does the same but in the opposite direction, i.e., from the end of the sentence to the current word.\n",
        "\n",
        "The forward vector and the backwards vector at current word concatenate to generate a unified representation.\n",
        "\n",
        "![lstm_model](https://raw.githubusercontent.com/TheAnig/NER-LSTM-CNN-Pytorch/master/images/lstm_model.png)\n",
        "\n",
        "This snippet shows us how the BiLSTM is implemented in Pytorch.\n",
        "\n",
        "```\n",
        "self.lstm = nn.LSTM(embedding_dim + self.out_channels, hidden_dim, bidirectional=True)\n",
        "```\n",
        "\n",
        "Finally, we have a linear layer to map hidden vectors to tag space."
      ]
    },
    {
      "cell_type": "markdown",
      "metadata": {
        "id": "un6CWTf6ZvFb",
        "colab_type": "text"
      },
      "source": [
        "#### Main Model Implementation\n",
        "\n",
        "The get_lstm_features function returns the LSTM's tag vectors. The function performs all the steps mentioned above for the model.\n",
        "\n",
        "Steps:\n",
        "1. It takes in characters, converts them to embeddings using our character CNN.\n",
        "1. We concatenate character embeddings with glove vectors, use this as features that we feed to Bidirectional-LSTM.\n",
        "1. The Bidirectional-LSTM generates outputs based on these set of features.\n",
        "1. The outputs are passed through a linear layer to convert to tag space."
      ]
    },
    {
      "cell_type": "code",
      "metadata": {
        "id": "2ysvlBUPbxY6",
        "colab_type": "code",
        "colab": {}
      },
      "source": [
        "def get_lstm_features(self, sentence, chars2, chars2_length, d):\n",
        "\n",
        "  if self.char_mode == 'LSTM':\n",
        "    chars_embeds = self.char_embeds(chars2).transpose(0, 1)\n",
        "    packed = torch.nn.utils.rnn.pack_padded_sequence(chars_embeds, chars2_length)\n",
        "    lstm_out, _ = self.char_lstm(packed)\n",
        "    outputs, output_lengths = torch.nn.utils.rnn.pad_packed_sequence(lstm_out)\n",
        "    outputs = outputs.transpose(0, 1)\n",
        "    chars_embeds_temp = Variable(torch.FloatTensor(torch.zeros((outputs.size(0), outputs.size(2)))))\n",
        "\n",
        "    if self.use_gpu:\n",
        "      chars_embeds_temp = chars_embeds_temp.cuda()\n",
        "\n",
        "    for i, index in enumerate(output_lengths):\n",
        "      chars_embeds_temp[i] = torch.cat((outputs[i, index-1, :self.char_lstm_dim], outputs[i, 0, self.char_lstm_dim:]))\n",
        "\n",
        "    chars_embeds = chars_embeds_temp.clone()\n",
        "\n",
        "    for i in range(chars_embeds.size(0)):\n",
        "      chars_embeds[d[i]] = chars_embeds_temp[i]\n",
        "\n",
        "  if self.char_mode == 'CNN':\n",
        "    chars_embeds = self.char_embeds(chars2).unsqueeze(1)\n",
        "\n",
        "    ## Creating character level representation using convolutional neural network\n",
        "    ## follower by a maxpooling layer\n",
        "    chars_cnn_out3 = self.char_cnn3(chars_embeds)\n",
        "    chars_embeds = nn.functional.max_pool2d(chars_cnn_out3,\n",
        "                                             kernel_size=(chars_cnn_out3.size(2), 1)).view(chars_cnn_out3.size(0), self.out_channels)\n",
        "  ## Loading word embeddings\n",
        "  embeds = self.word_embeds(sentence)\n",
        "\n",
        "  ## We concatenate the word embeddings and the character level representation\n",
        "  ## to create unified representation for each word\n",
        "  embeds = torch.cat((embeds, chars_embeds), 1)\n",
        "  embeds = embeds.unsqueeze(1)\n",
        "\n",
        "  ## Dropout on the unified embeddings\n",
        "  embeds = self.dropout(embeds)\n",
        "\n",
        "  ## Word lstm\n",
        "  ## Takes words as input and generates an output at each step\n",
        "  lstm_out, _ = self.lstm(embeds)\n",
        "\n",
        "  ## Reshaping the outputs from the lstm layer\n",
        "  lstm_out = lstm_out.view(len(sentence), self.hidden_dim*2)\n",
        "\n",
        "  ## Dropout on the lstm output\n",
        "  lstm_out = self.dropout(lstm_out)\n",
        "\n",
        "  ## Linear layer converts the output vectors to tag space\n",
        "  lstm_feats = self.hidden2tag(lstm_out)\n",
        "\n",
        "  return lstm_feats"
      ],
      "execution_count": 0,
      "outputs": []
    },
    {
      "cell_type": "markdown",
      "metadata": {
        "id": "sXQ7TicuenxT",
        "colab_type": "text"
      },
      "source": [
        "#### Function for Negative Log Likelihood calculation\n",
        "\n",
        "This is a helper function that calculates the negative log likelihood.\n",
        "\n",
        "The function takes as input the previously calculated lstm features to use to calculate the sentence score and then perform a forward run score and compare it with our predicted score to generate a log likelihood.\n",
        "\n",
        "Implementation detail: Notice we do not pump out any log conversion in this function that is supposedly about log likelihood calculation, this is because we have ensured that we get the scores from our helper functions in the log domain."
      ]
    },
    {
      "cell_type": "code",
      "metadata": {
        "id": "OT0KkkiKfOFx",
        "colab_type": "code",
        "colab": {}
      },
      "source": [
        "def get_neg_log_likelihood(self, sentence, tags, chars2, chars2_length, d):\n",
        "  # sentence, tags is a list of ints\n",
        "  # features is a 2D tensor, len(sentence) * self.tagset_size\n",
        "  feats = self._get_lstm_features(self, sentence, chars2, chars2_length, d)\n",
        "\n",
        "  if self.use_crf:\n",
        "    forward_score = self._forward_alg(self, feats)\n",
        "    gold_score = self._score_sentence(self, feats, tags)\n",
        "    return forward_score - gold_score\n",
        "  else:\n",
        "    tags = Variable(tags)\n",
        "    scores = nn.functional.cross_entropy(feats, tags)\n",
        "    return scores"
      ],
      "execution_count": 0,
      "outputs": []
    },
    {
      "cell_type": "markdown",
      "metadata": {
        "id": "0etHctfMfqR5",
        "colab_type": "text"
      },
      "source": [
        "#### Main Model Class"
      ]
    },
    {
      "cell_type": "code",
      "metadata": {
        "id": "XHRnB2dOfsib",
        "colab_type": "code",
        "colab": {}
      },
      "source": [
        "class BiLSTM_CRF(nn.Module):\n",
        "\n",
        "  def __init__(self, vocab_size, tag_to_ix, embedding_dim, hidden_dim,\n",
        "               char_to_ix=None, pre_word_embeds=None, char_out_dimension=25,\n",
        "               char_embedding_dim=25, use_gpu=False, use_crf=True,\n",
        "               char_mode='CNN'):\n",
        "    \"\"\"\n",
        "    Input parameters:\n",
        "\n",
        "      vocab_size = size of vocabulary (int)\n",
        "      tag_to_ix = Dictionary that maps NER tags to indices\n",
        "      embedding_dim = Dimension of word embeddings (int)\n",
        "      hidden_dim = The hidden dimension of the LSTM layer (int)\n",
        "      char_to_ix = Dictionary that maps characters to indices\n",
        "      pre_word_embeds = Numpy array which provides mapping from word embeddings to word indices\n",
        "      char_out_dimension = Output dimension from the CNN encoder for character\n",
        "      char_embedding_dim = Dimension of the character embeddings\n",
        "      use_gpu = Defines availability of GPU,\n",
        "        when True: CUDA function calls are made\n",
        "        else: Normal CPU function calls are made\n",
        "      use_crf = parameter which decides if you want to use the CRF layer for output decoding\n",
        "    \"\"\"\n",
        "\n",
        "    super(BiLSTM_CRF, self).__init__()\n",
        "\n",
        "    # parameter initialization for the model\n",
        "    self.use_gpu = use_gpu\n",
        "    self.embedding_dim = embedding_dim\n",
        "    self.hidden_dim = hidden_dim\n",
        "    self.vocab_size = vocab_size\n",
        "    self.tag_to_ix = tag_to_ix\n",
        "    self.use_crf = use_crf\n",
        "    self.tagset_size = len(tag_to_ix)\n",
        "    self.out_channels = char_out_dimension\n",
        "    self.char_mode = char_mode\n",
        "\n",
        "    if char_embedding_dim is not None:\n",
        "      self.char_embedding_dim = char_embedding_dim\n",
        "\n",
        "      # Initializing the character embedding layer\n",
        "      self.char_embeds = nn.Embedding(len(char_to_ix), char_embedding_dim)\n",
        "      init_embedding(self.char_embeds.weight)\n",
        "\n",
        "      # Performing LSTM encoding on the character embeddings\n",
        "      if self.char_mode == 'LSTM':\n",
        "        self.char_lstm = nn.LSTM(char_embedding_dim, char_lstm_dim, num_layers=1, bidrectional=True)\n",
        "        init_lst(self.char_lstm)\n",
        "\n",
        "      # Performinng CNN encoding on the character embeddings\n",
        "      if self.char_mode == 'CNN':\n",
        "        self.char_cnn3 = nn.Conv2d(in_channels=1, out_channels=self.out_channels, kernel_size=(3, char_embedding_dim), padding=(2,0))\n",
        "      \n",
        "    # Creating embedding layer with dimension of (number of words * dimension of each word)\n",
        "    self.word_embeds = nn.Embedding(vocab_size, embedding_dim)\n",
        "    if pre_word_embeds is not None:\n",
        "      # Initializes the word embeddings with pretrained word embeddings\n",
        "      self.pre_word_embeds = True\n",
        "      self.word_embeds.weight = nn.Parameter(torch.FloatTensor(pre_word_embeds))\n",
        "    else:\n",
        "      self.pre_word_embeds = False\n",
        "\n",
        "    # Initializing the dropout layer, with output specified in parameters\n",
        "    self.dropout = nn.Dropout(parameters['dropout'])\n",
        "\n",
        "    # LSTM Layer:\n",
        "    # input dimension: word embedding dimension + character level representation\n",
        "    # bidirectional=True, specifies that we are using the bidirectional LSTM\n",
        "    if self.char_mode == 'LSTM':\n",
        "      self.lstm = nn.LSTM(embedding_dim + self.out_channels, hidden_dim, bidirectional=True)\n",
        "    if self.char_mode == 'CNN':\n",
        "      self.lstm = nn.LSTM(embedding_dim + self.out_channels, hidden_dim, bidirectional=True)\n",
        "\n",
        "      # Initializing the LSTM layer using predefined function for initialization\n",
        "      init_lstm(self.lstm)\n",
        "\n",
        "      # Linear layer which maps the output of the bidirectional LSTM into tag space.\n",
        "      self.hidden2tag = nn.Linear(hidden_dim*2, self.tagset_size)\n",
        "\n",
        "      # Initializing the linear layer using predefined function for initialization\n",
        "      init_linear(self.hidden2tag)\n",
        "\n",
        "      if self.use_crf:\n",
        "        # Matrix of transition parameters. Entry i, j is the score of transitioning *to* i *from* j.\n",
        "        # Matrix has a dimension of (total number of tags * total number of tags)\n",
        "        self.transitions = nn.Parameter(torch.zeros(self.tagset_size, self.tagset_size))\n",
        "\n",
        "        # These two statements enforce the constraint that we never transfer\n",
        "        # to the start tag and we never transfer from the stop tag\n",
        "        self.transitions.data[tag_to_ix[START_TAG], :] = -10000\n",
        "        self.transitions.data[:, tag_to_ix[STOP_TAG]] = -10000\n",
        "\n",
        "    # assigning the functions, which we have defined earlier\n",
        "    self._score_sentence = score_sentences\n",
        "    self._get_lstm_features = get_lstm_features\n",
        "    self._forward_alg = forward_alg\n",
        "    self.viterbi_decode = viterbi_algo\n",
        "    self.neg_log_likelihood = get_neg_log_likelihood\n",
        "    self.forward = forward_calc"
      ],
      "execution_count": 0,
      "outputs": []
    },
    {
      "cell_type": "code",
      "metadata": {
        "id": "thS-vLMyj6Ns",
        "colab_type": "code",
        "outputId": "f2df9ac0-c86d-4f02-97fa-b13ea013f8af",
        "colab": {
          "base_uri": "https://localhost:8080/",
          "height": 173
        }
      },
      "source": [
        "# creating the model using the class defined above\n",
        "model = BiLSTM_CRF(vocab_size=len(word_to_id),\n",
        "                   tag_to_ix=tag_to_id,\n",
        "                   embedding_dim=parameters['word_dim'],\n",
        "                   hidden_dim=parameters['word_lstm_dim'],\n",
        "                   use_gpu=use_gpu,\n",
        "                   char_to_ix=char_to_id,\n",
        "                   pre_word_embeds=word_embeds,\n",
        "                   use_crf=parameters['crf'],\n",
        "                   char_mode=parameters['char_mode'])\n",
        "\n",
        "if use_gpu:\n",
        "  model.cuda()\n",
        "\n",
        "print('Model Initialized!!!')\n",
        "print('Cuda:', use_gpu)"
      ],
      "execution_count": 184,
      "outputs": [
        {
          "output_type": "stream",
          "text": [
            "Model Initialized!!!\n",
            "Cuda: True\n"
          ],
          "name": "stdout"
        },
        {
          "output_type": "stream",
          "text": [
            "/usr/local/lib/python3.6/dist-packages/ipykernel_launcher.py:6: UserWarning: nn.init.uniform is now deprecated in favor of nn.init.uniform_.\n",
            "  \n",
            "/usr/local/lib/python3.6/dist-packages/ipykernel_launcher.py:21: UserWarning: nn.init.uniform is now deprecated in favor of nn.init.uniform_.\n",
            "/usr/local/lib/python3.6/dist-packages/ipykernel_launcher.py:26: UserWarning: nn.init.uniform is now deprecated in favor of nn.init.uniform_.\n",
            "/usr/local/lib/python3.6/dist-packages/ipykernel_launcher.py:33: UserWarning: nn.init.uniform is now deprecated in favor of nn.init.uniform_.\n",
            "/usr/local/lib/python3.6/dist-packages/ipykernel_launcher.py:36: UserWarning: nn.init.uniform is now deprecated in favor of nn.init.uniform_.\n"
          ],
          "name": "stderr"
        }
      ]
    },
    {
      "cell_type": "code",
      "metadata": {
        "id": "rPer6IMJkUvQ",
        "colab_type": "code",
        "colab": {}
      },
      "source": [
        "# Reload a saved model, if parameters[\"reload\"] is set to apth\n",
        "if parameters['reload']:\n",
        "  if not os.path.exists(parameters['reload']):\n",
        "    print('downloading pre-trained model')\n",
        "    model_url = 'https://github.com/TheAnig/NER-LSTM-CNN-Pytorch/raw/master/trained-model-cpu'\n",
        "    urllib.request.urlretrieve(model_url, parameters['reload'])\n",
        "  model.load_state_dict(torch.load(parameters['reload']))\n",
        "  print('model reloaded: ', parameters['reload'])\n",
        "\n",
        "if use_gpu:\n",
        "  model.cuda()"
      ],
      "execution_count": 0,
      "outputs": []
    },
    {
      "cell_type": "markdown",
      "metadata": {
        "id": "s5hT0vKglWaa",
        "colab_type": "text"
      },
      "source": [
        "#### Training parameters"
      ]
    },
    {
      "cell_type": "code",
      "metadata": {
        "id": "Pxil1CAzllCs",
        "colab_type": "code",
        "colab": {}
      },
      "source": [
        "# Initializing the optimizer\n",
        "# The best results in the paper were achieved using stochastic gradient descent (SGD)\n",
        "# learning_rate = 0.015 and momentum = 0.9\n",
        "# decay_rate = 0.05\n",
        "\n",
        "learning_rate = 0.015\n",
        "momentum = 0.9\n",
        "number_of_epochs = parameters['epoch']\n",
        "decay_rate = 0.05\n",
        "gradient_clip = parameters['gradient_clip']\n",
        "optimizer = torch.optim.SGD(model.parameters(), lr=learning_rate, momentum=momentum)\n",
        "\n",
        "# variables which will be used in training process\n",
        "losses = [] # list to store all losses\n",
        "loss = 0.0 # loss initialization\n",
        "best_dev_F = -1.0 # current best F-1 score on Dev Set\n",
        "best_test_F = -1.0 # current best F-1 Score on Test Set\n",
        "best_train_F = -1.0 # current best F-1 Score on Train Set\n",
        "all_F = [[0, 0, 0]] # List storing all the F-1 Scores\n",
        "eval_every = len(train_data) # Calculate F-1 Score after this mant iterations\n",
        "plot_every = 2000 # Store loss after this many iterations\n",
        "count = 0 # Counts the number of iterations"
      ],
      "execution_count": 0,
      "outputs": []
    },
    {
      "cell_type": "code",
      "metadata": {
        "id": "0rPRA1FZaYEq",
        "colab_type": "code",
        "colab": {
          "base_uri": "https://localhost:8080/",
          "height": 34
        },
        "outputId": "8b0f62d5-23aa-45fb-82e8-3b07244a8c83"
      },
      "source": [
        "print(number_of_epochs)"
      ],
      "execution_count": 169,
      "outputs": [
        {
          "output_type": "stream",
          "text": [
            "50\n"
          ],
          "name": "stdout"
        }
      ]
    },
    {
      "cell_type": "markdown",
      "metadata": {
        "id": "ITHXD0pQmcYB",
        "colab_type": "text"
      },
      "source": [
        "### Evaluation\n",
        "\n",
        "#### Helper functions for evaluation"
      ]
    },
    {
      "cell_type": "code",
      "metadata": {
        "id": "weblx-sumhWP",
        "colab_type": "code",
        "colab": {}
      },
      "source": [
        "def get_chunk_type(tok, idx_to_tag):\n",
        "  \"\"\"\n",
        "  The function takes in a chunk (\"B-PER\") and then splits it into the tag (PER) and its class (B)\n",
        "  as defined in BIOES\n",
        "\n",
        "  Args:\n",
        "    tok: id of token, ex 4\n",
        "    idx_to_tag: dictionary {4: \"B-PER\", ...}\n",
        "\n",
        "  Returns:\n",
        "    tuple: \"B\", \"PER\"\n",
        "  \"\"\"\n",
        "\n",
        "  tag_name = idx_to_tag[tok]\n",
        "  tag_class = tag_name.split('-')[0]\n",
        "  tag_type = tag_name.split('-')[-1]\n",
        "  return tag_class, tag_type"
      ],
      "execution_count": 0,
      "outputs": []
    },
    {
      "cell_type": "code",
      "metadata": {
        "id": "GkasYwVim5XQ",
        "colab_type": "code",
        "colab": {}
      },
      "source": [
        "def get_chunks(seq, tags):\n",
        "  \"\"\"\n",
        "  Given a sequence of tags, group entities and their position\n",
        "\n",
        "  Args:\n",
        "    seq: [4, 4, 0, 0, ...] sequence of labels\n",
        "    tags: dict[\"0\"] = 4\n",
        "\n",
        "  Returns:\n",
        "    list of (chuck_type, chuck_start, chuck_end)\n",
        "\n",
        "  Example:\n",
        "    seq = [4, 5, 0, 3]\n",
        "    tags = {\"B-PER\": 4, \"I_PER\": 5, \"B-LOC\": 3}\n",
        "    result = [(\"PER\", 0, 2), (\"LOC\", 3, 4)]\n",
        "  \"\"\"\n",
        "\n",
        "  # We assume by default the tags lie outside a named entity\n",
        "  default = tags[\"O\"]\n",
        "\n",
        "  idx_to_tag = {idx: tag for tag, idx in tags.items()}\n",
        "\n",
        "  chunks = []\n",
        "\n",
        "  chunk_type, chuck_start = None, None\n",
        "  for i, tok in enumerate(seq):\n",
        "    # End of a chunk 1\n",
        "    if tok == default and chunk_type is not None:\n",
        "      # Add a chunk.\n",
        "      chunk = (chunk_type, chunk_start, i)\n",
        "      chunks.append(chunk)\n",
        "      chunk_type, chunk_start = None, None\n",
        "\n",
        "    # End of a chunk + start of a chunk!\n",
        "    elif tok != default:\n",
        "      tok_chunk_class, tok_chunk_type = get_chunk_type(tok, idx_to_tag)\n",
        "      if chunk_type is None:\n",
        "        # Initialize chunk for each entity\n",
        "        chuck_type, chunk_start = tok_chunk_type, i\n",
        "      elif tok_chunk_type != chunk_type or tok_chunk_class == \"B\":\n",
        "        # If chunk class is B, i.e., its a beginning of a new named entity\n",
        "        # or, if the chunk type is different from the previous one, then we\n",
        "        # start labelling it as a new entity\n",
        "        chunk = (chunk_type, chunk_start, i)\n",
        "        chunks.append(chunk)\n",
        "        chunk_type, chunk_start = tok_chunk_type, i\n",
        "    else:\n",
        "      pass\n",
        "\n",
        "  # end condition\n",
        "  if chunk_type is not None:\n",
        "    chunk = (chunk_type, chunk_start, len(seq))\n",
        "    chunks.append(chunk)\n",
        "\n",
        "  return chunks"
      ],
      "execution_count": 0,
      "outputs": []
    },
    {
      "cell_type": "code",
      "metadata": {
        "id": "OInnjsGFoVFR",
        "colab_type": "code",
        "colab": {}
      },
      "source": [
        "def evaluating(model, datas, best_F, dataset=\"Train\"):\n",
        "  \"\"\"\n",
        "  The function takes as input the model, data and calculates F-1 Score\n",
        "  It performs conditional updates\n",
        "    1) Flag to save the model\n",
        "    2) Best F-1 score, if the F-1 score calculated improves on the previous F-1 score\n",
        "  \"\"\"\n",
        "  # Initialization\n",
        "  prediction = [] # A list that stores predicted tags\n",
        "  save = False # Flag that tells us if the model needs to be saved\n",
        "  new_F = 0.0 # Variable to store the current F1-Score (may not be the best)\n",
        "  correct_pred, total_correct, total_preds = 0., 0., 0. # Count variables\n",
        "\n",
        "  for data in datas:\n",
        "    ground_truth_id = data['tags']\n",
        "    words = data['str_words']\n",
        "    chars2 = data['chars']\n",
        "\n",
        "    if parameters['char_mode'] == 'LSTM':\n",
        "      chars2_sorted = sorted(chars2, key=lambda p: len(p), reverse=True)\n",
        "      d = {}\n",
        "      for i, ci in enumerate(chars2):\n",
        "        for j, cj in enumerate(chars2_sorted):\n",
        "          if ci == cj and not j in d and not i in d.values():\n",
        "            d[j] = i\n",
        "            continue\n",
        "      chars2_length = [len(c) for c in chars2_sorted]\n",
        "      char_maxl = max(chars_length)\n",
        "      chars2_mask = np.zeros((len(chars2_sorted), char_maxl), dtype='int')\n",
        "      for i, c in enumerate(chars2_sorted):\n",
        "        chars2_mask[i, :chars2_length[i]] = c\n",
        "      chars2_mask = Variable(torch.LongTensor(chars2_mask))\n",
        "\n",
        "    if parameters['char_mode'] == 'CNN':\n",
        "      d = {}\n",
        "\n",
        "      # Padding the each word to max word size of that sentence\n",
        "      chars2_length = [len(c) for c in chars2]\n",
        "      char_maxl = max(chars2_length)\n",
        "      chars2_mask = np.zeros((len(chars2_length), char_maxl), dtype='int')\n",
        "      for i, c in enumerate(chars2):\n",
        "        chars2_mask[i, :chars2_length[i]] = c\n",
        "      chars2_mask = Variable(torch.LongTensor(chars2_mask))\n",
        "\n",
        "    dwords = Variable(torch.LongTensor(data['words']))\n",
        "\n",
        "    # We are getting the predicted output from our model\n",
        "    if use_gpu:\n",
        "      val, out = model(model, dwords.cuda(), chars2_mask.cuda(), chars2_length, d)\n",
        "    else:\n",
        "      val, out = model(model, dwords, chars2_mask, chars2_length, d)\n",
        "    predict_id = out\n",
        "\n",
        "    # We use the get chunks function defined above to get the true chunks\n",
        "    # and the predicted chunks from true labels and predicted labels respectively\n",
        "    lab_chunks = set(get_chunks(ground_truth_id, tag_to_id))\n",
        "    lab_pred_chunks = set(get_chunks(predicted_id, tag_to_id))\n",
        "\n",
        "    # Updating the count variables\n",
        "    correct_preds += len(lab_chunks & lab_pred_chunks)\n",
        "    total_preds += len(lab_pred_chunks)\n",
        "    total_correct += len(lab_chunks)\n",
        "\n",
        "  # Calculating the F1-Score\n",
        "  p = correct_preds / total_preds if correct_preds > 0 else 0\n",
        "  r = correct_preds / total_correct if corrects_preds > 0 else 0\n",
        "  new_F = 2 * p * r / (p + r) if correct_preds > 0 else 0\n",
        "\n",
        "  print(\"{}: new_F: {} best_F: {} \".format(dataset, new_F, best_F))\n",
        "\n",
        "  # If our current F1-Score is better than the previous best, we update the best\n",
        "  # to current F1 and we set the flag to indicate that we need to checkpoint this model\n",
        "\n",
        "  if new_F > best_F:\n",
        "    best_F = new_F\n",
        "    save = True\n",
        "\n",
        "  return best_F, new_F, save"
      ],
      "execution_count": 0,
      "outputs": []
    },
    {
      "cell_type": "markdown",
      "metadata": {
        "id": "G-Rz7CQ4RSJY",
        "colab_type": "text"
      },
      "source": [
        "#### Helper function for performing learning rate decay"
      ]
    },
    {
      "cell_type": "code",
      "metadata": {
        "id": "29WcdB_Ib7U2",
        "colab_type": "code",
        "colab": {}
      },
      "source": [
        "def adjust_learning_rate(optimizer, lr):\n",
        "  \"\"\"\n",
        "  Shrink learning rate\n",
        "  \"\"\"\n",
        "  for param_group in optimizer.param_groups:\n",
        "    param_group['lr'] = lr"
      ],
      "execution_count": 0,
      "outputs": []
    },
    {
      "cell_type": "markdown",
      "metadata": {
        "id": "tkLDS_D9cHrI",
        "colab_type": "text"
      },
      "source": [
        "### Training Step\n",
        "\n",
        "If parameters['reload'] is set, we already have a model to load of off, so we can skip the training. We have originally specified a pre-train model since training is an expensive process, but we encourage readers to try this our once they're done with the tutorial."
      ]
    },
    {
      "cell_type": "code",
      "metadata": {
        "id": "B7gmCbaqcXcL",
        "colab_type": "code",
        "colab": {
          "base_uri": "https://localhost:8080/",
          "height": 866
        },
        "outputId": "b25b92b1-9cd2-4ddc-becd-43d429b1c95c"
      },
      "source": [
        "parameters['reload'] = False\n",
        "parameters['char_mode'] = 'CNN'\n",
        "\n",
        "if not parameters['reload']:\n",
        "  tr = time.time()\n",
        "  model.train(True)\n",
        "  for epoch in range(1, number_of_epochs):\n",
        "    for i, index in enumerate(np.random.permutation(len(train_data))):\n",
        "      count += 1\n",
        "      data = train_data[index]\n",
        "      \n",
        "      ## gradient updates for each data entry\n",
        "      model.zero_grad()\n",
        "\n",
        "      sentence_in = data['words']\n",
        "      sentence_in = Variable(torch.LongTensor(sentence_in))\n",
        "      tags = data['tags']\n",
        "      chars2 = data['chars']\n",
        "\n",
        "      if parameters['char_mode'] == 'LSTM':\n",
        "        chars2_sorted = sorted(chars2, key=lambda p: len(p), reverse=True)\n",
        "        d = {}\n",
        "        for i, ci in enumerate(chars2):\n",
        "          for j, cj in enumerate(chars2_sorted):\n",
        "            if ci == cj and not j in d and not i in d.values():\n",
        "              d[j] = i\n",
        "              continue\n",
        "        chars2_length = [len(c) for c in chars2_sorted]\n",
        "        char_maxl = max(chars2_length)\n",
        "        chars2_mask = np.zeros((len(chars2_sorted), char_maxl), dtype='int')\n",
        "        for i, c in enumerate(chars2_sorted):\n",
        "          chars2_mask[i, :chars2_length[i]] = c\n",
        "        chars2_mask = Variable(torch.LongTensor(chars2_mask))\n",
        "\n",
        "      if parameters['char_mode'] == 'CNN':\n",
        "        d = {}\n",
        "        ## Padding each word to max word size of that sentence\n",
        "        chars2_length = [len(c) for c in chars2]\n",
        "        char_maxl = max(chars2_length)\n",
        "        chars2_mask = np.zeros((len(chars2_length), char_maxl), dtype='int')\n",
        "        for i, c in enumerate(chars2):\n",
        "          chars2_mask[i, :chars2_length[i]] = c\n",
        "        chars2_mask = Variable(torch.LongTensor(chars2_mask))\n",
        "\n",
        "      targets = torch.LongTensor(tags)\n",
        "\n",
        "      # we calculate the negative log-likelohood for the predicted tags using the predefined function\n",
        "      if use_gpu:\n",
        "        neg_log_likelihood = model.neg_log_likelihood(model, sentence_in.cuda(), targets.cuda(), chars2_mask.cuda(), chars2_length, d)\n",
        "      else:\n",
        "        neg_log_likelihood = model.neg_log_likelihood(model, sentence_in, targets, chars2_mask, chars2_length, d)\n",
        "\n",
        "      loss += neg_log_likelihood.item() / len(data['words'])\n",
        "      neg_log_likelihood.backward()\n",
        "\n",
        "      # we use gradient clipping to avoid exploding gradients\n",
        "      torch.nn.utils.clip_grad_norm(model.parameters(), gradient_clip)\n",
        "      optimizer.step()\n",
        "\n",
        "      # storing loss\n",
        "      if count % plot_every == 0:\n",
        "        loss /= plot_every\n",
        "        print(count, ': ', loss)\n",
        "        if losses == []:\n",
        "          losses.append(loss)\n",
        "        losses.append(loss)\n",
        "        loss = 0.0\n",
        "\n",
        "      # Evaluating on Train, Test, Dev Sets\n",
        "      if count % (eval_every) == 0 and count > (eval_every * 20) or count % (eval_every*4) == 0 and count < (eval_every * 20):\n",
        "        model.train(False)\n",
        "        best_train_F, new_train_F, _ = evaluating(model, train_data, best_train_F, \"Train\")\n",
        "        best_dev_F, new_dev_F, save = evaluating(model, dev_data, best_dev_F, \"Dev\")\n",
        "\n",
        "        if save:\n",
        "          print(\"Saving model to \", model_name)\n",
        "          torch.save(model.state_dict(), model_name)\n",
        "        best_test_F, new_test_F, _ = evaluating(model, test_data, best_test_F, \"Test\")\n",
        "\n",
        "        all_F.append([new_train_F, new_dev_F, new_test_F])\n",
        "        model.train(True)\n",
        "\n",
        "      # Performing decay on the learning rate\n",
        "      if count % len(train_data) == 0:\n",
        "        adjust_learning_rate(optimizer, lr=learning_rate/(1+decay_rate*count/len(train_data)))\n",
        "\n",
        "    print(time.time() - tr)\n",
        "    plt.plot(losses)\n",
        "    plt.show()\n",
        "\n",
        "if not parameters['reload']:\n",
        "  # reload the best model save from training\n",
        "  model.load_state_dict(torch.load(model_name))"
      ],
      "execution_count": 190,
      "outputs": [
        {
          "output_type": "stream",
          "text": [
            "/usr/local/lib/python3.6/dist-packages/ipykernel_launcher.py:57: UserWarning: torch.nn.utils.clip_grad_norm is now deprecated in favor of torch.nn.utils.clip_grad_norm_.\n"
          ],
          "name": "stderr"
        },
        {
          "output_type": "stream",
          "text": [
            "58000 :  0.05302352504254618\n",
            "60000 :  0.053093433691697674\n",
            "62000 :  0.05325115995712967\n",
            "64000 :  0.05354127080724836\n",
            "66000 :  0.05242917067919303\n",
            "68000 :  0.051368447483039786\n",
            "70000 :  0.05393227681544134\n",
            "181.67642784118652\n"
          ],
          "name": "stdout"
        },
        {
          "output_type": "display_data",
          "data": {
            "image/png": "[encoded data removed]",
            "text/plain": [
              "<Figure size 480x320 with 1 Axes>"
            ]
          },
          "metadata": {
            "tags": []
          }
        },
        {
          "output_type": "stream",
          "text": [
            "/usr/local/lib/python3.6/dist-packages/ipykernel_launcher.py:57: UserWarning: torch.nn.utils.clip_grad_norm is now deprecated in favor of torch.nn.utils.clip_grad_norm_.\n"
          ],
          "name": "stderr"
        },
        {
          "output_type": "stream",
          "text": [
            "72000 :  0.040386151697519815\n",
            "74000 :  0.041823207509067636\n",
            "76000 :  0.045879939282096806\n"
          ],
          "name": "stdout"
        },
        {
          "output_type": "error",
          "ename": "KeyboardInterrupt",
          "evalue": "ignored",
          "traceback": [
            "\u001b[0;31m---------------------------------------------------------------------------\u001b[0m",
            "\u001b[0;31mKeyboardInterrupt\u001b[0m                         Traceback (most recent call last)",
            "\u001b[0;32m<ipython-input-190-16872b5284af>\u001b[0m in \u001b[0;36m<module>\u001b[0;34m()\u001b[0m\n\u001b[1;32m     47\u001b[0m       \u001b[0;31m# we calculate the negative log-likelohood for the predicted tags using the predefined function\u001b[0m\u001b[0;34m\u001b[0m\u001b[0;34m\u001b[0m\u001b[0;34m\u001b[0m\u001b[0m\n\u001b[1;32m     48\u001b[0m       \u001b[0;32mif\u001b[0m \u001b[0muse_gpu\u001b[0m\u001b[0;34m:\u001b[0m\u001b[0;34m\u001b[0m\u001b[0;34m\u001b[0m\u001b[0m\n\u001b[0;32m---> 49\u001b[0;31m         \u001b[0mneg_log_likelihood\u001b[0m \u001b[0;34m=\u001b[0m \u001b[0mmodel\u001b[0m\u001b[0;34m.\u001b[0m\u001b[0mneg_log_likelihood\u001b[0m\u001b[0;34m(\u001b[0m\u001b[0mmodel\u001b[0m\u001b[0;34m,\u001b[0m \u001b[0msentence_in\u001b[0m\u001b[0;34m.\u001b[0m\u001b[0mcuda\u001b[0m\u001b[0;34m(\u001b[0m\u001b[0;34m)\u001b[0m\u001b[0;34m,\u001b[0m \u001b[0mtargets\u001b[0m\u001b[0;34m.\u001b[0m\u001b[0mcuda\u001b[0m\u001b[0;34m(\u001b[0m\u001b[0;34m)\u001b[0m\u001b[0;34m,\u001b[0m \u001b[0mchars2_mask\u001b[0m\u001b[0;34m.\u001b[0m\u001b[0mcuda\u001b[0m\u001b[0;34m(\u001b[0m\u001b[0;34m)\u001b[0m\u001b[0;34m,\u001b[0m \u001b[0mchars2_length\u001b[0m\u001b[0;34m,\u001b[0m \u001b[0md\u001b[0m\u001b[0;34m)\u001b[0m\u001b[0;34m\u001b[0m\u001b[0;34m\u001b[0m\u001b[0m\n\u001b[0m\u001b[1;32m     50\u001b[0m       \u001b[0;32melse\u001b[0m\u001b[0;34m:\u001b[0m\u001b[0;34m\u001b[0m\u001b[0;34m\u001b[0m\u001b[0m\n\u001b[1;32m     51\u001b[0m         \u001b[0mneg_log_likelihood\u001b[0m \u001b[0;34m=\u001b[0m \u001b[0mmodel\u001b[0m\u001b[0;34m.\u001b[0m\u001b[0mneg_log_likelihood\u001b[0m\u001b[0;34m(\u001b[0m\u001b[0mmodel\u001b[0m\u001b[0;34m,\u001b[0m \u001b[0msentence_in\u001b[0m\u001b[0;34m,\u001b[0m \u001b[0mtargets\u001b[0m\u001b[0;34m,\u001b[0m \u001b[0mchars2_mask\u001b[0m\u001b[0;34m,\u001b[0m \u001b[0mchars2_length\u001b[0m\u001b[0;34m,\u001b[0m \u001b[0md\u001b[0m\u001b[0;34m)\u001b[0m\u001b[0;34m\u001b[0m\u001b[0;34m\u001b[0m\u001b[0m\n",
            "\u001b[0;32m<ipython-input-171-f0c346a4d0a1>\u001b[0m in \u001b[0;36mget_neg_log_likelihood\u001b[0;34m(self, sentence, tags, chars2, chars2_length, d)\u001b[0m\n\u001b[1;32m      2\u001b[0m   \u001b[0;31m# sentence, tags is a list of ints\u001b[0m\u001b[0;34m\u001b[0m\u001b[0;34m\u001b[0m\u001b[0;34m\u001b[0m\u001b[0m\n\u001b[1;32m      3\u001b[0m   \u001b[0;31m# features is a 2D tensor, len(sentence) * self.tagset_size\u001b[0m\u001b[0;34m\u001b[0m\u001b[0;34m\u001b[0m\u001b[0;34m\u001b[0m\u001b[0m\n\u001b[0;32m----> 4\u001b[0;31m   \u001b[0mfeats\u001b[0m \u001b[0;34m=\u001b[0m \u001b[0mself\u001b[0m\u001b[0;34m.\u001b[0m\u001b[0m_get_lstm_features\u001b[0m\u001b[0;34m(\u001b[0m\u001b[0mself\u001b[0m\u001b[0;34m,\u001b[0m \u001b[0msentence\u001b[0m\u001b[0;34m,\u001b[0m \u001b[0mchars2\u001b[0m\u001b[0;34m,\u001b[0m \u001b[0mchars2_length\u001b[0m\u001b[0;34m,\u001b[0m \u001b[0md\u001b[0m\u001b[0;34m)\u001b[0m\u001b[0;34m\u001b[0m\u001b[0;34m\u001b[0m\u001b[0m\n\u001b[0m\u001b[1;32m      5\u001b[0m \u001b[0;34m\u001b[0m\u001b[0m\n\u001b[1;32m      6\u001b[0m   \u001b[0;32mif\u001b[0m \u001b[0mself\u001b[0m\u001b[0;34m.\u001b[0m\u001b[0muse_crf\u001b[0m\u001b[0;34m:\u001b[0m\u001b[0;34m\u001b[0m\u001b[0;34m\u001b[0m\u001b[0m\n",
            "\u001b[0;31mKeyboardInterrupt\u001b[0m: "
          ]
        }
      ]
    },
    {
      "cell_type": "markdown",
      "metadata": {
        "id": "lVuHyafjwBAZ",
        "colab_type": "text"
      },
      "source": [
        "### Model Testing\n",
        "\n",
        "This is where we provide our readers with some fun, they can try out how the trained model functions on the sentences that you throw at it. Feel free to play around.\n",
        "\n",
        "**_LIVE: PRODUCTION!_**"
      ]
    },
    {
      "cell_type": "code",
      "metadata": {
        "id": "KVYjVEfuwYgL",
        "colab_type": "code",
        "colab": {}
      },
      "source": [
        "model_testing_resources = ['Jay is from India', 'Donald is the president of USA']\n",
        "\n",
        "# parameters\n",
        "lower = parameters['lower']\n",
        "\n",
        "# preprocessing\n",
        "final_test_data = []\n",
        "for sentence in model_testing_sentences:\n",
        "  s = sentence.split()\n",
        "  str_words = [w for w in s]\n",
        "  words = [word_to_id[lower_case(w, lower) if lower_case(w, lower) in word_to_id else '<UNK>'] for w in str_words]\n",
        "\n",
        "  # Skip characters that are not in the training set\n",
        "  chars = [[char_to_id[c] for c in w if c in char_to_id] for w in str_words]\n",
        "\n",
        "  final_test_data.append({\n",
        "      'str_words': str_words,\n",
        "      'words': words,\n",
        "      'chars': chars\n",
        "  })\n",
        "\n",
        "# prediction\n",
        "predictions = []\n",
        "print('Prediction:')\n",
        "print('word : tag')\n",
        "for data in final_test_data:\n",
        "  words = data['str_words']\n",
        "  chars2 = data['chars']\n",
        "\n",
        "  d = {}\n",
        "\n",
        "  # Pad each word to max word size of that sentence\n",
        "  chars2_length = [len(c) for c in chars2]\n",
        "  char_maxl = max(chars2_length)\n",
        "  chars2_mask = np.zeros((len(chars2_length), char_maxl), dtype='int')\n",
        "  for i, c in enumerate(chars2):\n",
        "    chars2_mask[i, :chars2_length[i]] = c\n",
        "  chars2_mask = Variable(torch.LongTensor(chars2_mask))\n",
        "\n",
        "  dwords = Variable(torch.LongTensor(data['words']))\n",
        "\n",
        "  # We are getting the predicted output from our model\n",
        "  if use_gpu:\n",
        "    val, predicted_id = model(dwords.cuda(), chars2_mask.cuda(), chars2_length, d)\n",
        "  else:\n",
        "    val, predicted_id = model(dwords, chars2_mask, chars2_length, d)\n",
        "\n",
        "  pred_chunks = get_chunks(predicted_id, tag_to_id)\n",
        "  temp_list_tags = ['NA'] * len(words)\n",
        "  for p in pred_chunks:\n",
        "    temp_list_tags[p[1]]=p[0]\n",
        "\n",
        "  for word, tag in zip(words, temp_list_tags):\n",
        "    print(word, ':', tag)\n",
        "\n",
        "  print('\\n')"
      ],
      "execution_count": 0,
      "outputs": []
    },
    {
      "cell_type": "markdown",
      "metadata": {
        "id": "SW_YzwceySkC",
        "colab_type": "text"
      },
      "source": [
        "### References\n",
        "\n",
        "1) Xuezhe Ma and Eduard Hovy. 2016. __End-to-end Sequence Labeling via Bi-directional LSTM-CNNs-CRF.__ In Proceedings of the 54th Annual Meeting of the Association for Computational Linguistics (Volume 1: LongPapers). Association for Computational Linguistics, Berlin, Germany (https://arxiv.org/pdf/1603.01354.pdf)\n",
        "\n",
        "\n",
        "2) Official PyTorch Tutorial: [Advanced: Making Dynamic Decisions and the Bi-LSTM CRF](https://pytorch.org/tutorials/beginner/nlp/advanced_tutorial.html#sphx-glr-beginner-nlp-advanced-tutorial-py)\n",
        "\n",
        "3) [Sequence Taggin with Tensorflow](https://guillaumegenthial.github.io/sequence-tagging-with-tensorflow.html) using bi-LSTM + CRF with character embeddings for NER and POS by Guillaume Genthial\n",
        "\n",
        "4) Github Repository - [Reference Github Repository](https://github.com/jayavardhanr/End-to-end-Sequence-Labeling-via-Bi-directional-LSTM-CNNs-CRF-Tutorial)"
      ]
    }
  ]
}