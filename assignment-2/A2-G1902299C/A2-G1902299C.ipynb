{
 "cells": [
  {
   "cell_type": "markdown",
   "metadata": {
    "colab_type": "text",
    "id": "view-in-github"
   },
   "source": [
    "<a href=\"https://colab.research.google.com/github/alanwuha/ce7455-nlp/blob/master/assignment-2/Report.ipynb\" target=\"_parent\"><img src=\"https://colab.research.google.com/assets/colab-badge.svg\" alt=\"Open In Colab\"/></a>"
   ]
  },
  {
   "cell_type": "markdown",
   "metadata": {
    "colab_type": "text",
    "id": "OXqQafCODRci"
   },
   "source": [
    "<a name='outline'></a>\n",
    "# CE7455 Assignment 2\n",
    "\n",
    "Student name: `Tan Lai Chian Alan`\n",
    "\n",
    "Matric no: `G1902299C`"
   ]
  },
  {
   "cell_type": "markdown",
   "metadata": {
    "colab_type": "text",
    "id": "Zop7hBqzT0yd"
   },
   "source": [
    "The structure of this notebook is as follow:\n",
    "1. [`Setup`](#setup): contains all the helper codes from the given codebase (probably don't need to view this section for grading)\n",
    "2. [`Experiments`](#experiments): contains the codes and results of all the models trained on different configurations based on the assignment questions from parts (iv) to (viii)\n",
    "3. [`Summary of results`](#summary): Results of experiments presented in table format"
   ]
  },
  {
   "cell_type": "markdown",
   "metadata": {
    "colab_type": "text",
    "id": "MjTvcdvk2Z8B"
   },
   "source": [
    "<a name='setup'></a>\n",
    "# 1. SETUP\n",
    "[back to top](#outline)"
   ]
  },
  {
   "cell_type": "markdown",
   "metadata": {
    "colab_type": "text",
    "id": "KIwb3dguDZdj"
   },
   "source": [
    "##### Download the dataset"
   ]
  },
  {
   "cell_type": "code",
   "execution_count": 0,
   "metadata": {
    "colab": {
     "base_uri": "https://localhost:8080/",
     "height": 1000
    },
    "colab_type": "code",
    "id": "ENtmd7XpDb9M",
    "outputId": "42d546aa-a83e-4c6d-890f-cb7448af4f55"
   },
   "outputs": [
    {
     "name": "stdout",
     "output_type": "stream",
     "text": [
      "--2020-03-07 02:28:00--  https://raw.githubusercontent.com/TheAnig/NER-LSTM-CNN-Pytorch/master/data/eng.testa\n",
      "Resolving raw.githubusercontent.com (raw.githubusercontent.com)... 151.101.0.133, 151.101.64.133, 151.101.128.133, ...\n",
      "Connecting to raw.githubusercontent.com (raw.githubusercontent.com)|151.101.0.133|:443... connected.\n",
      "HTTP request sent, awaiting response... 200 OK\n",
      "Length: 827009 (808K) [text/plain]\n",
      "Saving to: ‘./data/eng.testa’\n",
      "\n",
      "\r",
      "eng.testa             0%[                    ]       0  --.-KB/s               \r",
      "eng.testa           100%[===================>] 807.63K  --.-KB/s    in 0.04s   \n",
      "\n",
      "2020-03-07 02:28:00 (22.3 MB/s) - ‘./data/eng.testa’ saved [827009/827009]\n",
      "\n",
      "--2020-03-07 02:28:04--  https://raw.githubusercontent.com/TheAnig/NER-LSTM-CNN-Pytorch/master/data/eng.testb\n",
      "Resolving raw.githubusercontent.com (raw.githubusercontent.com)... 151.101.0.133, 151.101.64.133, 151.101.128.133, ...\n",
      "Connecting to raw.githubusercontent.com (raw.githubusercontent.com)|151.101.0.133|:443... connected.\n",
      "HTTP request sent, awaiting response... 200 OK\n",
      "Length: 748094 (731K) [text/plain]\n",
      "Saving to: ‘./data/eng.testb’\n",
      "\n",
      "eng.testb           100%[===================>] 730.56K  --.-KB/s    in 0.03s   \n",
      "\n",
      "2020-03-07 02:28:05 (27.7 MB/s) - ‘./data/eng.testb’ saved [748094/748094]\n",
      "\n",
      "--2020-03-07 02:28:12--  https://raw.githubusercontent.com/TheAnig/NER-LSTM-CNN-Pytorch/master/data/eng.train\n",
      "Resolving raw.githubusercontent.com (raw.githubusercontent.com)... 151.101.0.133, 151.101.64.133, 151.101.128.133, ...\n",
      "Connecting to raw.githubusercontent.com (raw.githubusercontent.com)|151.101.0.133|:443... connected.\n",
      "HTTP request sent, awaiting response... 200 OK\n",
      "Length: 3281527 (3.1M) [text/plain]\n",
      "Saving to: ‘./data/eng.train’\n",
      "\n",
      "eng.train           100%[===================>]   3.13M  --.-KB/s    in 0.05s   \n",
      "\n",
      "2020-03-07 02:28:12 (63.9 MB/s) - ‘./data/eng.train’ saved [3281527/3281527]\n",
      "\n",
      "--2020-03-07 02:28:18--  https://raw.githubusercontent.com/TheAnig/NER-LSTM-CNN-Pytorch/master/data/eng.train54019\n",
      "Resolving raw.githubusercontent.com (raw.githubusercontent.com)... 151.101.0.133, 151.101.64.133, 151.101.128.133, ...\n",
      "Connecting to raw.githubusercontent.com (raw.githubusercontent.com)|151.101.0.133|:443... connected.\n",
      "HTTP request sent, awaiting response... 200 OK\n",
      "Length: 811103 (792K) [text/plain]\n",
      "Saving to: ‘./data/eng.train54019’\n",
      "\n",
      "eng.train54019      100%[===================>] 792.09K  --.-KB/s    in 0.03s   \n",
      "\n",
      "2020-03-07 02:28:18 (22.7 MB/s) - ‘./data/eng.train54019’ saved [811103/811103]\n",
      "\n",
      "--2020-03-07 02:28:22--  https://raw.githubusercontent.com/TheAnig/NER-LSTM-CNN-Pytorch/master/data/mapping.pkl\n",
      "Resolving raw.githubusercontent.com (raw.githubusercontent.com)... 151.101.0.133, 151.101.64.133, 151.101.128.133, ...\n",
      "Connecting to raw.githubusercontent.com (raw.githubusercontent.com)|151.101.0.133|:443... connected.\n",
      "HTTP request sent, awaiting response... 200 OK\n",
      "Length: 14350005 (14M) [application/octet-stream]\n",
      "Saving to: ‘./data/mapping.pkl’\n",
      "\n",
      "mapping.pkl         100%[===================>]  13.68M  --.-KB/s    in 0.07s   \n",
      "\n",
      "2020-03-07 02:28:23 (199 MB/s) - ‘./data/mapping.pkl’ saved [14350005/14350005]\n",
      "\n",
      "--2020-03-07 02:28:26--  http://nlp.stanford.edu/data/glove.6B.zip\n",
      "Resolving nlp.stanford.edu (nlp.stanford.edu)... 171.64.67.140\n",
      "Connecting to nlp.stanford.edu (nlp.stanford.edu)|171.64.67.140|:80... connected.\n",
      "HTTP request sent, awaiting response... 302 Found\n",
      "Location: https://nlp.stanford.edu/data/glove.6B.zip [following]\n",
      "--2020-03-07 02:28:26--  https://nlp.stanford.edu/data/glove.6B.zip\n",
      "Connecting to nlp.stanford.edu (nlp.stanford.edu)|171.64.67.140|:443... connected.\n",
      "HTTP request sent, awaiting response... 301 Moved Permanently\n",
      "Location: http://downloads.cs.stanford.edu/nlp/data/glove.6B.zip [following]\n",
      "--2020-03-07 02:28:27--  http://downloads.cs.stanford.edu/nlp/data/glove.6B.zip\n",
      "Resolving downloads.cs.stanford.edu (downloads.cs.stanford.edu)... 171.64.64.22\n",
      "Connecting to downloads.cs.stanford.edu (downloads.cs.stanford.edu)|171.64.64.22|:80... connected.\n",
      "HTTP request sent, awaiting response... 200 OK\n",
      "Length: 862182613 (822M) [application/zip]\n",
      "Saving to: ‘./data/glove.6B.zip’\n",
      "\n",
      "glove.6B.zip        100%[===================>] 822.24M  2.20MB/s    in 6m 29s  \n",
      "\n",
      "2020-03-07 02:34:56 (2.11 MB/s) - ‘./data/glove.6B.zip’ saved [862182613/862182613]\n",
      "\n",
      "Archive:  ./data/glove.6B.zip\n",
      "  inflating: ./data/glove.6B.50d.txt  \n",
      "  inflating: ./data/glove.6B.100d.txt  \n",
      "  inflating: ./data/glove.6B.200d.txt  \n",
      "  inflating: ./data/glove.6B.300d.txt  \n"
     ]
    }
   ],
   "source": [
    "!rm -rf data\n",
    "!mkdir data\n",
    "!wget -P ./data https://raw.githubusercontent.com/TheAnig/NER-LSTM-CNN-Pytorch/master/data/eng.testa\n",
    "!wget -P ./data https://raw.githubusercontent.com/TheAnig/NER-LSTM-CNN-Pytorch/master/data/eng.testb\n",
    "!wget -P ./data https://raw.githubusercontent.com/TheAnig/NER-LSTM-CNN-Pytorch/master/data/eng.train\n",
    "!wget -P ./data https://raw.githubusercontent.com/TheAnig/NER-LSTM-CNN-Pytorch/master/data/eng.train54019\n",
    "!wget -P ./data https://raw.githubusercontent.com/TheAnig/NER-LSTM-CNN-Pytorch/master/data/mapping.pkl\n",
    "!wget -P ./data http://nlp.stanford.edu/data/glove.6B.zip\n",
    "!unzip ./data/glove.6B.zip -d ./data"
   ]
  },
  {
   "cell_type": "markdown",
   "metadata": {
    "colab_type": "text",
    "id": "-FAzYkTeDRcp"
   },
   "source": [
    "##### Import libraries"
   ]
  },
  {
   "cell_type": "code",
   "execution_count": 0,
   "metadata": {
    "colab": {},
    "colab_type": "code",
    "id": "DvsjnCUXDRcq"
   },
   "outputs": [],
   "source": [
    "from __future__ import print_function\n",
    "from collections import OrderedDict\n",
    "\n",
    "import torch\n",
    "import torch.nn as nn\n",
    "from torch.nn import init\n",
    "from torch.autograd import Variable\n",
    "from torch import autograd\n",
    "\n",
    "import time\n",
    "import _pickle as cPickle\n",
    "\n",
    "import urllib\n",
    "import matplotlib.pyplot as plt\n",
    "plt.rcParams['figure.dpi'] = 80\n",
    "plt.style.use('seaborn-pastel')\n",
    "\n",
    "import os\n",
    "import sys\n",
    "import codecs\n",
    "import re\n",
    "import numpy as np"
   ]
  },
  {
   "cell_type": "markdown",
   "metadata": {
    "colab_type": "text",
    "id": "_ShM70qSDRcw"
   },
   "source": [
    "##### Define constants and paramaters"
   ]
  },
  {
   "cell_type": "code",
   "execution_count": 0,
   "metadata": {
    "colab": {},
    "colab_type": "code",
    "id": "jX3Lzj52DRcz"
   },
   "outputs": [],
   "source": [
    "#parameters for the Model\n",
    "parameters = OrderedDict()\n",
    "parameters['train'] = \"./data/eng.train\" #Path to train file\n",
    "parameters['dev'] = \"./data/eng.testa\" #Path to test file\n",
    "parameters['test'] = \"./data/eng.testb\" #Path to dev file\n",
    "parameters['tag_scheme'] = \"BIOES\" #BIO or BIOES\n",
    "parameters['lower'] = True # Boolean variable to control lowercasing of words\n",
    "parameters['zeros'] =  True # Boolean variable to control replacement of  all digits by 0 \n",
    "parameters['char_dim'] = 30 #Char embedding dimension\n",
    "parameters['word_dim'] = 100 #Token embedding dimension\n",
    "parameters['word_lstm_dim'] = 200 #Token LSTM hidden layer size\n",
    "parameters['word_bidirect'] = True #Use a bidirectional LSTM for words\n",
    "parameters['embedding_path'] = \"./data/glove.6B.100d.txt\" #Location of pretrained embeddings\n",
    "parameters['all_emb'] = 1 #Load all embeddings\n",
    "parameters['crf'] =1 #Use CRF (0 to disable)\n",
    "parameters['dropout'] = 0.5 #Droupout on the input (0 = no dropout)\n",
    "parameters['epoch'] =  50 #Number of epochs to run\"\n",
    "parameters['weights'] = \"\" #path to Pretrained for from a previous run\n",
    "parameters['name'] = \"self-trained-model\" # Model name\n",
    "parameters['gradient_clip']=5.0\n",
    "parameters['char_mode']=\"CNN\"\n",
    "parameters['encoder_mode']=\"LSTM\"\n",
    "models_path = \"./models/\" #path to saved models\n",
    "\n",
    "#GPU\n",
    "parameters['use_gpu'] = torch.cuda.is_available() #GPU Check\n",
    "use_gpu = parameters['use_gpu']\n",
    "\n",
    "parameters['reload'] = \"./models/self-trained-model\"\n",
    "\n",
    "#Constants\n",
    "START_TAG = '<START>'\n",
    "STOP_TAG = '<STOP>'"
   ]
  },
  {
   "cell_type": "code",
   "execution_count": 0,
   "metadata": {
    "colab": {},
    "colab_type": "code",
    "id": "xjXbeVgUDRc3"
   },
   "outputs": [],
   "source": [
    "#paths to files \n",
    "#To stored mapping file\n",
    "mapping_file = './data/mapping.pkl'\n",
    "\n",
    "#To stored model\n",
    "name = parameters['name']\n",
    "model_name = models_path + name #get_name(parameters)\n",
    "\n",
    "if not os.path.exists(models_path):\n",
    "    os.makedirs(models_path)"
   ]
  },
  {
   "cell_type": "markdown",
   "metadata": {
    "colab_type": "text",
    "id": "pmzPHax8DRc9"
   },
   "source": [
    "##### Load data and preprocess"
   ]
  },
  {
   "cell_type": "code",
   "execution_count": 0,
   "metadata": {
    "colab": {},
    "colab_type": "code",
    "id": "2QHIsqGHDRdA"
   },
   "outputs": [],
   "source": [
    "def zero_digits(s):\n",
    "    \"\"\"\n",
    "    Replace every digit in a string by a zero.\n",
    "    \"\"\"\n",
    "    return re.sub('\\d', '0', s)\n",
    "\n",
    "def load_sentences(path, zeros):\n",
    "    \"\"\"\n",
    "    Load sentences. A line must contain at least a word and its tag.\n",
    "    Sentences are separated by empty lines.\n",
    "    \"\"\"\n",
    "    sentences = []\n",
    "    sentence = []\n",
    "    for line in codecs.open(path, 'r', 'utf8'):\n",
    "        line = zero_digits(line.rstrip()) if zeros else line.rstrip()\n",
    "        if not line:\n",
    "            if len(sentence) > 0:\n",
    "                if 'DOCSTART' not in sentence[0][0]:\n",
    "                    sentences.append(sentence)\n",
    "                sentence = []\n",
    "        else:\n",
    "            word = line.split()\n",
    "            assert len(word) >= 2\n",
    "            sentence.append(word)\n",
    "    if len(sentence) > 0:\n",
    "        if 'DOCSTART' not in sentence[0][0]:\n",
    "            sentences.append(sentence)\n",
    "    return sentences"
   ]
  },
  {
   "cell_type": "code",
   "execution_count": 0,
   "metadata": {
    "colab": {},
    "colab_type": "code",
    "id": "iX_xQP2gDRdG"
   },
   "outputs": [],
   "source": [
    "train_sentences = load_sentences(parameters['train'], parameters['zeros'])\n",
    "test_sentences = load_sentences(parameters['test'], parameters['zeros'])\n",
    "dev_sentences = load_sentences(parameters['dev'], parameters['zeros'])"
   ]
  },
  {
   "cell_type": "markdown",
   "metadata": {
    "colab_type": "text",
    "id": "rt8ePV81DRdL"
   },
   "source": [
    "##### Update tagging scheme"
   ]
  },
  {
   "cell_type": "code",
   "execution_count": 0,
   "metadata": {
    "colab": {},
    "colab_type": "code",
    "id": "JlyGxnArDRdN"
   },
   "outputs": [],
   "source": [
    "def iob2(tags):\n",
    "    \"\"\"\n",
    "    Check that tags have a valid BIO format.\n",
    "    Tags in BIO1 format are converted to BIO2.\n",
    "    \"\"\"\n",
    "    for i, tag in enumerate(tags):\n",
    "        if tag == 'O':\n",
    "            continue\n",
    "        split = tag.split('-')\n",
    "        if len(split) != 2 or split[0] not in ['I', 'B']:\n",
    "            return False\n",
    "        if split[0] == 'B':\n",
    "            continue\n",
    "        elif i == 0 or tags[i - 1] == 'O':  # conversion IOB1 to IOB2\n",
    "            tags[i] = 'B' + tag[1:]\n",
    "        elif tags[i - 1][1:] == tag[1:]:\n",
    "            continue\n",
    "        else:  # conversion IOB1 to IOB2\n",
    "            tags[i] = 'B' + tag[1:]\n",
    "    return True\n",
    "\n",
    "def iob_iobes(tags):\n",
    "    \"\"\"\n",
    "    the function is used to convert\n",
    "    BIO -> BIOES tagging\n",
    "    \"\"\"\n",
    "    new_tags = []\n",
    "    for i, tag in enumerate(tags):\n",
    "        if tag == 'O':\n",
    "            new_tags.append(tag)\n",
    "        elif tag.split('-')[0] == 'B':\n",
    "            if i + 1 != len(tags) and \\\n",
    "               tags[i + 1].split('-')[0] == 'I':\n",
    "                new_tags.append(tag)\n",
    "            else:\n",
    "                new_tags.append(tag.replace('B-', 'S-'))\n",
    "        elif tag.split('-')[0] == 'I':\n",
    "            if i + 1 < len(tags) and \\\n",
    "                    tags[i + 1].split('-')[0] == 'I':\n",
    "                new_tags.append(tag)\n",
    "            else:\n",
    "                new_tags.append(tag.replace('I-', 'E-'))\n",
    "        else:\n",
    "            raise Exception('Invalid IOB format!')\n",
    "    return new_tags\n",
    "\n",
    "def update_tag_scheme(sentences, tag_scheme):\n",
    "    \"\"\"\n",
    "    Check and update sentences tagging scheme to BIO2\n",
    "    Only BIO1 and BIO2 schemes are accepted for input data.\n",
    "    \"\"\"\n",
    "    for i, s in enumerate(sentences):\n",
    "        tags = [w[-1] for w in s]\n",
    "        # Check that tags are given in the BIO format\n",
    "        if not iob2(tags):\n",
    "            s_str = '\\n'.join(' '.join(w) for w in s)\n",
    "            raise Exception('Sentences should be given in BIO format! ' +\n",
    "                            'Please check sentence %i:\\n%s' % (i, s_str))\n",
    "        if tag_scheme == 'BIOES':\n",
    "            new_tags = iob_iobes(tags)\n",
    "            for word, new_tag in zip(s, new_tags):\n",
    "                word[-1] = new_tag\n",
    "        else:\n",
    "            raise Exception('Wrong tagging scheme!')"
   ]
  },
  {
   "cell_type": "code",
   "execution_count": 0,
   "metadata": {
    "colab": {},
    "colab_type": "code",
    "id": "Q43y6fdpDRdS"
   },
   "outputs": [],
   "source": [
    "update_tag_scheme(train_sentences, parameters['tag_scheme'])\n",
    "update_tag_scheme(dev_sentences, parameters['tag_scheme'])\n",
    "update_tag_scheme(test_sentences, parameters['tag_scheme'])"
   ]
  },
  {
   "cell_type": "code",
   "execution_count": 0,
   "metadata": {
    "colab": {
     "base_uri": "https://localhost:8080/"
    },
    "colab_type": "code",
    "id": "TKTR1SdDG7OS",
    "outputId": "c795baf0-02a8-41db-efb5-1503d7c9eb52"
   },
   "outputs": [
    {
     "name": "stdout",
     "output_type": "stream",
     "text": [
      "[['EU', 'NNP', 'I-NP', 'S-ORG'], ['rejects', 'VBZ', 'I-VP', 'O'], ['German', 'JJ', 'I-NP', 'S-MISC'], ['call', 'NN', 'I-NP', 'O'], ['to', 'TO', 'I-VP', 'O'], ['boycott', 'VB', 'I-VP', 'O'], ['British', 'JJ', 'I-NP', 'S-MISC'], ['lamb', 'NN', 'I-NP', 'O'], ['.', '.', 'O', 'O']]\n",
      "[['CRICKET', 'NNP', 'I-NP', 'O'], ['-', ':', 'O', 'O'], ['LEICESTERSHIRE', 'NNP', 'I-NP', 'S-ORG'], ['TAKE', 'NNP', 'I-NP', 'O'], ['OVER', 'IN', 'I-PP', 'O'], ['AT', 'NNP', 'I-NP', 'O'], ['TOP', 'NNP', 'I-NP', 'O'], ['AFTER', 'NNP', 'I-NP', 'O'], ['INNINGS', 'NNP', 'I-NP', 'O'], ['VICTORY', 'NN', 'I-NP', 'O'], ['.', '.', 'O', 'O']]\n",
      "[['SOCCER', 'NN', 'I-NP', 'O'], ['-', ':', 'O', 'O'], ['JAPAN', 'NNP', 'I-NP', 'S-LOC'], ['GET', 'VB', 'I-VP', 'O'], ['LUCKY', 'NNP', 'I-NP', 'O'], ['WIN', 'NNP', 'I-NP', 'O'], [',', ',', 'O', 'O'], ['CHINA', 'NNP', 'I-NP', 'S-PER'], ['IN', 'IN', 'I-PP', 'O'], ['SURPRISE', 'DT', 'I-NP', 'O'], ['DEFEAT', 'NN', 'I-NP', 'O'], ['.', '.', 'O', 'O']]\n"
     ]
    }
   ],
   "source": [
    "print(train_sentences[0])\n",
    "print(dev_sentences[0])\n",
    "print(test_sentences[0])"
   ]
  },
  {
   "cell_type": "markdown",
   "metadata": {
    "colab_type": "text",
    "id": "NLiFG-_EDRdX"
   },
   "source": [
    "##### Create Mappings for Words, Characters and Tags"
   ]
  },
  {
   "cell_type": "code",
   "execution_count": 0,
   "metadata": {
    "colab": {},
    "colab_type": "code",
    "id": "EBY_kDTEDRdd"
   },
   "outputs": [],
   "source": [
    "def create_dico(item_list):\n",
    "    \"\"\"\n",
    "    Create a dictionary of items from a list of list of items.\n",
    "    \"\"\"\n",
    "    assert type(item_list) is list\n",
    "    dico = {}\n",
    "    for items in item_list:\n",
    "        for item in items:\n",
    "            if item not in dico:\n",
    "                dico[item] = 1\n",
    "            else:\n",
    "                dico[item] += 1\n",
    "    return dico\n",
    "\n",
    "def create_mapping(dico):\n",
    "    \"\"\"\n",
    "    Create a mapping (item to ID / ID to item) from a dictionary.\n",
    "    Items are ordered by decreasing frequency.\n",
    "    \"\"\"\n",
    "    sorted_items = sorted(dico.items(), key=lambda x: (-x[1], x[0]))\n",
    "    id_to_item = {i: v[0] for i, v in enumerate(sorted_items)}\n",
    "    item_to_id = {v: k for k, v in id_to_item.items()}\n",
    "    return item_to_id, id_to_item\n",
    "\n",
    "def word_mapping(sentences, lower):\n",
    "    \"\"\"\n",
    "    Create a dictionary and a mapping of words, sorted by frequency.\n",
    "    \"\"\"\n",
    "    words = [[x[0].lower() if lower else x[0] for x in s] for s in sentences]\n",
    "    dico = create_dico(words)\n",
    "    dico['<UNK>'] = 10000000 #UNK tag for unknown words\n",
    "    word_to_id, id_to_word = create_mapping(dico)\n",
    "    print(\"Found %i unique words (%i in total)\" % (\n",
    "        len(dico), sum(len(x) for x in words)\n",
    "    ))\n",
    "    return dico, word_to_id, id_to_word\n",
    "\n",
    "def char_mapping(sentences):\n",
    "    \"\"\"\n",
    "    Create a dictionary and mapping of characters, sorted by frequency.\n",
    "    \"\"\"\n",
    "    chars = [\"\".join([w[0] for w in s]) for s in sentences]\n",
    "    dico = create_dico(chars)\n",
    "    char_to_id, id_to_char = create_mapping(dico)\n",
    "    print(\"Found %i unique characters\" % len(dico))\n",
    "    return dico, char_to_id, id_to_char\n",
    "\n",
    "def tag_mapping(sentences):\n",
    "    \"\"\"\n",
    "    Create a dictionary and a mapping of tags, sorted by frequency.\n",
    "    \"\"\"\n",
    "    tags = [[word[-1] for word in s] for s in sentences]\n",
    "    dico = create_dico(tags)\n",
    "    dico[START_TAG] = -1\n",
    "    dico[STOP_TAG] = -2\n",
    "    tag_to_id, id_to_tag = create_mapping(dico)\n",
    "    print(\"Found %i unique named entity tags\" % len(dico))\n",
    "    return dico, tag_to_id, id_to_tag"
   ]
  },
  {
   "cell_type": "code",
   "execution_count": 0,
   "metadata": {
    "colab": {
     "base_uri": "https://localhost:8080/"
    },
    "colab_type": "code",
    "id": "TMNTkYIGDRdi",
    "outputId": "f2a93bd8-5db6-4fe6-9786-bc65408221fb"
   },
   "outputs": [
    {
     "name": "stdout",
     "output_type": "stream",
     "text": [
      "Found 17493 unique words (203621 in total)\n",
      "Found 75 unique characters\n",
      "Found 19 unique named entity tags\n"
     ]
    }
   ],
   "source": [
    "dico_words,word_to_id,id_to_word = word_mapping(train_sentences, parameters['lower'])\n",
    "dico_chars, char_to_id, id_to_char = char_mapping(train_sentences)\n",
    "dico_tags, tag_to_id, id_to_tag = tag_mapping(train_sentences)"
   ]
  },
  {
   "cell_type": "markdown",
   "metadata": {
    "colab_type": "text",
    "id": "KFVosnodDRdn"
   },
   "source": [
    "##### Preparing final dataset"
   ]
  },
  {
   "cell_type": "code",
   "execution_count": 0,
   "metadata": {
    "colab": {},
    "colab_type": "code",
    "id": "I7XP7rKxDRdq"
   },
   "outputs": [],
   "source": [
    "def lower_case(x,lower=False):\n",
    "    if lower:\n",
    "        return x.lower()  \n",
    "    else:\n",
    "        return x"
   ]
  },
  {
   "cell_type": "code",
   "execution_count": 0,
   "metadata": {
    "colab": {
     "base_uri": "https://localhost:8080/"
    },
    "colab_type": "code",
    "id": "5y_-X34WDRdw",
    "outputId": "deaf5aba-ed61-4ec2-e6e7-e471f9555029"
   },
   "outputs": [
    {
     "name": "stdout",
     "output_type": "stream",
     "text": [
      "14041 / 3250 / 3453 sentences in train / dev / test.\n"
     ]
    }
   ],
   "source": [
    "def prepare_dataset(sentences, word_to_id, char_to_id, tag_to_id, lower=False):\n",
    "    \"\"\"\n",
    "    Prepare the dataset. Return a list of lists of dictionaries containing:\n",
    "        - word indexes\n",
    "        - word char indexes\n",
    "        - tag indexes\n",
    "    \"\"\"\n",
    "    data = []\n",
    "    for s in sentences:\n",
    "        str_words = [w[0] for w in s]\n",
    "        words = [word_to_id[lower_case(w,lower) if lower_case(w,lower) in word_to_id else '<UNK>']\n",
    "                 for w in str_words]\n",
    "        # Skip characters that are not in the training set\n",
    "        chars = [[char_to_id[c] for c in w if c in char_to_id]\n",
    "                 for w in str_words]\n",
    "        tags = [tag_to_id[w[-1]] for w in s]\n",
    "        data.append({\n",
    "            'str_words': str_words,\n",
    "            'words': words,\n",
    "            'chars': chars,\n",
    "            'tags': tags,\n",
    "        })\n",
    "    return data\n",
    "\n",
    "train_data = prepare_dataset(\n",
    "    train_sentences, word_to_id, char_to_id, tag_to_id, parameters['lower']\n",
    ")\n",
    "dev_data = prepare_dataset(\n",
    "    dev_sentences, word_to_id, char_to_id, tag_to_id, parameters['lower']\n",
    ")\n",
    "test_data = prepare_dataset(\n",
    "    test_sentences, word_to_id, char_to_id, tag_to_id, parameters['lower']\n",
    ")\n",
    "print(\"{} / {} / {} sentences in train / dev / test.\".format(len(train_data), len(dev_data), len(test_data)))"
   ]
  },
  {
   "cell_type": "markdown",
   "metadata": {
    "colab_type": "text",
    "id": "ymk-ayfODRd2"
   },
   "source": [
    "##### Load Word Embeddings"
   ]
  },
  {
   "cell_type": "code",
   "execution_count": 0,
   "metadata": {
    "colab": {
     "base_uri": "https://localhost:8080/"
    },
    "colab_type": "code",
    "id": "6D-TehyPDRd3",
    "outputId": "c054274e-8888-4270-bf70-da13becc4c50"
   },
   "outputs": [
    {
     "name": "stdout",
     "output_type": "stream",
     "text": [
      "Loaded 400000 pretrained embeddings.\n"
     ]
    }
   ],
   "source": [
    "all_word_embeds = {}\n",
    "for i, line in enumerate(codecs.open(parameters['embedding_path'], 'r', 'utf-8')):\n",
    "    s = line.strip().split()\n",
    "    if len(s) == parameters['word_dim'] + 1:\n",
    "        all_word_embeds[s[0]] = np.array([float(i) for i in s[1:]])\n",
    "\n",
    "#Intializing Word Embedding Matrix\n",
    "word_embeds = np.random.uniform(-np.sqrt(0.06), np.sqrt(0.06), (len(word_to_id), parameters['word_dim']))\n",
    "\n",
    "for w in word_to_id:\n",
    "    if w in all_word_embeds:\n",
    "        word_embeds[word_to_id[w]] = all_word_embeds[w]\n",
    "    elif w.lower() in all_word_embeds:\n",
    "        word_embeds[word_to_id[w]] = all_word_embeds[w.lower()]\n",
    "\n",
    "print('Loaded %i pretrained embeddings.' % len(all_word_embeds))"
   ]
  },
  {
   "cell_type": "markdown",
   "metadata": {
    "colab_type": "text",
    "id": "QyN4vKHqDRd7"
   },
   "source": [
    "##### Storing Processed Data for Reuse"
   ]
  },
  {
   "cell_type": "code",
   "execution_count": 0,
   "metadata": {
    "colab": {
     "base_uri": "https://localhost:8080/"
    },
    "colab_type": "code",
    "id": "Tu1KZNDJDRd8",
    "outputId": "7f2e0a66-8582-4e70-f12b-ed1620a2cff2"
   },
   "outputs": [
    {
     "name": "stdout",
     "output_type": "stream",
     "text": [
      "word_to_id:  17493\n"
     ]
    }
   ],
   "source": [
    "with open(mapping_file, 'wb') as f:\n",
    "    mappings = {\n",
    "        'word_to_id': word_to_id,\n",
    "        'tag_to_id': tag_to_id,\n",
    "        'char_to_id': char_to_id,\n",
    "        'parameters': parameters,\n",
    "        'word_embeds': word_embeds\n",
    "    }\n",
    "    cPickle.dump(mappings, f)\n",
    "\n",
    "print('word_to_id: ', len(word_to_id))"
   ]
  },
  {
   "cell_type": "markdown",
   "metadata": {
    "colab_type": "text",
    "id": "KYMTOKy4DReB"
   },
   "source": [
    "### Model\n"
   ]
  },
  {
   "cell_type": "markdown",
   "metadata": {
    "colab_type": "text",
    "id": "XBWW2hHIDReE"
   },
   "source": [
    "##### Initialization of weights"
   ]
  },
  {
   "cell_type": "code",
   "execution_count": 0,
   "metadata": {
    "colab": {},
    "colab_type": "code",
    "id": "Sn0awQcdDReG"
   },
   "outputs": [],
   "source": [
    "def init_embedding(input_embedding):\n",
    "    \"\"\"\n",
    "    Initialize embedding\n",
    "    \"\"\"\n",
    "    bias = np.sqrt(3.0 / input_embedding.size(1))\n",
    "    nn.init.uniform(input_embedding, -bias, bias)"
   ]
  },
  {
   "cell_type": "markdown",
   "metadata": {
    "colab_type": "text",
    "id": "7Pjd14HwDReM"
   },
   "source": [
    "##### Initialization of linear layer"
   ]
  },
  {
   "cell_type": "code",
   "execution_count": 0,
   "metadata": {
    "colab": {},
    "colab_type": "code",
    "id": "NZkBys-uDReN"
   },
   "outputs": [],
   "source": [
    "def init_linear(input_linear):\n",
    "    \"\"\"\n",
    "    Initialize linear transformation\n",
    "    \"\"\"\n",
    "    bias = np.sqrt(6.0 / (input_linear.weight.size(0) + input_linear.weight.size(1)))\n",
    "    nn.init.uniform(input_linear.weight, -bias, bias)\n",
    "    if input_linear.bias is not None:\n",
    "        input_linear.bias.data.zero_()"
   ]
  },
  {
   "cell_type": "markdown",
   "metadata": {
    "colab_type": "text",
    "id": "0DcK7dHRDReR"
   },
   "source": [
    "Initialization LSTM layer"
   ]
  },
  {
   "cell_type": "code",
   "execution_count": 0,
   "metadata": {
    "colab": {},
    "colab_type": "code",
    "id": "AMHwC9mcDReS"
   },
   "outputs": [],
   "source": [
    "def init_lstm(input_lstm):\n",
    "    \"\"\"\n",
    "    Initialize lstm\n",
    "    \n",
    "    PyTorch weights parameters:\n",
    "    \n",
    "        weight_ih_l[k]: the learnable input-hidden weights of the k-th layer,\n",
    "            of shape `(hidden_size * input_size)` for `k = 0`. Otherwise, the shape is\n",
    "            `(hidden_size * hidden_size)`\n",
    "            \n",
    "        weight_hh_l[k]: the learnable hidden-hidden weights of the k-th layer,\n",
    "            of shape `(hidden_size * hidden_size)`            \n",
    "    \"\"\"\n",
    "    \n",
    "    # Weights init for forward layer\n",
    "    for ind in range(0, input_lstm.num_layers):\n",
    "        \n",
    "        ## Gets the weights Tensor from our model, for the input-hidden weights in our current layer\n",
    "        weight = eval('input_lstm.weight_ih_l' + str(ind))\n",
    "        \n",
    "        # Initialize the sampling range\n",
    "        sampling_range = np.sqrt(6.0 / (weight.size(0) / 4 + weight.size(1)))\n",
    "        \n",
    "        # Randomly sample from our samping range using uniform distribution and apply it to our current layer\n",
    "        nn.init.uniform(weight, -sampling_range, sampling_range)\n",
    "        \n",
    "        # Similar to above but for the hidden-hidden weights of the current layer\n",
    "        weight = eval('input_lstm.weight_hh_l' + str(ind))\n",
    "        sampling_range = np.sqrt(6.0 / (weight.size(0) / 4 + weight.size(1)))\n",
    "        nn.init.uniform(weight, -sampling_range, sampling_range)\n",
    "        \n",
    "        \n",
    "    # We do the above again, for the backward layer if we are using a bi-directional LSTM (our final model uses this)\n",
    "    if input_lstm.bidirectional:\n",
    "        for ind in range(0, input_lstm.num_layers):\n",
    "            weight = eval('input_lstm.weight_ih_l' + str(ind) + '_reverse')\n",
    "            sampling_range = np.sqrt(6.0 / (weight.size(0) / 4 + weight.size(1)))\n",
    "            nn.init.uniform(weight, -sampling_range, sampling_range)\n",
    "            weight = eval('input_lstm.weight_hh_l' + str(ind) + '_reverse')\n",
    "            sampling_range = np.sqrt(6.0 / (weight.size(0) / 4 + weight.size(1)))\n",
    "            nn.init.uniform(weight, -sampling_range, sampling_range)\n",
    "\n",
    "    # Bias initialization steps\n",
    "    \n",
    "    # We initialize them to zero except for the forget gate bias, which is initialized to 1\n",
    "    if input_lstm.bias:\n",
    "        for ind in range(0, input_lstm.num_layers):\n",
    "            bias = eval('input_lstm.bias_ih_l' + str(ind))\n",
    "            \n",
    "            # Initializing to zero\n",
    "            bias.data.zero_()\n",
    "            \n",
    "            # This is the range of indices for our forget gates for each LSTM cell\n",
    "            bias.data[input_lstm.hidden_size: 2 * input_lstm.hidden_size] = 1\n",
    "            \n",
    "            #Similar for the hidden-hidden layer\n",
    "            bias = eval('input_lstm.bias_hh_l' + str(ind))\n",
    "            bias.data.zero_()\n",
    "            bias.data[input_lstm.hidden_size: 2 * input_lstm.hidden_size] = 1\n",
    "            \n",
    "        # Similar to above, we do for backward layer if we are using a bi-directional LSTM \n",
    "        if input_lstm.bidirectional:\n",
    "            for ind in range(0, input_lstm.num_layers):\n",
    "                bias = eval('input_lstm.bias_ih_l' + str(ind) + '_reverse')\n",
    "                bias.data.zero_()\n",
    "                bias.data[input_lstm.hidden_size: 2 * input_lstm.hidden_size] = 1\n",
    "                bias = eval('input_lstm.bias_hh_l' + str(ind) + '_reverse')\n",
    "                bias.data.zero_()\n",
    "                bias.data[input_lstm.hidden_size: 2 * input_lstm.hidden_size] = 1"
   ]
  },
  {
   "cell_type": "markdown",
   "metadata": {
    "colab_type": "text",
    "id": "Ct6diQrcDReX"
   },
   "source": [
    "#### Evaluation schemes: Forward pass and Viterbi algorithm"
   ]
  },
  {
   "cell_type": "markdown",
   "metadata": {
    "colab_type": "text",
    "id": "SwjQC04GDReZ"
   },
   "source": [
    "##### Helper Functions"
   ]
  },
  {
   "cell_type": "code",
   "execution_count": 0,
   "metadata": {
    "colab": {},
    "colab_type": "code",
    "id": "XwnipPNaDRec"
   },
   "outputs": [],
   "source": [
    "def log_sum_exp(vec):\n",
    "    '''\n",
    "    This function calculates the score explained above for the forward algorithm\n",
    "    vec 2D: 1 * tagset_size\n",
    "    '''\n",
    "    max_score = vec[0, argmax(vec)]\n",
    "    max_score_broadcast = max_score.view(1, -1).expand(1, vec.size()[1])\n",
    "    return max_score + torch.log(torch.sum(torch.exp(vec - max_score_broadcast)))\n",
    "    \n",
    "def argmax(vec):\n",
    "    '''\n",
    "    This function returns the max index in a vector\n",
    "    '''\n",
    "    _, idx = torch.max(vec, 1)\n",
    "    return to_scalar(idx)\n",
    "\n",
    "def to_scalar(var):\n",
    "    '''\n",
    "    Function to convert pytorch tensor to a scalar\n",
    "    '''\n",
    "    return var.view(-1).data.tolist()[0]"
   ]
  },
  {
   "cell_type": "code",
   "execution_count": 0,
   "metadata": {
    "colab": {},
    "colab_type": "code",
    "id": "_dtEKT16DReh"
   },
   "outputs": [],
   "source": [
    "def score_sentences(self, feats, tags):\n",
    "    # tags is ground_truth, a list of ints, length is len(sentence)\n",
    "    # feats is a 2D tensor, len(sentence) * tagset_size\n",
    "    r = torch.LongTensor(range(feats.size()[0]))\n",
    "    if self.use_gpu:\n",
    "        r = r.cuda()\n",
    "        pad_start_tags = torch.cat([torch.cuda.LongTensor([self.tag_to_ix[START_TAG]]), tags])\n",
    "        pad_stop_tags = torch.cat([tags, torch.cuda.LongTensor([self.tag_to_ix[STOP_TAG]])])\n",
    "    else:\n",
    "        pad_start_tags = torch.cat([torch.LongTensor([self.tag_to_ix[START_TAG]]), tags])\n",
    "        pad_stop_tags = torch.cat([tags, torch.LongTensor([self.tag_to_ix[STOP_TAG]])])\n",
    "\n",
    "    score = torch.sum(self.transitions[pad_stop_tags, pad_start_tags]) + torch.sum(feats[r, tags])\n",
    "\n",
    "    return score"
   ]
  },
  {
   "cell_type": "markdown",
   "metadata": {
    "colab_type": "text",
    "id": "DCuvfrkaDRek"
   },
   "source": [
    "##### Implementation of Forward Algorithm"
   ]
  },
  {
   "cell_type": "code",
   "execution_count": 0,
   "metadata": {
    "colab": {},
    "colab_type": "code",
    "id": "TILnefMkDRel"
   },
   "outputs": [],
   "source": [
    "def forward_alg(self, feats):\n",
    "    '''\n",
    "    This function performs the forward algorithm explained above\n",
    "    '''\n",
    "    # calculate in log domain\n",
    "    # feats is len(sentence) * tagset_size\n",
    "    # initialize alpha with a Tensor with values all equal to -10000.\n",
    "    \n",
    "    # Do the forward algorithm to compute the partition function\n",
    "    init_alphas = torch.Tensor(1, self.tagset_size).fill_(-10000.)\n",
    "    \n",
    "    # START_TAG has all of the score.\n",
    "    init_alphas[0][self.tag_to_ix[START_TAG]] = 0.\n",
    "    \n",
    "    # Wrap in a variable so that we will get automatic backprop\n",
    "    forward_var = autograd.Variable(init_alphas)\n",
    "    if self.use_gpu:\n",
    "        forward_var = forward_var.cuda()\n",
    "        \n",
    "    # Iterate through the sentence\n",
    "    for feat in feats:\n",
    "        # broadcast the emission score: it is the same regardless of\n",
    "        # the previous tag\n",
    "        emit_score = feat.view(-1, 1)\n",
    "        \n",
    "        # the ith entry of trans_score is the score of transitioning to\n",
    "        # next_tag from i\n",
    "        tag_var = forward_var + self.transitions + emit_score\n",
    "        \n",
    "        # The ith entry of next_tag_var is the value for the\n",
    "        # edge (i -> next_tag) before we do log-sum-exp\n",
    "        max_tag_var, _ = torch.max(tag_var, dim=1)\n",
    "        \n",
    "        # The forward variable for this tag is log-sum-exp of all the\n",
    "        # scores.\n",
    "        tag_var = tag_var - max_tag_var.view(-1, 1)\n",
    "        \n",
    "        # Compute log sum exp in a numerically stable way for the forward algorithm\n",
    "        forward_var = max_tag_var + torch.log(torch.sum(torch.exp(tag_var), dim=1)).view(1, -1) # ).view(1, -1)\n",
    "    terminal_var = (forward_var + self.transitions[self.tag_to_ix[STOP_TAG]]).view(1, -1)\n",
    "    alpha = log_sum_exp(terminal_var)\n",
    "    # Z(x)\n",
    "    return alpha"
   ]
  },
  {
   "cell_type": "markdown",
   "metadata": {
    "colab_type": "text",
    "id": "aJX5dF38DRer"
   },
   "source": [
    "##### Implementation of Viterbi Algorithm"
   ]
  },
  {
   "cell_type": "code",
   "execution_count": 0,
   "metadata": {
    "colab": {},
    "colab_type": "code",
    "id": "pj_3Cx5vDRet"
   },
   "outputs": [],
   "source": [
    "def viterbi_algo(self, feats):\n",
    "    '''\n",
    "    In this function, we implement the viterbi algorithm explained above.\n",
    "    A Dynamic programming based approach to find the best tag sequence\n",
    "    '''\n",
    "    backpointers = []\n",
    "    # analogous to forward\n",
    "    \n",
    "    # Initialize the viterbi variables in log space\n",
    "    init_vvars = torch.Tensor(1, self.tagset_size).fill_(-10000.)\n",
    "    init_vvars[0][self.tag_to_ix[START_TAG]] = 0\n",
    "    \n",
    "    # forward_var at step i holds the viterbi variables for step i-1\n",
    "    forward_var = Variable(init_vvars)\n",
    "    if self.use_gpu:\n",
    "        forward_var = forward_var.cuda()\n",
    "    for feat in feats:\n",
    "        next_tag_var = forward_var.view(1, -1).expand(self.tagset_size, self.tagset_size) + self.transitions\n",
    "        _, bptrs_t = torch.max(next_tag_var, dim=1)\n",
    "        bptrs_t = bptrs_t.squeeze().data.cpu().numpy() # holds the backpointers for this step\n",
    "        next_tag_var = next_tag_var.data.cpu().numpy() \n",
    "        viterbivars_t = next_tag_var[range(len(bptrs_t)), bptrs_t] # holds the viterbi variables for this step\n",
    "        viterbivars_t = Variable(torch.FloatTensor(viterbivars_t))\n",
    "        if self.use_gpu:\n",
    "            viterbivars_t = viterbivars_t.cuda()\n",
    "            \n",
    "        # Now add in the emission scores, and assign forward_var to the set\n",
    "        # of viterbi variables we just computed\n",
    "        forward_var = viterbivars_t + feat\n",
    "        backpointers.append(bptrs_t)\n",
    "\n",
    "    # Transition to STOP_TAG\n",
    "    terminal_var = forward_var + self.transitions[self.tag_to_ix[STOP_TAG]]\n",
    "    terminal_var.data[self.tag_to_ix[STOP_TAG]] = -10000.\n",
    "    terminal_var.data[self.tag_to_ix[START_TAG]] = -10000.\n",
    "    best_tag_id = argmax(terminal_var.unsqueeze(0))\n",
    "    path_score = terminal_var[best_tag_id]\n",
    "    \n",
    "    # Follow the back pointers to decode the best path.\n",
    "    best_path = [best_tag_id]\n",
    "    for bptrs_t in reversed(backpointers):\n",
    "        best_tag_id = bptrs_t[best_tag_id]\n",
    "        best_path.append(best_tag_id)\n",
    "        \n",
    "    # Pop off the start tag (we dont want to return that to the caller)\n",
    "    start = best_path.pop()\n",
    "    assert start == self.tag_to_ix[START_TAG] # Sanity check\n",
    "    best_path.reverse()\n",
    "    return path_score, best_path"
   ]
  },
  {
   "cell_type": "code",
   "execution_count": 0,
   "metadata": {
    "colab": {},
    "colab_type": "code",
    "id": "OGAhOlDyDRey"
   },
   "outputs": [],
   "source": [
    "def forward_calc(self, sentence, chars, chars2_length, d):\n",
    "    \n",
    "    '''\n",
    "    The function calls viterbi decode and generates the \n",
    "    most probable sequence of tags for the sentence\n",
    "    '''\n",
    "    \n",
    "    # Get the emission scores from the BiLSTM\n",
    "    if self.encoder_mode == 'LSTM':\n",
    "      feats = self._get_lstm_features(sentence, chars, chars2_length, d)\n",
    "    else:\n",
    "      feats = self._get_cnn_features(sentence, chars, chars2_length, d)\n",
    "    # viterbi to get tag_seq\n",
    "    \n",
    "    # Find the best path, given the features.\n",
    "    if self.use_crf:\n",
    "        score, tag_seq = self.viterbi_decode(feats)\n",
    "    else:\n",
    "        score, tag_seq = torch.max(feats, 1)\n",
    "        tag_seq = list(tag_seq.cpu().data)\n",
    "\n",
    "    return score, tag_seq"
   ]
  },
  {
   "cell_type": "markdown",
   "metadata": {
    "colab_type": "text",
    "id": "5R6LD3X8DRe3"
   },
   "source": [
    "### Details of the Model"
   ]
  },
  {
   "cell_type": "markdown",
   "metadata": {
    "colab_type": "text",
    "id": "VDTTs9e9DRe5"
   },
   "source": [
    "##### Main Model Implementation"
   ]
  },
  {
   "cell_type": "markdown",
   "metadata": {
    "colab_type": "text",
    "id": "OGMmZY7LxK1m"
   },
   "source": [
    "The get_lstm_features function returns the LSTM's tag vectors. The function performs all the steps mentioned above for the model.\n",
    "\n",
    "Steps:\n",
    "1. It takes in characters, converts them to embeddings using our character CNN.\n",
    "2. We concat Character Embeeding with glove vectors, use this as features that we feed to Bidirectional-LSTM. \n",
    "3. The Bidirectional-LSTM generates outputs based on these set of features.\n",
    "4. The output are passed through a linear layer to convert to tag space."
   ]
  },
  {
   "cell_type": "code",
   "execution_count": 0,
   "metadata": {
    "colab": {},
    "colab_type": "code",
    "id": "dD0qnAEvDRe8"
   },
   "outputs": [],
   "source": [
    "def get_lstm_features(self, sentence, chars2, chars2_length, d):\n",
    "    \n",
    "    if self.char_mode == 'LSTM':\n",
    "        \n",
    "            chars_embeds = self.char_embeds(chars2).transpose(0, 1)\n",
    "            \n",
    "            packed = torch.nn.utils.rnn.pack_padded_sequence(chars_embeds, chars2_length)\n",
    "            \n",
    "            lstm_out, _ = self.char_lstm(packed)\n",
    "            \n",
    "            outputs, output_lengths = torch.nn.utils.rnn.pad_packed_sequence(lstm_out)\n",
    "            \n",
    "            outputs = outputs.transpose(0, 1)\n",
    "            \n",
    "            chars_embeds_temp = Variable(torch.FloatTensor(torch.zeros((outputs.size(0), outputs.size(2)))))\n",
    "            \n",
    "            if self.use_gpu:\n",
    "                chars_embeds_temp = chars_embeds_temp.cuda()\n",
    "            \n",
    "            for i, index in enumerate(output_lengths):\n",
    "                chars_embeds_temp[i] = torch.cat((outputs[i, index-1, :self.char_lstm_dim], outputs[i, 0, self.char_lstm_dim:]))\n",
    "            \n",
    "            chars_embeds = chars_embeds_temp.clone()\n",
    "            \n",
    "            for i in range(chars_embeds.size(0)):\n",
    "                chars_embeds[d[i]] = chars_embeds_temp[i]\n",
    "    \n",
    "    \n",
    "    if self.char_mode == 'CNN':\n",
    "        chars_embeds = self.char_embeds(chars2).unsqueeze(1)\n",
    "\n",
    "        ## Creating Character level representation using Convolutional Neural Netowrk\n",
    "        ## followed by a Maxpooling Layer\n",
    "        chars_cnn_out3 = self.char_cnn3(chars_embeds)\n",
    "        chars_embeds = nn.functional.max_pool2d(chars_cnn_out3,\n",
    "                                             kernel_size=(chars_cnn_out3.size(2), 1)).view(chars_cnn_out3.size(0), self.out_channels)\n",
    "\n",
    "        ## Loading word embeddings\n",
    "    embeds = self.word_embeds(sentence)\n",
    "\n",
    "    ## We concatenate the word embeddings and the character level representation\n",
    "    ## to create unified representation for each word\n",
    "    embeds = torch.cat((embeds, chars_embeds), 1)\n",
    "\n",
    "    embeds = embeds.unsqueeze(1)\n",
    "\n",
    "    ## Dropout on the unified embeddings\n",
    "    embeds = self.dropout(embeds)\n",
    "\n",
    "    ## Word lstm\n",
    "    ## Takes words as input and generates a output at each step\n",
    "    lstm_out, _ = self.lstm(embeds)\n",
    "\n",
    "    ## Reshaping the outputs from the lstm layer\n",
    "    lstm_out = lstm_out.view(len(sentence), self.hidden_dim*2)\n",
    "\n",
    "    ## Dropout on the lstm output\n",
    "    lstm_out = self.dropout(lstm_out)\n",
    "\n",
    "    ## Linear layer converts the ouput vectors to tag space\n",
    "    lstm_feats = self.hidden2tag(lstm_out)\n",
    "\n",
    "    print(f'lstm_feats size: {lstm_feats.size()}')\n",
    "    \n",
    "    return lstm_feats"
   ]
  },
  {
   "cell_type": "markdown",
   "metadata": {
    "colab_type": "text",
    "id": "ICCGegrUDRfC"
   },
   "source": [
    "##### Function for Negative log likelihood calculation"
   ]
  },
  {
   "cell_type": "code",
   "execution_count": 0,
   "metadata": {
    "colab": {},
    "colab_type": "code",
    "id": "Ybq70SbPDRfG"
   },
   "outputs": [],
   "source": [
    "def get_neg_log_likelihood(self, sentence, tags, chars2, chars2_length, d):\n",
    "    # sentence, tags is a list of ints\n",
    "    # features is a 2D tensor, len(sentence) * self.tagset_size\n",
    "    # print(f'sentence: {sentence}')\n",
    "    # print(f'tags: {tags}')\n",
    "\n",
    "    if self.encoder_mode == 'LSTM':\n",
    "      feats = self._get_lstm_features(sentence, chars2, chars2_length, d)\n",
    "    else:\n",
    "      feats = self._get_cnn_features(sentence, chars2, chars2_length, d)\n",
    "\n",
    "    if self.use_crf:\n",
    "        forward_score = self._forward_alg(feats)\n",
    "        gold_score = self._score_sentence(feats, tags)\n",
    "        return forward_score - gold_score\n",
    "    else:\n",
    "        tags = Variable(tags)\n",
    "        scores = nn.functional.cross_entropy(feats, tags)\n",
    "        return scores"
   ]
  },
  {
   "cell_type": "markdown",
   "metadata": {
    "colab_type": "text",
    "id": "4Vb2Z3oSDRfj"
   },
   "source": [
    "### Evaluation"
   ]
  },
  {
   "cell_type": "markdown",
   "metadata": {
    "colab_type": "text",
    "id": "wKyC8LA8DRfk"
   },
   "source": [
    "##### Helper functions for evaluation"
   ]
  },
  {
   "cell_type": "code",
   "execution_count": 0,
   "metadata": {
    "colab": {},
    "colab_type": "code",
    "id": "NCTUB7LkDRfm"
   },
   "outputs": [],
   "source": [
    "def get_chunk_type(tok, idx_to_tag):\n",
    "    \"\"\"\n",
    "    The function takes in a chunk (\"B-PER\") and then splits it into the tag (PER) and its class (B)\n",
    "    as defined in BIOES\n",
    "    \n",
    "    Args:\n",
    "        tok: id of token, ex 4\n",
    "        idx_to_tag: dictionary {4: \"B-PER\", ...}\n",
    "\n",
    "    Returns:\n",
    "        tuple: \"B\", \"PER\"\n",
    "\n",
    "    \"\"\"\n",
    "    if type(tok) == torch.Tensor:\n",
    "      tok = tok.item()\n",
    "\n",
    "    tag_name = idx_to_tag[tok]\n",
    "    tag_class = tag_name.split('-')[0]\n",
    "    tag_type = tag_name.split('-')[-1]\n",
    "    return tag_class, tag_type"
   ]
  },
  {
   "cell_type": "code",
   "execution_count": 0,
   "metadata": {
    "colab": {},
    "colab_type": "code",
    "id": "C5kE_nCoDRfu"
   },
   "outputs": [],
   "source": [
    "def get_chunks(seq, tags):\n",
    "    \"\"\"Given a sequence of tags, group entities and their position\n",
    "\n",
    "    Args:\n",
    "        seq: [4, 4, 0, 0, ...] sequence of labels\n",
    "        tags: dict[\"O\"] = 4\n",
    "\n",
    "    Returns:\n",
    "        list of (chunk_type, chunk_start, chunk_end)\n",
    "\n",
    "    Example:\n",
    "        seq = [4, 5, 0, 3]\n",
    "        tags = {\"B-PER\": 4, \"I-PER\": 5, \"B-LOC\": 3}\n",
    "        result = [(\"PER\", 0, 2), (\"LOC\", 3, 4)]\n",
    "\n",
    "    \"\"\"\n",
    "    \n",
    "    # We assume by default the tags lie outside a named entity\n",
    "    default = tags[\"O\"]\n",
    "    \n",
    "    idx_to_tag = {idx: tag for tag, idx in tags.items()}\n",
    "    \n",
    "    chunks = []\n",
    "    \n",
    "    chunk_type, chunk_start = None, None\n",
    "    for i, tok in enumerate(seq):\n",
    "        # End of a chunk 1\n",
    "        if tok == default and chunk_type is not None:\n",
    "            # Add a chunk.\n",
    "            chunk = (chunk_type, chunk_start, i)\n",
    "            chunks.append(chunk)\n",
    "            chunk_type, chunk_start = None, None\n",
    "\n",
    "        # End of a chunk + start of a chunk!\n",
    "        elif tok != default:\n",
    "            tok_chunk_class, tok_chunk_type = get_chunk_type(tok, idx_to_tag)\n",
    "            if chunk_type is None:\n",
    "                # Initialize chunk for each entity\n",
    "                chunk_type, chunk_start = tok_chunk_type, i\n",
    "            elif tok_chunk_type != chunk_type or tok_chunk_class == \"B\":\n",
    "                # If chunk class is B, i.e., its a beginning of a new named entity\n",
    "                # or, if the chunk type is different from the previous one, then we\n",
    "                # start labelling it as a new entity\n",
    "                chunk = (chunk_type, chunk_start, i)\n",
    "                chunks.append(chunk)\n",
    "                chunk_type, chunk_start = tok_chunk_type, i\n",
    "        else:\n",
    "            pass\n",
    "\n",
    "    # end condition\n",
    "    if chunk_type is not None:\n",
    "        chunk = (chunk_type, chunk_start, len(seq))\n",
    "        chunks.append(chunk)\n",
    "\n",
    "    return chunks"
   ]
  },
  {
   "cell_type": "code",
   "execution_count": 0,
   "metadata": {
    "colab": {},
    "colab_type": "code",
    "id": "GYMcyWqnDRfz"
   },
   "outputs": [],
   "source": [
    "def evaluating(model, datas, best_F,dataset=\"Train\"):\n",
    "    '''\n",
    "    The function takes as input the model, data and calcuates F-1 Score\n",
    "    It performs conditional updates \n",
    "     1) Flag to save the model \n",
    "     2) Best F-1 score\n",
    "    ,if the F-1 score calculated improves on the previous F-1 score\n",
    "    '''\n",
    "    # Initializations\n",
    "    prediction = [] # A list that stores predicted tags\n",
    "    save = False # Flag that tells us if the model needs to be saved\n",
    "    new_F = 0.0 # Variable to store the current F1-Score (may not be the best)\n",
    "    correct_preds, total_correct, total_preds = 0., 0., 0. # Count variables\n",
    "\n",
    "    for data in datas:\n",
    "        ground_truth_id = data['tags']\n",
    "        words = data['str_words']\n",
    "        chars2 = data['chars']\n",
    "        \n",
    "        if parameters['char_mode'] == 'LSTM':\n",
    "            chars2_sorted = sorted(chars2, key=lambda p: len(p), reverse=True)\n",
    "            d = {}\n",
    "            for i, ci in enumerate(chars2):\n",
    "                for j, cj in enumerate(chars2_sorted):\n",
    "                    if ci == cj and not j in d and not i in d.values():\n",
    "                        d[j] = i\n",
    "                        continue\n",
    "            chars2_length = [len(c) for c in chars2_sorted]\n",
    "            char_maxl = max(chars2_length)\n",
    "            chars2_mask = np.zeros((len(chars2_sorted), char_maxl), dtype='int')\n",
    "            for i, c in enumerate(chars2_sorted):\n",
    "                chars2_mask[i, :chars2_length[i]] = c\n",
    "            chars2_mask = Variable(torch.LongTensor(chars2_mask))\n",
    "        \n",
    "        \n",
    "        if parameters['char_mode'] == 'CNN':\n",
    "            d = {} \n",
    "\n",
    "            # Padding the each word to max word size of that sentence\n",
    "            chars2_length = [len(c) for c in chars2]\n",
    "            char_maxl = max(chars2_length)\n",
    "            chars2_mask = np.zeros((len(chars2_length), char_maxl), dtype='int')\n",
    "            for i, c in enumerate(chars2):\n",
    "                chars2_mask[i, :chars2_length[i]] = c\n",
    "            chars2_mask = Variable(torch.LongTensor(chars2_mask))\n",
    "\n",
    "        dwords = Variable(torch.LongTensor(data['words']))\n",
    "        \n",
    "        # We are getting the predicted output from our model\n",
    "        if use_gpu:\n",
    "            val,out = model(dwords.cuda(), chars2_mask.cuda(), chars2_length, d)\n",
    "        else:\n",
    "            val,out = model(dwords, chars2_mask, chars2_length, d)\n",
    "        predicted_id = out  \n",
    "        \n",
    "        # We use the get chunks function defined above to get the true chunks\n",
    "        # and the predicted chunks from true labels and predicted labels respectively\n",
    "        lab_chunks      = set(get_chunks(ground_truth_id,tag_to_id))\n",
    "        lab_pred_chunks = set(get_chunks(predicted_id,tag_to_id))\n",
    "\n",
    "        # Updating the count variables\n",
    "        correct_preds += len(lab_chunks & lab_pred_chunks)\n",
    "        total_preds   += len(lab_pred_chunks)\n",
    "        total_correct += len(lab_chunks)\n",
    "    \n",
    "    # Calculating the F1-Score\n",
    "    p   = correct_preds / total_preds if correct_preds > 0 else 0\n",
    "    r   = correct_preds / total_correct if correct_preds > 0 else 0\n",
    "    new_F  = 2 * p * r / (p + r) if correct_preds > 0 else 0\n",
    "    new_acc = p\n",
    "\n",
    "    print(\"{}: new_F: {} best_F: {} new_acc:{} \".format(dataset,new_F,best_F,p))\n",
    "    \n",
    "    # If our current F1-Score is better than the previous best, we update the best\n",
    "    # to current F1 and we set the flag to indicate that we need to checkpoint this model\n",
    "    \n",
    "    if new_F>best_F:\n",
    "        best_F=new_F\n",
    "        # save=True\n",
    "\n",
    "    return best_F, new_F, new_acc, save"
   ]
  },
  {
   "cell_type": "markdown",
   "metadata": {
    "colab_type": "text",
    "id": "37W7Vz_tDRf5"
   },
   "source": [
    "##### Helper function for performing Learning rate decay"
   ]
  },
  {
   "cell_type": "code",
   "execution_count": 0,
   "metadata": {
    "colab": {},
    "colab_type": "code",
    "id": "jucZiuL3DRf6"
   },
   "outputs": [],
   "source": [
    "def adjust_learning_rate(optimizer, lr):\n",
    "    \"\"\"\n",
    "    shrink learning rate\n",
    "    \"\"\"\n",
    "    for param_group in optimizer.param_groups:\n",
    "        param_group['lr'] = lr"
   ]
  },
  {
   "cell_type": "markdown",
   "metadata": {
    "colab_type": "text",
    "id": "NlDMmG-JJFtt"
   },
   "source": [
    "##### Helper function for performing early stopping"
   ]
  },
  {
   "cell_type": "code",
   "execution_count": 0,
   "metadata": {
    "colab": {},
    "colab_type": "code",
    "id": "FjW30hnYJLGl"
   },
   "outputs": [],
   "source": [
    "class EarlyStopping(object):\n",
    "    def __init__(self, mode='min', min_delta=0, patience=10, percentage=False):\n",
    "        self.mode = mode\n",
    "        self.min_delta = min_delta\n",
    "        self.patience = patience\n",
    "        self.best = None\n",
    "        self.num_bad_epochs = 0\n",
    "        self.is_better = None\n",
    "        self._init_is_better(mode, min_delta, percentage)\n",
    "\n",
    "        if patience == 0:\n",
    "            self.is_better = lambda a, b: True\n",
    "            self.step = lambda a: False\n",
    "\n",
    "    def step(self, metrics):\n",
    "        if self.best is None:\n",
    "            self.best = metrics\n",
    "            return False\n",
    "\n",
    "        # if torch.isnan(metrics):\n",
    "        if metrics is None:\n",
    "            return True\n",
    "\n",
    "        if self.is_better(metrics, self.best):\n",
    "            self.num_bad_epochs = 0\n",
    "            self.best = metrics\n",
    "        else:\n",
    "            self.num_bad_epochs += 1\n",
    "\n",
    "        if self.num_bad_epochs >= self.patience:\n",
    "            return True\n",
    "\n",
    "        return False\n",
    "\n",
    "    def _init_is_better(self, mode, min_delta, percentage):\n",
    "        if mode not in {'min', 'max'}:\n",
    "            raise ValueError('mode ' + mode + ' is unknown!')\n",
    "        if not percentage:\n",
    "            if mode == 'min':\n",
    "                self.is_better = lambda a, best: a < best - min_delta\n",
    "            if mode == 'max':\n",
    "                self.is_better = lambda a, best: a > best + min_delta\n",
    "        else:\n",
    "            if mode == 'min':\n",
    "                self.is_better = lambda a, best: a < best - (\n",
    "                            best * min_delta / 100)\n",
    "            if mode == 'max':\n",
    "                self.is_better = lambda a, best: a > best + (\n",
    "                            best * min_delta / 100)"
   ]
  },
  {
   "cell_type": "markdown",
   "metadata": {
    "colab_type": "text",
    "id": "T-yg7sH0DRgA"
   },
   "source": [
    "<a name='experiments'></a>\n",
    "# 2. EXPERIMENTS\n",
    "[back to top](#outline)"
   ]
  },
  {
   "cell_type": "markdown",
   "metadata": {
    "colab_type": "text",
    "id": "L2vw1ZZk2kX2"
   },
   "source": [
    "### (iv) Replace the LSTM-based word-level encoder with a CNN layer (convolutional layer followed by an optional max pooling layer). The CNN layer should have the same output dimensions (out_channels) as the LSTM."
   ]
  },
  {
   "cell_type": "markdown",
   "metadata": {
    "colab_type": "text",
    "id": "UceGM0YTigs7"
   },
   "source": [
    "#### Get CNN Features Function\n",
    "\n",
    "The get_cnn_features function returns the CNN's tag vectors. The function performs all the steps mentioned above for the model.\n",
    "\n",
    "Steps:\n",
    "1. It takes in characters, converts them to embeddings using our character CNN.\n",
    "2. We concat Character Embedding with glove vectors, use this as features that we feed to CNN. \n",
    "3. The CNN generates outputs based on these set of features.\n",
    "4. The output are passed through a linear layer to convert to tag space."
   ]
  },
  {
   "cell_type": "code",
   "execution_count": 0,
   "metadata": {
    "colab": {},
    "colab_type": "code",
    "id": "RQsA-5DgcA2S"
   },
   "outputs": [],
   "source": [
    "def get_cnn_features(self, sentence, chars2, chars2_length, d):\n",
    "\n",
    "    if self.char_mode == 'LSTM':\n",
    "        \n",
    "            chars_embeds = self.char_embeds(chars2).transpose(0, 1)\n",
    "            \n",
    "            packed = torch.nn.utils.rnn.pack_padded_sequence(chars_embeds, chars2_length)\n",
    "            \n",
    "            lstm_out, _ = self.char_lstm(packed)\n",
    "            \n",
    "            outputs, output_lengths = torch.nn.utils.rnn.pad_packed_sequence(lstm_out)\n",
    "            \n",
    "            outputs = outputs.transpose(0, 1)\n",
    "            \n",
    "            chars_embeds_temp = Variable(torch.FloatTensor(torch.zeros((outputs.size(0), outputs.size(2)))))\n",
    "            \n",
    "            if self.use_gpu:\n",
    "                chars_embeds_temp = chars_embeds_temp.cuda()\n",
    "            \n",
    "            for i, index in enumerate(output_lengths):\n",
    "                chars_embeds_temp[i] = torch.cat((outputs[i, index-1, :self.char_lstm_dim], outputs[i, 0, self.char_lstm_dim:]))\n",
    "            \n",
    "            chars_embeds = chars_embeds_temp.clone()\n",
    "            \n",
    "            for i in range(chars_embeds.size(0)):\n",
    "                chars_embeds[d[i]] = chars_embeds_temp[i]\n",
    "    \n",
    "    \n",
    "    if self.char_mode == 'CNN':\n",
    "        chars_embeds = self.char_embeds(chars2).unsqueeze(1)\n",
    "\n",
    "        ## Creating Character level representation using Convolutional Neural Netowrk\n",
    "        ## followed by a Maxpooling Layer\n",
    "        chars_cnn_out3 = self.char_cnn3(chars_embeds)\n",
    "        chars_embeds = nn.functional.max_pool2d(chars_cnn_out3,\n",
    "                                             kernel_size=(chars_cnn_out3.size(2), 1)).view(chars_cnn_out3.size(0), self.out_channels)\n",
    "\n",
    "    ## Loading word embeddings\n",
    "    embeds = self.word_embeds(sentence)\n",
    "\n",
    "    ## We concatenate the word embeddings and the character level representation\n",
    "    ## to create unified representation for each word\n",
    "    embeds = torch.cat((embeds, chars_embeds), 1)\n",
    "    embeds = embeds.unsqueeze(1).unsqueeze(1)\n",
    "    # print(f'\\nembeds: {embeds.size()}')\n",
    "\n",
    "    ## Word lstm\n",
    "    ## Takes words as input and generates an output\n",
    "    cnn_out = self.conv1(embeds)\n",
    "    # print(f'conv1: {cnn_out.size()}')\n",
    "\n",
    "    ## Maxpool on the lstm output\n",
    "    cnn_out = self.maxpool1(cnn_out)\n",
    "    # print(f'maxpool1: {cnn_out.size()}')\n",
    "\n",
    "    # 2-layer CNN word-level encoder\n",
    "    if parameters['encoder_mode'] == 'CNN2':\n",
    "      cnn_out = self.conv2(cnn_out)\n",
    "      # print(f'conv2: {cnn_out.size()}')\n",
    "      cnn_out = self.maxpool2(cnn_out)\n",
    "      # print(f'maxpool2: {cnn_out.size()}')\n",
    "\n",
    "    # 3-layer CNN word-level encoder\n",
    "    if parameters['encoder_mode'] == 'CNN3' or parameters['encoder_mode'] == 'CNN_DILATED':\n",
    "      cnn_out = self.conv2(cnn_out)\n",
    "      # print(f'conv2: {cnn_out.size()}')\n",
    "      cnn_out = self.maxpool2(cnn_out)\n",
    "      # print(f'maxpool2: {cnn_out.size()}')\n",
    "      cnn_out = self.conv3(cnn_out)\n",
    "      # print(f'conv3: {cnn_out.size()}')\n",
    "      cnn_out = self.maxpool3(cnn_out)\n",
    "      # print(f'maxpool3: {cnn_out.size()}')\n",
    "\n",
    "    ## Reshaping the outputs from the cnn layer\n",
    "    cnn_out = cnn_out.squeeze(-1).squeeze(-1)\n",
    "    # print(f'cnn_out: {cnn_out.size()}')\n",
    "\n",
    "    ## Linear layer converts the ouput vectors to tag space\n",
    "    cnn_feats = self.hidden2tag(cnn_out)\n",
    "    # print(f'cnn_feats: {cnn_feats.size()}')\n",
    "    \n",
    "    return cnn_feats"
   ]
  },
  {
   "cell_type": "markdown",
   "metadata": {
    "colab_type": "text",
    "id": "zqQYFYmZE8rj"
   },
   "source": [
    "#### Model Class"
   ]
  },
  {
   "cell_type": "code",
   "execution_count": 0,
   "metadata": {
    "colab": {},
    "colab_type": "code",
    "id": "wfTxygLeDRfR"
   },
   "outputs": [],
   "source": [
    "class BiLSTM_CRF(nn.Module):\n",
    "\n",
    "    def __init__(self, vocab_size, tag_to_ix, embedding_dim, hidden_dim,\n",
    "                 char_to_ix=None, pre_word_embeds=None, char_out_dimension=25,char_embedding_dim=25, use_gpu=False\n",
    "                 , use_crf=True, char_mode='CNN', encoder_mode='LSTM'):\n",
    "        '''\n",
    "        Input parameters:\n",
    "                \n",
    "                vocab_size= Size of vocabulary (int)\n",
    "                tag_to_ix = Dictionary that maps NER tags to indices\n",
    "                embedding_dim = Dimension of word embeddings (int)\n",
    "                hidden_dim = The hidden dimension of the LSTM layer (int)\n",
    "                char_to_ix = Dictionary that maps characters to indices\n",
    "                pre_word_embeds = Numpy array which provides mapping from word embeddings to word indices\n",
    "                char_out_dimension = Output dimension from the CNN encoder for character\n",
    "                char_embedding_dim = Dimension of the character embeddings\n",
    "                use_gpu = defines availability of GPU, \n",
    "                    when True: CUDA function calls are made\n",
    "                    else: Normal CPU function calls are made\n",
    "                use_crf = parameter which decides if you want to use the CRF layer for output decoding\n",
    "        '''\n",
    "        \n",
    "        super(BiLSTM_CRF, self).__init__()\n",
    "        \n",
    "        #parameter initialization for the model\n",
    "        self.use_gpu = use_gpu\n",
    "        self.embedding_dim = embedding_dim\n",
    "        self.hidden_dim = hidden_dim\n",
    "        self.vocab_size = vocab_size\n",
    "        self.tag_to_ix = tag_to_ix\n",
    "        self.use_crf = use_crf\n",
    "        self.tagset_size = len(tag_to_ix)\n",
    "        self.out_channels = char_out_dimension\n",
    "        self.char_mode = char_mode\n",
    "        self.encoder_mode = encoder_mode\n",
    "        self.char_lstm_dim = char_out_dimension\n",
    "\n",
    "        if char_embedding_dim is not None:\n",
    "            self.char_embedding_dim = char_embedding_dim\n",
    "            \n",
    "            #Initializing the character embedding layer\n",
    "            self.char_embeds = nn.Embedding(len(char_to_ix), char_embedding_dim)\n",
    "            init_embedding(self.char_embeds.weight)\n",
    "            \n",
    "            #Performing LSTM encoding on the character embeddings\n",
    "            if self.char_mode == 'LSTM':\n",
    "                self.char_lstm = nn.LSTM(char_embedding_dim, self.char_lstm_dim, num_layers=1, bidirectional=True)\n",
    "                init_lstm(self.char_lstm)\n",
    "                \n",
    "            #Performing CNN encoding on the character embeddings\n",
    "            if self.char_mode == 'CNN':\n",
    "                self.char_cnn3 = nn.Conv2d(in_channels=1, out_channels=self.out_channels, kernel_size=(3, char_embedding_dim), padding=(2,0))\n",
    "\n",
    "        #Creating Embedding layer with dimension of ( number of words * dimension of each word)\n",
    "        self.word_embeds = nn.Embedding(vocab_size, embedding_dim)\n",
    "        if pre_word_embeds is not None:\n",
    "            #Initializes the word embeddings with pretrained word embeddings\n",
    "            self.pre_word_embeds = True\n",
    "            self.word_embeds.weight = nn.Parameter(torch.FloatTensor(pre_word_embeds))\n",
    "        else:\n",
    "            self.pre_word_embeds = False\n",
    "    \n",
    "        #Initializing the dropout layer, with dropout specificed in parameters\n",
    "        self.dropout = nn.Dropout(parameters['dropout'])\n",
    "        \n",
    "        # Lstm Layer:\n",
    "        if self.encoder_mode == 'LSTM':\n",
    "          if self.char_mode == 'LSTM':\n",
    "              self.lstm = nn.LSTM(embedding_dim+self.char_lstm_dim*2, hidden_dim, bidirectional=True)\n",
    "          if self.char_mode == 'CNN':\n",
    "              self.lstm = nn.LSTM(embedding_dim+self.out_channels, hidden_dim, bidirectional=True)\n",
    "          \n",
    "          #Initializing the lstm layer using predefined function for initialization\n",
    "          init_lstm(self.lstm)\n",
    "\n",
    "          # Linear layer which maps the output of the bidirectional LSTM into tag space.\n",
    "          self.hidden2tag = nn.Linear(hidden_dim*2, self.tagset_size)\n",
    "\n",
    "        # CNN (One-layer):\n",
    "        if self.encoder_mode == 'CNN':\n",
    "          # Conv layer\n",
    "          self.conv1 = nn.Conv2d(in_channels=1, out_channels=hidden_dim*2, kernel_size=(1,1), padding=(0,0))\n",
    "\n",
    "          # Initializing the conv layer\n",
    "          nn.init.xavier_uniform(self.conv1.weight)\n",
    "\n",
    "          if self.char_mode == 'LSTM':\n",
    "              print(f'embedding_dim={embedding_dim}, char_lstm_dim={self.char_lstm_dim*2}, in={embedding_dim+self.char_lstm_dim*2}')\n",
    "              self.maxpool1 = nn.MaxPool2d((1, embedding_dim+self.char_lstm_dim*2))\n",
    "          if self.char_mode == 'CNN':\n",
    "              print(f'embedding_dim={embedding_dim}, self.out_channels={self.out_channels}, in={embedding_dim+self.out_channels}')\n",
    "              self.maxpool1 = nn.MaxPool2d((1, embedding_dim+self.out_channels))\n",
    "\n",
    "        # CNN (Two-layer):\n",
    "        if self.encoder_mode == 'CNN2':\n",
    "          # Conv layer\n",
    "          self.conv1 = nn.Conv2d(in_channels=1, out_channels=hidden_dim*2, kernel_size=(1,1), padding=(0,0))\n",
    "          self.conv2 = nn.Conv2d(in_channels=hidden_dim*2, out_channels=hidden_dim*2, kernel_size=(1,1), padding=(0,0))\n",
    "\n",
    "          # Initializing the conv layer\n",
    "          nn.init.xavier_uniform(self.conv1.weight)\n",
    "          nn.init.xavier_uniform(self.conv2.weight)\n",
    "\n",
    "          self.maxpool1 = nn.MaxPool2d((1, 2))\n",
    "          self.maxpool2 = nn.MaxPool2d((1, (embedding_dim+self.out_channels)//2))\n",
    "\n",
    "        # CNN (Three-layer):\n",
    "        if self.encoder_mode == 'CNN3':\n",
    "          # Conv layer\n",
    "          self.conv1 = nn.Conv2d(in_channels=1, out_channels=hidden_dim*2, kernel_size=(1,1), padding=(0,0))\n",
    "          self.conv2 = nn.Conv2d(in_channels=hidden_dim*2, out_channels=hidden_dim*2, kernel_size=(1,1), padding=(0,0))\n",
    "          self.conv3 = nn.Conv2d(in_channels=hidden_dim*2, out_channels=hidden_dim*2, kernel_size=(1,1), padding=(0,0))\n",
    "\n",
    "          # Initializing the conv layer\n",
    "          nn.init.xavier_uniform(self.conv1.weight)\n",
    "          nn.init.xavier_uniform(self.conv2.weight)\n",
    "          nn.init.xavier_uniform(self.conv3.weight)\n",
    "\n",
    "          self.maxpool1 = nn.MaxPool2d((1, 2))\n",
    "          self.maxpool2 = nn.MaxPool2d((1, 2))\n",
    "          self.maxpool3 = nn.MaxPool2d((1, (embedding_dim+self.out_channels)//4))\n",
    "\n",
    "        # CNN (Dilated Three-layer):\n",
    "        if self.encoder_mode == 'CNN_DILATED':\n",
    "          # Conv layer\n",
    "          self.conv1 = nn.Conv2d(in_channels=1, out_channels=hidden_dim*2, kernel_size=(1,2), padding=(0,0), dilation=1)\n",
    "          self.conv2 = nn.Conv2d(in_channels=hidden_dim*2, out_channels=hidden_dim*2, kernel_size=(1,2), padding=(0,0), dilation=2)\n",
    "          self.conv3 = nn.Conv2d(in_channels=hidden_dim*2, out_channels=hidden_dim*2, kernel_size=(1,2), padding=(0,0), dilation=3)\n",
    "\n",
    "          # Initializing the conv layer\n",
    "          nn.init.xavier_uniform(self.conv1.weight)\n",
    "          nn.init.xavier_uniform(self.conv2.weight)\n",
    "          nn.init.xavier_uniform(self.conv3.weight)\n",
    "\n",
    "          self.maxpool1 = nn.MaxPool2d((1, 2))\n",
    "          self.maxpool2 = nn.MaxPool2d((1, 2))\n",
    "          self.maxpool3 = nn.MaxPool2d((1, 27))\n",
    "\n",
    "        # Linear layer which maps the output of the bidirectional LSTM into tag space.\n",
    "        self.hidden2tag = nn.Linear(hidden_dim*2, self.tagset_size)\n",
    "        \n",
    "        #Initializing the linear layer using predefined function for initialization\n",
    "        init_linear(self.hidden2tag)\n",
    "\n",
    "        if self.use_crf:\n",
    "            # Matrix of transition parameters.  Entry i,j is the score of transitioning *to* i *from* j.\n",
    "            # Matrix has a dimension of (total number of tags * total number of tags)\n",
    "            self.transitions = nn.Parameter(\n",
    "                torch.zeros(self.tagset_size, self.tagset_size))\n",
    "            \n",
    "            # These two statements enforce the constraint that we never transfer\n",
    "            # to the start tag and we never transfer from the stop tag\n",
    "            self.transitions.data[tag_to_ix[START_TAG], :] = -10000\n",
    "            self.transitions.data[:, tag_to_ix[STOP_TAG]] = -10000\n",
    "\n",
    "    #assigning the functions, which we have defined earlier\n",
    "    _score_sentence = score_sentences\n",
    "    _get_lstm_features = get_lstm_features\n",
    "    _get_cnn_features = get_cnn_features\n",
    "    _forward_alg = forward_alg\n",
    "    viterbi_decode = viterbi_algo\n",
    "    neg_log_likelihood = get_neg_log_likelihood\n",
    "    forward = forward_calc"
   ]
  },
  {
   "cell_type": "markdown",
   "metadata": {
    "colab_type": "text",
    "id": "9hXfvqHPIs69"
   },
   "source": [
    "#### Create and Train Model Function"
   ]
  },
  {
   "cell_type": "code",
   "execution_count": 0,
   "metadata": {
    "colab": {},
    "colab_type": "code",
    "id": "0MpCwUUIDRfX"
   },
   "outputs": [],
   "source": [
    "def create_and_train_model():  \n",
    "  # Create model\n",
    "  model = BiLSTM_CRF(vocab_size=len(word_to_id),\n",
    "                    tag_to_ix=tag_to_id,\n",
    "                    embedding_dim=parameters['word_dim'],\n",
    "                    hidden_dim=parameters['word_lstm_dim'],\n",
    "                    use_gpu=use_gpu,\n",
    "                    char_to_ix=char_to_id,\n",
    "                    pre_word_embeds=word_embeds,\n",
    "                    use_crf=parameters['crf'],\n",
    "                    char_mode=parameters['char_mode'],\n",
    "                    encoder_mode=parameters['encoder_mode'])\n",
    "  \n",
    "  # Enable GPU\n",
    "  if use_gpu:\n",
    "      model.cuda()\n",
    "\n",
    "  print(f\"\\nChar mode: {parameters['char_mode']}, Encoder mode: {parameters['encoder_mode']}\")\n",
    "\n",
    "  # Training parameters\n",
    "  learning_rate = 0.015\n",
    "  momentum = 0.9\n",
    "  number_of_epochs = parameters['epoch'] \n",
    "  decay_rate = 0.05\n",
    "  gradient_clip = parameters['gradient_clip']\n",
    "  optimizer = torch.optim.SGD(model.parameters(), lr=learning_rate, momentum=momentum)\n",
    "\n",
    "  # Variables which will used in training process\n",
    "  losses = [] #list to store all losses\n",
    "  loss = 0.0 #Loss Initializatoin\n",
    "  best_dev_F = -1.0 # Current best F-1 Score on Dev Set\n",
    "  best_test_F = -1.0 # Current best F-1 Score on Test Set\n",
    "  best_train_F = -1.0 # Current best F-1 Score on Train Set\n",
    "  all_F = [[0, 0, 0]] # List storing all the F-1 Scores\n",
    "  all_acc = [[0, 0, 0]] # List storing all the Accuracy Scores\n",
    "  eval_every = len(train_data) # Calculate F-1 Score after this many iterations\n",
    "  plot_every = 2000 # Store loss after this many iterations\n",
    "  count = 0 #Counts the number of iterations\n",
    "\n",
    "  # Define early stopping\n",
    "  es = EarlyStopping(patience=10)\n",
    "\n",
    "  # eval_every = 1\n",
    "\n",
    "  tr = time.time()\n",
    "  model.train(True)\n",
    "  for epoch in range(1,number_of_epochs):\n",
    "      print(f'Epoch {epoch}:')\n",
    "      for i, index in enumerate(np.random.permutation(len(train_data))):\n",
    "      # for i, index in enumerate(np.random.permutation(eval_every)):\n",
    "          count += 1\n",
    "          data = train_data[index]\n",
    "\n",
    "          ##gradient updates for each data entry\n",
    "          model.zero_grad()\n",
    "\n",
    "          sentence_in = data['words']\n",
    "          sentence_in = Variable(torch.LongTensor(sentence_in))\n",
    "          tags = data['tags']\n",
    "          chars2 = data['chars']\n",
    "          \n",
    "          if parameters['char_mode'] == 'LSTM':\n",
    "              chars2_sorted = sorted(chars2, key=lambda p: len(p), reverse=True)\n",
    "              d = {}\n",
    "              for i, ci in enumerate(chars2):\n",
    "                  for j, cj in enumerate(chars2_sorted):\n",
    "                      if ci == cj and not j in d and not i in d.values():\n",
    "                          d[j] = i\n",
    "                          continue\n",
    "              chars2_length = [len(c) for c in chars2_sorted]\n",
    "              char_maxl = max(chars2_length)\n",
    "              chars2_mask = np.zeros((len(chars2_sorted), char_maxl), dtype='int')\n",
    "              for i, c in enumerate(chars2_sorted):\n",
    "                  chars2_mask[i, :chars2_length[i]] = c\n",
    "              chars2_mask = Variable(torch.LongTensor(chars2_mask))\n",
    "          \n",
    "          if parameters['char_mode'] == 'CNN':\n",
    "\n",
    "              d = {}\n",
    "\n",
    "              ## Padding the each word to max word size of that sentence\n",
    "              chars2_length = [len(c) for c in chars2]\n",
    "              char_maxl = max(chars2_length)\n",
    "              chars2_mask = np.zeros((len(chars2_length), char_maxl), dtype='int')\n",
    "              for i, c in enumerate(chars2):\n",
    "                  chars2_mask[i, :chars2_length[i]] = c\n",
    "              chars2_mask = Variable(torch.LongTensor(chars2_mask))\n",
    "\n",
    "\n",
    "          targets = torch.LongTensor(tags)\n",
    "\n",
    "          #we calculate the negative log-likelihood for the predicted tags using the predefined function\n",
    "          if use_gpu:\n",
    "              neg_log_likelihood = model.neg_log_likelihood(sentence_in.cuda(), targets.cuda(), chars2_mask.cuda(), chars2_length, d)\n",
    "          else:\n",
    "              neg_log_likelihood = model.neg_log_likelihood(sentence_in, targets, chars2_mask, chars2_length, d)\n",
    "\n",
    "          loss += neg_log_likelihood.item() / len(data['words'])\n",
    "          neg_log_likelihood.backward()\n",
    "\n",
    "          #we use gradient clipping to avoid exploding gradients\n",
    "          torch.nn.utils.clip_grad_norm(model.parameters(), gradient_clip)\n",
    "          optimizer.step()\n",
    "\n",
    "          #Storing loss\n",
    "          if count % plot_every == 0:\n",
    "              loss /= plot_every\n",
    "              print(count, ': ', loss)\n",
    "              if losses == []:\n",
    "                  losses.append(loss)\n",
    "              losses.append(loss)\n",
    "              loss = 0.0\n",
    "\n",
    "          #Evaluating on Train, Test, Dev Sets\n",
    "          if count % (eval_every) == 0 and count > (eval_every * 20) or count % (eval_every*4) == 0 and count < (eval_every * 20):\n",
    "              print(f'Evaluating on Train, Test, Dev Sets at count={count}')\n",
    "              model.train(False)\n",
    "              best_train_F, new_train_F, new_train_acc, _ = evaluating(model, train_data, best_train_F,\"Train\")\n",
    "              best_dev_F, new_dev_F, new_dev_acc, save = evaluating(model, dev_data, best_dev_F,\"Dev\")\n",
    "              if save:\n",
    "                  print(\"Saving Model to \", model_name)\n",
    "                  torch.save(model.state_dict(), model_name)\n",
    "              best_test_F, new_test_F, new_test_acc, _ = evaluating(model, test_data, best_test_F,\"Test\")\n",
    "\n",
    "              all_F.append([new_train_F, new_dev_F, new_test_F])\n",
    "              all_acc.append([new_train_acc, new_dev_acc, new_test_acc])\n",
    "\n",
    "              model.train(True)\n",
    "\n",
    "          #Performing decay on the learning rate\n",
    "          if count % len(train_data) == 0:\n",
    "              adjust_learning_rate(optimizer, lr=learning_rate/(1+decay_rate*count/len(train_data)))\n",
    "\n",
    "      if es.step(all_acc[-1][1]):\n",
    "        print(f'Early stopping: epoch={epoch}, count={count}, new_acc_F={all_acc[-1][1]}')\n",
    "        break # early stopping criterion is met, we can stop now\n",
    "\n",
    "  print(f'{(time.time() - tr) / 60} minutes')\n",
    "  plt.plot(losses)\n",
    "  plt.show()\n",
    "\n",
    "  return all_F"
   ]
  },
  {
   "cell_type": "markdown",
   "metadata": {
    "colab_type": "text",
    "id": "Rv0yW9FF24Ha"
   },
   "source": [
    "### (v-1) Single-layer CNN word-level encoder + CNN for char-level encoder"
   ]
  },
  {
   "cell_type": "code",
   "execution_count": 0,
   "metadata": {
    "colab": {
     "base_uri": "https://localhost:8080/",
     "height": 1000
    },
    "colab_type": "code",
    "id": "qL_iMQNhHkOp",
    "outputId": "dbc13f2a-21e1-45cc-e2d0-1c8a38c25dc5"
   },
   "outputs": [
    {
     "name": "stderr",
     "output_type": "stream",
     "text": [
      "/usr/local/lib/python3.6/dist-packages/ipykernel_launcher.py:6: UserWarning: nn.init.uniform is now deprecated in favor of nn.init.uniform_.\n",
      "  \n",
      "/usr/local/lib/python3.6/dist-packages/ipykernel_launcher.py:85: UserWarning: nn.init.xavier_uniform is now deprecated in favor of nn.init.xavier_uniform_.\n",
      "/usr/local/lib/python3.6/dist-packages/ipykernel_launcher.py:102: UserWarning: torch.nn.utils.clip_grad_norm is now deprecated in favor of torch.nn.utils.clip_grad_norm_.\n"
     ]
    },
    {
     "name": "stdout",
     "output_type": "stream",
     "text": [
      "embedding_dim=100, self.out_channels=25, in=125\n",
      "\n",
      "Char mode: CNN, Encoder mode: CNN\n",
      "Epoch 1:\n",
      "2000 :  0.7403067393565179\n",
      "4000 :  0.44260868298401\n",
      "6000 :  0.3220274060534212\n",
      "8000 :  0.32122832833865306\n",
      "10000 :  0.28994036661571926\n",
      "12000 :  0.2919742316430761\n",
      "14000 :  0.24197444748398803\n",
      "Epoch 2:\n",
      "16000 :  0.22423336154785897\n",
      "18000 :  0.22043875548071773\n",
      "20000 :  0.22131997858654362\n",
      "22000 :  0.22271044643059018\n",
      "24000 :  0.20894276857886143\n",
      "26000 :  0.2019947182424856\n",
      "28000 :  0.18402380338008031\n",
      "Epoch 3:\n",
      "30000 :  0.1483174510027644\n",
      "32000 :  0.17185905331163565\n",
      "34000 :  0.17517697124192413\n",
      "36000 :  0.1584808568809142\n",
      "38000 :  0.18112369514344234\n",
      "40000 :  0.1653972038104826\n",
      "42000 :  0.18096435153942028\n",
      "Epoch 4:\n",
      "44000 :  0.1406174404727552\n",
      "46000 :  0.13387080897767933\n",
      "48000 :  0.14256679425935453\n",
      "50000 :  0.15749506068245575\n",
      "52000 :  0.16332528231933305\n",
      "54000 :  0.1577799800294758\n",
      "56000 :  0.15624496656771797\n",
      "Evaluating on Train, Test, Dev Sets at count=56164\n",
      "Train: new_F: 0.8845382162242076 best_F: -1.0 new_acc:0.8762657963009457 \n",
      "Dev: new_F: 0.777239510633057 best_F: -1.0 new_acc:0.7584935897435897 \n",
      "Test: new_F: 0.6844490040181244 best_F: -1.0 new_acc:0.6602342074880422 \n",
      "Epoch 5:\n",
      "58000 :  0.14997146035794134\n",
      "60000 :  0.14464271053495376\n",
      "62000 :  0.13421805974861475\n",
      "64000 :  0.13793204032201978\n",
      "66000 :  0.12409741315151011\n",
      "68000 :  0.15055674477549738\n",
      "70000 :  0.150869488163646\n",
      "Epoch 6:\n",
      "72000 :  0.13644248173683413\n",
      "74000 :  0.11848605427616077\n",
      "76000 :  0.13989119308599504\n",
      "78000 :  0.12739039050570466\n",
      "80000 :  0.14045311185768453\n",
      "82000 :  0.11164239177843668\n",
      "84000 :  0.1325214211318078\n",
      "Epoch 7:\n",
      "86000 :  0.12224415541177718\n",
      "88000 :  0.12610860620800363\n",
      "90000 :  0.1330192631888371\n",
      "92000 :  0.11818188592697179\n",
      "94000 :  0.09050012851912298\n",
      "96000 :  0.12121210898077106\n",
      "98000 :  0.1176412405893263\n",
      "Epoch 8:\n",
      "100000 :  0.11790218212161649\n",
      "102000 :  0.117550652878164\n",
      "104000 :  0.1074655048711906\n",
      "106000 :  0.12222971511787752\n",
      "108000 :  0.11344998580307541\n",
      "110000 :  0.13048582237743775\n",
      "112000 :  0.12016238520018804\n",
      "Evaluating on Train, Test, Dev Sets at count=112328\n",
      "Train: new_F: 0.9063056946448272 best_F: 0.8845382162242076 new_acc:0.9019044803851188 \n",
      "Dev: new_F: 0.7812654881876755 best_F: 0.777239510633057 new_acc:0.7668234149505432 \n",
      "Test: new_F: 0.7000776330544295 best_F: 0.6844490040181244 new_acc:0.6809867427420708 \n",
      "Epoch 9:\n",
      "114000 :  0.08771805326593309\n",
      "116000 :  0.11211343990008815\n",
      "118000 :  0.09415458459534848\n",
      "120000 :  0.09568849481894616\n",
      "122000 :  0.10334575946697247\n",
      "124000 :  0.12585528773808308\n",
      "126000 :  0.11613057107225745\n",
      "Epoch 10:\n",
      "128000 :  0.10359858482710847\n",
      "130000 :  0.09922740738675466\n",
      "132000 :  0.08937664198593719\n",
      "134000 :  0.0910417471515404\n",
      "136000 :  0.12242659319220155\n",
      "138000 :  0.10403527215027643\n",
      "140000 :  0.11129282421012922\n",
      "Epoch 11:\n",
      "142000 :  0.09173599070199333\n",
      "144000 :  0.10415058889077095\n",
      "146000 :  0.13849194556265484\n",
      "148000 :  0.09804753254964013\n",
      "150000 :  0.09673571824155823\n",
      "152000 :  0.09026801107934959\n",
      "154000 :  0.10465710438421164\n",
      "Early stopping: epoch=11, count=154451, new_acc_F=0.7668234149505432\n",
      "43.36383446455002 minutes\n"
     ]
    },
    {
     "data": {
      "image/png": "[encoded data removed]",
      "text/plain": [
       "<Figure size 480x320 with 1 Axes>"
      ]
     },
     "metadata": {
      "tags": []
     },
     "output_type": "display_data"
    }
   ],
   "source": [
    "parameters['char_mode'] = \"CNN\"\n",
    "parameters['encoder_mode'] = \"CNN\"\n",
    "parameters['crf'] = 1\n",
    "\n",
    "# 1-layer CNN word + CNN char\n",
    "all_F_1_CNN = create_and_train_model()"
   ]
  },
  {
   "cell_type": "code",
   "execution_count": 0,
   "metadata": {
    "colab": {
     "base_uri": "https://localhost:8080/",
     "height": 68
    },
    "colab_type": "code",
    "id": "KrQPgYb-YV45",
    "outputId": "52f02209-1fd2-496f-a61b-9d68b8c07f08"
   },
   "outputs": [
    {
     "data": {
      "text/plain": [
       "[[0, 0, 0],\n",
       " [0.8845382162242076, 0.777239510633057, 0.6844490040181244],\n",
       " [0.9063056946448272, 0.7812654881876755, 0.7000776330544295]]"
      ]
     },
     "execution_count": 40,
     "metadata": {
      "tags": []
     },
     "output_type": "execute_result"
    }
   ],
   "source": [
    "all_F_1_CNN"
   ]
  },
  {
   "cell_type": "markdown",
   "metadata": {
    "colab_type": "text",
    "id": "o4YJkT-f3A2w"
   },
   "source": [
    "### (v-2) Single-layer CNN word-level encoder + LSTM char-level encoder"
   ]
  },
  {
   "cell_type": "code",
   "execution_count": 0,
   "metadata": {
    "colab": {
     "base_uri": "https://localhost:8080/",
     "height": 1000
    },
    "colab_type": "code",
    "id": "VFlfig9W3lgG",
    "outputId": "96900907-bc0b-4e04-92b5-664333d084af"
   },
   "outputs": [
    {
     "name": "stderr",
     "output_type": "stream",
     "text": [
      "/usr/local/lib/python3.6/dist-packages/ipykernel_launcher.py:6: UserWarning: nn.init.uniform is now deprecated in favor of nn.init.uniform_.\n",
      "  \n",
      "/usr/local/lib/python3.6/dist-packages/ipykernel_launcher.py:25: UserWarning: nn.init.uniform is now deprecated in favor of nn.init.uniform_.\n",
      "/usr/local/lib/python3.6/dist-packages/ipykernel_launcher.py:30: UserWarning: nn.init.uniform is now deprecated in favor of nn.init.uniform_.\n",
      "/usr/local/lib/python3.6/dist-packages/ipykernel_launcher.py:38: UserWarning: nn.init.uniform is now deprecated in favor of nn.init.uniform_.\n",
      "/usr/local/lib/python3.6/dist-packages/ipykernel_launcher.py:41: UserWarning: nn.init.uniform is now deprecated in favor of nn.init.uniform_.\n",
      "/usr/local/lib/python3.6/dist-packages/ipykernel_launcher.py:85: UserWarning: nn.init.xavier_uniform is now deprecated in favor of nn.init.xavier_uniform_.\n"
     ]
    },
    {
     "name": "stdout",
     "output_type": "stream",
     "text": [
      "embedding_dim=100, char_lstm_dim=50, in=150\n",
      "\n",
      "Char mode: LSTM, Encoder mode: CNN\n",
      "Epoch 1:\n"
     ]
    },
    {
     "name": "stderr",
     "output_type": "stream",
     "text": [
      "/usr/local/lib/python3.6/dist-packages/ipykernel_launcher.py:102: UserWarning: torch.nn.utils.clip_grad_norm is now deprecated in favor of torch.nn.utils.clip_grad_norm_.\n"
     ]
    },
    {
     "name": "stdout",
     "output_type": "stream",
     "text": [
      "2000 :  0.8028447634139517\n",
      "4000 :  0.5743870844189377\n",
      "6000 :  0.4932229530162389\n",
      "8000 :  0.4425433116914527\n",
      "10000 :  0.4471082401279419\n",
      "12000 :  0.4081566607013061\n",
      "14000 :  0.3742457748696669\n",
      "Epoch 2:\n",
      "16000 :  0.33137983521227116\n",
      "18000 :  0.3347970079346814\n",
      "20000 :  0.3467555000066936\n",
      "22000 :  0.31931535180520293\n",
      "24000 :  0.32367623244284094\n",
      "26000 :  0.3000551141868505\n",
      "28000 :  0.3072338964543749\n",
      "Epoch 3:\n",
      "30000 :  0.25827595952838395\n",
      "32000 :  0.28724372007088417\n",
      "34000 :  0.2607194758444054\n",
      "36000 :  0.27123742031403497\n",
      "38000 :  0.2672502906708015\n",
      "40000 :  0.2627238497826708\n",
      "42000 :  0.24987568557326442\n",
      "Epoch 4:\n",
      "44000 :  0.23581925102465826\n",
      "46000 :  0.24489995925882677\n",
      "48000 :  0.2200293453833692\n",
      "50000 :  0.24217801760027782\n",
      "52000 :  0.219179780595868\n",
      "54000 :  0.22457159276908892\n",
      "56000 :  0.2343351388465001\n",
      "Evaluating on Train, Test, Dev Sets at count=56164\n",
      "Train: new_F: 0.7661753900678566 best_F: -1.0 new_acc:0.7767164702274022 \n",
      "Dev: new_F: 0.6436372872745745 best_F: -1.0 new_acc:0.6473092643051771 \n",
      "Test: new_F: 0.5423639246080676 best_F: -1.0 new_acc:0.5382867132867133 \n",
      "Epoch 5:\n",
      "58000 :  0.20952552012310807\n",
      "60000 :  0.21613755523739997\n",
      "62000 :  0.19075772276191966\n",
      "64000 :  0.23000426474288307\n",
      "66000 :  0.22105924814274489\n",
      "68000 :  0.2024733903690567\n",
      "70000 :  0.23164257985784611\n",
      "Epoch 6:\n",
      "72000 :  0.19022306785854678\n",
      "74000 :  0.1977325693383627\n",
      "76000 :  0.20949623578256513\n",
      "78000 :  0.2017963804886981\n",
      "80000 :  0.20089581960165254\n",
      "82000 :  0.18934045857568196\n",
      "84000 :  0.20368720102325422\n",
      "Epoch 7:\n",
      "86000 :  0.1911401634297054\n",
      "88000 :  0.17983080257501446\n",
      "90000 :  0.1772318566166613\n",
      "92000 :  0.17615220082963728\n",
      "94000 :  0.1742423856375696\n",
      "96000 :  0.1869724055263261\n",
      "98000 :  0.19911890428371842\n",
      "Epoch 8:\n",
      "100000 :  0.17416877183555166\n",
      "102000 :  0.16858682573373343\n",
      "104000 :  0.1668600323766531\n",
      "106000 :  0.17630132310954608\n",
      "108000 :  0.1884088209661785\n",
      "110000 :  0.17329696272819223\n",
      "112000 :  0.1756400409716598\n",
      "Evaluating on Train, Test, Dev Sets at count=112328\n",
      "Train: new_F: 0.7965679853287922 best_F: 0.7661753900678566 new_acc:0.816132062810361 \n",
      "Dev: new_F: 0.6959833795013851 best_F: 0.6436372872745745 new_acc:0.7161945483698557 \n",
      "Test: new_F: 0.6091517453427383 best_F: 0.5423639246080676 new_acc:0.6209439528023599 \n",
      "Epoch 9:\n",
      "114000 :  0.15875695764077052\n",
      "116000 :  0.16434630460761973\n",
      "118000 :  0.16250491005629922\n",
      "120000 :  0.15508616109066853\n",
      "122000 :  0.190028416939217\n",
      "124000 :  0.14862677731981547\n",
      "126000 :  0.17919082741931366\n",
      "Epoch 10:\n",
      "128000 :  0.14890441682926198\n",
      "130000 :  0.14858441312008705\n",
      "132000 :  0.15291308099877088\n",
      "134000 :  0.15527585554930415\n",
      "136000 :  0.17071626518864083\n",
      "138000 :  0.15348239960398907\n",
      "140000 :  0.16124073881822057\n",
      "Epoch 11:\n",
      "142000 :  0.13930695749222494\n",
      "144000 :  0.1500505858437183\n",
      "146000 :  0.13752902837637979\n",
      "148000 :  0.14933879047641385\n",
      "150000 :  0.15585612516852057\n",
      "152000 :  0.14660101655863417\n",
      "154000 :  0.14345717336719635\n",
      "Early stopping: epoch=11, count=154451, new_acc_F=0.7161945483698557\n",
      "80.83387389183045 minutes\n"
     ]
    },
    {
     "data": {
      "image/png": "[encoded data removed]",
      "text/plain": [
       "<Figure size 480x320 with 1 Axes>"
      ]
     },
     "metadata": {
      "tags": []
     },
     "output_type": "display_data"
    }
   ],
   "source": [
    "parameters['char_mode'] = \"LSTM\"\n",
    "parameters['encoder_mode'] = \"CNN\"\n",
    "parameters['crf'] = 1\n",
    "\n",
    "# 1-layer CNN word + LSTM char\n",
    "all_F_1_LSTM = create_and_train_model()"
   ]
  },
  {
   "cell_type": "code",
   "execution_count": 0,
   "metadata": {
    "colab": {
     "base_uri": "https://localhost:8080/",
     "height": 68
    },
    "colab_type": "code",
    "id": "FDLCYfui3kGo",
    "outputId": "37066c94-bda0-4edd-8d0c-9e82a72ba227"
   },
   "outputs": [
    {
     "data": {
      "text/plain": [
       "[[0, 0, 0],\n",
       " [0.7661753900678566, 0.6436372872745745, 0.5423639246080676],\n",
       " [0.7965679853287922, 0.6959833795013851, 0.6091517453427383]]"
      ]
     },
     "execution_count": 36,
     "metadata": {
      "tags": []
     },
     "output_type": "execute_result"
    }
   ],
   "source": [
    "all_F_1_LSTM"
   ]
  },
  {
   "cell_type": "markdown",
   "metadata": {
    "colab_type": "text",
    "id": "UcEisCTl3lws"
   },
   "source": [
    "### (vi) Multi-layer CNN word-level encoder + CNN char-level encoder"
   ]
  },
  {
   "cell_type": "code",
   "execution_count": 0,
   "metadata": {
    "colab": {
     "base_uri": "https://localhost:8080/",
     "height": 1000
    },
    "colab_type": "code",
    "id": "x6t_4ZwxJvnd",
    "outputId": "971abd34-7144-4859-9432-0a7ec284b67d"
   },
   "outputs": [
    {
     "name": "stderr",
     "output_type": "stream",
     "text": [
      "/usr/local/lib/python3.6/dist-packages/ipykernel_launcher.py:6: UserWarning: nn.init.uniform is now deprecated in favor of nn.init.uniform_.\n",
      "  \n",
      "/usr/local/lib/python3.6/dist-packages/ipykernel_launcher.py:101: UserWarning: nn.init.xavier_uniform is now deprecated in favor of nn.init.xavier_uniform_.\n",
      "/usr/local/lib/python3.6/dist-packages/ipykernel_launcher.py:102: UserWarning: nn.init.xavier_uniform is now deprecated in favor of nn.init.xavier_uniform_.\n",
      "/usr/local/lib/python3.6/dist-packages/ipykernel_launcher.py:102: UserWarning: torch.nn.utils.clip_grad_norm is now deprecated in favor of torch.nn.utils.clip_grad_norm_.\n"
     ]
    },
    {
     "name": "stdout",
     "output_type": "stream",
     "text": [
      "\n",
      "Char mode: CNN, Encoder mode: CNN2\n",
      "Epoch 1:\n",
      "2000 :  0.8432320092154666\n",
      "4000 :  0.41078950854042134\n",
      "6000 :  0.35395080738528\n",
      "8000 :  0.3489349178203394\n",
      "10000 :  0.29658253415957103\n",
      "12000 :  0.24435523652543242\n",
      "14000 :  0.2622555948218334\n",
      "Epoch 2:\n",
      "16000 :  0.19324782228003967\n",
      "18000 :  0.2027843482306702\n",
      "20000 :  0.19349774641577436\n",
      "22000 :  0.162736936646359\n",
      "24000 :  0.16669259374158574\n",
      "26000 :  0.1842432376822996\n",
      "28000 :  0.1584044385656399\n",
      "Epoch 3:\n",
      "30000 :  0.13692251540901507\n",
      "32000 :  0.12924765459478885\n",
      "34000 :  0.14426873641742008\n",
      "36000 :  0.13523990991950194\n",
      "38000 :  0.13309088708727948\n",
      "40000 :  0.12026281945516455\n",
      "42000 :  0.11443571741553889\n",
      "Epoch 4:\n",
      "44000 :  0.11296360009067433\n",
      "46000 :  0.10224831200463384\n",
      "48000 :  0.11441114746636637\n",
      "50000 :  0.10177052598900826\n",
      "52000 :  0.11272703488834701\n",
      "54000 :  0.1006185082549025\n",
      "56000 :  0.11120206314369098\n",
      "Evaluating on Train, Test, Dev Sets at count=56164\n",
      "Train: new_F: 0.8759489339862713 best_F: -1.0 new_acc:0.8785603980782429 \n",
      "Dev: new_F: 0.7517955570402538 best_F: -1.0 new_acc:0.7458160729080364 \n",
      "Saving Model to  ./models/self-trained-model\n",
      "Test: new_F: 0.6748242645144494 best_F: -1.0 new_acc:0.6602139582272033 \n",
      "Epoch 5:\n",
      "58000 :  0.10898941570337269\n",
      "60000 :  0.09254542912834651\n",
      "62000 :  0.08386088895803467\n",
      "64000 :  0.08935266177406133\n",
      "66000 :  0.10035968205345706\n",
      "68000 :  0.09163533357173381\n",
      "70000 :  0.09707457338585825\n",
      "Epoch 6:\n",
      "72000 :  0.08012889454420727\n",
      "74000 :  0.08078618155844547\n",
      "76000 :  0.10095121498471105\n",
      "78000 :  0.08833605077096038\n",
      "80000 :  0.0782061734514529\n",
      "82000 :  0.082036027414244\n",
      "84000 :  0.07398974393559593\n",
      "Epoch 7:\n",
      "86000 :  0.08915392101010534\n",
      "88000 :  0.07547129164806503\n",
      "90000 :  0.07024151922623886\n",
      "92000 :  0.079530281008596\n",
      "94000 :  0.07104080175861661\n",
      "96000 :  0.08431368076491097\n",
      "98000 :  0.06049966036754461\n",
      "Epoch 8:\n",
      "100000 :  0.06018690867093148\n",
      "102000 :  0.060484119938175165\n",
      "104000 :  0.0726376412267423\n",
      "106000 :  0.0725526004000308\n",
      "108000 :  0.06773142630661627\n",
      "110000 :  0.0852283342868419\n",
      "112000 :  0.07816539531393665\n",
      "Evaluating on Train, Test, Dev Sets at count=112328\n",
      "Train: new_F: 0.933364859636301 best_F: 0.8759489339862713 new_acc:0.9410515365610507 \n",
      "Dev: new_F: 0.8173311978420298 best_F: 0.7517955570402538 new_acc:0.8183659689399054 \n",
      "Saving Model to  ./models/self-trained-model\n",
      "Test: new_F: 0.7427965352660422 best_F: 0.6748242645144494 new_acc:0.7397887323943662 \n",
      "Epoch 9:\n",
      "114000 :  0.04960745194531689\n",
      "116000 :  0.06970575022389822\n",
      "118000 :  0.06385737050186661\n",
      "120000 :  0.07812975980758297\n",
      "122000 :  0.06378102926006878\n",
      "124000 :  0.055175609259622616\n",
      "126000 :  0.06613310104818759\n",
      "Epoch 10:\n",
      "128000 :  0.06303652903037446\n",
      "130000 :  0.05649790065418969\n",
      "132000 :  0.050668878719964915\n",
      "134000 :  0.0690664366663831\n",
      "136000 :  0.0657453479617699\n",
      "138000 :  0.05066063858072528\n",
      "140000 :  0.07875326678599207\n",
      "Epoch 11:\n",
      "142000 :  0.05079389499087524\n",
      "144000 :  0.05128055196373804\n",
      "146000 :  0.05598358898088948\n",
      "148000 :  0.06298799540319705\n",
      "150000 :  0.05458846220011704\n",
      "152000 :  0.06526124633422356\n",
      "154000 :  0.05398435526569956\n",
      "Early stopping: epoch=11, count=154451, new_acc_F=0.8183659689399054\n",
      "31.784263424078624 minutes\n"
     ]
    },
    {
     "data": {
      "image/png": "[encoded data removed]",
      "text/plain": [
       "<Figure size 480x320 with 1 Axes>"
      ]
     },
     "metadata": {
      "tags": []
     },
     "output_type": "display_data"
    }
   ],
   "source": [
    "parameters['char_mode'] = \"CNN\"\n",
    "parameters['crf'] = 1\n",
    "\n",
    "# 2-layer CNN word + CNN char\n",
    "parameters['encoder_mode'] = \"CNN2\"\n",
    "all_F_2_CNN = create_and_train_model()"
   ]
  },
  {
   "cell_type": "code",
   "execution_count": 0,
   "metadata": {
    "colab": {
     "base_uri": "https://localhost:8080/",
     "height": 68
    },
    "colab_type": "code",
    "id": "MS1P0yBJsu9-",
    "outputId": "6eef906f-f623-449c-a056-3a0141d85035"
   },
   "outputs": [
    {
     "data": {
      "text/plain": [
       "[[0, 0, 0],\n",
       " [0.8759489339862713, 0.7517955570402538, 0.6748242645144494],\n",
       " [0.933364859636301, 0.8173311978420298, 0.7427965352660422]]"
      ]
     },
     "execution_count": 155,
     "metadata": {
      "tags": []
     },
     "output_type": "execute_result"
    }
   ],
   "source": [
    "all_F_2_CNN"
   ]
  },
  {
   "cell_type": "code",
   "execution_count": 0,
   "metadata": {
    "colab": {
     "base_uri": "https://localhost:8080/",
     "height": 1000
    },
    "colab_type": "code",
    "id": "qgWPPigsVg-g",
    "outputId": "0a292aa5-6877-465b-91ec-628448caef13"
   },
   "outputs": [
    {
     "name": "stderr",
     "output_type": "stream",
     "text": [
      "/usr/local/lib/python3.6/dist-packages/ipykernel_launcher.py:6: UserWarning: nn.init.uniform is now deprecated in favor of nn.init.uniform_.\n",
      "  \n",
      "/usr/local/lib/python3.6/dist-packages/ipykernel_launcher.py:115: UserWarning: nn.init.xavier_uniform is now deprecated in favor of nn.init.xavier_uniform_.\n",
      "/usr/local/lib/python3.6/dist-packages/ipykernel_launcher.py:116: UserWarning: nn.init.xavier_uniform is now deprecated in favor of nn.init.xavier_uniform_.\n",
      "/usr/local/lib/python3.6/dist-packages/ipykernel_launcher.py:117: UserWarning: nn.init.xavier_uniform is now deprecated in favor of nn.init.xavier_uniform_.\n",
      "/usr/local/lib/python3.6/dist-packages/ipykernel_launcher.py:102: UserWarning: torch.nn.utils.clip_grad_norm is now deprecated in favor of torch.nn.utils.clip_grad_norm_.\n"
     ]
    },
    {
     "name": "stdout",
     "output_type": "stream",
     "text": [
      "\n",
      "Char mode: CNN, Encoder mode: CNN3\n",
      "Epoch 1:\n",
      "2000 :  0.8869393050287014\n",
      "4000 :  0.43040236447271474\n",
      "6000 :  0.32768760109730166\n",
      "8000 :  0.31997711557092245\n",
      "10000 :  0.29506998437751897\n",
      "12000 :  0.25814166540495653\n",
      "14000 :  0.22424407182493653\n",
      "Epoch 2:\n",
      "16000 :  0.20954415709836752\n",
      "18000 :  0.18623337671571852\n",
      "20000 :  0.18740066617752418\n",
      "22000 :  0.19039187687142714\n",
      "24000 :  0.16076175590504255\n",
      "26000 :  0.1657679704044715\n",
      "28000 :  0.16115109758474444\n",
      "Epoch 3:\n",
      "30000 :  0.1204775774857185\n",
      "32000 :  0.1302107527793812\n",
      "34000 :  0.12966300109152856\n",
      "36000 :  0.1190771500947573\n",
      "38000 :  0.11380325309934541\n",
      "40000 :  0.12538207244110328\n",
      "42000 :  0.11908143326049735\n",
      "Epoch 4:\n",
      "44000 :  0.08132236441049463\n",
      "46000 :  0.08649285505486559\n",
      "48000 :  0.11754789617235592\n",
      "50000 :  0.09308279145752246\n",
      "52000 :  0.08905477569698864\n",
      "54000 :  0.11592761179559938\n",
      "56000 :  0.11389263607490485\n",
      "Evaluating on Train, Test, Dev Sets at count=56164\n",
      "Train: new_F: 0.9170569701098527 best_F: -1.0 new_acc:0.9156923600187067 \n",
      "Dev: new_F: 0.8059625212947189 best_F: -1.0 new_acc:0.815549043268402 \n",
      "Test: new_F: 0.7137828323855944 best_F: -1.0 new_acc:0.7261707988980717 \n",
      "Epoch 5:\n",
      "58000 :  0.08349054034458323\n",
      "60000 :  0.08081537935739871\n",
      "62000 :  0.0835607456408412\n",
      "64000 :  0.09370580474140017\n",
      "66000 :  0.09110581751832555\n",
      "68000 :  0.06560380378984007\n",
      "70000 :  0.08206183469869797\n",
      "Epoch 6:\n",
      "72000 :  0.07500080159486613\n",
      "74000 :  0.06366516753955151\n",
      "76000 :  0.08518452970778985\n",
      "78000 :  0.06723463147956348\n",
      "80000 :  0.08049154750975986\n",
      "82000 :  0.06998955325300199\n",
      "84000 :  0.0731117153447508\n",
      "Epoch 7:\n",
      "86000 :  0.06492133053676939\n",
      "88000 :  0.05634684343207194\n",
      "90000 :  0.06033503591824838\n",
      "92000 :  0.06654582303661115\n",
      "94000 :  0.06918387971587542\n",
      "96000 :  0.06641427538405299\n",
      "98000 :  0.0602708494842678\n",
      "Epoch 8:\n",
      "100000 :  0.04031264262320427\n",
      "102000 :  0.0661455267639926\n",
      "104000 :  0.05297989767064058\n",
      "106000 :  0.05873307960289986\n",
      "108000 :  0.07025525784765\n",
      "110000 :  0.04855644841650215\n",
      "112000 :  0.054718962699195024\n",
      "Evaluating on Train, Test, Dev Sets at count=112328\n",
      "Train: new_F: 0.9475402191653066 best_F: 0.9170569701098527 new_acc:0.9420094403236683 \n",
      "Dev: new_F: 0.8119891008174387 best_F: 0.8059625212947189 new_acc:0.8213608957795004 \n",
      "Test: new_F: 0.722202166064982 best_F: 0.7137828323855944 new_acc:0.7346676459786999 \n",
      "Epoch 9:\n",
      "114000 :  0.04335496169841182\n",
      "116000 :  0.04776915552264069\n",
      "118000 :  0.05454965632141442\n",
      "120000 :  0.05603380489953427\n",
      "122000 :  0.053412682219384076\n",
      "124000 :  0.04988638216627393\n",
      "126000 :  0.052376081293857187\n",
      "Epoch 10:\n",
      "128000 :  0.04307790111650395\n",
      "130000 :  0.040367318843959304\n",
      "132000 :  0.05744164558255282\n",
      "134000 :  0.04383099682253081\n",
      "136000 :  0.04013359507117633\n",
      "138000 :  0.05260587042492031\n",
      "140000 :  0.03994198515725797\n",
      "Epoch 11:\n",
      "142000 :  0.04211175723498965\n",
      "144000 :  0.03811053619700613\n",
      "146000 :  0.038597965414477534\n",
      "148000 :  0.03867383316611311\n",
      "150000 :  0.041366242330176634\n",
      "152000 :  0.0554143453486612\n",
      "154000 :  0.047556484334358516\n",
      "Early stopping: epoch=11, count=154451, new_acc_F=0.8213608957795004\n",
      "34.44167512655258 minutes\n"
     ]
    },
    {
     "data": {
      "image/png": "[encoded data removed]",
      "text/plain": [
       "<Figure size 480x320 with 1 Axes>"
      ]
     },
     "metadata": {
      "tags": []
     },
     "output_type": "display_data"
    }
   ],
   "source": [
    "parameters['char_mode'] = \"CNN\"\n",
    "parameters['crf'] = 1\n",
    "\n",
    "# 3-layer CNN word + CNN char\n",
    "parameters['encoder_mode'] = \"CNN3\"\n",
    "all_F_3_CNN = create_and_train_model()"
   ]
  },
  {
   "cell_type": "code",
   "execution_count": 0,
   "metadata": {
    "colab": {
     "base_uri": "https://localhost:8080/",
     "height": 68
    },
    "colab_type": "code",
    "id": "g-DJkJZcuATF",
    "outputId": "c7d4889b-85a5-4c2d-a433-a84f6de18e4d"
   },
   "outputs": [
    {
     "data": {
      "text/plain": [
       "[[0, 0, 0],\n",
       " [0.9170569701098527, 0.8059625212947189, 0.7137828323855944],\n",
       " [0.9475402191653066, 0.8119891008174387, 0.722202166064982]]"
      ]
     },
     "execution_count": 156,
     "metadata": {
      "tags": []
     },
     "output_type": "execute_result"
    }
   ],
   "source": [
    "all_F_3_CNN"
   ]
  },
  {
   "cell_type": "markdown",
   "metadata": {
    "colab_type": "text",
    "id": "RAK8EYh-3yMZ"
   },
   "source": [
    "### (vii) Replace the simple convolution layers in steps (iv-v) by dialated convolution layers. In particular, define a CNN with `3` dialated layers, where dialated factor varies from `1` (first layer) to `3` (third layer). Report the NER results with the newly implemented dialated layers (you do not need to change anything in the network)."
   ]
  },
  {
   "cell_type": "code",
   "execution_count": 0,
   "metadata": {
    "colab": {
     "base_uri": "https://localhost:8080/",
     "height": 1000
    },
    "colab_type": "code",
    "id": "Hht4SYgA4_q1",
    "outputId": "a9976132-991d-42fb-8ca7-ea7bf8cca4c6"
   },
   "outputs": [
    {
     "name": "stderr",
     "output_type": "stream",
     "text": [
      "/usr/local/lib/python3.6/dist-packages/ipykernel_launcher.py:6: UserWarning: nn.init.uniform is now deprecated in favor of nn.init.uniform_.\n",
      "  \n",
      "/usr/local/lib/python3.6/dist-packages/ipykernel_launcher.py:131: UserWarning: nn.init.xavier_uniform is now deprecated in favor of nn.init.xavier_uniform_.\n",
      "/usr/local/lib/python3.6/dist-packages/ipykernel_launcher.py:132: UserWarning: nn.init.xavier_uniform is now deprecated in favor of nn.init.xavier_uniform_.\n",
      "/usr/local/lib/python3.6/dist-packages/ipykernel_launcher.py:133: UserWarning: nn.init.xavier_uniform is now deprecated in favor of nn.init.xavier_uniform_.\n"
     ]
    },
    {
     "name": "stdout",
     "output_type": "stream",
     "text": [
      "\n",
      "Char mode: CNN, Encoder mode: CNN_DILATED\n",
      "Epoch 1:\n"
     ]
    },
    {
     "name": "stderr",
     "output_type": "stream",
     "text": [
      "/usr/local/lib/python3.6/dist-packages/ipykernel_launcher.py:102: UserWarning: torch.nn.utils.clip_grad_norm is now deprecated in favor of torch.nn.utils.clip_grad_norm_.\n"
     ]
    },
    {
     "name": "stdout",
     "output_type": "stream",
     "text": [
      "2000 :  0.5711503263491144\n",
      "4000 :  0.352416148231359\n",
      "6000 :  0.31748876714389007\n",
      "8000 :  0.3182706810291812\n",
      "10000 :  0.27142810333079853\n",
      "12000 :  0.3041739274770994\n",
      "14000 :  0.2778635150170762\n",
      "Epoch 2:\n",
      "16000 :  0.24672134925553196\n",
      "18000 :  0.21664198992335856\n",
      "20000 :  0.24615470773785406\n",
      "22000 :  0.21484511734276224\n",
      "24000 :  0.19559144641459178\n",
      "26000 :  0.22215310695126528\n",
      "28000 :  0.19079960043711025\n",
      "Epoch 3:\n",
      "30000 :  0.19272147181450378\n",
      "32000 :  0.17751907029856115\n",
      "34000 :  0.17672503037401593\n",
      "36000 :  0.16104958273735834\n",
      "38000 :  0.1652950401793983\n",
      "40000 :  0.1615543280896724\n",
      "42000 :  0.14153263066613925\n",
      "Epoch 4:\n",
      "44000 :  0.15207292723583773\n",
      "46000 :  0.15974235703575662\n",
      "48000 :  0.13233165164416857\n",
      "50000 :  0.11955852291225941\n",
      "52000 :  0.13682552923235555\n",
      "54000 :  0.14151955563020702\n",
      "56000 :  0.14314076281559215\n",
      "Evaluating on Train, Test, Dev Sets at count=56164\n",
      "Train: new_F: 0.8750268136771203 best_F: -1.0 new_acc:0.882218089017691 \n",
      "Dev: new_F: 0.7929776948520058 best_F: -1.0 new_acc:0.7992819285347923 \n",
      "Test: new_F: 0.7413932584269662 best_F: -1.0 new_acc:0.7529669527113383 \n",
      "Epoch 5:\n",
      "58000 :  0.11709100282889222\n",
      "60000 :  0.11949571170509755\n",
      "62000 :  0.10252158690951854\n",
      "64000 :  0.126064724906612\n",
      "66000 :  0.09975685462493704\n",
      "68000 :  0.14136236839700597\n",
      "70000 :  0.127571639866385\n",
      "Epoch 6:\n",
      "72000 :  0.10694164043217902\n",
      "74000 :  0.09108128172477872\n",
      "76000 :  0.10099337092007432\n",
      "78000 :  0.0976788651723087\n",
      "80000 :  0.08726343146935009\n",
      "82000 :  0.10332741861378504\n",
      "84000 :  0.10106072297214912\n",
      "Epoch 7:\n",
      "86000 :  0.0911066262256213\n",
      "88000 :  0.08007073136861752\n",
      "90000 :  0.07374246335270924\n",
      "92000 :  0.09444902591514912\n",
      "94000 :  0.09354724918832219\n",
      "96000 :  0.09279962521984204\n",
      "98000 :  0.10608068015948603\n",
      "Epoch 8:\n",
      "100000 :  0.06969538377963251\n",
      "102000 :  0.07513876484736556\n",
      "104000 :  0.08260831561897168\n",
      "106000 :  0.10143266134224403\n",
      "108000 :  0.08645851626781177\n",
      "110000 :  0.07526883916530949\n",
      "112000 :  0.07009649228496868\n",
      "Evaluating on Train, Test, Dev Sets at count=112328\n",
      "Train: new_F: 0.919704916634685 best_F: 0.8750268136771203 new_acc:0.9215912489851729 \n",
      "Dev: new_F: 0.8193138500635323 best_F: 0.7929776948520058 new_acc:0.8248337028824834 \n",
      "Test: new_F: 0.7456471010590559 best_F: 0.7413932584269662 new_acc:0.7560975609756098 \n",
      "Epoch 9:\n",
      "114000 :  0.07435057460948045\n",
      "116000 :  0.06600060922199548\n",
      "118000 :  0.06872148143237415\n",
      "120000 :  0.08103444157933315\n",
      "122000 :  0.08090189913210201\n",
      "124000 :  0.06857445490494664\n",
      "126000 :  0.06928227642145696\n",
      "Epoch 10:\n",
      "128000 :  0.06158877800854213\n",
      "130000 :  0.061263408569728055\n",
      "132000 :  0.06979901746218976\n",
      "134000 :  0.06468122734651995\n",
      "136000 :  0.057803185169895785\n",
      "138000 :  0.07648955243663462\n",
      "140000 :  0.0861114259931576\n",
      "Epoch 11:\n",
      "142000 :  0.0661812437780198\n",
      "144000 :  0.06547121277705888\n",
      "146000 :  0.06531110801282553\n",
      "148000 :  0.06542194942906138\n",
      "150000 :  0.06381443394452031\n",
      "152000 :  0.07482306310409877\n",
      "154000 :  0.06396874253509306\n",
      "Early stopping: epoch=11, count=154451, new_acc_F=0.8248337028824834\n",
      "65.72310650348663 minutes\n"
     ]
    },
    {
     "data": {
      "image/png": "[encoded data removed]",
      "text/plain": [
       "<Figure size 480x320 with 1 Axes>"
      ]
     },
     "metadata": {
      "tags": []
     },
     "output_type": "display_data"
    }
   ],
   "source": [
    "parameters['char_mode'] = \"CNN\"\n",
    "parameters['encoder_mode'] = \"CNN_DILATED\"\n",
    "parameters['crf'] = 1\n",
    "\n",
    "all_F_DILATED = create_and_train_model()"
   ]
  },
  {
   "cell_type": "code",
   "execution_count": 0,
   "metadata": {
    "colab": {
     "base_uri": "https://localhost:8080/",
     "height": 68
    },
    "colab_type": "code",
    "id": "o771kpdi8UAD",
    "outputId": "5453efe7-7ed3-4786-f1d0-8298d0d61ff6"
   },
   "outputs": [
    {
     "data": {
      "text/plain": [
       "[[0, 0, 0],\n",
       " [0.8750268136771203, 0.7929776948520058, 0.7413932584269662],\n",
       " [0.919704916634685, 0.8193138500635323, 0.7456471010590559]]"
      ]
     },
     "execution_count": 43,
     "metadata": {
      "tags": []
     },
     "output_type": "execute_result"
    }
   ],
   "source": [
    "all_F_DILATED"
   ]
  },
  {
   "cell_type": "markdown",
   "metadata": {
    "colab_type": "text",
    "id": "waL8uJED5AYp"
   },
   "source": [
    "### (viii) Now, instead of using a CRF output layer, simply use a softmax output and report the results."
   ]
  },
  {
   "cell_type": "code",
   "execution_count": 0,
   "metadata": {
    "colab": {
     "base_uri": "https://localhost:8080/",
     "height": 1000
    },
    "colab_type": "code",
    "id": "dqcSo5Ul5GRR",
    "outputId": "092742c1-08b1-4894-b9b4-b1eb4c6952c0"
   },
   "outputs": [
    {
     "name": "stderr",
     "output_type": "stream",
     "text": [
      "/usr/local/lib/python3.6/dist-packages/ipykernel_launcher.py:6: UserWarning: nn.init.uniform is now deprecated in favor of nn.init.uniform_.\n",
      "  \n",
      "/usr/local/lib/python3.6/dist-packages/ipykernel_launcher.py:131: UserWarning: nn.init.xavier_uniform is now deprecated in favor of nn.init.xavier_uniform_.\n",
      "/usr/local/lib/python3.6/dist-packages/ipykernel_launcher.py:132: UserWarning: nn.init.xavier_uniform is now deprecated in favor of nn.init.xavier_uniform_.\n",
      "/usr/local/lib/python3.6/dist-packages/ipykernel_launcher.py:133: UserWarning: nn.init.xavier_uniform is now deprecated in favor of nn.init.xavier_uniform_.\n",
      "/usr/local/lib/python3.6/dist-packages/ipykernel_launcher.py:102: UserWarning: torch.nn.utils.clip_grad_norm is now deprecated in favor of torch.nn.utils.clip_grad_norm_.\n"
     ]
    },
    {
     "name": "stdout",
     "output_type": "stream",
     "text": [
      "\n",
      "Char mode: CNN, Encoder mode: CNN_DILATED\n",
      "Epoch 1:\n",
      "2000 :  0.12505217957207307\n",
      "4000 :  0.06599149392292944\n",
      "6000 :  0.05874521679377848\n",
      "8000 :  0.04317379564278216\n",
      "10000 :  0.040611313567496955\n",
      "12000 :  0.04277907785769053\n",
      "14000 :  0.037067172023603795\n",
      "Epoch 2:\n",
      "16000 :  0.035182597117149016\n",
      "18000 :  0.028345122104036623\n",
      "20000 :  0.03522164766674132\n",
      "22000 :  0.030874278826129857\n",
      "24000 :  0.030092304398404657\n",
      "26000 :  0.03130658176376348\n",
      "28000 :  0.035419494486226874\n",
      "Epoch 3:\n",
      "30000 :  0.02403371364021382\n",
      "32000 :  0.02732745994948021\n",
      "34000 :  0.029837830792244432\n",
      "36000 :  0.028534001052485703\n",
      "38000 :  0.024031613529555313\n",
      "40000 :  0.025986286334554312\n",
      "42000 :  0.02643598032405637\n",
      "Epoch 4:\n",
      "44000 :  0.019679466208025815\n",
      "46000 :  0.021850484898917947\n",
      "48000 :  0.020611585381797283\n",
      "50000 :  0.019071355174827904\n",
      "52000 :  0.0197949371598378\n",
      "54000 :  0.021897031021356785\n",
      "56000 :  0.024641563451282586\n",
      "Evaluating on Train, Test, Dev Sets at count=56164\n",
      "Train: new_F: 0.7547621422160168 best_F: -1.0 new_acc:0.7103168643940532 \n",
      "Dev: new_F: 0.7087747035573122 best_F: -1.0 new_acc:0.6683064997018485 \n",
      "Test: new_F: 0.6345758248992017 best_F: -1.0 new_acc:0.5927747886241352 \n",
      "Epoch 5:\n",
      "58000 :  0.01699311207599801\n",
      "60000 :  0.018792901879712585\n",
      "62000 :  0.019655521177974818\n",
      "64000 :  0.018431780009206183\n",
      "66000 :  0.015900086186704854\n",
      "68000 :  0.01997172783990649\n",
      "70000 :  0.019478793543272192\n",
      "Epoch 6:\n",
      "72000 :  0.0164679534313471\n",
      "74000 :  0.01600982226732697\n",
      "76000 :  0.016309755581119027\n",
      "78000 :  0.015997754258008767\n",
      "80000 :  0.01559789556601704\n",
      "82000 :  0.017558628906273927\n",
      "84000 :  0.01641678167159078\n",
      "Epoch 7:\n",
      "86000 :  0.01876614227432515\n",
      "88000 :  0.015595468132227756\n",
      "90000 :  0.015338982585768083\n",
      "92000 :  0.013077516570881569\n",
      "94000 :  0.012937652339623084\n",
      "96000 :  0.01909321914906606\n",
      "98000 :  0.014385341330833426\n",
      "Epoch 8:\n",
      "100000 :  0.015422958860415137\n",
      "102000 :  0.01214950434993236\n",
      "104000 :  0.014606379115503273\n",
      "106000 :  0.01559919166675508\n",
      "108000 :  0.015568605399677894\n",
      "110000 :  0.01371511689478399\n",
      "112000 :  0.013891405824706117\n",
      "Evaluating on Train, Test, Dev Sets at count=112328\n",
      "Train: new_F: 0.779820212036925 best_F: 0.7547621422160168 new_acc:0.7407620141681026 \n",
      "Dev: new_F: 0.7088987062164721 best_F: 0.7087747035573122 new_acc:0.6672111672111672 \n",
      "Test: new_F: 0.6530947299294041 best_F: 0.6345758248992017 new_acc:0.6088154269972452 \n",
      "Epoch 9:\n",
      "114000 :  0.012451983885988904\n",
      "116000 :  0.01391619788881074\n",
      "118000 :  0.01323353249611296\n",
      "120000 :  0.015492301457257739\n",
      "122000 :  0.015155925714602303\n",
      "124000 :  0.012671942855061069\n",
      "126000 :  0.013948353424097889\n",
      "Epoch 10:\n",
      "128000 :  0.010197506559309932\n",
      "130000 :  0.010803111026072884\n",
      "132000 :  0.012449042522135056\n",
      "134000 :  0.013502184214049676\n",
      "136000 :  0.01464345074183337\n",
      "138000 :  0.014011569942139328\n",
      "140000 :  0.01598927732762934\n",
      "Epoch 11:\n",
      "142000 :  0.012466851579507493\n",
      "144000 :  0.010529503595764093\n",
      "146000 :  0.014836385222185366\n",
      "148000 :  0.011806078417504\n",
      "150000 :  0.009742510530446578\n",
      "152000 :  0.013064952758348208\n",
      "154000 :  0.012774829474666767\n",
      "Early stopping: epoch=11, count=154451, new_acc_F=0.6672111672111672\n",
      "41.35154266357422 minutes\n"
     ]
    },
    {
     "data": {
      "image/png": "[encoded data removed]",
      "text/plain": [
       "<Figure size 480x320 with 1 Axes>"
      ]
     },
     "metadata": {
      "tags": []
     },
     "output_type": "display_data"
    }
   ],
   "source": [
    "parameters['char_mode'] = \"CNN\"\n",
    "parameters['encoder_mode'] = \"CNN_DILATED\"\n",
    "parameters['crf'] = 0\n",
    "\n",
    "all_F_DILATED_SOFTMAX = create_and_train_model()"
   ]
  },
  {
   "cell_type": "code",
   "execution_count": 0,
   "metadata": {
    "colab": {
     "base_uri": "https://localhost:8080/",
     "height": 68
    },
    "colab_type": "code",
    "id": "SRZKnk0SeRNu",
    "outputId": "d13f6264-e478-46f6-b6d3-d1629a7e2826"
   },
   "outputs": [
    {
     "data": {
      "text/plain": [
       "[[0, 0, 0],\n",
       " [0.7547621422160168, 0.7087747035573122, 0.6345758248992017],\n",
       " [0.779820212036925, 0.7088987062164721, 0.6530947299294041]]"
      ]
     },
     "execution_count": 45,
     "metadata": {
      "tags": []
     },
     "output_type": "execute_result"
    }
   ],
   "source": [
    "all_F_DILATED_SOFTMAX"
   ]
  },
  {
   "cell_type": "markdown",
   "metadata": {
    "colab_type": "text",
    "id": "oYnj-J2Z5KSD"
   },
   "source": [
    "<a name='summary'></a>\n",
    "# 3. SUMMARY OF RESULTS\n",
    "[back to top](#outline)"
   ]
  },
  {
   "cell_type": "code",
   "execution_count": 0,
   "metadata": {
    "colab": {},
    "colab_type": "code",
    "id": "AVKwzbTDxX81"
   },
   "outputs": [],
   "source": [
    "import pandas as pd"
   ]
  },
  {
   "cell_type": "code",
   "execution_count": 0,
   "metadata": {
    "colab": {},
    "colab_type": "code",
    "id": "OnA4KBVD6y5U"
   },
   "outputs": [],
   "source": [
    "def get_num_params(model):\n",
    "  nb_param = 0\n",
    "  for param in model.parameters():\n",
    "    nb_param += param.numel()\n",
    "  return nb_param"
   ]
  },
  {
   "cell_type": "code",
   "execution_count": 0,
   "metadata": {
    "colab": {
     "base_uri": "https://localhost:8080/",
     "height": 170
    },
    "colab_type": "code",
    "id": "qk87gItK8dvp",
    "outputId": "465ce149-fe94-456e-c342-6a1fdcd0fd4d"
   },
   "outputs": [
    {
     "name": "stdout",
     "output_type": "stream",
     "text": [
      "embedding_dim=100, self.out_channels=25, in=125\n",
      "embedding_dim=100, char_lstm_dim=50, in=150\n"
     ]
    },
    {
     "name": "stderr",
     "output_type": "stream",
     "text": [
      "/usr/local/lib/python3.6/dist-packages/ipykernel_launcher.py:6: UserWarning: nn.init.uniform is now deprecated in favor of nn.init.uniform_.\n",
      "  \n",
      "/usr/local/lib/python3.6/dist-packages/ipykernel_launcher.py:85: UserWarning: nn.init.xavier_uniform is now deprecated in favor of nn.init.xavier_uniform_.\n",
      "/usr/local/lib/python3.6/dist-packages/ipykernel_launcher.py:25: UserWarning: nn.init.uniform is now deprecated in favor of nn.init.uniform_.\n",
      "/usr/local/lib/python3.6/dist-packages/ipykernel_launcher.py:30: UserWarning: nn.init.uniform is now deprecated in favor of nn.init.uniform_.\n",
      "/usr/local/lib/python3.6/dist-packages/ipykernel_launcher.py:38: UserWarning: nn.init.uniform is now deprecated in favor of nn.init.uniform_.\n",
      "/usr/local/lib/python3.6/dist-packages/ipykernel_launcher.py:41: UserWarning: nn.init.uniform is now deprecated in favor of nn.init.uniform_.\n"
     ]
    }
   ],
   "source": [
    "# CNN-CNN\n",
    "parameters['char_mode'] = 'CNN'\n",
    "parameters['encoder_mode'] = 'CNN'\n",
    "cnn_cnn = BiLSTM_CRF(vocab_size=len(word_to_id),\n",
    "                    tag_to_ix=tag_to_id,\n",
    "                    embedding_dim=parameters['word_dim'],\n",
    "                    hidden_dim=parameters['word_lstm_dim'],\n",
    "                    use_gpu=use_gpu,\n",
    "                    char_to_ix=char_to_id,\n",
    "                    pre_word_embeds=word_embeds,\n",
    "                    use_crf=parameters['crf'],\n",
    "                    char_mode=parameters['char_mode'],\n",
    "                    encoder_mode=parameters['encoder_mode'])\n",
    "\n",
    "# LSTM-CNN\n",
    "parameters['char_mode'] = 'LSTM'\n",
    "parameters['encoder_mode'] = 'CNN'\n",
    "lstm_cnn = BiLSTM_CRF(vocab_size=len(word_to_id),\n",
    "                    tag_to_ix=tag_to_id,\n",
    "                    embedding_dim=parameters['word_dim'],\n",
    "                    hidden_dim=parameters['word_lstm_dim'],\n",
    "                    use_gpu=use_gpu,\n",
    "                    char_to_ix=char_to_id,\n",
    "                    pre_word_embeds=word_embeds,\n",
    "                    use_crf=parameters['crf'],\n",
    "                    char_mode=parameters['char_mode'],\n",
    "                    encoder_mode=parameters['encoder_mode'])"
   ]
  },
  {
   "cell_type": "markdown",
   "metadata": {
    "colab_type": "text",
    "id": "eQYG677oOicI"
   },
   "source": [
    "#### 1. `CNN char-level encoder` vs `LSTM char-level encoder` (both using `Single CNN word-level encoder`)\n",
    "\n",
    "Results and number of parameters in each model."
   ]
  },
  {
   "cell_type": "code",
   "execution_count": 0,
   "metadata": {
    "colab": {
     "base_uri": "https://localhost:8080/",
     "height": 102
    },
    "colab_type": "code",
    "id": "Svqko6pSO3-T",
    "outputId": "264672d4-1e97-4417-de91-62d6edf7895d"
   },
   "outputs": [
    {
     "name": "stdout",
     "output_type": "stream",
     "text": [
      "CNN char-level encoder vs LSTM char-level encoder (both using Single CNN word-level encoder)\n",
      "\n",
      "      model  parameters       val      test\n",
      "0   cnn_cnn     1761855  0.781265  0.700078\n",
      "1  lstm_cnn     1770355  0.695983  0.609152\n"
     ]
    }
   ],
   "source": [
    "# Get all val scores of each model\n",
    "val_cnn_1 = [f1[1] for f1 in all_F_1_CNN]\n",
    "val_lstm_1 = [f1[1] for f1 in all_F_1_LSTM]\n",
    "\n",
    "# Get best val score index of each model\n",
    "best_val_cnn_1_index = val_cnn_1.index(max(val_cnn_1))\n",
    "best_val_lstm_1_index = val_lstm_1.index(max(val_lstm_1))\n",
    "\n",
    "# Get test score w.r.t best validation score of each model\n",
    "test_cnn_1 = all_F_1_CNN[best_val_cnn_1_index][2]\n",
    "test_lstm_1 = all_F_1_LSTM[best_val_lstm_1_index][2]\n",
    "\n",
    "# Get best val score of each mode\n",
    "val_cnn_1 = max(val_cnn_1)\n",
    "val_lstm_1 = max(val_lstm_1)\n",
    "\n",
    "# Construct results table\n",
    "df = pd.DataFrame()\n",
    "df['model'] = ['cnn_cnn', 'lstm_cnn']\n",
    "df['parameters'] = [get_num_params(cnn_cnn), get_num_params(lstm_cnn)]\n",
    "df['val'] = [val_cnn_1, val_lstm_1]\n",
    "df['test'] = [test_cnn_1, test_lstm_1]\n",
    "\n",
    "print('CNN char-level encoder vs LSTM char-level encoder (both using Single CNN word-level encoder)\\n')\n",
    "print(df)"
   ]
  },
  {
   "cell_type": "markdown",
   "metadata": {
    "colab_type": "text",
    "id": "L7-am3ntO43_"
   },
   "source": [
    "#### 2. `Single-layer CNN word-level encoder` vs `Multi-layer CNN word-level encoder` (all using `CNN char-level encoder`)"
   ]
  },
  {
   "cell_type": "code",
   "execution_count": 0,
   "metadata": {
    "colab": {
     "base_uri": "https://localhost:8080/",
     "height": 119
    },
    "colab_type": "code",
    "id": "hrmNwFpOPHol",
    "outputId": "e8bc9c7c-6e58-4327-a1cc-c464438497ef"
   },
   "outputs": [
    {
     "name": "stdout",
     "output_type": "stream",
     "text": [
      "Single-layer CNN word-level encoder vs Multi-layer CNN word-level encoder (all using CNN char-level encoder)\n",
      "\n",
      "   model       val      test\n",
      "0  cnn_1  0.772499  0.683696\n",
      "1  cnn_2  0.817331  0.742797\n",
      "2  cnn_3  0.811989  0.722202\n"
     ]
    }
   ],
   "source": [
    "# Get all val scores of each model\n",
    "val_cnn_1 = [f1[1] for f1 in all_F_1_CNN]\n",
    "val_cnn_2 = [f1[1] for f1 in all_F_2_CNN]\n",
    "val_cnn_3 = [f1[1] for f1 in all_F_3_CNN]\n",
    "\n",
    "# Get best val score index of each model\n",
    "best_val_cnn_1_index = val_cnn_1.index(max(val_cnn_1))\n",
    "best_val_cnn_2_index = val_cnn_2.index(max(val_cnn_2))\n",
    "best_val_cnn_3_index = val_cnn_3.index(max(val_cnn_3))\n",
    "\n",
    "# Get test score w.r.t best validation score of each model\n",
    "test_cnn_1 = all_F_1_CNN[best_val_cnn_1_index][2]\n",
    "test_cnn_2 = all_F_2_CNN[best_val_cnn_2_index][2]\n",
    "test_cnn_3 = all_F_3_CNN[best_val_cnn_3_index][2]\n",
    "\n",
    "# Get best val score of each mode\n",
    "val_cnn_1 = max(val_cnn_1)\n",
    "val_cnn_2 = max(val_cnn_2)\n",
    "val_cnn_3 = max(val_cnn_3)\n",
    "\n",
    "# Construct results table\n",
    "df = pd.DataFrame()\n",
    "df['model'] = ['cnn_1', 'cnn_2', 'cnn_3']\n",
    "df['val'] = [val_cnn_1, val_cnn_2, val_cnn_3]\n",
    "df['test'] = [test_cnn_1, test_cnn_2, test_cnn_3]\n",
    "\n",
    "print('Single-layer CNN word-level encoder vs Multi-layer CNN word-level encoder (all using CNN char-level encoder)\\n')\n",
    "print(df)"
   ]
  },
  {
   "cell_type": "markdown",
   "metadata": {
    "colab_type": "text",
    "id": "8_B1cv-tPH7S"
   },
   "source": [
    "#### 3. `Dilated 3-Layer CNN word-level encoder` with `CNN char-level encoder`"
   ]
  },
  {
   "cell_type": "code",
   "execution_count": 0,
   "metadata": {
    "colab": {
     "base_uri": "https://localhost:8080/",
     "height": 85
    },
    "colab_type": "code",
    "id": "U-OT7Tk4QYcz",
    "outputId": "01a74ccb-ad26-4759-dbec-18a9dabb70a2"
   },
   "outputs": [
    {
     "name": "stdout",
     "output_type": "stream",
     "text": [
      "Dilated 3-Layer CNN word-level encoder with CNN char-level encoder\n",
      "\n",
      "         model       val      test\n",
      "0  cnn_dilated  0.819314  0.745647\n"
     ]
    }
   ],
   "source": [
    "# Get all val scores of each model\n",
    "val_cnn_dilated = [f1[1] for f1 in all_F_DILATED]\n",
    "\n",
    "# Get best val score index of each model\n",
    "best_val_cnn_dilated_index = val_cnn_dilated.index(max(val_cnn_dilated))\n",
    "\n",
    "# Get test score w.r.t best validation score of each model\n",
    "test_cnn_dilated = all_F_DILATED[best_val_cnn_dilated_index][2]\n",
    "\n",
    "# Get best val score of each mode\n",
    "val_cnn_dilated = max(val_cnn_dilated)\n",
    "\n",
    "# Construct results table\n",
    "df = pd.DataFrame()\n",
    "df['model'] = ['cnn_dilated']\n",
    "df['val'] = [val_cnn_dilated]\n",
    "df['test'] = [test_cnn_dilated]\n",
    "\n",
    "print('Dilated 3-Layer CNN word-level encoder with CNN char-level encoder\\n')\n",
    "print(df)"
   ]
  },
  {
   "cell_type": "markdown",
   "metadata": {
    "colab_type": "text",
    "id": "J-1FYQm6QYri"
   },
   "source": [
    "#### 4. `Dilated 3-Layer CNN word-level encoder` with `CNN char-level encoder` and `Softmax output layer`"
   ]
  },
  {
   "cell_type": "code",
   "execution_count": 0,
   "metadata": {
    "colab": {
     "base_uri": "https://localhost:8080/",
     "height": 85
    },
    "colab_type": "code",
    "id": "a7iEyTrKQnX-",
    "outputId": "1c62139a-b8fc-4f5a-8744-5c76d504b5ac"
   },
   "outputs": [
    {
     "name": "stdout",
     "output_type": "stream",
     "text": [
      "Dilated 3-Layer CNN word-level encoder with CNN char-level encoder and Softmax as final layer\n",
      "\n",
      "                 model       val      test\n",
      "0  cnn_dilated_softmax  0.708899  0.753695\n"
     ]
    }
   ],
   "source": [
    "# Get all val scores of each model\n",
    "val_cnn_dilated_softmax = [f1[1] for f1 in all_F_DILATED_SOFTMAX]\n",
    "\n",
    "# Get best val score index of each model\n",
    "best_val_cnn_dilated_softmax_index = val_cnn_dilated_softmax.index(max(val_cnn_dilated_softmax))\n",
    "\n",
    "# Get test score w.r.t best validation score of each model\n",
    "test_cnn_dilated_softmax = all_F_DILATED[best_val_cnn_dilated_softmax_index][2]\n",
    "\n",
    "# Get best val score of each mode\n",
    "val_cnn_dilated_softmax = max(val_cnn_dilated_softmax)\n",
    "\n",
    "# Construct results table\n",
    "df = pd.DataFrame()\n",
    "df['model'] = ['cnn_dilated_softmax']\n",
    "df['val'] = [val_cnn_dilated_softmax]\n",
    "df['test'] = [test_cnn_dilated_softmax]\n",
    "\n",
    "print('Dilated 3-Layer CNN word-level encoder with CNN char-level encoder and Softmax as final layer\\n')\n",
    "print(df)"
   ]
  },
  {
   "cell_type": "markdown",
   "metadata": {
    "colab_type": "text",
    "id": "xr42qAcW5GfX"
   },
   "source": [
    "### (ix) Please summarize your observations."
   ]
  },
  {
   "cell_type": "markdown",
   "metadata": {
    "colab_type": "text",
    "id": "46FDWIkbXHYz"
   },
   "source": [
    "Part (v): CNN char-level encoder vs LSTM char-level encoder:\n",
    "- CNN-CNN performed better than LSTM-CNN in 3 aspects:\n",
    "  - F1 score on test set: `0.6` vs `0.7`\n",
    "  - Num of parameters in model: `1.76` million vs `1.77` million\n",
    "  - Training duration with early stopping: `43` mins vs `80` mins\n",
    "\n",
    "\n",
    "Part (vi): Single-layer vs Multi-layer CNN word-level encoder:\n",
    "- Faster drop in loss in 2-Layer CNN vs 1-Layer CNN (~0.1 loss vs ~0.2 loss at Epoch 2)\n",
    "- 3-Layer CNN achieved best loss (0.03) as compared to 2-Layer CNN (0.05) and 1-Layer CNN (0.09)\n",
    "- 2-Layer CNN achieved best F1 score at 0.74 while 3-Layer CNN F1 score was 0.72. However, this is suspected to be due to the early stopping condition imposed.\n",
    "- Generally, model performance improves as we stack more CNN layers for the word-level encoder.\n",
    "\n",
    "Part (vii):\n",
    "- Dilated CNN achieved better loss at 0.2 vs 3-Layer CNN loss at 0.3\n",
    "- Dilated CNN achieved better F1 score at 0.77 on test set vs all previous models\n",
    "\n",
    "Part(viii):\n",
    "- Softmax layer achieved much lower loss from the beginning at 0.152 as compared to all previous models using CRF as the final layer.\n",
    "- However, model with softmax layer performed the worst with F1 score of 0.65 on the test set."
   ]
  },
  {
   "cell_type": "markdown",
   "metadata": {
    "colab_type": "text",
    "id": "j836fP6A6kqt"
   },
   "source": [
    "# QUESTION 2\n",
    "\n",
    "To help me in future planning with the assignment exercises, please mention how much time you spent on the question."
   ]
  },
  {
   "cell_type": "markdown",
   "metadata": {
    "colab_type": "text",
    "id": "URIHmgcG6rU4"
   },
   "source": [
    "I spent a total of `6` full days to complete this assignment. Very long hours indeed. Hope I can score well for this assignment..."
   ]
  }
 ],
 "metadata": {
  "accelerator": "GPU",
  "colab": {
   "include_colab_link": true,
   "name": "Report.ipynb",
   "provenance": [],
   "toc_visible": true
  },
  "kernelspec": {
   "display_name": "Python 3",
   "language": "python",
   "name": "python3"
  },
  "language_info": {
   "codemirror_mode": {
    "name": "ipython",
    "version": 3
   },
   "file_extension": ".py",
   "mimetype": "text/x-python",
   "name": "python",
   "nbconvert_exporter": "python",
   "pygments_lexer": "ipython3",
   "version": "3.7.4"
  }
 },
 "nbformat": 4,
 "nbformat_minor": 1
}
