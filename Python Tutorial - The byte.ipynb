{
  "nbformat": 4,
  "nbformat_minor": 0,
  "metadata": {
    "colab": {
      "name": "intro_to_pandas.ipynb",
      "provenance": [],
      "include_colab_link": true
    },
    "kernelspec": {
      "name": "python3",
      "display_name": "Python 3"
    },
    "accelerator": "GPU"
  },
  "cells": [
    {
      "cell_type": "markdown",
      "metadata": {
        "id": "view-in-github",
        "colab_type": "text"
      },
      "source": [
        "<a href=\"https://colab.research.google.com/github/alanwuha/ce7455-nlp/blob/master/Python%20Tutorial%20-%20The%20byte.ipynb\" target=\"_parent\"><img src=\"https://colab.research.google.com/assets/colab-badge.svg\" alt=\"Open In Colab\"/></a>"
      ]
    },
    {
      "cell_type": "markdown",
      "metadata": {
        "id": "NGEm6_fIT3PJ",
        "colab_type": "text"
      },
      "source": [
        "# Python Tutorial\n",
        "\n",
        "__Prerequisite :__ Knowledge of any programming language, some small concepts of OOP."
      ]
    },
    {
      "cell_type": "markdown",
      "metadata": {
        "id": "IMBfsC6JUM21",
        "colab_type": "text"
      },
      "source": [
        "# Table of Content\n",
        "\n",
        "0. Introduction\n",
        "1. Interpreter\n",
        "2. Variables & Built in Data-structures\n",
        "3. Conditional\n",
        "4. Function\n",
        "5. while loop\n",
        "6. for loop\n",
        "7. Random number\n",
        "8. Generator Function\n",
        "9. Class, Inheritance\n",
        "10. Asserts, exceptions\n",
        "11. Input Output (I/O)\n",
        "12. The Pythonic Way\n",
        "13. Brief tour to Standard Library\n",
        "14. Package Manager\n",
        "15. The complete language reference"
      ]
    },
    {
      "cell_type": "markdown",
      "metadata": {
        "id": "vikeyWzbU1Zl",
        "colab_type": "text"
      },
      "source": [
        "# Learn ideas and Practice Syntax"
      ]
    },
    {
      "cell_type": "markdown",
      "metadata": {
        "id": "72wvI1miU76y",
        "colab_type": "text"
      },
      "source": [
        "# 0. Introduction\n",
        "\n",
        "Theoretically, Any turing complete language can mimic each other's performance. A programming language should have the following feature to be Turing-complete.\n",
        "\n",
        "  0. Conditional repetition or conditional jump (while, for, if, and goto)\n",
        "  1. Read and Write mechanism (variables)\n",
        "\n",
        "__Example :__ C, C++, C#, Java, Lua, Python"
      ]
    },
    {
      "cell_type": "markdown",
      "metadata": {
        "id": "vbYd0Q2TVOtO",
        "colab_type": "text"
      },
      "source": [
        "# Why choose python for Deep Learning Research?\n",
        "\n",
        "Early Deep learing era was built on top of Lua ([torch](https://pytorch.org)) and python ([Theano](#)). But somehow python stands out in the following points.\n",
        "\n",
        "  0. Shorter codes.\n",
        "  1. Momentum, rapid prototyping and rapid application development.\n",
        "  2. Vibrant Community, and Community support.\n",
        "  3. Excellent eco-system of library and package managers.\n",
        "  4. Good Debugging tools.\n",
        "  5. Better OS integration.\n",
        "\n",
        "Later google built [tensorflow](https://tensorflow.org) with full python api support and facebook adopted Soumit Chintala's [pytorch](https://pytorch.org) and started supporting it. Both of them are now excellent frameworks for doing Deep Learning Research and Deployment.\n",
        "\n",
        "Now __Python has become the Mother-tongue of scientific Programming.__"
      ]
    },
    {
      "cell_type": "markdown",
      "metadata": {
        "id": "pOkaTmNyWdrn",
        "colab_type": "text"
      },
      "source": [
        "# 1. Interpreter\n",
        "\n",
        "One of the major difference between compiler and interpreter is __when__ and __how__ the compilation and execution is done?\n",
        "\n",
        "In Compiler based language, Compilation is done before execution. In Interpreter based language, the Compilation and Execution take place simultaneously. It enables us to create __this__ type of notebook where we can run each cell, see the output and again run a set of new command. This is simply, \n",
        "\n",
        "_GREAT FOR DEBUGGING_\n",
        "\n",
        "Also it helps us to take __educative decisions__ while inspecting any phenomena inside the __data__ or __model__.\n",
        "\n"
      ]
    },
    {
      "cell_type": "markdown",
      "metadata": {
        "id": "T4MjUevAYrSq",
        "colab_type": "text"
      },
      "source": [
        "## Code running\n",
        "\n",
        "3 different ways:\n",
        "\n",
        "  1. __From shell :__ from the terminal write `python -c \"python code\"`\n",
        "  2. __From a *.py file :__ Write python code in a text file\n",
        "  3. __Interactive mode :__ In the shell write `python` and an interactive python shell will start where you can run python code line by line. Same feature is used for creating __this__ types of __notebook__."
      ]
    },
    {
      "cell_type": "markdown",
      "metadata": {
        "id": "R0AxwhHSacSe",
        "colab_type": "text"
      },
      "source": [
        "### From Shell"
      ]
    },
    {
      "cell_type": "code",
      "metadata": {
        "id": "1eTGN52faeqy",
        "colab_type": "code",
        "outputId": "a8c10547-7bd1-4c86-b5d3-c01bd9323d1c",
        "colab": {
          "base_uri": "https://localhost:8080/",
          "height": 51
        }
      },
      "source": [
        "!python -c 'import torch; print(\"Hello World\"); print(torch.__version__)'"
      ],
      "execution_count": 0,
      "outputs": [
        {
          "output_type": "stream",
          "text": [
            "Hello World\n",
            "1.3.1\n"
          ],
          "name": "stdout"
        }
      ]
    },
    {
      "cell_type": "markdown",
      "metadata": {
        "id": "4_ZlyJ9gav8J",
        "colab_type": "text"
      },
      "source": [
        "### From a *.py file\n",
        "\n",
        "Let's create the python file first and then run the python file from terminal. In real life you may use an IDE or editor to create the python code and save it as `*.py` extension."
      ]
    },
    {
      "cell_type": "code",
      "metadata": {
        "id": "nrK4eI6GbDdu",
        "colab_type": "code",
        "outputId": "11240e10-bff8-4f10-b2b8-eed4546eab1d",
        "colab": {
          "base_uri": "https://localhost:8080/",
          "height": 136
        }
      },
      "source": [
        "!python --version # print python version\n",
        "!rm hello_world.py  # delete if any hello_world.py is there\n",
        "!touch hello_world.py # create an empty hello_world.py text file\n",
        "!echo -e \"import torch\" >> hello_world.py # write on hello_world.py file\n",
        "!echo -e \"print(\\\"Hello World\\\")\" >> hello_world.py # write on hello_world.py file\n",
        "!echo -e \"print(torch.__version__)\" >> hello_world.py # write on hello_world.py file\n",
        "!cat hello_world.py # View hello_world.py\n",
        "!python hello_world.py  # run hello_world.py\n",
        "arr = [0, 0, 0, 0, 0]"
      ],
      "execution_count": 0,
      "outputs": [
        {
          "output_type": "stream",
          "text": [
            "Python 3.6.9\n",
            "rm: cannot remove 'hello_world.py': No such file or directory\n",
            "import torch\n",
            "print(\"Hello World\")\n",
            "print(torch.__version__)\n",
            "Hello World\n",
            "1.3.1\n"
          ],
          "name": "stdout"
        }
      ]
    },
    {
      "cell_type": "markdown",
      "metadata": {
        "id": "-dDfemsob7i3",
        "colab_type": "text"
      },
      "source": [
        "### Interactive mode"
      ]
    },
    {
      "cell_type": "code",
      "metadata": {
        "id": "YSG0J3cWb931",
        "colab_type": "code",
        "outputId": "60586316-413a-41a9-c37b-f324c6d165c0",
        "colab": {
          "base_uri": "https://localhost:8080/",
          "height": 68
        }
      },
      "source": [
        "import torch\n",
        "print(\"Hello World\")\n",
        "print(torch.__version__)\n",
        "arr[0] = arr[0] + 1\n",
        "print(arr)"
      ],
      "execution_count": 0,
      "outputs": [
        {
          "output_type": "stream",
          "text": [
            "Hello World\n",
            "1.3.1\n",
            "[2, 0, 0, 0, 0]\n"
          ],
          "name": "stdout"
        }
      ]
    },
    {
      "cell_type": "markdown",
      "metadata": {
        "id": "F7avhVzgcLmY",
        "colab_type": "text"
      },
      "source": [
        "# 2. Variables & Built in Data-structures"
      ]
    },
    {
      "cell_type": "markdown",
      "metadata": {
        "id": "By40PXQOcP7t",
        "colab_type": "text"
      },
      "source": [
        "## Variable Declaration\n",
        "\n",
        "- Declare a variable with an `=` sign and assign a value to it.\n",
        "- To see the data type use `type()` function\n",
        "- Make sure you know about the automatic type conversion. mainly for `floating` point numbers.\n",
        "- Run simple operations with operator `+,-,*,/,%,**`. `%` is modulus operation and `**` is power operation. `a**c` is equivalent to $a^c$\n",
        "- Import python libraries by `import library_name`.\n",
        "- In python each of the variable is a class"
      ]
    },
    {
      "cell_type": "code",
      "metadata": {
        "id": "lTYl1eASdNvv",
        "colab_type": "code",
        "outputId": "89cbbdfd-5915-428a-fa8d-34e417083568",
        "colab": {
          "base_uri": "https://localhost:8080/",
          "height": 71
        }
      },
      "source": [
        "var0 = 5\n",
        "var1 = 5.0\n",
        "var2 = 'The quick brown fox jumps over the lazy dog'\n",
        "var3 = 1e-3 # 0.001\n",
        "var4 = 1e3  # 1000.0\n",
        "var5 = True\n",
        "var6 = False\n",
        "arr = [1,2,3,4]\n",
        "print(var0, var1, var2, var3, var4, var5, var6)\n",
        "print(type(var0), type(var1), type(var2), type(var3), type(var4), type(var5), type(var6))"
      ],
      "execution_count": 0,
      "outputs": [
        {
          "output_type": "stream",
          "text": [
            "5 5.0 The quick brown fox jumps over the lazy dog 0.001 1000.0 True False\n",
            "<class 'int'> <class 'float'> <class 'str'> <class 'float'> <class 'float'> <class 'bool'> <class 'bool'>\n"
          ],
          "name": "stdout"
        }
      ]
    }
  ]
}