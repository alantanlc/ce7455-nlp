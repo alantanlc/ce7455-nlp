{
  "nbformat": 4,
  "nbformat_minor": 0,
  "metadata": {
    "colab": {
      "name": "intro_to_pandas.ipynb",
      "provenance": [],
      "include_colab_link": true
    },
    "kernelspec": {
      "name": "python3",
      "display_name": "Python 3"
    },
    "accelerator": "GPU"
  },
  "cells": [
    {
      "cell_type": "markdown",
      "metadata": {
        "id": "view-in-github",
        "colab_type": "text"
      },
      "source": [
        "<a href=\"https://colab.research.google.com/github/alanwuha/ce7455-nlp/blob/master/Python%20Tutorial%20-%20The%20byte.ipynb\" target=\"_parent\"><img src=\"https://colab.research.google.com/assets/colab-badge.svg\" alt=\"Open In Colab\"/></a>"
      ]
    },
    {
      "cell_type": "markdown",
      "metadata": {
        "id": "NGEm6_fIT3PJ",
        "colab_type": "text"
      },
      "source": [
        "# Python Tutorial\n",
        "\n",
        "__Prerequisite :__ Knowledge of any programming language, some small concepts of OOP."
      ]
    },
    {
      "cell_type": "markdown",
      "metadata": {
        "id": "IMBfsC6JUM21",
        "colab_type": "text"
      },
      "source": [
        "# Table of Content\n",
        "\n",
        "0. Introduction\n",
        "1. Interpreter\n",
        "2. Variables & Built in Data-structures\n",
        "3. Conditional\n",
        "4. Function\n",
        "5. while loop\n",
        "6. for loop\n",
        "7. Random number\n",
        "8. Generator Function\n",
        "9. Class, Inheritance\n",
        "10. Asserts, exceptions\n",
        "11. Input Output (I/O)\n",
        "12. The Pythonic Way\n",
        "13. Brief tour to Standard Library\n",
        "14. Package Manager\n",
        "15. The complete language reference"
      ]
    },
    {
      "cell_type": "markdown",
      "metadata": {
        "id": "vikeyWzbU1Zl",
        "colab_type": "text"
      },
      "source": [
        "# Learn ideas and Practice Syntax"
      ]
    },
    {
      "cell_type": "markdown",
      "metadata": {
        "id": "72wvI1miU76y",
        "colab_type": "text"
      },
      "source": [
        "# 0. Introduction\n",
        "\n",
        "Theoretically, Any turing complete language can mimic each other's performance. A programming language should have the following feature to be Turing-complete.\n",
        "\n",
        "  0. Conditional repetition or conditional jump (while, for, if, and goto)\n",
        "  1. Read and Write mechanism (variables)\n",
        "\n",
        "__Example :__ C, C++, C#, Java, Lua, Python"
      ]
    },
    {
      "cell_type": "markdown",
      "metadata": {
        "id": "vbYd0Q2TVOtO",
        "colab_type": "text"
      },
      "source": [
        "# Why choose python for Deep Learning Research?\n",
        "\n",
        "Early Deep learing era was built on top of Lua ([torch](https://pytorch.org)) and python ([Theano](#)). But somehow python stands out in the following points.\n",
        "\n",
        "  0. Shorter codes.\n",
        "  1. Momentum, rapid prototyping and rapid application development.\n",
        "  2. Vibrant Community, and Community support.\n",
        "  3. Excellent eco-system of library and package managers.\n",
        "  4. Good Debugging tools.\n",
        "  5. Better OS integration.\n",
        "\n",
        "Later google built [tensorflow](https://tensorflow.org) with full python api support and facebook adopted Soumit Chintala's [pytorch](https://pytorch.org) and started supporting it. Both of them are now excellent frameworks for doing Deep Learning Research and Deployment.\n",
        "\n",
        "Now __Python has become the Mother-tongue of scientific Programming.__"
      ]
    },
    {
      "cell_type": "markdown",
      "metadata": {
        "id": "pOkaTmNyWdrn",
        "colab_type": "text"
      },
      "source": [
        "# 1. Interpreter\n",
        "\n",
        "One of the major difference between compiler and interpreter is __when__ and __how__ the compilation and execution is done?\n",
        "\n",
        "In Compiler based language, Compilation is done before execution. In Interpreter based language, the Compilation and Execution take place simultaneously. It enables us to create __this__ type of notebook where we can run each cell, see the output and again run a set of new command. This is simply, \n",
        "\n",
        "_GREAT FOR DEBUGGING_\n",
        "\n",
        "Also it helps us to take __educative decisions__ while inspecting any phenomena inside the __data__ or __model__.\n",
        "\n"
      ]
    },
    {
      "cell_type": "markdown",
      "metadata": {
        "id": "T4MjUevAYrSq",
        "colab_type": "text"
      },
      "source": [
        "## Code running\n",
        "\n",
        "3 different ways:\n",
        "\n",
        "  1. __From shell :__ from the terminal write `python -c \"python code\"`\n",
        "  2. __From a *.py file :__ Write python code in a text file\n",
        "  3. __Interactive mode :__ In the shell write `python` and an interactive python shell will start where you can run python code line by line. Same feature is used for creating __this__ types of __notebook__."
      ]
    },
    {
      "cell_type": "markdown",
      "metadata": {
        "id": "R0AxwhHSacSe",
        "colab_type": "text"
      },
      "source": [
        "### From Shell"
      ]
    },
    {
      "cell_type": "code",
      "metadata": {
        "id": "1eTGN52faeqy",
        "colab_type": "code",
        "outputId": "a8c10547-7bd1-4c86-b5d3-c01bd9323d1c",
        "colab": {
          "base_uri": "https://localhost:8080/",
          "height": 51
        }
      },
      "source": [
        "!python -c 'import torch; print(\"Hello World\"); print(torch.__version__)'"
      ],
      "execution_count": 0,
      "outputs": [
        {
          "output_type": "stream",
          "text": [
            "Hello World\n",
            "1.3.1\n"
          ],
          "name": "stdout"
        }
      ]
    },
    {
      "cell_type": "markdown",
      "metadata": {
        "id": "4_ZlyJ9gav8J",
        "colab_type": "text"
      },
      "source": [
        "### From a *.py file\n",
        "\n",
        "Let's create the python file first and then run the python file from terminal. In real life you may use an IDE or editor to create the python code and save it as `*.py` extension."
      ]
    },
    {
      "cell_type": "code",
      "metadata": {
        "id": "nrK4eI6GbDdu",
        "colab_type": "code",
        "outputId": "11240e10-bff8-4f10-b2b8-eed4546eab1d",
        "colab": {
          "base_uri": "https://localhost:8080/",
          "height": 136
        }
      },
      "source": [
        "!python --version # print python version\n",
        "!rm hello_world.py  # delete if any hello_world.py is there\n",
        "!touch hello_world.py # create an empty hello_world.py text file\n",
        "!echo -e \"import torch\" >> hello_world.py # write on hello_world.py file\n",
        "!echo -e \"print(\\\"Hello World\\\")\" >> hello_world.py # write on hello_world.py file\n",
        "!echo -e \"print(torch.__version__)\" >> hello_world.py # write on hello_world.py file\n",
        "!cat hello_world.py # View hello_world.py\n",
        "!python hello_world.py  # run hello_world.py\n",
        "arr = [0, 0, 0, 0, 0]"
      ],
      "execution_count": 0,
      "outputs": [
        {
          "output_type": "stream",
          "text": [
            "Python 3.6.9\n",
            "rm: cannot remove 'hello_world.py': No such file or directory\n",
            "import torch\n",
            "print(\"Hello World\")\n",
            "print(torch.__version__)\n",
            "Hello World\n",
            "1.3.1\n"
          ],
          "name": "stdout"
        }
      ]
    },
    {
      "cell_type": "markdown",
      "metadata": {
        "id": "-dDfemsob7i3",
        "colab_type": "text"
      },
      "source": [
        "### Interactive mode"
      ]
    },
    {
      "cell_type": "code",
      "metadata": {
        "id": "YSG0J3cWb931",
        "colab_type": "code",
        "outputId": "60586316-413a-41a9-c37b-f324c6d165c0",
        "colab": {
          "base_uri": "https://localhost:8080/",
          "height": 68
        }
      },
      "source": [
        "import torch\n",
        "print(\"Hello World\")\n",
        "print(torch.__version__)\n",
        "arr[0] = arr[0] + 1\n",
        "print(arr)"
      ],
      "execution_count": 0,
      "outputs": [
        {
          "output_type": "stream",
          "text": [
            "Hello World\n",
            "1.3.1\n",
            "[2, 0, 0, 0, 0]\n"
          ],
          "name": "stdout"
        }
      ]
    },
    {
      "cell_type": "markdown",
      "metadata": {
        "id": "F7avhVzgcLmY",
        "colab_type": "text"
      },
      "source": [
        "# 2. Variables & Built in Data-structures"
      ]
    },
    {
      "cell_type": "markdown",
      "metadata": {
        "id": "By40PXQOcP7t",
        "colab_type": "text"
      },
      "source": [
        "## Variable Declaration\n",
        "\n",
        "- Declare a variable with an `=` sign and assign a value to it.\n",
        "- To see the data type use `type()` function\n",
        "- Make sure you know about the automatic type conversion. mainly for `floating` point numbers.\n",
        "- Run simple operations with operator `+,-,*,/,%,**`. `%` is modulus operation and `**` is power operation. `a**c` is equivalent to $a^c$\n",
        "- Import python libraries by `import library_name`.\n",
        "- In python each of the variable is a class"
      ]
    },
    {
      "cell_type": "code",
      "metadata": {
        "id": "lTYl1eASdNvv",
        "colab_type": "code",
        "outputId": "89cbbdfd-5915-428a-fa8d-34e417083568",
        "colab": {
          "base_uri": "https://localhost:8080/",
          "height": 71
        }
      },
      "source": [
        "var0 = 5\n",
        "var1 = 5.0\n",
        "var2 = 'The quick brown fox jumps over the lazy dog'\n",
        "var3 = 1e-3 # 0.001\n",
        "var4 = 1e3  # 1000.0\n",
        "var5 = True\n",
        "var6 = False\n",
        "arr = [1,2,3,4]\n",
        "print(var0, var1, var2, var3, var4, var5, var6)\n",
        "print(type(var0), type(var1), type(var2), type(var3), type(var4), type(var5), type(var6))"
      ],
      "execution_count": 0,
      "outputs": [
        {
          "output_type": "stream",
          "text": [
            "5 5.0 The quick brown fox jumps over the lazy dog 0.001 1000.0 True False\n",
            "<class 'int'> <class 'float'> <class 'str'> <class 'float'> <class 'float'> <class 'bool'> <class 'bool'>\n"
          ],
          "name": "stdout"
        }
      ]
    },
    {
      "cell_type": "code",
      "metadata": {
        "id": "bwh0YB4d0J9Y",
        "colab_type": "code",
        "outputId": "1e44fd5b-47e0-472b-e57e-84260a88e554",
        "colab": {
          "base_uri": "https://localhost:8080/",
          "height": 102
        }
      },
      "source": [
        "a = '1'\n",
        "print(type(a), a)\n",
        "b = int(a)\n",
        "print(type(b), b)\n",
        "c = 1\n",
        "print(type(c), c)\n",
        "d = str(c)\n",
        "print(type(d), d)\n",
        "k = 3.14159265\n",
        "print(k, int(k), float(int(k)))"
      ],
      "execution_count": 0,
      "outputs": [
        {
          "output_type": "stream",
          "text": [
            "<class 'str'> 1\n",
            "<class 'int'> 1\n",
            "<class 'int'> 1\n",
            "<class 'str'> 1\n",
            "3.14159265 3 3.0\n"
          ],
          "name": "stdout"
        }
      ]
    },
    {
      "cell_type": "markdown",
      "metadata": {
        "id": "JCpngqlW0o6s",
        "colab_type": "text"
      },
      "source": [
        "__Note:__ unlike C/C++ code, `++` is invalid in python."
      ]
    },
    {
      "cell_type": "code",
      "metadata": {
        "id": "7lNu940T0ufy",
        "colab_type": "code",
        "outputId": "05bfa599-21e7-4c4c-d139-953603b27afd",
        "colab": {
          "base_uri": "https://localhost:8080/",
          "height": 129
        }
      },
      "source": [
        "b++ # This line won't run"
      ],
      "execution_count": 0,
      "outputs": [
        {
          "output_type": "error",
          "ename": "SyntaxError",
          "evalue": "ignored",
          "traceback": [
            "\u001b[0;36m  File \u001b[0;32m\"<ipython-input-2-3c5ac55c1bff>\"\u001b[0;36m, line \u001b[0;32m1\u001b[0m\n\u001b[0;31m    b++ # This line won't run\u001b[0m\n\u001b[0m                             ^\u001b[0m\n\u001b[0;31mSyntaxError\u001b[0m\u001b[0;31m:\u001b[0m invalid syntax\n"
          ]
        }
      ]
    },
    {
      "cell_type": "code",
      "metadata": {
        "id": "tpyCv3kW0xsX",
        "colab_type": "code",
        "outputId": "d61ba83f-d7b1-44f6-af56-e6f6e33e51e7",
        "colab": {
          "base_uri": "https://localhost:8080/",
          "height": 34
        }
      },
      "source": [
        "a = 500\n",
        "b = a % 3\n",
        "c = a ** b\n",
        "print(c)"
      ],
      "execution_count": 0,
      "outputs": [
        {
          "output_type": "stream",
          "text": [
            "250000\n"
          ],
          "name": "stdout"
        }
      ]
    },
    {
      "cell_type": "code",
      "metadata": {
        "id": "6gfuxyC303bz",
        "colab_type": "code",
        "outputId": "f4d2d669-550f-4dbf-b0e7-baa4f3b3390d",
        "colab": {
          "base_uri": "https://localhost:8080/",
          "height": 34
        }
      },
      "source": [
        "import math\n",
        "print(math.sqrt(5))"
      ],
      "execution_count": 0,
      "outputs": [
        {
          "output_type": "stream",
          "text": [
            "2.23606797749979\n"
          ],
          "name": "stdout"
        }
      ]
    },
    {
      "cell_type": "markdown",
      "metadata": {
        "id": "6iyVj4Br07fP",
        "colab_type": "text"
      },
      "source": [
        "# List"
      ]
    },
    {
      "cell_type": "code",
      "metadata": {
        "id": "t0BaUWmh09_D",
        "colab_type": "code",
        "outputId": "2afd9857-3673-405e-e401-a8e29e7db5f5",
        "colab": {
          "base_uri": "https://localhost:8080/",
          "height": 68
        }
      },
      "source": [
        "a = [1, 2, 3, 4, 5]\n",
        "b = [1, \"hello world\", 3.0, {\"prof\": \"Dr. Shafiq Joty\", \"Course\": \"MH6812\"}]\n",
        "print(a)\n",
        "print(b)\n",
        "\n",
        "a.append(100)\n",
        "print(a)"
      ],
      "execution_count": 0,
      "outputs": [
        {
          "output_type": "stream",
          "text": [
            "[1, 2, 3, 4, 5]\n",
            "[1, 'hello world', 3.0, {'prof': 'Dr. Shafiq Joty', 'Course': 'MH6812'}]\n",
            "[1, 2, 3, 4, 5, 100]\n"
          ],
          "name": "stdout"
        }
      ]
    },
    {
      "cell_type": "markdown",
      "metadata": {
        "id": "gZGYsbE11RrT",
        "colab_type": "text"
      },
      "source": [
        "Note that, in python list works as a call by reference."
      ]
    },
    {
      "cell_type": "code",
      "metadata": {
        "id": "kI7OA0bs1YOk",
        "colab_type": "code",
        "outputId": "27b5f5d1-83ce-4e16-e341-035a777b40ae",
        "colab": {
          "base_uri": "https://localhost:8080/",
          "height": 85
        }
      },
      "source": [
        "a = [0,1,2,3,4,5,6,7]\n",
        "b = a\n",
        "b[4] = 100\n",
        "print(a)\n",
        "print(b)\n",
        "print(len(a))\n",
        "print(len(b))"
      ],
      "execution_count": 0,
      "outputs": [
        {
          "output_type": "stream",
          "text": [
            "[0, 1, 2, 3, 100, 5, 6, 7]\n",
            "[0, 1, 2, 3, 100, 5, 6, 7]\n",
            "8\n",
            "8\n"
          ],
          "name": "stdout"
        }
      ]
    },
    {
      "cell_type": "code",
      "metadata": {
        "id": "pxW5z5J41fsF",
        "colab_type": "code",
        "outputId": "7b2e1b02-5f50-4aa8-a3a2-32f589d967e7",
        "colab": {
          "base_uri": "https://localhost:8080/",
          "height": 51
        }
      },
      "source": [
        "import copy\n",
        "a = [0,1,2,3,4,5,6,7]\n",
        "b = copy.deepcopy(a)\n",
        "b[4] = 100\n",
        "print(a)\n",
        "print(b)"
      ],
      "execution_count": 0,
      "outputs": [
        {
          "output_type": "stream",
          "text": [
            "[0, 1, 2, 3, 4, 5, 6, 7]\n",
            "[0, 1, 2, 3, 100, 5, 6, 7]\n"
          ],
          "name": "stdout"
        }
      ]
    },
    {
      "cell_type": "markdown",
      "metadata": {
        "id": "gY9JiGx01y9b",
        "colab_type": "text"
      },
      "source": [
        "# String"
      ]
    },
    {
      "cell_type": "code",
      "metadata": {
        "id": "7hUviTlz11BE",
        "colab_type": "code",
        "outputId": "ab3a835c-26d9-4f3d-bec1-42ba61e36d53",
        "colab": {
          "base_uri": "https://localhost:8080/",
          "height": 34
        }
      },
      "source": [
        "a = 5\n",
        "b = 10\n",
        "s = 'The quick brown fox runs over the lazy dog'\n",
        "f = 'a = {}, b = {}'.format(a, b) # string formatting\n",
        "print(f)"
      ],
      "execution_count": 0,
      "outputs": [
        {
          "output_type": "stream",
          "text": [
            "a = 5, b = 10\n"
          ],
          "name": "stdout"
        }
      ]
    },
    {
      "cell_type": "markdown",
      "metadata": {
        "id": "4CnpVFTv2Ai8",
        "colab_type": "text"
      },
      "source": [
        "Note that string is not mutable. You can't do random access to the position of the string. You have to call library function for that."
      ]
    },
    {
      "cell_type": "code",
      "metadata": {
        "id": "gx8mTOUm2KBr",
        "colab_type": "code",
        "outputId": "fe9527f3-b4fe-4212-d980-f294fd988b0b",
        "colab": {
          "base_uri": "https://localhost:8080/",
          "height": 180
        }
      },
      "source": [
        "a = 'The quick brown fox runs over the lazy dog'\n",
        "a[0] = 'x'  # This line won't run"
      ],
      "execution_count": 0,
      "outputs": [
        {
          "output_type": "error",
          "ename": "TypeError",
          "evalue": "ignored",
          "traceback": [
            "\u001b[0;31m---------------------------------------------------------------------------\u001b[0m",
            "\u001b[0;31mTypeError\u001b[0m                                 Traceback (most recent call last)",
            "\u001b[0;32m<ipython-input-11-a3a98f48e4e8>\u001b[0m in \u001b[0;36m<module>\u001b[0;34m()\u001b[0m\n\u001b[1;32m      1\u001b[0m \u001b[0ma\u001b[0m \u001b[0;34m=\u001b[0m \u001b[0;34m'The quick brown fox runs over the lazy dog'\u001b[0m\u001b[0;34m\u001b[0m\u001b[0;34m\u001b[0m\u001b[0m\n\u001b[0;32m----> 2\u001b[0;31m \u001b[0ma\u001b[0m\u001b[0;34m[\u001b[0m\u001b[0;36m0\u001b[0m\u001b[0;34m]\u001b[0m \u001b[0;34m=\u001b[0m \u001b[0;34m'x'\u001b[0m  \u001b[0;31m# This line won't run\u001b[0m\u001b[0;34m\u001b[0m\u001b[0;34m\u001b[0m\u001b[0m\n\u001b[0m",
            "\u001b[0;31mTypeError\u001b[0m: 'str' object does not support item assignment"
          ]
        }
      ]
    },
    {
      "cell_type": "code",
      "metadata": {
        "id": "zX3Hq1ts2T3Y",
        "colab_type": "code",
        "outputId": "c3ac3d51-686d-4a26-8994-765f43888fb3",
        "colab": {
          "base_uri": "https://localhost:8080/",
          "height": 71
        }
      },
      "source": [
        "a = 'The quick brown fox runs over the lazy dog'\n",
        "a = list(a)\n",
        "print(a)\n",
        "a[0] = 'x'\n",
        "a = \"\".join(a)\n",
        "print(a)"
      ],
      "execution_count": 0,
      "outputs": [
        {
          "output_type": "stream",
          "text": [
            "['T', 'h', 'e', ' ', 'q', 'u', 'i', 'c', 'k', ' ', 'b', 'r', 'o', 'w', 'n', ' ', 'f', 'o', 'x', ' ', 'r', 'u', 'n', 's', ' ', 'o', 'v', 'e', 'r', ' ', 't', 'h', 'e', ' ', 'l', 'a', 'z', 'y', ' ', 'd', 'o', 'g']\n",
            "xhe quick brown fox runs over the lazy dog\n"
          ],
          "name": "stdout"
        }
      ]
    },
    {
      "cell_type": "markdown",
      "metadata": {
        "id": "UCLQbn36446e",
        "colab_type": "text"
      },
      "source": [
        "# Dictionary\n",
        "\n",
        "- Dictionaries are set of `key` and `value`.\n",
        "- Keys are unique.\n",
        "- Regular dictionary doesn't ensure the order information of data.\n",
        "- Ordered dictionary contains the order information of data but you have to import it from `collections` library."
      ]
    },
    {
      "cell_type": "code",
      "metadata": {
        "id": "PGh_hu2P5ZsU",
        "colab_type": "code",
        "outputId": "3931b5f8-5637-414c-a62a-68549d63f240",
        "colab": {
          "base_uri": "https://localhost:8080/",
          "height": 34
        }
      },
      "source": [
        "a = { 0: \"Mr. a\", 1: \"Mr. b\", 2: \"Mr. c\" }\n",
        "print(a)"
      ],
      "execution_count": 0,
      "outputs": [
        {
          "output_type": "stream",
          "text": [
            "{0: 'Mr. a', 1: 'Mr. b', 2: 'Mr. c'}\n"
          ],
          "name": "stdout"
        }
      ]
    },
    {
      "cell_type": "code",
      "metadata": {
        "id": "PDJVJy5f5qeM",
        "colab_type": "code",
        "outputId": "fa23d26a-9795-4b0f-ad41-34e767c3fa91",
        "colab": {
          "base_uri": "https://localhost:8080/",
          "height": 34
        }
      },
      "source": [
        "a = { 0: \"Mr. a\", 0: \"Mr. b\", 2: \"Mr. b\", 1: \"Mr. c\", 0: \"Mr. c\" }\n",
        "print(a)"
      ],
      "execution_count": 0,
      "outputs": [
        {
          "output_type": "stream",
          "text": [
            "{0: 'Mr. c', 2: 'Mr. b', 1: 'Mr. c'}\n"
          ],
          "name": "stdout"
        }
      ]
    },
    {
      "cell_type": "code",
      "metadata": {
        "id": "SZ1X0Lth6bZL",
        "colab_type": "code",
        "outputId": "bec8cbca-ebdf-4b19-9189-3409d30ae8d2",
        "colab": {
          "base_uri": "https://localhost:8080/",
          "height": 68
        }
      },
      "source": [
        "from collections import OrderedDict\n",
        "b = OrderedDict([('b', 2), ('a', 1)])\n",
        "print(b)\n",
        "\n",
        "b = OrderedDict({ 0: \"Mr. a\", 1: \"Mr. b\", 2: \"Mr. b\" })\n",
        "print(b)\n",
        "\n",
        "b = OrderedDict({ 0: \"Mr. a\", 0: \"Mr. b\", 2: \"Mr. b\", 1: \"Mr. c\", 0: \"Mr. c\"})\n",
        "print(b)"
      ],
      "execution_count": 0,
      "outputs": [
        {
          "output_type": "stream",
          "text": [
            "OrderedDict([('b', 2), ('a', 1)])\n",
            "OrderedDict([(0, 'Mr. a'), (1, 'Mr. b'), (2, 'Mr. b')])\n",
            "OrderedDict([(0, 'Mr. c'), (2, 'Mr. b'), (1, 'Mr. c')])\n"
          ],
          "name": "stdout"
        }
      ]
    },
    {
      "cell_type": "markdown",
      "metadata": {
        "id": "Igx8Kbjm7ko3",
        "colab_type": "text"
      },
      "source": [
        "# Slicing\n",
        "\n",
        "A very important concept. How to access data in python."
      ]
    },
    {
      "cell_type": "markdown",
      "metadata": {
        "id": "kzRJJaH57pov",
        "colab_type": "text"
      },
      "source": [
        "```\n",
        "+---+---+---+---+---+---+\n",
        "| P | y | t | h | o | n |\n",
        "+---+---+---+---+---+---+\n",
        "  0   1   2   3   4   5\n",
        " -6  -5  -4  -3  -2  -1\n",
        "```"
      ]
    },
    {
      "cell_type": "code",
      "metadata": {
        "id": "yj4lcb2c8Oax",
        "colab_type": "code",
        "outputId": "eb57ccc3-8ae9-4b33-bcff-2d5ba3739b9f",
        "colab": {
          "base_uri": "https://localhost:8080/",
          "height": 102
        }
      },
      "source": [
        "string = 'python'\n",
        "letters = list(string)\n",
        "print('0', letters[0])\n",
        "print('1', letters[1])\n",
        "print('2', letters[2])\n",
        "print('-1', letters[-1])\n",
        "print('-2', letters[-2])"
      ],
      "execution_count": 0,
      "outputs": [
        {
          "output_type": "stream",
          "text": [
            "0 p\n",
            "1 y\n",
            "2 t\n",
            "-1 n\n",
            "-2 o\n"
          ],
          "name": "stdout"
        }
      ]
    },
    {
      "cell_type": "code",
      "metadata": {
        "id": "xT1-Ebci8yDf",
        "colab_type": "code",
        "outputId": "37140ee1-4e14-4a5f-df7a-bde79055ffd4",
        "colab": {
          "base_uri": "https://localhost:8080/",
          "height": 34
        }
      },
      "source": [
        "print(letters[-1:-7:-1])"
      ],
      "execution_count": 0,
      "outputs": [
        {
          "output_type": "stream",
          "text": [
            "['n', 'o', 'h', 't', 'y', 'p']\n"
          ],
          "name": "stdout"
        }
      ]
    },
    {
      "cell_type": "code",
      "metadata": {
        "id": "_Vbx6uOF_0jz",
        "colab_type": "code",
        "outputId": "4f29a82d-67a8-415b-8de9-749b27be0b50",
        "colab": {
          "base_uri": "https://localhost:8080/",
          "height": 34
        }
      },
      "source": [
        "a = 1\n",
        "a"
      ],
      "execution_count": 0,
      "outputs": [
        {
          "output_type": "execute_result",
          "data": {
            "text/plain": [
              "1"
            ]
          },
          "metadata": {
            "tags": []
          },
          "execution_count": 28
        }
      ]
    },
    {
      "cell_type": "code",
      "metadata": {
        "id": "5zU1BeNOBHIZ",
        "colab_type": "code",
        "outputId": "208d1642-4048-47e1-9c29-d9d6ed36a35d",
        "colab": {
          "base_uri": "https://localhost:8080/",
          "height": 34
        }
      },
      "source": [
        "_"
      ],
      "execution_count": 0,
      "outputs": [
        {
          "output_type": "execute_result",
          "data": {
            "text/plain": [
              "1"
            ]
          },
          "metadata": {
            "tags": []
          },
          "execution_count": 29
        }
      ]
    },
    {
      "cell_type": "code",
      "metadata": {
        "id": "-zr7fHBMBguA",
        "colab_type": "code",
        "outputId": "40435ada-669d-465c-f33a-61192cabeb63",
        "colab": {
          "base_uri": "https://localhost:8080/",
          "height": 34
        }
      },
      "source": [
        "a = 3 + 5j\n",
        "a"
      ],
      "execution_count": 0,
      "outputs": [
        {
          "output_type": "execute_result",
          "data": {
            "text/plain": [
              "(3+5j)"
            ]
          },
          "metadata": {
            "tags": []
          },
          "execution_count": 30
        }
      ]
    },
    {
      "cell_type": "markdown",
      "metadata": {
        "id": "nF0dSaOQBkIO",
        "colab_type": "text"
      },
      "source": [
        "If you don't want characters prefaced by `\\` to be intepreted as special characters, you can use _raw strings_ by adding an `r` before the first quote:"
      ]
    },
    {
      "cell_type": "code",
      "metadata": {
        "id": "GuviWZp6CNJw",
        "colab_type": "code",
        "outputId": "7040192c-624c-45e2-e43f-30df4395f2f4",
        "colab": {
          "base_uri": "https://localhost:8080/",
          "height": 68
        }
      },
      "source": [
        "print('C:\\some\\name') # here \\n means newline!\n",
        "print(r'C:\\some\\name') # note the r before the quote"
      ],
      "execution_count": 0,
      "outputs": [
        {
          "output_type": "stream",
          "text": [
            "C:\\some\n",
            "ame\n",
            "C:\\some\\name\n"
          ],
          "name": "stdout"
        }
      ]
    },
    {
      "cell_type": "markdown",
      "metadata": {
        "id": "p39Eiz4oC83Q",
        "colab_type": "text"
      },
      "source": [
        "String literals can span multiple lines. One way is using triple-quotes: `\"\"\"...\"\"\"` or `'''...'''`. End of lines are automatically included in the string, but it's possible to prevent this by adding a `\\` at the end of the line. The following example:"
      ]
    },
    {
      "cell_type": "code",
      "metadata": {
        "id": "WzIZWGvRDQeW",
        "colab_type": "code",
        "outputId": "96f6b09b-9ea9-4510-84eb-1b3d67dd1c04",
        "colab": {
          "base_uri": "https://localhost:8080/",
          "height": 85
        }
      },
      "source": [
        "print(\"\"\"\\\n",
        "Usage: thingy [OPTIONS]\n",
        "      -h                  Display this usage message\n",
        "      -H hostname         Hostname to connect to\n",
        "\"\"\")"
      ],
      "execution_count": 0,
      "outputs": [
        {
          "output_type": "stream",
          "text": [
            "Usage: thingy [OPTIONS]\n",
            "      -h                  Display this usage message\n",
            "      -H hostname         Hostname to connect to\n",
            "\n"
          ],
          "name": "stdout"
        }
      ]
    },
    {
      "cell_type": "markdown",
      "metadata": {
        "id": "Znt6IxvQEGeJ",
        "colab_type": "text"
      },
      "source": [
        "Strings can be concatenated (glued together) with the `+` operator, and repeated with `*`:"
      ]
    },
    {
      "cell_type": "code",
      "metadata": {
        "id": "wXSFewbIENvL",
        "colab_type": "code",
        "outputId": "106f6943-a4c6-4661-907f-e9f438853a9f",
        "colab": {
          "base_uri": "https://localhost:8080/",
          "height": 34
        }
      },
      "source": [
        "# 3 times 'un', followed by 'ium'\n",
        "3 * 'un' + 'ium'"
      ],
      "execution_count": 0,
      "outputs": [
        {
          "output_type": "execute_result",
          "data": {
            "text/plain": [
              "'unununium'"
            ]
          },
          "metadata": {
            "tags": []
          },
          "execution_count": 34
        }
      ]
    },
    {
      "cell_type": "markdown",
      "metadata": {
        "id": "AqPfvJVXEVqt",
        "colab_type": "text"
      },
      "source": [
        "Two or more _string literals_ (i.e. the ones enclosed between quotes) next to each other are automatically concatenated."
      ]
    },
    {
      "cell_type": "code",
      "metadata": {
        "id": "2SpqfchHEgpr",
        "colab_type": "code",
        "outputId": "09e555f2-7401-4302-9b9c-1f328d04580e",
        "colab": {
          "base_uri": "https://localhost:8080/",
          "height": 34
        }
      },
      "source": [
        "'Py' 'thon'"
      ],
      "execution_count": 0,
      "outputs": [
        {
          "output_type": "execute_result",
          "data": {
            "text/plain": [
              "'Python'"
            ]
          },
          "metadata": {
            "tags": []
          },
          "execution_count": 36
        }
      ]
    },
    {
      "cell_type": "markdown",
      "metadata": {
        "id": "3gj_QM2yEiVQ",
        "colab_type": "text"
      },
      "source": [
        "This feature is particularly useful when you want to break long string:"
      ]
    },
    {
      "cell_type": "code",
      "metadata": {
        "id": "LGp1dawTEmfX",
        "colab_type": "code",
        "outputId": "e36d2762-0e71-4463-dfa4-a216883c026f",
        "colab": {
          "base_uri": "https://localhost:8080/",
          "height": 34
        }
      },
      "source": [
        "text = ('Put several strings within parentheses '\n",
        "        'to have them joined together.')\n",
        "text"
      ],
      "execution_count": 0,
      "outputs": [
        {
          "output_type": "execute_result",
          "data": {
            "text/plain": [
              "'Put several strings within parentheses to have them joined together.'"
            ]
          },
          "metadata": {
            "tags": []
          },
          "execution_count": 37
        }
      ]
    },
    {
      "cell_type": "code",
      "metadata": {
        "id": "g1DuyQWFEw3T",
        "colab_type": "code",
        "outputId": "9146c0a3-563c-486e-a146-8d1c2e1ac6d7",
        "colab": {
          "base_uri": "https://localhost:8080/",
          "height": 34
        }
      },
      "source": [
        "word = 'Python'\n",
        "word = list(word)\n",
        "word[0] = 'C'\n",
        "word = '-'.join(word)\n",
        "word"
      ],
      "execution_count": 0,
      "outputs": [
        {
          "output_type": "execute_result",
          "data": {
            "text/plain": [
              "'C-y-t-h-o-n'"
            ]
          },
          "metadata": {
            "tags": []
          },
          "execution_count": 43
        }
      ]
    },
    {
      "cell_type": "code",
      "metadata": {
        "id": "iGdlIOpgORr-",
        "colab_type": "code",
        "outputId": "ed1650e0-d07b-48ea-b24c-d6cb14732e87",
        "colab": {
          "base_uri": "https://localhost:8080/",
          "height": 34
        }
      },
      "source": [
        "squares = [1, 4, 9, 16, 25]\n",
        "roots = squares[:]\n",
        "roots[1], roots[2], roots[3], roots[4] = 2, 3, 4, 5\n",
        "\n",
        "squares + roots"
      ],
      "execution_count": 0,
      "outputs": [
        {
          "output_type": "execute_result",
          "data": {
            "text/plain": [
              "[1, 4, 9, 16, 25, 1, 2, 3, 4, 5]"
            ]
          },
          "metadata": {
            "tags": []
          },
          "execution_count": 49
        }
      ]
    },
    {
      "cell_type": "code",
      "metadata": {
        "id": "uvD48igxM71z",
        "colab_type": "code",
        "colab": {
          "base_uri": "https://localhost:8080/",
          "height": 34
        },
        "outputId": "f5c3f35e-0a3c-480e-8fde-bc38dfa12e05"
      },
      "source": [
        "a = [1, 2, 3, 4, 5]\n",
        "b = [6, 7]\n",
        "# a.extend(b)\n",
        "a.pop(2)\n",
        "del a[:]"
      ],
      "execution_count": 25,
      "outputs": [
        {
          "output_type": "execute_result",
          "data": {
            "text/plain": [
              "[]"
            ]
          },
          "metadata": {
            "tags": []
          },
          "execution_count": 25
        }
      ]
    },
    {
      "cell_type": "code",
      "metadata": {
        "id": "miRhkwOGXoTm",
        "colab_type": "code",
        "colab": {
          "base_uri": "https://localhost:8080/",
          "height": 153
        },
        "outputId": "64bb3788-937a-43cf-cc2c-df38a3bfde8e"
      },
      "source": [
        "fruits = ['orange', 'apple', 'pear', 'banana', 'kiwi', 'apple', 'banana']\n",
        "print(fruits.count('apple'))\n",
        "print(fruits.count('tangerine'))\n",
        "print(fruits.index('banana'))\n",
        "print(fruits.index('banana', 4))  # Find next banana starting at position 4\n",
        "fruits.reverse()\n",
        "print(fruits)\n",
        "fruits.append('grape')\n",
        "print(fruits)\n",
        "fruits.sort()\n",
        "print(fruits)\n",
        "fruits.pop()\n",
        "print(fruits)"
      ],
      "execution_count": 37,
      "outputs": [
        {
          "output_type": "stream",
          "text": [
            "2\n",
            "0\n",
            "3\n",
            "6\n",
            "['banana', 'apple', 'kiwi', 'banana', 'pear', 'apple', 'orange']\n",
            "['banana', 'apple', 'kiwi', 'banana', 'pear', 'apple', 'orange', 'grape']\n",
            "['apple', 'apple', 'banana', 'banana', 'grape', 'kiwi', 'orange', 'pear']\n",
            "['apple', 'apple', 'banana', 'banana', 'grape', 'kiwi', 'orange']\n"
          ],
          "name": "stdout"
        }
      ]
    },
    {
      "cell_type": "markdown",
      "metadata": {
        "id": "4NGxsxKwZeSP",
        "colab_type": "text"
      },
      "source": [
        "### 5.1.1. Using Lists as Stacks\n",
        "\n",
        "The list methods make it very easy to use a list as a stack, where the last element added is the first element retrieved (\"last-in, first-out\"). To add an item to the top of the stack, use append(). To retrieve an item from the top of the stack, use pop() without an explicit index. For example:"
      ]
    },
    {
      "cell_type": "code",
      "metadata": {
        "id": "cOxiJKktaj4A",
        "colab_type": "code",
        "colab": {
          "base_uri": "https://localhost:8080/",
          "height": 102
        },
        "outputId": "d548a050-a3d1-4036-f5e8-1412aae806e0"
      },
      "source": [
        "stack = [3, 4, 5]\n",
        "stack.append(6)\n",
        "stack.append(7)\n",
        "print(stack)\n",
        "stack.pop()\n",
        "print(stack)\n",
        "print(stack.pop())\n",
        "print(stack.pop())\n",
        "print(stack)"
      ],
      "execution_count": 42,
      "outputs": [
        {
          "output_type": "stream",
          "text": [
            "[3, 4, 5, 6, 7]\n",
            "[3, 4, 5, 6]\n",
            "6\n",
            "5\n",
            "[3, 4]\n"
          ],
          "name": "stdout"
        }
      ]
    },
    {
      "cell_type": "markdown",
      "metadata": {
        "id": "js4Srb8Ca-Zh",
        "colab_type": "text"
      },
      "source": [
        "### 5.1.2. Using Lists as Queues\n",
        "\n",
        "It is also possible to use a list as a queue, where the first element added is the first element retrieved (\"first-in, first-out\"); however, lists are not efficient for this purpose. While appends and pops from the end of list are fast, doing inserts or pops from the beginning of a list is slow (because all of the other elements have to be shifte by one).\n",
        "\n",
        "To implement a queue, use [collections.deque](#) which was designed to have fast appends and pops from both ends. For example:"
      ]
    },
    {
      "cell_type": "code",
      "metadata": {
        "id": "RdzLVKXScaXj",
        "colab_type": "code",
        "colab": {
          "base_uri": "https://localhost:8080/",
          "height": 68
        },
        "outputId": "0c8acc2f-071b-4047-b2a0-2967b51b2c44"
      },
      "source": [
        "from collections import deque\n",
        "queue = deque([\"Eric\", \"John\", \"Michael\"])\n",
        "queue.append(\"Terry\")   # Terry arrives\n",
        "queue.append(\"Graham\")  # Graham arrives\n",
        "print(queue.popleft())  # The first to arrive now leaves\n",
        "print(queue.popleft())  # The second to arrive now leaves\n",
        "print(queue)"
      ],
      "execution_count": 43,
      "outputs": [
        {
          "output_type": "stream",
          "text": [
            "Eric\n",
            "John\n",
            "deque(['Michael', 'Terry', 'Graham'])\n"
          ],
          "name": "stdout"
        }
      ]
    },
    {
      "cell_type": "markdown",
      "metadata": {
        "id": "yrj-Tsj-c3ZH",
        "colab_type": "text"
      },
      "source": [
        "### 5.1.3 List Comprehensions\n",
        "\n",
        "List comprehensions provide a concise way to create lists. Common applications are to make new lists where each element is the result of some operations applied to each member of another sequence or iterable, or to create a subsequence of those elements that satisfy a certain condition."
      ]
    },
    {
      "cell_type": "code",
      "metadata": {
        "id": "Zao8lrEydOVo",
        "colab_type": "code",
        "colab": {
          "base_uri": "https://localhost:8080/",
          "height": 51
        },
        "outputId": "0acaf472-234d-4212-812e-6b32b1cdf17b"
      },
      "source": [
        "squares = []\n",
        "for x in range(10):\n",
        "  squares.append(x**2)\n",
        "print(squares)\n",
        "print(x)\n",
        "del x"
      ],
      "execution_count": 52,
      "outputs": [
        {
          "output_type": "stream",
          "text": [
            "[0, 1, 4, 9, 16, 25, 36, 49, 64, 81]\n",
            "9\n"
          ],
          "name": "stdout"
        }
      ]
    },
    {
      "cell_type": "markdown",
      "metadata": {
        "id": "IvOLMPmVdU7w",
        "colab_type": "text"
      },
      "source": [
        "Note that this creates (or overwrites) a variable named `x` that still exists after the loop completes. We can calculate the list of squares without any side effects using:"
      ]
    },
    {
      "cell_type": "code",
      "metadata": {
        "id": "6BIQceqNdfrE",
        "colab_type": "code",
        "colab": {
          "base_uri": "https://localhost:8080/",
          "height": 34
        },
        "outputId": "2dd78b3a-0eb5-4155-dd43-423d01cfed27"
      },
      "source": [
        "squares = list(map(lambda x: x**2, range(10)))\n",
        "squares"
      ],
      "execution_count": 47,
      "outputs": [
        {
          "output_type": "execute_result",
          "data": {
            "text/plain": [
              "[0, 1, 4, 9, 16, 25, 36, 49, 64, 81]"
            ]
          },
          "metadata": {
            "tags": []
          },
          "execution_count": 47
        }
      ]
    },
    {
      "cell_type": "markdown",
      "metadata": {
        "id": "OHP8kOQOd9Fu",
        "colab_type": "text"
      },
      "source": [
        "or equivalently:"
      ]
    },
    {
      "cell_type": "code",
      "metadata": {
        "id": "tWADp1ird_kI",
        "colab_type": "code",
        "colab": {
          "base_uri": "https://localhost:8080/",
          "height": 34
        },
        "outputId": "1e802534-3564-4c61-ecbc-fea4fac1e1a1"
      },
      "source": [
        "squares = [x**2 for x in range(10)]\n",
        "print(squares)"
      ],
      "execution_count": 54,
      "outputs": [
        {
          "output_type": "stream",
          "text": [
            "[0, 1, 4, 9, 16, 25, 36, 49, 64, 81]\n"
          ],
          "name": "stdout"
        }
      ]
    },
    {
      "cell_type": "markdown",
      "metadata": {
        "id": "lB7FKM66eLsL",
        "colab_type": "text"
      },
      "source": [
        "which is more concise and readable."
      ]
    },
    {
      "cell_type": "markdown",
      "metadata": {
        "id": "EY6_myf5eONi",
        "colab_type": "text"
      },
      "source": [
        "A list comprehension consists of brackets containing an expression followed by a `[for](#)` clause, then zero or more [for](#) or [if](#) clauses. The result will be a new list resulting from evaluating the expression in the context of the [for](#) and [if](#) clauses which follow it. For example, this listcomp combines the elements of two lists if they are not equal:"
      ]
    },
    {
      "cell_type": "code",
      "metadata": {
        "id": "591zygNLjNaQ",
        "colab_type": "code",
        "colab": {
          "base_uri": "https://localhost:8080/",
          "height": 34
        },
        "outputId": "8ab1dfce-d10f-4210-eea8-46a2ff28d01f"
      },
      "source": [
        "[(x, y) for x in [1, 2, 3] for y in [3, 1, 4] if x != y]"
      ],
      "execution_count": 55,
      "outputs": [
        {
          "output_type": "execute_result",
          "data": {
            "text/plain": [
              "[(1, 3), (1, 4), (2, 3), (2, 1), (2, 4), (3, 1), (3, 4)]"
            ]
          },
          "metadata": {
            "tags": []
          },
          "execution_count": 55
        }
      ]
    },
    {
      "cell_type": "markdown",
      "metadata": {
        "id": "7OxObQ5hjVU7",
        "colab_type": "text"
      },
      "source": [
        "and it's equivalent to:"
      ]
    },
    {
      "cell_type": "code",
      "metadata": {
        "id": "gFhlwyxvjipM",
        "colab_type": "code",
        "colab": {
          "base_uri": "https://localhost:8080/",
          "height": 34
        },
        "outputId": "c1750855-a697-4777-847c-3fc957b5d4ed"
      },
      "source": [
        "combs = []\n",
        "for x in [1,2,3]:\n",
        "  for y in [3,1,4]:\n",
        "    if x != y:\n",
        "      combs.append((x, y))\n",
        "print(combs, x, y)"
      ],
      "execution_count": 56,
      "outputs": [
        {
          "output_type": "stream",
          "text": [
            "[(1, 3), (1, 4), (2, 3), (2, 1), (2, 4), (3, 1), (3, 4)] 3 4\n"
          ],
          "name": "stdout"
        }
      ]
    },
    {
      "cell_type": "markdown",
      "metadata": {
        "id": "yTrd59iWkE1R",
        "colab_type": "text"
      },
      "source": [
        "Note how the order of the [for](#) and [if](#) statements is the same in both these snippets."
      ]
    },
    {
      "cell_type": "markdown",
      "metadata": {
        "id": "yUduKJi3kLdZ",
        "colab_type": "text"
      },
      "source": [
        "If the expression is a tuple (e.g. the `(x, y)` in the previous example), it must be parenthesized."
      ]
    },
    {
      "cell_type": "code",
      "metadata": {
        "id": "FhF-_jyskSK-",
        "colab_type": "code",
        "colab": {
          "base_uri": "https://localhost:8080/",
          "height": 119
        },
        "outputId": "a616c9c2-53f5-49cc-a0e3-c3f1aec796f8"
      },
      "source": [
        "vec = [-4, -2, 0, 2, 4]\n",
        "# create a new list with the values doubled\n",
        "print([x*2 for x in vec])\n",
        "# filter the list to exclude negative numbers\n",
        "print([x for x in vec if x >= 0])\n",
        "# apply a function to all the elements\n",
        "print([abs(x) for x in vec])\n",
        "# call a method on each element\n",
        "freshfruit = ['banana', 'loganberry', 'passion fruit']\n",
        "print([weapon.strip() for weapon in freshfruit])\n",
        "# create a list of 2-tuples like (number, square)\n",
        "print([(x, x**2) for x in range(6)])\n",
        "# flatten a list using a listcomp with two 'for'\n",
        "vec = [[1,2,3], [4,5,6], [7,8,9]]\n",
        "print([num for elem in vec for num in elem])"
      ],
      "execution_count": 70,
      "outputs": [
        {
          "output_type": "stream",
          "text": [
            "[-8, -4, 0, 4, 8]\n",
            "[0, 2, 4]\n",
            "[4, 2, 0, 2, 4]\n",
            "['banana', 'loganberry', 'passion fruit']\n",
            "[(0, 0), (1, 1), (2, 4), (3, 9), (4, 16), (5, 25)]\n",
            "[1, 2, 3, 4, 5, 6, 7, 8, 9]\n"
          ],
          "name": "stdout"
        }
      ]
    },
    {
      "cell_type": "code",
      "metadata": {
        "id": "5lClFCMNkay9",
        "colab_type": "code",
        "colab": {
          "base_uri": "https://localhost:8080/",
          "height": 34
        },
        "outputId": "7bbc286e-252d-44e9-ea3e-f66d0bfeef75"
      },
      "source": [
        "from math import pi\n",
        "[str(round(pi, i)) for i in range(1, 6)]"
      ],
      "execution_count": 71,
      "outputs": [
        {
          "output_type": "execute_result",
          "data": {
            "text/plain": [
              "['3.1', '3.14', '3.142', '3.1416', '3.14159']"
            ]
          },
          "metadata": {
            "tags": []
          },
          "execution_count": 71
        }
      ]
    },
    {
      "cell_type": "markdown",
      "metadata": {
        "id": "-uHXthAMmG2l",
        "colab_type": "text"
      },
      "source": [
        "### 5.1.4. Nested List Comprehensions\n",
        "\n",
        "The initial expression in a list comprehension can be any arbitrary expression, including another list comprehension.\n",
        "\n",
        "Consider the following example of a 3x4 matrix implemented as a list of 3 lists of length 4:"
      ]
    },
    {
      "cell_type": "code",
      "metadata": {
        "id": "d-aAJSylnQcH",
        "colab_type": "code",
        "colab": {}
      },
      "source": [
        "matrix = [\n",
        "          [1, 2, 3, 4],\n",
        "          [5, 6, 7, 8],\n",
        "          [9, 10, 11, 12],\n",
        "]"
      ],
      "execution_count": 0,
      "outputs": []
    },
    {
      "cell_type": "markdown",
      "metadata": {
        "id": "BAerBwWWndHp",
        "colab_type": "text"
      },
      "source": [
        "The following list comprehension will transpose rows and columns:"
      ]
    },
    {
      "cell_type": "code",
      "metadata": {
        "id": "OTzJfc1cnhKI",
        "colab_type": "code",
        "colab": {
          "base_uri": "https://localhost:8080/",
          "height": 34
        },
        "outputId": "860b446b-f867-47a4-d3e2-58eb9d549d35"
      },
      "source": [
        "[[row[i] for row in matrix] for i in range(4)]"
      ],
      "execution_count": 74,
      "outputs": [
        {
          "output_type": "execute_result",
          "data": {
            "text/plain": [
              "[[1, 5, 9], [2, 6, 10], [3, 7, 11], [4, 8, 12]]"
            ]
          },
          "metadata": {
            "tags": []
          },
          "execution_count": 74
        }
      ]
    },
    {
      "cell_type": "markdown",
      "metadata": {
        "id": "Rp9TqbNgnnoG",
        "colab_type": "text"
      },
      "source": [
        "As we saw in the previous section, the nested listcomp is evaluated in the context of the [for](#) that follows it, so this example is equivalent to:"
      ]
    },
    {
      "cell_type": "code",
      "metadata": {
        "id": "mwn10ittprp0",
        "colab_type": "code",
        "colab": {
          "base_uri": "https://localhost:8080/",
          "height": 34
        },
        "outputId": "8428430b-d163-49d5-deda-f3ee9d06b8bd"
      },
      "source": [
        "transposed = []\n",
        "for i in range(4):\n",
        "  transposed.append([row[i] for row in matrix])\n",
        "transposed"
      ],
      "execution_count": 75,
      "outputs": [
        {
          "output_type": "execute_result",
          "data": {
            "text/plain": [
              "[[1, 5, 9], [2, 6, 10], [3, 7, 11], [4, 8, 12]]"
            ]
          },
          "metadata": {
            "tags": []
          },
          "execution_count": 75
        }
      ]
    },
    {
      "cell_type": "code",
      "metadata": {
        "id": "k4_qyWrrqDnp",
        "colab_type": "code",
        "colab": {
          "base_uri": "https://localhost:8080/",
          "height": 34
        },
        "outputId": "ac9a92c3-db00-4da8-b1cc-fa4fb71a6055"
      },
      "source": [
        "transposed = []\n",
        "for i in range(4):\n",
        "  # the following 3 lines implement the nested listcomp\n",
        "  transposed_row = []\n",
        "  for row in matrix:\n",
        "    transposed_row.append(row[i])\n",
        "  transposed.append(transposed_row)\n",
        "transposed"
      ],
      "execution_count": 76,
      "outputs": [
        {
          "output_type": "execute_result",
          "data": {
            "text/plain": [
              "[[1, 5, 9], [2, 6, 10], [3, 7, 11], [4, 8, 12]]"
            ]
          },
          "metadata": {
            "tags": []
          },
          "execution_count": 76
        }
      ]
    },
    {
      "cell_type": "markdown",
      "metadata": {
        "id": "MsyoU8hhqTT2",
        "colab_type": "text"
      },
      "source": [
        "In the real world, you should prefer built-in functions to complex flow statements. The [zip()](#) function would do a great job for this use case:"
      ]
    },
    {
      "cell_type": "code",
      "metadata": {
        "id": "FG8tI3XxqcPf",
        "colab_type": "code",
        "colab": {
          "base_uri": "https://localhost:8080/",
          "height": 34
        },
        "outputId": "3bf16cea-b372-46f7-9f8a-34c44d557a7a"
      },
      "source": [
        "list(zip(*matrix))"
      ],
      "execution_count": 79,
      "outputs": [
        {
          "output_type": "execute_result",
          "data": {
            "text/plain": [
              "[(1, 5, 9), (2, 6, 10), (3, 7, 11), (4, 8, 12)]"
            ]
          },
          "metadata": {
            "tags": []
          },
          "execution_count": 79
        }
      ]
    },
    {
      "cell_type": "markdown",
      "metadata": {
        "id": "VE1Ui2AiqeGS",
        "colab_type": "text"
      },
      "source": [
        "### 4.7.4. Unpacking Argument Lists\n",
        "\n",
        "The reverse situation occurs when the arguments are already in a list or tuple but need to be unpacked for a function call requiring separate positional arguments. For instance, the built-in [range()](#) function expects separate _start_ and _stop_ arguments. If they are not available separately, write the function call with the `*`-operator to unpack the arguments out of a list or tuple:"
      ]
    },
    {
      "cell_type": "code",
      "metadata": {
        "id": "0wIdm-2Dwir1",
        "colab_type": "code",
        "colab": {
          "base_uri": "https://localhost:8080/",
          "height": 34
        },
        "outputId": "8eca525c-cb3f-477e-a749-2af961be72a5"
      },
      "source": [
        "list(range(3, 6)) # normal call with separate arguments\n",
        "args = [3]\n",
        "list(range(*args))  # call with arguments unpacked from a list"
      ],
      "execution_count": 83,
      "outputs": [
        {
          "output_type": "execute_result",
          "data": {
            "text/plain": [
              "[0, 1, 2]"
            ]
          },
          "metadata": {
            "tags": []
          },
          "execution_count": 83
        }
      ]
    },
    {
      "cell_type": "markdown",
      "metadata": {
        "id": "ZVr2so0pxRZU",
        "colab_type": "text"
      },
      "source": [
        "In the same fashion, dictionaries can deliver keyword arguments with the `**`-operator:"
      ]
    },
    {
      "cell_type": "code",
      "metadata": {
        "id": "aIOokUIrxYKi",
        "colab_type": "code",
        "colab": {
          "base_uri": "https://localhost:8080/",
          "height": 34
        },
        "outputId": "1c6dc7ea-93b5-4c51-f577-90db321c457e"
      },
      "source": [
        "def parrot(voltage, state='a stiff', action='voom'):\n",
        "  print(\"-- This parrot wouldn't\", action, end=' ')\n",
        "  print(\"if you put\", voltage, \"volts through it.\", end=' ')\n",
        "  print(\"E's\", state, \"!\")\n",
        "\n",
        "d = {\"voltage\": \"four million\", \"state\": \"bleedin' demised\", \"action\": \"VOOM\"}\n",
        "parrot(**d)"
      ],
      "execution_count": 84,
      "outputs": [
        {
          "output_type": "stream",
          "text": [
            "-- This parrot wouldn't VOOM if you put four million volts through it. E's bleedin' demised !\n"
          ],
          "name": "stdout"
        }
      ]
    },
    {
      "cell_type": "markdown",
      "metadata": {
        "id": "t1s0DUxNzSUp",
        "colab_type": "text"
      },
      "source": [
        "### 4.7.6. Documentation Strings\n",
        "\n",
        "Here are some conventions about the content and formatting of documentation strings.\n",
        "\n",
        "The first line should always be a short, concise summary of the object's purpose. For brevity, it should not explicitly state the object's name or type, since these are available by other means (except if the name happens to be a verb describing a function's operation). This line should begin with a capital letter and end with a period.\n",
        "\n",
        "If there are more lines in the documentation string, the second line should be blank, visually separating the summary from the rest of the description. The following lines should be one or more paragraphs describing the object's calling conventions, its side effects, etc.\n",
        "\n",
        "The Python parser does not strip indentation from multi-line string literals in Python, so tools that process documentation have to strip indentation if desired. This is done using the following convention. The first non-blank line _after_ the first line of the string determines the amount of indentation for the entire documentation string. (We can't use the first line since it is generally adjacent to the string's opening quotes so its indentation is not apparent in the string literal.) Whitespace \"equivalent\" to this indentation is then stripped from the start of all lines of the string. Lines that are indented less should not occur, but if they occur all their leading whitespace should be stripped. Equivalence of whitespace should be tested after expansion of tabss (to 8 spaces, normally).\n",
        "\n",
        "Here is an example of a multi-line docstring:"
      ]
    },
    {
      "cell_type": "code",
      "metadata": {
        "id": "x0lWRFjh1QRc",
        "colab_type": "code",
        "colab": {
          "base_uri": "https://localhost:8080/",
          "height": 85
        },
        "outputId": "9c298b09-3590-42b8-81d8-33dba5568b7f"
      },
      "source": [
        "def my_function():\n",
        "  \"\"\"Do nothing, but document it.\n",
        "\n",
        "  No, really, it doesn't do anything.\n",
        "  \"\"\"\n",
        "  pass\n",
        "\n",
        "print(my_function.__doc__)"
      ],
      "execution_count": 85,
      "outputs": [
        {
          "output_type": "stream",
          "text": [
            "Do nothing, but document it.\n",
            "\n",
            "  No, really, it doesn't do anything.\n",
            "  \n"
          ],
          "name": "stdout"
        }
      ]
    },
    {
      "cell_type": "code",
      "metadata": {
        "id": "Ha5BzEBN1ddk",
        "colab_type": "code",
        "colab": {
          "base_uri": "https://localhost:8080/",
          "height": 34
        },
        "outputId": "5e00f604-8d75-4908-f01e-b50f1c91edc1"
      },
      "source": [
        "import torch\n",
        "\n",
        "print(torch.cuda.is_available.__doc__)"
      ],
      "execution_count": 87,
      "outputs": [
        {
          "output_type": "stream",
          "text": [
            "Returns a bool indicating if CUDA is currently available.\n"
          ],
          "name": "stdout"
        }
      ]
    }
  ]
}