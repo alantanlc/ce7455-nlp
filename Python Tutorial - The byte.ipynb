{
  "nbformat": 4,
  "nbformat_minor": 0,
  "metadata": {
    "colab": {
      "name": "intro_to_pandas.ipynb",
      "provenance": [],
      "include_colab_link": true
    },
    "kernelspec": {
      "name": "python3",
      "display_name": "Python 3"
    },
    "accelerator": "GPU"
  },
  "cells": [
    {
      "cell_type": "markdown",
      "metadata": {
        "id": "view-in-github",
        "colab_type": "text"
      },
      "source": [
        "<a href=\"https://colab.research.google.com/github/alanwuha/ce7455-nlp/blob/master/Python%20Tutorial%20-%20The%20byte.ipynb\" target=\"_parent\"><img src=\"https://colab.research.google.com/assets/colab-badge.svg\" alt=\"Open In Colab\"/></a>"
      ]
    },
    {
      "cell_type": "markdown",
      "metadata": {
        "id": "NGEm6_fIT3PJ",
        "colab_type": "text"
      },
      "source": [
        "# Python Tutorial\n",
        "\n",
        "__Prerequisite :__ Knowledge of any programming language, some small concepts of OOP."
      ]
    },
    {
      "cell_type": "markdown",
      "metadata": {
        "id": "IMBfsC6JUM21",
        "colab_type": "text"
      },
      "source": [
        "# Table of Content\n",
        "\n",
        "0. Introduction\n",
        "1. Interpreter\n",
        "2. Variables & Built in Data-structures\n",
        "3. Conditional\n",
        "4. Function\n",
        "5. while loop\n",
        "6. for loop\n",
        "7. Random number\n",
        "8. Generator Function\n",
        "9. Class, Inheritance\n",
        "10. Asserts, exceptions\n",
        "11. Input Output (I/O)\n",
        "12. The Pythonic Way\n",
        "13. Brief tour to Standard Library\n",
        "14. Package Manager\n",
        "15. The complete language reference"
      ]
    },
    {
      "cell_type": "markdown",
      "metadata": {
        "id": "vikeyWzbU1Zl",
        "colab_type": "text"
      },
      "source": [
        "# Learn ideas and Practice Syntax"
      ]
    },
    {
      "cell_type": "markdown",
      "metadata": {
        "id": "72wvI1miU76y",
        "colab_type": "text"
      },
      "source": [
        "# 0. Introduction\n",
        "\n",
        "Theoretically, Any turing complete language can mimic each other's performance. A programming language should have the following feature to be Turing-complete.\n",
        "\n",
        "  0. Conditional repetition or conditional jump (while, for, if, and goto)\n",
        "  1. Read and Write mechanism (variables)\n",
        "\n",
        "__Example :__ C, C++, C#, Java, Lua, Python"
      ]
    },
    {
      "cell_type": "markdown",
      "metadata": {
        "id": "vbYd0Q2TVOtO",
        "colab_type": "text"
      },
      "source": [
        "# Why choose python for Deep Learning Research?\n",
        "\n",
        "Early Deep learing era was built on top of Lua ([torch](https://pytorch.org)) and python ([Theano](#)). But somehow python stands out in the following points.\n",
        "\n",
        "  0. Shorter codes.\n",
        "  1. Momentum, rapid prototyping and rapid application development.\n",
        "  2. Vibrant Community, and Community support.\n",
        "  3. Excellent eco-system of library and package managers.\n",
        "  4. Good Debugging tools.\n",
        "  5. Better OS integration.\n",
        "\n",
        "Later google built [tensorflow](https://tensorflow.org) with full python api support and facebook adopted Soumit Chintala's [pytorch](https://pytorch.org) and started supporting it. Both of them are now excellent frameworks for doing Deep Learning Research and Deployment.\n",
        "\n",
        "Now __Python has become the Mother-tongue of scientific Programming.__"
      ]
    },
    {
      "cell_type": "markdown",
      "metadata": {
        "id": "pOkaTmNyWdrn",
        "colab_type": "text"
      },
      "source": [
        "# 1. Interpreter\n",
        "\n",
        "One of the major difference between compiler and interpreter is __when__ and __how__ the compilation and execution is done?\n",
        "\n",
        "In Compiler based language, Compilation is done before execution. In Interpreter based language, the Compilation and Execution take place simultaneously. It enables us to create __this__ type of notebook where we can run each cell, see the output and again run a set of new command. This is simply, \n",
        "\n",
        "_GREAT FOR DEBUGGING_\n",
        "\n",
        "Also it helps us to take __educative decisions__ while inspecting any phenomena inside the __data__ or __model__.\n",
        "\n"
      ]
    },
    {
      "cell_type": "markdown",
      "metadata": {
        "id": "T4MjUevAYrSq",
        "colab_type": "text"
      },
      "source": [
        "## Code running\n",
        "\n",
        "3 different ways:\n",
        "\n",
        "  1. __From shell :__ from the terminal write `python -c \"python code\"`\n",
        "  2. __From a *.py file :__ Write python code in a text file\n",
        "  3. __Interactive mode :__ In the shell write `python` and an interactive python shell will start where you can run python code line by line. Same feature is used for creating __this__ types of __notebook__."
      ]
    },
    {
      "cell_type": "markdown",
      "metadata": {
        "id": "R0AxwhHSacSe",
        "colab_type": "text"
      },
      "source": [
        "### From Shell"
      ]
    },
    {
      "cell_type": "code",
      "metadata": {
        "id": "1eTGN52faeqy",
        "colab_type": "code",
        "outputId": "a8c10547-7bd1-4c86-b5d3-c01bd9323d1c",
        "colab": {
          "base_uri": "https://localhost:8080/",
          "height": 51
        }
      },
      "source": [
        "!python -c 'import torch; print(\"Hello World\"); print(torch.__version__)'"
      ],
      "execution_count": 0,
      "outputs": [
        {
          "output_type": "stream",
          "text": [
            "Hello World\n",
            "1.3.1\n"
          ],
          "name": "stdout"
        }
      ]
    },
    {
      "cell_type": "markdown",
      "metadata": {
        "id": "4_ZlyJ9gav8J",
        "colab_type": "text"
      },
      "source": [
        "### From a *.py file\n",
        "\n",
        "Let's create the python file first and then run the python file from terminal. In real life you may use an IDE or editor to create the python code and save it as `*.py` extension."
      ]
    },
    {
      "cell_type": "code",
      "metadata": {
        "id": "nrK4eI6GbDdu",
        "colab_type": "code",
        "outputId": "11240e10-bff8-4f10-b2b8-eed4546eab1d",
        "colab": {
          "base_uri": "https://localhost:8080/",
          "height": 136
        }
      },
      "source": [
        "!python --version # print python version\n",
        "!rm hello_world.py  # delete if any hello_world.py is there\n",
        "!touch hello_world.py # create an empty hello_world.py text file\n",
        "!echo -e \"import torch\" >> hello_world.py # write on hello_world.py file\n",
        "!echo -e \"print(\\\"Hello World\\\")\" >> hello_world.py # write on hello_world.py file\n",
        "!echo -e \"print(torch.__version__)\" >> hello_world.py # write on hello_world.py file\n",
        "!cat hello_world.py # View hello_world.py\n",
        "!python hello_world.py  # run hello_world.py\n",
        "arr = [0, 0, 0, 0, 0]"
      ],
      "execution_count": 0,
      "outputs": [
        {
          "output_type": "stream",
          "text": [
            "Python 3.6.9\n",
            "rm: cannot remove 'hello_world.py': No such file or directory\n",
            "import torch\n",
            "print(\"Hello World\")\n",
            "print(torch.__version__)\n",
            "Hello World\n",
            "1.3.1\n"
          ],
          "name": "stdout"
        }
      ]
    },
    {
      "cell_type": "markdown",
      "metadata": {
        "id": "-dDfemsob7i3",
        "colab_type": "text"
      },
      "source": [
        "### Interactive mode"
      ]
    },
    {
      "cell_type": "code",
      "metadata": {
        "id": "YSG0J3cWb931",
        "colab_type": "code",
        "outputId": "60586316-413a-41a9-c37b-f324c6d165c0",
        "colab": {
          "base_uri": "https://localhost:8080/",
          "height": 68
        }
      },
      "source": [
        "import torch\n",
        "print(\"Hello World\")\n",
        "print(torch.__version__)\n",
        "arr[0] = arr[0] + 1\n",
        "print(arr)"
      ],
      "execution_count": 0,
      "outputs": [
        {
          "output_type": "stream",
          "text": [
            "Hello World\n",
            "1.3.1\n",
            "[2, 0, 0, 0, 0]\n"
          ],
          "name": "stdout"
        }
      ]
    },
    {
      "cell_type": "markdown",
      "metadata": {
        "id": "F7avhVzgcLmY",
        "colab_type": "text"
      },
      "source": [
        "# 2. Variables & Built in Data-structures"
      ]
    },
    {
      "cell_type": "markdown",
      "metadata": {
        "id": "By40PXQOcP7t",
        "colab_type": "text"
      },
      "source": [
        "## Variable Declaration\n",
        "\n",
        "- Declare a variable with an `=` sign and assign a value to it.\n",
        "- To see the data type use `type()` function\n",
        "- Make sure you know about the automatic type conversion. mainly for `floating` point numbers.\n",
        "- Run simple operations with operator `+,-,*,/,%,**`. `%` is modulus operation and `**` is power operation. `a**c` is equivalent to $a^c$\n",
        "- Import python libraries by `import library_name`.\n",
        "- In python each of the variable is a class"
      ]
    },
    {
      "cell_type": "code",
      "metadata": {
        "id": "lTYl1eASdNvv",
        "colab_type": "code",
        "outputId": "89cbbdfd-5915-428a-fa8d-34e417083568",
        "colab": {
          "base_uri": "https://localhost:8080/",
          "height": 71
        }
      },
      "source": [
        "var0 = 5\n",
        "var1 = 5.0\n",
        "var2 = 'The quick brown fox jumps over the lazy dog'\n",
        "var3 = 1e-3 # 0.001\n",
        "var4 = 1e3  # 1000.0\n",
        "var5 = True\n",
        "var6 = False\n",
        "arr = [1,2,3,4]\n",
        "print(var0, var1, var2, var3, var4, var5, var6)\n",
        "print(type(var0), type(var1), type(var2), type(var3), type(var4), type(var5), type(var6))"
      ],
      "execution_count": 0,
      "outputs": [
        {
          "output_type": "stream",
          "text": [
            "5 5.0 The quick brown fox jumps over the lazy dog 0.001 1000.0 True False\n",
            "<class 'int'> <class 'float'> <class 'str'> <class 'float'> <class 'float'> <class 'bool'> <class 'bool'>\n"
          ],
          "name": "stdout"
        }
      ]
    },
    {
      "cell_type": "code",
      "metadata": {
        "id": "bwh0YB4d0J9Y",
        "colab_type": "code",
        "colab": {
          "base_uri": "https://localhost:8080/",
          "height": 102
        },
        "outputId": "1e44fd5b-47e0-472b-e57e-84260a88e554"
      },
      "source": [
        "a = '1'\n",
        "print(type(a), a)\n",
        "b = int(a)\n",
        "print(type(b), b)\n",
        "c = 1\n",
        "print(type(c), c)\n",
        "d = str(c)\n",
        "print(type(d), d)\n",
        "k = 3.14159265\n",
        "print(k, int(k), float(int(k)))"
      ],
      "execution_count": 1,
      "outputs": [
        {
          "output_type": "stream",
          "text": [
            "<class 'str'> 1\n",
            "<class 'int'> 1\n",
            "<class 'int'> 1\n",
            "<class 'str'> 1\n",
            "3.14159265 3 3.0\n"
          ],
          "name": "stdout"
        }
      ]
    },
    {
      "cell_type": "markdown",
      "metadata": {
        "id": "JCpngqlW0o6s",
        "colab_type": "text"
      },
      "source": [
        "__Note:__ unlike C/C++ code, `++` is invalid in python."
      ]
    },
    {
      "cell_type": "code",
      "metadata": {
        "id": "7lNu940T0ufy",
        "colab_type": "code",
        "colab": {
          "base_uri": "https://localhost:8080/",
          "height": 129
        },
        "outputId": "05bfa599-21e7-4c4c-d139-953603b27afd"
      },
      "source": [
        "b++ # This line won't run"
      ],
      "execution_count": 2,
      "outputs": [
        {
          "output_type": "error",
          "ename": "SyntaxError",
          "evalue": "ignored",
          "traceback": [
            "\u001b[0;36m  File \u001b[0;32m\"<ipython-input-2-3c5ac55c1bff>\"\u001b[0;36m, line \u001b[0;32m1\u001b[0m\n\u001b[0;31m    b++ # This line won't run\u001b[0m\n\u001b[0m                             ^\u001b[0m\n\u001b[0;31mSyntaxError\u001b[0m\u001b[0;31m:\u001b[0m invalid syntax\n"
          ]
        }
      ]
    },
    {
      "cell_type": "code",
      "metadata": {
        "id": "tpyCv3kW0xsX",
        "colab_type": "code",
        "colab": {
          "base_uri": "https://localhost:8080/",
          "height": 34
        },
        "outputId": "d61ba83f-d7b1-44f6-af56-e6f6e33e51e7"
      },
      "source": [
        "a = 500\n",
        "b = a % 3\n",
        "c = a ** b\n",
        "print(c)"
      ],
      "execution_count": 3,
      "outputs": [
        {
          "output_type": "stream",
          "text": [
            "250000\n"
          ],
          "name": "stdout"
        }
      ]
    },
    {
      "cell_type": "code",
      "metadata": {
        "id": "6gfuxyC303bz",
        "colab_type": "code",
        "colab": {
          "base_uri": "https://localhost:8080/",
          "height": 34
        },
        "outputId": "f4d2d669-550f-4dbf-b0e7-baa4f3b3390d"
      },
      "source": [
        "import math\n",
        "print(math.sqrt(5))"
      ],
      "execution_count": 4,
      "outputs": [
        {
          "output_type": "stream",
          "text": [
            "2.23606797749979\n"
          ],
          "name": "stdout"
        }
      ]
    },
    {
      "cell_type": "markdown",
      "metadata": {
        "id": "6iyVj4Br07fP",
        "colab_type": "text"
      },
      "source": [
        "# List"
      ]
    },
    {
      "cell_type": "code",
      "metadata": {
        "id": "t0BaUWmh09_D",
        "colab_type": "code",
        "colab": {
          "base_uri": "https://localhost:8080/",
          "height": 68
        },
        "outputId": "2afd9857-3673-405e-e401-a8e29e7db5f5"
      },
      "source": [
        "a = [1, 2, 3, 4, 5]\n",
        "b = [1, \"hello world\", 3.0, {\"prof\": \"Dr. Shafiq Joty\", \"Course\": \"MH6812\"}]\n",
        "print(a)\n",
        "print(b)\n",
        "\n",
        "a.append(100)\n",
        "print(a)"
      ],
      "execution_count": 5,
      "outputs": [
        {
          "output_type": "stream",
          "text": [
            "[1, 2, 3, 4, 5]\n",
            "[1, 'hello world', 3.0, {'prof': 'Dr. Shafiq Joty', 'Course': 'MH6812'}]\n",
            "[1, 2, 3, 4, 5, 100]\n"
          ],
          "name": "stdout"
        }
      ]
    },
    {
      "cell_type": "markdown",
      "metadata": {
        "id": "gZGYsbE11RrT",
        "colab_type": "text"
      },
      "source": [
        "Note that, in python list works as a call by reference."
      ]
    },
    {
      "cell_type": "code",
      "metadata": {
        "id": "kI7OA0bs1YOk",
        "colab_type": "code",
        "colab": {
          "base_uri": "https://localhost:8080/",
          "height": 85
        },
        "outputId": "27b5f5d1-83ce-4e16-e341-035a777b40ae"
      },
      "source": [
        "a = [0,1,2,3,4,5,6,7]\n",
        "b = a\n",
        "b[4] = 100\n",
        "print(a)\n",
        "print(b)\n",
        "print(len(a))\n",
        "print(len(b))"
      ],
      "execution_count": 6,
      "outputs": [
        {
          "output_type": "stream",
          "text": [
            "[0, 1, 2, 3, 100, 5, 6, 7]\n",
            "[0, 1, 2, 3, 100, 5, 6, 7]\n",
            "8\n",
            "8\n"
          ],
          "name": "stdout"
        }
      ]
    },
    {
      "cell_type": "code",
      "metadata": {
        "id": "pxW5z5J41fsF",
        "colab_type": "code",
        "colab": {
          "base_uri": "https://localhost:8080/",
          "height": 51
        },
        "outputId": "7b2e1b02-5f50-4aa8-a3a2-32f589d967e7"
      },
      "source": [
        "import copy\n",
        "a = [0,1,2,3,4,5,6,7]\n",
        "b = copy.deepcopy(a)\n",
        "b[4] = 100\n",
        "print(a)\n",
        "print(b)"
      ],
      "execution_count": 9,
      "outputs": [
        {
          "output_type": "stream",
          "text": [
            "[0, 1, 2, 3, 4, 5, 6, 7]\n",
            "[0, 1, 2, 3, 100, 5, 6, 7]\n"
          ],
          "name": "stdout"
        }
      ]
    },
    {
      "cell_type": "markdown",
      "metadata": {
        "id": "gY9JiGx01y9b",
        "colab_type": "text"
      },
      "source": [
        "# String"
      ]
    },
    {
      "cell_type": "code",
      "metadata": {
        "id": "7hUviTlz11BE",
        "colab_type": "code",
        "colab": {
          "base_uri": "https://localhost:8080/",
          "height": 34
        },
        "outputId": "ab3a835c-26d9-4f3d-bec1-42ba61e36d53"
      },
      "source": [
        "a = 5\n",
        "b = 10\n",
        "s = 'The quick brown fox runs over the lazy dog'\n",
        "f = 'a = {}, b = {}'.format(a, b) # string formatting\n",
        "print(f)"
      ],
      "execution_count": 10,
      "outputs": [
        {
          "output_type": "stream",
          "text": [
            "a = 5, b = 10\n"
          ],
          "name": "stdout"
        }
      ]
    },
    {
      "cell_type": "markdown",
      "metadata": {
        "id": "4CnpVFTv2Ai8",
        "colab_type": "text"
      },
      "source": [
        "Note that string is not mutable. You can't do random access to the position of the string. You have to call library function for that."
      ]
    },
    {
      "cell_type": "code",
      "metadata": {
        "id": "gx8mTOUm2KBr",
        "colab_type": "code",
        "colab": {
          "base_uri": "https://localhost:8080/",
          "height": 180
        },
        "outputId": "fe9527f3-b4fe-4212-d980-f294fd988b0b"
      },
      "source": [
        "a = 'The quick brown fox runs over the lazy dog'\n",
        "a[0] = 'x'  # This line won't run"
      ],
      "execution_count": 11,
      "outputs": [
        {
          "output_type": "error",
          "ename": "TypeError",
          "evalue": "ignored",
          "traceback": [
            "\u001b[0;31m---------------------------------------------------------------------------\u001b[0m",
            "\u001b[0;31mTypeError\u001b[0m                                 Traceback (most recent call last)",
            "\u001b[0;32m<ipython-input-11-a3a98f48e4e8>\u001b[0m in \u001b[0;36m<module>\u001b[0;34m()\u001b[0m\n\u001b[1;32m      1\u001b[0m \u001b[0ma\u001b[0m \u001b[0;34m=\u001b[0m \u001b[0;34m'The quick brown fox runs over the lazy dog'\u001b[0m\u001b[0;34m\u001b[0m\u001b[0;34m\u001b[0m\u001b[0m\n\u001b[0;32m----> 2\u001b[0;31m \u001b[0ma\u001b[0m\u001b[0;34m[\u001b[0m\u001b[0;36m0\u001b[0m\u001b[0;34m]\u001b[0m \u001b[0;34m=\u001b[0m \u001b[0;34m'x'\u001b[0m  \u001b[0;31m# This line won't run\u001b[0m\u001b[0;34m\u001b[0m\u001b[0;34m\u001b[0m\u001b[0m\n\u001b[0m",
            "\u001b[0;31mTypeError\u001b[0m: 'str' object does not support item assignment"
          ]
        }
      ]
    },
    {
      "cell_type": "code",
      "metadata": {
        "id": "zX3Hq1ts2T3Y",
        "colab_type": "code",
        "colab": {
          "base_uri": "https://localhost:8080/",
          "height": 71
        },
        "outputId": "c3ac3d51-686d-4a26-8994-765f43888fb3"
      },
      "source": [
        "a = 'The quick brown fox runs over the lazy dog'\n",
        "a = list(a)\n",
        "print(a)\n",
        "a[0] = 'x'\n",
        "a = \"\".join(a)\n",
        "print(a)"
      ],
      "execution_count": 12,
      "outputs": [
        {
          "output_type": "stream",
          "text": [
            "['T', 'h', 'e', ' ', 'q', 'u', 'i', 'c', 'k', ' ', 'b', 'r', 'o', 'w', 'n', ' ', 'f', 'o', 'x', ' ', 'r', 'u', 'n', 's', ' ', 'o', 'v', 'e', 'r', ' ', 't', 'h', 'e', ' ', 'l', 'a', 'z', 'y', ' ', 'd', 'o', 'g']\n",
            "xhe quick brown fox runs over the lazy dog\n"
          ],
          "name": "stdout"
        }
      ]
    },
    {
      "cell_type": "markdown",
      "metadata": {
        "id": "UCLQbn36446e",
        "colab_type": "text"
      },
      "source": [
        "# Dictionary\n",
        "\n",
        "- Dictionaries are set of `key` and `value`.\n",
        "- Keys are unique.\n",
        "- Regular dictionary doesn't ensure the order information of data.\n",
        "- Ordered dictionary contains the order information of data but you have to import it from `collections` library."
      ]
    },
    {
      "cell_type": "code",
      "metadata": {
        "id": "PGh_hu2P5ZsU",
        "colab_type": "code",
        "colab": {
          "base_uri": "https://localhost:8080/",
          "height": 34
        },
        "outputId": "3931b5f8-5637-414c-a62a-68549d63f240"
      },
      "source": [
        "a = { 0: \"Mr. a\", 1: \"Mr. b\", 2: \"Mr. c\" }\n",
        "print(a)"
      ],
      "execution_count": 13,
      "outputs": [
        {
          "output_type": "stream",
          "text": [
            "{0: 'Mr. a', 1: 'Mr. b', 2: 'Mr. c'}\n"
          ],
          "name": "stdout"
        }
      ]
    },
    {
      "cell_type": "code",
      "metadata": {
        "id": "PDJVJy5f5qeM",
        "colab_type": "code",
        "colab": {
          "base_uri": "https://localhost:8080/",
          "height": 34
        },
        "outputId": "fa23d26a-9795-4b0f-ad41-34e767c3fa91"
      },
      "source": [
        "a = { 0: \"Mr. a\", 0: \"Mr. b\", 2: \"Mr. b\", 1: \"Mr. c\", 0: \"Mr. c\" }\n",
        "print(a)"
      ],
      "execution_count": 14,
      "outputs": [
        {
          "output_type": "stream",
          "text": [
            "{0: 'Mr. c', 2: 'Mr. b', 1: 'Mr. c'}\n"
          ],
          "name": "stdout"
        }
      ]
    },
    {
      "cell_type": "code",
      "metadata": {
        "id": "SZ1X0Lth6bZL",
        "colab_type": "code",
        "colab": {
          "base_uri": "https://localhost:8080/",
          "height": 68
        },
        "outputId": "bec8cbca-ebdf-4b19-9189-3409d30ae8d2"
      },
      "source": [
        "from collections import OrderedDict\n",
        "b = OrderedDict([('b', 2), ('a', 1)])\n",
        "print(b)\n",
        "\n",
        "b = OrderedDict({ 0: \"Mr. a\", 1: \"Mr. b\", 2: \"Mr. b\" })\n",
        "print(b)\n",
        "\n",
        "b = OrderedDict({ 0: \"Mr. a\", 0: \"Mr. b\", 2: \"Mr. b\", 1: \"Mr. c\", 0: \"Mr. c\"})\n",
        "print(b)"
      ],
      "execution_count": 15,
      "outputs": [
        {
          "output_type": "stream",
          "text": [
            "OrderedDict([('b', 2), ('a', 1)])\n",
            "OrderedDict([(0, 'Mr. a'), (1, 'Mr. b'), (2, 'Mr. b')])\n",
            "OrderedDict([(0, 'Mr. c'), (2, 'Mr. b'), (1, 'Mr. c')])\n"
          ],
          "name": "stdout"
        }
      ]
    },
    {
      "cell_type": "markdown",
      "metadata": {
        "id": "Igx8Kbjm7ko3",
        "colab_type": "text"
      },
      "source": [
        "# Slicing\n",
        "\n",
        "A very important concept. How to access data in python."
      ]
    },
    {
      "cell_type": "markdown",
      "metadata": {
        "id": "kzRJJaH57pov",
        "colab_type": "text"
      },
      "source": [
        "```\n",
        "+---+---+---+---+---+---+\n",
        "| P | y | t | h | o | n |\n",
        "+---+---+---+---+---+---+\n",
        "  0   1   2   3   4   5\n",
        " -6  -5  -4  -3  -2  -1\n",
        "```"
      ]
    },
    {
      "cell_type": "code",
      "metadata": {
        "id": "yj4lcb2c8Oax",
        "colab_type": "code",
        "colab": {
          "base_uri": "https://localhost:8080/",
          "height": 102
        },
        "outputId": "eb57ccc3-8ae9-4b33-bcff-2d5ba3739b9f"
      },
      "source": [
        "string = 'python'\n",
        "letters = list(string)\n",
        "print('0', letters[0])\n",
        "print('1', letters[1])\n",
        "print('2', letters[2])\n",
        "print('-1', letters[-1])\n",
        "print('-2', letters[-2])"
      ],
      "execution_count": 16,
      "outputs": [
        {
          "output_type": "stream",
          "text": [
            "0 p\n",
            "1 y\n",
            "2 t\n",
            "-1 n\n",
            "-2 o\n"
          ],
          "name": "stdout"
        }
      ]
    },
    {
      "cell_type": "code",
      "metadata": {
        "id": "xT1-Ebci8yDf",
        "colab_type": "code",
        "colab": {
          "base_uri": "https://localhost:8080/",
          "height": 34
        },
        "outputId": "5b1ef898-3ab8-4266-f76c-13b9104d40e6"
      },
      "source": [
        "print(letters[-1:-7:-1])"
      ],
      "execution_count": 18,
      "outputs": [
        {
          "output_type": "stream",
          "text": [
            "['n', 'o', 'h', 't', 'y', 'p']\n"
          ],
          "name": "stdout"
        }
      ]
    }
  ]
}