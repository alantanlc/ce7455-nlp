{
 "cells": [
  {
   "cell_type": "code",
   "execution_count": 10,
   "metadata": {},
   "outputs": [],
   "source": [
    "def combine(f, op, n):\n",
    "    result = f(0) # result = f(0) = 0\n",
    "    for i in range(n):\n",
    "        result = op(result, f(i))\n",
    "    return result"
   ]
  },
  {
   "cell_type": "code",
   "execution_count": 13,
   "metadata": {},
   "outputs": [],
   "source": [
    "def smiley_sum(t):\n",
    "    def f(x):\n",
    "        return x * x\n",
    "        \n",
    "    def op(x, y):\n",
    "        if y == 1:\n",
    "            return x + y\n",
    "        else:\n",
    "            return x + 2 * y\n",
    "        \n",
    "    n = t + 1\n",
    "    \n",
    "    # Do not modify this return statement\n",
    "    return combine(f, op, n)"
   ]
  },
  {
   "cell_type": "code",
   "execution_count": 14,
   "metadata": {},
   "outputs": [
    {
     "name": "stdout",
     "output_type": "stream",
     "text": [
      "1\n",
      "9\n",
      "27\n",
      "59\n",
      "109\n"
     ]
    }
   ],
   "source": [
    "print(smiley_sum(1))\n",
    "print(smiley_sum(2))\n",
    "print(smiley_sum(3))\n",
    "print(smiley_sum(4))\n",
    "print(smiley_sum(5))"
   ]
  }
 ],
 "metadata": {
  "kernelspec": {
   "display_name": "Python 3",
   "language": "python",
   "name": "python3"
  },
  "language_info": {
   "codemirror_mode": {
    "name": "ipython",
    "version": 3
   },
   "file_extension": ".py",
   "mimetype": "text/x-python",
   "name": "python",
   "nbconvert_exporter": "python",
   "pygments_lexer": "ipython3",
   "version": "3.7.4"
  }
 },
 "nbformat": 4,
 "nbformat_minor": 2
}
