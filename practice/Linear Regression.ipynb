{
  "nbformat": 4,
  "nbformat_minor": 0,
  "metadata": {
    "kernelspec": {
      "display_name": "Python 3",
      "language": "python",
      "name": "python3"
    },
    "language_info": {
      "codemirror_mode": {
        "name": "ipython",
        "version": 3
      },
      "file_extension": ".py",
      "mimetype": "text/x-python",
      "name": "python",
      "nbconvert_exporter": "python",
      "pygments_lexer": "ipython3",
      "version": "3.7.4"
    },
    "colab": {
      "name": "Linear Regression.ipynb",
      "provenance": [],
      "include_colab_link": true
    }
  },
  "cells": [
    {
      "cell_type": "markdown",
      "metadata": {
        "id": "view-in-github",
        "colab_type": "text"
      },
      "source": [
        "<a href=\"https://colab.research.google.com/github/alanwuha/ce7455-nlp/blob/master/Linear%20Regression.ipynb\" target=\"_parent\"><img src=\"https://colab.research.google.com/assets/colab-badge.svg\" alt=\"Open In Colab\"/></a>"
      ]
    },
    {
      "cell_type": "markdown",
      "metadata": {
        "id": "STRqKZKXMLLU",
        "colab_type": "text"
      },
      "source": [
        "# 0. Import the necessary packet"
      ]
    },
    {
      "cell_type": "code",
      "metadata": {
        "id": "WMKA-q8uMNtK",
        "colab_type": "code",
        "colab": {}
      },
      "source": [
        "import torch\n",
        "import torch.nn\n",
        "import matplotlib.pyplot as plt\n",
        "import numpy as np"
      ],
      "execution_count": 0,
      "outputs": []
    },
    {
      "cell_type": "markdown",
      "metadata": {
        "id": "xPcckj12MSVX",
        "colab_type": "text"
      },
      "source": [
        "# 1. Generate the toy data y = 5x"
      ]
    },
    {
      "cell_type": "code",
      "metadata": {
        "id": "FhVK-SyDMWi3",
        "colab_type": "code",
        "outputId": "2505a647-0e77-4dfa-8348-40d9fcfa5df7",
        "colab": {
          "base_uri": "https://localhost:8080/",
          "height": 102
        }
      },
      "source": [
        "X = torch.randn(100, 1)\n",
        "y = 5*X + torch.randn(100, 1)\n",
        "print('mean: ', X.mean())\n",
        "print('std: ', X.std())\n",
        "print('var: ', X.var())\n",
        "print('min: ', X.min())\n",
        "print('max: ', X.max())"
      ],
      "execution_count": 0,
      "outputs": [
        {
          "output_type": "stream",
          "text": [
            "mean:  tensor(-0.0824)\n",
            "std:  tensor(0.9395)\n",
            "var:  tensor(0.8827)\n",
            "min:  tensor(-2.5559)\n",
            "max:  tensor(1.5231)\n"
          ],
          "name": "stdout"
        }
      ]
    },
    {
      "cell_type": "markdown",
      "metadata": {
        "id": "DVi82EsUMt3R",
        "colab_type": "text"
      },
      "source": [
        "The code above would create this distribution"
      ]
    },
    {
      "cell_type": "code",
      "metadata": {
        "id": "V0HlhMOPM29A",
        "colab_type": "code",
        "outputId": "5c627f4f-d7b1-48f3-e15b-5fe009fd38c4",
        "colab": {
          "base_uri": "https://localhost:8080/",
          "height": 296
        }
      },
      "source": [
        "plt.plot(X.numpy(), y.numpy(), 'o')\n",
        "plt.ylabel('y')\n",
        "plt.xlabel('x')"
      ],
      "execution_count": 0,
      "outputs": [
        {
          "output_type": "execute_result",
          "data": {
            "text/plain": [
              "Text(0.5, 0, 'x')"
            ]
          },
          "metadata": {
            "tags": []
          },
          "execution_count": 5
        },
        {
          "output_type": "display_data",
          "data": {
            "image/png": "[encoded data removed]",
            "text/plain": [
              "<Figure size 432x288 with 1 Axes>"
            ]
          },
          "metadata": {
            "tags": []
          }
        }
      ]
    },
    {
      "cell_type": "markdown",
      "metadata": {
        "id": "ig_OvguNM8Dh",
        "colab_type": "text"
      },
      "source": [
        "# 2. Model\n",
        "\n",
        "Now we define the linear regression model"
      ]
    },
    {
      "cell_type": "code",
      "metadata": {
        "id": "oqq2qtWFNBRx",
        "colab_type": "code",
        "colab": {}
      },
      "source": [
        "class LinearRegression(nn.Module):\n",
        "  def __init__(self, input_size, output_size):\n",
        "    super().__init__()\n",
        "    self.linear = nn.Linear(input_size, output_size)\n",
        "\n",
        "  def forward(self, x):\n",
        "    pred = self.linear(x)\n",
        "    return pred"
      ],
      "execution_count": 0,
      "outputs": []
    },
    {
      "cell_type": "markdown",
      "metadata": {
        "id": "NKqMxqNPNfYE",
        "colab_type": "text"
      },
      "source": [
        "Initialize the model"
      ]
    },
    {
      "cell_type": "code",
      "metadata": {
        "id": "y7x1FHqyNhQ6",
        "colab_type": "code",
        "outputId": "46cde828-f916-4569-fa96-e792dc5819af",
        "colab": {
          "base_uri": "https://localhost:8080/",
          "height": 85
        }
      },
      "source": [
        "model = LinearRegression(1, 1)\n",
        "\n",
        "print(model.parameters())\n",
        "print(model.state_dict())\n",
        "print(model.linear.weight.item())\n",
        "print(model.linear.bias.item())"
      ],
      "execution_count": 0,
      "outputs": [
        {
          "output_type": "stream",
          "text": [
            "<generator object Module.parameters at 0x7f92e30d9728>\n",
            "OrderedDict([('linear.weight', tensor([[-0.0084]])), ('linear.bias', tensor([-0.9822]))])\n",
            "-0.00836193561553955\n",
            "-0.982227087020874\n"
          ],
          "name": "stdout"
        }
      ]
    },
    {
      "cell_type": "markdown",
      "metadata": {
        "id": "Dmt26lnVNoqk",
        "colab_type": "text"
      },
      "source": [
        "Define the function to get the parameters of model and plot the line fit"
      ]
    },
    {
      "cell_type": "code",
      "metadata": {
        "id": "EABDAyIGNv7s",
        "colab_type": "code",
        "colab": {}
      },
      "source": [
        "def get_params(Model):\n",
        "  [w, b] = Model.parameters()\n",
        "  return (w[0][0].item(), b[0].item())\n",
        "\n",
        "def plot_fit(Model, X_axis):\n",
        "  w1, b1 = get_params(Model)\n",
        "  x1 = np.array([X_axis.min(), X_axis.max()])\n",
        "  y1 = w1*x1 + b1\n",
        "  plt.plot(x1, y1, 'r')\n",
        "  plt.scatter(X, y)\n",
        "  plt.show()"
      ],
      "execution_count": 0,
      "outputs": []
    },
    {
      "cell_type": "markdown",
      "metadata": {
        "id": "_9RYts6qR6On",
        "colab_type": "text"
      },
      "source": [
        "# 3. Plot the initialized fit line"
      ]
    },
    {
      "cell_type": "code",
      "metadata": {
        "id": "0RRKVLt_R9WA",
        "colab_type": "code",
        "outputId": "4daa3ead-95ef-422a-a6ef-2ae2a0b0183e",
        "colab": {
          "base_uri": "https://localhost:8080/",
          "height": 265
        }
      },
      "source": [
        "plot_fit(model, X)"
      ],
      "execution_count": 0,
      "outputs": [
        {
          "output_type": "display_data",
          "data": {
            "image/png": "[encoded data removed]",
            "text/plain": [
              "<Figure size 432x288 with 1 Axes>"
            ]
          },
          "metadata": {
            "tags": []
          }
        }
      ]
    },
    {
      "cell_type": "markdown",
      "metadata": {
        "id": "yrelqdyDSHZL",
        "colab_type": "text"
      },
      "source": [
        "Now we define the optimizer/loss function"
      ]
    },
    {
      "cell_type": "code",
      "metadata": {
        "id": "j40L-UGBSR98",
        "colab_type": "code",
        "colab": {}
      },
      "source": [
        "criterion = nn.MSELoss()\n",
        "optimizer = torch.optim.SGD(model.parameters(), lr = 0.01)"
      ],
      "execution_count": 0,
      "outputs": []
    },
    {
      "cell_type": "code",
      "metadata": {
        "id": "Et4QF-aHSZ2c",
        "colab_type": "code",
        "outputId": "515c9d08-885a-4811-858d-ec77cd72562b",
        "colab": {
          "base_uri": "https://localhost:8080/",
          "height": 187
        }
      },
      "source": [
        "epochs = 1000\n",
        "losses = []\n",
        "for i in range(1, epochs+1):\n",
        "  y_pred = model.forward(X)\n",
        "  loss = criterion(y_pred, y)\n",
        "  if i%100 == 0:\n",
        "    print('epoch: ', i, ' loss: ', loss.item())\n",
        "  losses.append(loss)\n",
        "  optimizer.zero_grad()\n",
        "  loss.backward()\n",
        "  optimizer.step()"
      ],
      "execution_count": 0,
      "outputs": [
        {
          "output_type": "stream",
          "text": [
            "epoch:  100  loss:  1.8700125217437744\n",
            "epoch:  200  loss:  1.1560447216033936\n",
            "epoch:  300  loss:  1.1324403285980225\n",
            "epoch:  400  loss:  1.131648302078247\n",
            "epoch:  500  loss:  1.1316213607788086\n",
            "epoch:  600  loss:  1.1316205263137817\n",
            "epoch:  700  loss:  1.1316205263137817\n",
            "epoch:  800  loss:  1.1316205263137817\n",
            "epoch:  900  loss:  1.1316204071044922\n",
            "epoch:  1000  loss:  1.1316204071044922\n"
          ],
          "name": "stdout"
        }
      ]
    },
    {
      "cell_type": "markdown",
      "metadata": {
        "id": "tvSqNg77S5ty",
        "colab_type": "text"
      },
      "source": [
        "# 5. Plot the result fit line"
      ]
    },
    {
      "cell_type": "code",
      "metadata": {
        "id": "0Buyx2TiTAHa",
        "colab_type": "code",
        "outputId": "641dbfc7-0918-4477-a88d-9fc617f2ec26",
        "colab": {
          "base_uri": "https://localhost:8080/",
          "height": 282
        }
      },
      "source": [
        "w1, b1 = get_params(model)\n",
        "print(w1, b1)\n",
        "plot_fit(model, X)"
      ],
      "execution_count": 0,
      "outputs": [
        {
          "output_type": "stream",
          "text": [
            "5.007588863372803 -0.05221762880682945\n"
          ],
          "name": "stdout"
        },
        {
          "output_type": "display_data",
          "data": {
            "image/png": "[encoded data removed]",
            "text/plain": [
              "<Figure size 432x288 with 1 Axes>"
            ]
          },
          "metadata": {
            "tags": []
          }
        }
      ]
    },
    {
      "cell_type": "markdown",
      "metadata": {
        "id": "XyrT9-KUsduH",
        "colab_type": "text"
      },
      "source": [
        "# 0. Import the necessary packet"
      ]
    },
    {
      "cell_type": "code",
      "metadata": {
        "id": "ZGNRjUKLsiEA",
        "colab_type": "code",
        "colab": {}
      },
      "source": [
        "import torch\n",
        "import torch.nn as nn\n",
        "import matplotlib.pyplot as plt\n",
        "import numpy as np"
      ],
      "execution_count": 0,
      "outputs": []
    },
    {
      "cell_type": "markdown",
      "metadata": {
        "id": "93e_rSoTsnCW",
        "colab_type": "text"
      },
      "source": [
        "# 1. Generate the toy data y = 5x"
      ]
    },
    {
      "cell_type": "code",
      "metadata": {
        "id": "yUT2UAWssrxR",
        "colab_type": "code",
        "colab": {}
      },
      "source": [
        "X = torch.randn(100, 1)\n",
        "y = 5*X + torch.randn(100, 1)"
      ],
      "execution_count": 0,
      "outputs": []
    },
    {
      "cell_type": "markdown",
      "metadata": {
        "id": "0rtqCDcfsw7N",
        "colab_type": "text"
      },
      "source": [
        "The code above would create this distribution"
      ]
    },
    {
      "cell_type": "code",
      "metadata": {
        "id": "-3GiNQ7es2_O",
        "colab_type": "code",
        "colab": {
          "base_uri": "https://localhost:8080/",
          "height": 296
        },
        "outputId": "24a44c54-7cd9-4ee7-a686-51891c63a339"
      },
      "source": [
        "plt.plot(X.numpy(), y.numpy(), 'o')\n",
        "plt.ylabel('y')\n",
        "plt.xlabel('x')"
      ],
      "execution_count": 23,
      "outputs": [
        {
          "output_type": "execute_result",
          "data": {
            "text/plain": [
              "Text(0.5, 0, 'x')"
            ]
          },
          "metadata": {
            "tags": []
          },
          "execution_count": 23
        },
        {
          "output_type": "display_data",
          "data": {
            "image/png": "[encoded data removed]",
            "text/plain": [
              "<Figure size 432x288 with 1 Axes>"
            ]
          },
          "metadata": {
            "tags": []
          }
        }
      ]
    },
    {
      "cell_type": "markdown",
      "metadata": {
        "id": "_FtQCXKCs9od",
        "colab_type": "text"
      },
      "source": [
        "# 2. Model\n",
        "\n",
        "Now we define the linear regression model"
      ]
    },
    {
      "cell_type": "code",
      "metadata": {
        "id": "6NdhLmxStITq",
        "colab_type": "code",
        "colab": {}
      },
      "source": [
        "class LinearRegression(nn.Module):\n",
        "  def __init__(self, input_size, output_size):\n",
        "    super().__init__()\n",
        "    self.linear = nn.Linear(input_size, output_size)\n",
        "\n",
        "  def forward(self, x):\n",
        "    pred = self.linear(x)\n",
        "    return pred"
      ],
      "execution_count": 0,
      "outputs": []
    },
    {
      "cell_type": "markdown",
      "metadata": {
        "id": "_1qzWPNltUlX",
        "colab_type": "text"
      },
      "source": [
        "Initialize the model"
      ]
    },
    {
      "cell_type": "code",
      "metadata": {
        "id": "TyIsw3C4tV9d",
        "colab_type": "code",
        "colab": {}
      },
      "source": [
        "model = LinearRegression(1, 1)"
      ],
      "execution_count": 0,
      "outputs": []
    },
    {
      "cell_type": "markdown",
      "metadata": {
        "id": "jQWzikUTtX3B",
        "colab_type": "text"
      },
      "source": [
        "Define the function to get the parameters of model and plot the line fit"
      ]
    },
    {
      "cell_type": "code",
      "metadata": {
        "id": "qJl0sHcctgfV",
        "colab_type": "code",
        "colab": {}
      },
      "source": [
        "def get_params(Model):\n",
        "  [w, b] = Model.parameters()\n",
        "  return (w[0][0].item(), b[0].item())\n",
        "\n",
        "def plot_fit(Model, X_axis):\n",
        "  w1, b1 = get_params(Model)\n",
        "  x1 = np.array([X_axis.min(), X_axis.max()])\n",
        "  y1 = w1*x1 + b1\n",
        "  plt.plot(x1, y1, 'r')\n",
        "  plt.scatter(X, y)\n",
        "  plt.show()"
      ],
      "execution_count": 0,
      "outputs": []
    },
    {
      "cell_type": "markdown",
      "metadata": {
        "id": "gI1_nYhuuBqt",
        "colab_type": "text"
      },
      "source": [
        "# 3. Plot the initialized fit line"
      ]
    },
    {
      "cell_type": "code",
      "metadata": {
        "id": "sH7O6PpNuFXy",
        "colab_type": "code",
        "colab": {
          "base_uri": "https://localhost:8080/",
          "height": 265
        },
        "outputId": "720328fe-babc-40bf-d926-69fc6a4f0981"
      },
      "source": [
        "plot_fit(model, X)"
      ],
      "execution_count": 27,
      "outputs": [
        {
          "output_type": "display_data",
          "data": {
            "image/png": "[encoded data removed]",
            "text/plain": [
              "<Figure size 432x288 with 1 Axes>"
            ]
          },
          "metadata": {
            "tags": []
          }
        }
      ]
    },
    {
      "cell_type": "markdown",
      "metadata": {
        "id": "3_YCJ-ukuGXt",
        "colab_type": "text"
      },
      "source": [
        "Now we define the optimizer/loss function"
      ]
    },
    {
      "cell_type": "code",
      "metadata": {
        "id": "X-tCXSWXuJZ8",
        "colab_type": "code",
        "colab": {}
      },
      "source": [
        "criterion = nn.MSELoss()\n",
        "optimizer = torch.optim.SGD(model.parameters(), lr = 0.01)"
      ],
      "execution_count": 0,
      "outputs": []
    },
    {
      "cell_type": "markdown",
      "metadata": {
        "id": "RQvVKkfyuOuL",
        "colab_type": "text"
      },
      "source": [
        "# 4. Training"
      ]
    },
    {
      "cell_type": "code",
      "metadata": {
        "id": "vs0b0QmEufVD",
        "colab_type": "code",
        "colab": {
          "base_uri": "https://localhost:8080/",
          "height": 187
        },
        "outputId": "53cf0bf6-0d2d-4cb1-ec01-b707aaffaa01"
      },
      "source": [
        "epochs = 1000\n",
        "losses = []\n",
        "for i in range(1, epochs+1):\n",
        "  y_pred = model.forward(X)\n",
        "  loss = criterion(y_pred, y)\n",
        "  if i%100==0:\n",
        "    print('epoch: ', i, ' loss: ', loss.item())\n",
        "  losses.append(loss)\n",
        "  optimizer.zero_grad()\n",
        "  loss.backward()\n",
        "  optimizer.step()"
      ],
      "execution_count": 29,
      "outputs": [
        {
          "output_type": "stream",
          "text": [
            "epoch:  100  loss:  1.7192457914352417\n",
            "epoch:  200  loss:  0.9703912138938904\n",
            "epoch:  300  loss:  0.9454689621925354\n",
            "epoch:  400  loss:  0.9446390867233276\n",
            "epoch:  500  loss:  0.9446114897727966\n",
            "epoch:  600  loss:  0.944610595703125\n",
            "epoch:  700  loss:  0.9446105360984802\n",
            "epoch:  800  loss:  0.9446104764938354\n",
            "epoch:  900  loss:  0.9446104764938354\n",
            "epoch:  1000  loss:  0.9446104764938354\n"
          ],
          "name": "stdout"
        }
      ]
    },
    {
      "cell_type": "markdown",
      "metadata": {
        "id": "1l9825pnu1ur",
        "colab_type": "text"
      },
      "source": [
        "# 5. Plot the result fit line"
      ]
    },
    {
      "cell_type": "code",
      "metadata": {
        "id": "tr56mLAmvxwb",
        "colab_type": "code",
        "colab": {
          "base_uri": "https://localhost:8080/",
          "height": 282
        },
        "outputId": "4d80eb5f-a21c-4eaa-fdf8-d0893564691e"
      },
      "source": [
        "w1, b1 = get_params(model)\n",
        "print(w1, b1)\n",
        "plot_fit(model, X)"
      ],
      "execution_count": 30,
      "outputs": [
        {
          "output_type": "stream",
          "text": [
            "5.082458972930908 0.11618161201477051\n"
          ],
          "name": "stdout"
        },
        {
          "output_type": "display_data",
          "data": {
            "image/png": "[encoded data removed]",
            "text/plain": [
              "<Figure size 432x288 with 1 Axes>"
            ]
          },
          "metadata": {
            "tags": []
          }
        }
      ]
    }
  ]
}