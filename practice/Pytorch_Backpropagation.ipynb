{
  "nbformat": 4,
  "nbformat_minor": 0,
  "metadata": {
    "kernelspec": {
      "name": "python3",
      "display_name": "Python 3"
    },
    "language_info": {
      "codemirror_mode": {
        "name": "ipython",
        "version": 3
      },
      "file_extension": ".py",
      "mimetype": "text/x-python",
      "name": "python",
      "nbconvert_exporter": "python",
      "pygments_lexer": "ipython3",
      "version": "3.7.4"
    },
    "colab": {
      "name": "Pytorch_Backpropagation.ipynb",
      "provenance": [],
      "include_colab_link": true
    },
    "accelerator": "GPU"
  },
  "cells": [
    {
      "cell_type": "markdown",
      "metadata": {
        "id": "view-in-github",
        "colab_type": "text"
      },
      "source": [
        "<a href=\"https://colab.research.google.com/github/alanwuha/ce7455-nlp/blob/master/practice/Pytorch_Backpropagation.ipynb\" target=\"_parent\"><img src=\"https://colab.research.google.com/assets/colab-badge.svg\" alt=\"Open In Colab\"/></a>"
      ]
    },
    {
      "cell_type": "code",
      "metadata": {
        "id": "I0bEJsphIs8m",
        "colab_type": "code",
        "colab": {}
      },
      "source": [
        "import torch\n",
        "import torch.nn as nn\n",
        "import torch.optim as optim\n",
        "\n",
        "import numpy as np\n",
        "import matplotlib.pyplot as plt\n",
        "import time"
      ],
      "execution_count": 0,
      "outputs": []
    },
    {
      "cell_type": "code",
      "metadata": {
        "id": "Kr5qUcqTI24g",
        "colab_type": "code",
        "colab": {}
      },
      "source": [
        "def load_data(seed=1984):\n",
        "  np.random.seed(seed)\n",
        "  N = 100\n",
        "  DIM = 2\n",
        "  CLS_NUM = 3\n",
        "\n",
        "  x = np.zeros((N*CLS_NUM, DIM))\n",
        "  t = np.zeros((N*CLS_NUM, CLS_NUM), dtype=np.int)\n",
        "\n",
        "  for j in range(CLS_NUM):\n",
        "    for i in range(N):  # N*j, N*(j+1)):\n",
        "      rate = i / N\n",
        "      radius = 1.0 * rate\n",
        "      theta = j*4.0 + 4.0*rate + np.random.randn()*0.2\n",
        "\n",
        "      ix = N*j + i\n",
        "      x[ix] = np.array([radius*np.sin(theta),\n",
        "                        radius*np.cos(theta)]).flatten()\n",
        "      t[ix, j] = 1\n",
        "\n",
        "  return x, t"
      ],
      "execution_count": 0,
      "outputs": []
    },
    {
      "cell_type": "code",
      "metadata": {
        "id": "opC0M568J75q",
        "colab_type": "code",
        "colab": {}
      },
      "source": [
        "class TwoLayersNN(nn.Module):\n",
        "  def __init__(self, input_dim, hidden_dim, output_dim):\n",
        "    super(TwoLayersNN, self).__init__()\n",
        "    self.input_dim = input_dim\n",
        "    self.hidden_dim = hidden_dim\n",
        "    self.output_dim = output_dim\n",
        "\n",
        "    # Default PyTorch layer is initialized with a normal distribution\n",
        "    self.hidden_layer = nn.Linear(input_dim, hidden_dim)\n",
        "    nn.init.xavier_normal_(self.hidden_layer.weight)  # Xavier Initialization\n",
        "    # nn.init.kaiming_normal_(self.hidden_layer.weight) # He Initialization\n",
        "    self.output_layer = nn.Linear(hidden_dim, output_dim)\n",
        "    self.sigmoid = nn.Sigmoid()\n",
        "    self.dropout = nn.Dropout(p=0.2)\n",
        "    self.batchnorm = nn.BatchNorm1d(num_features=10)\n",
        "\n",
        "  def forward(self, inputs):\n",
        "    out = self.hidden_layer(inputs)\n",
        "    out = self.batchnorm(out)\n",
        "    out = self.sigmoid(out)\n",
        "    out = self.dropout(out)\n",
        "\n",
        "    out = self.output_layer(out)\n",
        "\n",
        "    return out"
      ],
      "execution_count": 0,
      "outputs": []
    },
    {
      "cell_type": "code",
      "metadata": {
        "id": "uFPk_Q4SLWLO",
        "colab_type": "code",
        "colab": {}
      },
      "source": [
        "hidden_dim = 10\n",
        "output_dim = 3\n",
        "input_dim = 2\n",
        "\n",
        "lr = 1\n",
        "\n",
        "criterion = nn.CrossEntropyLoss()\n",
        "model = TwoLayersNN(input_dim, hidden_dim, output_dim)\n",
        "optimizer = optim.SGD(model.parameters(), lr)"
      ],
      "execution_count": 0,
      "outputs": []
    },
    {
      "cell_type": "code",
      "metadata": {
        "id": "IeB2ZWAKLxvs",
        "colab_type": "code",
        "colab": {
          "base_uri": "https://localhost:8080/",
          "height": 299
        },
        "outputId": "74fd5216-cea3-46d5-bb80-a090a42e1c5e"
      },
      "source": [
        "x, t = load_data()\n",
        "print(f'x: {x.shape}')\n",
        "print(f't: {t.shape}')\n",
        "\n",
        "plt.scatter(x[:,0], x[:,1], color=t)\n",
        "plt.show()"
      ],
      "execution_count": 5,
      "outputs": [
        {
          "output_type": "stream",
          "text": [
            "x: (300, 2)\n",
            "t: (300, 3)\n"
          ],
          "name": "stdout"
        },
        {
          "output_type": "display_data",
          "data": {
            "image/png": "[encoded data removed]",
            "text/plain": [
              "<Figure size 432x288 with 1 Axes>"
            ]
          },
          "metadata": {
            "tags": []
          }
        }
      ]
    },
    {
      "cell_type": "code",
      "metadata": {
        "id": "vxldS8UPL9eS",
        "colab_type": "code",
        "colab": {
          "base_uri": "https://localhost:8080/",
          "height": 1000
        },
        "outputId": "4e21d48a-c998-435b-bf86-00091a65a15d"
      },
      "source": [
        "epoch = 200\n",
        "batch_size = 30\n",
        "data_size = len(x)\n",
        "max_iters = data_size // batch_size\n",
        "\n",
        "total_loss = 0\n",
        "loss_count = 0\n",
        "loss_list = []\n",
        "\n",
        "for epoch in range(epoch):\n",
        "\n",
        "  # Shuffle data\n",
        "  idx = np.random.permutation(data_size)\n",
        "  x = x[idx]\n",
        "  t = t[idx]\n",
        "\n",
        "  for iters in range(max_iters):\n",
        "    optimizer.zero_grad()\n",
        "    start_t = time.perf_counter()\n",
        "    batch_x = x[iters*batch_size : (iters+1)*batch_size]\n",
        "    batch_t = t[iters*batch_size : (iters+1)*batch_size]\n",
        "\n",
        "    # Numpy to Tensor\n",
        "    batch_x = torch.Tensor(batch_x)\n",
        "    batch_t = torch.Tensor(batch_t.argmax(axis=1)).type(torch.LongTensor)\n",
        "\n",
        "    output = model(batch_x)\n",
        "    loss = criterion(output, batch_t)\n",
        "    loss.backward()\n",
        "    # torch.nn.utils.clip_grad_norm_(model.parameters(), max_norm=0.5) # Gradient clipping\n",
        "    optimizer.step()\n",
        "\n",
        "    # # Weight clipping\n",
        "    # for p in model.parameters():\n",
        "    #   p.data.clamp_(-0.01, 0.01)\n",
        "\n",
        "    total_loss += loss\n",
        "    loss_count += 1\n",
        "\n",
        "    ent_t = time.perf_counter()\n",
        "    iter_time = ent_t - start_t\n",
        "\n",
        "    if (iters+1) % 10 == 0:\n",
        "      avg_loss = total_loss / loss_count\n",
        "      output = output.data.numpy()\n",
        "      pred = np.argmax(output, axis=1)\n",
        "      acc = np.sum(pred == batch_t.data.numpy()) / batch_size\n",
        "\n",
        "      print(f'Epoch: {epoch} || Iter: {iters}/{max_iters} || Accuracy: {acc:.2f} || AverageLoss: {avg_loss:.4f} || Elapsed: {iter_time:.6f}')\n",
        "      loss_list.append(avg_loss)\n",
        "      total_loss, loss_count = 0, 0"
      ],
      "execution_count": 26,
      "outputs": [
        {
          "output_type": "stream",
          "text": [
            "Epoch: 0 || Iter: 9/10 || Accuracy: 0.63 || AverageLoss: 1.0326 || Elapsed: 0.000849\n",
            "Epoch: 1 || Iter: 9/10 || Accuracy: 0.73 || AverageLoss: 0.9264 || Elapsed: 0.000569\n",
            "Epoch: 2 || Iter: 9/10 || Accuracy: 0.63 || AverageLoss: 0.8746 || Elapsed: 0.000615\n",
            "Epoch: 3 || Iter: 9/10 || Accuracy: 0.53 || AverageLoss: 0.8863 || Elapsed: 0.000671\n",
            "Epoch: 4 || Iter: 9/10 || Accuracy: 0.43 || AverageLoss: 0.8637 || Elapsed: 0.000732\n",
            "Epoch: 5 || Iter: 9/10 || Accuracy: 0.50 || AverageLoss: 0.8879 || Elapsed: 0.000740\n",
            "Epoch: 6 || Iter: 9/10 || Accuracy: 0.57 || AverageLoss: 0.8968 || Elapsed: 0.000681\n",
            "Epoch: 7 || Iter: 9/10 || Accuracy: 0.57 || AverageLoss: 0.8063 || Elapsed: 0.000675\n",
            "Epoch: 8 || Iter: 9/10 || Accuracy: 0.53 || AverageLoss: 0.8533 || Elapsed: 0.000640\n",
            "Epoch: 9 || Iter: 9/10 || Accuracy: 0.67 || AverageLoss: 0.8681 || Elapsed: 0.000772\n",
            "Epoch: 10 || Iter: 9/10 || Accuracy: 0.60 || AverageLoss: 0.8373 || Elapsed: 0.000730\n",
            "Epoch: 11 || Iter: 9/10 || Accuracy: 0.73 || AverageLoss: 0.8136 || Elapsed: 0.000720\n",
            "Epoch: 12 || Iter: 9/10 || Accuracy: 0.53 || AverageLoss: 0.8215 || Elapsed: 0.000733\n",
            "Epoch: 13 || Iter: 9/10 || Accuracy: 0.57 || AverageLoss: 0.8674 || Elapsed: 0.000750\n",
            "Epoch: 14 || Iter: 9/10 || Accuracy: 0.43 || AverageLoss: 0.8187 || Elapsed: 0.000682\n",
            "Epoch: 15 || Iter: 9/10 || Accuracy: 0.57 || AverageLoss: 0.8515 || Elapsed: 0.000763\n",
            "Epoch: 16 || Iter: 9/10 || Accuracy: 0.47 || AverageLoss: 0.8014 || Elapsed: 0.000693\n",
            "Epoch: 17 || Iter: 9/10 || Accuracy: 0.57 || AverageLoss: 0.7912 || Elapsed: 0.000809\n",
            "Epoch: 18 || Iter: 9/10 || Accuracy: 0.70 || AverageLoss: 0.8402 || Elapsed: 0.000753\n",
            "Epoch: 19 || Iter: 9/10 || Accuracy: 0.60 || AverageLoss: 0.7832 || Elapsed: 0.000683\n",
            "Epoch: 20 || Iter: 9/10 || Accuracy: 0.63 || AverageLoss: 0.7968 || Elapsed: 0.000751\n",
            "Epoch: 21 || Iter: 9/10 || Accuracy: 0.53 || AverageLoss: 0.8211 || Elapsed: 0.000673\n",
            "Epoch: 22 || Iter: 9/10 || Accuracy: 0.50 || AverageLoss: 0.7797 || Elapsed: 0.000743\n",
            "Epoch: 23 || Iter: 9/10 || Accuracy: 0.53 || AverageLoss: 0.8193 || Elapsed: 0.000738\n",
            "Epoch: 24 || Iter: 9/10 || Accuracy: 0.43 || AverageLoss: 0.7847 || Elapsed: 0.000700\n",
            "Epoch: 25 || Iter: 9/10 || Accuracy: 0.67 || AverageLoss: 0.7970 || Elapsed: 0.000727\n",
            "Epoch: 26 || Iter: 9/10 || Accuracy: 0.53 || AverageLoss: 0.7853 || Elapsed: 0.000663\n",
            "Epoch: 27 || Iter: 9/10 || Accuracy: 0.53 || AverageLoss: 0.7738 || Elapsed: 0.000628\n",
            "Epoch: 28 || Iter: 9/10 || Accuracy: 0.50 || AverageLoss: 0.7575 || Elapsed: 0.000661\n",
            "Epoch: 29 || Iter: 9/10 || Accuracy: 0.57 || AverageLoss: 0.7539 || Elapsed: 0.000546\n",
            "Epoch: 30 || Iter: 9/10 || Accuracy: 0.63 || AverageLoss: 0.7426 || Elapsed: 0.000550\n",
            "Epoch: 31 || Iter: 9/10 || Accuracy: 0.63 || AverageLoss: 0.7474 || Elapsed: 0.000664\n",
            "Epoch: 32 || Iter: 9/10 || Accuracy: 0.73 || AverageLoss: 0.7131 || Elapsed: 0.000696\n",
            "Epoch: 33 || Iter: 9/10 || Accuracy: 0.63 || AverageLoss: 0.7287 || Elapsed: 0.000654\n",
            "Epoch: 34 || Iter: 9/10 || Accuracy: 0.67 || AverageLoss: 0.7512 || Elapsed: 0.000723\n",
            "Epoch: 35 || Iter: 9/10 || Accuracy: 0.70 || AverageLoss: 0.6941 || Elapsed: 0.000689\n",
            "Epoch: 36 || Iter: 9/10 || Accuracy: 0.43 || AverageLoss: 0.7476 || Elapsed: 0.000759\n",
            "Epoch: 37 || Iter: 9/10 || Accuracy: 0.67 || AverageLoss: 0.7380 || Elapsed: 0.000750\n",
            "Epoch: 38 || Iter: 9/10 || Accuracy: 0.57 || AverageLoss: 0.7385 || Elapsed: 0.000779\n",
            "Epoch: 39 || Iter: 9/10 || Accuracy: 0.73 || AverageLoss: 0.7045 || Elapsed: 0.000754\n",
            "Epoch: 40 || Iter: 9/10 || Accuracy: 0.67 || AverageLoss: 0.7460 || Elapsed: 0.000720\n",
            "Epoch: 41 || Iter: 9/10 || Accuracy: 0.70 || AverageLoss: 0.7367 || Elapsed: 0.000686\n",
            "Epoch: 42 || Iter: 9/10 || Accuracy: 0.70 || AverageLoss: 0.7820 || Elapsed: 0.000637\n",
            "Epoch: 43 || Iter: 9/10 || Accuracy: 0.70 || AverageLoss: 0.7169 || Elapsed: 0.000719\n",
            "Epoch: 44 || Iter: 9/10 || Accuracy: 0.57 || AverageLoss: 0.7493 || Elapsed: 0.000694\n",
            "Epoch: 45 || Iter: 9/10 || Accuracy: 0.53 || AverageLoss: 0.7349 || Elapsed: 0.000683\n",
            "Epoch: 46 || Iter: 9/10 || Accuracy: 0.53 || AverageLoss: 0.6942 || Elapsed: 0.000687\n",
            "Epoch: 47 || Iter: 9/10 || Accuracy: 0.57 || AverageLoss: 0.7330 || Elapsed: 0.000620\n",
            "Epoch: 48 || Iter: 9/10 || Accuracy: 0.70 || AverageLoss: 0.7503 || Elapsed: 0.000634\n",
            "Epoch: 49 || Iter: 9/10 || Accuracy: 0.60 || AverageLoss: 0.7323 || Elapsed: 0.001148\n",
            "Epoch: 50 || Iter: 9/10 || Accuracy: 0.60 || AverageLoss: 0.7446 || Elapsed: 0.000777\n",
            "Epoch: 51 || Iter: 9/10 || Accuracy: 0.63 || AverageLoss: 0.7441 || Elapsed: 0.000809\n",
            "Epoch: 52 || Iter: 9/10 || Accuracy: 0.70 || AverageLoss: 0.7414 || Elapsed: 0.000812\n",
            "Epoch: 53 || Iter: 9/10 || Accuracy: 0.67 || AverageLoss: 0.6680 || Elapsed: 0.000803\n",
            "Epoch: 54 || Iter: 9/10 || Accuracy: 0.60 || AverageLoss: 0.6999 || Elapsed: 0.000857\n",
            "Epoch: 55 || Iter: 9/10 || Accuracy: 0.67 || AverageLoss: 0.6929 || Elapsed: 0.000917\n",
            "Epoch: 56 || Iter: 9/10 || Accuracy: 0.73 || AverageLoss: 0.6576 || Elapsed: 0.000881\n",
            "Epoch: 57 || Iter: 9/10 || Accuracy: 0.77 || AverageLoss: 0.6953 || Elapsed: 0.000573\n",
            "Epoch: 58 || Iter: 9/10 || Accuracy: 0.60 || AverageLoss: 0.7467 || Elapsed: 0.000594\n",
            "Epoch: 59 || Iter: 9/10 || Accuracy: 0.73 || AverageLoss: 0.7344 || Elapsed: 0.000710\n",
            "Epoch: 60 || Iter: 9/10 || Accuracy: 0.87 || AverageLoss: 0.6639 || Elapsed: 0.000696\n",
            "Epoch: 61 || Iter: 9/10 || Accuracy: 0.67 || AverageLoss: 0.7581 || Elapsed: 0.000693\n",
            "Epoch: 62 || Iter: 9/10 || Accuracy: 0.53 || AverageLoss: 0.6959 || Elapsed: 0.000691\n",
            "Epoch: 63 || Iter: 9/10 || Accuracy: 0.63 || AverageLoss: 0.7473 || Elapsed: 0.000680\n",
            "Epoch: 64 || Iter: 9/10 || Accuracy: 0.70 || AverageLoss: 0.6750 || Elapsed: 0.000628\n",
            "Epoch: 65 || Iter: 9/10 || Accuracy: 0.60 || AverageLoss: 0.6960 || Elapsed: 0.000666\n",
            "Epoch: 66 || Iter: 9/10 || Accuracy: 0.63 || AverageLoss: 0.6789 || Elapsed: 0.000712\n",
            "Epoch: 67 || Iter: 9/10 || Accuracy: 0.60 || AverageLoss: 0.7107 || Elapsed: 0.000811\n",
            "Epoch: 68 || Iter: 9/10 || Accuracy: 0.70 || AverageLoss: 0.6699 || Elapsed: 0.000715\n",
            "Epoch: 69 || Iter: 9/10 || Accuracy: 0.53 || AverageLoss: 0.7261 || Elapsed: 0.000670\n",
            "Epoch: 70 || Iter: 9/10 || Accuracy: 0.87 || AverageLoss: 0.6485 || Elapsed: 0.000694\n",
            "Epoch: 71 || Iter: 9/10 || Accuracy: 0.63 || AverageLoss: 0.6662 || Elapsed: 0.000658\n",
            "Epoch: 72 || Iter: 9/10 || Accuracy: 0.60 || AverageLoss: 0.6828 || Elapsed: 0.000638\n",
            "Epoch: 73 || Iter: 9/10 || Accuracy: 0.70 || AverageLoss: 0.6665 || Elapsed: 0.000640\n",
            "Epoch: 74 || Iter: 9/10 || Accuracy: 0.70 || AverageLoss: 0.6997 || Elapsed: 0.000864\n",
            "Epoch: 75 || Iter: 9/10 || Accuracy: 0.73 || AverageLoss: 0.6460 || Elapsed: 0.000687\n",
            "Epoch: 76 || Iter: 9/10 || Accuracy: 0.73 || AverageLoss: 0.6670 || Elapsed: 0.000720\n",
            "Epoch: 77 || Iter: 9/10 || Accuracy: 0.60 || AverageLoss: 0.6983 || Elapsed: 0.000759\n",
            "Epoch: 78 || Iter: 9/10 || Accuracy: 0.50 || AverageLoss: 0.6640 || Elapsed: 0.000678\n",
            "Epoch: 79 || Iter: 9/10 || Accuracy: 0.77 || AverageLoss: 0.6535 || Elapsed: 0.004109\n",
            "Epoch: 80 || Iter: 9/10 || Accuracy: 0.77 || AverageLoss: 0.6253 || Elapsed: 0.000591\n",
            "Epoch: 81 || Iter: 9/10 || Accuracy: 0.73 || AverageLoss: 0.7071 || Elapsed: 0.000687\n",
            "Epoch: 82 || Iter: 9/10 || Accuracy: 0.50 || AverageLoss: 0.6256 || Elapsed: 0.000624\n",
            "Epoch: 83 || Iter: 9/10 || Accuracy: 0.77 || AverageLoss: 0.5758 || Elapsed: 0.000691\n",
            "Epoch: 84 || Iter: 9/10 || Accuracy: 0.80 || AverageLoss: 0.6038 || Elapsed: 0.000683\n",
            "Epoch: 85 || Iter: 9/10 || Accuracy: 0.77 || AverageLoss: 0.6321 || Elapsed: 0.000743\n",
            "Epoch: 86 || Iter: 9/10 || Accuracy: 0.63 || AverageLoss: 0.5873 || Elapsed: 0.000663\n",
            "Epoch: 87 || Iter: 9/10 || Accuracy: 0.70 || AverageLoss: 0.6338 || Elapsed: 0.000701\n",
            "Epoch: 88 || Iter: 9/10 || Accuracy: 0.57 || AverageLoss: 0.7221 || Elapsed: 0.000771\n",
            "Epoch: 89 || Iter: 9/10 || Accuracy: 0.57 || AverageLoss: 0.7163 || Elapsed: 0.000639\n",
            "Epoch: 90 || Iter: 9/10 || Accuracy: 0.70 || AverageLoss: 0.5965 || Elapsed: 0.000648\n",
            "Epoch: 91 || Iter: 9/10 || Accuracy: 0.67 || AverageLoss: 0.6026 || Elapsed: 0.000686\n",
            "Epoch: 92 || Iter: 9/10 || Accuracy: 0.67 || AverageLoss: 0.6023 || Elapsed: 0.000691\n",
            "Epoch: 93 || Iter: 9/10 || Accuracy: 0.60 || AverageLoss: 0.5906 || Elapsed: 0.000636\n",
            "Epoch: 94 || Iter: 9/10 || Accuracy: 0.63 || AverageLoss: 0.6684 || Elapsed: 0.000732\n",
            "Epoch: 95 || Iter: 9/10 || Accuracy: 0.53 || AverageLoss: 0.6262 || Elapsed: 0.000735\n",
            "Epoch: 96 || Iter: 9/10 || Accuracy: 0.87 || AverageLoss: 0.6713 || Elapsed: 0.000694\n",
            "Epoch: 97 || Iter: 9/10 || Accuracy: 0.67 || AverageLoss: 0.6054 || Elapsed: 0.000691\n",
            "Epoch: 98 || Iter: 9/10 || Accuracy: 0.60 || AverageLoss: 0.6852 || Elapsed: 0.000757\n",
            "Epoch: 99 || Iter: 9/10 || Accuracy: 0.77 || AverageLoss: 0.6287 || Elapsed: 0.000763\n",
            "Epoch: 100 || Iter: 9/10 || Accuracy: 0.83 || AverageLoss: 0.5881 || Elapsed: 0.000646\n",
            "Epoch: 101 || Iter: 9/10 || Accuracy: 0.73 || AverageLoss: 0.6860 || Elapsed: 0.000739\n",
            "Epoch: 102 || Iter: 9/10 || Accuracy: 0.80 || AverageLoss: 0.5708 || Elapsed: 0.000741\n",
            "Epoch: 103 || Iter: 9/10 || Accuracy: 0.70 || AverageLoss: 0.6265 || Elapsed: 0.000664\n",
            "Epoch: 104 || Iter: 9/10 || Accuracy: 0.47 || AverageLoss: 0.6034 || Elapsed: 0.000639\n",
            "Epoch: 105 || Iter: 9/10 || Accuracy: 0.77 || AverageLoss: 0.5789 || Elapsed: 0.000655\n",
            "Epoch: 106 || Iter: 9/10 || Accuracy: 0.57 || AverageLoss: 0.5884 || Elapsed: 0.000661\n",
            "Epoch: 107 || Iter: 9/10 || Accuracy: 0.70 || AverageLoss: 0.5714 || Elapsed: 0.000677\n",
            "Epoch: 108 || Iter: 9/10 || Accuracy: 0.73 || AverageLoss: 0.6003 || Elapsed: 0.000691\n",
            "Epoch: 109 || Iter: 9/10 || Accuracy: 0.80 || AverageLoss: 0.6241 || Elapsed: 0.000720\n",
            "Epoch: 110 || Iter: 9/10 || Accuracy: 0.77 || AverageLoss: 0.5619 || Elapsed: 0.000686\n",
            "Epoch: 111 || Iter: 9/10 || Accuracy: 0.67 || AverageLoss: 0.6197 || Elapsed: 0.000714\n",
            "Epoch: 112 || Iter: 9/10 || Accuracy: 0.63 || AverageLoss: 0.5977 || Elapsed: 0.000726\n",
            "Epoch: 113 || Iter: 9/10 || Accuracy: 0.67 || AverageLoss: 0.5734 || Elapsed: 0.000786\n",
            "Epoch: 114 || Iter: 9/10 || Accuracy: 0.77 || AverageLoss: 0.6132 || Elapsed: 0.000692\n",
            "Epoch: 115 || Iter: 9/10 || Accuracy: 0.60 || AverageLoss: 0.5939 || Elapsed: 0.000695\n",
            "Epoch: 116 || Iter: 9/10 || Accuracy: 0.80 || AverageLoss: 0.5790 || Elapsed: 0.000675\n",
            "Epoch: 117 || Iter: 9/10 || Accuracy: 0.83 || AverageLoss: 0.5714 || Elapsed: 0.000701\n",
            "Epoch: 118 || Iter: 9/10 || Accuracy: 0.63 || AverageLoss: 0.6209 || Elapsed: 0.000700\n",
            "Epoch: 119 || Iter: 9/10 || Accuracy: 0.77 || AverageLoss: 0.6002 || Elapsed: 0.000753\n",
            "Epoch: 120 || Iter: 9/10 || Accuracy: 0.63 || AverageLoss: 0.5487 || Elapsed: 0.000677\n",
            "Epoch: 121 || Iter: 9/10 || Accuracy: 0.87 || AverageLoss: 0.5426 || Elapsed: 0.000751\n",
            "Epoch: 122 || Iter: 9/10 || Accuracy: 0.87 || AverageLoss: 0.5763 || Elapsed: 0.000658\n",
            "Epoch: 123 || Iter: 9/10 || Accuracy: 0.57 || AverageLoss: 0.5623 || Elapsed: 0.000672\n",
            "Epoch: 124 || Iter: 9/10 || Accuracy: 0.53 || AverageLoss: 0.6473 || Elapsed: 0.000655\n",
            "Epoch: 125 || Iter: 9/10 || Accuracy: 0.80 || AverageLoss: 0.5758 || Elapsed: 0.000649\n",
            "Epoch: 126 || Iter: 9/10 || Accuracy: 0.77 || AverageLoss: 0.5426 || Elapsed: 0.000613\n",
            "Epoch: 127 || Iter: 9/10 || Accuracy: 0.77 || AverageLoss: 0.5386 || Elapsed: 0.000648\n",
            "Epoch: 128 || Iter: 9/10 || Accuracy: 0.83 || AverageLoss: 0.5655 || Elapsed: 0.002433\n",
            "Epoch: 129 || Iter: 9/10 || Accuracy: 0.77 || AverageLoss: 0.5817 || Elapsed: 0.000676\n",
            "Epoch: 130 || Iter: 9/10 || Accuracy: 0.73 || AverageLoss: 0.5935 || Elapsed: 0.000922\n",
            "Epoch: 131 || Iter: 9/10 || Accuracy: 0.83 || AverageLoss: 0.5381 || Elapsed: 0.003744\n",
            "Epoch: 132 || Iter: 9/10 || Accuracy: 0.77 || AverageLoss: 0.5831 || Elapsed: 0.000756\n",
            "Epoch: 133 || Iter: 9/10 || Accuracy: 0.73 || AverageLoss: 0.6118 || Elapsed: 0.000792\n",
            "Epoch: 134 || Iter: 9/10 || Accuracy: 0.70 || AverageLoss: 0.6125 || Elapsed: 0.000730\n",
            "Epoch: 135 || Iter: 9/10 || Accuracy: 0.60 || AverageLoss: 0.5322 || Elapsed: 0.000681\n",
            "Epoch: 136 || Iter: 9/10 || Accuracy: 0.67 || AverageLoss: 0.5001 || Elapsed: 0.000793\n",
            "Epoch: 137 || Iter: 9/10 || Accuracy: 0.80 || AverageLoss: 0.5346 || Elapsed: 0.000702\n",
            "Epoch: 138 || Iter: 9/10 || Accuracy: 0.77 || AverageLoss: 0.5737 || Elapsed: 0.000689\n",
            "Epoch: 139 || Iter: 9/10 || Accuracy: 0.80 || AverageLoss: 0.4736 || Elapsed: 0.000672\n",
            "Epoch: 140 || Iter: 9/10 || Accuracy: 0.67 || AverageLoss: 0.4886 || Elapsed: 0.000694\n",
            "Epoch: 141 || Iter: 9/10 || Accuracy: 0.63 || AverageLoss: 0.6046 || Elapsed: 0.000727\n",
            "Epoch: 142 || Iter: 9/10 || Accuracy: 0.70 || AverageLoss: 0.5751 || Elapsed: 0.000715\n",
            "Epoch: 143 || Iter: 9/10 || Accuracy: 0.57 || AverageLoss: 0.6008 || Elapsed: 0.000732\n",
            "Epoch: 144 || Iter: 9/10 || Accuracy: 0.80 || AverageLoss: 0.5456 || Elapsed: 0.000688\n",
            "Epoch: 145 || Iter: 9/10 || Accuracy: 0.83 || AverageLoss: 0.5077 || Elapsed: 0.000641\n",
            "Epoch: 146 || Iter: 9/10 || Accuracy: 0.73 || AverageLoss: 0.6289 || Elapsed: 0.000681\n",
            "Epoch: 147 || Iter: 9/10 || Accuracy: 0.60 || AverageLoss: 0.6627 || Elapsed: 0.000725\n",
            "Epoch: 148 || Iter: 9/10 || Accuracy: 0.90 || AverageLoss: 0.5305 || Elapsed: 0.000628\n",
            "Epoch: 149 || Iter: 9/10 || Accuracy: 0.83 || AverageLoss: 0.5537 || Elapsed: 0.000634\n",
            "Epoch: 150 || Iter: 9/10 || Accuracy: 0.80 || AverageLoss: 0.5134 || Elapsed: 0.000650\n",
            "Epoch: 151 || Iter: 9/10 || Accuracy: 0.60 || AverageLoss: 0.5654 || Elapsed: 0.000657\n",
            "Epoch: 152 || Iter: 9/10 || Accuracy: 0.93 || AverageLoss: 0.5701 || Elapsed: 0.000735\n",
            "Epoch: 153 || Iter: 9/10 || Accuracy: 0.70 || AverageLoss: 0.5773 || Elapsed: 0.000725\n",
            "Epoch: 154 || Iter: 9/10 || Accuracy: 0.83 || AverageLoss: 0.5853 || Elapsed: 0.000759\n",
            "Epoch: 155 || Iter: 9/10 || Accuracy: 0.77 || AverageLoss: 0.5609 || Elapsed: 0.000788\n",
            "Epoch: 156 || Iter: 9/10 || Accuracy: 0.67 || AverageLoss: 0.6172 || Elapsed: 0.000679\n",
            "Epoch: 157 || Iter: 9/10 || Accuracy: 0.83 || AverageLoss: 0.5788 || Elapsed: 0.000755\n",
            "Epoch: 158 || Iter: 9/10 || Accuracy: 0.80 || AverageLoss: 0.5461 || Elapsed: 0.000627\n",
            "Epoch: 159 || Iter: 9/10 || Accuracy: 0.67 || AverageLoss: 0.5678 || Elapsed: 0.000687\n",
            "Epoch: 160 || Iter: 9/10 || Accuracy: 0.83 || AverageLoss: 0.5634 || Elapsed: 0.000654\n",
            "Epoch: 161 || Iter: 9/10 || Accuracy: 0.73 || AverageLoss: 0.5055 || Elapsed: 0.000642\n",
            "Epoch: 162 || Iter: 9/10 || Accuracy: 0.73 || AverageLoss: 0.5297 || Elapsed: 0.000663\n",
            "Epoch: 163 || Iter: 9/10 || Accuracy: 0.73 || AverageLoss: 0.6721 || Elapsed: 0.000688\n",
            "Epoch: 164 || Iter: 9/10 || Accuracy: 0.70 || AverageLoss: 0.5748 || Elapsed: 0.000733\n",
            "Epoch: 165 || Iter: 9/10 || Accuracy: 0.83 || AverageLoss: 0.5217 || Elapsed: 0.000750\n",
            "Epoch: 166 || Iter: 9/10 || Accuracy: 0.73 || AverageLoss: 0.5222 || Elapsed: 0.003458\n",
            "Epoch: 167 || Iter: 9/10 || Accuracy: 0.73 || AverageLoss: 0.5357 || Elapsed: 0.000693\n",
            "Epoch: 168 || Iter: 9/10 || Accuracy: 0.73 || AverageLoss: 0.5362 || Elapsed: 0.000728\n",
            "Epoch: 169 || Iter: 9/10 || Accuracy: 0.83 || AverageLoss: 0.4747 || Elapsed: 0.000739\n",
            "Epoch: 170 || Iter: 9/10 || Accuracy: 0.90 || AverageLoss: 0.4735 || Elapsed: 0.001013\n",
            "Epoch: 171 || Iter: 9/10 || Accuracy: 0.83 || AverageLoss: 0.5344 || Elapsed: 0.000769\n",
            "Epoch: 172 || Iter: 9/10 || Accuracy: 0.60 || AverageLoss: 0.4748 || Elapsed: 0.000650\n",
            "Epoch: 173 || Iter: 9/10 || Accuracy: 0.80 || AverageLoss: 0.5733 || Elapsed: 0.000665\n",
            "Epoch: 174 || Iter: 9/10 || Accuracy: 0.73 || AverageLoss: 0.5470 || Elapsed: 0.000669\n",
            "Epoch: 175 || Iter: 9/10 || Accuracy: 0.87 || AverageLoss: 0.5246 || Elapsed: 0.000683\n",
            "Epoch: 176 || Iter: 9/10 || Accuracy: 0.97 || AverageLoss: 0.5454 || Elapsed: 0.000709\n",
            "Epoch: 177 || Iter: 9/10 || Accuracy: 0.57 || AverageLoss: 0.6310 || Elapsed: 0.000694\n",
            "Epoch: 178 || Iter: 9/10 || Accuracy: 0.90 || AverageLoss: 0.5796 || Elapsed: 0.000716\n",
            "Epoch: 179 || Iter: 9/10 || Accuracy: 0.90 || AverageLoss: 0.5199 || Elapsed: 0.000685\n",
            "Epoch: 180 || Iter: 9/10 || Accuracy: 0.77 || AverageLoss: 0.5863 || Elapsed: 0.000656\n",
            "Epoch: 181 || Iter: 9/10 || Accuracy: 0.93 || AverageLoss: 0.4572 || Elapsed: 0.000672\n",
            "Epoch: 182 || Iter: 9/10 || Accuracy: 0.73 || AverageLoss: 0.5097 || Elapsed: 0.000713\n",
            "Epoch: 183 || Iter: 9/10 || Accuracy: 0.80 || AverageLoss: 0.4924 || Elapsed: 0.000669\n",
            "Epoch: 184 || Iter: 9/10 || Accuracy: 0.83 || AverageLoss: 0.5849 || Elapsed: 0.000664\n",
            "Epoch: 185 || Iter: 9/10 || Accuracy: 0.83 || AverageLoss: 0.5610 || Elapsed: 0.000603\n",
            "Epoch: 186 || Iter: 9/10 || Accuracy: 0.60 || AverageLoss: 0.5015 || Elapsed: 0.000639\n",
            "Epoch: 187 || Iter: 9/10 || Accuracy: 0.73 || AverageLoss: 0.4558 || Elapsed: 0.000565\n",
            "Epoch: 188 || Iter: 9/10 || Accuracy: 0.77 || AverageLoss: 0.5028 || Elapsed: 0.000703\n",
            "Epoch: 189 || Iter: 9/10 || Accuracy: 0.70 || AverageLoss: 0.5213 || Elapsed: 0.000556\n",
            "Epoch: 190 || Iter: 9/10 || Accuracy: 0.70 || AverageLoss: 0.4840 || Elapsed: 0.000740\n",
            "Epoch: 191 || Iter: 9/10 || Accuracy: 0.77 || AverageLoss: 0.5297 || Elapsed: 0.000652\n",
            "Epoch: 192 || Iter: 9/10 || Accuracy: 0.90 || AverageLoss: 0.5953 || Elapsed: 0.000676\n",
            "Epoch: 193 || Iter: 9/10 || Accuracy: 0.80 || AverageLoss: 0.4504 || Elapsed: 0.000688\n",
            "Epoch: 194 || Iter: 9/10 || Accuracy: 0.67 || AverageLoss: 0.6049 || Elapsed: 0.000747\n",
            "Epoch: 195 || Iter: 9/10 || Accuracy: 0.67 || AverageLoss: 0.6609 || Elapsed: 0.000668\n",
            "Epoch: 196 || Iter: 9/10 || Accuracy: 0.73 || AverageLoss: 0.4752 || Elapsed: 0.000685\n",
            "Epoch: 197 || Iter: 9/10 || Accuracy: 0.77 || AverageLoss: 0.4695 || Elapsed: 0.000674\n",
            "Epoch: 198 || Iter: 9/10 || Accuracy: 0.87 || AverageLoss: 0.5785 || Elapsed: 0.000685\n",
            "Epoch: 199 || Iter: 9/10 || Accuracy: 0.80 || AverageLoss: 0.5439 || Elapsed: 0.000646\n"
          ],
          "name": "stdout"
        }
      ]
    },
    {
      "cell_type": "code",
      "metadata": {
        "id": "k77l3EwxOKAg",
        "colab_type": "code",
        "colab": {
          "base_uri": "https://localhost:8080/",
          "height": 255
        },
        "outputId": "6b3320d3-7ebe-4d94-dfec-70b6b772a39e"
      },
      "source": [
        "t.argmax(axis=1)"
      ],
      "execution_count": 23,
      "outputs": [
        {
          "output_type": "execute_result",
          "data": {
            "text/plain": [
              "array([0, 0, 0, 0, 0, 0, 0, 0, 0, 0, 0, 0, 0, 0, 0, 0, 0, 0, 0, 0, 0, 0,\n",
              "       0, 0, 0, 0, 0, 0, 0, 0, 0, 0, 0, 0, 0, 0, 0, 0, 0, 0, 0, 0, 0, 0,\n",
              "       0, 0, 0, 0, 0, 0, 0, 0, 0, 0, 0, 0, 0, 0, 0, 0, 0, 0, 0, 0, 0, 0,\n",
              "       0, 0, 0, 0, 0, 0, 0, 0, 0, 0, 0, 0, 0, 0, 0, 0, 0, 0, 0, 0, 0, 0,\n",
              "       0, 0, 0, 0, 0, 0, 0, 0, 0, 0, 0, 0, 1, 1, 1, 1, 1, 1, 1, 1, 1, 1,\n",
              "       1, 1, 1, 1, 1, 1, 1, 1, 1, 1, 1, 1, 1, 1, 1, 1, 1, 1, 1, 1, 1, 1,\n",
              "       1, 1, 1, 1, 1, 1, 1, 1, 1, 1, 1, 1, 1, 1, 1, 1, 1, 1, 1, 1, 1, 1,\n",
              "       1, 1, 1, 1, 1, 1, 1, 1, 1, 1, 1, 1, 1, 1, 1, 1, 1, 1, 1, 1, 1, 1,\n",
              "       1, 1, 1, 1, 1, 1, 1, 1, 1, 1, 1, 1, 1, 1, 1, 1, 1, 1, 1, 1, 1, 1,\n",
              "       1, 1, 2, 2, 2, 2, 2, 2, 2, 2, 2, 2, 2, 2, 2, 2, 2, 2, 2, 2, 2, 2,\n",
              "       2, 2, 2, 2, 2, 2, 2, 2, 2, 2, 2, 2, 2, 2, 2, 2, 2, 2, 2, 2, 2, 2,\n",
              "       2, 2, 2, 2, 2, 2, 2, 2, 2, 2, 2, 2, 2, 2, 2, 2, 2, 2, 2, 2, 2, 2,\n",
              "       2, 2, 2, 2, 2, 2, 2, 2, 2, 2, 2, 2, 2, 2, 2, 2, 2, 2, 2, 2, 2, 2,\n",
              "       2, 2, 2, 2, 2, 2, 2, 2, 2, 2, 2, 2, 2, 2])"
            ]
          },
          "metadata": {
            "tags": []
          },
          "execution_count": 23
        }
      ]
    },
    {
      "cell_type": "code",
      "metadata": {
        "id": "PLxE2q1fQONL",
        "colab_type": "code",
        "colab": {
          "base_uri": "https://localhost:8080/",
          "height": 300
        },
        "outputId": "c00360c8-8956-4e6d-c271-cfb99fb548a0"
      },
      "source": [
        "# Plot Loss ----------------------------\n",
        "fig, axes = plt.subplots(1,2)\n",
        "axes[0].plot(np.arange(len(loss_list)), loss_list, label='train')\n",
        "axes[0].set_title('Loss Plots', fontsize=20)\n",
        "axes[0].set_xlabel('Iteration (x10)')\n",
        "axes[0].set_ylabel('Loss')\n",
        "\n",
        "# Decision Boundary \n",
        "x, t = load_data(0) # Test dataset\n",
        "\n",
        "h = 0.001\n",
        "x_min, x_max = x[:, 0].min() - .1, x[:, 0].max() + .1\n",
        "y_min, y_max = x[:, 1].min() - .1, x[:, 1].max() + .1\n",
        "xx, yy = np.meshgrid(np.arange(x_min, x_max, h), np.arange(y_min, y_max, h))\n",
        "X = np.c_[xx.ravel(), yy.ravel()]\n",
        "X = torch.Tensor(X)\n",
        "\n",
        "with torch.no_grad():\n",
        "  model.eval() # turn off dropout and batch_norm\n",
        "  score = model.forward(X)\n",
        "predict_cls = np.argmax(score.data.numpy(), axis=1)\n",
        "Z = predict_cls.reshape(xx.shape)\n",
        "axes[1].set_title('Decision Boundary', fontsize=20)\n",
        "axes[1].contourf(xx, yy, Z)\n",
        "axes[1].axis('off')\n",
        "\n",
        "# Plot Data \n",
        "N = 100\n",
        "CLS_NUM = 3\n",
        "markers = ['o', 'x', '^']\n",
        "for i in range(CLS_NUM):\n",
        "    axes[1].scatter(x[i*N:(i+1)*N, 0], x[i*N:(i+1)*N, 1], s=40, marker=markers[i])\n",
        "plt.show()"
      ],
      "execution_count": 29,
      "outputs": [
        {
          "output_type": "display_data",
          "data": {
            "image/png": "[encoded data removed]",
            "text/plain": [
              "<Figure size 432x288 with 2 Axes>"
            ]
          },
          "metadata": {
            "tags": []
          }
        }
      ]
    }
  ]
}