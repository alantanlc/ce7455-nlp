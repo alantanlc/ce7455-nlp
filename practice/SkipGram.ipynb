{
  "nbformat": 4,
  "nbformat_minor": 0,
  "metadata": {
    "kernelspec": {
      "name": "python3",
      "display_name": "Python 3"
    },
    "language_info": {
      "codemirror_mode": {
        "name": "ipython",
        "version": 3
      },
      "file_extension": ".py",
      "mimetype": "text/x-python",
      "name": "python",
      "nbconvert_exporter": "python",
      "pygments_lexer": "ipython3",
      "version": "3.7.4"
    },
    "colab": {
      "name": "SkipGram.ipynb",
      "provenance": [],
      "include_colab_link": true
    },
    "accelerator": "GPU"
  },
  "cells": [
    {
      "cell_type": "markdown",
      "metadata": {
        "id": "view-in-github",
        "colab_type": "text"
      },
      "source": [
        "<a href=\"https://colab.research.google.com/github/alanwuha/ce7455-nlp/blob/master/practice/SkipGram.ipynb\" target=\"_parent\"><img src=\"https://colab.research.google.com/assets/colab-badge.svg\" alt=\"Open In Colab\"/></a>"
      ]
    },
    {
      "cell_type": "markdown",
      "metadata": {
        "id": "O5u9NLEgqwK9",
        "colab_type": "text"
      },
      "source": [
        "# Skip Gram\n",
        "- [Ref](https://blog.cambridgespark.com/tutorial-build-your-own-embedding-and-use-it-in-a-neural-network-e9cde4a81296?gi=1cb19fad9b7a)\n",
        "- [Code](https://github.com/DSKSD/DeepNLP-models-Pytorch/blob/master/notebooks/02.Skip-gram-Negative-Sampling.ipynb)\n",
        "- Edited by Hancheol Moon\n",
        "\n",
        "![skip-gram](https://cdn-images-1.medium.com/max/800/1*SR6l59udY05_bUICAjb6-w.png)\n",
        "\n",
        "- Skip-gram's objective is to predict the contexts, given a target word: V_t -> V_c\n",
        "- The contexts are immediate neighbours of the target and are retrieved using a window of an arbitrary size _n_\n",
        "  - Capturing _n_ words to the left of the target and _n_ words to its right.\n",
        "- In a two-gram example:\n",
        "\n",
        "![two-gram](https://nbviewer.jupyter.org/github/DSKSD/DeepNLP-models-Pytorch/blob/master/images/01.skipgram-prepare-data.png)\n",
        "\n",
        "- The original Skip-grams' objective is to maximize P(V_c|V_c): The probability of V_c being predicted as V_t's context for all training pairs.\n",
        "- To calculate P(V_c|V_t) we need a way to quantify the __closeness__ of the target-word around the context-word.\n",
        "- In Skip-gram, this closeness is computed using the __dot product between the input-embedding of the target and the output-embedding of the context__.\n",
        "\n",
        "Now, if we define u_t,c to be the measure of words' closeness between the target word and context word, _E_ to be the embedding matrix holding input-embeddings and _O_ to be the output-embedding matrix we get:\n",
        "\n",
        "u_t,c = E_t O_c\n",
        "\n",
        ", where _c_ is the context and _t_ is the target. With softmax,\n",
        "\n",
        "![architecture](https://cdn-images-1.medium.com/max/1600/1*4Viy_LvP6jLIWSvB9-Fk-Q.png)\n",
        "\n",
        "# Negative Sampling\n",
        "\n",
        "So far, we have studied the basics of Skip-gram, but there is an issue with the __original softmax objective of Skip-gram__. It is __highly computationally expensive__:\n",
        "- It requires scanning through the output-embeddings of all words in the vocabulary in order to calculate the sum from the __denominator__.\n",
        "- Typically such vocabularies contain hundreds of thousands of words.\n",
        "Because of this inefficiency, most implementations use an alternative, _negative-sampling objective_, which rephrases the problem as a set of independent binary classification tasks.\n",
        "\n",
        "Instead of defining the complete probability distribution over words, __the model learns to distinguish the correct training pairs from incorrect pairs, which are randomly generated pairs.__\n",
        "- Negative pair: Keep V_t and sample V_c from noise distribution\n",
        "- D: correct pairs\n",
        "- D': all negatively sampled |D| x m pairs\n",
        "- P(C = 1 | V_t, V_c): the probability of (V_t, V_t) being a correct pair\n",
        "\n",
        "For each sample we are making a binary decision we define P(C = 1|V_t, V_c) using the sigmoid function.\n",
        "\n",
        "Negative (context) samples are drawn from uniform distribution raised to the power of 3/4. Why? If you play with some sample values, you'll find that, compared to the simpler equation, this one has the tendency to increase the probability for less frequent words and decrease the probability for more frequent words.\n",
        "\n",
        "P(w) = Unif(W)^3/4 / Z,\n",
        "\n",
        "where Z is the normalization factor.\n",
        "\n",
        "__Sampling-based approaches completely do away with the softmax layer.__ They do this by approximating the normalization in the denominator of the softmax with some other loss that is cheap to compute. __However, sampling-based approaches are only useful at training time - - during inference, the full softmax still needs to be computed to obtain a normalised probability."
      ]
    },
    {
      "cell_type": "code",
      "metadata": {
        "id": "bSOeCNWGiNdz",
        "colab_type": "code",
        "colab": {}
      },
      "source": [
        "import torch\n",
        "import torch.nn as nn\n",
        "import torch.optim as optim\n",
        "import torch.nn.functional\n",
        "\n",
        "import nltk\n",
        "import random\n",
        "import numpy as np\n",
        "from collections import Counter\n",
        "\n",
        "import pdb\n",
        "\n",
        "flatten = lambda l: [item for sublist in l for item in sublist]\n",
        "random.seed(1024)"
      ],
      "execution_count": 0,
      "outputs": []
    },
    {
      "cell_type": "code",
      "metadata": {
        "id": "vZHMuScZihA9",
        "colab_type": "code",
        "colab": {}
      },
      "source": [
        "def getBatch(batch_size, train_data):\n",
        "  random.shuffle(train_data) # Shuffling is necessary. Why?\n",
        "  sindex = 0\n",
        "  eindex = batch_size\n",
        "  while eindex < len(train_data):\n",
        "    batch = train_data[sindex:eindex]\n",
        "    temp = eindex\n",
        "    eindex = eindex + batch_size\n",
        "    sindex = temp\n",
        "    yield batch\n",
        "\n",
        "  if eindex >= len(train_data):\n",
        "    batch = train_data[sindex:]\n",
        "    yield batch"
      ],
      "execution_count": 0,
      "outputs": []
    },
    {
      "cell_type": "code",
      "metadata": {
        "id": "qLZlEtR2mUQm",
        "colab_type": "code",
        "colab": {}
      },
      "source": [
        "def prepare_sequence(seq, word2index):\n",
        "  l = lambda w: word2index[w] if word2index.get(w) is not None else word2index['<UNK>']\n",
        "  idxs = list(map(l, seq))\n",
        "  return torch.Tensor(idxs).type(torch.LongTensor)\n",
        "\n",
        "def prepare_word(word, word2index):\n",
        "  return torch.Tensor([word2index[word]]).type(torch.LongTensor) if word2index.get(word) is not None else torch.LongTensor([word2index['<UNK>']])"
      ],
      "execution_count": 0,
      "outputs": []
    },
    {
      "cell_type": "code",
      "metadata": {
        "id": "Idcm6jF0oSGd",
        "colab_type": "code",
        "colab": {
          "base_uri": "https://localhost:8080/",
          "height": 102
        },
        "outputId": "e80084ce-9278-4e3b-ddda-a5972797bb5b"
      },
      "source": [
        "nltk.download('punkt')\n",
        "nltk.download('gutenberg')"
      ],
      "execution_count": 32,
      "outputs": [
        {
          "output_type": "stream",
          "text": [
            "[nltk_data] Downloading package punkt to /root/nltk_data...\n",
            "[nltk_data]   Package punkt is already up-to-date!\n",
            "[nltk_data] Downloading package gutenberg to /root/nltk_data...\n",
            "[nltk_data]   Package gutenberg is already up-to-date!\n"
          ],
          "name": "stdout"
        },
        {
          "output_type": "execute_result",
          "data": {
            "text/plain": [
              "True"
            ]
          },
          "metadata": {
            "tags": []
          },
          "execution_count": 32
        }
      ]
    },
    {
      "cell_type": "code",
      "metadata": {
        "id": "CGYhsYM0oqDe",
        "colab_type": "code",
        "colab": {
          "base_uri": "https://localhost:8080/",
          "height": 323
        },
        "outputId": "e2ad711a-058c-4dee-99b1-a5029c002ca8"
      },
      "source": [
        "nltk.corpus.gutenberg.fileids()"
      ],
      "execution_count": 33,
      "outputs": [
        {
          "output_type": "execute_result",
          "data": {
            "text/plain": [
              "['austen-emma.txt',\n",
              " 'austen-persuasion.txt',\n",
              " 'austen-sense.txt',\n",
              " 'bible-kjv.txt',\n",
              " 'blake-poems.txt',\n",
              " 'bryant-stories.txt',\n",
              " 'burgess-busterbrown.txt',\n",
              " 'carroll-alice.txt',\n",
              " 'chesterton-ball.txt',\n",
              " 'chesterton-brown.txt',\n",
              " 'chesterton-thursday.txt',\n",
              " 'edgeworth-parents.txt',\n",
              " 'melville-moby_dick.txt',\n",
              " 'milton-paradise.txt',\n",
              " 'shakespeare-caesar.txt',\n",
              " 'shakespeare-hamlet.txt',\n",
              " 'shakespeare-macbeth.txt',\n",
              " 'whitman-leaves.txt']"
            ]
          },
          "metadata": {
            "tags": []
          },
          "execution_count": 33
        }
      ]
    },
    {
      "cell_type": "code",
      "metadata": {
        "id": "vO8wr1ZAotaa",
        "colab_type": "code",
        "colab": {}
      },
      "source": [
        "corpus = list(nltk.corpus.gutenberg.sents('melville-moby_dick.txt'))[:500] # sampling sentences for test\n",
        "corpus = [[word.lower() for word in sent] for sent in corpus]"
      ],
      "execution_count": 0,
      "outputs": []
    },
    {
      "cell_type": "code",
      "metadata": {
        "id": "-RlOV7nepKRu",
        "colab_type": "code",
        "colab": {
          "base_uri": "https://localhost:8080/",
          "height": 51
        },
        "outputId": "d73225b5-0fb4-4535-e14d-4352fa80c1a9"
      },
      "source": [
        "print(len(corpus))\n",
        "print(corpus[0], len(corpus[0]))"
      ],
      "execution_count": 35,
      "outputs": [
        {
          "output_type": "stream",
          "text": [
            "500\n",
            "['[', 'moby', 'dick', 'by', 'herman', 'melville', '1851', ']'] 8\n"
          ],
          "name": "stdout"
        }
      ]
    },
    {
      "cell_type": "code",
      "metadata": {
        "id": "Eyi7hDE8rIUp",
        "colab_type": "code",
        "colab": {}
      },
      "source": [
        "# Exclude sparse words\n",
        "MIN_COUNT = 3\n",
        "word_count = Counter(flatten(corpus))\n",
        "exclude = []\n",
        "for w, c in word_count.items():\n",
        "  if c < MIN_COUNT:\n",
        "    exclude.append(w)"
      ],
      "execution_count": 0,
      "outputs": []
    },
    {
      "cell_type": "code",
      "metadata": {
        "id": "c73uKKLrsLmU",
        "colab_type": "code",
        "colab": {
          "base_uri": "https://localhost:8080/",
          "height": 34
        },
        "outputId": "bb5e2027-dac4-4c6f-adfa-2a9ec5c4ebcb"
      },
      "source": [
        "vocab = list(set(flatten(corpus)) - set(exclude))\n",
        "vocab.append('<UNK>')\n",
        "len(vocab)"
      ],
      "execution_count": 52,
      "outputs": [
        {
          "output_type": "execute_result",
          "data": {
            "text/plain": [
              "479"
            ]
          },
          "metadata": {
            "tags": []
          },
          "execution_count": 52
        }
      ]
    },
    {
      "cell_type": "code",
      "metadata": {
        "id": "zQaDrQ-rseDx",
        "colab_type": "code",
        "colab": {}
      },
      "source": [
        "word2index = {'<UNK>': 0}\n",
        "\n",
        "for vo in vocab:\n",
        "  if word2index.get(vo) is None:\n",
        "    word2index[vo] = len(word2index)\n",
        "\n",
        "  index2word = {v:k for k, v in word2index.items()}"
      ],
      "execution_count": 0,
      "outputs": []
    },
    {
      "cell_type": "code",
      "metadata": {
        "id": "cBMeGloPs2CF",
        "colab_type": "code",
        "colab": {}
      },
      "source": [
        "WINDOW_SIZE = 5 # Range of contexts\n",
        "windows = flatten([list(nltk.ngrams(['<DUMMY>'] * WINDOW_SIZE + c + ['<DUMMY>'] * WINDOW_SIZE,\n",
        "                                    WINDOW_SIZE * 2 + 1)) for c in corpus])"
      ],
      "execution_count": 0,
      "outputs": []
    },
    {
      "cell_type": "code",
      "metadata": {
        "id": "OLrnhh9ItPDn",
        "colab_type": "code",
        "colab": {
          "base_uri": "https://localhost:8080/",
          "height": 51
        },
        "outputId": "1a5009c8-ed3b-4038-92dc-6dc5842cd80f"
      },
      "source": [
        "print(windows[0])\n",
        "print(windows[1])"
      ],
      "execution_count": 68,
      "outputs": [
        {
          "output_type": "stream",
          "text": [
            "('<DUMMY>', '<DUMMY>', '<DUMMY>', '<DUMMY>', '<DUMMY>', '[', 'moby', 'dick', 'by', 'herman', 'melville')\n",
            "('<DUMMY>', '<DUMMY>', '<DUMMY>', '<DUMMY>', '[', 'moby', 'dick', 'by', 'herman', 'melville', '1851')\n"
          ],
          "name": "stdout"
        }
      ]
    },
    {
      "cell_type": "code",
      "metadata": {
        "id": "jGZXviK0uOvJ",
        "colab_type": "code",
        "colab": {
          "base_uri": "https://localhost:8080/",
          "height": 1000
        },
        "outputId": "2a8dde2e-60d9-40bf-cc99-0a9787fce7c6"
      },
      "source": [
        "list(nltk.ngrams(['<DUMMY>'] * WINDOW_SIZE + corpus[0] + ['<DUMMY>'] * WINDOW_SIZE, WINDOW_SIZE * 2 + 1))"
      ],
      "execution_count": 65,
      "outputs": [
        {
          "output_type": "execute_result",
          "data": {
            "text/plain": [
              "[('<DUMMY>',\n",
              "  '<DUMMY>',\n",
              "  '<DUMMY>',\n",
              "  '<DUMMY>',\n",
              "  '<DUMMY>',\n",
              "  '[',\n",
              "  'moby',\n",
              "  'dick',\n",
              "  'by',\n",
              "  'herman',\n",
              "  'melville'),\n",
              " ('<DUMMY>',\n",
              "  '<DUMMY>',\n",
              "  '<DUMMY>',\n",
              "  '<DUMMY>',\n",
              "  '[',\n",
              "  'moby',\n",
              "  'dick',\n",
              "  'by',\n",
              "  'herman',\n",
              "  'melville',\n",
              "  '1851'),\n",
              " ('<DUMMY>',\n",
              "  '<DUMMY>',\n",
              "  '<DUMMY>',\n",
              "  '[',\n",
              "  'moby',\n",
              "  'dick',\n",
              "  'by',\n",
              "  'herman',\n",
              "  'melville',\n",
              "  '1851',\n",
              "  ']'),\n",
              " ('<DUMMY>',\n",
              "  '<DUMMY>',\n",
              "  '[',\n",
              "  'moby',\n",
              "  'dick',\n",
              "  'by',\n",
              "  'herman',\n",
              "  'melville',\n",
              "  '1851',\n",
              "  ']',\n",
              "  '<DUMMY>'),\n",
              " ('<DUMMY>',\n",
              "  '[',\n",
              "  'moby',\n",
              "  'dick',\n",
              "  'by',\n",
              "  'herman',\n",
              "  'melville',\n",
              "  '1851',\n",
              "  ']',\n",
              "  '<DUMMY>',\n",
              "  '<DUMMY>'),\n",
              " ('[',\n",
              "  'moby',\n",
              "  'dick',\n",
              "  'by',\n",
              "  'herman',\n",
              "  'melville',\n",
              "  '1851',\n",
              "  ']',\n",
              "  '<DUMMY>',\n",
              "  '<DUMMY>',\n",
              "  '<DUMMY>'),\n",
              " ('moby',\n",
              "  'dick',\n",
              "  'by',\n",
              "  'herman',\n",
              "  'melville',\n",
              "  '1851',\n",
              "  ']',\n",
              "  '<DUMMY>',\n",
              "  '<DUMMY>',\n",
              "  '<DUMMY>',\n",
              "  '<DUMMY>'),\n",
              " ('dick',\n",
              "  'by',\n",
              "  'herman',\n",
              "  'melville',\n",
              "  '1851',\n",
              "  ']',\n",
              "  '<DUMMY>',\n",
              "  '<DUMMY>',\n",
              "  '<DUMMY>',\n",
              "  '<DUMMY>',\n",
              "  '<DUMMY>')]"
            ]
          },
          "metadata": {
            "tags": []
          },
          "execution_count": 65
        }
      ]
    },
    {
      "cell_type": "code",
      "metadata": {
        "id": "ssY5gPwMtTvC",
        "colab_type": "code",
        "colab": {}
      },
      "source": [
        "# Create Training Set\n",
        "train_data = []\n",
        "for window in windows:\n",
        "  for i in range(WINDOW_SIZE * 2 + 1):\n",
        "    if window[i] in exclude or window[WINDOW_SIZE] in exclude:\n",
        "      continue  # min_count\n",
        "\n",
        "    if i == WINDOW_SIZE or window[i] == '<DUMMY>':\n",
        "      continue\n",
        "\n",
        "    # window[WINDOW_SIZE] : target word\n",
        "    # window[i]           : context word\n",
        "\n",
        "    train_data.append((window[WINDOW_SIZE], window[i]))"
      ],
      "execution_count": 0,
      "outputs": []
    },
    {
      "cell_type": "code",
      "metadata": {
        "id": "HRfBOav2yaL0",
        "colab_type": "code",
        "colab": {
          "base_uri": "https://localhost:8080/",
          "height": 187
        },
        "outputId": "2ea13b11-480d-48fe-b226-0b7a40c7f23b"
      },
      "source": [
        "# 2-Gram dataset\n",
        "train_data[:10]"
      ],
      "execution_count": 70,
      "outputs": [
        {
          "output_type": "execute_result",
          "data": {
            "text/plain": [
              "[('(', 'supplied'),\n",
              " ('(', 'by'),\n",
              " ('(', 'a'),\n",
              " ('(', 'late'),\n",
              " ('supplied', '('),\n",
              " ('supplied', 'by'),\n",
              " ('supplied', 'a'),\n",
              " ('supplied', 'late'),\n",
              " ('by', '('),\n",
              " ('by', 'supplied')]"
            ]
          },
          "metadata": {
            "tags": []
          },
          "execution_count": 70
        }
      ]
    },
    {
      "cell_type": "code",
      "metadata": {
        "id": "dZQscOIdyt-i",
        "colab_type": "code",
        "colab": {}
      },
      "source": [
        "X_p = []\n",
        "y_p = []\n",
        "\n",
        "for tr in train_data:\n",
        "  X_p.append(prepare_word(tr[0], word2index).view(1, -1))\n",
        "  y_p.append(prepare_word(tr[1], word2index).view(1, -1))\n",
        "\n",
        "train_data = list(zip(X_p, y_p))"
      ],
      "execution_count": 0,
      "outputs": []
    }
  ]
}