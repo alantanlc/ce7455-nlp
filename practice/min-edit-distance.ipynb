{
 "cells": [
  {
   "cell_type": "markdown",
   "metadata": {},
   "source": [
    "# The Minimum Edit Distance Algorithm\n",
    "\n",
    "Much of natural language processing is concerned with measuring how similar two strings are. For example in spelling correction, the user typed some errorneous string -- let's say _graffe_ - and we want to know what the user meant. The user probably intended a word that is similar to _graffe_. Among candidate similar words, the word _giraffe_, which differs by only one letter from _graffe_, seems intuitively to be more similar than, say _grail_ or _graf_, which differ in more letters. Another example comes from __coreference__, the task of deciding whether two strings such as the following refer to the same entity:\n",
    "\n",
    "    Stanford President John Hennessy\n",
    "    Stanford University President John Hennessy\n",
    "    \n",
    "Again, the fact that these two strings are very similar (differing by only one word) seems like useful evidence for deciding that they might be coreferent.\n",
    "\n",
    "__Edit distance__ gives us a way to quantify both of these intuitions about string similiarity. More formally, the __minimum edit distance__ between two strings is defined as the minimum number of editing operations (operations like insertion, deletion, substitution) needed to transform one string into another."
   ]
  },
  {
   "cell_type": "markdown",
   "metadata": {},
   "source": [
    "### The Minimum Edit Distance Algorithm\n",
    "\n",
    "How do we find the minimum edit distance? We can think of this as a search task, in which we are searching for the shortest path -- a sequence of edits -- from one string to another.\n",
    "\n",
    "The space of all possible edits is enormous, so we can't search naively. However, lots of distinct edit paths will end up in the same state (string), so rather than recomputing all those paths, we could just remember the shortest path to a state each time we saw it. We can do this by using __dynamic programming__. Dynamic programming is the name for a class of algorithms, first introduced by Bellman (1957), that apply a table-driven method to solve problems by combining solutions to sub-problems. Some of the most commonly used algorithms in natural language processing make use of dynamic programming, such as the __Viterbi__ algorithm and the __CKY__ algorithm for parsing.\n",
    "\n",
    "The intuition of a dynamic programming problem is that a larger problem can be solved by properly combining the solutions to various sub-problems. Consider the shortest path of transformed words that represents the minimum edit distance between the strings _intention_ and _execution_.\n",
    "\n",
    "The __minimum edit distance__ algorithm was named by Wagner and Fischer (1974) but independently discovered by many people."
   ]
  },
  {
   "cell_type": "code",
   "execution_count": 1,
   "metadata": {},
   "outputs": [],
   "source": [
    "import numpy as np"
   ]
  },
  {
   "cell_type": "code",
   "execution_count": 20,
   "metadata": {},
   "outputs": [],
   "source": [
    "def MinEditDistance(source, target):\n",
    "    n = len(source)\n",
    "    m = len(target)\n",
    "\n",
    "    # Create a distance matrix d[n+1][m+1]\n",
    "    d = np.zeros((n+1, m+1))\n",
    "\n",
    "    # Initialization: the zeroth row and column is the distance from the empty string\n",
    "    d[0][0] = 0\n",
    "    for i in range(1, n+1):\n",
    "        d[i][0] = d[i-1][0] + 1\n",
    "    for j in range(1, m+1):\n",
    "        d[0][j] = d[0][j-1] + 1\n",
    "\n",
    "    # Recurrence relation\n",
    "    for i in range(1, n+1):\n",
    "        for j in range(1, m+1):\n",
    "            d[i][j] = min(d[i-1][j] + 1, d[i][j-1] + 1, d[i-1][j-1] + (0 if source[i-1] == target[j-1] else 2))\n",
    "    \n",
    "    # Termination\n",
    "    return d[n][m]"
   ]
  },
  {
   "cell_type": "code",
   "execution_count": 21,
   "metadata": {},
   "outputs": [
    {
     "data": {
      "text/plain": [
       "8.0"
      ]
     },
     "execution_count": 21,
     "metadata": {},
     "output_type": "execute_result"
    }
   ],
   "source": [
    "MinEditDistance('intention', 'execution')"
   ]
  }
 ],
 "metadata": {
  "kernelspec": {
   "display_name": "Python 3",
   "language": "python",
   "name": "python3"
  },
  "language_info": {
   "codemirror_mode": {
    "name": "ipython",
    "version": 3
   },
   "file_extension": ".py",
   "mimetype": "text/x-python",
   "name": "python",
   "nbconvert_exporter": "python",
   "pygments_lexer": "ipython3",
   "version": "3.7.4"
  }
 },
 "nbformat": 4,
 "nbformat_minor": 2
}
