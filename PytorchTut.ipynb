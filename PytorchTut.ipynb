{
  "nbformat": 4,
  "nbformat_minor": 0,
  "metadata": {
    "kernelspec": {
      "display_name": "Python 3",
      "language": "python",
      "name": "python3"
    },
    "language_info": {
      "codemirror_mode": {
        "name": "ipython",
        "version": 3
      },
      "file_extension": ".py",
      "mimetype": "text/x-python",
      "name": "python",
      "nbconvert_exporter": "python",
      "pygments_lexer": "ipython3",
      "version": "3.7.4"
    },
    "colab": {
      "name": "PytorchTut.ipynb",
      "provenance": [],
      "include_colab_link": true
    }
  },
  "cells": [
    {
      "cell_type": "markdown",
      "metadata": {
        "id": "view-in-github",
        "colab_type": "text"
      },
      "source": [
        "<a href=\"https://colab.research.google.com/github/alanwuha/ce7455-nlp/blob/master/PytorchTut.ipynb\" target=\"_parent\"><img src=\"https://colab.research.google.com/assets/colab-badge.svg\" alt=\"Open In Colab\"/></a>"
      ]
    },
    {
      "cell_type": "markdown",
      "metadata": {
        "id": "YUwGO6zv5Zqh",
        "colab_type": "text"
      },
      "source": [
        "# Pytorch Basics\n",
        "\n",
        "### Table of contents\n",
        "\n",
        "  1. Pytorch tensors\n",
        "  1. Basic autograd example 1\n",
        "  1. Basic autograd example 2\n",
        "  1. Loading data from numpy\n",
        "  1. Input pipeline\n",
        "  1. Input pipeline for custom dataset\n",
        "  1. Pretrained model\n",
        "  1. Save and load model\n",
        "  1. Train a simple MNIST Neural nets"
      ]
    },
    {
      "cell_type": "code",
      "metadata": {
        "id": "VRY23ZEk6B7z",
        "colab_type": "code",
        "colab": {}
      },
      "source": [
        "import torch\n",
        "import torchvision\n",
        "import torch.nn as nn\n",
        "import numpy as np\n",
        "import torchvision.transforms as transforms\n",
        "import matplotlib.pyplot as plt"
      ],
      "execution_count": 0,
      "outputs": []
    },
    {
      "cell_type": "markdown",
      "metadata": {
        "id": "3RAgJcr26RZP",
        "colab_type": "text"
      },
      "source": [
        "## 1. Pytorch tensors"
      ]
    },
    {
      "cell_type": "code",
      "metadata": {
        "id": "2osZsIm26XeE",
        "colab_type": "code",
        "colab": {
          "base_uri": "https://localhost:8080/",
          "height": 255
        },
        "outputId": "b43103bf-79e7-44b5-b606-5c7239f3bb22"
      },
      "source": [
        "# Very similar to numpy\n",
        "x = torch.tensor(1.)\n",
        "print(x)\n",
        "\n",
        "x = torch.tensor([1,2,3,4,5]).float()\n",
        "print(x)\n",
        "print(x.size())\n",
        "\n",
        "ran = torch.Tensor(2,5,5).uniform_()\n",
        "print(ran)"
      ],
      "execution_count": 3,
      "outputs": [
        {
          "output_type": "stream",
          "text": [
            "tensor(1.)\n",
            "tensor([1., 2., 3., 4., 5.])\n",
            "torch.Size([5])\n",
            "tensor([[[0.3784, 0.6971, 0.0653, 0.0761, 0.8253],\n",
            "         [0.1678, 0.9569, 0.4510, 0.4550, 0.2804],\n",
            "         [0.8672, 0.9844, 0.3930, 0.6631, 0.8681],\n",
            "         [0.8364, 0.9617, 0.9616, 0.2598, 0.5760],\n",
            "         [0.5215, 0.3812, 0.7594, 0.8814, 0.2873]],\n",
            "\n",
            "        [[0.0022, 0.8071, 0.2068, 0.4082, 0.1680],\n",
            "         [0.1994, 0.1391, 0.4603, 0.6840, 0.5954],\n",
            "         [0.7994, 0.5741, 0.0375, 0.5115, 0.5344],\n",
            "         [0.6637, 0.2793, 0.0454, 0.7726, 0.7693],\n",
            "         [0.4179, 0.3746, 0.1589, 0.5850, 0.9851]]])\n"
          ],
          "name": "stdout"
        }
      ]
    },
    {
      "cell_type": "code",
      "metadata": {
        "id": "ZIR_MnQo69mh",
        "colab_type": "code",
        "colab": {
          "base_uri": "https://localhost:8080/",
          "height": 527
        },
        "outputId": "2e3b7987-e6a0-4c5c-f498-82d3a9cd8f1e"
      },
      "source": [
        "# min, max, mean, reshaping\n",
        "ran = torch.Tensor(2,5,5).uniform_()\n",
        "print(ran)\n",
        "print(ran.size())\n",
        "print(ran.min())\n",
        "print(ran.max())\n",
        "print(ran.mean())\n",
        "rsan = ran.view(5,2,5)\n",
        "print(rsan)\n",
        "print(rsan.size())"
      ],
      "execution_count": 4,
      "outputs": [
        {
          "output_type": "stream",
          "text": [
            "tensor([[[0.4780, 0.5704, 0.7053, 0.0277, 0.4454],\n",
            "         [0.4954, 0.9019, 0.3586, 0.2883, 0.8659],\n",
            "         [0.2419, 0.4684, 0.4270, 0.8000, 0.4375],\n",
            "         [0.6887, 0.9944, 0.8805, 0.3984, 0.6021],\n",
            "         [0.0193, 0.1095, 0.4963, 0.5356, 0.9173]],\n",
            "\n",
            "        [[0.8682, 0.2954, 0.9378, 0.7976, 0.8279],\n",
            "         [0.9022, 0.5430, 0.3870, 0.2027, 0.0483],\n",
            "         [0.1101, 0.9955, 0.2643, 0.6726, 0.9655],\n",
            "         [0.7967, 0.8202, 0.4733, 0.9776, 0.1404],\n",
            "         [0.1093, 0.2811, 0.9362, 0.0519, 0.7020]]])\n",
            "torch.Size([2, 5, 5])\n",
            "tensor(0.0193)\n",
            "tensor(0.9955)\n",
            "tensor(0.5452)\n",
            "tensor([[[0.4780, 0.5704, 0.7053, 0.0277, 0.4454],\n",
            "         [0.4954, 0.9019, 0.3586, 0.2883, 0.8659]],\n",
            "\n",
            "        [[0.2419, 0.4684, 0.4270, 0.8000, 0.4375],\n",
            "         [0.6887, 0.9944, 0.8805, 0.3984, 0.6021]],\n",
            "\n",
            "        [[0.0193, 0.1095, 0.4963, 0.5356, 0.9173],\n",
            "         [0.8682, 0.2954, 0.9378, 0.7976, 0.8279]],\n",
            "\n",
            "        [[0.9022, 0.5430, 0.3870, 0.2027, 0.0483],\n",
            "         [0.1101, 0.9955, 0.2643, 0.6726, 0.9655]],\n",
            "\n",
            "        [[0.7967, 0.8202, 0.4733, 0.9776, 0.1404],\n",
            "         [0.1093, 0.2811, 0.9362, 0.0519, 0.7020]]])\n",
            "torch.Size([5, 2, 5])\n"
          ],
          "name": "stdout"
        }
      ]
    },
    {
      "cell_type": "code",
      "metadata": {
        "id": "p9vl8Su-7eFl",
        "colab_type": "code",
        "colab": {
          "base_uri": "https://localhost:8080/",
          "height": 544
        },
        "outputId": "494d4efb-7bf6-432d-9416-3d5e0157077c"
      },
      "source": [
        "# Tensor math\n",
        "x = torch.Tensor(2, 4, 5).uniform_()\n",
        "y = torch.Tensor(2, 4, 5).uniform_()\n",
        "print(x.size())\n",
        "print(y.size())\n",
        "print(x)\n",
        "print(y)\n",
        "a = x + y\n",
        "m = x * y\n",
        "\n",
        "# transpose of y (the last 2 dimension)\n",
        "yt = y.transpose(1, 2)\n",
        "print(yt.size())\n",
        "matmul = torch.matmul(x, yt)\n",
        "print(matmul.size())\n",
        "print(matmul)"
      ],
      "execution_count": 5,
      "outputs": [
        {
          "output_type": "stream",
          "text": [
            "torch.Size([2, 4, 5])\n",
            "torch.Size([2, 4, 5])\n",
            "tensor([[[0.4393, 0.5021, 0.5974, 0.3014, 0.5098],\n",
            "         [0.8365, 0.2973, 0.6080, 0.0072, 0.7159],\n",
            "         [0.7777, 0.0919, 0.3391, 0.4479, 0.0889],\n",
            "         [0.6662, 0.7987, 0.8528, 0.5594, 0.9429]],\n",
            "\n",
            "        [[0.4225, 0.6012, 0.8973, 0.2096, 0.9488],\n",
            "         [0.3488, 0.6753, 0.0139, 0.4483, 0.0123],\n",
            "         [0.6800, 0.2383, 0.0751, 0.7912, 0.1911],\n",
            "         [0.5733, 0.6164, 0.3023, 0.8783, 0.8546]]])\n",
            "tensor([[[0.9117, 0.8325, 0.6987, 0.5551, 0.3136],\n",
            "         [0.0853, 0.1126, 0.3778, 0.9071, 0.4562],\n",
            "         [0.6096, 0.7952, 0.2501, 0.6239, 0.2696],\n",
            "         [0.1361, 0.4529, 0.3692, 0.4763, 0.9199]],\n",
            "\n",
            "        [[0.0748, 0.7551, 0.7669, 0.0061, 0.6848],\n",
            "         [0.7760, 0.1273, 0.9288, 0.0183, 0.9924],\n",
            "         [0.1788, 0.4243, 0.8222, 0.8170, 0.0348],\n",
            "         [0.6496, 0.8241, 0.5408, 0.0493, 0.3360]]])\n",
            "torch.Size([2, 5, 4])\n",
            "torch.Size([2, 4, 4])\n",
            "tensor([[[1.5631, 0.8257, 1.1421, 1.1203],\n",
            "         [1.6635, 0.6676, 1.0960, 1.1349],\n",
            "         [1.2990, 0.6517, 0.9355, 0.5678],\n",
            "         [2.4744, 1.4066, 1.8579, 1.9010]],\n",
            "\n",
            "        [[1.8247, 2.1833, 1.2727, 1.5843],\n",
            "         [0.5579, 0.3900, 0.7271, 0.8169],\n",
            "         [0.4241, 0.8319, 0.9375, 0.7820],\n",
            "         [1.3307, 1.6682, 1.3599, 1.3742]]])\n"
          ],
          "name": "stdout"
        }
      ]
    },
    {
      "cell_type": "markdown",
      "metadata": {
        "id": "1TEULEMa8aN-",
        "colab_type": "text"
      },
      "source": [
        "## 2. Basic autograd example 1"
      ]
    },
    {
      "cell_type": "code",
      "metadata": {
        "id": "9voWYmwI8f7w",
        "colab_type": "code",
        "colab": {
          "base_uri": "https://localhost:8080/",
          "height": 68
        },
        "outputId": "5acd462b-8ef0-4856-a6d6-3d69e93353db"
      },
      "source": [
        "# Create tensors.\n",
        "x = torch.tensor(1., requires_grad=True)\n",
        "w = torch.tensor(2., requires_grad=True)\n",
        "b = torch.tensor(3., requires_grad=True)\n",
        "\n",
        "# Build a computational graph.\n",
        "y = w * x + b # y = 2 * x + 3\n",
        "\n",
        "# Compute gradients.\n",
        "y.backward()\n",
        "\n",
        "# Print out the gradients.\n",
        "print(x.grad) # x.grad = 2\n",
        "print(w.grad) # w.grad = 1\n",
        "print(b.grad) # b.grad = 1"
      ],
      "execution_count": 6,
      "outputs": [
        {
          "output_type": "stream",
          "text": [
            "tensor(2.)\n",
            "tensor(1.)\n",
            "tensor(1.)\n"
          ],
          "name": "stdout"
        }
      ]
    },
    {
      "cell_type": "markdown",
      "metadata": {
        "id": "rAlx3FaP84yk",
        "colab_type": "text"
      },
      "source": [
        "## 2. Basic autograd example 1"
      ]
    },
    {
      "cell_type": "code",
      "metadata": {
        "id": "pRVAOcFp88bP",
        "colab_type": "code",
        "colab": {
          "base_uri": "https://localhost:8080/",
          "height": 187
        },
        "outputId": "1a10a864-b5af-41f9-a3bb-484379b662d4"
      },
      "source": [
        "# Create tensors of shape (10, 3) and (10, 2).\n",
        "x = torch.randn(10, 3)\n",
        "y = torch.randn(10, 2)\n",
        "\n",
        "# Build a fully connected layer.\n",
        "linear = nn.Linear(3, 2)\n",
        "print('w: ', linear.weight)\n",
        "print('b: ', linear.bias)\n",
        "\n",
        "# Build loss function and optimizer.\n",
        "criterion = nn.MSELoss()\n",
        "optimizer = torch.optim.SGD(linear.parameters(), lr=0.01)\n",
        "\n",
        "# Forward pass.\n",
        "pred = linear(x)\n",
        "\n",
        "# Compute loss.\n",
        "loss = criterion(pred, y)\n",
        "print('loss: ', loss.item())\n",
        "\n",
        "# Backward pass.\n",
        "loss.backward()\n",
        "\n",
        "# Print out the gradients.\n",
        "print('dL/dw: ', linear.weight.grad)\n",
        "print('dL/db: ', linear.bias.grad)\n",
        "\n",
        "# 1-step gradient descent.\n",
        "optimizer.step()\n",
        "\n",
        "# You can also perform gradient descent at the low level.\n",
        "# linear.weight.data.sub_(0.01 * linear.weight.grad.data)\n",
        "# linear.bias.data.sub_(0.01 * linear.bias.grad.data)\n",
        "\n",
        "# Print out the loss after 1-step gradient descent.\n",
        "pred = linear(x)\n",
        "loss = criterion(pred, y)\n",
        "print('loss after 1 step optimization: ', loss.item())"
      ],
      "execution_count": 7,
      "outputs": [
        {
          "output_type": "stream",
          "text": [
            "w:  Parameter containing:\n",
            "tensor([[ 0.3920, -0.3873, -0.0325],\n",
            "        [-0.5596, -0.3377,  0.3804]], requires_grad=True)\n",
            "b:  Parameter containing:\n",
            "tensor([-0.0812,  0.3334], requires_grad=True)\n",
            "loss:  1.8495737314224243\n",
            "dL/dw:  tensor([[ 0.4659, -0.5993, -0.3919],\n",
            "        [-0.5142, -0.5282,  0.9056]])\n",
            "dL/db:  tensor([-0.5098,  0.4889])\n",
            "loss after 1 step optimization:  1.823793649673462\n"
          ],
          "name": "stdout"
        }
      ]
    },
    {
      "cell_type": "markdown",
      "metadata": {
        "id": "WUGKZhSM-u4S",
        "colab_type": "text"
      },
      "source": [
        "## 3. Loading data from numpy"
      ]
    },
    {
      "cell_type": "code",
      "metadata": {
        "id": "i-gyYRj_-xjC",
        "colab_type": "code",
        "colab": {}
      },
      "source": [
        "# Create a numpy array.\n",
        "x = np.array([[1, 2], [3, 4]])\n",
        "\n",
        "# Convert the numpy array to a torch tensor.\n",
        "y = torch.from_numpy(x)\n",
        "\n",
        "# Convert the torch tensor to a numpy array.\n",
        "z = y.numpy()"
      ],
      "execution_count": 0,
      "outputs": []
    },
    {
      "cell_type": "markdown",
      "metadata": {
        "id": "n374ysuq-856",
        "colab_type": "text"
      },
      "source": [
        "## 4. Input pipeline"
      ]
    },
    {
      "cell_type": "code",
      "metadata": {
        "id": "rhCCgszN_OO1",
        "colab_type": "code",
        "colab": {
          "base_uri": "https://localhost:8080/",
          "height": 493
        },
        "outputId": "6d5a1700-40fb-4c46-9b85-b6dda4791567"
      },
      "source": [
        "# Download and construct CIFAR-10 dataset.\n",
        "train_dataset = torchvision.datasets.CIFAR10(\n",
        "    root='.',\n",
        "    train=True,\n",
        "    transform=transforms.ToTensor(),\n",
        "    download=True)\n",
        "\n",
        "# Fetch one data pair (read data from disk).\n",
        "image, label = train_dataset[0]\n",
        "print(len(train_dataset))\n",
        "print(train_dataset[0])\n",
        "print(type(train_dataset[0]))\n",
        "print(image.size())\n",
        "print(label)\n",
        "\n",
        "# Data loader (this provides queues and threads in a very simple way).\n",
        "train_loader = torch.utils.data.DataLoader(\n",
        "    dataset = train_dataset,\n",
        "    batch_size = 64,\n",
        "    shuffle = True\n",
        ")\n",
        "\n",
        "# When iteration starts, queue and thread start to load data from files.\n",
        "data_iter = iter(train_loader)\n",
        "\n",
        "# Mini-batch images and labels.\n",
        "images, labels = data_iter.next()\n",
        "\n",
        "# Actual usage of the data loader is as below.\n",
        "for images, labels in train_loader:\n",
        "  # Training code should be written here.\n",
        "  pass\n"
      ],
      "execution_count": 15,
      "outputs": [
        {
          "output_type": "stream",
          "text": [
            "Files already downloaded and verified\n",
            "50000\n",
            "(tensor([[[0.2314, 0.1686, 0.1961,  ..., 0.6196, 0.5961, 0.5804],\n",
            "         [0.0627, 0.0000, 0.0706,  ..., 0.4824, 0.4667, 0.4784],\n",
            "         [0.0980, 0.0627, 0.1922,  ..., 0.4627, 0.4706, 0.4275],\n",
            "         ...,\n",
            "         [0.8157, 0.7882, 0.7765,  ..., 0.6275, 0.2196, 0.2078],\n",
            "         [0.7059, 0.6784, 0.7294,  ..., 0.7216, 0.3804, 0.3255],\n",
            "         [0.6941, 0.6588, 0.7020,  ..., 0.8471, 0.5922, 0.4824]],\n",
            "\n",
            "        [[0.2431, 0.1804, 0.1882,  ..., 0.5176, 0.4902, 0.4863],\n",
            "         [0.0784, 0.0000, 0.0314,  ..., 0.3451, 0.3255, 0.3412],\n",
            "         [0.0941, 0.0275, 0.1059,  ..., 0.3294, 0.3294, 0.2863],\n",
            "         ...,\n",
            "         [0.6667, 0.6000, 0.6314,  ..., 0.5216, 0.1216, 0.1333],\n",
            "         [0.5451, 0.4824, 0.5647,  ..., 0.5804, 0.2431, 0.2078],\n",
            "         [0.5647, 0.5059, 0.5569,  ..., 0.7216, 0.4627, 0.3608]],\n",
            "\n",
            "        [[0.2471, 0.1765, 0.1686,  ..., 0.4235, 0.4000, 0.4039],\n",
            "         [0.0784, 0.0000, 0.0000,  ..., 0.2157, 0.1961, 0.2235],\n",
            "         [0.0824, 0.0000, 0.0314,  ..., 0.1961, 0.1961, 0.1647],\n",
            "         ...,\n",
            "         [0.3765, 0.1333, 0.1020,  ..., 0.2745, 0.0275, 0.0784],\n",
            "         [0.3765, 0.1647, 0.1176,  ..., 0.3686, 0.1333, 0.1333],\n",
            "         [0.4549, 0.3686, 0.3412,  ..., 0.5490, 0.3294, 0.2824]]]), 6)\n",
            "<class 'tuple'>\n",
            "torch.Size([3, 32, 32])\n",
            "6\n"
          ],
          "name": "stdout"
        }
      ]
    },
    {
      "cell_type": "markdown",
      "metadata": {
        "id": "u6bdXRvHCbD9",
        "colab_type": "text"
      },
      "source": [
        "## 5. Input pipeline for custom dataset"
      ]
    },
    {
      "cell_type": "code",
      "metadata": {
        "id": "wdNSwcCTCj14",
        "colab_type": "code",
        "colab": {}
      },
      "source": [
        "# You should build your custom dataset as below.\n",
        "class CustomDataset(torch.utils.data.Dataset):\n",
        "  def __init__(self):\n",
        "    # TODO\n",
        "    # 1. Intialize file paths or a list of file names.\n",
        "    pass\n",
        "  def __getitem__(self, index):\n",
        "    # TODO\n",
        "    # 1. Read one data from file (e.g. using numpy.fromfile, PIL.Image.open).\n",
        "    # 2. Preprocess the data (e.g. torchvision.Transform).\n",
        "    # 3. Return a data pair (e.g. image and label).\n",
        "    pass\n",
        "  def __len__(self):\n",
        "    # You should change 0 to the total size of your dataset.\n",
        "    return 0\n",
        "\n",
        "# You can then use the prebuilt data loader.\n",
        "custom_dataset = CustomDataset()\n",
        "train_loader = torch.utils.data.DataLoader(\n",
        "    dataset = custom_dataset,\n",
        "    batch_size = 64,\n",
        "    shuffle = True\n",
        ")"
      ],
      "execution_count": 0,
      "outputs": []
    }
  ]
}