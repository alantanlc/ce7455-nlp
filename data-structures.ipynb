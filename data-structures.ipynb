{
  "nbformat": 4,
  "nbformat_minor": 0,
  "metadata": {
    "kernelspec": {
      "display_name": "Python 3",
      "language": "python",
      "name": "python3"
    },
    "language_info": {
      "codemirror_mode": {
        "name": "ipython",
        "version": 3
      },
      "file_extension": ".py",
      "mimetype": "text/x-python",
      "name": "python",
      "nbconvert_exporter": "python",
      "pygments_lexer": "ipython3",
      "version": "3.7.4"
    },
    "colab": {
      "name": "data-structures.ipynb",
      "provenance": [],
      "include_colab_link": true
    }
  },
  "cells": [
    {
      "cell_type": "markdown",
      "metadata": {
        "id": "view-in-github",
        "colab_type": "text"
      },
      "source": [
        "<a href=\"https://colab.research.google.com/github/alanwuha/ce7455-nlp/blob/master/data-structures.ipynb\" target=\"_parent\"><img src=\"https://colab.research.google.com/assets/colab-badge.svg\" alt=\"Open In Colab\"/></a>"
      ]
    },
    {
      "cell_type": "markdown",
      "metadata": {
        "id": "RlOcKhU96foP",
        "colab_type": "text"
      },
      "source": [
        "# 5. Data Structures\n",
        "\n",
        "This chapter describes some things you've learned about already in more detail, and adds some new things as well.\n",
        "\n",
        "## 5.1. More on Lists\n",
        "\n",
        "The list data type has some more methods. Here are all of the methods of list objects:\n",
        "\n",
        "list.__append__(_x_): Add an item to the end of the list. Equivalent to `a[len(a):] = [x]`.\n",
        "\n",
        "list.__extend__(_iterable_): Extend the list by appending all the items from the iterable. Equivalent to `a[len(a):] = iterable`.\n",
        "\n",
        "list.__insert__(_i, x_): Insert an item at a given position. The first argument is the index of the element before which to insert, so `a.insert(0, x)` inserts at the front of the list, and `a.insert(len(a), x)` is equivalent to `a.append(x)`.\n",
        "\n",
        "list.__remove__(_x_): Remove the first item from the list whose value is _x_. It is an error if there is no such item.\n",
        "\n",
        "list.__pop__([_i_]): Remove the item at the given position in the list, and return it. If no index is specified, `a.pop()` removes and returns the last item in the list. (The square brackets around the _i_ in the method signature denote that the parameter is optional, not that you should type square brackets at that position. You will see this notation frequently in the Python Library Reference.)\n",
        "\n",
        "list.__clear__(): Remove all items from the list. Equivalent to `del a[:]`.\n",
        "\n",
        "list.__index__(x[, start [, end]]): Return zero-based in the list of the first item whose value is _x_. Raises a [ValueError](#) if there is no such item. The optional arguments _start_ and _end_ are interpreted as in the slice notation and are used to limit the search to a particular subsequence of the list. The returned index is computed relative to the beginning of the full sequence rather than the _start_ argument.\n",
        "\n",
        "list.__count__(x): Return the number of times _x_ appears in the list.\n",
        "\n",
        "list.__sort__(_key=None, reverse=False_): Sort the items of the list in place (the arguments can be used for sort customization, see [sorted()](#) for their explanation).\n",
        "\n",
        "list.__reverse__(): Reverse the elements of the list in place.\n",
        "\n",
        "list.__copy__(): Return a shallow copy of the list. Equivalent to `a[:]`.\n",
        "\n",
        "An example that uses most of the list methods:"
      ]
    },
    {
      "cell_type": "code",
      "metadata": {
        "id": "frU8Dt0m-rg0",
        "colab_type": "code",
        "colab": {
          "base_uri": "https://localhost:8080/",
          "height": 153
        },
        "outputId": "be5f2325-8457-4f1e-c319-eeb40f32e1a6"
      },
      "source": [
        "fruits = ['orange', 'apple', 'pear', 'banana', 'kiwi', 'apple', 'banana']\n",
        "print(fruits.count('apple'))\n",
        "print(fruits.count('tangerine'))\n",
        "print(fruits.index('banana'))\n",
        "print(fruits.index('banana', 4))  # Find next banana starting a position 4\n",
        "fruits.reverse()\n",
        "print(fruits)\n",
        "fruits.append('grape')\n",
        "print(fruits)\n",
        "fruits.sort()\n",
        "print(fruits)\n",
        "print(fruits.pop())"
      ],
      "execution_count": 2,
      "outputs": [
        {
          "output_type": "stream",
          "text": [
            "2\n",
            "0\n",
            "3\n",
            "6\n",
            "['banana', 'apple', 'kiwi', 'banana', 'pear', 'apple', 'orange']\n",
            "['banana', 'apple', 'kiwi', 'banana', 'pear', 'apple', 'orange', 'grape']\n",
            "['apple', 'apple', 'banana', 'banana', 'grape', 'kiwi', 'orange', 'pear']\n",
            "pear\n"
          ],
          "name": "stdout"
        }
      ]
    },
    {
      "cell_type": "markdown",
      "metadata": {
        "id": "blYLGJNe_f3P",
        "colab_type": "text"
      },
      "source": [
        "You might have noticed that methods like `insert`, `remove`, or `sort` that only modify the list have no return value printed - they return the default `None`. [[1]](#) This is a design principle for all mutable data structures in Python.\n",
        "\n",
        "[[1]](#) Other languages may return the mutated object, which allows method chaining, such as `d->insert(\"a\")->remove(\"b\")->sort();`."
      ]
    }
  ]
}