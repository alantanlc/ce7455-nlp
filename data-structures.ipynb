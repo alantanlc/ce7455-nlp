{
  "nbformat": 4,
  "nbformat_minor": 0,
  "metadata": {
    "kernelspec": {
      "display_name": "Python 3",
      "language": "python",
      "name": "python3"
    },
    "language_info": {
      "codemirror_mode": {
        "name": "ipython",
        "version": 3
      },
      "file_extension": ".py",
      "mimetype": "text/x-python",
      "name": "python",
      "nbconvert_exporter": "python",
      "pygments_lexer": "ipython3",
      "version": "3.7.4"
    },
    "colab": {
      "name": "data-structures.ipynb",
      "provenance": [],
      "include_colab_link": true
    }
  },
  "cells": [
    {
      "cell_type": "markdown",
      "metadata": {
        "id": "view-in-github",
        "colab_type": "text"
      },
      "source": [
        "<a href=\"https://colab.research.google.com/github/alanwuha/ce7455-nlp/blob/master/data-structures.ipynb\" target=\"_parent\"><img src=\"https://colab.research.google.com/assets/colab-badge.svg\" alt=\"Open In Colab\"/></a>"
      ]
    },
    {
      "cell_type": "markdown",
      "metadata": {
        "id": "RlOcKhU96foP",
        "colab_type": "text"
      },
      "source": [
        "# 5. Data Structures\n",
        "\n",
        "This chapter describes some things you've learned about already in more detail, and adds some new things as well.\n",
        "\n",
        "## 5.1. More on Lists\n",
        "\n",
        "The list data type has some more methods. Here are all of the methods of list objects:\n",
        "\n",
        "list.__append__(_x_): Add an item to the end of the list. Equivalent to `a[len(a):] = [x]`.\n",
        "\n",
        "list.__extend__(_iterable_): Extend the list by appending all the items from the iterable. Equivalent to `a[len(a):] = iterable`.\n",
        "\n",
        "list.__insert__(_i, x_): Insert an item at a given position. The first argument is the index of the element before which to insert, so `a.insert(0, x)` inserts at the front of the list, and `a.insert(len(a), x)` is equivalent to `a.append(x)`.\n",
        "\n",
        "list.__remove__(_x_): Remove the first item from the list whose value is _x_. It is an error if there is no such item.\n",
        "\n",
        "list.__pop__([_i_]): Remove the item at the given position in the list, and return it. If no index is specified, `a.pop()` removes and returns the last item in the list. (The square brackets around the _i_ in the method signature denote that the parameter is optional, not that you should type square brackets at that position. You will see this notation frequently in the Python Library Reference.)\n",
        "\n",
        "list.__clear__(): Remove all items from the list. Equivalent to `del a[:]`.\n",
        "\n",
        "list.__index__(x[, start [, end]]): Return zero-based in the list of the first item whose value is _x_. Raises a [ValueError](#) if there is no such item. The optional arguments _start_ and _end_ are interpreted as in the slice notation and are used to limit the search to a particular subsequence of the list. The returned index is computed relative to the beginning of the full sequence rather than the _start_ argument.\n",
        "\n",
        "list.__count__(x): Return the number of times _x_ appears in the list.\n",
        "\n",
        "list.__sort__(_key=None, reverse=False_): Sort the items of the list in place (the arguments can be used for sort customization, see [sorted()](#) for their explanation).\n",
        "\n",
        "list.__reverse__(): Reverse the elements of the list in place.\n",
        "\n",
        "list.__copy__(): Return a shallow copy of the list. Equivalent to `a[:]`.\n",
        "\n",
        "An example that uses most of the list methods:"
      ]
    },
    {
      "cell_type": "code",
      "metadata": {
        "id": "frU8Dt0m-rg0",
        "colab_type": "code",
        "colab": {
          "base_uri": "https://localhost:8080/",
          "height": 153
        },
        "outputId": "be5f2325-8457-4f1e-c319-eeb40f32e1a6"
      },
      "source": [
        "fruits = ['orange', 'apple', 'pear', 'banana', 'kiwi', 'apple', 'banana']\n",
        "print(fruits.count('apple'))\n",
        "print(fruits.count('tangerine'))\n",
        "print(fruits.index('banana'))\n",
        "print(fruits.index('banana', 4))  # Find next banana starting a position 4\n",
        "fruits.reverse()\n",
        "print(fruits)\n",
        "fruits.append('grape')\n",
        "print(fruits)\n",
        "fruits.sort()\n",
        "print(fruits)\n",
        "print(fruits.pop())"
      ],
      "execution_count": 2,
      "outputs": [
        {
          "output_type": "stream",
          "text": [
            "2\n",
            "0\n",
            "3\n",
            "6\n",
            "['banana', 'apple', 'kiwi', 'banana', 'pear', 'apple', 'orange']\n",
            "['banana', 'apple', 'kiwi', 'banana', 'pear', 'apple', 'orange', 'grape']\n",
            "['apple', 'apple', 'banana', 'banana', 'grape', 'kiwi', 'orange', 'pear']\n",
            "pear\n"
          ],
          "name": "stdout"
        }
      ]
    },
    {
      "cell_type": "markdown",
      "metadata": {
        "id": "blYLGJNe_f3P",
        "colab_type": "text"
      },
      "source": [
        "You might have noticed that methods like `insert`, `remove`, or `sort` that only modify the list have no return value printed - they return the default `None`. [[1]](#) This is a design principle for all mutable data structures in Python.\n",
        "\n",
        "[[1]](#) Other languages may return the mutated object, which allows method chaining, such as `d->insert(\"a\")->remove(\"b\")->sort();`."
      ]
    },
    {
      "cell_type": "markdown",
      "metadata": {
        "id": "gx4vfhhgA0ak",
        "colab_type": "text"
      },
      "source": [
        "## 5.1.3. List Comprehensions\n",
        "\n",
        "List comprehensions provide a concise way to create lists. Common applications are to make new lists where each element is the result of some operations applied to each member of another sequence or iterable, or to create a subsequence of those elements that satisfy a certain condition.\n",
        "\n",
        "For example, assume we want to create a list of squares, like:"
      ]
    },
    {
      "cell_type": "code",
      "metadata": {
        "id": "61Lq3gL6BLL4",
        "colab_type": "code",
        "colab": {
          "base_uri": "https://localhost:8080/",
          "height": 34
        },
        "outputId": "891fc716-cf35-49f3-c024-8de5ccd78506"
      },
      "source": [
        "squares = list(map(lambda x: x**2, range(10)))\n",
        "squares"
      ],
      "execution_count": 7,
      "outputs": [
        {
          "output_type": "execute_result",
          "data": {
            "text/plain": [
              "[0, 1, 4, 9, 16, 25, 36, 49, 64, 81]"
            ]
          },
          "metadata": {
            "tags": []
          },
          "execution_count": 7
        }
      ]
    },
    {
      "cell_type": "code",
      "metadata": {
        "id": "WhFO0c31BU8y",
        "colab_type": "code",
        "colab": {
          "base_uri": "https://localhost:8080/",
          "height": 34
        },
        "outputId": "6e91ed52-aae1-419b-86e7-ee50a4ff600c"
      },
      "source": [
        "squares = [x**2 for x in range(10)]\n",
        "squares"
      ],
      "execution_count": 9,
      "outputs": [
        {
          "output_type": "execute_result",
          "data": {
            "text/plain": [
              "[0, 1, 4, 9, 16, 25, 36, 49, 64, 81]"
            ]
          },
          "metadata": {
            "tags": []
          },
          "execution_count": 9
        }
      ]
    },
    {
      "cell_type": "markdown",
      "metadata": {
        "id": "3Hp-EMQfBuW3",
        "colab_type": "text"
      },
      "source": [
        "### 5.3. Tuples and Sequences\n",
        "\n",
        "We saw that lists and strings have many common properties, such as indexing and slicing operations. They are **two examples of _sequence_ data types** (see [Sequence Types -- list, tuple, range](#)). Since Python is an evolving language, other sequence data types may be added. There is also **another standard sequence data type: the _tuple_**.\n",
        "\n",
        "A tuple consists of a __number of values separated by commas__, for instance:"
      ]
    },
    {
      "cell_type": "code",
      "metadata": {
        "id": "8w4OR2IpCMBO",
        "colab_type": "code",
        "colab": {
          "base_uri": "https://localhost:8080/",
          "height": 119
        },
        "outputId": "a5e21989-944c-4ac2-e1ba-07408b1f974a"
      },
      "source": [
        "t = 12345, 54321, 'hello!'\n",
        "print(t[0])\n",
        "print(t)\n",
        "\n",
        "# Tuples may be nested:\n",
        "u = t, (1, 2, 3, 4, 5)\n",
        "print(u)\n",
        "\n",
        "# Tuples are immutable:\n",
        "# t[0] = 88888\n",
        "\n",
        "# but they can contain mutable objects:\n",
        "v = ([1, 2, 3], [3, 2, 1])\n",
        "print(v)\n",
        "print(v[0])\n",
        "\n",
        "v[0][0] = 4\n",
        "print(v)"
      ],
      "execution_count": 19,
      "outputs": [
        {
          "output_type": "stream",
          "text": [
            "12345\n",
            "(12345, 54321, 'hello!')\n",
            "((12345, 54321, 'hello!'), (1, 2, 3, 4, 5))\n",
            "([1, 2, 3], [3, 2, 1])\n",
            "[1, 2, 3]\n",
            "([4, 2, 3], [3, 2, 1])\n"
          ],
          "name": "stdout"
        }
      ]
    },
    {
      "cell_type": "markdown",
      "metadata": {
        "id": "Z-LkmpliDpoJ",
        "colab_type": "text"
      },
      "source": [
        "As you see, on output tuples are always enclosed in parentheses, so that nested tuples are interpreted correctly; they may be input with or without surrounding parentheses, although often parentheses are necessary anyway (if the tuple is part of a larger expression). It is not possible to assign to the individual items of a tuple, however it is possible to create tuples which contain mutable objects, such as lists.\n",
        "\n",
        "Though tuples may seem similar to lists, they are often used in different situations and for different purpose. Tuples are [immutable](#), and usually contain a heterogeneous sequence of elements that are accessed via unpacking (see later in this section) or indexing (or even by attribute in the case of [namedtuples](#)). Lists are [mutable](#), and their elements are usually homogeneous and are accessed by iterating over the list.\n",
        "\n",
        "A special problem is the construction of tuples containing 0 or 1 items: the syntax has some extra quirks to accommodate these. Empty tuples are constructed by an empty pair of parenthese; a tuple with one item is constructed by following a value with a comma (it is not sufficient to enclose a single value in parenthese). Ugly, but effective. For example:"
      ]
    },
    {
      "cell_type": "code",
      "metadata": {
        "id": "BrQZ1_9yL0ih",
        "colab_type": "code",
        "colab": {
          "base_uri": "https://localhost:8080/",
          "height": 68
        },
        "outputId": "54ce89c9-7233-41b6-fd9b-a26f1bf91571"
      },
      "source": [
        "empty = ()\n",
        "singleton = 'hello',  # <-- note trailing comma\n",
        "print(len(empty))\n",
        "print(len(singleton))\n",
        "print(singleton)"
      ],
      "execution_count": 20,
      "outputs": [
        {
          "output_type": "stream",
          "text": [
            "0\n",
            "1\n",
            "('hello',)\n"
          ],
          "name": "stdout"
        }
      ]
    },
    {
      "cell_type": "code",
      "metadata": {
        "id": "x80o8ZxiL8zw",
        "colab_type": "code",
        "colab": {
          "base_uri": "https://localhost:8080/",
          "height": 34
        },
        "outputId": "dd062ce1-cd56-4ec2-db6d-50fc1159a09e"
      },
      "source": [
        "lst = [i for i in range(10)]\n",
        "tple = 1, 2, 3, 4, 5, 6, 7, 8, 9, 10\n",
        "print(type(lst), type(tple))"
      ],
      "execution_count": 25,
      "outputs": [
        {
          "output_type": "stream",
          "text": [
            "<class 'list'> <class 'tuple'>\n"
          ],
          "name": "stdout"
        }
      ]
    },
    {
      "cell_type": "markdown",
      "metadata": {
        "id": "vQVy9IAtMUti",
        "colab_type": "text"
      },
      "source": [
        "The statement `t = 12345, 54321, 'hello'!` is an example of __tuple packing__: the values `12345`, `54321`, and `'hello!'` are packed together in a tuple. The reverse operation is also possible:"
      ]
    },
    {
      "cell_type": "code",
      "metadata": {
        "id": "uCFoFDv9M6al",
        "colab_type": "code",
        "colab": {
          "base_uri": "https://localhost:8080/",
          "height": 34
        },
        "outputId": "20319835-cff2-41e6-85c7-8eed89f3bbfe"
      },
      "source": [
        "x, y, z = t\n",
        "print(x, y, z)"
      ],
      "execution_count": 27,
      "outputs": [
        {
          "output_type": "stream",
          "text": [
            "12345 54321 hello!\n"
          ],
          "name": "stdout"
        }
      ]
    },
    {
      "cell_type": "markdown",
      "metadata": {
        "id": "HJu0mU4nNC08",
        "colab_type": "text"
      },
      "source": [
        "This is called, appropriately enough, _sequence unpacking_ and works for any sequence on the right-hand side. Sequence unpacking requires that there are as many variables on the left side of the equals sign as there are elements in the sequence. Note that multiple assignment is really just a combination of tuple packing and sequence unpacking."
      ]
    },
    {
      "cell_type": "markdown",
      "metadata": {
        "id": "QfKlDmDTN7hi",
        "colab_type": "text"
      },
      "source": [
        "## 5.4. Sets\n",
        "\n",
        "Python also includes a data type for _sets_. A set is an __unordered collection__ with __no duplicate elements__. Basic uses include __membership testing__ and __eliminating duplicate entries__. Set objects also support __mathematical operations__ like union, intersection, difference, and symmetric difference.\n",
        "\n",
        "Curly braces or the [set()](#) function can be used to create sets. Note: to create an empty set you have to use `set()`, not `{}`; the latter creates an empty dictionary, a data structure that we discuss in the next section.\n",
        "\n",
        "Here is a brief demonstration:"
      ]
    },
    {
      "cell_type": "code",
      "metadata": {
        "id": "Rj5bXgGLPJQc",
        "colab_type": "code",
        "colab": {
          "base_uri": "https://localhost:8080/",
          "height": 153
        },
        "outputId": "2fa1e765-91cc-47df-8e8a-5adb309cbe3e"
      },
      "source": [
        "# A set is an unordered collection with no duplicate elements\n",
        "# Basic uses include membership testing and eliminating duplicate entries\n",
        "basket = {'apple', 'orange', 'apple', 'pear', 'orange', 'banana'}\n",
        "print(basket)\n",
        "print('orange' in basket) # fast membership testing\n",
        "print('crabgrass' in basket)\n",
        "\n",
        "# Demonstrate set operations on unique letters from two words\n",
        "a = set('abracadabra')\n",
        "b = set('alacazam')\n",
        "print(a)  # unique leeters in a\n",
        "print(a - b)  # letters in a but not in b\n",
        "print(a | b)  # letters in a or b or both\n",
        "print(a & b)  # letters in both a and b\n",
        "print(a ^ b)  # letters in a or b but not both"
      ],
      "execution_count": 34,
      "outputs": [
        {
          "output_type": "stream",
          "text": [
            "{'apple', 'pear', 'orange', 'banana'}\n",
            "True\n",
            "False\n",
            "{'c', 'r', 'b', 'd', 'a'}\n",
            "{'r', 'b', 'd'}\n",
            "{'m', 'c', 'r', 'd', 'b', 'z', 'l', 'a'}\n",
            "{'c', 'a'}\n",
            "{'z', 'l', 'd', 'm', 'r', 'b'}\n"
          ],
          "name": "stdout"
        }
      ]
    },
    {
      "cell_type": "markdown",
      "metadata": {
        "id": "whM2c-10QJq-",
        "colab_type": "text"
      },
      "source": [
        "Similarly to [list comprehensions](#), set comprehensions are also supported:"
      ]
    },
    {
      "cell_type": "code",
      "metadata": {
        "id": "dzXQEIj7QOp6",
        "colab_type": "code",
        "colab": {
          "base_uri": "https://localhost:8080/",
          "height": 34
        },
        "outputId": "fa0363c0-265d-420b-ff2b-056871dd7668"
      },
      "source": [
        "a = { x for x in 'abracadabra' if x not in 'abc' }\n",
        "a"
      ],
      "execution_count": 35,
      "outputs": [
        {
          "output_type": "execute_result",
          "data": {
            "text/plain": [
              "{'d', 'r'}"
            ]
          },
          "metadata": {
            "tags": []
          },
          "execution_count": 35
        }
      ]
    }
  ]
}