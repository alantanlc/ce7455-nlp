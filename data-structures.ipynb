{
  "nbformat": 4,
  "nbformat_minor": 0,
  "metadata": {
    "kernelspec": {
      "display_name": "Python 3",
      "language": "python",
      "name": "python3"
    },
    "language_info": {
      "codemirror_mode": {
        "name": "ipython",
        "version": 3
      },
      "file_extension": ".py",
      "mimetype": "text/x-python",
      "name": "python",
      "nbconvert_exporter": "python",
      "pygments_lexer": "ipython3",
      "version": "3.7.4"
    },
    "colab": {
      "name": "data-structures.ipynb",
      "provenance": [],
      "include_colab_link": true
    }
  },
  "cells": [
    {
      "cell_type": "markdown",
      "metadata": {
        "id": "view-in-github",
        "colab_type": "text"
      },
      "source": [
        "<a href=\"https://colab.research.google.com/github/alanwuha/ce7455-nlp/blob/master/data-structures.ipynb\" target=\"_parent\"><img src=\"https://colab.research.google.com/assets/colab-badge.svg\" alt=\"Open In Colab\"/></a>"
      ]
    },
    {
      "cell_type": "markdown",
      "metadata": {
        "id": "RlOcKhU96foP",
        "colab_type": "text"
      },
      "source": [
        "# 5. Data Structures\n",
        "\n",
        "This chapter describes some things you've learned about already in more detail, and adds some new things as well.\n",
        "\n",
        "## 5.1. More on Lists\n",
        "\n",
        "The list data type has some more methods. Here are all of the methods of list objects:\n",
        "\n",
        "list.__append__(_x_): Add an item to the end of the list. Equivalent to `a[len(a):] = [x]`.\n",
        "\n",
        "list.__extend__(_iterable_): Extend the list by appending all the items from the iterable. Equivalent to `a[len(a):] = iterable`.\n",
        "\n",
        "list.__insert__(_i, x_): Insert an item at a given position. The first argument is the index of the element before which to insert, so `a.insert(0, x)` inserts at the front of the list, and `a.insert(len(a), x)` is equivalent to `a.append(x)`.\n",
        "\n",
        "list.__remove__(_x_): Remove the first item from the list whose value is _x_. It is an error if there is no such item.\n",
        "\n",
        "list.__pop__([_i_]): Remove the item at the given position in the list, and return it. If no index is specified, `a.pop()` removes and returns the last item in the list. (The square brackets around the _i_ in the method signature denote that the parameter is optional, not that you should type square brackets at that position. You will see this notation frequently in the Python Library Reference.)\n",
        "\n",
        "list.__clear__(): Remove all items from the list. Equivalent to `del a[:]`.\n",
        "\n",
        "list.__index__(x[, start [, end]]): Return zero-based in the list of the first item whose value is _x_. Raises a [ValueError](#) if there is no such item. The optional arguments _start_ and _end_ are interpreted as in the slice notation and are used to limit the search to a particular subsequence of the list. The returned index is computed relative to the beginning of the full sequence rather than the _start_ argument.\n",
        "\n",
        "list.__count__(x): Return the number of times _x_ appears in the list.\n",
        "\n",
        "list.__sort__(_key=None, reverse=False_): Sort the items of the list in place (the arguments can be used for sort customization, see [sorted()](#) for their explanation).\n",
        "\n",
        "list.__reverse__(): Reverse the elements of the list in place.\n",
        "\n",
        "list.__copy__(): Return a shallow copy of the list. Equivalent to `a[:]`.\n",
        "\n",
        "An example that uses most of the list methods:"
      ]
    },
    {
      "cell_type": "code",
      "metadata": {
        "id": "frU8Dt0m-rg0",
        "colab_type": "code",
        "colab": {
          "base_uri": "https://localhost:8080/",
          "height": 153
        },
        "outputId": "be5f2325-8457-4f1e-c319-eeb40f32e1a6"
      },
      "source": [
        "fruits = ['orange', 'apple', 'pear', 'banana', 'kiwi', 'apple', 'banana']\n",
        "print(fruits.count('apple'))\n",
        "print(fruits.count('tangerine'))\n",
        "print(fruits.index('banana'))\n",
        "print(fruits.index('banana', 4))  # Find next banana starting a position 4\n",
        "fruits.reverse()\n",
        "print(fruits)\n",
        "fruits.append('grape')\n",
        "print(fruits)\n",
        "fruits.sort()\n",
        "print(fruits)\n",
        "print(fruits.pop())"
      ],
      "execution_count": 2,
      "outputs": [
        {
          "output_type": "stream",
          "text": [
            "2\n",
            "0\n",
            "3\n",
            "6\n",
            "['banana', 'apple', 'kiwi', 'banana', 'pear', 'apple', 'orange']\n",
            "['banana', 'apple', 'kiwi', 'banana', 'pear', 'apple', 'orange', 'grape']\n",
            "['apple', 'apple', 'banana', 'banana', 'grape', 'kiwi', 'orange', 'pear']\n",
            "pear\n"
          ],
          "name": "stdout"
        }
      ]
    },
    {
      "cell_type": "markdown",
      "metadata": {
        "id": "blYLGJNe_f3P",
        "colab_type": "text"
      },
      "source": [
        "You might have noticed that methods like `insert`, `remove`, or `sort` that only modify the list have no return value printed - they return the default `None`. [[1]](#) This is a design principle for all mutable data structures in Python.\n",
        "\n",
        "[[1]](#) Other languages may return the mutated object, which allows method chaining, such as `d->insert(\"a\")->remove(\"b\")->sort();`."
      ]
    },
    {
      "cell_type": "markdown",
      "metadata": {
        "id": "gx4vfhhgA0ak",
        "colab_type": "text"
      },
      "source": [
        "## 5.1.3. List Comprehensions\n",
        "\n",
        "List comprehensions provide a concise way to create lists. Common applications are to make new lists where each element is the result of some operations applied to each member of another sequence or iterable, or to create a subsequence of those elements that satisfy a certain condition.\n",
        "\n",
        "For example, assume we want to create a list of squares, like:"
      ]
    },
    {
      "cell_type": "code",
      "metadata": {
        "id": "61Lq3gL6BLL4",
        "colab_type": "code",
        "colab": {
          "base_uri": "https://localhost:8080/",
          "height": 34
        },
        "outputId": "891fc716-cf35-49f3-c024-8de5ccd78506"
      },
      "source": [
        "squares = list(map(lambda x: x**2, range(10)))\n",
        "squares"
      ],
      "execution_count": 7,
      "outputs": [
        {
          "output_type": "execute_result",
          "data": {
            "text/plain": [
              "[0, 1, 4, 9, 16, 25, 36, 49, 64, 81]"
            ]
          },
          "metadata": {
            "tags": []
          },
          "execution_count": 7
        }
      ]
    },
    {
      "cell_type": "code",
      "metadata": {
        "id": "WhFO0c31BU8y",
        "colab_type": "code",
        "colab": {
          "base_uri": "https://localhost:8080/",
          "height": 34
        },
        "outputId": "6e91ed52-aae1-419b-86e7-ee50a4ff600c"
      },
      "source": [
        "squares = [x**2 for x in range(10)]\n",
        "squares"
      ],
      "execution_count": 9,
      "outputs": [
        {
          "output_type": "execute_result",
          "data": {
            "text/plain": [
              "[0, 1, 4, 9, 16, 25, 36, 49, 64, 81]"
            ]
          },
          "metadata": {
            "tags": []
          },
          "execution_count": 9
        }
      ]
    },
    {
      "cell_type": "markdown",
      "metadata": {
        "id": "3Hp-EMQfBuW3",
        "colab_type": "text"
      },
      "source": [
        "### 5.3. Tuples and Sequences\n",
        "\n",
        "We saw that lists and strings have many common properties, such as indexing and slicing operations. They are **two examples of _sequence_ data types** (see [Sequence Types -- list, tuple, range](#)). Since Python is an evolving language, other sequence data types may be added. There is also **another standard sequence data type: the _tuple_**.\n",
        "\n",
        "A tuple consists of a __number of values separated by commas__, for instance:"
      ]
    },
    {
      "cell_type": "code",
      "metadata": {
        "id": "8w4OR2IpCMBO",
        "colab_type": "code",
        "colab": {
          "base_uri": "https://localhost:8080/",
          "height": 119
        },
        "outputId": "a5e21989-944c-4ac2-e1ba-07408b1f974a"
      },
      "source": [
        "t = 12345, 54321, 'hello!'\n",
        "print(t[0])\n",
        "print(t)\n",
        "\n",
        "# Tuples may be nested:\n",
        "u = t, (1, 2, 3, 4, 5)\n",
        "print(u)\n",
        "\n",
        "# Tuples are immutable:\n",
        "# t[0] = 88888\n",
        "\n",
        "# but they can contain mutable objects:\n",
        "v = ([1, 2, 3], [3, 2, 1])\n",
        "print(v)\n",
        "print(v[0])\n",
        "\n",
        "v[0][0] = 4\n",
        "print(v)"
      ],
      "execution_count": 19,
      "outputs": [
        {
          "output_type": "stream",
          "text": [
            "12345\n",
            "(12345, 54321, 'hello!')\n",
            "((12345, 54321, 'hello!'), (1, 2, 3, 4, 5))\n",
            "([1, 2, 3], [3, 2, 1])\n",
            "[1, 2, 3]\n",
            "([4, 2, 3], [3, 2, 1])\n"
          ],
          "name": "stdout"
        }
      ]
    },
    {
      "cell_type": "markdown",
      "metadata": {
        "id": "Z-LkmpliDpoJ",
        "colab_type": "text"
      },
      "source": [
        "As you see, on output tuples are always enclosed in parentheses, so that nested tuples are interpreted correctly; they may be input with or without surrounding parentheses, although often parentheses are necessary anyway (if the tuple is part of a larger expression). It is not possible to assign to the individual items of a tuple, however it is possible to create tuples which contain mutable objects, such as lists.\n",
        "\n",
        "Though tuples may seem similar to lists, they are often used in different situations and for different purpose. Tuples are [immutable](#), and usually contain a heterogeneous sequence of elements that are accessed via unpacking (see later in this section) or indexing (or even by attribute in the case of [namedtuples](#)). Lists are [mutable](#), and their elements are usually homogeneous and are accessed by iterating over the list.\n",
        "\n",
        "A special problem is the construction of tuples containing 0 or 1 items: the syntax has some extra quirks to accommodate these. Empty tuples are constructed by an empty pair of parenthese; a tuple with one item is constructed by following a value with a comma (it is not sufficient to enclose a single value in parenthese). Ugly, but effective. For example:"
      ]
    },
    {
      "cell_type": "code",
      "metadata": {
        "id": "BrQZ1_9yL0ih",
        "colab_type": "code",
        "colab": {
          "base_uri": "https://localhost:8080/",
          "height": 68
        },
        "outputId": "54ce89c9-7233-41b6-fd9b-a26f1bf91571"
      },
      "source": [
        "empty = ()\n",
        "singleton = 'hello',  # <-- note trailing comma\n",
        "print(len(empty))\n",
        "print(len(singleton))\n",
        "print(singleton)"
      ],
      "execution_count": 20,
      "outputs": [
        {
          "output_type": "stream",
          "text": [
            "0\n",
            "1\n",
            "('hello',)\n"
          ],
          "name": "stdout"
        }
      ]
    },
    {
      "cell_type": "code",
      "metadata": {
        "id": "x80o8ZxiL8zw",
        "colab_type": "code",
        "colab": {
          "base_uri": "https://localhost:8080/",
          "height": 34
        },
        "outputId": "dd062ce1-cd56-4ec2-db6d-50fc1159a09e"
      },
      "source": [
        "lst = [i for i in range(10)]\n",
        "tple = 1, 2, 3, 4, 5, 6, 7, 8, 9, 10\n",
        "print(type(lst), type(tple))"
      ],
      "execution_count": 25,
      "outputs": [
        {
          "output_type": "stream",
          "text": [
            "<class 'list'> <class 'tuple'>\n"
          ],
          "name": "stdout"
        }
      ]
    },
    {
      "cell_type": "markdown",
      "metadata": {
        "id": "vQVy9IAtMUti",
        "colab_type": "text"
      },
      "source": [
        "The statement `t = 12345, 54321, 'hello'!` is an example of __tuple packing__: the values `12345`, `54321`, and `'hello!'` are packed together in a tuple. The reverse operation is also possible:"
      ]
    },
    {
      "cell_type": "code",
      "metadata": {
        "id": "uCFoFDv9M6al",
        "colab_type": "code",
        "colab": {
          "base_uri": "https://localhost:8080/",
          "height": 34
        },
        "outputId": "20319835-cff2-41e6-85c7-8eed89f3bbfe"
      },
      "source": [
        "x, y, z = t\n",
        "print(x, y, z)"
      ],
      "execution_count": 27,
      "outputs": [
        {
          "output_type": "stream",
          "text": [
            "12345 54321 hello!\n"
          ],
          "name": "stdout"
        }
      ]
    },
    {
      "cell_type": "markdown",
      "metadata": {
        "id": "HJu0mU4nNC08",
        "colab_type": "text"
      },
      "source": [
        "This is called, appropriately enough, _sequence unpacking_ and works for any sequence on the right-hand side. Sequence unpacking requires that there are as many variables on the left side of the equals sign as there are elements in the sequence. Note that multiple assignment is really just a combination of tuple packing and sequence unpacking."
      ]
    },
    {
      "cell_type": "markdown",
      "metadata": {
        "id": "QfKlDmDTN7hi",
        "colab_type": "text"
      },
      "source": [
        "## 5.4. Sets\n",
        "\n",
        "Python also includes a data type for _sets_. A set is an __unordered collection__ with __no duplicate elements__. Basic uses include __membership testing__ and __eliminating duplicate entries__. Set objects also support __mathematical operations__ like union, intersection, difference, and symmetric difference.\n",
        "\n",
        "Curly braces or the [set()](#) function can be used to create sets. Note: to create an empty set you have to use `set()`, not `{}`; the latter creates an empty dictionary, a data structure that we discuss in the next section.\n",
        "\n",
        "Here is a brief demonstration:"
      ]
    },
    {
      "cell_type": "code",
      "metadata": {
        "id": "Rj5bXgGLPJQc",
        "colab_type": "code",
        "colab": {
          "base_uri": "https://localhost:8080/",
          "height": 153
        },
        "outputId": "2fa1e765-91cc-47df-8e8a-5adb309cbe3e"
      },
      "source": [
        "# A set is an unordered collection with no duplicate elements\n",
        "# Basic uses include membership testing and eliminating duplicate entries\n",
        "basket = {'apple', 'orange', 'apple', 'pear', 'orange', 'banana'}\n",
        "print(basket)\n",
        "print('orange' in basket) # fast membership testing\n",
        "print('crabgrass' in basket)\n",
        "\n",
        "# Demonstrate set operations on unique letters from two words\n",
        "a = set('abracadabra')\n",
        "b = set('alacazam')\n",
        "print(a)  # unique leeters in a\n",
        "print(a - b)  # letters in a but not in b\n",
        "print(a | b)  # letters in a or b or both\n",
        "print(a & b)  # letters in both a and b\n",
        "print(a ^ b)  # letters in a or b but not both"
      ],
      "execution_count": 34,
      "outputs": [
        {
          "output_type": "stream",
          "text": [
            "{'apple', 'pear', 'orange', 'banana'}\n",
            "True\n",
            "False\n",
            "{'c', 'r', 'b', 'd', 'a'}\n",
            "{'r', 'b', 'd'}\n",
            "{'m', 'c', 'r', 'd', 'b', 'z', 'l', 'a'}\n",
            "{'c', 'a'}\n",
            "{'z', 'l', 'd', 'm', 'r', 'b'}\n"
          ],
          "name": "stdout"
        }
      ]
    },
    {
      "cell_type": "markdown",
      "metadata": {
        "id": "whM2c-10QJq-",
        "colab_type": "text"
      },
      "source": [
        "Similarly to [list comprehensions](#), set comprehensions are also supported:"
      ]
    },
    {
      "cell_type": "code",
      "metadata": {
        "id": "dzXQEIj7QOp6",
        "colab_type": "code",
        "colab": {
          "base_uri": "https://localhost:8080/",
          "height": 34
        },
        "outputId": "fa0363c0-265d-420b-ff2b-056871dd7668"
      },
      "source": [
        "a = { x for x in 'abracadabra' if x not in 'abc' }\n",
        "a"
      ],
      "execution_count": 35,
      "outputs": [
        {
          "output_type": "execute_result",
          "data": {
            "text/plain": [
              "{'d', 'r'}"
            ]
          },
          "metadata": {
            "tags": []
          },
          "execution_count": 35
        }
      ]
    },
    {
      "cell_type": "markdown",
      "metadata": {
        "id": "1jTtTnfYQjrU",
        "colab_type": "text"
      },
      "source": [
        "### 5.5 Dictionaries\n",
        "\n",
        "Another useful data type built into Python is the _dictionary_ (see [Mapping Types - dict](#)). Dictionaries are sometimes found in other languages as \"associative memories\" or \"associative arrays\". Unlike sequences, which are indexed by a range of numbers, dictionaries are indexed by _keys_, which can be any immutable type; strings and numbers can always be keys. Tuples can be used as keys if they contain only strings, numbers, or tuples; if a tuple contains any mutable object either directly or indirectly, it cannot be used as a key. You can't use lists as keys, since lists can be modified in place using index assignments, slice assignments, or methods like append() and extend().\n",
        "\n",
        "It is best to think of a dictionary as an unordered set of _key: value_ pairs, with the requirement that the keys are unique (within one dictionary). A pair of braces creates an empty dictionary: `{}`. Placing a comma-separated list of key:value pairs within the braces adds initial key:value pairs to the dictionary; this also the way dictionaries are written on output.\n",
        "\n",
        "The main operations on a dictionary are:\n",
        "  1. storing a value with some key\n",
        "  1. extracting the value given the key\n",
        "  1. delete a key:value pair with `del`\n",
        "\n",
        "If you store using a key that is already in use, the old value associated with that key is forgotten. It is an error to extract a value using a non-existent key.\n",
        "\n",
        "Performing `list(d.keys())` on a dictionary returns a list of all the keys used in the dictionary, in arbitrary order (if you want it sorted, just use `sorted(d.keys())` instead). [[2]](#) To check whether a single key is in the dictionary, use the [in](#) keyword.\n",
        "\n",
        "Here is a small example using a dictionary:"
      ]
    },
    {
      "cell_type": "code",
      "metadata": {
        "id": "fJUVoOLXTy5G",
        "colab_type": "code",
        "colab": {
          "base_uri": "https://localhost:8080/",
          "height": 187
        },
        "outputId": "333361dc-ed04-4caa-fdb5-f17b8a0b933e"
      },
      "source": [
        "tel = { 'jack': 4098, 'sape': 4139 }\n",
        "tel['guido'] = 4127\n",
        "print(tel)\n",
        "\n",
        "print(list(tel.keys()))\n",
        "print(sorted(tel.keys()))\n",
        "print(list(tel.values()))\n",
        "print(sorted(tel.values()))\n",
        "\n",
        "print(tel['jack'])\n",
        "del tel['sape']\n",
        "print(tel)\n",
        "\n",
        "tel['irv'] = 4127\n",
        "print(tel)\n",
        "\n",
        "print('guido' in tel)\n",
        "print('jack' not in tel)"
      ],
      "execution_count": 46,
      "outputs": [
        {
          "output_type": "stream",
          "text": [
            "{'jack': 4098, 'sape': 4139, 'guido': 4127}\n",
            "['jack', 'sape', 'guido']\n",
            "['guido', 'jack', 'sape']\n",
            "[4098, 4139, 4127]\n",
            "[4098, 4127, 4139]\n",
            "4098\n",
            "{'jack': 4098, 'guido': 4127}\n",
            "{'jack': 4098, 'guido': 4127, 'irv': 4127}\n",
            "True\n",
            "False\n"
          ],
          "name": "stdout"
        }
      ]
    },
    {
      "cell_type": "markdown",
      "metadata": {
        "id": "OeuS8s4UU5EG",
        "colab_type": "text"
      },
      "source": [
        "The [dict()](#) constructor builds dictionaries directly from sequences of key-value pairs:"
      ]
    },
    {
      "cell_type": "code",
      "metadata": {
        "id": "6UgHmnQJU-qo",
        "colab_type": "code",
        "colab": {
          "base_uri": "https://localhost:8080/",
          "height": 34
        },
        "outputId": "2d4404a4-33aa-4b30-eefe-87f450dbed79"
      },
      "source": [
        "dict([('sape', 4139), ('guido', 4127), ('jack', 4098)])"
      ],
      "execution_count": 47,
      "outputs": [
        {
          "output_type": "execute_result",
          "data": {
            "text/plain": [
              "{'guido': 4127, 'jack': 4098, 'sape': 4139}"
            ]
          },
          "metadata": {
            "tags": []
          },
          "execution_count": 47
        }
      ]
    },
    {
      "cell_type": "markdown",
      "metadata": {
        "id": "ySh4KzAQVJuQ",
        "colab_type": "text"
      },
      "source": [
        "In addition, dict comprehensions can be used to create dictionaries from arbitrary key and value expressions:"
      ]
    },
    {
      "cell_type": "code",
      "metadata": {
        "id": "Yz_bHZpVVPhR",
        "colab_type": "code",
        "colab": {
          "base_uri": "https://localhost:8080/",
          "height": 34
        },
        "outputId": "efb0b11a-642f-4264-a407-0a0f95aab11b"
      },
      "source": [
        "{ x: x**2 for x in (2, 4, 6) }"
      ],
      "execution_count": 48,
      "outputs": [
        {
          "output_type": "execute_result",
          "data": {
            "text/plain": [
              "{2: 4, 4: 16, 6: 36}"
            ]
          },
          "metadata": {
            "tags": []
          },
          "execution_count": 48
        }
      ]
    },
    {
      "cell_type": "code",
      "metadata": {
        "id": "Y529VWQyVVBC",
        "colab_type": "code",
        "colab": {
          "base_uri": "https://localhost:8080/",
          "height": 68
        },
        "outputId": "29b6d9ee-1363-48ef-fe9e-291ed5b8d108"
      },
      "source": [
        "for x in 2, 4, 6:\n",
        "  print(x)"
      ],
      "execution_count": 49,
      "outputs": [
        {
          "output_type": "stream",
          "text": [
            "2\n",
            "4\n",
            "6\n"
          ],
          "name": "stdout"
        }
      ]
    },
    {
      "cell_type": "code",
      "metadata": {
        "id": "HK2WjVu1Vaga",
        "colab_type": "code",
        "colab": {
          "base_uri": "https://localhost:8080/",
          "height": 85
        },
        "outputId": "2cc5b478-9f84-4dd3-9de2-7e08e1cd5151"
      },
      "source": [
        "t = 2, 4, 6\n",
        "print(type(t), t)\n",
        "\n",
        "for x in t:\n",
        "  print(x)"
      ],
      "execution_count": 50,
      "outputs": [
        {
          "output_type": "stream",
          "text": [
            "<class 'tuple'> (2, 4, 6)\n",
            "2\n",
            "4\n",
            "6\n"
          ],
          "name": "stdout"
        }
      ]
    },
    {
      "cell_type": "markdown",
      "metadata": {
        "id": "Vuzbb583Vg7t",
        "colab_type": "text"
      },
      "source": [
        "When the keys are simple strings, it is sometimes easier to specify pairs using keyword arguments:"
      ]
    },
    {
      "cell_type": "code",
      "metadata": {
        "id": "g8xtXHC_Voer",
        "colab_type": "code",
        "colab": {
          "base_uri": "https://localhost:8080/",
          "height": 34
        },
        "outputId": "65b12e66-ff04-47e9-9c64-f48a3397b60a"
      },
      "source": [
        "dict(sape=4139, guido=4127, jack=4098)"
      ],
      "execution_count": 51,
      "outputs": [
        {
          "output_type": "execute_result",
          "data": {
            "text/plain": [
              "{'guido': 4127, 'jack': 4098, 'sape': 4139}"
            ]
          },
          "metadata": {
            "tags": []
          },
          "execution_count": 51
        }
      ]
    },
    {
      "cell_type": "markdown",
      "metadata": {
        "id": "WqpSdRVDVtVs",
        "colab_type": "text"
      },
      "source": [
        "## 5.6. Looping Techniques\n",
        "\n",
        "When looping through dictionaries, the key and corresponding value can be retrieved at the same time using the items() method."
      ]
    },
    {
      "cell_type": "code",
      "metadata": {
        "id": "4Jsi8-YaV2r2",
        "colab_type": "code",
        "colab": {
          "base_uri": "https://localhost:8080/",
          "height": 51
        },
        "outputId": "a122055e-2c33-4769-c87b-43b0d056724c"
      },
      "source": [
        "knights = {'gallahad': 'the pure', 'robin': 'the brave'}\n",
        "for k, v in knights.items():\n",
        "  print('key:', k, ' value:', v)"
      ],
      "execution_count": 55,
      "outputs": [
        {
          "output_type": "stream",
          "text": [
            "key: gallahad  value: the pure\n",
            "key: robin  value: the brave\n"
          ],
          "name": "stdout"
        }
      ]
    },
    {
      "cell_type": "markdown",
      "metadata": {
        "id": "PYQX1u4oWKfW",
        "colab_type": "text"
      },
      "source": [
        "When looping through a sequence, the position index and corresponding value can be retrieved at the same time using the [enumerate()](#) function."
      ]
    },
    {
      "cell_type": "code",
      "metadata": {
        "id": "H8eM2_ZMWRVX",
        "colab_type": "code",
        "colab": {
          "base_uri": "https://localhost:8080/",
          "height": 68
        },
        "outputId": "4bff1660-f8d6-40a2-a16e-ed02f6fe6e96"
      },
      "source": [
        "for i, v in enumerate(['tic', 'tac', 'toe']):\n",
        "  print(i, v)"
      ],
      "execution_count": 56,
      "outputs": [
        {
          "output_type": "stream",
          "text": [
            "0 tic\n",
            "1 tac\n",
            "2 toe\n"
          ],
          "name": "stdout"
        }
      ]
    },
    {
      "cell_type": "code",
      "metadata": {
        "id": "f4vbaTRgWcLH",
        "colab_type": "code",
        "colab": {
          "base_uri": "https://localhost:8080/",
          "height": 68
        },
        "outputId": "f7da90f2-0ec8-4aed-ce7f-f040f78a2c1a"
      },
      "source": [
        "t = 2, 4, 6\n",
        "\n",
        "for i, v in enumerate(t):\n",
        "  print(i, v)"
      ],
      "execution_count": 57,
      "outputs": [
        {
          "output_type": "stream",
          "text": [
            "0 2\n",
            "1 4\n",
            "2 6\n"
          ],
          "name": "stdout"
        }
      ]
    },
    {
      "cell_type": "code",
      "metadata": {
        "id": "6x0TKLBcWgTW",
        "colab_type": "code",
        "colab": {
          "base_uri": "https://localhost:8080/",
          "height": 102
        },
        "outputId": "ab24d886-df46-49fa-88fc-a83216cdc78c"
      },
      "source": [
        "t = 'apple', 'banana', 'durian', 'cherry'\n",
        "\n",
        "print(type(t), t)\n",
        "\n",
        "for i, v in enumerate(t):\n",
        "  print(i, v)"
      ],
      "execution_count": 68,
      "outputs": [
        {
          "output_type": "stream",
          "text": [
            "<class 'tuple'> ('apple', 'banana', 'durian', 'cherry')\n",
            "0 apple\n",
            "1 banana\n",
            "2 durian\n",
            "3 cherry\n"
          ],
          "name": "stdout"
        }
      ]
    },
    {
      "cell_type": "markdown",
      "metadata": {
        "id": "gvTgdDnrXgzk",
        "colab_type": "text"
      },
      "source": [
        "To loop over two or more sequences at the same time, the entries can be paired with the [zip()](#) function."
      ]
    },
    {
      "cell_type": "code",
      "metadata": {
        "id": "nbFqHyQkXnUn",
        "colab_type": "code",
        "colab": {
          "base_uri": "https://localhost:8080/",
          "height": 68
        },
        "outputId": "10b3a0a2-c262-46f1-f575-170e36665340"
      },
      "source": [
        "questions = ['name', 'quest', 'favorite color']\n",
        "answers = ['lancelot', 'the holy grail', 'blue']\n",
        "\n",
        "for q, a in zip(questions, answers):\n",
        "  print('What is your {0}? It is {1}.'.format(q, a))"
      ],
      "execution_count": 72,
      "outputs": [
        {
          "output_type": "stream",
          "text": [
            "What is your name? It is lancelot.\n",
            "What is your quest? It is the holy grail.\n",
            "What is your favorite color? It is blue.\n"
          ],
          "name": "stdout"
        }
      ]
    },
    {
      "cell_type": "markdown",
      "metadata": {
        "id": "aaDuhTNWX8Ro",
        "colab_type": "text"
      },
      "source": [
        "To loop over a sequence in reverse, first specify the sequence in a forward direction and then call the [reversed()](#) function."
      ]
    },
    {
      "cell_type": "code",
      "metadata": {
        "id": "Ug9muJkiYDgo",
        "colab_type": "code",
        "colab": {
          "base_uri": "https://localhost:8080/",
          "height": 102
        },
        "outputId": "de1a6764-b9d0-4e35-84ba-fff60304c4a8"
      },
      "source": [
        "for i in reversed(range(1, 10, 2)):\n",
        "  print(i)"
      ],
      "execution_count": 73,
      "outputs": [
        {
          "output_type": "stream",
          "text": [
            "9\n",
            "7\n",
            "5\n",
            "3\n",
            "1\n"
          ],
          "name": "stdout"
        }
      ]
    },
    {
      "cell_type": "markdown",
      "metadata": {
        "id": "XkT5nOIzYMIf",
        "colab_type": "text"
      },
      "source": [
        "To loop over a sequence in sorted order, use the [sorted()](#) function which returns a new sorted list while leaving the source unaltered."
      ]
    },
    {
      "cell_type": "code",
      "metadata": {
        "id": "1w1ETNHHYTGQ",
        "colab_type": "code",
        "colab": {
          "base_uri": "https://localhost:8080/",
          "height": 85
        },
        "outputId": "5f8039f0-476d-40a0-83ec-77ce4c78ca88"
      },
      "source": [
        "basket = ['apple', 'orange', 'apple', 'pear', 'orange', 'banana']\n",
        "\n",
        "for f in sorted(set(basket)):\n",
        "  print(f)"
      ],
      "execution_count": 74,
      "outputs": [
        {
          "output_type": "stream",
          "text": [
            "apple\n",
            "banana\n",
            "orange\n",
            "pear\n"
          ],
          "name": "stdout"
        }
      ]
    },
    {
      "cell_type": "markdown",
      "metadata": {
        "id": "j5E14R-AYgcP",
        "colab_type": "text"
      },
      "source": [
        "It is sometimes tempting to change a list while you are looping over it; however, it is often simpler and safer to create a new list instead."
      ]
    },
    {
      "cell_type": "code",
      "metadata": {
        "id": "LxrG3nZIYl5O",
        "colab_type": "code",
        "colab": {
          "base_uri": "https://localhost:8080/",
          "height": 34
        },
        "outputId": "d730a2f8-e63a-47da-827a-6663a723ce75"
      },
      "source": [
        "import math\n",
        "\n",
        "raw_data = [56,2, float('NaN'), 51.7, 55.3, 52.5, float('NaN'), 47.8]\n",
        "filtered_data = []\n",
        "for value in raw_data:\n",
        "  if not math.isnan(value):\n",
        "    filtered_data.append(value)\n",
        "filtered_data"
      ],
      "execution_count": 75,
      "outputs": [
        {
          "output_type": "execute_result",
          "data": {
            "text/plain": [
              "[56, 2, 51.7, 55.3, 52.5, 47.8]"
            ]
          },
          "metadata": {
            "tags": []
          },
          "execution_count": 75
        }
      ]
    }
  ]
}