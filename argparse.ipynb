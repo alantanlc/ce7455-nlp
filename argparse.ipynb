{
  "nbformat": 4,
  "nbformat_minor": 0,
  "metadata": {
    "kernelspec": {
      "display_name": "Python 3",
      "language": "python",
      "name": "python3"
    },
    "language_info": {
      "codemirror_mode": {
        "name": "ipython",
        "version": 3
      },
      "file_extension": ".py",
      "mimetype": "text/x-python",
      "name": "python",
      "nbconvert_exporter": "python",
      "pygments_lexer": "ipython3",
      "version": "3.7.4"
    },
    "colab": {
      "name": "argparse.ipynb",
      "provenance": [],
      "include_colab_link": true
    }
  },
  "cells": [
    {
      "cell_type": "markdown",
      "metadata": {
        "id": "view-in-github",
        "colab_type": "text"
      },
      "source": [
        "<a href=\"https://colab.research.google.com/github/alanwuha/ce7455-nlp/blob/master/argparse.ipynb\" target=\"_parent\"><img src=\"https://colab.research.google.com/assets/colab-badge.svg\" alt=\"Open In Colab\"/></a>"
      ]
    },
    {
      "cell_type": "markdown",
      "metadata": {
        "id": "I35EAS07P039",
        "colab_type": "text"
      },
      "source": [
        "# Argparse Tutorial\n",
        "\n",
        "This tutorial is intended to be a gentle introduction to [argparse](#), the recommended command-line parsing module in the Python standard library. This was written for argparse in Python 3. A few details are different in 2.x, especially some exception messages, which were improved in 3.x.\n",
        "\n",
        "```\n",
        "__Note:__ There are two other modules that fulfill the same task, namely `getopt` (an equivalent for `getopt()` from the C language) and the deprecated `optparse`. Note also that `argparse` is based on `optparse`, and therefore very similar in terms of usage.\n",
        "```"
      ]
    },
    {
      "cell_type": "markdown",
      "metadata": {
        "id": "N9JHodEMQiky",
        "colab_type": "text"
      },
      "source": [
        "## Concepts\n",
        "\n",
        "Let's show the sort of functionality that we are going to explore in this introductory tutorial by making use of the __ls__ command:"
      ]
    },
    {
      "cell_type": "code",
      "metadata": {
        "id": "ISYhtREGQqBl",
        "colab_type": "code",
        "outputId": "e506fe1b-4aa9-4b97-c541-a85655663d3a",
        "colab": {
          "base_uri": "https://localhost:8080/",
          "height": 68
        }
      },
      "source": [
        "!ls\n",
        "!ls pypy\n",
        "!ls -l\n",
        "!ls --help"
      ],
      "execution_count": 0,
      "outputs": [
        {
          "output_type": "stream",
          "text": [
            "sample_data\n",
            "total 4\n",
            "drwxr-xr-x 1 root root 4096 Jan 13 16:38 sample_data\n"
          ],
          "name": "stdout"
        }
      ]
    },
    {
      "cell_type": "markdown",
      "metadata": {
        "id": "GuchC_zfQ7Vq",
        "colab_type": "text"
      },
      "source": [
        "A few concepts we can learn from the four commands:\n",
        "\n",
        "- The __ls__ command is useful when run without any options at all. It defaults to displaying the contents of the current directory.\n",
        "- If we want beyond what it provides by default, we tell it a bit more. In this case, we want it to display a different directory, `pypy`. What we did is specify what is known as a positional argument. It's named so because the progrom should know what to do with the value, solely based on where it appears on the command line. This concept is more relevant to a command like __cp__, whose most basic usage is `cp SRC DEST`. The first position is _what you want copied_, and the second position is _where you want it copied to_.\n",
        "- Now, say we want to change behaviour of the program. In our example, we display more info for each file instead of just showing the file names. The `-l` in that case is known as an optional argument.\n",
        "- That's a snippet of the help text. It's very useful in that you can come across a program you have never used before, and can figure out how it works simply by reading its help text."
      ]
    },
    {
      "cell_type": "markdown",
      "metadata": {
        "id": "1F426Q8ORtnY",
        "colab_type": "text"
      },
      "source": [
        "## The basics\n",
        "\n",
        "Let us start with a very simple example which does (almost) nothing):"
      ]
    },
    {
      "cell_type": "code",
      "metadata": {
        "id": "iH-jrGGYRycR",
        "colab_type": "code",
        "colab": {}
      },
      "source": [
        "f = open('prog.py', 'w', encoding='utf-8')\n",
        "f.write(\"\"\"import argparse\n",
        "\n",
        "parser = argparse.ArgumentParser()\n",
        "parser.parse_args()\n",
        "\"\"\")\n",
        "f.close()"
      ],
      "execution_count": 0,
      "outputs": []
    },
    {
      "cell_type": "code",
      "metadata": {
        "id": "MXzwbA9BSTce",
        "colab_type": "code",
        "outputId": "6fb2b561-0e1d-44da-cf9f-2992b770948c",
        "colab": {
          "base_uri": "https://localhost:8080/",
          "height": 85
        }
      },
      "source": [
        "!cat prog.py"
      ],
      "execution_count": 0,
      "outputs": [
        {
          "output_type": "stream",
          "text": [
            "import argparse\n",
            "\n",
            "parser = argparse.ArgumentParser()\n",
            "parser.parse_args()\n"
          ],
          "name": "stdout"
        }
      ]
    },
    {
      "cell_type": "markdown",
      "metadata": {
        "id": "ZBKS00y4R4vz",
        "colab_type": "text"
      },
      "source": [
        "Following is a result of running the code:"
      ]
    },
    {
      "cell_type": "code",
      "metadata": {
        "id": "UgP7_iM2SxCh",
        "colab_type": "code",
        "colab": {}
      },
      "source": [
        "!python prog.py"
      ],
      "execution_count": 0,
      "outputs": []
    },
    {
      "cell_type": "code",
      "metadata": {
        "id": "h0FJ7_j_TYOq",
        "colab_type": "code",
        "outputId": "9cd238a2-0435-4e64-9276-b2e40e7bd6cc",
        "colab": {
          "base_uri": "https://localhost:8080/",
          "height": 85
        }
      },
      "source": [
        "!python prog.py --help"
      ],
      "execution_count": 0,
      "outputs": [
        {
          "output_type": "stream",
          "text": [
            "usage: prog.py [-h]\n",
            "\n",
            "optional arguments:\n",
            "  -h, --help  show this help message and exit\n"
          ],
          "name": "stdout"
        }
      ]
    },
    {
      "cell_type": "code",
      "metadata": {
        "id": "3wfTPbECTht4",
        "colab_type": "code",
        "outputId": "f2203016-e00e-46d9-eb8b-e0fb5b7d372e",
        "colab": {
          "base_uri": "https://localhost:8080/",
          "height": 51
        }
      },
      "source": [
        "!python prog.py --verbose"
      ],
      "execution_count": 0,
      "outputs": [
        {
          "output_type": "stream",
          "text": [
            "usage: prog.py [-h]\n",
            "prog.py: error: unrecognized arguments: --verbose\n"
          ],
          "name": "stdout"
        }
      ]
    },
    {
      "cell_type": "code",
      "metadata": {
        "id": "iae_yfgvTmIw",
        "colab_type": "code",
        "outputId": "c6949e82-09cf-4bea-9782-edae46343bff",
        "colab": {
          "base_uri": "https://localhost:8080/",
          "height": 51
        }
      },
      "source": [
        "!python prog.py foo"
      ],
      "execution_count": 0,
      "outputs": [
        {
          "output_type": "stream",
          "text": [
            "usage: prog.py [-h]\n",
            "prog.py: error: unrecognized arguments: foo\n"
          ],
          "name": "stdout"
        }
      ]
    },
    {
      "cell_type": "markdown",
      "metadata": {
        "id": "Y4p-Xez-Tnqi",
        "colab_type": "text"
      },
      "source": [
        "Here is what is happening:\n",
        "\n",
        "- Running the script without any options results in nothing displayed to stdout. Not so useful.\n",
        "- The second one starts to display the usefulness of the `argparse` module. We have done almost nothing, but already we get a nice help message.\n",
        "- The `--help` option, which can also be shortened to `-h`, is the only option we get for free (i.e. no need to specify it). Specifying anything else results in an error. But even then, we do get a useful usage message, also for free."
      ]
    },
    {
      "cell_type": "markdown",
      "metadata": {
        "id": "jqj_fScMVMRN",
        "colab_type": "text"
      },
      "source": [
        "## Introducing Positional arguments"
      ]
    },
    {
      "cell_type": "markdown",
      "metadata": {
        "id": "L9HiM-Y6VkCn",
        "colab_type": "text"
      },
      "source": [
        "An example:"
      ]
    },
    {
      "cell_type": "code",
      "metadata": {
        "id": "q8fzv1AzVnMn",
        "colab_type": "code",
        "colab": {}
      },
      "source": [
        "f = open('prog2.py', 'w', encoding='utf-8')\n",
        "f.write(\"\"\"import argparse\n",
        "parser = argparse.ArgumentParser()\n",
        "parser.add_argument(\"echo\")\n",
        "args = parser.parse_args()\n",
        "print(args.echo)\"\"\")\n",
        "f.close()"
      ],
      "execution_count": 0,
      "outputs": []
    },
    {
      "cell_type": "code",
      "metadata": {
        "id": "MpGfziEMV_LH",
        "colab_type": "code",
        "outputId": "2a590147-0b5f-4a85-e684-cc5dff0ba428",
        "colab": {
          "base_uri": "https://localhost:8080/",
          "height": 102
        }
      },
      "source": [
        "!cat prog2.py"
      ],
      "execution_count": 0,
      "outputs": [
        {
          "output_type": "stream",
          "text": [
            "import argparse\n",
            "parser = argparse.ArgumentParser()\n",
            "parser.add_argument(\"echo\")\n",
            "args = parser.parse_args()\n",
            "print(args.echo)"
          ],
          "name": "stdout"
        }
      ]
    },
    {
      "cell_type": "markdown",
      "metadata": {
        "id": "CGJBFQnDWDZN",
        "colab_type": "text"
      },
      "source": [
        "And running the code:"
      ]
    },
    {
      "cell_type": "code",
      "metadata": {
        "id": "mOWQ_VjxWHPE",
        "colab_type": "code",
        "outputId": "f7afafff-82a0-4be1-d83f-b2986f41040e",
        "colab": {
          "base_uri": "https://localhost:8080/",
          "height": 51
        }
      },
      "source": [
        "!python prog2.py"
      ],
      "execution_count": 0,
      "outputs": [
        {
          "output_type": "stream",
          "text": [
            "usage: prog2.py [-h] echo\n",
            "prog2.py: error: the following arguments are required: echo\n"
          ],
          "name": "stdout"
        }
      ]
    },
    {
      "cell_type": "code",
      "metadata": {
        "id": "e72ItF7KWLh1",
        "colab_type": "code",
        "outputId": "ed6ffb5d-5c4b-41aa-9851-1e03f4a156cf",
        "colab": {
          "base_uri": "https://localhost:8080/",
          "height": 136
        }
      },
      "source": [
        "!python prog2.py --help"
      ],
      "execution_count": 0,
      "outputs": [
        {
          "output_type": "stream",
          "text": [
            "usage: prog2.py [-h] echo\n",
            "\n",
            "positional arguments:\n",
            "  echo\n",
            "\n",
            "optional arguments:\n",
            "  -h, --help  show this help message and exit\n"
          ],
          "name": "stdout"
        }
      ]
    },
    {
      "cell_type": "code",
      "metadata": {
        "id": "LJupsvw3WToF",
        "colab_type": "code",
        "outputId": "95a957f7-2276-44f8-f85f-da82b19d0927",
        "colab": {
          "base_uri": "https://localhost:8080/",
          "height": 34
        }
      },
      "source": [
        "!python prog2.py foo"
      ],
      "execution_count": 0,
      "outputs": [
        {
          "output_type": "stream",
          "text": [
            "foo\n"
          ],
          "name": "stdout"
        }
      ]
    },
    {
      "cell_type": "markdown",
      "metadata": {
        "id": "OmiKoIuxWh9V",
        "colab_type": "text"
      },
      "source": [
        "Here is what's happening:\n",
        "\n",
        "- We've added the __add_argument()__ method, which is what we use to specify which command-line options the program is willing to accept. In this case, I've named it `echo` so that it's in line with its function.\n",
        "- Calling our program now requires us to specify an option.\n",
        "- The __parse_args()__ method actually returns some data from the options specified, in thie case, `echo`.\n",
        "- The variable is some form of 'magic' that `argparse` performs for free (i.e. no need to specify which variable that value is stored in). You will also notice that its name matches the string argument given to the method, `echo`.\n",
        "\n",
        "Note however that, although the help display looks nice and all, it currently is not as helpful as it can be. For example we see that we got `echo` as a positional argument, but we don't know what i does, other than by guessing or by reading the source code. So, let's make it a bit more useful:"
      ]
    },
    {
      "cell_type": "code",
      "metadata": {
        "id": "w5l2QhDe1g5G",
        "colab_type": "code",
        "colab": {
          "base_uri": "https://localhost:8080/",
          "height": 119
        },
        "outputId": "bfaa5259-d01c-4276-83f4-1651064e05a8"
      },
      "source": [
        "f = open('prog3.py', 'w', encoding='utf-8')\n",
        "f.write(\"\"\"import argparse\n",
        "parser = argparse.ArgumentParser()\n",
        "parser.add_argument('echo', help='echo the string you use here')\n",
        "args = parser.parse_args()\n",
        "\n",
        "print(args.echo)\n",
        "\"\"\")\n",
        "f.close()\n",
        "\n",
        "!cat prog3.py"
      ],
      "execution_count": 1,
      "outputs": [
        {
          "output_type": "stream",
          "text": [
            "import argparse\n",
            "parser = argparse.ArgumentParser()\n",
            "parser.add_argument('echo', help='echo the string you use here')\n",
            "args = parser.parse_args()\n",
            "\n",
            "print(args.echo)\n"
          ],
          "name": "stdout"
        }
      ]
    },
    {
      "cell_type": "markdown",
      "metadata": {
        "id": "YV_JqcYv10iZ",
        "colab_type": "text"
      },
      "source": [
        "And we get:"
      ]
    },
    {
      "cell_type": "code",
      "metadata": {
        "id": "yktO1rxN13Kj",
        "colab_type": "code",
        "colab": {
          "base_uri": "https://localhost:8080/",
          "height": 136
        },
        "outputId": "8225ab55-398d-4056-d76f-2a2fdb8acbaf"
      },
      "source": [
        "!python prog3.py -h"
      ],
      "execution_count": 2,
      "outputs": [
        {
          "output_type": "stream",
          "text": [
            "usage: prog3.py [-h] echo\n",
            "\n",
            "positional arguments:\n",
            "  echo        echo the string you use here\n",
            "\n",
            "optional arguments:\n",
            "  -h, --help  show this help message and exit\n"
          ],
          "name": "stdout"
        }
      ]
    },
    {
      "cell_type": "markdown",
      "metadata": {
        "id": "eOuzdqyz2FoY",
        "colab_type": "text"
      },
      "source": [
        "Now, how about doing something even more useful:"
      ]
    },
    {
      "cell_type": "code",
      "metadata": {
        "id": "r92vHxnk2LBk",
        "colab_type": "code",
        "colab": {
          "base_uri": "https://localhost:8080/",
          "height": 119
        },
        "outputId": "d2ab42b8-5853-4ea4-d094-485b9d581c17"
      },
      "source": [
        "f = open('prog4.py', 'w', encoding='utf-8')\n",
        "f.write(\"\"\"import argparse\n",
        "parser = argparse.ArgumentParser()\n",
        "parser.add_argument('square', help='display a square of a given number')\n",
        "args = parser.parse_args()\n",
        "\n",
        "print(args.square ** 2)\n",
        "\"\"\")\n",
        "f.close()\n",
        "\n",
        "!cat prog4.py"
      ],
      "execution_count": 3,
      "outputs": [
        {
          "output_type": "stream",
          "text": [
            "import argparse\n",
            "parser = argparse.ArgumentParser()\n",
            "parser.add_argument('square', help='display a square of a given number')\n",
            "args = parser.parse_args()\n",
            "\n",
            "print(args.square ** 2)\n"
          ],
          "name": "stdout"
        }
      ]
    },
    {
      "cell_type": "markdown",
      "metadata": {
        "id": "geRO2zDW2dl-",
        "colab_type": "text"
      },
      "source": [
        "Following is a result of running the code:"
      ]
    },
    {
      "cell_type": "code",
      "metadata": {
        "id": "KPnNE6qf2h-D",
        "colab_type": "code",
        "colab": {
          "base_uri": "https://localhost:8080/",
          "height": 85
        },
        "outputId": "2c4be99b-271f-4773-91bc-475e0ec30fb7"
      },
      "source": [
        "!python prog4.py 4"
      ],
      "execution_count": 4,
      "outputs": [
        {
          "output_type": "stream",
          "text": [
            "Traceback (most recent call last):\n",
            "  File \"prog4.py\", line 6, in <module>\n",
            "    print(args.square ** 2)\n",
            "TypeError: unsupported operand type(s) for ** or pow(): 'str' and 'int'\n"
          ],
          "name": "stdout"
        }
      ]
    },
    {
      "cell_type": "markdown",
      "metadata": {
        "id": "D2sz-FZM2lgk",
        "colab_type": "text"
      },
      "source": [
        "That didn't go so well. That's because [argparse](#) treats the options we give it as strings, unless we tell it otherwise. So, let's tell [argparse](#) to treat that input as an integer:"
      ]
    },
    {
      "cell_type": "code",
      "metadata": {
        "id": "xZdKmv2F2uVC",
        "colab_type": "code",
        "colab": {
          "base_uri": "https://localhost:8080/",
          "height": 119
        },
        "outputId": "6d289bd3-6e5f-4ecc-b3ad-3be6c091c199"
      },
      "source": [
        "f = open('prog4.py', 'w', encoding='utf-8')\n",
        "f.write(\"\"\"import argparse\n",
        "parser = argparse.ArgumentParser()\n",
        "parser.add_argument('square', help='display a square of a given number', type=int)\n",
        "args = parser.parse_args()\n",
        "\n",
        "print(args.square ** 2)\n",
        "\"\"\")\n",
        "f.close()\n",
        "\n",
        "!cat prog4.py"
      ],
      "execution_count": 5,
      "outputs": [
        {
          "output_type": "stream",
          "text": [
            "import argparse\n",
            "parser = argparse.ArgumentParser()\n",
            "parser.add_argument('square', help='display a square of a given number', type=int)\n",
            "args = parser.parse_args()\n",
            "\n",
            "print(args.square ** 2)\n"
          ],
          "name": "stdout"
        }
      ]
    },
    {
      "cell_type": "code",
      "metadata": {
        "id": "3ldUl1xf3H5y",
        "colab_type": "code",
        "colab": {
          "base_uri": "https://localhost:8080/",
          "height": 34
        },
        "outputId": "9bb2ef59-f61d-425c-af81-dba5a35da8f3"
      },
      "source": [
        "!python prog4.py 4"
      ],
      "execution_count": 6,
      "outputs": [
        {
          "output_type": "stream",
          "text": [
            "16\n"
          ],
          "name": "stdout"
        }
      ]
    },
    {
      "cell_type": "code",
      "metadata": {
        "id": "x47YWx_L3Klo",
        "colab_type": "code",
        "colab": {
          "base_uri": "https://localhost:8080/",
          "height": 51
        },
        "outputId": "83aeeffb-8829-4504-c0cf-a825ee55fa97"
      },
      "source": [
        "!python prog4.py four"
      ],
      "execution_count": 7,
      "outputs": [
        {
          "output_type": "stream",
          "text": [
            "usage: prog4.py [-h] square\n",
            "prog4.py: error: argument square: invalid int value: 'four'\n"
          ],
          "name": "stdout"
        }
      ]
    },
    {
      "cell_type": "markdown",
      "metadata": {
        "id": "gDdKvX2e3Nuy",
        "colab_type": "text"
      },
      "source": [
        "That went well. The program now even helpfully quits on bad illegal input before proceeding."
      ]
    },
    {
      "cell_type": "markdown",
      "metadata": {
        "id": "wYxKGVHD3SJz",
        "colab_type": "text"
      },
      "source": [
        "## Introducing Optional arguments\n",
        "\n",
        "So far we have been playing with positional arguments. Let us have a look on how to add optional ones:"
      ]
    },
    {
      "cell_type": "code",
      "metadata": {
        "id": "LWXoBeIW3oPd",
        "colab_type": "code",
        "colab": {
          "base_uri": "https://localhost:8080/",
          "height": 153
        },
        "outputId": "8e90f864-fefc-4986-d746-3db929e54aeb"
      },
      "source": [
        "f = open('prog5.py', 'w', encoding='utf-8')\n",
        "f.write(\"\"\"import argparse\n",
        "parser = argparse.ArgumentParser()\n",
        "parser.add_argument('--verbosity', type=int, help='increase output verbosity')\n",
        "args = parser.parse_args()\n",
        "if args.verbosity:\n",
        "  print(\"verbosity turned on\")\n",
        "else:\n",
        "  print(\"verbosity turned off\")\n",
        "\"\"\")\n",
        "f.close()\n",
        "\n",
        "!cat prog5.py"
      ],
      "execution_count": 49,
      "outputs": [
        {
          "output_type": "stream",
          "text": [
            "import argparse\n",
            "parser = argparse.ArgumentParser()\n",
            "parser.add_argument('--verbosity', type=int, help='increase output verbosity')\n",
            "args = parser.parse_args()\n",
            "if args.verbosity:\n",
            "  print(\"verbosity turned on\")\n",
            "else:\n",
            "  print(\"verbosity turned off\")\n"
          ],
          "name": "stdout"
        }
      ]
    },
    {
      "cell_type": "markdown",
      "metadata": {
        "id": "9UQSNYtU4JnM",
        "colab_type": "text"
      },
      "source": [
        "And the output:"
      ]
    },
    {
      "cell_type": "code",
      "metadata": {
        "id": "KYj04v8C5nw7",
        "colab_type": "code",
        "colab": {
          "base_uri": "https://localhost:8080/",
          "height": 34
        },
        "outputId": "c8ee44c7-7c6b-4e71-9fbf-1aa3fe31df90"
      },
      "source": [
        "!python prog5.py --verbosity 1"
      ],
      "execution_count": 50,
      "outputs": [
        {
          "output_type": "stream",
          "text": [
            "verbosity turned on\n"
          ],
          "name": "stdout"
        }
      ]
    },
    {
      "cell_type": "code",
      "metadata": {
        "id": "WXnYI8jXCKbk",
        "colab_type": "code",
        "colab": {
          "base_uri": "https://localhost:8080/",
          "height": 34
        },
        "outputId": "627146e6-9f47-4453-b3fd-1220191e093d"
      },
      "source": [
        "!python prog5.py --verbosity 0"
      ],
      "execution_count": 51,
      "outputs": [
        {
          "output_type": "stream",
          "text": [
            "verbosity turned off\n"
          ],
          "name": "stdout"
        }
      ]
    },
    {
      "cell_type": "code",
      "metadata": {
        "id": "549rHBZ_CNMr",
        "colab_type": "code",
        "colab": {
          "base_uri": "https://localhost:8080/",
          "height": 34
        },
        "outputId": "987d79bf-e65e-4e26-fa07-6d46795220cc"
      },
      "source": [
        "!python prog5.py --verbosity -1"
      ],
      "execution_count": 52,
      "outputs": [
        {
          "output_type": "stream",
          "text": [
            "verbosity turned on\n"
          ],
          "name": "stdout"
        }
      ]
    },
    {
      "cell_type": "code",
      "metadata": {
        "id": "L0gzmIyJ5rHa",
        "colab_type": "code",
        "colab": {
          "base_uri": "https://localhost:8080/",
          "height": 51
        },
        "outputId": "a8fc197b-f5da-4e1e-f9cf-0632ff5b1cad"
      },
      "source": [
        "!python prog5.py --verbosity"
      ],
      "execution_count": 20,
      "outputs": [
        {
          "output_type": "stream",
          "text": [
            "usage: prog5.py [-h] [--verbosity VERBOSITY]\n",
            "prog5.py: error: argument --verbosity: expected one argument\n"
          ],
          "name": "stdout"
        }
      ]
    },
    {
      "cell_type": "markdown",
      "metadata": {
        "id": "SiBQbGWh7HPz",
        "colab_type": "text"
      },
      "source": [
        "Here is what is happening:\n",
        "\n",
        "- The program is written so as to display something when `--verbosity` is specified and display nothing when not.\n",
        "- To show that the option is actually optional, there is no error when running the program without it. Note that by default, if an optional argument isn't used, the relevant variable, in this case __args.verbosity__, is given `None` as a value, which is the reason it fails the truth test of the [if](#) statement.\n",
        "- The help message is a bit different.\n",
        "- When using the `--verbosity` option, one must also specify some value, any value.\n",
        "\n",
        "The above example accepts arbitrary integer values for `--verbosity`, but for our simple program, only two values are actually useful, `True` or `False`. Let's modify the code accordingly:"
      ]
    },
    {
      "cell_type": "code",
      "metadata": {
        "id": "pBvGxD_O8EQl",
        "colab_type": "code",
        "colab": {
          "base_uri": "https://localhost:8080/",
          "height": 119
        },
        "outputId": "634edbd4-7656-4484-8acb-586f7dd428bc"
      },
      "source": [
        "f = open('prog6.py', 'w', encoding='utf-8')\n",
        "f.write(\"\"\"import argparse\n",
        "parser = argparse.ArgumentParser()\n",
        "parser.add_argument('--verbose', help='increase output verbosity', action='store_true')\n",
        "args = parser.parse_args()\n",
        "if(args.verbose):\n",
        "  print('verbosity turned on')\n",
        "\"\"\")\n",
        "f.close()\n",
        "\n",
        "!cat prog6.py"
      ],
      "execution_count": 21,
      "outputs": [
        {
          "output_type": "stream",
          "text": [
            "import argparse\n",
            "parser = argparse.ArgumentParser()\n",
            "parser.add_argument('--verbose', help='increase output verbosity', action='store_true')\n",
            "args = parser.parse_args()\n",
            "if(args.verbose):\n",
            "  print('verbosity turned on')\n"
          ],
          "name": "stdout"
        }
      ]
    },
    {
      "cell_type": "code",
      "metadata": {
        "id": "a0B7F5PW8fbs",
        "colab_type": "code",
        "colab": {
          "base_uri": "https://localhost:8080/",
          "height": 34
        },
        "outputId": "2e96154b-d86f-45eb-c96c-68744aa5b2dd"
      },
      "source": [
        "!python prog6.py --verbose"
      ],
      "execution_count": 24,
      "outputs": [
        {
          "output_type": "stream",
          "text": [
            "verbosity turned on\n"
          ],
          "name": "stdout"
        }
      ]
    },
    {
      "cell_type": "code",
      "metadata": {
        "id": "XEQnlUM-8lbd",
        "colab_type": "code",
        "colab": {
          "base_uri": "https://localhost:8080/",
          "height": 51
        },
        "outputId": "dbde77e4-1da3-43d7-e815-b7d653aec6ad"
      },
      "source": [
        "!python prog6.py --verbose 1"
      ],
      "execution_count": 25,
      "outputs": [
        {
          "output_type": "stream",
          "text": [
            "usage: prog6.py [-h] [--verbose]\n",
            "prog6.py: error: unrecognized arguments: 1\n"
          ],
          "name": "stdout"
        }
      ]
    },
    {
      "cell_type": "code",
      "metadata": {
        "id": "D1Qev4N38oYq",
        "colab_type": "code",
        "colab": {
          "base_uri": "https://localhost:8080/",
          "height": 102
        },
        "outputId": "75dd445f-4060-405c-a6ca-0bb43ad0339f"
      },
      "source": [
        "!python prog6.py --help"
      ],
      "execution_count": 26,
      "outputs": [
        {
          "output_type": "stream",
          "text": [
            "usage: prog6.py [-h] [--verbose]\n",
            "\n",
            "optional arguments:\n",
            "  -h, --help  show this help message and exit\n",
            "  --verbose   increase output verbosity\n"
          ],
          "name": "stdout"
        }
      ]
    },
    {
      "cell_type": "code",
      "metadata": {
        "id": "nu-pQCNs9M3H",
        "colab_type": "code",
        "colab": {
          "base_uri": "https://localhost:8080/",
          "height": 119
        },
        "outputId": "1155e43a-7eb5-4273-ffd0-5461f62db9ea"
      },
      "source": [
        "!python prog5.py --help"
      ],
      "execution_count": 27,
      "outputs": [
        {
          "output_type": "stream",
          "text": [
            "usage: prog5.py [-h] [--verbosity VERBOSITY]\n",
            "\n",
            "optional arguments:\n",
            "  -h, --help            show this help message and exit\n",
            "  --verbosity VERBOSITY\n",
            "                        increase output verbosity\n"
          ],
          "name": "stdout"
        }
      ]
    },
    {
      "cell_type": "markdown",
      "metadata": {
        "id": "dgPU1meo8rcb",
        "colab_type": "text"
      },
      "source": [
        "Here is what is happening:\n",
        "\n",
        "- The option is now more of a flag than something that requires a value. We even changed the name of the option to match that idea. Note that we now specify a new keyword, `action`, and give it the value `\"store_true\"`. This means that, if the option is specified, assign the value `True` to __args.verbose__. Note specifying it implies `False`.\n",
        "- It complains when you specify a value, in true spirit of what flags actually are.\n",
        "- Notice the different help text."
      ]
    },
    {
      "cell_type": "markdown",
      "metadata": {
        "id": "LF9-WYR49HOZ",
        "colab_type": "text"
      },
      "source": [
        "## Short options\n",
        "\n",
        "If you are familiar with command line usage, you will notice that I haven't yet touched on the topic of short versions of the options. It's quite simple:"
      ]
    },
    {
      "cell_type": "code",
      "metadata": {
        "id": "07zyjgap9cl-",
        "colab_type": "code",
        "colab": {}
      },
      "source": [
        "f = open('prog6.py', 'w', encoding='utf-8')\n",
        "f.write(\"\"\"import argparse\n",
        "parser = argparse.ArgumentParser()\n",
        "parser.add_argument('-v', '--verbose', help='increase output verbosity', action='store_true')\n",
        "args = parser.parse_args()\n",
        "if args.verbose:\n",
        "  print('verbosity turned on')\n",
        "\"\"\")\n",
        "f.close()\n",
        "\n",
        "!python prog6.py"
      ],
      "execution_count": 0,
      "outputs": []
    },
    {
      "cell_type": "markdown",
      "metadata": {
        "id": "0FKiuYHf-Coa",
        "colab_type": "text"
      },
      "source": [
        "And here goes:"
      ]
    },
    {
      "cell_type": "code",
      "metadata": {
        "id": "RIZ2QmI5-I-U",
        "colab_type": "code",
        "colab": {
          "base_uri": "https://localhost:8080/",
          "height": 34
        },
        "outputId": "f1859b36-2da2-4c00-bff6-7d8ffbd2ab19"
      },
      "source": [
        "!python prog6.py -v"
      ],
      "execution_count": 33,
      "outputs": [
        {
          "output_type": "stream",
          "text": [
            "verbosity turned on\n"
          ],
          "name": "stdout"
        }
      ]
    },
    {
      "cell_type": "code",
      "metadata": {
        "id": "ErBRJVdX-Nkg",
        "colab_type": "code",
        "colab": {
          "base_uri": "https://localhost:8080/",
          "height": 102
        },
        "outputId": "ed9b1fa9-3696-4036-8107-3d04f2648288"
      },
      "source": [
        "!python prog6.py --help"
      ],
      "execution_count": 34,
      "outputs": [
        {
          "output_type": "stream",
          "text": [
            "usage: prog6.py [-h] [-v]\n",
            "\n",
            "optional arguments:\n",
            "  -h, --help     show this help message and exit\n",
            "  -v, --verbose  increase output verbosity\n"
          ],
          "name": "stdout"
        }
      ]
    },
    {
      "cell_type": "markdown",
      "metadata": {
        "id": "nBP1hDTn-3v1",
        "colab_type": "text"
      },
      "source": [
        "Note that the new ability is also reflected in the help text."
      ]
    },
    {
      "cell_type": "markdown",
      "metadata": {
        "id": "XZRxHexu-_z_",
        "colab_type": "text"
      },
      "source": [
        "## Combining Positional and Optional arguments\n",
        "\n",
        "Our program keeps growing in complexity:"
      ]
    },
    {
      "cell_type": "code",
      "metadata": {
        "id": "00H1r6hk_FKP",
        "colab_type": "code",
        "colab": {
          "base_uri": "https://localhost:8080/",
          "height": 187
        },
        "outputId": "ef769325-da89-4092-ce14-cd272fe6e5cb"
      },
      "source": [
        "f = open('prog7.py', 'w', encoding='utf-8')\n",
        "f.write(\"\"\"import argparse\n",
        "parser = argparse.ArgumentParser()\n",
        "parser.add_argument('square', type=int, help='display a square of a given number')\n",
        "parser.add_argument('-v', '--verbose', action='store_true', help='increase output verbosity')\n",
        "args = parser.parse_args()\n",
        "answer = args.square ** 2\n",
        "if args.verbose:\n",
        "  print('the square of {} equals {}'.format(args.square, answer))\n",
        "else:\n",
        "  print(answer)\n",
        "\"\"\")\n",
        "f.close()\n",
        "\n",
        "!cat prog7.py"
      ],
      "execution_count": 36,
      "outputs": [
        {
          "output_type": "stream",
          "text": [
            "import argparse\n",
            "parser = argparse.ArgumentParser()\n",
            "parser.add_argument('square', type=int, help='display a square of a given number')\n",
            "parser.add_argument('-v', '--verbose', action='store_true', help='increase output verbosity')\n",
            "args = parser.parse_args()\n",
            "answer = args.square ** 2\n",
            "if args.verbose:\n",
            "  print('the square of {} equals {}'.format(args.square, answer))\n",
            "else:\n",
            "  print(answer)\n"
          ],
          "name": "stdout"
        }
      ]
    },
    {
      "cell_type": "code",
      "metadata": {
        "id": "BJpbjF7S_rw7",
        "colab_type": "code",
        "colab": {
          "base_uri": "https://localhost:8080/",
          "height": 51
        },
        "outputId": "f49d68db-3bc7-46a7-ec2f-d08b82a1f3ac"
      },
      "source": [
        "!python prog7.py"
      ],
      "execution_count": 37,
      "outputs": [
        {
          "output_type": "stream",
          "text": [
            "usage: prog7.py [-h] [-v] square\n",
            "prog7.py: error: the following arguments are required: square\n"
          ],
          "name": "stdout"
        }
      ]
    },
    {
      "cell_type": "code",
      "metadata": {
        "id": "LAKRgYiIAqMO",
        "colab_type": "code",
        "colab": {
          "base_uri": "https://localhost:8080/",
          "height": 153
        },
        "outputId": "838b1751-829e-48f4-edb8-63842773f9aa"
      },
      "source": [
        "!python prog7.py -h"
      ],
      "execution_count": 43,
      "outputs": [
        {
          "output_type": "stream",
          "text": [
            "usage: prog7.py [-h] [-v] square\n",
            "\n",
            "positional arguments:\n",
            "  square         display a square of a given number\n",
            "\n",
            "optional arguments:\n",
            "  -h, --help     show this help message and exit\n",
            "  -v, --verbose  increase output verbosity\n"
          ],
          "name": "stdout"
        }
      ]
    },
    {
      "cell_type": "code",
      "metadata": {
        "id": "kb1wLUZUAQxd",
        "colab_type": "code",
        "colab": {
          "base_uri": "https://localhost:8080/",
          "height": 34
        },
        "outputId": "5f7d24d6-0fbd-48d0-c27c-bac3c6cacae0"
      },
      "source": [
        "!python prog7.py 4"
      ],
      "execution_count": 39,
      "outputs": [
        {
          "output_type": "stream",
          "text": [
            "16\n"
          ],
          "name": "stdout"
        }
      ]
    },
    {
      "cell_type": "code",
      "metadata": {
        "id": "Yn77x7eNAUFc",
        "colab_type": "code",
        "colab": {
          "base_uri": "https://localhost:8080/",
          "height": 34
        },
        "outputId": "df4f8245-dcef-409c-9101-acbc86cde89a"
      },
      "source": [
        "!python prog7.py 4 --verbose"
      ],
      "execution_count": 41,
      "outputs": [
        {
          "output_type": "stream",
          "text": [
            "the square of 4 equals 16\n"
          ],
          "name": "stdout"
        }
      ]
    },
    {
      "cell_type": "code",
      "metadata": {
        "id": "CtX3MiQ9AZdC",
        "colab_type": "code",
        "colab": {
          "base_uri": "https://localhost:8080/",
          "height": 34
        },
        "outputId": "d720234a-48e1-43c2-81f4-3506a8a29df0"
      },
      "source": [
        "!python prog7.py --verbose 4"
      ],
      "execution_count": 42,
      "outputs": [
        {
          "output_type": "stream",
          "text": [
            "the square of 4 equals 16\n"
          ],
          "name": "stdout"
        }
      ]
    },
    {
      "cell_type": "markdown",
      "metadata": {
        "id": "ppnUXWK-AiJ4",
        "colab_type": "text"
      },
      "source": [
        "- We've brought back a positional argument, hence the complaint.\n",
        "- Note that the order does not matter.\n",
        "\n",
        "How about we give this program of ours back the ability to have multiple verbosity values, and actually get to use them:"
      ]
    },
    {
      "cell_type": "code",
      "metadata": {
        "id": "rmHzYPiLAzYs",
        "colab_type": "code",
        "colab": {
          "base_uri": "https://localhost:8080/",
          "height": 221
        },
        "outputId": "5432c0f4-85a8-45ba-8d3e-1f8ad5c11daf"
      },
      "source": [
        "f = open('prog8.py', 'w', encoding='utf-8')\n",
        "f.write(\"\"\"import argparse\n",
        "parser = argparse.ArgumentParser()\n",
        "parser.add_argument('square', type=int, help='display a square of a given number')\n",
        "parser.add_argument('-v', '--verbosity', type=int, help='increase output verbosity')\n",
        "args = parser.parse_args()\n",
        "answer = args.square ** 2\n",
        "if args.verbosity == 2:\n",
        "  print('the square of {} equals {}'.format(args.square, answer))\n",
        "elif args.verbosity == 1:\n",
        "  print('{}^2 == {}'.format(args.square, answer))\n",
        "else:\n",
        "  print(answer)\n",
        "\"\"\")\n",
        "f.close()\n",
        "\n",
        "!cat prog8.py"
      ],
      "execution_count": 44,
      "outputs": [
        {
          "output_type": "stream",
          "text": [
            "import argparse\n",
            "parser = argparse.ArgumentParser()\n",
            "parser.add_argument('square', type=int, help='display a square of a given number')\n",
            "parser.add_argument('-v', '--verbosity', type=int, help='increase output verbosity')\n",
            "args = parser.parse_args()\n",
            "answer = args.square ** 2\n",
            "if args.verbosity == 2:\n",
            "  print('the square of {} equals {}'.format(args.square, answer))\n",
            "elif args.verbosity == 1:\n",
            "  print('{}^2 == {}'.format(args.square, answer))\n",
            "else:\n",
            "  print(answer)\n"
          ],
          "name": "stdout"
        }
      ]
    },
    {
      "cell_type": "markdown",
      "metadata": {
        "id": "UMB1V6jaBvgE",
        "colab_type": "text"
      },
      "source": [
        "And the output:"
      ]
    },
    {
      "cell_type": "code",
      "metadata": {
        "id": "n6bUeTX0BxL_",
        "colab_type": "code",
        "colab": {
          "base_uri": "https://localhost:8080/",
          "height": 34
        },
        "outputId": "006e2b94-efb2-4ee1-c2b0-b2f9fc053f22"
      },
      "source": [
        "!python prog8.py 4"
      ],
      "execution_count": 46,
      "outputs": [
        {
          "output_type": "stream",
          "text": [
            "16\n"
          ],
          "name": "stdout"
        }
      ]
    },
    {
      "cell_type": "code",
      "metadata": {
        "id": "BNqSIpPOB1gc",
        "colab_type": "code",
        "colab": {
          "base_uri": "https://localhost:8080/",
          "height": 51
        },
        "outputId": "19b07ad2-0e24-4249-d955-a65628687600"
      },
      "source": [
        "!python prog8.py 4 -v"
      ],
      "execution_count": 47,
      "outputs": [
        {
          "output_type": "stream",
          "text": [
            "usage: prog8.py [-h] [-v VERBOSITY] square\n",
            "prog8.py: error: argument -v/--verbosity: expected one argument\n"
          ],
          "name": "stdout"
        }
      ]
    },
    {
      "cell_type": "code",
      "metadata": {
        "id": "03XoF5FeB3CI",
        "colab_type": "code",
        "colab": {
          "base_uri": "https://localhost:8080/",
          "height": 34
        },
        "outputId": "40b1082c-4ec7-4fa9-b9be-d1b333ab7b05"
      },
      "source": [
        "!python prog8.py 4 -v 1"
      ],
      "execution_count": 48,
      "outputs": [
        {
          "output_type": "stream",
          "text": [
            "4^2 == 16\n"
          ],
          "name": "stdout"
        }
      ]
    },
    {
      "cell_type": "code",
      "metadata": {
        "id": "60loTHpxB6Un",
        "colab_type": "code",
        "colab": {
          "base_uri": "https://localhost:8080/",
          "height": 34
        },
        "outputId": "341e6596-ceb6-487e-d1b0-9d4366f9c99e"
      },
      "source": [
        "!python prog8.py 4 -v 2"
      ],
      "execution_count": 53,
      "outputs": [
        {
          "output_type": "stream",
          "text": [
            "the square of 4 equals 16\n"
          ],
          "name": "stdout"
        }
      ]
    },
    {
      "cell_type": "code",
      "metadata": {
        "id": "GxdPxRrMCYE_",
        "colab_type": "code",
        "colab": {
          "base_uri": "https://localhost:8080/",
          "height": 34
        },
        "outputId": "0520ed78-95d2-442d-cf78-86476aea1687"
      },
      "source": [
        "!python prog8.py 4 -v 3"
      ],
      "execution_count": 54,
      "outputs": [
        {
          "output_type": "stream",
          "text": [
            "16\n"
          ],
          "name": "stdout"
        }
      ]
    },
    {
      "cell_type": "markdown",
      "metadata": {
        "id": "-g79P276Ccvv",
        "colab_type": "text"
      },
      "source": [
        "These all look good except the last one, which exposes a bug in our program. Let's fix it by restricting the values the `--verbosity` option can accept:"
      ]
    },
    {
      "cell_type": "code",
      "metadata": {
        "id": "Ss5fqt5VCj9H",
        "colab_type": "code",
        "colab": {
          "base_uri": "https://localhost:8080/",
          "height": 241
        },
        "outputId": "c037b1be-a141-400a-ac33-9de43aa4d078"
      },
      "source": [
        "f = open('prog9.py', 'w', encoding='utf-8')\n",
        "f.write(\"\"\"import argparse\n",
        "parser = argparse.ArgumentParser()\n",
        "parser.add_argument('square', type=int, help='display a square of a given number')\n",
        "parser.add_argument('-v', '--verbosity', type=int, choices=[0, 1, 2], help='increase output verbosity')\n",
        "args = parser.parse_args()\n",
        "answer = args.square ** 2\n",
        "if args.verbosity == 2:\n",
        "  print('the square of {} equals {}'.format(args.square, answer))\n",
        "elif args.verbosity == 1:\n",
        "  print('{}^2 == {}'.format(args.square, answer))\n",
        "else:\n",
        "  print(answer)\n",
        "\"\"\")\n",
        "f.close()\n",
        "\n",
        "!cat prog9.py"
      ],
      "execution_count": 55,
      "outputs": [
        {
          "output_type": "stream",
          "text": [
            "import argparse\n",
            "parser = argparse.ArgumentParser()\n",
            "parser.add_argument('square', type=int, help='display a square of a given number')\n",
            "parser.add_argument('-v', '--verbosity', type=int, choices=[0, 1, 2], help='increase output verbosity')\n",
            "args = parser.parse_args()\n",
            "answer = args.square ** 2\n",
            "if args.verbosity == 2:\n",
            "  print('the square of {} equals {}'.format(args.square, answer))\n",
            "elif args.verbosity == 1:\n",
            "  print('{}^2 == {}'.format(args.square, answer))\n",
            "else:\n",
            "  print(answer)\n"
          ],
          "name": "stdout"
        }
      ]
    },
    {
      "cell_type": "code",
      "metadata": {
        "id": "85lTVQImDKih",
        "colab_type": "code",
        "colab": {
          "base_uri": "https://localhost:8080/",
          "height": 51
        },
        "outputId": "0eec78a0-0eb0-47ca-9cdb-f31bcb7aa2ac"
      },
      "source": [
        "!python prog9.py 4 -v 3"
      ],
      "execution_count": 56,
      "outputs": [
        {
          "output_type": "stream",
          "text": [
            "usage: prog9.py [-h] [-v {0,1,2}] square\n",
            "prog9.py: error: argument -v/--verbosity: invalid choice: 3 (choose from 0, 1, 2)\n"
          ],
          "name": "stdout"
        }
      ]
    },
    {
      "cell_type": "code",
      "metadata": {
        "id": "-M4gCH66DNzo",
        "colab_type": "code",
        "colab": {
          "base_uri": "https://localhost:8080/",
          "height": 170
        },
        "outputId": "7bc61224-b540-4c77-f5c0-4ab38a06c250"
      },
      "source": [
        "!python prog9.py 4 -h"
      ],
      "execution_count": 57,
      "outputs": [
        {
          "output_type": "stream",
          "text": [
            "usage: prog9.py [-h] [-v {0,1,2}] square\n",
            "\n",
            "positional arguments:\n",
            "  square                display a square of a given number\n",
            "\n",
            "optional arguments:\n",
            "  -h, --help            show this help message and exit\n",
            "  -v {0,1,2}, --verbosity {0,1,2}\n",
            "                        increase output verbosity\n"
          ],
          "name": "stdout"
        }
      ]
    },
    {
      "cell_type": "code",
      "metadata": {
        "id": "RTCGYtxjDPyJ",
        "colab_type": "code",
        "colab": {
          "base_uri": "https://localhost:8080/",
          "height": 170
        },
        "outputId": "6be8540d-ab95-4bce-a927-fc3fa3cc12eb"
      },
      "source": [
        "!python prog9.py -h"
      ],
      "execution_count": 58,
      "outputs": [
        {
          "output_type": "stream",
          "text": [
            "usage: prog9.py [-h] [-v {0,1,2}] square\n",
            "\n",
            "positional arguments:\n",
            "  square                display a square of a given number\n",
            "\n",
            "optional arguments:\n",
            "  -h, --help            show this help message and exit\n",
            "  -v {0,1,2}, --verbosity {0,1,2}\n",
            "                        increase output verbosity\n"
          ],
          "name": "stdout"
        }
      ]
    },
    {
      "cell_type": "markdown",
      "metadata": {
        "id": "QQ94TJvhDWkp",
        "colab_type": "text"
      },
      "source": [
        "Note that the change also reflects both in the error message as well as the help string.\n",
        "\n",
        "Now, let's use a different approach of playing with verbosity, which is pretty common. It also matches the way the CPython executable handles its own verbosity argument (check the output of `python --help`):"
      ]
    },
    {
      "cell_type": "code",
      "metadata": {
        "id": "2PgZ_3OkDsto",
        "colab_type": "code",
        "colab": {
          "base_uri": "https://localhost:8080/",
          "height": 221
        },
        "outputId": "3e101dec-b136-4d6b-ad4a-f09b959765c8"
      },
      "source": [
        "f = open('prog10.py', 'w', encoding='utf-8')\n",
        "f.write(\"\"\"import argparse\n",
        "parser = argparse.ArgumentParser()\n",
        "parser.add_argument('square', type=int, help='display the square of a given number')\n",
        "parser.add_argument('-v', '--verbosity', action='count', help='increase output verbosity')\n",
        "args = parser.parse_args()\n",
        "answer = args.square ** 2\n",
        "if args.verbosity == 2:\n",
        "  print('the square of {} equals {}'.format(args.square, answer))\n",
        "elif args.verbosity == 1:\n",
        "  print('{}^2 == {}'.format(args.square, answer))\n",
        "else:\n",
        "  print(answer)\n",
        "\"\"\")\n",
        "f.close()\n",
        "\n",
        "!cat prog10.py"
      ],
      "execution_count": 59,
      "outputs": [
        {
          "output_type": "stream",
          "text": [
            "import argparse\n",
            "parser = argparse.ArgumentParser()\n",
            "parser.add_argument('square', type=int, help='display the square of a given number')\n",
            "parser.add_argument('-v', '--verbosity', action='count', help='increase output verbosity')\n",
            "args = parser.parse_args()\n",
            "answer = args.square ** 2\n",
            "if args.verbosity == 2:\n",
            "  print('the square of {} equals {}'.format(args.square, answer))\n",
            "elif args.verbosity == 1:\n",
            "  print('{}^2 == {}'.format(args.square, answer))\n",
            "else:\n",
            "  print(answer)\n"
          ],
          "name": "stdout"
        }
      ]
    },
    {
      "cell_type": "markdown",
      "metadata": {
        "id": "qso020WYEb18",
        "colab_type": "text"
      },
      "source": [
        "We have introduced another action, \"count\", to count the number of occurrences of a specific optional arguments:"
      ]
    },
    {
      "cell_type": "code",
      "metadata": {
        "id": "OgdVR3xhEmxm",
        "colab_type": "code",
        "colab": {
          "base_uri": "https://localhost:8080/",
          "height": 34
        },
        "outputId": "e23c0c68-8fcb-476d-b37c-cc3be16e8510"
      },
      "source": [
        "!python prog10.py 4"
      ],
      "execution_count": 60,
      "outputs": [
        {
          "output_type": "stream",
          "text": [
            "16\n"
          ],
          "name": "stdout"
        }
      ]
    },
    {
      "cell_type": "code",
      "metadata": {
        "id": "0nsYIBEwFlkT",
        "colab_type": "code",
        "colab": {
          "base_uri": "https://localhost:8080/",
          "height": 34
        },
        "outputId": "5a0d608a-d12e-491b-f5c7-59fe8f6d779f"
      },
      "source": [
        "!python prog10.py 4 -v"
      ],
      "execution_count": 61,
      "outputs": [
        {
          "output_type": "stream",
          "text": [
            "4^2 == 16\n"
          ],
          "name": "stdout"
        }
      ]
    },
    {
      "cell_type": "code",
      "metadata": {
        "id": "iZkadcgjFok8",
        "colab_type": "code",
        "colab": {
          "base_uri": "https://localhost:8080/",
          "height": 34
        },
        "outputId": "cfca71bd-0afd-47d2-d9ce-64395a516de1"
      },
      "source": [
        "!python prog10.py 4 -vv"
      ],
      "execution_count": 63,
      "outputs": [
        {
          "output_type": "stream",
          "text": [
            "the square of 4 equals 16\n"
          ],
          "name": "stdout"
        }
      ]
    },
    {
      "cell_type": "code",
      "metadata": {
        "id": "YYRoNq6iFvlf",
        "colab_type": "code",
        "colab": {
          "base_uri": "https://localhost:8080/",
          "height": 34
        },
        "outputId": "ba20a262-cd52-420a-c2a3-007420f5edd6"
      },
      "source": [
        "!python prog10.py 4 --verbosity --verbosity"
      ],
      "execution_count": 64,
      "outputs": [
        {
          "output_type": "stream",
          "text": [
            "the square of 4 equals 16\n"
          ],
          "name": "stdout"
        }
      ]
    },
    {
      "cell_type": "code",
      "metadata": {
        "id": "sTnPdlxHFzXP",
        "colab_type": "code",
        "colab": {
          "base_uri": "https://localhost:8080/",
          "height": 51
        },
        "outputId": "f58e3ad5-85a1-4de7-ef06-efd41ac87d1c"
      },
      "source": [
        "!python prog10.py 4 -v 1"
      ],
      "execution_count": 65,
      "outputs": [
        {
          "output_type": "stream",
          "text": [
            "usage: prog10.py [-h] [-v] square\n",
            "prog10.py: error: unrecognized arguments: 1\n"
          ],
          "name": "stdout"
        }
      ]
    },
    {
      "cell_type": "code",
      "metadata": {
        "id": "kcrZoVSSF4sv",
        "colab_type": "code",
        "colab": {
          "base_uri": "https://localhost:8080/",
          "height": 153
        },
        "outputId": "624e2282-76f6-4dd1-b0b2-da6e04c6f6c4"
      },
      "source": [
        "!python prog10.py 4 -h"
      ],
      "execution_count": 66,
      "outputs": [
        {
          "output_type": "stream",
          "text": [
            "usage: prog10.py [-h] [-v] square\n",
            "\n",
            "positional arguments:\n",
            "  square           display the square of a given number\n",
            "\n",
            "optional arguments:\n",
            "  -h, --help       show this help message and exit\n",
            "  -v, --verbosity  increase output verbosity\n"
          ],
          "name": "stdout"
        }
      ]
    },
    {
      "cell_type": "code",
      "metadata": {
        "id": "IwqtJVNnF8OH",
        "colab_type": "code",
        "colab": {
          "base_uri": "https://localhost:8080/",
          "height": 34
        },
        "outputId": "9e3bf72f-dc9b-4460-f759-90fb43bc05a7"
      },
      "source": [
        "!python prog10.py 4 -vvv"
      ],
      "execution_count": 67,
      "outputs": [
        {
          "output_type": "stream",
          "text": [
            "16\n"
          ],
          "name": "stdout"
        }
      ]
    },
    {
      "cell_type": "markdown",
      "metadata": {
        "id": "Us8TXS-FGAwy",
        "colab_type": "text"
      },
      "source": [
        "- Yes, it's now more of a flag (similar to `action=\"store_true\"`) in the previous version of our script. That should explain the complaint.\n",
        "- It also behaves similar to \"store_true\" action.\n",
        "- Now here's a demonstration of what the \"count\" action gives. You've probably seen this sort of usage before.\n",
        "- And, just like the \"store_true\" action, if you don't specify the `-v` flag, that flag is considered to have `None` value.\n",
        "- As should be expected, specifying the long form of the flag, we should get the same output.\n",
        "- Sadly, our help output isn't very informative on the new ability our script has acquired, but that can always be fixed by improving the documentation for our script (e.g. via the `help` keyword argument).\n",
        "- That last output exposes a bug in our program.\n",
        "\n",
        "Let's fix:"
      ]
    },
    {
      "cell_type": "code",
      "metadata": {
        "id": "8YcKu4zXGqos",
        "colab_type": "code",
        "colab": {
          "base_uri": "https://localhost:8080/",
          "height": 255
        },
        "outputId": "783185ba-84e0-4c09-d187-bfba3f1cda0c"
      },
      "source": [
        "f = open('prog11.py', 'w', encoding='utf-8')\n",
        "f.write(\"\"\"import argparse\n",
        "parser = argparse.ArgumentParser()\n",
        "parser.add_argument('square', type=int, help='display a square of a given number')\n",
        "parser.add_argument('-v', '--verbosity', action='count', help='increase output verbosity')\n",
        "args = parser.parse_args()\n",
        "answer = args.square ** 2\n",
        "\n",
        "# bugfix: replace == with >=\n",
        "if args.verbosity >= 2:\n",
        "  print('the square of {} equals {}'.format(args.square, answer))\n",
        "elif args.verbosity >= 1:\n",
        "  print('{}^2 == {}'.format(args.square, answer))\n",
        "else:\n",
        "  print(answer)\n",
        "\"\"\")\n",
        "f.close()\n",
        "\n",
        "!cat prog11.py"
      ],
      "execution_count": 68,
      "outputs": [
        {
          "output_type": "stream",
          "text": [
            "import argparse\n",
            "parser = argparse.ArgumentParser()\n",
            "parser.add_argument('square', type=int, help='display a square of a given number')\n",
            "parser.add_argument('-v', '--verbosity', action='count', help='increase output verbosity')\n",
            "args = parser.parse_args()\n",
            "answer = args.square ** 2\n",
            "\n",
            "# bugfix: replace == with >=\n",
            "if args.verbosity >= 2:\n",
            "  print('the square of {} equals {}'.format(args.square, answer))\n",
            "elif args.verbosity >= 1:\n",
            "  print('{}^2 == {}'.format(args.square, answer))\n",
            "else:\n",
            "  print(answer)\n"
          ],
          "name": "stdout"
        }
      ]
    },
    {
      "cell_type": "markdown",
      "metadata": {
        "id": "cCjsUqZCH1Ii",
        "colab_type": "text"
      },
      "source": [
        "And this is what it gives:"
      ]
    },
    {
      "cell_type": "code",
      "metadata": {
        "id": "7b5VVoTuH5j9",
        "colab_type": "code",
        "colab": {
          "base_uri": "https://localhost:8080/",
          "height": 34
        },
        "outputId": "b5ee830e-1567-4701-8648-a147cea2c53e"
      },
      "source": [
        "!python prog11.py 4 -vvv"
      ],
      "execution_count": 69,
      "outputs": [
        {
          "output_type": "stream",
          "text": [
            "the square of 4 equals 16\n"
          ],
          "name": "stdout"
        }
      ]
    },
    {
      "cell_type": "code",
      "metadata": {
        "id": "4rKyfQgKH7bu",
        "colab_type": "code",
        "colab": {
          "base_uri": "https://localhost:8080/",
          "height": 34
        },
        "outputId": "5b45505f-f69f-4ebd-e67a-d67c0e7ef570"
      },
      "source": [
        "!python prog11.py 4 -vvvv"
      ],
      "execution_count": 70,
      "outputs": [
        {
          "output_type": "stream",
          "text": [
            "the square of 4 equals 16\n"
          ],
          "name": "stdout"
        }
      ]
    },
    {
      "cell_type": "code",
      "metadata": {
        "id": "etV-cLqvH8ne",
        "colab_type": "code",
        "colab": {
          "base_uri": "https://localhost:8080/",
          "height": 85
        },
        "outputId": "207ff497-0329-43e3-c013-4b470a4cf5bb"
      },
      "source": [
        "!python prog11.py 4"
      ],
      "execution_count": 71,
      "outputs": [
        {
          "output_type": "stream",
          "text": [
            "Traceback (most recent call last):\n",
            "  File \"prog11.py\", line 9, in <module>\n",
            "    if args.verbosity >= 2:\n",
            "TypeError: '>=' not supported between instances of 'NoneType' and 'int'\n"
          ],
          "name": "stdout"
        }
      ]
    },
    {
      "cell_type": "markdown",
      "metadata": {
        "id": "2KAg0ZGpH-f-",
        "colab_type": "text"
      },
      "source": [
        "- First output went well, and fixes the bug we have before. That is, we want any value >= 2 to be as verbose as possible.\n",
        "- Third output not so good.\n",
        "\n",
        "Let's fix that bug:"
      ]
    },
    {
      "cell_type": "code",
      "metadata": {
        "id": "AkD9z7fLIGbv",
        "colab_type": "code",
        "colab": {
          "base_uri": "https://localhost:8080/",
          "height": 241
        },
        "outputId": "2bf8a442-87b5-4804-bf31-790c829a3f60"
      },
      "source": [
        "f = open('prog12.py', 'w', encoding='utf-8')\n",
        "f.write(\"\"\"import argparse\n",
        "parser = argparse.ArgumentParser()\n",
        "parser.add_argument('square', type=int, help='display a square of a given number')\n",
        "parser.add_argument('-v', '--verbosity', action='count', default=0, help='increase output verbosity')\n",
        "args = parser.parse_args()\n",
        "answer = args.square ** 2\n",
        "if args.verbosity >= 2:\n",
        "  print('the square of {} equals {}'.format(args.square, answer))\n",
        "elif args.verbosity >= 1:\n",
        "  print('{}^2 == {}'.format(args.square, answer))\n",
        "else:\n",
        "  print(answer)\n",
        "\"\"\")\n",
        "f.close()\n",
        "\n",
        "!cat prog12.py"
      ],
      "execution_count": 72,
      "outputs": [
        {
          "output_type": "stream",
          "text": [
            "import argparse\n",
            "parser = argparse.ArgumentParser()\n",
            "parser.add_argument('square', type=int, help='display a square of a given number')\n",
            "parser.add_argument('-v', '--verbosity', action='count', default=0, help='increase output verbosity')\n",
            "args = parser.parse_args()\n",
            "answer = args.square ** 2\n",
            "if args.verbosity >= 2:\n",
            "  print('the square of {} equals {}'.format(args.square, answer))\n",
            "elif args.verbosity >= 1:\n",
            "  print('{}^2 == {}'.format(args.square, answer))\n",
            "else:\n",
            "  print(answer)\n"
          ],
          "name": "stdout"
        }
      ]
    },
    {
      "cell_type": "markdown",
      "metadata": {
        "id": "JC0S2HRuIskx",
        "colab_type": "text"
      },
      "source": [
        "We've just introduced yet another keyword, `default`. We've set it to `0` in order to make it comparable to the other int values. Remember that by default, if an optional argument isn't specified, it gets the `None` value, and that cannot be compared to an int value (hence the [TypeError](#) exception).\n",
        "\n",
        "And:"
      ]
    },
    {
      "cell_type": "code",
      "metadata": {
        "id": "4qnBozJKI9XC",
        "colab_type": "code",
        "colab": {
          "base_uri": "https://localhost:8080/",
          "height": 34
        },
        "outputId": "f0a82f9d-9e4e-4479-ae40-38e66a3cb187"
      },
      "source": [
        "!python prog.py 4"
      ],
      "execution_count": 73,
      "outputs": [
        {
          "output_type": "stream",
          "text": [
            "python3: can't open file 'prog.py': [Errno 2] No such file or directory\n"
          ],
          "name": "stdout"
        }
      ]
    },
    {
      "cell_type": "markdown",
      "metadata": {
        "id": "BYXv6BTqI_O-",
        "colab_type": "text"
      },
      "source": [
        "You can go quite far just with what we've learned so far, and we have only scratched the surface. The [argparse](#) module is very powerful, and we'll explore a bit more of it before we end this tutorial."
      ]
    },
    {
      "cell_type": "markdown",
      "metadata": {
        "id": "NxE7pTEoJLUi",
        "colab_type": "text"
      },
      "source": [
        "## Getting a little more advanced\n",
        "\n",
        "What if we wanted to expand our tiny program to perform other powers, not just squares:"
      ]
    },
    {
      "cell_type": "code",
      "metadata": {
        "id": "DDZ6tmltJRby",
        "colab_type": "code",
        "colab": {
          "base_uri": "https://localhost:8080/",
          "height": 238
        },
        "outputId": "2a786a98-a8dd-40c3-e80e-4714e97e75a2"
      },
      "source": [
        "f = open('prog13.py', 'w', encoding='utf-8')\n",
        "f.write(\"\"\"import argparse\n",
        "parser = argparse.ArgumentParser()\n",
        "parser.add_argument('x', type=int, help='the base')\n",
        "parser.add_argument('y', type=int, help='the exponent')\n",
        "parser.add_argument('-v', '--verbosity', action='count', default=0)\n",
        "args = parser.parse_args()\n",
        "answer = args.x ** args.y\n",
        "if args.verbosity >= 2:\n",
        "  print('{} to the power {} equals {}'.format(args.x, args.y, answer))\n",
        "elif args.verbosity >= 1:\n",
        "  print('{}^{} == {}'.format(args.x, args.y, answer))\n",
        "else:\n",
        "  print(answer)\n",
        "\"\"\")\n",
        "\n",
        "!cat prog13.py"
      ],
      "execution_count": 78,
      "outputs": [
        {
          "output_type": "stream",
          "text": [
            "import argparse\n",
            "parser = argparse.ArgumentParser()\n",
            "parser.add_argument('x', type=int, help='the base')\n",
            "parser.add_argument('y', type=int, help='the exponent')\n",
            "parser.add_argument('-v', '--verbosity', action='count', default=0)\n",
            "args = parser.parse_args()\n",
            "answer = args.x ** args.y\n",
            "if args.verbosity >= 2:\n",
            "  print('{} to the power {} equals {}'.format(args.x, args.y, answer))\n",
            "elif args.verbosity >= 1:\n",
            "  print('{}^{} == {}'.format(args.x, args.y, answer))\n",
            "else:\n",
            "  print(answer)\n"
          ],
          "name": "stdout"
        }
      ]
    },
    {
      "cell_type": "markdown",
      "metadata": {
        "id": "MCy_TJ64LXRM",
        "colab_type": "text"
      },
      "source": [
        "Output:"
      ]
    },
    {
      "cell_type": "code",
      "metadata": {
        "id": "4vtDk-waLiF5",
        "colab_type": "code",
        "colab": {
          "base_uri": "https://localhost:8080/",
          "height": 51
        },
        "outputId": "daa29806-7ea0-44f6-a2fc-ed995c5a04a0"
      },
      "source": [
        "!python prog13.py"
      ],
      "execution_count": 79,
      "outputs": [
        {
          "output_type": "stream",
          "text": [
            "usage: prog13.py [-h] [-v] x y\n",
            "prog13.py: error: the following arguments are required: x, y\n"
          ],
          "name": "stdout"
        }
      ]
    },
    {
      "cell_type": "code",
      "metadata": {
        "id": "a__WuoJ0LjnE",
        "colab_type": "code",
        "colab": {
          "base_uri": "https://localhost:8080/",
          "height": 170
        },
        "outputId": "31e2359f-04bc-4a21-95f0-6615623be9b1"
      },
      "source": [
        "!python prog13.py -h"
      ],
      "execution_count": 80,
      "outputs": [
        {
          "output_type": "stream",
          "text": [
            "usage: prog13.py [-h] [-v] x y\n",
            "\n",
            "positional arguments:\n",
            "  x                the base\n",
            "  y                the exponent\n",
            "\n",
            "optional arguments:\n",
            "  -h, --help       show this help message and exit\n",
            "  -v, --verbosity\n"
          ],
          "name": "stdout"
        }
      ]
    },
    {
      "cell_type": "code",
      "metadata": {
        "id": "4QWeWqHKLvSJ",
        "colab_type": "code",
        "colab": {
          "base_uri": "https://localhost:8080/",
          "height": 34
        },
        "outputId": "c59b7ef0-4068-48d3-f206-52dac6b5b48e"
      },
      "source": [
        "!python prog13.py 4 2 -v"
      ],
      "execution_count": 82,
      "outputs": [
        {
          "output_type": "stream",
          "text": [
            "4^2 == 16\n"
          ],
          "name": "stdout"
        }
      ]
    },
    {
      "cell_type": "code",
      "metadata": {
        "id": "HAS7mRuzL7QP",
        "colab_type": "code",
        "colab": {
          "base_uri": "https://localhost:8080/",
          "height": 34
        },
        "outputId": "d60c372d-bfd2-4a44-d9b0-2a9ebd49fcfa"
      },
      "source": [
        "!python prog13.py 4 2 -vv"
      ],
      "execution_count": 84,
      "outputs": [
        {
          "output_type": "stream",
          "text": [
            "4 to the power 2 equals 16\n"
          ],
          "name": "stdout"
        }
      ]
    },
    {
      "cell_type": "markdown",
      "metadata": {
        "id": "JQmbfyOoL_AI",
        "colab_type": "text"
      },
      "source": [
        "Notice that so far we've been using verbosity level to _change_ the text that gets displayed. The following example instead uses verbosity level to display _more_ text instead:"
      ]
    },
    {
      "cell_type": "code",
      "metadata": {
        "id": "pvADJG8jMJQw",
        "colab_type": "code",
        "colab": {
          "base_uri": "https://localhost:8080/",
          "height": 221
        },
        "outputId": "0dd84e0b-da50-44e0-c0f6-617335edd3c8"
      },
      "source": [
        "f = open('prog14.py', 'w', encoding='utf-8')\n",
        "f.write(\"\"\"import argparse\n",
        "parser = argparse.ArgumentParser()\n",
        "parser.add_argument('x', type=int, help='the base')\n",
        "parser.add_argument('y', type=int, help='the exponent')\n",
        "parser.add_argument('-v', '--verbosity', action='count', default=0)\n",
        "args = parser.parse_args()\n",
        "answer = args.x ** args.y\n",
        "if args.verbosity >= 2:\n",
        "  print(\"Running '{}'\".format(__file__))\n",
        "if args.verbosity >= 1:\n",
        "  print(\"{}^{} ==\".format(args.x, args.y)),\n",
        "print(answer)\n",
        "\"\"\")\n",
        "f.close()\n",
        "\n",
        "!cat prog14.py"
      ],
      "execution_count": 89,
      "outputs": [
        {
          "output_type": "stream",
          "text": [
            "import argparse\n",
            "parser = argparse.ArgumentParser()\n",
            "parser.add_argument('x', type=int, help='the base')\n",
            "parser.add_argument('y', type=int, help='the exponent')\n",
            "parser.add_argument('-v', '--verbosity', action='count', default=0)\n",
            "args = parser.parse_args()\n",
            "answer = args.x ** args.y\n",
            "if args.verbosity >= 2:\n",
            "  print(\"Running '{}'\".format(__file__))\n",
            "if args.verbosity >= 1:\n",
            "  print(\"{}^{} ==\".format(args.x, args.y)),\n",
            "print(answer)\n"
          ],
          "name": "stdout"
        }
      ]
    },
    {
      "cell_type": "code",
      "metadata": {
        "id": "ZZexnMlIM4sl",
        "colab_type": "code",
        "colab": {
          "base_uri": "https://localhost:8080/",
          "height": 34
        },
        "outputId": "2d269bc2-3abb-47d7-8926-4873e5a68f8b"
      },
      "source": [
        "!python prog14.py 4 2"
      ],
      "execution_count": 90,
      "outputs": [
        {
          "output_type": "stream",
          "text": [
            "16\n"
          ],
          "name": "stdout"
        }
      ]
    },
    {
      "cell_type": "code",
      "metadata": {
        "id": "_0zKBfpkM697",
        "colab_type": "code",
        "colab": {
          "base_uri": "https://localhost:8080/",
          "height": 51
        },
        "outputId": "4bb23a82-ffba-4a0a-b0dc-375e5bdc86b5"
      },
      "source": [
        "!python prog14.py 4 2 -v"
      ],
      "execution_count": 91,
      "outputs": [
        {
          "output_type": "stream",
          "text": [
            "4^2 ==\n",
            "16\n"
          ],
          "name": "stdout"
        }
      ]
    },
    {
      "cell_type": "code",
      "metadata": {
        "id": "iS8ZqIh2M8pG",
        "colab_type": "code",
        "colab": {
          "base_uri": "https://localhost:8080/",
          "height": 68
        },
        "outputId": "b56d228d-66a4-4460-c168-47d7052979de"
      },
      "source": [
        "!python prog14.py 4 2 -vv"
      ],
      "execution_count": 92,
      "outputs": [
        {
          "output_type": "stream",
          "text": [
            "Running 'prog14.py'\n",
            "4^2 ==\n",
            "16\n"
          ],
          "name": "stdout"
        }
      ]
    },
    {
      "cell_type": "markdown",
      "metadata": {
        "id": "UYFB_lUNM-jV",
        "colab_type": "text"
      },
      "source": [
        "## Conflicting option\n",
        "\n",
        "So far, we have been working with two methods of an [argparse.ArgumentParser](#) instance. Let's introduce a third one, __add_mutually_exclusive_group()__. It allows for us to specify options that conflict with each other. Let's also change the rest of the program so that the new functionality makes more sense: we'll introduce the `--quiet` option, which will be the opposite of the `--verbose` one:"
      ]
    },
    {
      "cell_type": "code",
      "metadata": {
        "id": "AY24acpkOQo6",
        "colab_type": "code",
        "colab": {
          "base_uri": "https://localhost:8080/",
          "height": 289
        },
        "outputId": "acf692cc-2fab-41f3-eb93-e6f62fab218c"
      },
      "source": [
        "f = open('prog15.py', 'w', encoding='utf-8')\n",
        "f.write(\"\"\"import argparse\n",
        "parser = argparse.ArgumentParser()\n",
        "group = parser.add_mutually_exclusive_group()\n",
        "group.add_argument('-v', '--verbose', action='store_true')\n",
        "group.add_argument('-q', '--quiet', action='store_true')\n",
        "parser.add_argument('x', type=int, help='the base')\n",
        "parser.add_argument('y', type=int, help='the exponent')\n",
        "args = parser.parse_args()\n",
        "answer = args.x ** args.y\n",
        "\n",
        "if args.quiet:\n",
        "  print(answer)\n",
        "elif args.verbose:\n",
        "  print(\"{} to the power {} equals\".format(args.x, args.y, answer))\n",
        "else:\n",
        "  print(\"{}^{} == {}\".format(args.x, args.y, answer))\n",
        "\"\"\")\n",
        "f.close()\n",
        "\n",
        "!cat prog15.py"
      ],
      "execution_count": 93,
      "outputs": [
        {
          "output_type": "stream",
          "text": [
            "import argparse\n",
            "parser = argparse.ArgumentParser()\n",
            "group = parser.add_mutually_exclusive_group()\n",
            "group.add_argument('-v', '--verbose', action='store_true')\n",
            "group.add_argument('-q', '--quiet', action='store_true')\n",
            "parser.add_argument('x', type=int, help='the base')\n",
            "parser.add_argument('y', type=int, help='the exponent')\n",
            "args = parser.parse_args()\n",
            "answer = args.x ** args.y\n",
            "\n",
            "if args.quiet:\n",
            "  print(answer)\n",
            "elif args.verbose:\n",
            "  print(\"{} to the power {} equals\".format(args.x, args.y, answer))\n",
            "else:\n",
            "  print(\"{}^{} == {}\".format(args.x, args.y, answer))\n"
          ],
          "name": "stdout"
        }
      ]
    },
    {
      "cell_type": "markdown",
      "metadata": {
        "id": "yNYchWDmO6Ei",
        "colab_type": "text"
      },
      "source": [
        "Our program is now simpler, and we've lost some functionality for the sake of demonstration. Anyways, here's the output:"
      ]
    },
    {
      "cell_type": "code",
      "metadata": {
        "id": "vgp05nH2O-3K",
        "colab_type": "code",
        "colab": {
          "base_uri": "https://localhost:8080/",
          "height": 34
        },
        "outputId": "7f6bd084-f1b9-4ff2-9ebf-8902ad72563d"
      },
      "source": [
        "!python prog15.py 4 2"
      ],
      "execution_count": 94,
      "outputs": [
        {
          "output_type": "stream",
          "text": [
            "4^2 == 16\n"
          ],
          "name": "stdout"
        }
      ]
    },
    {
      "cell_type": "code",
      "metadata": {
        "id": "4p24USLJPBNY",
        "colab_type": "code",
        "colab": {
          "base_uri": "https://localhost:8080/",
          "height": 34
        },
        "outputId": "4a1090f1-3412-4842-d9e2-4472187a5cef"
      },
      "source": [
        "!python prog15.py 4 2 -q"
      ],
      "execution_count": 95,
      "outputs": [
        {
          "output_type": "stream",
          "text": [
            "16\n"
          ],
          "name": "stdout"
        }
      ]
    },
    {
      "cell_type": "code",
      "metadata": {
        "id": "cV53FfOXPDF8",
        "colab_type": "code",
        "colab": {
          "base_uri": "https://localhost:8080/",
          "height": 34
        },
        "outputId": "11fc9a28-1685-463e-98f1-3ab0248b5e69"
      },
      "source": [
        "!python prog15.py 4 2 -v"
      ],
      "execution_count": 96,
      "outputs": [
        {
          "output_type": "stream",
          "text": [
            "4 to the power 2 equals\n"
          ],
          "name": "stdout"
        }
      ]
    },
    {
      "cell_type": "code",
      "metadata": {
        "id": "hFRgRhdrPEZJ",
        "colab_type": "code",
        "colab": {
          "base_uri": "https://localhost:8080/",
          "height": 51
        },
        "outputId": "b9d08193-bf58-475e-e847-3f368cb71cfd"
      },
      "source": [
        "!python prog15.py 4 2 -vw"
      ],
      "execution_count": 97,
      "outputs": [
        {
          "output_type": "stream",
          "text": [
            "usage: prog15.py [-h] [-v | -q] x y\n",
            "prog15.py: error: argument -v/--verbose: ignored explicit argument 'w'\n"
          ],
          "name": "stdout"
        }
      ]
    },
    {
      "cell_type": "code",
      "metadata": {
        "id": "4EWaYj8EPOr5",
        "colab_type": "code",
        "colab": {
          "base_uri": "https://localhost:8080/",
          "height": 51
        },
        "outputId": "23198df2-6c14-479b-ff0a-88c1f5fda214"
      },
      "source": [
        "!python prog15.py 4 2 -v --quiet"
      ],
      "execution_count": 98,
      "outputs": [
        {
          "output_type": "stream",
          "text": [
            "usage: prog15.py [-h] [-v | -q] x y\n",
            "prog15.py: error: argument -q/--quiet: not allowed with argument -v/--verbose\n"
          ],
          "name": "stdout"
        }
      ]
    },
    {
      "cell_type": "markdown",
      "metadata": {
        "id": "HnQi2agEPRPH",
        "colab_type": "text"
      },
      "source": [
        "That should be easy to follow. I've added that last output so you can see the sort of flexibility you get, i.e. mixing long form options with short form ones.\n",
        "\n",
        "Before we conclude, you probably want to tell your users the main purpose of your program, just in case they don't know:"
      ]
    },
    {
      "cell_type": "code",
      "metadata": {
        "id": "s_Dug_WhPfqb",
        "colab_type": "code",
        "colab": {
          "base_uri": "https://localhost:8080/",
          "height": 289
        },
        "outputId": "1ac1c8cd-7f5a-4def-8e7e-c350b9780aed"
      },
      "source": [
        "f = open('prog16.py', 'w', encoding='utf-8')\n",
        "f.write(\"\"\"import argparse\n",
        "parser = argparse.ArgumentParser(description='calculate X to the power of Y')\n",
        "group = parser.add_mutually_exclusive_group()\n",
        "group.add_argument('-v', '--verbose', action='store_true')\n",
        "group.add_argument('-q', '--quiet', action='store_true')\n",
        "parser.add_argument('x', type=int, help='the base')\n",
        "parser.add_argument('y', type=int, help='the exponent')\n",
        "args = parser.parse_args()\n",
        "answer = args.x ** args.y\n",
        "\n",
        "if args.quiet:\n",
        "  print(answer)\n",
        "elif args.verbose:\n",
        "  print('{} to the power {} equals {}'.format(args.x, args.y, answer))\n",
        "else:\n",
        "  print('{}^{} == {}'.format(args.x, args.y, answer))\n",
        "\"\"\")\n",
        "f.close()\n",
        "\n",
        "!cat prog16.py"
      ],
      "execution_count": 103,
      "outputs": [
        {
          "output_type": "stream",
          "text": [
            "import argparse\n",
            "parser = argparse.ArgumentParser(description='calculate X to the power of Y')\n",
            "group = parser.add_mutually_exclusive_group()\n",
            "group.add_argument('-v', '--verbose', action='store_true')\n",
            "group.add_argument('-q', '--quiet', action='store_true')\n",
            "parser.add_argument('x', type=int, help='the base')\n",
            "parser.add_argument('y', type=int, help='the exponent')\n",
            "args = parser.parse_args()\n",
            "answer = args.x ** args.y\n",
            "\n",
            "if args.quiet:\n",
            "  print(answer)\n",
            "elif args.verbose:\n",
            "  print('{} to the power {} equals {}'.format(args.x, args.y, answer))\n",
            "else:\n",
            "  print('{}^{} == {}'.format(args.x, args.y, answer))\n"
          ],
          "name": "stdout"
        }
      ]
    },
    {
      "cell_type": "markdown",
      "metadata": {
        "id": "9NExOPcOQPIE",
        "colab_type": "text"
      },
      "source": [
        "Note that slight difference in the usage text. Note the `[-v | -q]`, which tells us that we can either use `-v` or `-q`, but not both at the same time:"
      ]
    },
    {
      "cell_type": "code",
      "metadata": {
        "id": "6gVn0oLnQafV",
        "colab_type": "code",
        "colab": {
          "base_uri": "https://localhost:8080/",
          "height": 221
        },
        "outputId": "0eeb2e3d-5b9f-4651-d18e-5ae29c466056"
      },
      "source": [
        "!python prog16.py --help"
      ],
      "execution_count": 104,
      "outputs": [
        {
          "output_type": "stream",
          "text": [
            "usage: prog16.py [-h] [-v | -q] x y\n",
            "\n",
            "calculate X to the power of Y\n",
            "\n",
            "positional arguments:\n",
            "  x              the base\n",
            "  y              the exponent\n",
            "\n",
            "optional arguments:\n",
            "  -h, --help     show this help message and exit\n",
            "  -v, --verbose\n",
            "  -q, --quiet\n"
          ],
          "name": "stdout"
        }
      ]
    },
    {
      "cell_type": "markdown",
      "metadata": {
        "id": "uMkkrPgPQilw",
        "colab_type": "text"
      },
      "source": [
        "## Conclusion\n",
        "\n",
        "The [argparse](#) module offers a lot more than shown here. Its docs are quite detailed and thorough, and full of example. Having gone through this tutorial, you should easily digest them without feeling overwhelmed."
      ]
    }
  ]
}