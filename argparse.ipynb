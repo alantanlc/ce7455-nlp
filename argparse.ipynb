{
  "nbformat": 4,
  "nbformat_minor": 0,
  "metadata": {
    "kernelspec": {
      "display_name": "Python 3",
      "language": "python",
      "name": "python3"
    },
    "language_info": {
      "codemirror_mode": {
        "name": "ipython",
        "version": 3
      },
      "file_extension": ".py",
      "mimetype": "text/x-python",
      "name": "python",
      "nbconvert_exporter": "python",
      "pygments_lexer": "ipython3",
      "version": "3.7.4"
    },
    "colab": {
      "name": "argparse.ipynb",
      "provenance": [],
      "include_colab_link": true
    }
  },
  "cells": [
    {
      "cell_type": "markdown",
      "metadata": {
        "id": "view-in-github",
        "colab_type": "text"
      },
      "source": [
        "<a href=\"https://colab.research.google.com/github/alanwuha/ce7455-nlp/blob/master/argparse.ipynb\" target=\"_parent\"><img src=\"https://colab.research.google.com/assets/colab-badge.svg\" alt=\"Open In Colab\"/></a>"
      ]
    },
    {
      "cell_type": "markdown",
      "metadata": {
        "id": "I35EAS07P039",
        "colab_type": "text"
      },
      "source": [
        "# Argparse Tutorial\n",
        "\n",
        "This tutorial is intended to be a gentle introduction to [argparse](#), the recommended command-line parsing module in the Python standard library. This was written for argparse in Python 3. A few details are different in 2.x, especially some exception messages, which were improved in 3.x.\n",
        "\n",
        "```\n",
        "__Note:__ There are two other modules that fulfill the same task, namely `getopt` (an equivalent for `getopt()` from the C language) and the deprecated `optparse`. Note also that `argparse` is based on `optparse`, and therefore very similar in terms of usage.\n",
        "```"
      ]
    },
    {
      "cell_type": "markdown",
      "metadata": {
        "id": "N9JHodEMQiky",
        "colab_type": "text"
      },
      "source": [
        "## Concepts\n",
        "\n",
        "Let's show the sort of functionality that we are going to explore in this introductory tutorial by making use of the __ls__ command:"
      ]
    },
    {
      "cell_type": "code",
      "metadata": {
        "id": "ISYhtREGQqBl",
        "colab_type": "code",
        "outputId": "e506fe1b-4aa9-4b97-c541-a85655663d3a",
        "colab": {
          "base_uri": "https://localhost:8080/",
          "height": 68
        }
      },
      "source": [
        "!ls\n",
        "!ls pypy\n",
        "!ls -l\n",
        "!ls --help"
      ],
      "execution_count": 0,
      "outputs": [
        {
          "output_type": "stream",
          "text": [
            "sample_data\n",
            "total 4\n",
            "drwxr-xr-x 1 root root 4096 Jan 13 16:38 sample_data\n"
          ],
          "name": "stdout"
        }
      ]
    },
    {
      "cell_type": "markdown",
      "metadata": {
        "id": "GuchC_zfQ7Vq",
        "colab_type": "text"
      },
      "source": [
        "A few concepts we can learn from the four commands:\n",
        "\n",
        "- The __ls__ command is useful when run without any options at all. It defaults to displaying the contents of the current directory.\n",
        "- If we want beyond what it provides by default, we tell it a bit more. In this case, we want it to display a different directory, `pypy`. What we did is specify what is known as a positional argument. It's named so because the progrom should know what to do with the value, solely based on where it appears on the command line. This concept is more relevant to a command like __cp__, whose most basic usage is `cp SRC DEST`. The first position is _what you want copied_, and the second position is _where you want it copied to_.\n",
        "- Now, say we want to change behaviour of the program. In our example, we display more info for each file instead of just showing the file names. The `-l` in that case is known as an optional argument.\n",
        "- That's a snippet of the help text. It's very useful in that you can come across a program you have never used before, and can figure out how it works simply by reading its help text."
      ]
    },
    {
      "cell_type": "markdown",
      "metadata": {
        "id": "1F426Q8ORtnY",
        "colab_type": "text"
      },
      "source": [
        "## The basics\n",
        "\n",
        "Let us start with a very simple example which does (almost) nothing):"
      ]
    },
    {
      "cell_type": "code",
      "metadata": {
        "id": "iH-jrGGYRycR",
        "colab_type": "code",
        "colab": {}
      },
      "source": [
        "f = open('prog.py', 'w', encoding='utf-8')\n",
        "f.write(\"\"\"import argparse\n",
        "\n",
        "parser = argparse.ArgumentParser()\n",
        "parser.parse_args()\n",
        "\"\"\")\n",
        "f.close()"
      ],
      "execution_count": 0,
      "outputs": []
    },
    {
      "cell_type": "code",
      "metadata": {
        "id": "MXzwbA9BSTce",
        "colab_type": "code",
        "outputId": "6fb2b561-0e1d-44da-cf9f-2992b770948c",
        "colab": {
          "base_uri": "https://localhost:8080/",
          "height": 85
        }
      },
      "source": [
        "!cat prog.py"
      ],
      "execution_count": 0,
      "outputs": [
        {
          "output_type": "stream",
          "text": [
            "import argparse\n",
            "\n",
            "parser = argparse.ArgumentParser()\n",
            "parser.parse_args()\n"
          ],
          "name": "stdout"
        }
      ]
    },
    {
      "cell_type": "markdown",
      "metadata": {
        "id": "ZBKS00y4R4vz",
        "colab_type": "text"
      },
      "source": [
        "Following is a result of running the code:"
      ]
    },
    {
      "cell_type": "code",
      "metadata": {
        "id": "UgP7_iM2SxCh",
        "colab_type": "code",
        "colab": {}
      },
      "source": [
        "!python prog.py"
      ],
      "execution_count": 0,
      "outputs": []
    },
    {
      "cell_type": "code",
      "metadata": {
        "id": "h0FJ7_j_TYOq",
        "colab_type": "code",
        "outputId": "9cd238a2-0435-4e64-9276-b2e40e7bd6cc",
        "colab": {
          "base_uri": "https://localhost:8080/",
          "height": 85
        }
      },
      "source": [
        "!python prog.py --help"
      ],
      "execution_count": 0,
      "outputs": [
        {
          "output_type": "stream",
          "text": [
            "usage: prog.py [-h]\n",
            "\n",
            "optional arguments:\n",
            "  -h, --help  show this help message and exit\n"
          ],
          "name": "stdout"
        }
      ]
    },
    {
      "cell_type": "code",
      "metadata": {
        "id": "3wfTPbECTht4",
        "colab_type": "code",
        "outputId": "f2203016-e00e-46d9-eb8b-e0fb5b7d372e",
        "colab": {
          "base_uri": "https://localhost:8080/",
          "height": 51
        }
      },
      "source": [
        "!python prog.py --verbose"
      ],
      "execution_count": 0,
      "outputs": [
        {
          "output_type": "stream",
          "text": [
            "usage: prog.py [-h]\n",
            "prog.py: error: unrecognized arguments: --verbose\n"
          ],
          "name": "stdout"
        }
      ]
    },
    {
      "cell_type": "code",
      "metadata": {
        "id": "iae_yfgvTmIw",
        "colab_type": "code",
        "outputId": "c6949e82-09cf-4bea-9782-edae46343bff",
        "colab": {
          "base_uri": "https://localhost:8080/",
          "height": 51
        }
      },
      "source": [
        "!python prog.py foo"
      ],
      "execution_count": 0,
      "outputs": [
        {
          "output_type": "stream",
          "text": [
            "usage: prog.py [-h]\n",
            "prog.py: error: unrecognized arguments: foo\n"
          ],
          "name": "stdout"
        }
      ]
    },
    {
      "cell_type": "markdown",
      "metadata": {
        "id": "Y4p-Xez-Tnqi",
        "colab_type": "text"
      },
      "source": [
        "Here is what is happening:\n",
        "\n",
        "- Running the script without any options results in nothing displayed to stdout. Not so useful.\n",
        "- The second one starts to display the usefulness of the `argparse` module. We have done almost nothing, but already we get a nice help message.\n",
        "- The `--help` option, which can also be shortened to `-h`, is the only option we get for free (i.e. no need to specify it). Specifying anything else results in an error. But even then, we do get a useful usage message, also for free."
      ]
    },
    {
      "cell_type": "markdown",
      "metadata": {
        "id": "jqj_fScMVMRN",
        "colab_type": "text"
      },
      "source": [
        "## Introducing Positional arguments"
      ]
    },
    {
      "cell_type": "markdown",
      "metadata": {
        "id": "L9HiM-Y6VkCn",
        "colab_type": "text"
      },
      "source": [
        "An example:"
      ]
    },
    {
      "cell_type": "code",
      "metadata": {
        "id": "q8fzv1AzVnMn",
        "colab_type": "code",
        "colab": {}
      },
      "source": [
        "f = open('prog2.py', 'w', encoding='utf-8')\n",
        "f.write(\"\"\"import argparse\n",
        "parser = argparse.ArgumentParser()\n",
        "parser.add_argument(\"echo\")\n",
        "args = parser.parse_args()\n",
        "print(args.echo)\"\"\")\n",
        "f.close()"
      ],
      "execution_count": 0,
      "outputs": []
    },
    {
      "cell_type": "code",
      "metadata": {
        "id": "MpGfziEMV_LH",
        "colab_type": "code",
        "outputId": "2a590147-0b5f-4a85-e684-cc5dff0ba428",
        "colab": {
          "base_uri": "https://localhost:8080/",
          "height": 102
        }
      },
      "source": [
        "!cat prog2.py"
      ],
      "execution_count": 0,
      "outputs": [
        {
          "output_type": "stream",
          "text": [
            "import argparse\n",
            "parser = argparse.ArgumentParser()\n",
            "parser.add_argument(\"echo\")\n",
            "args = parser.parse_args()\n",
            "print(args.echo)"
          ],
          "name": "stdout"
        }
      ]
    },
    {
      "cell_type": "markdown",
      "metadata": {
        "id": "CGJBFQnDWDZN",
        "colab_type": "text"
      },
      "source": [
        "And running the code:"
      ]
    },
    {
      "cell_type": "code",
      "metadata": {
        "id": "mOWQ_VjxWHPE",
        "colab_type": "code",
        "outputId": "f7afafff-82a0-4be1-d83f-b2986f41040e",
        "colab": {
          "base_uri": "https://localhost:8080/",
          "height": 51
        }
      },
      "source": [
        "!python prog2.py"
      ],
      "execution_count": 0,
      "outputs": [
        {
          "output_type": "stream",
          "text": [
            "usage: prog2.py [-h] echo\n",
            "prog2.py: error: the following arguments are required: echo\n"
          ],
          "name": "stdout"
        }
      ]
    },
    {
      "cell_type": "code",
      "metadata": {
        "id": "e72ItF7KWLh1",
        "colab_type": "code",
        "outputId": "ed6ffb5d-5c4b-41aa-9851-1e03f4a156cf",
        "colab": {
          "base_uri": "https://localhost:8080/",
          "height": 136
        }
      },
      "source": [
        "!python prog2.py --help"
      ],
      "execution_count": 0,
      "outputs": [
        {
          "output_type": "stream",
          "text": [
            "usage: prog2.py [-h] echo\n",
            "\n",
            "positional arguments:\n",
            "  echo\n",
            "\n",
            "optional arguments:\n",
            "  -h, --help  show this help message and exit\n"
          ],
          "name": "stdout"
        }
      ]
    },
    {
      "cell_type": "code",
      "metadata": {
        "id": "LJupsvw3WToF",
        "colab_type": "code",
        "outputId": "95a957f7-2276-44f8-f85f-da82b19d0927",
        "colab": {
          "base_uri": "https://localhost:8080/",
          "height": 34
        }
      },
      "source": [
        "!python prog2.py foo"
      ],
      "execution_count": 0,
      "outputs": [
        {
          "output_type": "stream",
          "text": [
            "foo\n"
          ],
          "name": "stdout"
        }
      ]
    },
    {
      "cell_type": "markdown",
      "metadata": {
        "id": "OmiKoIuxWh9V",
        "colab_type": "text"
      },
      "source": [
        "Here is what's happening:\n",
        "\n",
        "- We've added the __add_argument()__ method, which is what we use to specify which command-line options the program is willing to accept. In this case, I've named it `echo` so that it's in line with its function.\n",
        "- Calling our program now requires us to specify an option.\n",
        "- The __parse_args()__ method actually returns some data from the options specified, in thie case, `echo`.\n",
        "- The variable is some form of 'magic' that `argparse` performs for free (i.e. no need to specify which variable that value is stored in). You will also notice that its name matches the string argument given to the method, `echo`.\n",
        "\n",
        "Note however that, although the help display looks nice and all, it currently is not as helpful as it can be. For example we see that we got `echo` as a positional argument, but we don't know what i does, other than by guessing or by reading the source code. So, let's make it a bit more useful:"
      ]
    },
    {
      "cell_type": "code",
      "metadata": {
        "id": "w5l2QhDe1g5G",
        "colab_type": "code",
        "colab": {
          "base_uri": "https://localhost:8080/",
          "height": 119
        },
        "outputId": "bfaa5259-d01c-4276-83f4-1651064e05a8"
      },
      "source": [
        "f = open('prog3.py', 'w', encoding='utf-8')\n",
        "f.write(\"\"\"import argparse\n",
        "parser = argparse.ArgumentParser()\n",
        "parser.add_argument('echo', help='echo the string you use here')\n",
        "args = parser.parse_args()\n",
        "\n",
        "print(args.echo)\n",
        "\"\"\")\n",
        "f.close()\n",
        "\n",
        "!cat prog3.py"
      ],
      "execution_count": 1,
      "outputs": [
        {
          "output_type": "stream",
          "text": [
            "import argparse\n",
            "parser = argparse.ArgumentParser()\n",
            "parser.add_argument('echo', help='echo the string you use here')\n",
            "args = parser.parse_args()\n",
            "\n",
            "print(args.echo)\n"
          ],
          "name": "stdout"
        }
      ]
    },
    {
      "cell_type": "markdown",
      "metadata": {
        "id": "YV_JqcYv10iZ",
        "colab_type": "text"
      },
      "source": [
        "And we get:"
      ]
    },
    {
      "cell_type": "code",
      "metadata": {
        "id": "yktO1rxN13Kj",
        "colab_type": "code",
        "colab": {
          "base_uri": "https://localhost:8080/",
          "height": 136
        },
        "outputId": "8225ab55-398d-4056-d76f-2a2fdb8acbaf"
      },
      "source": [
        "!python prog3.py -h"
      ],
      "execution_count": 2,
      "outputs": [
        {
          "output_type": "stream",
          "text": [
            "usage: prog3.py [-h] echo\n",
            "\n",
            "positional arguments:\n",
            "  echo        echo the string you use here\n",
            "\n",
            "optional arguments:\n",
            "  -h, --help  show this help message and exit\n"
          ],
          "name": "stdout"
        }
      ]
    },
    {
      "cell_type": "markdown",
      "metadata": {
        "id": "eOuzdqyz2FoY",
        "colab_type": "text"
      },
      "source": [
        "Now, how about doing something even more useful:"
      ]
    },
    {
      "cell_type": "code",
      "metadata": {
        "id": "r92vHxnk2LBk",
        "colab_type": "code",
        "colab": {
          "base_uri": "https://localhost:8080/",
          "height": 119
        },
        "outputId": "d2ab42b8-5853-4ea4-d094-485b9d581c17"
      },
      "source": [
        "f = open('prog4.py', 'w', encoding='utf-8')\n",
        "f.write(\"\"\"import argparse\n",
        "parser = argparse.ArgumentParser()\n",
        "parser.add_argument('square', help='display a square of a given number')\n",
        "args = parser.parse_args()\n",
        "\n",
        "print(args.square ** 2)\n",
        "\"\"\")\n",
        "f.close()\n",
        "\n",
        "!cat prog4.py"
      ],
      "execution_count": 3,
      "outputs": [
        {
          "output_type": "stream",
          "text": [
            "import argparse\n",
            "parser = argparse.ArgumentParser()\n",
            "parser.add_argument('square', help='display a square of a given number')\n",
            "args = parser.parse_args()\n",
            "\n",
            "print(args.square ** 2)\n"
          ],
          "name": "stdout"
        }
      ]
    },
    {
      "cell_type": "markdown",
      "metadata": {
        "id": "geRO2zDW2dl-",
        "colab_type": "text"
      },
      "source": [
        "Following is a result of running the code:"
      ]
    },
    {
      "cell_type": "code",
      "metadata": {
        "id": "KPnNE6qf2h-D",
        "colab_type": "code",
        "colab": {
          "base_uri": "https://localhost:8080/",
          "height": 85
        },
        "outputId": "2c4be99b-271f-4773-91bc-475e0ec30fb7"
      },
      "source": [
        "!python prog4.py 4"
      ],
      "execution_count": 4,
      "outputs": [
        {
          "output_type": "stream",
          "text": [
            "Traceback (most recent call last):\n",
            "  File \"prog4.py\", line 6, in <module>\n",
            "    print(args.square ** 2)\n",
            "TypeError: unsupported operand type(s) for ** or pow(): 'str' and 'int'\n"
          ],
          "name": "stdout"
        }
      ]
    },
    {
      "cell_type": "markdown",
      "metadata": {
        "id": "D2sz-FZM2lgk",
        "colab_type": "text"
      },
      "source": [
        "That didn't go so well. That's because [argparse](#) treats the options we give it as strings, unless we tell it otherwise. So, let's tell [argparse](#) to treat that input as an integer:"
      ]
    },
    {
      "cell_type": "code",
      "metadata": {
        "id": "xZdKmv2F2uVC",
        "colab_type": "code",
        "colab": {
          "base_uri": "https://localhost:8080/",
          "height": 119
        },
        "outputId": "6d289bd3-6e5f-4ecc-b3ad-3be6c091c199"
      },
      "source": [
        "f = open('prog4.py', 'w', encoding='utf-8')\n",
        "f.write(\"\"\"import argparse\n",
        "parser = argparse.ArgumentParser()\n",
        "parser.add_argument('square', help='display a square of a given number', type=int)\n",
        "args = parser.parse_args()\n",
        "\n",
        "print(args.square ** 2)\n",
        "\"\"\")\n",
        "f.close()\n",
        "\n",
        "!cat prog4.py"
      ],
      "execution_count": 5,
      "outputs": [
        {
          "output_type": "stream",
          "text": [
            "import argparse\n",
            "parser = argparse.ArgumentParser()\n",
            "parser.add_argument('square', help='display a square of a given number', type=int)\n",
            "args = parser.parse_args()\n",
            "\n",
            "print(args.square ** 2)\n"
          ],
          "name": "stdout"
        }
      ]
    },
    {
      "cell_type": "code",
      "metadata": {
        "id": "3ldUl1xf3H5y",
        "colab_type": "code",
        "colab": {
          "base_uri": "https://localhost:8080/",
          "height": 34
        },
        "outputId": "9bb2ef59-f61d-425c-af81-dba5a35da8f3"
      },
      "source": [
        "!python prog4.py 4"
      ],
      "execution_count": 6,
      "outputs": [
        {
          "output_type": "stream",
          "text": [
            "16\n"
          ],
          "name": "stdout"
        }
      ]
    },
    {
      "cell_type": "code",
      "metadata": {
        "id": "x47YWx_L3Klo",
        "colab_type": "code",
        "colab": {
          "base_uri": "https://localhost:8080/",
          "height": 51
        },
        "outputId": "83aeeffb-8829-4504-c0cf-a825ee55fa97"
      },
      "source": [
        "!python prog4.py four"
      ],
      "execution_count": 7,
      "outputs": [
        {
          "output_type": "stream",
          "text": [
            "usage: prog4.py [-h] square\n",
            "prog4.py: error: argument square: invalid int value: 'four'\n"
          ],
          "name": "stdout"
        }
      ]
    },
    {
      "cell_type": "markdown",
      "metadata": {
        "id": "gDdKvX2e3Nuy",
        "colab_type": "text"
      },
      "source": [
        "That went well. The program now even helpfully quits on bad illegal input before proceeding."
      ]
    },
    {
      "cell_type": "markdown",
      "metadata": {
        "id": "wYxKGVHD3SJz",
        "colab_type": "text"
      },
      "source": [
        "## Introducing Optional arguments\n",
        "\n",
        "So far we have been playing with positional arguments. Let us have a look on how to add optional ones:"
      ]
    },
    {
      "cell_type": "code",
      "metadata": {
        "id": "LWXoBeIW3oPd",
        "colab_type": "code",
        "colab": {
          "base_uri": "https://localhost:8080/",
          "height": 119
        },
        "outputId": "33540934-40d1-4424-a008-8adc9fc9d179"
      },
      "source": [
        "f = open('prog5.py', 'w', encoding='utf-8')\n",
        "f.write(\"\"\"import argparse\n",
        "parser = argparse.ArgumentParser()\n",
        "parser.add_argument('--verbosity', help='increase output verbosity')\n",
        "args = parser.parse_args()\n",
        "if args.verbosity:\n",
        "  print(\"verbosity turned on\")\n",
        "\"\"\")\n",
        "f.close()\n",
        "\n",
        "!cat prog5.py"
      ],
      "execution_count": 19,
      "outputs": [
        {
          "output_type": "stream",
          "text": [
            "import argparse\n",
            "parser = argparse.ArgumentParser()\n",
            "parser.add_argument('--verbosity', help='increase output verbosity')\n",
            "args = parser.parse_args()\n",
            "if args.verbosity:\n",
            "  print(\"verbosity turned on\")\n"
          ],
          "name": "stdout"
        }
      ]
    },
    {
      "cell_type": "markdown",
      "metadata": {
        "id": "9UQSNYtU4JnM",
        "colab_type": "text"
      },
      "source": [
        "And the output:"
      ]
    },
    {
      "cell_type": "code",
      "metadata": {
        "id": "KYj04v8C5nw7",
        "colab_type": "code",
        "colab": {
          "base_uri": "https://localhost:8080/",
          "height": 34
        },
        "outputId": "db2a5f84-76c5-4a75-e7d6-c577401e8a60"
      },
      "source": [
        "!python prog5.py --verbosity 1"
      ],
      "execution_count": 17,
      "outputs": [
        {
          "output_type": "stream",
          "text": [
            "verbosity turned off\n"
          ],
          "name": "stdout"
        }
      ]
    },
    {
      "cell_type": "code",
      "metadata": {
        "id": "L0gzmIyJ5rHa",
        "colab_type": "code",
        "colab": {
          "base_uri": "https://localhost:8080/",
          "height": 51
        },
        "outputId": "a8fc197b-f5da-4e1e-f9cf-0632ff5b1cad"
      },
      "source": [
        "!python prog5.py --verbosity"
      ],
      "execution_count": 20,
      "outputs": [
        {
          "output_type": "stream",
          "text": [
            "usage: prog5.py [-h] [--verbosity VERBOSITY]\n",
            "prog5.py: error: argument --verbosity: expected one argument\n"
          ],
          "name": "stdout"
        }
      ]
    },
    {
      "cell_type": "markdown",
      "metadata": {
        "id": "SiBQbGWh7HPz",
        "colab_type": "text"
      },
      "source": [
        "Here is what is happening:\n",
        "\n",
        "- The program is written so as to display something when `--verbosity` is specified and display nothing when not.\n",
        "- To show that the option is actually optional, there is no error when running the program without it. Note that by default, if an optional argument isn't used, the relevant variable, in this case __args.verbosity__, is given `None` as a value, which is the reason it fails the truth test of the [if](#) statement.\n",
        "- The help message is a bit different.\n",
        "- When using the `--verbosity` option, one must also specify some value, any value.\n",
        "\n",
        "The above example accepts arbitrary integer values for `--verbosity`, but for our simple program, only two values are actually useful, `True` or `False`. Let's modify the code accordingly:"
      ]
    },
    {
      "cell_type": "code",
      "metadata": {
        "id": "pBvGxD_O8EQl",
        "colab_type": "code",
        "colab": {
          "base_uri": "https://localhost:8080/",
          "height": 119
        },
        "outputId": "634edbd4-7656-4484-8acb-586f7dd428bc"
      },
      "source": [
        "f = open('prog6.py', 'w', encoding='utf-8')\n",
        "f.write(\"\"\"import argparse\n",
        "parser = argparse.ArgumentParser()\n",
        "parser.add_argument('--verbose', help='increase output verbosity', action='store_true')\n",
        "args = parser.parse_args()\n",
        "if(args.verbose):\n",
        "  print('verbosity turned on')\n",
        "\"\"\")\n",
        "f.close()\n",
        "\n",
        "!cat prog6.py"
      ],
      "execution_count": 21,
      "outputs": [
        {
          "output_type": "stream",
          "text": [
            "import argparse\n",
            "parser = argparse.ArgumentParser()\n",
            "parser.add_argument('--verbose', help='increase output verbosity', action='store_true')\n",
            "args = parser.parse_args()\n",
            "if(args.verbose):\n",
            "  print('verbosity turned on')\n"
          ],
          "name": "stdout"
        }
      ]
    },
    {
      "cell_type": "code",
      "metadata": {
        "id": "a0B7F5PW8fbs",
        "colab_type": "code",
        "colab": {
          "base_uri": "https://localhost:8080/",
          "height": 34
        },
        "outputId": "2e96154b-d86f-45eb-c96c-68744aa5b2dd"
      },
      "source": [
        "!python prog6.py --verbose"
      ],
      "execution_count": 24,
      "outputs": [
        {
          "output_type": "stream",
          "text": [
            "verbosity turned on\n"
          ],
          "name": "stdout"
        }
      ]
    },
    {
      "cell_type": "code",
      "metadata": {
        "id": "XEQnlUM-8lbd",
        "colab_type": "code",
        "colab": {
          "base_uri": "https://localhost:8080/",
          "height": 51
        },
        "outputId": "dbde77e4-1da3-43d7-e815-b7d653aec6ad"
      },
      "source": [
        "!python prog6.py --verbose 1"
      ],
      "execution_count": 25,
      "outputs": [
        {
          "output_type": "stream",
          "text": [
            "usage: prog6.py [-h] [--verbose]\n",
            "prog6.py: error: unrecognized arguments: 1\n"
          ],
          "name": "stdout"
        }
      ]
    },
    {
      "cell_type": "code",
      "metadata": {
        "id": "D1Qev4N38oYq",
        "colab_type": "code",
        "colab": {
          "base_uri": "https://localhost:8080/",
          "height": 102
        },
        "outputId": "75dd445f-4060-405c-a6ca-0bb43ad0339f"
      },
      "source": [
        "!python prog6.py --help"
      ],
      "execution_count": 26,
      "outputs": [
        {
          "output_type": "stream",
          "text": [
            "usage: prog6.py [-h] [--verbose]\n",
            "\n",
            "optional arguments:\n",
            "  -h, --help  show this help message and exit\n",
            "  --verbose   increase output verbosity\n"
          ],
          "name": "stdout"
        }
      ]
    },
    {
      "cell_type": "code",
      "metadata": {
        "id": "nu-pQCNs9M3H",
        "colab_type": "code",
        "colab": {
          "base_uri": "https://localhost:8080/",
          "height": 119
        },
        "outputId": "1155e43a-7eb5-4273-ffd0-5461f62db9ea"
      },
      "source": [
        "!python prog5.py --help"
      ],
      "execution_count": 27,
      "outputs": [
        {
          "output_type": "stream",
          "text": [
            "usage: prog5.py [-h] [--verbosity VERBOSITY]\n",
            "\n",
            "optional arguments:\n",
            "  -h, --help            show this help message and exit\n",
            "  --verbosity VERBOSITY\n",
            "                        increase output verbosity\n"
          ],
          "name": "stdout"
        }
      ]
    },
    {
      "cell_type": "markdown",
      "metadata": {
        "id": "dgPU1meo8rcb",
        "colab_type": "text"
      },
      "source": [
        "Here is what is happening:\n",
        "\n",
        "- The option is now more of a flag than something that requires a value. We even changed the name of the option to match that idea. Note that we now specify a new keyword, `action`, and give it the value `\"store_true\"`. This means that, if the option is specified, assign the value `True` to __args.verbose__. Note specifying it implies `False`.\n",
        "- It complains when you specify a value, in true spirit of what flags actually are.\n",
        "- Notice the different help text."
      ]
    },
    {
      "cell_type": "code",
      "metadata": {
        "id": "LF9-WYR49HOZ",
        "colab_type": "code",
        "colab": {}
      },
      "source": [
        ""
      ],
      "execution_count": 0,
      "outputs": []
    }
  ]
}