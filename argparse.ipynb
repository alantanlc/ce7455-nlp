{
  "nbformat": 4,
  "nbformat_minor": 0,
  "metadata": {
    "kernelspec": {
      "display_name": "Python 3",
      "language": "python",
      "name": "python3"
    },
    "language_info": {
      "codemirror_mode": {
        "name": "ipython",
        "version": 3
      },
      "file_extension": ".py",
      "mimetype": "text/x-python",
      "name": "python",
      "nbconvert_exporter": "python",
      "pygments_lexer": "ipython3",
      "version": "3.7.4"
    },
    "colab": {
      "name": "argparse.ipynb",
      "provenance": [],
      "include_colab_link": true
    }
  },
  "cells": [
    {
      "cell_type": "markdown",
      "metadata": {
        "id": "view-in-github",
        "colab_type": "text"
      },
      "source": [
        "<a href=\"https://colab.research.google.com/github/alanwuha/ce7455-nlp/blob/master/argparse.ipynb\" target=\"_parent\"><img src=\"https://colab.research.google.com/assets/colab-badge.svg\" alt=\"Open In Colab\"/></a>"
      ]
    },
    {
      "cell_type": "markdown",
      "metadata": {
        "id": "I35EAS07P039",
        "colab_type": "text"
      },
      "source": [
        "# Argparse Tutorial\n",
        "\n",
        "This tutorial is intended to be a gentle introduction to [argparse](#), the recommended command-line parsing module in the Python standard library. This was written for argparse in Python 3. A few details are different in 2.x, especially some exception messages, which were improved in 3.x.\n",
        "\n",
        "```\n",
        "__Note:__ There are two other modules that fulfill the same task, namely `getopt` (an equivalent for `getopt()` from the C language) and the deprecated `optparse`. Note also that `argparse` is based on `optparse`, and therefore very similar in terms of usage.\n",
        "```"
      ]
    },
    {
      "cell_type": "markdown",
      "metadata": {
        "id": "N9JHodEMQiky",
        "colab_type": "text"
      },
      "source": [
        "## Concepts\n",
        "\n",
        "Let's show the sort of functionality that we are going to explore in this introductory tutorial by making use of the __ls__ command:"
      ]
    },
    {
      "cell_type": "code",
      "metadata": {
        "id": "ISYhtREGQqBl",
        "colab_type": "code",
        "colab": {
          "base_uri": "https://localhost:8080/",
          "height": 68
        },
        "outputId": "e506fe1b-4aa9-4b97-c541-a85655663d3a"
      },
      "source": [
        "!ls\n",
        "!ls pypy\n",
        "!ls -l\n",
        "!ls --help"
      ],
      "execution_count": 3,
      "outputs": [
        {
          "output_type": "stream",
          "text": [
            "sample_data\n",
            "total 4\n",
            "drwxr-xr-x 1 root root 4096 Jan 13 16:38 sample_data\n"
          ],
          "name": "stdout"
        }
      ]
    },
    {
      "cell_type": "markdown",
      "metadata": {
        "id": "GuchC_zfQ7Vq",
        "colab_type": "text"
      },
      "source": [
        "A few concepts we can learn from the four commands:\n",
        "\n",
        "- The __ls__ command is useful when run without any options at all. It defaults to displaying the contents of the current directory.\n",
        "- If we want beyond what it provides by default, we tell it a bit more. In this case, we want it to display a different directory, `pypy`. What we did is specify what is known as a positional argument. It's named so because the progrom should know what to do with the value, solely based on where it appears on the command line. This concept is more relevant to a command like __cp__, whose most basic usage is `cp SRC DEST`. The first position is _what you want copied_, and the second position is _where you want it copied to_.\n",
        "- Now, say we want to change behaviour of the program. In our example, we display more info for each file instead of just showing the file names. The `-l` in that case is known as an optional argument.\n",
        "- That's a snippet of the help text. It's very useful in that you can come across a program you have never used before, and can figure out how it works simply by reading its help text."
      ]
    },
    {
      "cell_type": "markdown",
      "metadata": {
        "id": "1F426Q8ORtnY",
        "colab_type": "text"
      },
      "source": [
        "## The basics\n",
        "\n",
        "Let us start with a very simple example which does (almost) nothing):"
      ]
    },
    {
      "cell_type": "code",
      "metadata": {
        "id": "iH-jrGGYRycR",
        "colab_type": "code",
        "colab": {}
      },
      "source": [
        "f = open('prog.py', 'w', encoding='utf-8')\n",
        "f.write(\"\"\"import argparse\n",
        "\n",
        "parser = argparse.ArgumentParser()\n",
        "parser.parse_args()\n",
        "\"\"\")\n",
        "f.close()"
      ],
      "execution_count": 0,
      "outputs": []
    },
    {
      "cell_type": "code",
      "metadata": {
        "id": "MXzwbA9BSTce",
        "colab_type": "code",
        "colab": {
          "base_uri": "https://localhost:8080/",
          "height": 85
        },
        "outputId": "6fb2b561-0e1d-44da-cf9f-2992b770948c"
      },
      "source": [
        "!cat prog.py"
      ],
      "execution_count": 9,
      "outputs": [
        {
          "output_type": "stream",
          "text": [
            "import argparse\n",
            "\n",
            "parser = argparse.ArgumentParser()\n",
            "parser.parse_args()\n"
          ],
          "name": "stdout"
        }
      ]
    },
    {
      "cell_type": "markdown",
      "metadata": {
        "id": "ZBKS00y4R4vz",
        "colab_type": "text"
      },
      "source": [
        "Following is a result of running the code:"
      ]
    },
    {
      "cell_type": "code",
      "metadata": {
        "id": "UgP7_iM2SxCh",
        "colab_type": "code",
        "colab": {}
      },
      "source": [
        "!python prog.py"
      ],
      "execution_count": 0,
      "outputs": []
    },
    {
      "cell_type": "code",
      "metadata": {
        "id": "h0FJ7_j_TYOq",
        "colab_type": "code",
        "colab": {
          "base_uri": "https://localhost:8080/",
          "height": 85
        },
        "outputId": "9cd238a2-0435-4e64-9276-b2e40e7bd6cc"
      },
      "source": [
        "!python prog.py --help"
      ],
      "execution_count": 11,
      "outputs": [
        {
          "output_type": "stream",
          "text": [
            "usage: prog.py [-h]\n",
            "\n",
            "optional arguments:\n",
            "  -h, --help  show this help message and exit\n"
          ],
          "name": "stdout"
        }
      ]
    },
    {
      "cell_type": "code",
      "metadata": {
        "id": "3wfTPbECTht4",
        "colab_type": "code",
        "colab": {
          "base_uri": "https://localhost:8080/",
          "height": 51
        },
        "outputId": "f2203016-e00e-46d9-eb8b-e0fb5b7d372e"
      },
      "source": [
        "!python prog.py --verbose"
      ],
      "execution_count": 12,
      "outputs": [
        {
          "output_type": "stream",
          "text": [
            "usage: prog.py [-h]\n",
            "prog.py: error: unrecognized arguments: --verbose\n"
          ],
          "name": "stdout"
        }
      ]
    },
    {
      "cell_type": "code",
      "metadata": {
        "id": "iae_yfgvTmIw",
        "colab_type": "code",
        "colab": {
          "base_uri": "https://localhost:8080/",
          "height": 51
        },
        "outputId": "c6949e82-09cf-4bea-9782-edae46343bff"
      },
      "source": [
        "!python prog.py foo"
      ],
      "execution_count": 13,
      "outputs": [
        {
          "output_type": "stream",
          "text": [
            "usage: prog.py [-h]\n",
            "prog.py: error: unrecognized arguments: foo\n"
          ],
          "name": "stdout"
        }
      ]
    },
    {
      "cell_type": "markdown",
      "metadata": {
        "id": "Y4p-Xez-Tnqi",
        "colab_type": "text"
      },
      "source": [
        "Here is what is happening:\n",
        "\n",
        "- Running the script without any options results in nothing displayed to stdout. Not so useful.\n",
        "- The second one starts to display the usefulness of the `argparse` module. We have done almost nothing, but already we get a nice help message.\n",
        "- The `--help` option, which can also be shortened to `-h`, is the only option we get for free (i.e. no need to specify it). Specifying anything else results in an error. But even then, we do get a useful usage message, also for free."
      ]
    },
    {
      "cell_type": "markdown",
      "metadata": {
        "id": "jqj_fScMVMRN",
        "colab_type": "text"
      },
      "source": [
        "## Introducing Positional arguments"
      ]
    },
    {
      "cell_type": "markdown",
      "metadata": {
        "id": "L9HiM-Y6VkCn",
        "colab_type": "text"
      },
      "source": [
        "An example:"
      ]
    },
    {
      "cell_type": "code",
      "metadata": {
        "id": "q8fzv1AzVnMn",
        "colab_type": "code",
        "colab": {}
      },
      "source": [
        "f = open('prog2.py', 'w', encoding='utf-8')\n",
        "f.write(\"\"\"import argparse\n",
        "parser = argparse.ArgumentParser()\n",
        "parser.add_argument(\"echo\")\n",
        "args = parser.parse_args()\n",
        "print(args.echo)\"\"\")\n",
        "f.close()"
      ],
      "execution_count": 0,
      "outputs": []
    },
    {
      "cell_type": "code",
      "metadata": {
        "id": "MpGfziEMV_LH",
        "colab_type": "code",
        "colab": {
          "base_uri": "https://localhost:8080/",
          "height": 102
        },
        "outputId": "2a590147-0b5f-4a85-e684-cc5dff0ba428"
      },
      "source": [
        "!cat prog2.py"
      ],
      "execution_count": 16,
      "outputs": [
        {
          "output_type": "stream",
          "text": [
            "import argparse\n",
            "parser = argparse.ArgumentParser()\n",
            "parser.add_argument(\"echo\")\n",
            "args = parser.parse_args()\n",
            "print(args.echo)"
          ],
          "name": "stdout"
        }
      ]
    },
    {
      "cell_type": "markdown",
      "metadata": {
        "id": "CGJBFQnDWDZN",
        "colab_type": "text"
      },
      "source": [
        "And running the code:"
      ]
    },
    {
      "cell_type": "code",
      "metadata": {
        "id": "mOWQ_VjxWHPE",
        "colab_type": "code",
        "colab": {
          "base_uri": "https://localhost:8080/",
          "height": 51
        },
        "outputId": "f7afafff-82a0-4be1-d83f-b2986f41040e"
      },
      "source": [
        "!python prog2.py"
      ],
      "execution_count": 19,
      "outputs": [
        {
          "output_type": "stream",
          "text": [
            "usage: prog2.py [-h] echo\n",
            "prog2.py: error: the following arguments are required: echo\n"
          ],
          "name": "stdout"
        }
      ]
    },
    {
      "cell_type": "code",
      "metadata": {
        "id": "e72ItF7KWLh1",
        "colab_type": "code",
        "colab": {
          "base_uri": "https://localhost:8080/",
          "height": 136
        },
        "outputId": "ed6ffb5d-5c4b-41aa-9851-1e03f4a156cf"
      },
      "source": [
        "!python prog2.py --help"
      ],
      "execution_count": 20,
      "outputs": [
        {
          "output_type": "stream",
          "text": [
            "usage: prog2.py [-h] echo\n",
            "\n",
            "positional arguments:\n",
            "  echo\n",
            "\n",
            "optional arguments:\n",
            "  -h, --help  show this help message and exit\n"
          ],
          "name": "stdout"
        }
      ]
    },
    {
      "cell_type": "code",
      "metadata": {
        "id": "LJupsvw3WToF",
        "colab_type": "code",
        "colab": {
          "base_uri": "https://localhost:8080/",
          "height": 34
        },
        "outputId": "95a957f7-2276-44f8-f85f-da82b19d0927"
      },
      "source": [
        "!python prog2.py foo"
      ],
      "execution_count": 23,
      "outputs": [
        {
          "output_type": "stream",
          "text": [
            "foo\n"
          ],
          "name": "stdout"
        }
      ]
    },
    {
      "cell_type": "markdown",
      "metadata": {
        "id": "OmiKoIuxWh9V",
        "colab_type": "text"
      },
      "source": [
        "Here is what's happening:\n",
        "\n",
        "- We've added the __add_argument()__ method, which is what we use to specify which command-line options the program is willing to accept. In this case, I've named it `echo` so that it's in line with its function.\n",
        "- Calling our program now requires us to specify an option.\n",
        "- The __parse_args()__ method actually returns some data from the options specified, in thie case, `echo`.\n",
        "- The variable is some form of 'magic' that `argparse` performs for free (i.e. no need to specify which variable that value is stored in). You will also notice that its name matches the string argument given to the method, `echo`.\n",
        "\n",
        "Note however that, although the help display looks nice and all, it currently is not as helpful as it can be. For example we see that we got `echo` as a positional argument, but we don't know what i does, other than by guessing or by reading the source code. So, let's make it a bit more useful:"
      ]
    },
    {
      "cell_type": "code",
      "metadata": {
        "id": "DsCG4JpDYfKW",
        "colab_type": "code",
        "colab": {}
      },
      "source": [
        ""
      ],
      "execution_count": 0,
      "outputs": []
    }
  ]
}