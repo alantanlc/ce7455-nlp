{
  "nbformat": 4,
  "nbformat_minor": 0,
  "metadata": {
    "kernelspec": {
      "name": "python3",
      "display_name": "Python 3"
    },
    "language_info": {
      "codemirror_mode": {
        "name": "ipython",
        "version": 3
      },
      "file_extension": ".py",
      "mimetype": "text/x-python",
      "name": "python",
      "nbconvert_exporter": "python",
      "pygments_lexer": "ipython3",
      "version": "3.7.4"
    },
    "colab": {
      "name": "mnist-neural-nets.ipynb",
      "provenance": [],
      "include_colab_link": true
    },
    "accelerator": "GPU"
  },
  "cells": [
    {
      "cell_type": "markdown",
      "metadata": {
        "id": "view-in-github",
        "colab_type": "text"
      },
      "source": [
        "<a href=\"https://colab.research.google.com/github/alanwuha/ce7455-nlp/blob/master/mnist-neural-nets.ipynb\" target=\"_parent\"><img src=\"https://colab.research.google.com/assets/colab-badge.svg\" alt=\"Open In Colab\"/></a>"
      ]
    },
    {
      "cell_type": "markdown",
      "metadata": {
        "id": "sdDDYmu8Xey4",
        "colab_type": "text"
      },
      "source": [
        "# Train a simple MNIST Neural nets\n",
        "\n",
        "Let's train a simple neural network to classify MNIST hand-written digit."
      ]
    },
    {
      "cell_type": "markdown",
      "metadata": {
        "id": "hiwpNSpJXuOt",
        "colab_type": "text"
      },
      "source": [
        "### 1. Download the dataset"
      ]
    },
    {
      "cell_type": "code",
      "metadata": {
        "id": "NWhScPQDXwJR",
        "colab_type": "code",
        "colab": {}
      },
      "source": [
        "import torch\n",
        "import torch.nn as nn\n",
        "import torchvision\n",
        "import torchvision.transforms as transforms\n",
        "import matplotlib.pyplot as plt\n",
        "\n",
        "# Device configuration\n",
        "device = torch.device('cuda' if torch.cuda.is_available() else 'cpu')\n",
        "\n",
        "# Hyper-parameters\n",
        "input_size = 784\n",
        "hidden_size = 500\n",
        "num_classes = 10\n",
        "num_epochs = 5\n",
        "batch_size = 100\n",
        "learning_rate = 0.001\n",
        "\n",
        "# MNIST dataset\n",
        "train_dataset = torchvision.datasets.MNIST(root='.',\n",
        "                                           train=True,\n",
        "                                           transform=transforms.ToTensor(),\n",
        "                                           download=True)\n",
        "\n",
        "test_dataset = torchvision.datasets.MNIST(root='.',\n",
        "                                          train=False,\n",
        "                                          transform=transforms.ToTensor())\n",
        "\n",
        "# Data loader\n",
        "train_loader = torch.utils.data.DataLoader(dataset=train_dataset,\n",
        "                                           batch_size=batch_size,\n",
        "                                           shuffle=True)\n",
        "\n",
        "test_loader = torch.utils.data.DataLoader(dataset=test_dataset,\n",
        "                                          batch_size=batch_size,\n",
        "                                          shuffle=False)"
      ],
      "execution_count": 0,
      "outputs": []
    },
    {
      "cell_type": "code",
      "metadata": {
        "id": "-pMgRfQoYsKN",
        "colab_type": "code",
        "colab": {
          "base_uri": "https://localhost:8080/",
          "height": 299
        },
        "outputId": "ed37b1aa-5cd0-4b87-e70c-ac5ae54d0d07"
      },
      "source": [
        "image, label = test_dataset[0]\n",
        "# reduce bath=1 to no batch\n",
        "image = image[0]\n",
        "print(f'{image.size()}, Label: {label}')\n",
        "plt.imshow(image)"
      ],
      "execution_count": 9,
      "outputs": [
        {
          "output_type": "stream",
          "text": [
            "torch.Size([28, 28]), Label: 7\n"
          ],
          "name": "stdout"
        },
        {
          "output_type": "execute_result",
          "data": {
            "text/plain": [
              "<matplotlib.image.AxesImage at 0x7f68957ec2e8>"
            ]
          },
          "metadata": {
            "tags": []
          },
          "execution_count": 9
        },
        {
          "output_type": "display_data",
          "data": {
            "image/png": "[encoded data removed]",
            "text/plain": [
              "<Figure size 432x288 with 1 Axes>"
            ]
          },
          "metadata": {
            "tags": []
          }
        }
      ]
    },
    {
      "cell_type": "markdown",
      "metadata": {
        "id": "q9WD9f11ZGKG",
        "colab_type": "text"
      },
      "source": [
        "### 2. Initiate the Neural Network (multi-layer perceptron)\n",
        "\n",
        "The network has 2 layers, with ReLu activation in between."
      ]
    },
    {
      "cell_type": "code",
      "metadata": {
        "id": "VXBwW6plZNVB",
        "colab_type": "code",
        "colab": {}
      },
      "source": [
        "# Device configuration\n",
        "device = torch.device('cuda' if torch.cuda.is_available() else 'cpu')\n",
        "\n",
        "# Hyper-parameters\n",
        "input_size = 784\n",
        "hidden_size = 500\n",
        "num_classes = 10\n",
        "num_epochs = 5\n",
        "batch_size = 100\n",
        "learning_rate = 0.001\n",
        "\n",
        "# Fully connected neural network with one hidden layer\n",
        "class NeuralNet(nn.Module):\n",
        "  def __init__(self, input_size, hidden_size, num_classes):\n",
        "    super(NeuralNet, self).__init__()\n",
        "    self.fc1 = nn.Linear(input_size, hidden_size)\n",
        "    self.relu = nn.ReLU()\n",
        "    self.fc2 = nn.Linear(hidden_size, num_classes)\n",
        "\n",
        "  def forward(self, x):\n",
        "    out = self.fc1(x)\n",
        "    out = self.relu(out)\n",
        "    out = self.fc2(out)\n",
        "    return out\n",
        "\n",
        "model = NeuralNet(input_size, hidden_size, num_classes).to(device)"
      ],
      "execution_count": 0,
      "outputs": []
    },
    {
      "cell_type": "markdown",
      "metadata": {
        "id": "0JPZFHnBaK2K",
        "colab_type": "text"
      },
      "source": [
        "### 3. Train the network"
      ]
    },
    {
      "cell_type": "code",
      "metadata": {
        "id": "b7WU5eQ1afSR",
        "colab_type": "code",
        "colab": {
          "base_uri": "https://localhost:8080/",
          "height": 527
        },
        "outputId": "606bcbfe-2c17-44fc-e587-3a4d775633db"
      },
      "source": [
        "# Loss and optimizer\n",
        "criterion = nn.CrossEntropyLoss()\n",
        "optimizer = torch.optim.Adam(model.parameters(), lr=learning_rate)\n",
        "\n",
        "# Train the model\n",
        "total_step = len(train_loader)\n",
        "for epoch in range(num_epochs):\n",
        "  for i, (images, labels) in enumerate(train_loader):\n",
        "    # Move tensors to the configured device\n",
        "    images = images.reshape(-1, 28*28).to(device)\n",
        "    labels = labels.to(device)\n",
        "\n",
        "    # Forward pass\n",
        "    outputs = model(images)\n",
        "    loss = criterion(outputs, labels)\n",
        "\n",
        "    # Backward and optimize\n",
        "    optimizer.zero_grad()\n",
        "    loss.backward()\n",
        "    optimizer.step()\n",
        "\n",
        "    if (i+1) % 100 == 0:\n",
        "      print('Epoch [{}/{}], Step [{}/{}], Loss: {:.4f}'\n",
        "            .format(epoch+1, num_epochs, i+1, total_step, loss.item()))"
      ],
      "execution_count": 15,
      "outputs": [
        {
          "output_type": "stream",
          "text": [
            "Epoch [1/5], Step [100/600], Loss: 0.0105\n",
            "Epoch [1/5], Step [200/600], Loss: 0.0133\n",
            "Epoch [1/5], Step [300/600], Loss: 0.0119\n",
            "Epoch [1/5], Step [400/600], Loss: 0.0022\n",
            "Epoch [1/5], Step [500/600], Loss: 0.0144\n",
            "Epoch [1/5], Step [600/600], Loss: 0.0458\n",
            "Epoch [2/5], Step [100/600], Loss: 0.0173\n",
            "Epoch [2/5], Step [200/600], Loss: 0.0046\n",
            "Epoch [2/5], Step [300/600], Loss: 0.0008\n",
            "Epoch [2/5], Step [400/600], Loss: 0.0099\n",
            "Epoch [2/5], Step [500/600], Loss: 0.0057\n",
            "Epoch [2/5], Step [600/600], Loss: 0.0240\n",
            "Epoch [3/5], Step [100/600], Loss: 0.0011\n",
            "Epoch [3/5], Step [200/600], Loss: 0.0173\n",
            "Epoch [3/5], Step [300/600], Loss: 0.0090\n",
            "Epoch [3/5], Step [400/600], Loss: 0.0007\n",
            "Epoch [3/5], Step [500/600], Loss: 0.0020\n",
            "Epoch [3/5], Step [600/600], Loss: 0.0038\n",
            "Epoch [4/5], Step [100/600], Loss: 0.0014\n",
            "Epoch [4/5], Step [200/600], Loss: 0.0044\n",
            "Epoch [4/5], Step [300/600], Loss: 0.0040\n",
            "Epoch [4/5], Step [400/600], Loss: 0.0026\n",
            "Epoch [4/5], Step [500/600], Loss: 0.0090\n",
            "Epoch [4/5], Step [600/600], Loss: 0.0030\n",
            "Epoch [5/5], Step [100/600], Loss: 0.0051\n",
            "Epoch [5/5], Step [200/600], Loss: 0.0129\n",
            "Epoch [5/5], Step [300/600], Loss: 0.0094\n",
            "Epoch [5/5], Step [400/600], Loss: 0.0041\n",
            "Epoch [5/5], Step [500/600], Loss: 0.0011\n",
            "Epoch [5/5], Step [600/600], Loss: 0.0010\n"
          ],
          "name": "stdout"
        }
      ]
    },
    {
      "cell_type": "markdown",
      "metadata": {
        "id": "U3yvtwiJbVA6",
        "colab_type": "text"
      },
      "source": [
        "### 4. Test the network"
      ]
    },
    {
      "cell_type": "code",
      "metadata": {
        "id": "QWW_wUjxbXjo",
        "colab_type": "code",
        "colab": {
          "base_uri": "https://localhost:8080/",
          "height": 34
        },
        "outputId": "18d65f8c-dece-44d1-e6ba-b5f2f7e840b9"
      },
      "source": [
        "# Test the model\n",
        "# In test phase, we don't need to compute gradients (for memory efficiency)\n",
        "with torch.no_grad():\n",
        "  correct = 0\n",
        "  total = 0\n",
        "  for images, labels in test_loader:\n",
        "    images = images.reshape(-1, 28*28).to(device)\n",
        "    labels = labels.to(device)\n",
        "    outputs = model(images)\n",
        "    _, predicted = torch.max(outputs.data, 1)\n",
        "    total += labels.size(0)\n",
        "    correct += (predicted == labels).sum().item()\n",
        "\n",
        "  print('Accuracy of the network on the 10000 test images: {} %'.format(100 * correct / total))\n",
        "\n",
        "# Save the model checkpoint\n",
        "torch.save(model.state_dict(), 'model.pt')"
      ],
      "execution_count": 16,
      "outputs": [
        {
          "output_type": "stream",
          "text": [
            "Accuracy of the network on the 10000 test images: 98.28 %\n"
          ],
          "name": "stdout"
        }
      ]
    }
  ]
}